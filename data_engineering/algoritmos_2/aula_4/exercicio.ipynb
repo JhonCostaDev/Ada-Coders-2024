{
 "cells": [
  {
   "cell_type": "markdown",
   "metadata": {},
   "source": [
    "1) Faça uma função que recebe um texto e um letra e retorne a quantidade daquela letra naquele texto (ignore diferenças de capitalização, 'A' e 'a' são a mesma letra)"
   ]
  },
  {
   "cell_type": "code",
   "execution_count": 12,
   "metadata": {},
   "outputs": [
    {
     "data": {
      "text/plain": [
       "24"
      ]
     },
     "execution_count": 12,
     "metadata": {},
     "output_type": "execute_result"
    }
   ],
   "source": [
    "#TODO: conta letra com filter\n",
    "\n",
    "def conta_letra(texto, letra):\n",
    "    return texto.lower().count(letra.lower())\n",
    "    \n",
    "        \n",
    "frase = \"Imagination is more important than knowledge. For knowledge is limited, whereas imagination embraces the entire world, stimulating progress, giving birth to evolution. - Albert Einstein\"\n",
    "\n",
    "conta_letra(frase, ' ')"
   ]
  },
  {
   "cell_type": "markdown",
   "metadata": {},
   "source": [
    "2) Faça uma função que recebe uma string e retorna ela ao contrário."
   ]
  },
  {
   "cell_type": "code",
   "execution_count": 13,
   "metadata": {},
   "outputs": [
    {
     "data": {
      "text/plain": [
       "'nietsniE treblA - .noitulove ot htrib gnivig ,ssergorp gnitalumits ,dlrow eritne eht secarbme noitanigami saerehw ,detimil si egdelwonk roF .egdelwonk naht tnatropmi erom si noitanigamI'"
      ]
     },
     "execution_count": 13,
     "metadata": {},
     "output_type": "execute_result"
    }
   ],
   "source": [
    "def inverte(string):\n",
    "    return string[::-1]\n",
    "\n",
    "inverte(frase)"
   ]
  },
  {
   "cell_type": "markdown",
   "metadata": {},
   "source": [
    "3 - Agora faça uma função que recebe uma palavra e diz se ela é um palíndromo, ou seja, se ela é igual a ela mesma ao contrário.\n",
    "\n",
    "Sugestão: use a função do exercício anterior."
   ]
  },
  {
   "cell_type": "code",
   "execution_count": 26,
   "metadata": {},
   "outputs": [
    {
     "data": {
      "text/plain": [
       "'Não é palíndromo'"
      ]
     },
     "execution_count": 26,
     "metadata": {},
     "output_type": "execute_result"
    }
   ],
   "source": [
    "def palindromo(palavra):\n",
    "    return 'É um palíndromo' if palavra.lower() == inverte(palavra).lower() else 'Não é palíndromo'\n",
    "    \n",
    "palindromo('1010')"
   ]
  },
  {
   "cell_type": "markdown",
   "metadata": {},
   "source": [
    "4) Faça uma função max lista que faz a mesma coisa que a funcão max faz ao receber uma lista"
   ]
  },
  {
   "cell_type": "code",
   "execution_count": 29,
   "metadata": {},
   "outputs": [
    {
     "data": {
      "text/plain": [
       "45"
      ]
     },
     "execution_count": 29,
     "metadata": {},
     "output_type": "execute_result"
    }
   ],
   "source": [
    "def maior_numero(lista):\n",
    "    maior = lista[0]\n",
    "    for numero in lista:\n",
    "        if numero > maior:\n",
    "            maior = numero\n",
    "    return maior\n",
    "\n",
    "numeros = [ 23, 7, 45, 12, 38, 29, 5, 41, 16, 34 ]\n",
    "numeros_vazia = [] \n",
    "\n",
    "maior_numero(numeros)"
   ]
  },
  {
   "cell_type": "code",
   "execution_count": 33,
   "metadata": {},
   "outputs": [
    {
     "data": {
      "text/plain": [
       "1"
      ]
     },
     "execution_count": 33,
     "metadata": {},
     "output_type": "execute_result"
    }
   ],
   "source": [
    "# Tratamento para lista vazia\n",
    "\n",
    "def maior_numero(lista):\n",
    "    if len(lista) < 1:\n",
    "        return 'Lista vazia'\n",
    "\n",
    "    \n",
    "    maior = lista[0]\n",
    "    for numero in lista:\n",
    "        if numero > maior:\n",
    "            maior = numero\n",
    "    return maior\n",
    "\n",
    "numeros = [ 23, 7, 45, 12, 38, 29, 5, 41, 16, 34 ]\n",
    "numeros_vazia = [1] \n",
    "\n",
    "maior_numero(numeros_vazia)"
   ]
  }
 ],
 "metadata": {
  "kernelspec": {
   "display_name": ".venv",
   "language": "python",
   "name": "python3"
  },
  "language_info": {
   "codemirror_mode": {
    "name": "ipython",
    "version": 3
   },
   "file_extension": ".py",
   "mimetype": "text/x-python",
   "name": "python",
   "nbconvert_exporter": "python",
   "pygments_lexer": "ipython3",
   "version": "3.12.3"
  }
 },
 "nbformat": 4,
 "nbformat_minor": 2
}
