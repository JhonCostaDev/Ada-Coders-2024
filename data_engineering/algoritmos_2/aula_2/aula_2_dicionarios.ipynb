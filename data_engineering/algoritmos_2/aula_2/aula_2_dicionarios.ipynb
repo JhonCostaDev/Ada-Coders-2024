{
 "cells": [
  {
   "cell_type": "markdown",
   "metadata": {},
   "source": [
    "# DICIONÁRIOS - 02 de agosto de 2024\n",
    "\n",
    "### Dicionários: Diferenças e similaridades para o seu xará mais conhecido\n",
    "\n",
    "Dicionários também podem ser pensados analogamente a listas, mas não pensaremos mais no conceito de index e sim em palavras-chave. Assim como um dicionário real possui palavras e suas definições, um dicionário em Python também! Entretanto devemos nos atentar que um dicionário não pode ter duas definições para uma mesma palavra (mas pode ter uma definição única definida por uma lista!)\n",
    "\n",
    "Dicionários são declarados entre chaves, e acessados com colchetes (usando as palavras-chave e não as indexes) ou com a função get() usando a palavra-chave como parâmetro. Além disso com a função keys() podemos listar todas as palavras-chave de um dado dicionário.\n",
    "\n",
    "Dicionários são usados para guardar dados na forma de pares de chave-valor\n",
    "dicionario = {chave : valor} / {key : value}\n",
    "\n",
    "Na versão 3.7 do python, dicionários são ordenados, anterior a esta versão, não são ordenados."
   ]
  },
  {
   "cell_type": "code",
   "execution_count": 2,
   "metadata": {},
   "outputs": [
    {
     "name": "stdout",
     "output_type": "stream",
     "text": [
      "Ford\n",
      "Mustang\n"
     ]
    }
   ],
   "source": [
    "# example w3 school\n",
    "thisdict = {\n",
    "  \"brand\": \"Ford\",\n",
    "  \"model\": \"Mustang\",\n",
    "  \"year\": 1964\n",
    "}\n",
    "print(thisdict[\"brand\"])\n",
    "print(thisdict.get('model'))"
   ]
  },
  {
   "cell_type": "markdown",
   "metadata": {},
   "source": [
    "### Duplicações não são permitidas"
   ]
  },
  {
   "cell_type": "code",
   "execution_count": 7,
   "metadata": {},
   "outputs": [
    {
     "data": {
      "text/plain": [
       "{'brand': 'Ford', 'model': 'Mustang', 'year': 1934}"
      ]
     },
     "execution_count": 7,
     "metadata": {},
     "output_type": "execute_result"
    }
   ],
   "source": [
    "# example w3 school\n",
    "thisdict1 = {\n",
    "  \"brand\": \"Ford\",\n",
    "  \"model\": \"Mustang\",\n",
    "  \"year\": 1964,\n",
    "  \"year\": 1934 # unico valor que será lido\n",
    "}\n",
    "thisdict1"
   ]
  },
  {
   "cell_type": "markdown",
   "metadata": {},
   "source": [
    "## Tamanho de um dicionário com a função len() "
   ]
  },
  {
   "cell_type": "code",
   "execution_count": 8,
   "metadata": {},
   "outputs": [
    {
     "data": {
      "text/plain": [
       "3"
      ]
     },
     "execution_count": 8,
     "metadata": {},
     "output_type": "execute_result"
    }
   ],
   "source": [
    "len(thisdict1)"
   ]
  },
  {
   "cell_type": "markdown",
   "metadata": {},
   "source": [
    "## Tipos em um Dicionário\n",
    "\n",
    "O valor dos itemd de um dicionário podem ser de qualquer tipo - (String, int, float, boolean, list, tuple)"
   ]
  },
  {
   "cell_type": "code",
   "execution_count": 35,
   "metadata": {},
   "outputs": [],
   "source": [
    "carro = {\n",
    "    'marca' : \"volks\",\n",
    "    'modelo' : \"gol\",\n",
    "    'fabricacao' : 1999,\n",
    "    'cores_disponiveis' : ['azul','branco','vermelho', 'preto']\n",
    "}"
   ]
  },
  {
   "cell_type": "code",
   "execution_count": 9,
   "metadata": {},
   "outputs": [
    {
     "data": {
      "text/plain": [
       "dict"
      ]
     },
     "execution_count": 9,
     "metadata": {},
     "output_type": "execute_result"
    }
   ],
   "source": [
    "cliente = {\n",
    "    'nome': 'antonio',\n",
    "    'idade': 30,\n",
    "    'altura': 1.75,\n",
    "    'peso': 89.5,\n",
    "    'habilitado': True,\n",
    "    'Casado': False\n",
    "}\n",
    "type(cliente)"
   ]
  },
  {
   "cell_type": "code",
   "execution_count": 1,
   "metadata": {},
   "outputs": [
    {
     "data": {
      "text/plain": [
       "{'nome': 'lucas',\n",
       " 'idade': 50,\n",
       " 'profissao': 'empresario',\n",
       " 'filhos': ['joao', 'maria', 'jose']}"
      ]
     },
     "execution_count": 1,
     "metadata": {},
     "output_type": "execute_result"
    }
   ],
   "source": [
    "pessoa = {\n",
    "    \"nome\": \"lucas\",\n",
    "    \"idade\" : 50,\n",
    "    \"profissao\" : \"empresario\",\n",
    "    \"filhos\" : [\"joao\", \"maria\", \"jose\"]\n",
    "}\n",
    "pessoa"
   ]
  },
  {
   "cell_type": "markdown",
   "metadata": {},
   "source": [
    "## Fromkeys\n",
    "O método fromkeys() retorna um dicionário com chaves e valores específicos.\n",
    "\n",
    "* Sintaxe = dict.fromkeys(chave, valor), sendo a chave obrigatória (pode ser um iterável), e valor opcional"
   ]
  },
  {
   "cell_type": "code",
   "execution_count": 11,
   "metadata": {},
   "outputs": [
    {
     "data": {
      "text/plain": [
       "{'nome': None, 'idade': None, 'altura': None}"
      ]
     },
     "execution_count": 11,
     "metadata": {},
     "output_type": "execute_result"
    }
   ],
   "source": [
    "campos = ('nome', 'idade', 'altura')\n",
    "novo_dicionario = dict.fromkeys(campos)\n",
    "\n",
    "novo_dicionario"
   ]
  },
  {
   "cell_type": "code",
   "execution_count": 13,
   "metadata": {},
   "outputs": [
    {
     "data": {
      "text/plain": [
       "{'nome': 'jhon', 'idade': 10, 'altura': 1.9}"
      ]
     },
     "execution_count": 13,
     "metadata": {},
     "output_type": "execute_result"
    }
   ],
   "source": [
    "novo_dicionario['nome'] = 'jhon'\n",
    "novo_dicionario['idade'] = 10\n",
    "novo_dicionario['altura'] = 1.9\n",
    "novo_dicionario"
   ]
  },
  {
   "cell_type": "code",
   "execution_count": 1,
   "metadata": {},
   "outputs": [
    {
     "data": {
      "text/plain": [
       "{'chave1': 'valor_unico',\n",
       " 'chave2': 'valor_unico',\n",
       " 'chave3': 'valor_unico',\n",
       " 'chave4': 'valor_unico'}"
      ]
     },
     "execution_count": 1,
     "metadata": {},
     "output_type": "execute_result"
    }
   ],
   "source": [
    "dicionario = {}\n",
    "\n",
    "#método fromkeys\n",
    "\n",
    "dicionario = dicionario.fromkeys([\"chave1\", \"chave2\", \"chave3\", \"chave4\",], \"valor_unico\")\n",
    "\n",
    "dicionario\n"
   ]
  },
  {
   "cell_type": "markdown",
   "metadata": {},
   "source": [
    "### atribuindo valores\n",
    "\n",
    "Podemos adicionar itens de um dicionário usando **nomeDic[\"novaPalavraChave\"] = valor**, podemos atualizar da mesma maneira mas usando uma palavra-chave já existente, ou mesmo usar o método update() com o parâmetro **{\"palavraChave\": novoValor}**. \n",
    "\n",
    "Já para apagar itens temos várias maneiras: podemos usar o método **pop()** com a palavra-chave a ser deletada como parâmetro, ou o método **popitem()** para deletar o último item, ou mesmo a **del** dicionario[\"chaveParaDeletar\"], por fim temos o método **clear()** que limpa o dicionário todo."
   ]
  },
  {
   "cell_type": "code",
   "execution_count": 15,
   "metadata": {},
   "outputs": [],
   "source": [
    "games_favoritos = {\n",
    "    'Call of Duty': {\n",
    "    \"Call of Duty\": 2003,\n",
    "    \"Call of Duty: United Offensive\": 2004,\n",
    "    \"Call of Duty: Finest Hour\": 2004,\n",
    "    \"Call of Duty 2\": 2005,\n",
    "    \"Call of Duty 2: Big Red One\": 2005,\n",
    "    \"Call of Duty 3\": 2006,\n",
    "    \"Call of Duty 4: Modern Warfare\": 2007,\n",
    "    \"Call of Duty: World at War\": 2008,\n",
    "    \"Call of Duty: Modern Warfare 2\": 2009,\n",
    "    \"Call of Duty: Black Ops\": 2010,\n",
    "    \"Call of Duty: Modern Warfare 3\": 2011,\n",
    "    \"Call of Duty: Black Ops II\": 2012,\n",
    "    \"Call of Duty: Ghosts\": 2013,\n",
    "    \"Call of Duty: Advanced Warfare\": 2014,\n",
    "    \"Call of Duty: Black Ops III\": 2015,\n",
    "    \"Call of Duty: Infinite Warfare\": 2016,\n",
    "    \"Call of Duty: WWII\": 2017,\n",
    "    \"Call of Duty: Black Ops 4\": 2018,\n",
    "    \"Call of Duty: Modern Warfare\": 2019,\n",
    "    \"Call of Duty: Warzone\": 2020,\n",
    "    \"Call of Duty: Black Ops Cold War\": 2020,\n",
    "    \"Call of Duty: Vanguard\": 2021,\n",
    "    \"Call of Duty: Modern Warfare II\": 2022,\n",
    "    \"Call of Duty: Warzone 2\": 2022,\n",
    "    \"Call of Duty: Modern Warfare III\": 2023,\n",
    "    \"Call of Duty: Black Ops 6\": 2024\n",
    "                    },\n",
    "    \"Assassin's Creed\": {\n",
    "    \"Assassin's Creed\": 2007,\n",
    "    \"Assassin's Creed: Altaïr's Chronicles\": 2008,\n",
    "    \"Assassin's Creed II\": 2009,\n",
    "    \"Assassin's Creed: Bloodlines\": 2009,\n",
    "    \"Assassin's Creed II: Discovery\": 2009,\n",
    "    \"Assassin's Creed: Brotherhood\": 2010,\n",
    "    \"Assassin's Creed: Revelations\": 2011,\n",
    "    \"Assassin's Creed III\": 2012,\n",
    "    \"Assassin's Creed III: Liberation\": 2012,\n",
    "    \"Assassin's Creed IV: Black Flag\": 2013,\n",
    "    \"Assassin's Creed: Freedom Cry\": 2013,\n",
    "    \"Assassin's Creed: Rogue\": 2014,\n",
    "    \"Assassin's Creed: Unity\": 2014,\n",
    "    \"Assassin's Creed: Syndicate\": 2015,\n",
    "    \"Assassin's Creed: Chronicles\": 2015,\n",
    "    \"Assassin's Creed: Identity\": 2016,\n",
    "    \"Assassin's Creed: Origins\": 2017,\n",
    "    \"Assassin's Creed: Odyssey\": 2018,\n",
    "    \"Assassin's Creed: Valhalla\": 2020,\n",
    "    \"Assassin's Creed: Mirage\": 2023,\n",
    "    \"Assassin's Creed: Nexus VR\": 2023,\n",
    "    \"Assassin's Creed: Shadows\": 2024\n",
    "}\n",
    "    }\n",
    "\n",
    "\n",
    "\n"
   ]
  },
  {
   "cell_type": "markdown",
   "metadata": {},
   "source": [
    "### adicionando "
   ]
  },
  {
   "cell_type": "code",
   "execution_count": 21,
   "metadata": {},
   "outputs": [
    {
     "name": "stdout",
     "output_type": "stream",
     "text": [
      "Jogos no dicionário:\n",
      "Call of Duty, Assassin's Creed, Bonce, God of war\n"
     ]
    }
   ],
   "source": [
    "games_favoritos['God of war'] =  {\n",
    "    \"God of War\": \"20 de março de 2005\",\n",
    "    \"God of War II\": \"13 de março de 2007\",\n",
    "    \"God of War III\": \"16 de março de 2010\",\n",
    "    \"God of War: Ascension\": \"12 de março de 2013\",\n",
    "    \"God of War (2018)\": \"20 de abril de 2018\",\n",
    "    \"God of War Ragnarök\": \"9 de novembro de 2022\"\n",
    "}\n",
    "\n",
    "# exibindo as chaves\n",
    "print(f'Jogos no dicionário:')\n",
    "print(', '.join(games_favoritos.keys())) "
   ]
  },
  {
   "cell_type": "code",
   "execution_count": 22,
   "metadata": {},
   "outputs": [
    {
     "name": "stdout",
     "output_type": "stream",
     "text": [
      "Jogos no dicionário:\n",
      "Call of Duty, Assassin's Creed, Bonce, God of war, Medal of Honor\n"
     ]
    }
   ],
   "source": [
    "games_favoritos['Medal of Honor'] =  {\n",
    "    \"Medal of Honor\": \"12 de outubro de 1999\",\n",
    "    \"Medal of Honor: Underground\": \"1 de novembro de 2000\",\n",
    "    \"Medal of Honor: Frontline\": \"17 de junho de 2002\",\n",
    "    \"Medal of Honor: Rising Sun\": \"11 de novembro de 2003\",\n",
    "    \"Medal of Honor: Pacific Assault\": \"2 de novembro de 2004\",\n",
    "    \"Medal of Honor: European Assault\": \"7 de junho de 2005\",\n",
    "    \"Medal of Honor: Airborne\": \"4 de setembro de 2007\",\n",
    "    \"Medal of Honor (2010)\": \"12 de outubro de 2010\",\n",
    "    \"Medal of Honor: Warfighter\": \"23 de outubro de 2012\",\n",
    "    \"Medal of Honor: Above and Beyond\": \"11 de dezembro de 2020\"\n",
    "}\n",
    "print(f'Jogos no dicionário:')\n",
    "print(', '.join(games_favoritos.keys())) \n"
   ]
  },
  {
   "cell_type": "code",
   "execution_count": 23,
   "metadata": {},
   "outputs": [
    {
     "name": "stdout",
     "output_type": "stream",
     "text": [
      "Jogos no dicionário:\n",
      "Call of Duty, Assassin's Creed, Bonce, God of war, Medal of Honor\n"
     ]
    }
   ],
   "source": [
    "### Adicionando um fictício\n",
    "\n",
    "games_favoritos['Bonce'] = {\n",
    "    '1':1999,\n",
    "    '2':2000,\n",
    "    '3':2001,\n",
    "    }\n",
    "\n",
    "print(f'Jogos no dicionário:')\n",
    "print(', '.join(games_favoritos.keys())) "
   ]
  },
  {
   "cell_type": "code",
   "execution_count": 34,
   "metadata": {},
   "outputs": [
    {
     "data": {
      "text/plain": [
       "dict_keys(['Call of Duty', \"Assassin's Creed\", 'Bonce', 'God of war', 'Medal of Honor'])"
      ]
     },
     "execution_count": 34,
     "metadata": {},
     "output_type": "execute_result"
    }
   ],
   "source": [
    "def pega_chave(lista):\n",
    "    return\n",
    "lista_chaves = games_favoritos.keys()\n",
    "#print(', '.join(lista_chaves))\n",
    "lista_chaves\n",
    "# for game in games_favoritos:\n",
    "#     print(f'Jogo: {games_favoritos.keys()} ')"
   ]
  },
  {
   "cell_type": "markdown",
   "metadata": {},
   "source": [
    "## Extraindo informações de um dicionário"
   ]
  },
  {
   "cell_type": "code",
   "execution_count": null,
   "metadata": {},
   "outputs": [],
   "source": [
    "## Dicionário games favoritos\n",
    "\n",
    "\n",
    "\n"
   ]
  },
  {
   "cell_type": "code",
   "execution_count": 36,
   "metadata": {},
   "outputs": [
    {
     "name": "stdout",
     "output_type": "stream",
     "text": [
      "dict_keys(['marca', 'modelo', 'fabricacao', 'cores_disponiveis'])\n",
      "dict_values(['volks', 'gol', 1999, ['azul', 'branco', 'vermelho', 'preto']])\n",
      "Modelo: gol\n",
      "dict_items([('marca', 'volks'), ('modelo', 'gol'), ('fabricacao', 1999), ('cores_disponiveis', ['azul', 'branco', 'vermelho', 'preto'])])\n"
     ]
    }
   ],
   "source": [
    "# carro\n",
    "# Descobrir as chaves existentes em um dicionário - keys()\n",
    "print(carro.keys())\n",
    "\n",
    "# Descobrir os valores existentes em um dicionário - values()\n",
    "print(carro.values())\n",
    "\n",
    "#Buscar o valor de um chave específica\n",
    "print(f\"Modelo: {carro['modelo']}\")\n",
    "\n",
    "# items() - a função items retorna uma lista com os pares de chave e valor de um dicionário\n",
    "print(carro.items())\n"
   ]
  },
  {
   "cell_type": "markdown",
   "metadata": {},
   "source": [
    "Podemos adicionar itens de um dicionário usando nomeDic[\"novaPalavraChave\"] = valor, \n",
    "\n",
    "podemos atualizar da mesma maneira mas usando uma palavra-chave já existente, ou mesmo usar o método update() com o parâmetro {\"palavraChave\": novoValor}. \n",
    "\n",
    "Já para apagar itens temos várias maneiras: podemos usar o método pop() com a palavra-chave a ser deletada como parâmetro, ou o método popitem() para deletar o último item, ou mesmo a del dicionario[\"chaveParaDeletar\"], por fim temos o método clear() que limpa o dicionário todo."
   ]
  },
  {
   "cell_type": "code",
   "execution_count": 7,
   "metadata": {},
   "outputs": [
    {
     "name": "stdout",
     "output_type": "stream",
     "text": [
      "{'nome': 'pedro', 'idade': 18, 'profissao': 'padeiro', 'filhos': ['pedro', 'luiza', 'maria']}\n",
      "Keys: dict_keys(['nome', 'idade', 'profissao', 'filhos'])\n",
      "Nome: pedro\n",
      "Values: dict_values(['pedro', 18, 'padeiro', ['pedro', 'luiza', 'maria']])\n",
      "Items: dict_items([('nome', 'pedro'), ('idade', 18), ('profissao', 'padeiro'), ('filhos', ['pedro', 'luiza', 'maria'])])\n"
     ]
    }
   ],
   "source": [
    "#Dicionario\n",
    "pessoa = {\n",
    "    \"nome\": \"pedro\",\n",
    "    \"idade\": 18,\n",
    "    \"profissao\": \"padeiro\",\n",
    "    \"filhos\": [\"pedro\", \"luiza\", \"maria\"],\n",
    "    }\n",
    "print(pessoa)\n",
    "print(f\"Keys: {pessoa.keys()}\")\n",
    "print(f\"Nome: {pessoa['nome']}\")\n",
    "print(f\"Values: {pessoa.values()}\")\n",
    "print(f\"Items: {pessoa.items()}\")\n"
   ]
  },
  {
   "cell_type": "code",
   "execution_count": 23,
   "metadata": {},
   "outputs": [
    {
     "data": {
      "text/plain": [
       "{'marca': 'honda',\n",
       " 'modelo': 'falcon',\n",
       " 'potencia': '400cc',\n",
       " 'fabricacao': 2000,\n",
       " 'combustivel': 'gasolina',\n",
       " 'cores': ['prata', 'preto', 'vermelho', 'azul'],\n",
       " 'tipo': 'estrada'}"
      ]
     },
     "execution_count": 23,
     "metadata": {},
     "output_type": "execute_result"
    }
   ],
   "source": [
    "# \n",
    "moto = {\n",
    "    'marca' : 'honda',\n",
    "    'modelo': 'falcon',\n",
    "    'potencia' : '400cc',\n",
    "    'fabricacao' : 2000,\n",
    "    'combustivel' : 'gasolina',\n",
    "    'cores' : ['prata', 'preto', 'vermelho', 'azul',],\n",
    "    'tipo' : 'estrada'\n",
    "}\n",
    "moto"
   ]
  },
  {
   "cell_type": "code",
   "execution_count": 32,
   "metadata": {},
   "outputs": [
    {
     "data": {
      "text/plain": [
       "{'marca': 'honda',\n",
       " 'modelo': 'falcon',\n",
       " 'potencia': '400cc',\n",
       " 'fabricacao': 2000,\n",
       " 'cores': ['prata', 'preto', 'vermelho', 'azul'],\n",
       " 'tipo': 'urbana',\n",
       " 'preco': 13500.99}"
      ]
     },
     "execution_count": 32,
     "metadata": {},
     "output_type": "execute_result"
    }
   ],
   "source": [
    "# adicionar uma chave e valor\n",
    "moto['preco'] = 13500.99\n",
    "\n",
    "# alterar  valor de uma chave\n",
    "moto['tipo'] = 'urbana'\n",
    "\n",
    "# altera um valor, caso a chave exista, senão, insere novo chave-valor .update() \n",
    "moto.update({'injecao' : True})\n",
    "\n",
    "# apagar chave e valor através da chave\n",
    "#moto.pop('combustivel')\n",
    "\n",
    "# apagar o ultimo par de chave e valor\n",
    "moto.popitem()\n",
    "\n",
    "\n",
    "moto"
   ]
  },
  {
   "cell_type": "code",
   "execution_count": 9,
   "metadata": {},
   "outputs": [
    {
     "data": {
      "text/plain": [
       "['nome', 'idade', 'profissao', 'filhos']"
      ]
     },
     "execution_count": 9,
     "metadata": {},
     "output_type": "execute_result"
    }
   ],
   "source": [
    "# convertendo para lista\n",
    "lista_chaves = list(pessoa.keys())\n",
    "\n",
    "lista_chaves\n"
   ]
  },
  {
   "cell_type": "code",
   "execution_count": 12,
   "metadata": {},
   "outputs": [
    {
     "name": "stdout",
     "output_type": "stream",
     "text": [
      "{'nome': 'pedro', 'idade': 18, 'profissao': 'padeiro', 'filhos': ['pedro', 'luiza', 'maria']}\n",
      "{'nome': 'pedro', 'idade': 18, 'profissao': 'padeiro', 'filhos': ['pedro', 'luiza', 'maria'], 'nacionaldade': 'Brasileiro'}\n"
     ]
    }
   ],
   "source": [
    "#adicionar chave: valor\n",
    "\n",
    "print(pessoa)\n",
    "pessoa['nacionaldade'] = 'Brasileiro'\n",
    "\n",
    "\n",
    "print(pessoa)"
   ]
  },
  {
   "cell_type": "code",
   "execution_count": 13,
   "metadata": {},
   "outputs": [
    {
     "name": "stdout",
     "output_type": "stream",
     "text": [
      "{'nome': 'Ausgusto', 'idade': 18, 'profissao': 'padeiro', 'filhos': ['pedro', 'luiza', 'maria'], 'nacionaldade': 'Brasileiro'}\n"
     ]
    }
   ],
   "source": [
    "# alterar chave e valor\n",
    "pessoa['nome'] = 'Ausgusto'\n",
    "\n",
    "print(pessoa)"
   ]
  },
  {
   "cell_type": "code",
   "execution_count": 14,
   "metadata": {},
   "outputs": [
    {
     "name": "stdout",
     "output_type": "stream",
     "text": [
      "{'nome': 'Ausgusto', 'idade': 35, 'profissao': 'padeiro', 'filhos': ['pedro', 'luiza', 'maria'], 'nacionaldade': 'Brasileiro', 'nacionalidade': 'americano', 'cachorro': 'fulio'}\n"
     ]
    }
   ],
   "source": [
    "# Update\n",
    "pessoa.update({'idade' : 35, 'nacionalidade' : 'americano', 'cachorro': 'fulio'})\n",
    "\n",
    "print(pessoa)"
   ]
  },
  {
   "cell_type": "code",
   "execution_count": 20,
   "metadata": {},
   "outputs": [
    {
     "name": "stdout",
     "output_type": "stream",
     "text": [
      "{'idade': 35, 'profissao': 'padeiro', 'filhos': ['pedro', 'luiza', 'maria'], 'nacionaldade': 'Brasileiro', 'nacionalidade': 'americano'}\n",
      "{'idade': 35, 'profissao': 'padeiro', 'filhos': ['pedro', 'luiza', 'maria'], 'nacionaldade': 'Brasileiro', 'nacionalidade': 'americano'}\n"
     ]
    },
    {
     "data": {
      "text/plain": [
       "('nacionalidade', 'americano')"
      ]
     },
     "execution_count": 20,
     "metadata": {},
     "output_type": "execute_result"
    }
   ],
   "source": [
    "#Remover chave: valor\n",
    "#pessoa.pop('nome')\n",
    "print(pessoa)\n",
    "\n",
    "#del pessoa['nacionaldade']\n",
    "print(pessoa)\n",
    "\n",
    "# remove ultima chave:valor\n",
    "pessoa.popitem()"
   ]
  },
  {
   "cell_type": "code",
   "execution_count": 57,
   "metadata": {},
   "outputs": [
    {
     "data": {
      "text/plain": [
       "{'nome': 'telma', 'nascimento': '19 de janeiro de 2002', 'cargo': 'estagiária'}"
      ]
     },
     "execution_count": 57,
     "metadata": {},
     "output_type": "execute_result"
    }
   ],
   "source": [
    "employee = {\n",
    "    'nome' : 'telma',\n",
    "    'nascimento': '19 de janeiro de 2002',\n",
    "    'cargo' : 'estagiária'\n",
    "}\n",
    "employee"
   ]
  },
  {
   "cell_type": "code",
   "execution_count": 58,
   "metadata": {},
   "outputs": [
    {
     "data": {
      "text/plain": [
       "{'nome': 'telma',\n",
       " 'nascimento': '19 de janeiro de 2002',\n",
       " 'cargo': 'estagiária',\n",
       " 'salario': 1400}"
      ]
     },
     "execution_count": 58,
     "metadata": {},
     "output_type": "execute_result"
    }
   ],
   "source": [
    "# Adicionando chave e valor\n",
    "\n",
    "employee['salario'] = 1400\n",
    "\n",
    "employee"
   ]
  },
  {
   "cell_type": "code",
   "execution_count": 59,
   "metadata": {},
   "outputs": [
    {
     "data": {
      "text/plain": [
       "{'nascimento': '19 de janeiro de 2002',\n",
       " 'cargo': 'estagiária',\n",
       " 'salario': 1400,\n",
       " 'Nome_Completo': 'telma'}"
      ]
     },
     "execution_count": 59,
     "metadata": {},
     "output_type": "execute_result"
    }
   ],
   "source": [
    "\n",
    "# alterar chave\n",
    "employee['Nome_Completo'] = employee.pop('nome')\n",
    "employee"
   ]
  },
  {
   "cell_type": "code",
   "execution_count": 60,
   "metadata": {},
   "outputs": [
    {
     "data": {
      "text/plain": [
       "{'nascimento': '19 de janeiro de 2002',\n",
       " 'cargo': 'estagiária',\n",
       " 'salario': 1400,\n",
       " 'Nome_Completo': 'Maria Telma Duarte'}"
      ]
     },
     "execution_count": 60,
     "metadata": {},
     "output_type": "execute_result"
    }
   ],
   "source": [
    "#alterando o valor de uma chave\n",
    "\n",
    "employee['Nome_Completo'] = 'Maria Telma Duarte'\n",
    "employee"
   ]
  },
  {
   "cell_type": "code",
   "execution_count": 62,
   "metadata": {},
   "outputs": [
    {
     "data": {
      "text/plain": [
       "{'nascimento': '19 de janeiro de 2002',\n",
       " 'cargo': 'estagiária',\n",
       " 'salario': 1400,\n",
       " 'Nome_Completo': 'Maria Telma Duarte Holanda',\n",
       " 'setor': 'Expedição'}"
      ]
     },
     "execution_count": 62,
     "metadata": {},
     "output_type": "execute_result"
    }
   ],
   "source": [
    "# O metodo update altera o valor caso ele exista, senão, insere novo chave-valor.\n",
    "# aqui a chave 'Nome_Completo' atualizou o seu value, e foi criada um novo par de chave-valor (setor: expedição)\n",
    "employee.update({'Nome_Completo': 'Maria Telma Duarte Holanda', 'setor':'Expedição'})\n",
    "employee"
   ]
  },
  {
   "cell_type": "markdown",
   "metadata": {},
   "source": [
    "Dicionários podem ser usados em loops normalmente também. Existem alguns métodos que podem ser úteis de serem utilizados."
   ]
  },
  {
   "cell_type": "code",
   "execution_count": 63,
   "metadata": {},
   "outputs": [
    {
     "name": "stdout",
     "output_type": "stream",
     "text": [
      "nascimento\n",
      "cargo\n",
      "salario\n",
      "Nome_Completo\n",
      "setor\n"
     ]
    }
   ],
   "source": [
    "# Imprime as chaves\n",
    "for chave in employee:\n",
    "    print(chave)"
   ]
  },
  {
   "cell_type": "code",
   "execution_count": 64,
   "metadata": {},
   "outputs": [
    {
     "data": {
      "text/plain": [
       "dict_keys(['nascimento', 'cargo', 'salario', 'Nome_Completo', 'setor'])"
      ]
     },
     "execution_count": 64,
     "metadata": {},
     "output_type": "execute_result"
    }
   ],
   "source": [
    "employee.keys() # imprime a lista das chaves do cicionário"
   ]
  },
  {
   "cell_type": "code",
   "execution_count": 65,
   "metadata": {},
   "outputs": [
    {
     "name": "stdout",
     "output_type": "stream",
     "text": [
      "19 de janeiro de 2002\n",
      "estagiária\n",
      "1400\n",
      "Maria Telma Duarte Holanda\n",
      "Expedição\n"
     ]
    }
   ],
   "source": [
    "#Imprimir o valor das chaves de um dicionário\n",
    "\n",
    "for valor in employee.values():\n",
    "    print(valor)"
   ]
  },
  {
   "cell_type": "code",
   "execution_count": 66,
   "metadata": {},
   "outputs": [
    {
     "data": {
      "text/plain": [
       "dict_values(['19 de janeiro de 2002', 'estagiária', 1400, 'Maria Telma Duarte Holanda', 'Expedição'])"
      ]
     },
     "execution_count": 66,
     "metadata": {},
     "output_type": "execute_result"
    }
   ],
   "source": [
    "employee.values()#retorna a lista dos valores"
   ]
  },
  {
   "cell_type": "code",
   "execution_count": 68,
   "metadata": {},
   "outputs": [
    {
     "name": "stdout",
     "output_type": "stream",
     "text": [
      "A chave (nascimento) tem como valor (19 de janeiro de 2002)\n",
      "A chave (cargo) tem como valor (estagiária)\n",
      "A chave (salario) tem como valor (1400)\n",
      "A chave (Nome_Completo) tem como valor (Maria Telma Duarte Holanda)\n",
      "A chave (setor) tem como valor (Expedição)\n"
     ]
    }
   ],
   "source": [
    "# imprimindo o par de chave-valor de um dicionário\n",
    "\n",
    "for chave, valor in employee.items():\n",
    "    print(f'A chave ({chave}) tem como valor ({valor})')"
   ]
  },
  {
   "cell_type": "code",
   "execution_count": 69,
   "metadata": {},
   "outputs": [
    {
     "data": {
      "text/plain": [
       "dict_items([('nascimento', '19 de janeiro de 2002'), ('cargo', 'estagiária'), ('salario', 1400), ('Nome_Completo', 'Maria Telma Duarte Holanda'), ('setor', 'Expedição')])"
      ]
     },
     "execution_count": 69,
     "metadata": {},
     "output_type": "execute_result"
    }
   ],
   "source": [
    "\n"
   ]
  },
  {
   "cell_type": "code",
   "execution_count": 38,
   "metadata": {},
   "outputs": [
    {
     "name": "stdout",
     "output_type": "stream",
     "text": [
      "marca\n",
      "modelo\n",
      "potencia\n",
      "fabricacao\n",
      "cores\n",
      "tipo\n",
      "preco\n",
      "==================================================\n",
      "honda\n",
      "falcon\n",
      "400cc\n",
      "2000\n",
      "['prata', 'preto', 'vermelho', 'azul']\n",
      "urbana\n",
      "13500.99\n",
      "==================================================\n",
      "marca = honda\n",
      "modelo = falcon\n",
      "potencia = 400cc\n",
      "fabricacao = 2000\n",
      "cores = ['prata', 'preto', 'vermelho', 'azul']\n",
      "tipo = urbana\n",
      "preco = 13500.99\n",
      "==================================================\n"
     ]
    }
   ],
   "source": [
    "for campo in moto: # retorna as chaves\n",
    "    print(campo)\n",
    "    \n",
    "print('='*50)\n",
    "\n",
    "for valor in moto.values(): # retorna as chaves\n",
    "    print(valor)\n",
    "\n",
    "print('='*50)\n",
    "for chave, valor in moto.items(): # retorna as chaves e valores\n",
    "    print(f'{chave} = {valor}')\n",
    "\n",
    "print('='*50)\n",
    "#moto"
   ]
  },
  {
   "cell_type": "code",
   "execution_count": 73,
   "metadata": {},
   "outputs": [
    {
     "name": "stdout",
     "output_type": "stream",
     "text": [
      "nome\n",
      "idade\n",
      "profissao\n",
      "cachorros\n",
      "\n",
      "Luiz\n",
      "65\n",
      "advogado\n",
      "['pedro', 'luiza', 'maria']\n",
      "\n",
      "Luiz\n",
      "65\n",
      "advogado\n",
      "['pedro', 'luiza', 'maria']\n",
      "\n",
      "(0, 'Luiz')\n",
      "(1, 65)\n",
      "(2, 'advogado')\n",
      "(3, ['pedro', 'luiza', 'maria'])\n",
      "\n",
      "(0, ('nome', 'Luiz'))\n",
      "(1, ('idade', 65))\n",
      "(2, ('profissao', 'advogado'))\n",
      "(3, ('cachorros', ['pedro', 'luiza', 'maria']))\n"
     ]
    }
   ],
   "source": [
    "# LOOPS \n",
    "pessoa2 = {\n",
    "    \"nome\": \"Luiz\",\n",
    "    \"idade\": 65,\n",
    "    \"profissao\": \"advogado\",\n",
    "    \"cachorros\": [\"pedro\", \"luiza\", \"maria\"],\n",
    "    }\n",
    "# iterar chaves\n",
    "for chave in pessoa2:\n",
    "    print(chave)\n",
    "print(\"\")    \n",
    "for valor in pessoa2:\n",
    "    print(pessoa2[valor])\n",
    "    \n",
    "# iterar valores\n",
    "print(\"\")    \n",
    "# ou\n",
    "for valor in pessoa2.values():\n",
    "    print(valor)\n",
    "    \n",
    "print(\"\") \n",
    "for valor in enumerate(pessoa2.values()):\n",
    "    print(valor)\n",
    "\n",
    "print(\"\") \n",
    "for valor in enumerate(pessoa2.items()):\n",
    "    print(valor)"
   ]
  },
  {
   "cell_type": "code",
   "execution_count": 35,
   "metadata": {},
   "outputs": [
    {
     "name": "stdout",
     "output_type": "stream",
     "text": [
      "1\n",
      "2\n",
      "3\n",
      "4\n",
      "5\n",
      "6\n",
      "==========\n",
      "(0, 1)\n",
      "(1, 2)\n",
      "(2, 3)\n",
      "(3, 4)\n",
      "(4, 5)\n",
      "(5, 6)\n"
     ]
    }
   ],
   "source": [
    "#Enumerates\n",
    "lista_teste = [1, 2, 3, 4, 5, 6]\n",
    "\n",
    "for numero in lista_teste:\n",
    "    print(numero)\n",
    "print(\"==========\")\n",
    "# iterar com enumerate\n",
    "for numero in enumerate(lista_teste):\n",
    "    print(numero)"
   ]
  },
  {
   "cell_type": "markdown",
   "metadata": {},
   "source": [
    "### Utilizando o IN em dicionários\n",
    "No contexto de dicionários o comando in é útil. Imagine que você quer adicionar valores em uma chave mas não sabe sequer se ela existe naquele contexto, como poderiamos fazer?"
   ]
  },
  {
   "cell_type": "code",
   "execution_count": 75,
   "metadata": {},
   "outputs": [
    {
     "data": {
      "text/plain": [
       "True"
      ]
     },
     "execution_count": 75,
     "metadata": {},
     "output_type": "execute_result"
    }
   ],
   "source": [
    "'Maria Telma Duarte Holanda' in employee['Nome_Completo']"
   ]
  },
  {
   "cell_type": "code",
   "execution_count": 42,
   "metadata": {},
   "outputs": [
    {
     "name": "stdout",
     "output_type": "stream",
     "text": [
      "(0, 'maçã')\n",
      "(1, 'banana')\n",
      "(2, 'pera')\n",
      "1\n",
      "maçã\n",
      "2\n",
      "banana\n",
      "3\n",
      "pera\n"
     ]
    }
   ],
   "source": [
    "frutas = ['maçã', 'banana', 'pera']\n",
    "\n",
    "for fruta in enumerate(frutas):\n",
    "    print(fruta)\n",
    "    \n",
    "#também podemos colocar um argumento opcional de start no nosso\n",
    "\n",
    "for indice, fruta in enumerate(frutas, 1):\n",
    "    print(indice)\n",
    "    print(fruta)\n",
    "    \n"
   ]
  },
  {
   "cell_type": "code",
   "execution_count": 46,
   "metadata": {},
   "outputs": [
    {
     "name": "stdout",
     "output_type": "stream",
     "text": [
      "===================\n",
      "('idade', 35)\n",
      "('profissao', 'padeiro')\n",
      "('filhos', ['pedro', 'luiza', 'maria'])\n",
      "('nacionaldade', 'Brasileiro')\n",
      "===================\n",
      "A chave (nome) possui o valor: Luiz\n",
      "A chave (idade) possui o valor: 65\n",
      "A chave (profissao) possui o valor: advogado\n",
      "A chave (cachorros) possui o valor: ['pedro', 'luiza', 'maria']\n"
     ]
    }
   ],
   "source": [
    "pessoa2\n",
    "\n",
    "print(\"===================\")\n",
    "for x in pessoa.items():\n",
    "    print(x)\n",
    "    \n",
    "print(\"===================\")\n",
    "for chave, valor in pessoa2.items():\n",
    "    print(f'A chave ({chave}) possui o valor: {valor}')"
   ]
  },
  {
   "cell_type": "code",
   "execution_count": 47,
   "metadata": {},
   "outputs": [
    {
     "name": "stdout",
     "output_type": "stream",
     "text": [
      "potato\n"
     ]
    }
   ],
   "source": [
    "#lista de listas\n",
    "lista_mista = [[1, 2, 3], ['apple', 'potato', 'grape']]\n",
    "\n",
    "print(lista_mista[-1][1])"
   ]
  },
  {
   "cell_type": "markdown",
   "metadata": {},
   "source": [
    "Assim como listas podem armazenar listas, dicionários podem armazenar dicionários, formando dicionários de mais de uma dimensão. Veja o exemplo:"
   ]
  },
  {
   "cell_type": "code",
   "execution_count": 52,
   "metadata": {},
   "outputs": [
    {
     "name": "stdout",
     "output_type": "stream",
     "text": [
      "Pratos típicos\n",
      "Pais: Brazil, Prato: feijoada, ingredientes: feijão preto, linguiça, carne de porco\n",
      "Pais: EUA, Prato: Buffalo wings, ingredientes: asa de frango, molho, sal, temperos\n",
      "Pais: Japan, Prato: Yakisoba, ingredientes: carne de porco, macarrao frito, molho shoyu\n"
     ]
    }
   ],
   "source": [
    "comidas_tipicas = {\n",
    "    'Brazil' : {\n",
    "        'nome_prato' : 'feijoada',\n",
    "        'ingredientes': ['feijão preto', 'linguiça', 'carne de porco']\n",
    "    },\n",
    "    'EUA' : {\n",
    "        'nome_prato' : 'Buffalo wings',\n",
    "        'ingredientes' : ['asa de frango', 'molho', 'sal', 'temperos']\n",
    "    },\n",
    "    'Japan': {\n",
    "        'nome_prato' : 'Yakisoba',\n",
    "        'ingredientes': ['carne de porco', 'macarrao frito', 'molho shoyu']\n",
    "    }\n",
    "}\n",
    "\n",
    "# usar o .join para retornar apenas os itens de uma lista em uma string\n",
    "\n",
    "print(\"Pratos típicos\")\n",
    "for chave, valor in comidas_tipicas.items():\n",
    "    print(f'Pais: {chave}, Prato: {valor['nome_prato']}, ingredientes: {', '.join(map(str, valor['ingredientes']))}')"
   ]
  },
  {
   "cell_type": "code",
   "execution_count": 52,
   "metadata": {},
   "outputs": [
    {
     "name": "stdout",
     "output_type": "stream",
     "text": [
      "felipe\n",
      "maria\n",
      "luiza\n"
     ]
    }
   ],
   "source": [
    "# dicionario com dicionarios\n",
    "filhos = {\n",
    "    'filho1': {\n",
    "        'nome': 'felipe',\n",
    "        'ano': 2004\n",
    "    }, \n",
    "    'filho2': {\n",
    "        'nome': 'maria',\n",
    "        'ano': 2008\n",
    "    },\n",
    "    'filho3': {\n",
    "        'nome': 'luiza',\n",
    "        'ano': 2010\n",
    "    }\n",
    "}\n",
    "\n",
    "#retornar nomes filhos\n",
    "print(filhos['filho1']['nome'])\n",
    "print(filhos['filho2']['nome'])\n",
    "print(filhos['filho3']['nome'])"
   ]
  },
  {
   "cell_type": "markdown",
   "metadata": {},
   "source": [
    " No contexto de dicionários o comando **in** é útil. \n",
    " \n",
    " Imagine que você quer adicionar valores em uma chave mas não sabe sequer se ela existe naquele contexto, como poderiamos fazer?"
   ]
  },
  {
   "cell_type": "code",
   "execution_count": 53,
   "metadata": {},
   "outputs": [
    {
     "data": {
      "text/plain": [
       "False"
      ]
     },
     "execution_count": 53,
     "metadata": {},
     "output_type": "execute_result"
    }
   ],
   "source": [
    "# In em uma lista\n",
    "# checando se valor esta na lista\n",
    "'banana' in ['uva', 'pera', 'tomate']"
   ]
  },
  {
   "cell_type": "code",
   "execution_count": 54,
   "metadata": {},
   "outputs": [
    {
     "data": {
      "text/plain": [
       "{'nome': 'josy',\n",
       " 'turma': '7B',\n",
       " 'kit_escolar': ['caneta', 'caderno', 'apontador']}"
      ]
     },
     "execution_count": 54,
     "metadata": {},
     "output_type": "execute_result"
    }
   ],
   "source": [
    "#in com dicionarios\n",
    "\n",
    "estudante = {\n",
    "    'nome': 'josy',\n",
    "    'turma': '7B'\n",
    "}\n",
    "\n",
    "#'professor' in estudante.keys()\n",
    "#'josy' in estudante.values()\n",
    "\n",
    "kit_escolar = ['caneta', 'caderno', 'apontador']\n",
    "\n",
    "if 'kit_escolar' not in estudante.keys():\n",
    "    estudante['kit_escolar'] = kit_escolar\n",
    "else:\n",
    "    print(\"Ja possui\")\n",
    "estudante"
   ]
  },
  {
   "cell_type": "code",
   "execution_count": null,
   "metadata": {},
   "outputs": [],
   "source": [
    "notas_alunos = {\n",
    "    'aluno1': [6,9,7,10],\n",
    "    'aluno2': [5,7,8,10],\n",
    "    'aluno3': [10,9,7,4.5]\n",
    "}\n",
    "\n",
    "#exibir quais alunos tem notas maior que 7\n",
    "#TODO: exibir a media\n",
    "#TODO: verificar se um valor esta na lista\n",
    "\n"
   ]
  },
  {
   "cell_type": "code",
   "execution_count": 3,
   "metadata": {},
   "outputs": [
    {
     "data": {
      "text/plain": [
       "{'nome': [1, 3, 4, 5, 6, 7]}"
      ]
     },
     "execution_count": 3,
     "metadata": {},
     "output_type": "execute_result"
    }
   ],
   "source": []
  }
 ],
 "metadata": {
  "kernelspec": {
   "display_name": ".venv",
   "language": "python",
   "name": "python3"
  },
  "language_info": {
   "codemirror_mode": {
    "name": "ipython",
    "version": 3
   },
   "file_extension": ".py",
   "mimetype": "text/x-python",
   "name": "python",
   "nbconvert_exporter": "python",
   "pygments_lexer": "ipython3",
   "version": "3.12.3"
  }
 },
 "nbformat": 4,
 "nbformat_minor": 2
}
