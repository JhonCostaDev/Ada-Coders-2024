{
 "cells": [
  {
   "cell_type": "markdown",
   "metadata": {},
   "source": [
    "1) Faça uma função que recebe um texto e um letra e retorne a quantidade daquela letra naquele texto (ignore diferenças de capitalização, 'A' e 'a' são a mesma letra)"
   ]
  },
  {
   "cell_type": "code",
   "execution_count": 31,
   "metadata": {},
   "outputs": [
    {
     "name": "stdout",
     "output_type": "stream",
     "text": [
      "Existem 6 letras (a) na frase!\n"
     ]
    }
   ],
   "source": [
    "def conta_letra(texto, letra):\n",
    "    lista = texto.lower().split()\n",
    "    contador = 0\n",
    "    for item in lista:\n",
    "        contador += item.count(letra)\n",
    "    return contador\n",
    "    \n",
    "\n",
    "nelson_mandela=\"Education is the most powerful weapon which you can use to change the world.\"\n",
    "\n",
    "martin_luther_king = \"Injustice anywhere is a threat to justice everywhere.\"\n",
    "\n",
    "lincoln = \"Government of the people, by the people, for the people, shall not perish from the Earth.\"\n",
    "\n",
    "churchill = \"Success is not final, failure is not fatal: It is the courage to continue that counts.\"\n",
    "\n",
    "\n",
    "letra = 'a'\n",
    "resultado = conta_letra(churchill, letra)\n",
    "\n",
    "print(f'Existem {resultado} letras ({letra}) na frase!')"
   ]
  },
  {
   "cell_type": "code",
   "execution_count": 30,
   "metadata": {},
   "outputs": [
    {
     "data": {
      "text/plain": [
       "6"
      ]
     },
     "execution_count": 30,
     "metadata": {},
     "output_type": "execute_result"
    }
   ],
   "source": [
    "# opção mais enxuta\n",
    "\n",
    "def cont_letra(texto,letra):\n",
    "  return texto.lower().count(letra.lower())\n",
    "\n",
    "cont_letra(churchill, letra)\n"
   ]
  },
  {
   "cell_type": "markdown",
   "metadata": {},
   "source": [
    "2) Faça uma função que recebe uma string e retorna ela ao contrário."
   ]
  },
  {
   "cell_type": "code",
   "execution_count": 32,
   "metadata": {},
   "outputs": [
    {
     "data": {
      "text/plain": [
       "'.stnuoc taht eunitnoc ot egaruoc eht si tI :lataf ton si eruliaf ,lanif ton si sseccuS'"
      ]
     },
     "execution_count": 32,
     "metadata": {},
     "output_type": "execute_result"
    }
   ],
   "source": [
    "def inverter(texto):\n",
    "    return texto[::-1]\n",
    "\n",
    "inverter(churchill)"
   ]
  },
  {
   "cell_type": "markdown",
   "metadata": {},
   "source": [
    "3) Agora faça uma função que recebe uma palavra e diz se ela é um palíndromo, ou seja, se ela é igual a ela mesma ao contrário.\n",
    "\n",
    "Sugestão: use a função do exercício anterior."
   ]
  },
  {
   "cell_type": "code",
   "execution_count": 42,
   "metadata": {},
   "outputs": [
    {
     "name": "stdout",
     "output_type": "stream",
     "text": [
      "mosquito Não é um palindromo\n",
      "ovo é um palindromo\n",
      "goiaba Não é um palindromo\n",
      "radar é um palindromo\n",
      "reviver é um palindromo\n",
      "arara é um palindromo\n",
      "socos é um palindromo\n",
      "macieria Não é um palindromo\n",
      "cadeira Não é um palindromo\n",
      "cachorro Não é um palindromo\n"
     ]
    }
   ],
   "source": [
    "def is_palindromo(texto):\n",
    "    if texto == inverter(texto):\n",
    "        return f'{texto} é um palindromo'\n",
    "    else:\n",
    "        return f'{texto} Não é um palindromo'\n",
    "\n",
    "palavras = ['mosquito','ovo','goiaba','radar','reviver','arara','socos','macieria', 'cadeira', 'cachorro']\n",
    "\n",
    "x = list(map(is_palindromo, palavras))\n",
    "print('\\n'.join(x))"
   ]
  },
  {
   "cell_type": "markdown",
   "metadata": {},
   "source": [
    "4) Faça uma função max que faz a mesma coisa que a funcão max faz ao receber uma lista"
   ]
  },
  {
   "cell_type": "code",
   "execution_count": 46,
   "metadata": {},
   "outputs": [
    {
     "data": {
      "text/plain": [
       "95"
      ]
     },
     "execution_count": 46,
     "metadata": {},
     "output_type": "execute_result"
    }
   ],
   "source": [
    "def maior(lista):\n",
    "    big = lista[0]\n",
    "    \n",
    "    for item in lista:\n",
    "        if item > big:\n",
    "            big = item \n",
    "            \n",
    "    return big\n",
    "\n",
    "numeros = [42, 7, 95, 21, 16, 64, 29, 83, 56, 90, 53, 39, 28, 10, 88, 80, 4, 13, 70, 50, 3]\n",
    "maior(numeros)\n",
    "#max(numeros)"
   ]
  }
 ],
 "metadata": {
  "kernelspec": {
   "display_name": ".venv",
   "language": "python",
   "name": "python3"
  },
  "language_info": {
   "codemirror_mode": {
    "name": "ipython",
    "version": 3
   },
   "file_extension": ".py",
   "mimetype": "text/x-python",
   "name": "python",
   "nbconvert_exporter": "python",
   "pygments_lexer": "ipython3",
   "version": "3.12.3"
  }
 },
 "nbformat": 4,
 "nbformat_minor": 2
}
