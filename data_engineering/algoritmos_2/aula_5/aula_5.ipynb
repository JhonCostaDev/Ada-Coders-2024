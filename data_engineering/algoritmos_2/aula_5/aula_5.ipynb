{
 "cells": [
  {
   "cell_type": "markdown",
   "metadata": {},
   "source": [
    "Agenda 09/ago (não necessariamente nessa ordem):\n",
    "\n",
    "visita do time pedagógico para saber represetante da turma\n",
    "lembrar onde paramos\n",
    "filter/map/reduce\n",
    "outras definições de parâmetro de função\n",
    "exercício\n",
    "compartilhar projeto e explicar"
   ]
  },
  {
   "cell_type": "markdown",
   "metadata": {},
   "source": [
    "# Função Filter()\n",
    "\n",
    "documentação: https://docs.python.org/3/library/functions.html#filter\n",
    "\n",
    "links úteis:\n",
    "\n",
    "https://docs.python.org/3/library/functions.html#map\n",
    "https://www.geeksforgeeks.org/python-map-function/"
   ]
  },
  {
   "cell_type": "markdown",
   "metadata": {},
   "source": [
    "### Filter\n",
    "A função **filter()** retorna um iterador onde os itens são filtrados através de uma outra função\n",
    "\n",
    "* Sintaxe: filter(function, iterable)\n",
    "[w3School](https://www.w3schools.com/python/ref_func_filter.asp)"
   ]
  },
  {
   "cell_type": "code",
   "execution_count": 1,
   "metadata": {},
   "outputs": [
    {
     "name": "stdout",
     "output_type": "stream",
     "text": [
      "18\n",
      "24\n",
      "32\n"
     ]
    }
   ],
   "source": [
    "# exemplo w3School - Essa função retorna apenas os itens maiores de 18 do array age\n",
    "idades = [5, 12, 17, 18, 24, 32]\n",
    "\n",
    "def is_adult(x):\n",
    "  if x < 18:\n",
    "    return False\n",
    "  else:\n",
    "    return True\n",
    "\n",
    "adults = filter(is_adult, idades)\n",
    "\n",
    "for x in adults:\n",
    "  print(x)"
   ]
  },
  {
   "cell_type": "code",
   "execution_count": 2,
   "metadata": {},
   "outputs": [
    {
     "data": {
      "text/plain": [
       "[1, 3]"
      ]
     },
     "execution_count": 2,
     "metadata": {},
     "output_type": "execute_result"
    }
   ],
   "source": [
    "# Função que recebe como um dos seus argumentos, outra função\n",
    "\n",
    "def is_impar(n):\n",
    "  if n%2 :\n",
    "    return True\n",
    "  else:\n",
    "    return False\n",
    "\n",
    "lista = [1, 2, 3, 4]\n",
    "#tuple(filter(is_impar, lista))\n",
    "list(filter(is_impar, lista))"
   ]
  },
  {
   "cell_type": "markdown",
   "metadata": {},
   "source": [
    "## Função map()\n",
    "\n",
    "links úteis:\n",
    "\n",
    "https://docs.python.org/3/library/functions.html#map\n",
    "https://www.geeksforgeeks.org/python-map-function/"
   ]
  },
  {
   "cell_type": "markdown",
   "metadata": {},
   "source": [
    "\n",
    "A função **map()** executa uma função específica para cada item de um iterável. Esse item é enviado para função como um parâmetro.\n",
    "\n",
    "\n",
    "A função map() em Python é usada para aplicar uma função a todos os itens de uma lista, tupla, ou qualquer outro iterável (como um conjunto ou um dicionário). O resultado é um objeto map, que é um iterador contendo os resultados da aplicação da função em cada item do iterável.\n",
    "\n",
    "Aqui está uma explicação de como map() funciona:\n",
    "\n",
    "* Sintaxe: map(function, iterables)"
   ]
  },
  {
   "cell_type": "code",
   "execution_count": 8,
   "metadata": {},
   "outputs": [
    {
     "data": {
      "text/plain": [
       "[3, 7, 1, 4, 7, 4, 3, 5, 3, 4, 3, 5, 1, 8]"
      ]
     },
     "execution_count": 8,
     "metadata": {},
     "output_type": "execute_result"
    }
   ],
   "source": [
    "def funcao(n):\n",
    "    return len(n)\n",
    "\n",
    "\n",
    "frase = 'Não importa o quão devagar você vá, desde que você não pare. - Confúcio'\n",
    "\n",
    "frase.split()\n",
    "\n",
    "resultado =list( map(funcao, frase.split()))\n",
    "resultado\n"
   ]
  },
  {
   "cell_type": "code",
   "execution_count": null,
   "metadata": {},
   "outputs": [],
   "source": [
    "# recebe uma função e um iterável\n",
    "# Aplica a função para cada elemento do meu iterável.\n",
    "#map(function, iterable)\n",
    "\n",
    "def quadrado(n):\n",
    "  return n ** 2\n",
    "\n",
    "lista = [1, 2, 3, 4]\n",
    "\n",
    "list(map(quadrado, lista))"
   ]
  },
  {
   "cell_type": "code",
   "execution_count": null,
   "metadata": {},
   "outputs": [],
   "source": [
    "# Iterar em duas listas ao mesmo tempo.\n",
    "\n",
    "def potencia(base, expoente):\n",
    "  return base ** expoente\n",
    "\n",
    "lista_1 = [1, 2, 3, 4, 5]\n",
    "lista_2 = [5, 4, 3, 2, 1]\n",
    "\n",
    "list(map(potencia, lista_1, lista_2)) # map aceita 1 ou mais iteráveis"
   ]
  },
  {
   "cell_type": "code",
   "execution_count": null,
   "metadata": {},
   "outputs": [],
   "source": [
    "def concatenar(a):\n",
    "  return str(a) + \" e o nome da chave\"\n",
    "\n",
    "list(map(concatenar, {'nome': 'jhon', 'idade': 50}))"
   ]
  },
  {
   "cell_type": "code",
   "execution_count": 10,
   "metadata": {},
   "outputs": [
    {
     "data": {
      "text/plain": [
       "['B frase qualquer',\n",
       " 'o frase qualquer',\n",
       " 'm frase qualquer',\n",
       " '  frase qualquer',\n",
       " 'd frase qualquer',\n",
       " 'i frase qualquer',\n",
       " 'a frase qualquer']"
      ]
     },
     "execution_count": 10,
     "metadata": {},
     "output_type": "execute_result"
    }
   ],
   "source": [
    "def concatenar(a):\n",
    "    return str(a) + ' frase qualquer'\n",
    "\n",
    "list(map(concatenar, 'Bom dia'))"
   ]
  },
  {
   "cell_type": "markdown",
   "metadata": {},
   "source": [
    "## Função Reduce()\n",
    "documentação: https://docs.python.org/3/library/functools.html\n",
    "\n",
    "https://www.analyticsvidhya.com/blog/2024/06/reduce-function-in-python/\n",
    "\n",
    "vamos fazer algo um pouco diferente dessa vez, vamos importar (import) algo de uma biblioteca biblioteca, mais especificamente a função reduce dessa biblioteca."
   ]
  },
  {
   "cell_type": "markdown",
   "metadata": {},
   "source": [
    "### Reduce\n",
    "A função reduce() em Python é utilizada para aplicar uma função de maneira cumulativa aos itens de um iterável (como uma lista), reduzindo-os a um único valor.\n",
    "\n",
    "#### Como reduce() Funciona:\n",
    "A função reduce() aplica a função especificada ao primeiro par de itens no iterável e, em seguida, aplica o resultado ao próximo item, continuando até que todos os itens tenham sido processados e reduzidos a um único valor.\n",
    "* Sintaxe:\n",
    "```pytho\n",
    "from functools import reduce\n",
    "\n",
    "reduce(function, iterable[, initializer])\n",
    "```\n",
    "\n",
    "\n",
    "* function: A função a ser aplicada cumulativamente. Ela deve tomar dois argumentos.\n",
    "\n",
    "* iterable: O iterável cujos itens você deseja reduzir.\n",
    "\n",
    "* initializer (opcional): Um valor inicial que, se fornecido, é usado como o primeiro valor a ser combinado com o primeiro item do iterável."
   ]
  },
  {
   "cell_type": "code",
   "execution_count": 11,
   "metadata": {},
   "outputs": [
    {
     "data": {
      "text/plain": [
       "58"
      ]
     },
     "execution_count": 11,
     "metadata": {},
     "output_type": "execute_result"
    }
   ],
   "source": [
    "from functools import reduce\n",
    "def adicionar(a, b):\n",
    "    return a + b\n",
    "\n",
    "numeros = [3, 7, 1, 4, 7, 4, 3, 5, 3, 4, 3, 5, 1, 8]\n",
    "\n",
    "total = reduce(adicionar, numeros)\n",
    "total"
   ]
  },
  {
   "cell_type": "code",
   "execution_count": 12,
   "metadata": {},
   "outputs": [
    {
     "data": {
      "text/plain": [
       "8"
      ]
     },
     "execution_count": 12,
     "metadata": {},
     "output_type": "execute_result"
    }
   ],
   "source": [
    "# função com retorno ternário  \n",
    "# retorna o maior número de uma lista\n",
    "\n",
    "def maior2(x, y):\n",
    "    return x if x > y else y\n",
    "    \n",
    "resultado = reduce(maior2, numeros)\n",
    "resultado"
   ]
  },
  {
   "cell_type": "code",
   "execution_count": 17,
   "metadata": {},
   "outputs": [
    {
     "data": {
      "text/plain": [
       "{1, 2, 3, 4, 5, 6, 7}"
      ]
     },
     "execution_count": 17,
     "metadata": {},
     "output_type": "execute_result"
    }
   ],
   "source": [
    "# União de conjuntos\n",
    "# só funciona com sets\n",
    "\n",
    "def uniao(x, y):\n",
    "    return x | y\n",
    "\n",
    "lista_tuplas = [{1, 2, 3}, {3, 4, 5}, {5, 6, 7}]\n",
    "\n",
    "\n",
    "r = reduce(uniao, lista_tuplas)\n",
    "r\n"
   ]
  },
  {
   "cell_type": "code",
   "execution_count": 2,
   "metadata": {},
   "outputs": [
    {
     "name": "stdout",
     "output_type": "stream",
     "text": [
      "15\n"
     ]
    }
   ],
   "source": [
    "# Exemplo da internet\n",
    "from functools import reduce\n",
    "\n",
    "numbers = [1, 2, 3, 4, 5]\n",
    "\n",
    "sum_result = reduce(lambda x, y: x + y, numbers, 0)\n",
    "\n",
    "print(sum_result)  # Output: 10"
   ]
  },
  {
   "cell_type": "markdown",
   "metadata": {},
   "source": [
    "## Destaques aprendizado map/reduce/filter:\n",
    "\n",
    "- mais um kit de ferramentas que pode ser utilizado passando uma função dentro de outra\n",
    "- é mais 'sucinto' de escrever do que um for loop\n",
    "- pode ser bastante performático"
   ]
  },
  {
   "cell_type": "markdown",
   "metadata": {},
   "source": [
    "## Parâmetros de funções\n",
    "\n",
    "Quando estudamos funções, aprendemos que elas podem fornecer uma resposta (return) e podem ter parâmetros.\n",
    "\n",
    "Também vimos que a função poderia retornar exatamente um resultado.\n",
    "\n",
    "Para os parâmetros: Vimos que o número de argumentos a serem passados era fixo para cada função. Um argumento para cada parâmetro que declaramos na definição da função.\n",
    "\n",
    "Em alguns casos, mais flexibilidade seria útil.\n",
    "\n",
    "## Funções com retorno múltiplo\n",
    "Vejamos um caso simples: uma função que responde os valores máximo e mínimo de uma coleção."
   ]
  },
  {
   "cell_type": "code",
   "execution_count": 4,
   "metadata": {},
   "outputs": [
    {
     "name": "stdout",
     "output_type": "stream",
     "text": [
      "Menor: 2, Maior: 93\n"
     ]
    }
   ],
   "source": [
    "lista = [3, 23, 12, 66, 93, 2]\n",
    "def min_max(colecao):\n",
    "  menor = min(colecao)\n",
    "  maior = max(colecao)\n",
    "  return menor, maior\n",
    "\n",
    "# desempacotamento, atribuição de duas variáveis separadas por vígula. como a função retorna duas variáveis, é possível fazer esse desempacotamento.\n",
    "menor, maior = min_max(lista)\n",
    "print(f\"Menor: {menor}, Maior: {maior}\")"
   ]
  },
  {
   "cell_type": "markdown",
   "metadata": {},
   "source": [
    "Vamos resumir então.\n",
    "\n",
    "Quando utilizamos valores separados por vírgula em Python, os valores são agrupados em uma tupla, mesmo que não estejamos utilizando parênteses.\n",
    "Essa informação é relevante porque podemos separar a tupla em varias variáveis usando a mesma sintaxe:"
   ]
  },
  {
   "cell_type": "markdown",
   "metadata": {},
   "source": [
    "## Parâmetros com valores padrão\n",
    "Uma primeira forma de trabalhar com a ideia de parâmetros opcionais é atribuir valores padrão para nossos parâmetros. Quando fazemos isso, quando a função for chamada, o parâmetro pode ou não ser passado. Caso ele não seja passado, é adotado o valor padrão.\n",
    "\n",
    "Devemos primeiro colocar os parâmetros \"comuns\" (conhecidos como argumentos posicionais) para depois colocar os argumentos com valor padrão. Imagine, por exemplo, uma função que padroniza strings jogando todo seu conteúdo para upper ou lower. Podemos implementá-la da seguinte maneira:"
   ]
  },
  {
   "cell_type": "code",
   "execution_count": 5,
   "metadata": {},
   "outputs": [
    {
     "name": "stdout",
     "output_type": "stream",
     "text": [
      "sem passar o segundo argumento\n",
      "passando segundo argumento true\n",
      "PASSANDO SEGUNDO ARGUMENTO FALSE\n"
     ]
    }
   ],
   "source": [
    "def padroniza_string(texto, lower=True):\n",
    "    if lower:\n",
    "        return texto.lower()\n",
    "    else:\n",
    "        return texto.upper()\n",
    "\n",
    "print(padroniza_string('Sem passar o SEGUNDO argumento'))\n",
    "print(padroniza_string('Passando SEGUNDO argumento True', lower=True))\n",
    "print(padroniza_string('Passando SEGUNDO argumento False', lower=False))"
   ]
  },
  {
   "cell_type": "code",
   "execution_count": 8,
   "metadata": {},
   "outputs": [
    {
     "name": "stdout",
     "output_type": "stream",
     "text": [
      "(<function <lambda> at 0x7316f0bd4fe0>, 2, 5)\n"
     ]
    }
   ],
   "source": [
    "# # lambda x, y: x + y, numbers, 0\n",
    "# resultado = lambda a, b: a + b, 2, 5 \n",
    "# print(resultado)"
   ]
  },
  {
   "cell_type": "markdown",
   "metadata": {},
   "source": [
    "### Funções com quantidade variável de parâmetros - Args\n",
    "Talvez você já tenha notado que o print é uma função. Se não notou, esse é um bom momento para pensar a respeito. Nós sempre usamos com parênteses, nós passamos informações dentro dos parênteses (os dados a serem impressos) e ele faz um monte de coisa automaticamente: converte todos os dados passados para string, contatena todas as strings com um espaço entre elas e as escreve na tela.\n",
    "\n",
    "Algo que o print tem que as nossas funções não tinham é a capacidade de receber uma quantidade variável de parâmetros. Nós podemos passar 0 dados (e, neste caso, ele apenas pulará uma linha), 1 dado, 2 dados, 3 dados... Quantos dados quisermos, separados por vírgula, e ele funcionará para todos esses casos. Se até o momento temos que declarar todos os parâmetros, como fazer para que múltiplos dados possam ser passados?"
   ]
  },
  {
   "cell_type": "markdown",
   "metadata": {},
   "source": [
    "Agrupando Argumentos\n",
    "A solução é utilizar o operador * que, neste caso, não será uma multiplicação.\n",
    "\n",
    "Ao colocarmos o * ao lado do nome de um parâmetro na definição da função, estamos dizendo que aquele argumento será uma coleção. Mais especificamente, uma tupla.\n",
    "Porém, o usuário não irá passar uma tupla. Ele irá passar quantos argumentos ele quiser (inclusive nenhum se quiser), e o Python automaticamente criará uma tupla com eles.\n",
    "Já ao colocarmos o * junto de de um argumento da função que iremos chamar, ele irá 'desempacotar' o argumento que passamos.\n",
    "Vamos começar por esse segundo caso"
   ]
  },
  {
   "cell_type": "code",
   "execution_count": null,
   "metadata": {},
   "outputs": [],
   "source": [
    "# *args\n",
    "def somatorio(texto, *numeros):\n",
    "  print(numeros)\n",
    "  print(type(numeros))\n",
    "  print(texto)\n",
    "\n",
    "  soma = 0\n",
    "  for n in numeros:\n",
    "    soma += n\n",
    "\n",
    "  return soma\n",
    "\n",
    "somatorio('Goiaba', 1, 2, 3, 4)"
   ]
  },
  {
   "cell_type": "markdown",
   "metadata": {},
   "source": [
    "### Expandindo uma coleção\n",
    "O exemplo acima funciona muito bem quando o usuário da função possui vários dados avulsos, pois ele os agrupa em uma coleção. Mas o que acontece quando os dados já estão agrupados?"
   ]
  },
  {
   "cell_type": "code",
   "execution_count": 9,
   "metadata": {},
   "outputs": [
    {
     "name": "stdout",
     "output_type": "stream",
     "text": [
      "(1, 2, 3, 4)\n",
      "<class 'tuple'>\n"
     ]
    },
    {
     "data": {
      "text/plain": [
       "10"
      ]
     },
     "execution_count": 9,
     "metadata": {},
     "output_type": "execute_result"
    }
   ],
   "source": [
    "# *args\n",
    "def somatorio(*numeros):\n",
    "  print(numeros)\n",
    "  print(type(numeros))\n",
    "\n",
    "  soma = 0\n",
    "  for n in numeros:\n",
    "    soma += n\n",
    "\n",
    "  return soma\n",
    "lista = [1, 2, 3, 4]\n",
    "#somatorio(lista)  # erro\n",
    "somatorio(*lista)  #usando desempacotamento de lista"
   ]
  }
 ],
 "metadata": {
  "kernelspec": {
   "display_name": ".venv",
   "language": "python",
   "name": "python3"
  },
  "language_info": {
   "codemirror_mode": {
    "name": "ipython",
    "version": 3
   },
   "file_extension": ".py",
   "mimetype": "text/x-python",
   "name": "python",
   "nbconvert_exporter": "python",
   "pygments_lexer": "ipython3",
   "version": "3.12.4"
  }
 },
 "nbformat": 4,
 "nbformat_minor": 2
}
