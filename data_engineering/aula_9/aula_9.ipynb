{
 "cells": [
  {
   "cell_type": "markdown",
   "metadata": {},
   "source": [
    "# Exercícios\n",
    "\n",
    "O programa abaixo apresenta alguns erros de execução. Sem alterar as estruturas de dados originais (lista e dicionário):\n",
    "- faça um tratamento adequado dos erros para exibir as médias corretas de cada aluno ou mensagens de erro significativas para o usuário em português, sem permitir que o programa seja interrompido antes de finalizar sua execução.\n",
    "\n",
    "- para cada tentativa de média dos alunos, exiba a mensagem evidenciando que está começando a processar as informações do aluno e quando tiver terminado de processa-las, independente se deu erro ou não.\n",
    "\n",
    "\n",
    "```python\n",
    "alunos = ['John', 'Paul', 'George', 'Ringo', 'Joao', 'Pete']\n",
    "\n",
    "notas = {\n",
    "    'John':[7.5, 9.0, 8.25, 8.0],\n",
    "    'Paul':[9.0, 8.5, '10.0', 8.5],\n",
    "    'George':[6.0, '7.0', 8.0, 9],\n",
    "    'Ringo':[4.5, 4.0, 6.0, 7.0],\n",
    "    'Pete':[]\n",
    "}\n",
    "\n",
    "for aluno in alunos:\n",
    "    media = sum(notas[aluno])/len(notas[aluno])\n",
    "    print(f'{aluno}:\\t{media}')\n",
    "```"
   ]
  },
  {
   "cell_type": "code",
   "execution_count": 1,
   "metadata": {},
   "outputs": [
    {
     "name": "stdout",
     "output_type": "stream",
     "text": [
      "Processando as notas do aluno John...\n",
      "John:\t8.1875\n",
      "As notas do aluno John foram processadas com sucesso!\n",
      "processamento do aluno John finalizado!\n",
      "Processando as notas do aluno Paul...\n",
      "As notas do aluno Paul tem dados inválidos.\n",
      "processamento do aluno Paul finalizado!\n",
      "Processando as notas do aluno George...\n",
      "As notas do aluno George tem dados inválidos.\n",
      "processamento do aluno George finalizado!\n",
      "Processando as notas do aluno Ringo...\n",
      "Ringo:\t5.375\n",
      "As notas do aluno Ringo foram processadas com sucesso!\n",
      "processamento do aluno Ringo finalizado!\n",
      "Processando as notas do aluno Joao...\n",
      "As notas do aluno Joao não foram cadastradas.\n",
      "processamento do aluno Joao finalizado!\n",
      "Processando as notas do aluno Pete...\n",
      "As notas do aluno Pete estão vazias.\n",
      "processamento do aluno Pete finalizado!\n"
     ]
    }
   ],
   "source": [
    "alunos = ['John', 'Paul', 'George', 'Ringo', 'Joao', 'Pete']\n",
    "\n",
    "notas = {\n",
    "    'John':[7.5, 9.0, 8.25, 8.0],\n",
    "    'Paul':[9.0, 8.5, '10.0', 8.5],\n",
    "    'George':[6.0, '7.0', 8.0, 9],\n",
    "    'Ringo':[4.5, 4.0, 6.0, 7.0],\n",
    "    'Pete':[]\n",
    "}\n",
    "\n",
    "for aluno in alunos:\n",
    "  print(f'Processando as notas do aluno {aluno}...')\n",
    "  try:\n",
    "      media = sum(notas[aluno])/len(notas[aluno])\n",
    "      print(f'{aluno}:\\t{media}')\n",
    "  except TypeError:\n",
    "    print(f'As notas do aluno {aluno} tem dados inválidos.')\n",
    "  except KeyError:\n",
    "    print(f'As notas do aluno {aluno} não foram cadastradas.')\n",
    "  except ZeroDivisionError:\n",
    "    print(f'As notas do aluno {aluno} estão vazias.')\n",
    "  except:\n",
    "    print(f'as do aluno {aluno} deram erro na execução.')\n",
    "  else:\n",
    "    print(f'As notas do aluno {aluno} foram processadas com sucesso!')\n",
    "  \n",
    "\n",
    "      \n",
    "  finally:\n",
    "      print(f'processamento do aluno {aluno} finalizado!')"
   ]
  },
  {
   "cell_type": "markdown",
   "metadata": {},
   "source": [
    "## Criando novas exceções\n",
    "\n",
    "Muitos problemas simples podem ser resolvidos através do ```raise Exception(mensagem)```. Porém, você deve ter notado que o nome da nossa mensagem de erro foi ```Exception```.\n",
    "\n",
    "Exceções geralmente são implementadas através de classes. O \"nome\" dos erros é o nome da classe de cada exceção. Existe uma exceção genérica chamada de ```Exception```. Quando usamos ```raise Exception(mensagem)```, estamos lançando essa exceção genérica junto de uma mensagem de erro personalizada.\n",
    "\n",
    "O problema da nossa abordagem é que por utilizarmos uma exceção genérica não teremos como adicionar um ```except``` específico para nossa mensagem. Vamos criar nossa própria classe para escolher o nome de nosso erro. Exceções personalizadas geralmente **herdam** da classe ```Exception```. Fazemos isso adicionando ```(Exception)``` após o nome de nossa classe.\n",
    "\n",
    "Vamos colocar um construtor que recebe uma mensagem. Podemos definir uma mensagem padrão, caso ninguém passe a mensagem. Em seguida, chamaremos o construtor da superclasse ```(Exception)```. Não se preocupe com os detalhes, veremos isso na aula de herança."
   ]
  },
  {
   "cell_type": "code",
   "execution_count": null,
   "metadata": {},
   "outputs": [],
   "source": [
    "# essa é a classe exception que conhecemos\n",
    "Exception('minha mensagem de erro')\n",
    "\n",
    "Exception() # recebe um argumento, que é nossa mensagem de erro\n",
    "raise Exception('minha mensagem de erro')\n",
    "\n",
    "class SalarioInvalido(Exception):\n",
    "    def __init__(self, message='Salários devem ser positivos!'): # vou colocar essa mensagem default\n",
    "        super().__init__(message)"
   ]
  },
  {
   "cell_type": "markdown",
   "metadata": {},
   "source": [
    "Agora que criamos nossa exceção, podemos lançá-la:"
   ]
  },
  {
   "cell_type": "code",
   "execution_count": null,
   "metadata": {},
   "outputs": [],
   "source": [
    "lista_salarios = []\n",
    "\n",
    "def cadastrar_salario(salario: float, lista: list):\n",
    "    if salario <= 0:\n",
    "        raise SalarioInvalido(salario)\n",
    "    return lista + [salario]\n",
    "\n",
    "cadastrar_salario(0,lista_salarios)"
   ]
  },
  {
   "cell_type": "markdown",
   "metadata": {},
   "source": [
    "Agora sim temos um erro com seu próprio nome e uma mensagem padrão. Mas note que quem está usando a nossa exceção pode personalizar a mensagem se quiser, basta passar uma mensagem diferente entre parênteses. O tipo do erro ainda será o mesmo e ambos deverão ser identificados como SalarioInvalido no Except."
   ]
  },
  {
   "cell_type": "code",
   "execution_count": null,
   "metadata": {},
   "outputs": [],
   "source": [
    "salarios = []\n",
    "\n",
    "def cadastrar_salario(salario):\n",
    "    if salario <= 0:\n",
    "        raise SalarioInvalido('Deixa de ser mão-de-vaca e pague seus funcionários!')\n",
    "\n",
    "    salarios.append(salario)\n",
    "\n",
    "cadastrar_salario(0)"
   ]
  },
  {
   "cell_type": "markdown",
   "metadata": {},
   "source": [
    "Bom, para finalizar, vale sempre lembrar que podemos tratar essa exceção específica:"
   ]
  },
  {
   "cell_type": "code",
   "execution_count": null,
   "metadata": {},
   "outputs": [],
   "source": [
    "salarios = []\n",
    "\n",
    "def cadastrar_salario(salario):\n",
    "  if salario <= 0:\n",
    "      raise SalarioInvalido()\n",
    "\n",
    "  salarios.append(salario)\n",
    "\n",
    "for i in range(3):\n",
    "  try:\n",
    "    salario = float(input('Digite o salário do funcionário: '))\n",
    "    cadastrar_salario(salario)\n",
    "  except SalarioInvalido:\n",
    "    print('Nosso RH é uma vergonha :(')\n",
    "  except:\n",
    "    print('Exceção genérica lalala')\n",
    "\n",
    "print(salarios)"
   ]
  },
  {
   "cell_type": "markdown",
   "metadata": {},
   "source": [
    "O tópico parece extenso, mas é bastante simples e você irá usar apenas o que precisar.\n",
    "\n",
    "Como usuário de um módulo, você deverá saber se existem situações onde ele pode lançar exceções, e neste caso usar o ```try```/```exception``` para tratá-las.\n",
    "\n",
    "Caso haja necessidade de dar tratamentos diferentes para exceções diferentes, você pode utilizar múltiplos ```except```, mas isso é totalmente opcional.\n",
    "\n",
    "No ```except``` você também pode usar o ```as``` para apelidar sua exceção e, assim, acessar seus atributos caso necessário.\n",
    "\n",
    "Caso haja necessidade de realizar qualquer \"limpeza\", como fechar arquivos e conexões, você pode usar o ```finally```.\n",
    "\n",
    "---\n",
    "\n",
    "Como criador de módulos, é útil lançar exceções sempre que você encontrar uma situação onde você acredita que uma tarefa deveria ser abandonada porque algum valor ou situação errada ocorreu. Nunca sinalize essas situações com um ```print```, sempre prefira utilizar o ```raise``` para lançar exceções, pois elas irão aparecer no terminal assim como o ```print```, mas também irão aparecer em logs e podem ser detectadas em código.\n",
    "\n",
    "Caso você deseje criar exceções específicas para situações específicas, crie uma classe herdeira de ```Exception``` e não se esqueça de invocar o ```super().__init__``` passando sua mensagem. Nessa classe você pode personalizar mensagens e até mesmo armazenar informações úteis sobre o erro."
   ]
  },
  {
   "cell_type": "markdown",
   "metadata": {},
   "source": [
    "links úteis\n",
    "documentação de exceptions built-in: https://docs.python.org/3/library/exceptions.html"
   ]
  },
  {
   "cell_type": "code",
   "execution_count": null,
   "metadata": {},
   "outputs": [],
   "source": []
  }
 ],
 "metadata": {
  "kernelspec": {
   "display_name": ".venv",
   "language": "python",
   "name": "python3"
  },
  "language_info": {
   "codemirror_mode": {
    "name": "ipython",
    "version": 3
   },
   "file_extension": ".py",
   "mimetype": "text/x-python",
   "name": "python",
   "nbconvert_exporter": "python",
   "pygments_lexer": "ipython3",
   "version": "3.12.3"
  }
 },
 "nbformat": 4,
 "nbformat_minor": 2
}
