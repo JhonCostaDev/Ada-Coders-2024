{
 "cells": [
  {
   "cell_type": "markdown",
   "metadata": {},
   "source": [
    "Treino\n",
    "\n",
    "exemplo 2:\n",
    "\n",
    "carteira1 : (x: 1, y: 1, z: 1)\n",
    "carteira2 : (x: 2, y: 2, z: 1)\n",
    "\n",
    "distância, é a raiz quadrada de: (2-1)2 + (2-1)2 + (1-1)2 em outras palavras: raiz quadrada de (1 + 1 + 0).\n",
    "\n",
    "a distância entre esses dois pontos é de: 1.41"
   ]
  },
  {
   "cell_type": "code",
   "execution_count": 46,
   "metadata": {},
   "outputs": [
    {
     "data": {
      "text/plain": [
       "[0.0,\n",
       " 1.0,\n",
       " 13.856406460551018,\n",
       " 13.30413469565007,\n",
       " 9.433981132056603,\n",
       " 10.04987562112089]"
      ]
     },
     "execution_count": 46,
     "metadata": {},
     "output_type": "execute_result"
    }
   ],
   "source": [
    "treino =[\n",
    "[1,1,1], #-- conservador[1,1,1]\n",
    "[1,1,2],# -- conservador\n",
    "\n",
    "[9,9,9], #-- moderado\n",
    "[9,9,8] ,#-- moderado\n",
    "\n",
    "[4,5,9], #-- agressivo\n",
    "[7,8,5], #-- agressivo\n",
    "]\n",
    "\n",
    "teste = [1,1,1] #teste = [1.2,1.3,2]\n",
    "\n",
    "def calcular_raiz(n):\n",
    "    return n ** 0.5\n",
    "\n",
    "def calcula_k(lista_dados, novo_dado):\n",
    "    k_resultados = []\n",
    "    for carteira in lista_dados:\n",
    "        k=0\n",
    "        carteira_base = carteira\n",
    "        for i in range(len(novo_dado)):\n",
    "            k += (carteira_base[i] - novo_dado[i]) ** 2\n",
    "        k_resultados.append(calcular_raiz(k))    \n",
    "    return k_resultados\n",
    "\n",
    "\n",
    "  \n",
    "(calcula_k(treino, teste))"
   ]
  },
  {
   "cell_type": "markdown",
   "metadata": {},
   "source": [
    "Treino identificando"
   ]
  },
  {
   "cell_type": "code",
   "execution_count": 50,
   "metadata": {},
   "outputs": [
    {
     "data": {
      "text/plain": [
       "[0.0,\n",
       " 1.0,\n",
       " 9.433981132056603,\n",
       " 10.04987562112089,\n",
       " 13.30413469565007,\n",
       " 13.856406460551018]"
      ]
     },
     "execution_count": 50,
     "metadata": {},
     "output_type": "execute_result"
    }
   ],
   "source": [
    "\n",
    "treino =[\n",
    "['cachorro', 'conservador',(1,1,1)], \n",
    "['gato', 'conservador',(1,1,2)],\n",
    "\n",
    "['papagaio', 'moderado',(9,9,9)], #-- moderado\n",
    "['colho', 'moderado', (9,9,8)] ,#-- moderado\n",
    "\n",
    "['urso','agressivo',(4,5,9)], #-- agressivo\n",
    "['lobo', 'agressivo',(7,8,5)], #-- agressivo\n",
    "]\n",
    "\n",
    "teste = ['onitorrinco', '',(1,1,1)] #teste = [1.2,1.3,2]\n",
    "\n",
    "def calcular_raiz(n):\n",
    "    return n ** 0.5\n",
    "\n",
    "def calcula_k(lista_dados, novo_dado):\n",
    "    k_resultados = []\n",
    "    for carteira in lista_dados:\n",
    "        k=0\n",
    "        carteira_base = carteira[2]\n",
    "        nova_carteira = novo_dado[2]\n",
    "        # print(carteira_base)\n",
    "        # print(len(nova_carteira))\n",
    "        for i in range(len(nova_carteira)):\n",
    "            k += (carteira_base[i] - nova_carteira[i]) ** 2\n",
    "        k_resultados.append(calcular_raiz(k))    \n",
    "    return k_resultados\n",
    "\n",
    "sorted(calcula_k(treino, teste))\n",
    "\n",
    "#TODO: CLASSIFICAR\n"
   ]
  },
  {
   "cell_type": "markdown",
   "metadata": {},
   "source": [
    "# Treino novos dados em lista\n",
    "\n"
   ]
  },
  {
   "cell_type": "code",
   "execution_count": 48,
   "metadata": {},
   "outputs": [
    {
     "ename": "TypeError",
     "evalue": "unsupported operand type(s) for -: 'int' and 'str'",
     "output_type": "error",
     "traceback": [
      "\u001b[0;31m---------------------------------------------------------------------------\u001b[0m",
      "\u001b[0;31mTypeError\u001b[0m                                 Traceback (most recent call last)",
      "Cell \u001b[0;32mIn[48], line 34\u001b[0m\n\u001b[1;32m     31\u001b[0m         k_resultados\u001b[38;5;241m.\u001b[39mappend(calcular_raiz(k))    \n\u001b[1;32m     32\u001b[0m     \u001b[38;5;28;01mreturn\u001b[39;00m k_resultados\n\u001b[0;32m---> 34\u001b[0m \u001b[43mcalcula_k\u001b[49m\u001b[43m(\u001b[49m\u001b[43mtreino\u001b[49m\u001b[43m,\u001b[49m\u001b[43m \u001b[49m\u001b[43mteste\u001b[49m\u001b[43m)\u001b[49m\n",
      "Cell \u001b[0;32mIn[48], line 30\u001b[0m, in \u001b[0;36mcalcula_k\u001b[0;34m(lista_dados, novo_dado)\u001b[0m\n\u001b[1;32m     27\u001b[0m     \u001b[38;5;66;03m# print(carteira_base)\u001b[39;00m\n\u001b[1;32m     28\u001b[0m     \u001b[38;5;66;03m# print(len(nova_carteira))\u001b[39;00m\n\u001b[1;32m     29\u001b[0m     \u001b[38;5;28;01mfor\u001b[39;00m i \u001b[38;5;129;01min\u001b[39;00m \u001b[38;5;28mrange\u001b[39m(\u001b[38;5;28mlen\u001b[39m(nova_carteira)):\n\u001b[0;32m---> 30\u001b[0m         k \u001b[38;5;241m+\u001b[39m\u001b[38;5;241m=\u001b[39m (\u001b[43mcarteira_base\u001b[49m\u001b[43m[\u001b[49m\u001b[43mi\u001b[49m\u001b[43m]\u001b[49m\u001b[43m \u001b[49m\u001b[38;5;241;43m-\u001b[39;49m\u001b[43m \u001b[49m\u001b[43mnova_carteira\u001b[49m\u001b[43m[\u001b[49m\u001b[43mi\u001b[49m\u001b[43m]\u001b[49m) \u001b[38;5;241m*\u001b[39m\u001b[38;5;241m*\u001b[39m \u001b[38;5;241m2\u001b[39m\n\u001b[1;32m     31\u001b[0m     k_resultados\u001b[38;5;241m.\u001b[39mappend(calcular_raiz(k))    \n\u001b[1;32m     32\u001b[0m \u001b[38;5;28;01mreturn\u001b[39;00m k_resultados\n",
      "\u001b[0;31mTypeError\u001b[0m: unsupported operand type(s) for -: 'int' and 'str'"
     ]
    }
   ],
   "source": [
    "treino =[\n",
    "        ['cachorro', 'conservador',(1,1,1)], \n",
    "        ['gato', 'conservador',(1,1,2)],\n",
    "        ['papagaio', 'moderado',(9,9,9)], \n",
    "        ['colho', 'moderado', (9,9,8)] ,\n",
    "        ['urso','agressivo',(4,5,9)],\n",
    "        ['lobo', 'agressivo',(7,8,5)], \n",
    "]\n",
    "\n",
    "teste = [['onitorrinco', '',(3, 7, 1)],\n",
    "         ['jacare', '',(5, 2, 8)],\n",
    "         ['leao', '',(9, 4, 6)],\n",
    "         ['tigre', '',(1, 3, 7)],\n",
    "         ['jumento', '',(8, 5, 2)],\n",
    "         ['cavalo', '',(4, 9, 3)],\n",
    "         ] #teste = [1.2,1.3,2]\n",
    "\n",
    "def calcular_raiz(n):\n",
    "    return n ** 0.5\n",
    "\n",
    "def calcula_k(lista_dados, novo_dado):\n",
    "    k_resultados = []\n",
    "    for carteira in lista_dados:\n",
    "        k=0\n",
    "        carteira_base = carteira[2]\n",
    "        nova_carteira = novo_dado[2]\n",
    "        # print(carteira_base)\n",
    "        # print(len(nova_carteira))\n",
    "        for i in range(len(nova_carteira)):\n",
    "            k += (carteira_base[i] - nova_carteira[i]) ** 2\n",
    "        k_resultados.append(calcular_raiz(k))    \n",
    "    return k_resultados\n",
    "\n",
    "calcula_k(treino, teste)\n"
   ]
  }
 ],
 "metadata": {
  "kernelspec": {
   "display_name": ".venv",
   "language": "python",
   "name": "python3"
  },
  "language_info": {
   "codemirror_mode": {
    "name": "ipython",
    "version": 3
   },
   "file_extension": ".py",
   "mimetype": "text/x-python",
   "name": "python",
   "nbconvert_exporter": "python",
   "pygments_lexer": "ipython3",
   "version": "3.12.3"
  }
 },
 "nbformat": 4,
 "nbformat_minor": 2
}
