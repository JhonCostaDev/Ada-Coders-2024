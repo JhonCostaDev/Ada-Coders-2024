{
 "cells": [
  {
   "cell_type": "code",
   "execution_count": 1,
   "metadata": {},
   "outputs": [
    {
     "name": "stdout",
     "output_type": "stream",
     "text": [
      "hello\n"
     ]
    }
   ],
   "source": [
    "print(\"hello\")"
   ]
  },
  {
   "cell_type": "markdown",
   "metadata": {},
   "source": [
    "# Tuplas\n",
    "## O que são e por que user?\n",
    "\n",
    "Tuplas podem ser pensadas como listas mas com algumas restrições:\n",
    "\n",
    "* Não podemos alterar uma tupla nem  em ordem, nem conteúdo."
   ]
  },
  {
   "cell_type": "code",
   "execution_count": 6,
   "metadata": {},
   "outputs": [
    {
     "name": "stdout",
     "output_type": "stream",
     "text": [
      "Tamanho: 5\n",
      "<class 'tuple'>\n"
     ]
    }
   ],
   "source": [
    "# Declaração de tupla\n",
    "tupla = (\"Manga\", \"pera\", 7, True, 0.32)\n",
    "print(f\"Tamanho: {len(tupla)}\")\n",
    "print(type(tupla))"
   ]
  },
  {
   "cell_type": "markdown",
   "metadata": {},
   "source": [
    "Para alterarmos uma tupla, podemos, por exemplo, fazer um cast para listas, alterar e retornar para uma tupla."
   ]
  },
  {
   "cell_type": "code",
   "execution_count": 7,
   "metadata": {},
   "outputs": [
    {
     "name": "stdout",
     "output_type": "stream",
     "text": [
      "Tupla antes de alterar: ('Manga', 'pera', 7, True, 0.32)\n",
      "Tupla depois de alterar: ('Manga', 'pera', 7, True, 0.32, 'Alteração na tupla')\n"
     ]
    }
   ],
   "source": [
    "print(f\"Tupla antes de alterar: {tupla}\")\n",
    "\n",
    "lista_auxiliar = list(tupla)\n",
    "lista_auxiliar.append(\"Alteração na tupla\")\n",
    "\n",
    "tupla = tuple(lista_auxiliar)\n",
    "print(f\"Tupla depois de alterar: {tupla}\")"
   ]
  },
  {
   "cell_type": "markdown",
   "metadata": {},
   "source": [
    "Tuplas podem ser desempacotadas, isso é, desmembrar seus valores para variáveis individuais."
   ]
  },
  {
   "cell_type": "code",
   "execution_count": 10,
   "metadata": {},
   "outputs": [
    {
     "name": "stdout",
     "output_type": "stream",
     "text": [
      "5\n",
      "10\n"
     ]
    }
   ],
   "source": [
    "x, y = (5, 10)\n",
    "print(x)\n",
    "print(y)"
   ]
  },
  {
   "cell_type": "markdown",
   "metadata": {},
   "source": [
    "Uma outra maneira de desempacotar utilizando(*)\n"
   ]
  },
  {
   "cell_type": "code",
   "execution_count": 13,
   "metadata": {},
   "outputs": [
    {
     "ename": "ValueError",
     "evalue": "too many values to unpack (expected 3)",
     "output_type": "error",
     "traceback": [
      "\u001b[0;31m---------------------------------------------------------------------------\u001b[0m",
      "\u001b[0;31mValueError\u001b[0m                                Traceback (most recent call last)",
      "Cell \u001b[0;32mIn[13], line 1\u001b[0m\n\u001b[0;32m----> 1\u001b[0m a, b, c \u001b[38;5;241m=\u001b[39m \u001b[38;5;241m1\u001b[39m, \u001b[38;5;241m2\u001b[39m, \u001b[38;5;241m3\u001b[39m, \u001b[38;5;241m4\u001b[39m, \u001b[38;5;241m5\u001b[39m\n",
      "\u001b[0;31mValueError\u001b[0m: too many values to unpack (expected 3)"
     ]
    }
   ],
   "source": [
    "a, b, c = 1, 2, 3, 4, 5\n"
   ]
  },
  {
   "cell_type": "markdown",
   "metadata": {},
   "source": [
    "quando temos muitos valores para poucas variáveis, colocando o (*) antes da ultima variável, o python atribui todos os valores excedentes a variável sinalizada com o * na forma de uma lista. "
   ]
  },
  {
   "cell_type": "code",
   "execution_count": 16,
   "metadata": {},
   "outputs": [
    {
     "name": "stdout",
     "output_type": "stream",
     "text": [
      "1\n",
      "2\n",
      "[3, 4, 5]\n"
     ]
    }
   ],
   "source": [
    "a, b, *c = 1, 2, 3, 4, 5 # 3, 4 e 5 serão atribuidos a c em forma de uma lista.\n",
    "print(a)\n",
    "print(b)\n",
    "print(c)"
   ]
  },
  {
   "cell_type": "code",
   "execution_count": 17,
   "metadata": {},
   "outputs": [
    {
     "name": "stdout",
     "output_type": "stream",
     "text": [
      "1\n",
      "[2, 3, 4]\n",
      "5\n"
     ]
    }
   ],
   "source": [
    "a, *b, c = 1, 2, 3, 4, 5 # 3, 4 e 5 serão atribuidos a c em forma de uma lista.\n",
    "print(a)\n",
    "print(b)\n",
    "print(c)"
   ]
  },
  {
   "cell_type": "code",
   "execution_count": 18,
   "metadata": {},
   "outputs": [
    {
     "name": "stdout",
     "output_type": "stream",
     "text": [
      "1\n",
      "[2, 3, 4, 5, 6]\n",
      "7\n",
      "8\n"
     ]
    }
   ],
   "source": [
    "a, *b, c, d = 1, 2, 3, 4, 5, 6, 7, 8 # 3, 4 e 5 serão atribuidos a c em forma de uma lista.\n",
    "print(a)\n",
    "print(b)\n",
    "print(c)\n",
    "print(d)"
   ]
  },
  {
   "cell_type": "markdown",
   "metadata": {},
   "source": [
    "Também podemos guardar essas variáveis em uma tupla."
   ]
  },
  {
   "cell_type": "code",
   "execution_count": 19,
   "metadata": {},
   "outputs": [
    {
     "name": "stdout",
     "output_type": "stream",
     "text": [
      "1 <class 'int'>\n",
      "2\n"
     ]
    }
   ],
   "source": [
    "(a, b, *c, d) = 1, 2, 3, 4, 5\n",
    "print(a, type(a))\n",
    "print(b)"
   ]
  },
  {
   "cell_type": "markdown",
   "metadata": {},
   "source": [
    "Tuplas podem ser percorridas em loop igualmente às listas, além disso podemos concatenar tuplas com o (+) e multiplicar elas por inteiros usando *"
   ]
  },
  {
   "cell_type": "code",
   "execution_count": 24,
   "metadata": {},
   "outputs": [
    {
     "name": "stdout",
     "output_type": "stream",
     "text": [
      "Morango\n",
      "pera\n",
      "maçã\n",
      "('Morango', 'pera', 'maçã', 'Jhon', 18)\n",
      "('Morango', 'pera', 'maçã', 'Morango', 'pera', 'maçã', 'Morango', 'pera', 'maçã', 'Morango', 'pera', 'maçã')\n"
     ]
    }
   ],
   "source": [
    "tupla_frutas = (\"Morango\", \"pera\", \"maçã\")\n",
    "\n",
    "for item in tupla_frutas:\n",
    "    print(item)\n",
    "\n",
    "tupla_2 = (\"Jhon\", 18)\n",
    "tupla_3 = tupla_frutas + tupla_2\n",
    "print(tupla_3) \n",
    "tupla_multiplicada = tupla_frutas * 4\n",
    "print(tupla_multiplicada)\n"
   ]
  },
  {
   "cell_type": "markdown",
   "metadata": {},
   "source": [
    "As tuplas também possuem os métodos **.count() e .index()** que, respectivamente, contam quantos dados iguais ao que passamos a tupla possui, e em qual index está o primeiro dado igual ao que passamos."
   ]
  },
  {
   "cell_type": "code",
   "execution_count": 26,
   "metadata": {},
   "outputs": [
    {
     "name": "stdout",
     "output_type": "stream",
     "text": [
      "1\n",
      "4\n"
     ]
    }
   ],
   "source": [
    "frequencia_morango = tupla_frutas.count(\"Morango\")\n",
    "print(frequencia_morango)\n",
    "\n",
    "frequencia_morango = tupla_multiplicada.count(\"Morango\")\n",
    "print(frequencia_morango)"
   ]
  },
  {
   "cell_type": "code",
   "execution_count": 28,
   "metadata": {},
   "outputs": [
    {
     "name": "stdout",
     "output_type": "stream",
     "text": [
      "4\n",
      "1\n"
     ]
    }
   ],
   "source": [
    "# index- retorna a primeira ocorrência.\n",
    "primeiro_index = tupla_3.index(18)\n",
    "print(primeiro_index)\n",
    "primeiro_index_2 = tupla_multiplicada.index(\"pera\")\n",
    "print(primeiro_index_2)\n",
    "#TODO: fazer algoritmo que retorne todos os indices de uma ocorrência."
   ]
  },
  {
   "cell_type": "markdown",
   "metadata": {},
   "source": [
    "# Dicionários \n",
    "Dicionários também podem ser pensados analogamente a listas, mas não pensaremos mais no conceito de index e sim em palavra -chave. Assim como um dicionário real possui palavras e suas definições, um dicionário em Python também!\n",
    "Entretanto devemos nos atentar que um dicionário não pode ter duas definições para a mesma palavra(mas pode ter uma definição única definida por uma lista!)\n",
    "\n",
    "Dicionários são declarados entre chaves, e acessados com colchetes(usando as palavras-chaves e não as indexes) ou com função **get()** usando a palavra-chave como parâmetro. Além disso com a função **keys()** podemos listar todas as palavras-chaves de um dicionário."
   ]
  },
  {
   "cell_type": "code",
   "execution_count": null,
   "metadata": {},
   "outputs": [],
   "source": [
    "litas = []\n",
    "tuplas = ()\n",
    "dicionarios = {}\n",
    "\n"
   ]
  },
  {
   "cell_type": "code",
   "execution_count": 30,
   "metadata": {},
   "outputs": [
    {
     "data": {
      "text/plain": [
       "{'nome': 'pedro',\n",
       " 'idade': 18,\n",
       " 'profissao': 'padeiro',\n",
       " 'filhos': ['pedro', 'luiza', 'maria']}"
      ]
     },
     "execution_count": 30,
     "metadata": {},
     "output_type": "execute_result"
    }
   ],
   "source": [
    "#Dicionario\n",
    "pessoa = {\n",
    "    \"nome\": \"pedro\",\n",
    "    \"idade\": 18,\n",
    "    \"profissao\": \"padeiro\",\n",
    "    \"filhos\": [\"pedro\", \"luiza\", \"maria\"],\n",
    "    }\n",
    "pessoa"
   ]
  },
  {
   "cell_type": "code",
   "execution_count": null,
   "metadata": {},
   "outputs": [],
   "source": []
  }
 ],
 "metadata": {
  "kernelspec": {
   "display_name": ".venv",
   "language": "python",
   "name": "python3"
  },
  "language_info": {
   "codemirror_mode": {
    "name": "ipython",
    "version": 3
   },
   "file_extension": ".py",
   "mimetype": "text/x-python",
   "name": "python",
   "nbconvert_exporter": "python",
   "pygments_lexer": "ipython3",
   "version": "3.12.3"
  }
 },
 "nbformat": 4,
 "nbformat_minor": 2
}
