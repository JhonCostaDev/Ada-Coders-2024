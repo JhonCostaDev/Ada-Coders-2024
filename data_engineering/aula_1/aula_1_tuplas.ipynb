{
 "cells": [
  {
   "cell_type": "code",
   "execution_count": 9,
   "metadata": {},
   "outputs": [
    {
     "name": "stdout",
     "output_type": "stream",
     "text": [
      "hello\n"
     ]
    }
   ],
   "source": [
    "print(\"hello\")"
   ]
  },
  {
   "cell_type": "markdown",
   "metadata": {},
   "source": [
    "# TUPLAS "
   ]
  },
  {
   "cell_type": "markdown",
   "metadata": {},
   "source": [
    "# Tuplas\n",
    "## O que são e por que user?\n",
    "\n",
    "Tuplas podem ser pensadas como listas mas com algumas restrições:\n",
    "\n",
    "* Não podemos alterar uma tupla nem  em ordem, nem conteúdo.\n",
    "\n",
    "Por que deveriamos usa-las então? Velocidade e organização de código. Um programador ao ver uma tupla sabe que seu conteúdo não pode ser alterado indiscriminadamente, além disso, a capacidade de alteração numa lista exige algoritmos mais complexos e lentos, então trabalhar com tuplas nos permite maior desempenho.\n",
    "\n",
    "As tuplas são declaradas entre parênteses, possuem algumas funções nativas semelhantes as listas, como **len()** e **type()**, e também são consultadas **(slicing)** da mesma maneira com os colchetes. As tuplas também aceitam dados mistos dentro de sí.\n",
    "\n"
   ]
  },
  {
   "cell_type": "code",
   "execution_count": 10,
   "metadata": {},
   "outputs": [
    {
     "name": "stdout",
     "output_type": "stream",
     "text": [
      "Tamanho: 5\n",
      "<class 'tuple'>\n"
     ]
    }
   ],
   "source": [
    "# Declaração de tupla\n",
    "tupla = (\"Manga\", \"pera\", 7, True, 0.32)\n",
    "print(f\"Tamanho: {len(tupla)}\") # Tamanho da tupla - número de elementos\n",
    "print(type(tupla))"
   ]
  },
  {
   "cell_type": "markdown",
   "metadata": {},
   "source": [
    "## Formas de declaração de uma tupla\n",
    "\n",
    "Embora não seja necessário, é comum colocar tuplas entre parênteses:"
   ]
  },
  {
   "cell_type": "code",
   "execution_count": 11,
   "metadata": {},
   "outputs": [
    {
     "name": "stdout",
     "output_type": "stream",
     "text": [
      "<class 'str'>\n",
      "()\n",
      "('x', 'b', 'o', 'x')\n"
     ]
    }
   ],
   "source": [
    "myTuple = (1, 2, 3, 4, 5, 6)\n",
    "\n",
    "# Um exemplo onde é bastante útil o uso de tuplas, é quando em um programa necessitamos armazenar  os nomes de cada mês do ano:\n",
    "\n",
    "meses_do_ano = (\"Jan\", \"Fev\", \"Mar\", \"Abr\", \"Mai\", \"Jun\", \"Jul\", \"Ago\", \"Set\", \"Out\", \"Nov\", \"Dez\",)\n",
    "\n",
    "#Para se criar uma tupla com um único elemento, é preciso incluir uma vírgula no final:\n",
    "\n",
    "language1 = (\"Python\",)\n",
    "language2 = \"Python\",\n",
    "language3 = \"Python\"\n",
    "print(type(language3))\n",
    "\n",
    "\n",
    "#Podemos também criar uma tupla com a função build-in **tuple**. Sem argumentos cria uma tupla vazia:\n",
    "\n",
    "\n",
    "frutas = tuple()\n",
    "print(frutas) # Tupla vazia()\n",
    "\n",
    "\n",
    "#Se os argumentos forem uma sequência (string, lista ou tupla), o resultado é uma tupla com os elementos da sequência:\n",
    "\n",
    "console = 'xbox'\n",
    "console = tuple(console)\n",
    "print(console) # ('x', 'b', 'o', 'x')\n"
   ]
  },
  {
   "cell_type": "markdown",
   "metadata": {},
   "source": [
    "Para alterarmos uma tupla, podemos, por exemplo, fazer um cast para listas, alterar e retornar para uma tupla."
   ]
  },
  {
   "cell_type": "code",
   "execution_count": 12,
   "metadata": {},
   "outputs": [
    {
     "name": "stdout",
     "output_type": "stream",
     "text": [
      "Tupla antes de alterar: ('Manga', 'pera', 7, True, 0.32)\n",
      "Tupla depois de alterar: ('Manga', 'pera', 7, True, 0.32, 'Alteração na tupla')\n"
     ]
    }
   ],
   "source": [
    "print(f\"Tupla antes de alterar: {tupla}\")\n",
    "\n",
    "lista_auxiliar = list(tupla)\n",
    "lista_auxiliar.append(\"Alteração na tupla\")\n",
    "\n",
    "tupla = tuple(lista_auxiliar)\n",
    "print(f\"Tupla depois de alterar: {tupla}\")"
   ]
  },
  {
   "cell_type": "markdown",
   "metadata": {},
   "source": [
    "Tuplas podem ser desempacotadas, isso é, desmembrar seus valores para variáveis individuais."
   ]
  },
  {
   "cell_type": "code",
   "execution_count": 13,
   "metadata": {},
   "outputs": [
    {
     "name": "stdout",
     "output_type": "stream",
     "text": [
      "5\n",
      "10\n"
     ]
    }
   ],
   "source": [
    "x, y = (5, 10)\n",
    "print(x)\n",
    "print(y)"
   ]
  },
  {
   "cell_type": "markdown",
   "metadata": {},
   "source": [
    "Uma outra maneira de desempacotar utilizando(*)\n"
   ]
  },
  {
   "cell_type": "code",
   "execution_count": 14,
   "metadata": {},
   "outputs": [
    {
     "ename": "ValueError",
     "evalue": "too many values to unpack (expected 3)",
     "output_type": "error",
     "traceback": [
      "\u001b[0;31m---------------------------------------------------------------------------\u001b[0m",
      "\u001b[0;31mValueError\u001b[0m                                Traceback (most recent call last)",
      "Cell \u001b[0;32mIn[14], line 1\u001b[0m\n\u001b[0;32m----> 1\u001b[0m a, b, c \u001b[38;5;241m=\u001b[39m \u001b[38;5;241m1\u001b[39m, \u001b[38;5;241m2\u001b[39m, \u001b[38;5;241m3\u001b[39m, \u001b[38;5;241m4\u001b[39m, \u001b[38;5;241m5\u001b[39m\n",
      "\u001b[0;31mValueError\u001b[0m: too many values to unpack (expected 3)"
     ]
    }
   ],
   "source": [
    "a, b, c = 1, 2, 3, 4, 5\n"
   ]
  },
  {
   "cell_type": "markdown",
   "metadata": {},
   "source": [
    "quando temos muitos valores para poucas variáveis, colocando o (*) antes da ultima variável, o python atribui todos os valores excedentes a variável sinalizada com o * na forma de uma lista. "
   ]
  },
  {
   "cell_type": "code",
   "execution_count": null,
   "metadata": {},
   "outputs": [
    {
     "name": "stdout",
     "output_type": "stream",
     "text": [
      "1\n",
      "2\n",
      "[3, 4, 5]\n"
     ]
    }
   ],
   "source": [
    "a, b, *c = 1, 2, 3, 4, 5 # 3, 4 e 5 serão atribuidos a c em forma de uma lista.\n",
    "print(a)\n",
    "print(b)\n",
    "print(c)"
   ]
  },
  {
   "cell_type": "code",
   "execution_count": null,
   "metadata": {},
   "outputs": [
    {
     "name": "stdout",
     "output_type": "stream",
     "text": [
      "1\n",
      "[2, 3, 4]\n",
      "5\n"
     ]
    }
   ],
   "source": [
    "a, *b, c = 1, 2, 3, 4, 5 # 3, 4 e 5 serão atribuidos a c em forma de uma lista.\n",
    "print(a)\n",
    "print(b)\n",
    "print(c)"
   ]
  },
  {
   "cell_type": "code",
   "execution_count": null,
   "metadata": {},
   "outputs": [
    {
     "name": "stdout",
     "output_type": "stream",
     "text": [
      "1\n",
      "[2, 3, 4, 5, 6]\n",
      "7\n",
      "8\n"
     ]
    }
   ],
   "source": [
    "a, *b, c, d = 1, 2, 3, 4, 5, 6, 7, 8 # 3, 4 e 5 serão atribuidos a c em forma de uma lista.\n",
    "print(a)\n",
    "print(b)\n",
    "print(c)\n",
    "print(d)"
   ]
  },
  {
   "cell_type": "markdown",
   "metadata": {},
   "source": [
    "Também podemos guardar essas variáveis em uma tupla."
   ]
  },
  {
   "cell_type": "code",
   "execution_count": null,
   "metadata": {},
   "outputs": [
    {
     "name": "stdout",
     "output_type": "stream",
     "text": [
      "1 <class 'int'>\n",
      "2\n"
     ]
    }
   ],
   "source": [
    "(a, b, *c, d) = 1, 2, 3, 4, 5\n",
    "print(a, type(a))\n",
    "print(b)"
   ]
  },
  {
   "cell_type": "markdown",
   "metadata": {},
   "source": [
    "<hr>\n",
    "\n",
    "Tuplas podem ser percorridas em loop igualmente às listas, além disso podemos concatenar tuplas com o (+) e multiplicar elas por inteiros usando *"
   ]
  },
  {
   "cell_type": "code",
   "execution_count": null,
   "metadata": {},
   "outputs": [
    {
     "name": "stdout",
     "output_type": "stream",
     "text": [
      "Morango\n",
      "pera\n",
      "maçã\n",
      "('Morango', 'pera', 'maçã', 'Jhon', 18)\n",
      "('Morango', 'pera', 'maçã', 'Morango', 'pera', 'maçã', 'Morango', 'pera', 'maçã', 'Morango', 'pera', 'maçã')\n"
     ]
    }
   ],
   "source": [
    "tupla_frutas = (\"Morango\", \"pera\", \"maçã\")\n",
    "\n",
    "for item in tupla_frutas:\n",
    "    print(item)\n",
    "\n",
    "tupla_2 = (\"Jhon\", 18)\n",
    "tupla_3 = tupla_frutas + tupla_2\n",
    "print(tupla_3) \n",
    "tupla_multiplicada = tupla_frutas * 4\n",
    "print(tupla_multiplicada)\n"
   ]
  },
  {
   "cell_type": "markdown",
   "metadata": {},
   "source": [
    "As tuplas também possuem os métodos **.count() e .index()** que, respectivamente, contam quantos dados iguais ao que passamos a tupla possui, e em qual index está o primeiro dado igual ao que passamos."
   ]
  },
  {
   "cell_type": "code",
   "execution_count": null,
   "metadata": {},
   "outputs": [
    {
     "name": "stdout",
     "output_type": "stream",
     "text": [
      "Morango aparece 1 vezes na tupla\n",
      "Morango aparece 3 vezes na tupla multiplicada\n"
     ]
    }
   ],
   "source": [
    "# Definida uma tupla com 3 elementos do tipo string\n",
    "tupla_frutas = (\"Morango\", \"pera\", \"maçã\")\n",
    "#Definida uma variavel para armazenar o numero de ocorrências utilizando .count \n",
    "frequencia_morango = tupla_frutas.count(\"Morango\")\n",
    "# Resultado\n",
    "print(f'Morango aparece {frequencia_morango} vezes na tupla')\n",
    "\n",
    "# tupla frutas é multiplicada por 3\n",
    "tupla_multiplicada = tupla_frutas * 3\n",
    "#Definida uma variavel para armazenar o numero de ocorrências utilizando .count \n",
    "frequencia_morango = tupla_multiplicada.count(\"Morango\")\n",
    "print(f\"Morango aparece {frequencia_morango} vezes na tupla multiplicada\")"
   ]
  },
  {
   "cell_type": "code",
   "execution_count": 70,
   "metadata": {},
   "outputs": [
    {
     "name": "stdout",
     "output_type": "stream",
     "text": [
      "The name is positioned at the 8 position\n"
     ]
    }
   ],
   "source": [
    "# index- retorna a primeira ocorrência.\n",
    "\n",
    "tupla_frutas = (\"Morango\", \"pera\", \"maçã\")\n",
    "\n",
    "primeiro_index = tupla_frutas.index(\"pera\")\n",
    "\n",
    "#print(primeiro_index)\n",
    "\n",
    "\n",
    "#TODO: fazer algoritmo que retorne todos os indices de uma ocorrência.\n",
    "\n",
    "names = (\"Liam\", \"Emma\", \"Noah\", \"Olivia\", \"Aiden\", \"Sophia\", \"Lucas\", \"Mia\", \"Ethan\", \"Isabella\")\n",
    "name = ()\n",
    "\n",
    "def search_name(list:list, name:str)->int:\n",
    "    returned_index = 0\n",
    "    if len(list) == 0:\n",
    "        return -1\n",
    "    \n",
    "    for index, item in enumerate(list):\n",
    "       if item == name:\n",
    "           returned_index = index\n",
    "       else:\n",
    "           continue \n",
    "    \n",
    "    return returned_index\n",
    "        \n",
    "        \n",
    "    \n",
    "    \n",
    "result = search_name(names, \"Ethan\")\n",
    "print(f\"The name is positioned at the number {result} position\")"
   ]
  }
 ],
 "metadata": {
  "kernelspec": {
   "display_name": ".venv",
   "language": "python",
   "name": "python3"
  },
  "language_info": {
   "codemirror_mode": {
    "name": "ipython",
    "version": 3
   },
   "file_extension": ".py",
   "mimetype": "text/x-python",
   "name": "python",
   "nbconvert_exporter": "python",
   "pygments_lexer": "ipython3",
   "version": "3.12.3"
  }
 },
 "nbformat": 4,
 "nbformat_minor": 2
}
