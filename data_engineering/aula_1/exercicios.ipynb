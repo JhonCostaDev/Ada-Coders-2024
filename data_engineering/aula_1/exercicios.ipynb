{
 "cells": [
  {
   "cell_type": "markdown",
   "metadata": {},
   "source": [
    "1) Soma e Média de Números:\n",
    "Crie uma lista com 10 números inteiros.\n",
    "Calcule e exiba a soma e a média desses números."
   ]
  },
  {
   "cell_type": "code",
   "execution_count": 4,
   "metadata": {},
   "outputs": [
    {
     "name": "stdout",
     "output_type": "stream",
     "text": [
      "The sum of 10 is: 507 and it average is: 50.7\n"
     ]
    }
   ],
   "source": [
    "numbers_1 = (42, 17, 89, 23, 56, 78, 34, 91, 65, 12)\n",
    "total = 0\n",
    "for number in numbers_1:\n",
    "    total += number\n",
    "\n",
    "average = total / len(numbers_1)\n",
    "\n",
    "print(f\"The sum of {len(numbers_1)} is: {total} and it average is: {average}\")"
   ]
  },
  {
   "cell_type": "markdown",
   "metadata": {},
   "source": [
    "Soma/concatenação de tuplas"
   ]
  },
  {
   "cell_type": "code",
   "execution_count": 7,
   "metadata": {},
   "outputs": [
    {
     "data": {
      "text/plain": [
       "20"
      ]
     },
     "execution_count": 7,
     "metadata": {},
     "output_type": "execute_result"
    }
   ],
   "source": [
    "#list_numbers = list(numbers)\n",
    "numbers_2 = 58, 27, 93, 14, 67, 81, 39, 72, 45, 19\n",
    "numbers = numbers_1 + numbers_2\n",
    "len(numbers)"
   ]
  },
  {
   "cell_type": "markdown",
   "metadata": {},
   "source": [
    "2 - Números Pares e Ímpares:\n",
    "* Crie uma lista com 20 números inteiros.\n",
    "* Separe os números pares e ímpares em duas listas diferentes.\n",
    "* Exiba as três listas (original, pares e ímpares)."
   ]
  },
  {
   "cell_type": "code",
   "execution_count": 15,
   "metadata": {},
   "outputs": [
    {
     "name": "stdout",
     "output_type": "stream",
     "text": [
      "Numbers\n",
      "42,17,89,23,56,78,34,91,65,12,58,27,93,14,67,81,39,72,45,19,\n",
      "Even Numbers\n",
      "42,56,78,34,12,58,14,72,\n",
      "Odd Numbers\n",
      "17,89,23,91,65,27,93,67,81,39,45,19,"
     ]
    }
   ],
   "source": [
    "numbers = list(numbers)\n",
    "odd_numbers = []\n",
    "even_numbers = []\n",
    "\n",
    "for number in numbers:\n",
    "    if number % 2 == 0:\n",
    "        even_numbers.append(number)\n",
    "    else:\n",
    "        odd_numbers.append(number)\n",
    "\n",
    "print(\"Numbers\")\n",
    "for i in numbers:\n",
    "    print(i, end=\",\") \n",
    "\n",
    "print(\"\\nEven Numbers\")\n",
    "for i in even_numbers:\n",
    "    print(i, end=\",\") \n",
    "           \n",
    "print(\"\\nOdd Numbers\")\n",
    "for i in odd_numbers:\n",
    "    print(i, end=\",\")"
   ]
  },
  {
   "cell_type": "markdown",
   "metadata": {},
   "source": [
    "3 - Faça um Programa que leia um vetor de 10 números reais e mostre-os na ordem inversa."
   ]
  },
  {
   "cell_type": "code",
   "execution_count": 15,
   "metadata": {},
   "outputs": [
    {
     "name": "stdout",
     "output_type": "stream",
     "text": [
      "============= Usando um slice =============\n",
      "\n",
      "============= Ordem original\n",
      "(58, 27, 93, 14, 67, 81, 39, 72, 45, 19)\n",
      "============= Ordem Invertida\n",
      "(19, 45, 72, 39, 81, 67, 14, 93, 27, 58)\n",
      "============= Usando um algoritmo =============\n",
      "19, 45, 72, 39, 81, 67, 14, 93, 27, 58, "
     ]
    }
   ],
   "source": [
    "numbers = 58, 27, 93, 14, 67, 81, 39, 72, 45, 19\n",
    "print(\"============= Usando um slice =============\\n\")\n",
    "print(\"============= Ordem original\")\n",
    "print(numbers)\n",
    "print(\"============= Ordem Invertida\")\n",
    "print(numbers[::-1])\n",
    "\n",
    "print(\"============= Usando um algoritmo =============\")\n",
    "\n",
    "for number in range(len(numbers) -1 , 0 -1 , -1):\n",
    "    print(numbers[number], end=\", \")\n",
    "\n"
   ]
  },
  {
   "cell_type": "markdown",
   "metadata": {},
   "source": [
    "4 - Faça um Programa que leia 4 notas, mostre as notas e a média na tela"
   ]
  },
  {
   "cell_type": "code",
   "execution_count": 17,
   "metadata": {},
   "outputs": [
    {
     "name": "stdout",
     "output_type": "stream",
     "text": [
      "A média é de 5.0\n"
     ]
    }
   ],
   "source": [
    "# Sem listas / tuplas\n",
    "\n",
    "notas = 0\n",
    "\n",
    "for i in range(4):\n",
    "    notas += float(input(f\"Digite a {i + 1}º nota: \\n\"))\n",
    "\n",
    "media = notas / 4\n",
    "print(f\"A média é de {media}\")"
   ]
  },
  {
   "cell_type": "code",
   "execution_count": 19,
   "metadata": {},
   "outputs": [
    {
     "name": "stdout",
     "output_type": "stream",
     "text": [
      "A média é de 60.25\n"
     ]
    }
   ],
   "source": [
    "# Usando listas\n",
    "\n",
    "notas = []\n",
    "\n",
    "for i in range(4):\n",
    "    notas.append(float(input(f\"Digite a {i + 1}º nota: \\n\")))\n",
    "media = sum(notas) / len(notas)\n",
    "\n",
    "print(f\"A média é de {media}\")"
   ]
  },
  {
   "cell_type": "markdown",
   "metadata": {},
   "source": [
    "5 -Faça um Programa que leia um vetor de 10 caracteres, e diga quantas consoantes foram lidas. Imprima as consoantes."
   ]
  },
  {
   "cell_type": "code",
   "execution_count": 61,
   "metadata": {},
   "outputs": [
    {
     "name": "stdout",
     "output_type": "stream",
     "text": [
      "Consoantes na Frase: 20\n",
      "Essas: q h m m m h m m q n t r n m n d m l h r \n"
     ]
    }
   ],
   "source": [
    "vogais = 'aãáâàeéêèiíîìoõóôòuúù '\n",
    "\n",
    "frase = 'A vida é bela'\n",
    "texto = 'Que homem é um homem que não torna o mundo melhor'\n",
    "\n",
    "consoantes_na_frase = ''\n",
    "numero_consoantes = 0\n",
    "for letra in texto.lower():\n",
    "    if letra not in vogais:\n",
    "        #print(letra, end=\", \")\n",
    "        consoantes_na_frase += letra + ' '\n",
    "        numero_consoantes += 1\n",
    "\n",
    "print(f'Consoantes na Frase: {numero_consoantes}')\n",
    "print(f'Essas: {consoantes_na_frase}')\n"
   ]
  },
  {
   "cell_type": "markdown",
   "metadata": {},
   "source": [
    "6- Faça um Programa que leia 20 números inteiros e armazene-os num vetor. Armazene os números pares no vetor PAR e os números IMPARES no vetor impar. Imprima os três vetores."
   ]
  },
  {
   "cell_type": "code",
   "execution_count": 66,
   "metadata": {},
   "outputs": [
    {
     "name": "stdout",
     "output_type": "stream",
     "text": [
      "Pares:  [42, 56, 78, 34, 12, 58, 14, 72]\n",
      "Impares:  [17, 89, 23, 91, 65, 27, 93, 67, 81, 39, 45, 19]\n"
     ]
    }
   ],
   "source": [
    "numeros = 42,17,89,23,56,78,34,91,65,12,58,27,93,14,67,81,39,72,45,19\n",
    "type(numeros)\n",
    "\n",
    "pares = []\n",
    "impares = []\n",
    "\n",
    "for numero in numeros:\n",
    "    if numero % 2:\n",
    "        impares.append(numero)\n",
    "    else:\n",
    "        pares.append(numero)\n",
    "\n",
    "print(\"Pares: \", pares)\n",
    "print(\"Impares: \",impares)"
   ]
  },
  {
   "cell_type": "markdown",
   "metadata": {},
   "source": [
    "7 - Faça um Programa que peça as quatro notas de 10 alunos, calcule e armazene num vetor a média de cada aluno, imprima o número de alunos com média maior ou igual a 7.0."
   ]
  },
  {
   "cell_type": "code",
   "execution_count": 19,
   "metadata": {},
   "outputs": [
    {
     "name": "stdout",
     "output_type": "stream",
     "text": [
      "Secretaria escolar\n",
      "\n",
      "('Carla', 8.25)\n",
      "('Daniel', 7.25)\n",
      "('Eduarda', 8.125)\n",
      "('Gabriela', 8.25)\n",
      "('Henrique', 7.125)\n"
     ]
    }
   ],
   "source": [
    "# Dados para testes\n",
    "alunos_teste = [\n",
    "    [\"Ana\", (6.5,5.5, 7.0, 5.0, 6.5)],\n",
    "    [\"Bruno\", (4.5, 8.0, 6.0, 7.0)],\n",
    "    [\"Carla\", (9.0, 8.5, 7.5, 8.0)],\n",
    "    [\"Daniel\", (6.5, 7.0, 8.0, 7.5)],\n",
    "    [\"Eduarda\", (8.0, 9.0, 7.0, 8.5)],\n",
    "    [\"Felipe\", (4.0, 6.5, 4.5, 5.5)],\n",
    "    [\"Gabriela\", (9.5, 8.0, 7.0, 8.5)],\n",
    "    [\"Henrique\", (6.0, 7.5, 8.0, 7.0)],\n",
    "    [\"Isabela\", (3.5, 6.6, 7.5, 3.0)],\n",
    "    [\"João\", (7.0, 6.0, 5.0, 7.5)]\n",
    "]\n",
    "#  Lista vazia para salvar dados dos alunos digitados pelo usuário\n",
    "notas_aluno = []\n",
    "media_alunos = []\n",
    "\n",
    "# função para guardar as notas em um vetor/lista\n",
    "# Essa função retorna uma lista no formato \n",
    "# ['aluno',(n1, n2, n3, n4)]\n",
    "def salvar_notas():\n",
    "    lista = []\n",
    "    notas = []\n",
    "    \n",
    "    lista.append(input(\"Digite o nome do aluno:\\n\"))\n",
    "    for i in range(4):\n",
    "        notas.append((float(input(f\"Digita a {i + 1}º nota\\n\"))))\n",
    "        \n",
    "    tupla = tuple(notas)\n",
    "    lista.append(tupla)\n",
    "                    \n",
    "    return lista\n",
    "\n",
    "# função para o cálculo da media.\n",
    "# Essa função recebe uma lista com nome e as 4 notas do aluno, e retorne o nome com a média do aluno no formato: [('aluno1', media), ('aluno2', media)],.\n",
    "\n",
    "def calcula_media(lista):\n",
    "    notas_aluno = []\n",
    "    for indice, aluno in enumerate(lista):\n",
    "        aluno = lista[indice][0]\n",
    "        notas = lista[indice][1]\n",
    "        media = sum(notas) / len(notas)\n",
    "        resultado = (aluno, media)\n",
    "        notas_aluno.append(resultado)\n",
    "    return notas_aluno\n",
    "\n",
    "def verifica_media(lista):\n",
    "    for item in lista:\n",
    "        #print(item[1])\n",
    "        if item[1] >= 7:\n",
    "            print(item)\n",
    "\n",
    "print(\"Secretaria escolar\\n\")\n",
    "\n",
    "def inicio():\n",
    "    while True:\n",
    "        notas_aluno.append(salvar_notas())\n",
    "        opcao = int(input(\"Deseja salvar notas para um aluno? (1 - SIM / 2 - NÃO)\\n\"))\n",
    "        if opcao != 1:\n",
    "            break\n",
    "    \n",
    "# media_alunos.append(calcula_media(notas_aluno))\n",
    "# media_alunos\n",
    "media_alunos_teste = calcula_media(alunos_teste)\n",
    "verifica_media(media_alunos_teste)\n",
    "# list(filter(verifica_media, media_alunos_teste)) "
   ]
  },
  {
   "cell_type": "markdown",
   "metadata": {},
   "source": [
    "8 -Faça um Programa que leia um vetor de 5 números inteiros, mostre a soma, a multiplicação e os números."
   ]
  },
  {
   "cell_type": "code",
   "execution_count": 7,
   "metadata": {},
   "outputs": [
    {
     "name": "stdout",
     "output_type": "stream",
     "text": [
      "Soma: 99\n",
      "Multiplicação: 496944\n"
     ]
    }
   ],
   "source": [
    "# Utilizando Reduce\n",
    "from functools import reduce\n",
    "\n",
    "numeros = [17, 3, 42, 8, 29]\n",
    "\n",
    "def soma(a,b):\n",
    "    return a + b\n",
    "\n",
    "def multiplicacao(a, b):\n",
    "    return a * b\n",
    "\n",
    "resultado_soma = reduce(soma, numeros)\n",
    "resultado_multiplicacao = reduce(multiplicacao, numeros)\n",
    "\n",
    "print(f'Soma: {resultado_soma}\\nMultiplicação: {resultado_multiplicacao}')"
   ]
  },
  {
   "cell_type": "code",
   "execution_count": 11,
   "metadata": {},
   "outputs": [
    {
     "name": "stdout",
     "output_type": "stream",
     "text": [
      "Soma: 99\n",
      "Multiplicação: 496944\n"
     ]
    }
   ],
   "source": [
    "# iteração\n",
    "from functools import reduce\n",
    "\n",
    "numeros = [17, 3, 42, 8, 29]\n",
    "\n",
    "def soma_lista(lista):\n",
    "    soma = 0\n",
    "    for item in lista:\n",
    "        soma += item\n",
    "    \n",
    "    return soma\n",
    "\n",
    "def multiplica_lista(lista):\n",
    "    multiplicacao = 1\n",
    "    for item in lista:\n",
    "        multiplicacao *= item\n",
    "    \n",
    "    return multiplicacao\n",
    "\n",
    "print(f'Soma: {soma_lista(numeros)}')\n",
    "print(f'Multiplicação: {multiplica_lista(numeros)}')"
   ]
  },
  {
   "cell_type": "markdown",
   "metadata": {},
   "source": [
    "9 - Faça um Programa que peça a idade e a altura de 5 pessoas, armazene cada informação no seu respectivo vetor. Imprima a idade e a altura na ordem inversa a ordem lida."
   ]
  },
  {
   "cell_type": "code",
   "execution_count": 24,
   "metadata": {},
   "outputs": [
    {
     "name": "stdout",
     "output_type": "stream",
     "text": [
      "Cliente: jhon, Idade: 35 e altura: 1.77\n",
      "Cliente: josy, Idade: 12 e altura: 1.6\n"
     ]
    }
   ],
   "source": [
    "def cadastrar_usuario():\n",
    "    nome = input(\"Digite seu nome:\\n\")\n",
    "    idade = int(input(\"Digite sua idade: \\n\"))\n",
    "    altura = float(input(\"Digite sua altura: \\n\"))\n",
    "    \n",
    "    return nome, idade, altura\n",
    "\n",
    "def exibir_clientes(lista):\n",
    "    for i in lista:\n",
    "        print(f'Cliente: {i[0]}, Idade: {i[1]} e altura: {i[2]}')\n",
    "    \n",
    "\n",
    "clientes = []\n",
    "\n",
    "#pegar dados\n",
    "for i in range(2):\n",
    "    clientes.append(cadastrar_usuario())\n",
    "    \n",
    "exibir_clientes(clientes)\n",
    "    "
   ]
  },
  {
   "cell_type": "markdown",
   "metadata": {},
   "source": [
    "10 - Faça um Programa que leia um vetor A com 10 números inteiros, calcule e mostre a soma dos quadrados dos elementos do vetor."
   ]
  },
  {
   "cell_type": "code",
   "execution_count": 29,
   "metadata": {},
   "outputs": [
    {
     "name": "stdout",
     "output_type": "stream",
     "text": [
      "Resultado da soma dos quadrados: 385\n"
     ]
    }
   ],
   "source": [
    "numeros = (1, 2, 3, 4, 5, 6, 7, 8, 9, 10)\n",
    "\n",
    "def ao_quadrado(n):\n",
    "    return n ** 2\n",
    "\n",
    "lista_ao_quadrado = list(map(ao_quadrado, numeros))\n",
    "\n",
    "print(f'Resultado da soma dos quadrados: {sum(lista_ao_quadrado)}')"
   ]
  },
  {
   "cell_type": "markdown",
   "metadata": {},
   "source": [
    "11 - Faça um Programa que leia dois vetores com 10 elementos cada. Gere um terceiro vetor de 20 elementos, cujos valores deverão ser compostos pelos elementos intercalados dos dois outros vetores.\n"
   ]
  },
  {
   "cell_type": "code",
   "execution_count": 36,
   "metadata": {},
   "outputs": [
    {
     "name": "stdout",
     "output_type": "stream",
     "text": [
      "one, 1, two, 2, three, 3, four, 4, five, 5, six, 6, seven, 7, eight, 8, nine, 9, ten, 10, "
     ]
    },
    {
     "data": {
      "text/plain": [
       "20"
      ]
     },
     "execution_count": 36,
     "metadata": {},
     "output_type": "execute_result"
    }
   ],
   "source": [
    "numeros = (1, 2, 3, 4, 5, 6, 7, 8, 9, 10)\n",
    "palavra = ['one', 'two', 'three', 'four', 'five', 'six', 'seven', 'eight', 'nine', 'ten',]\n",
    "palavra_numeros = []\n",
    "\n",
    "for i in range(len(numeros)):\n",
    "    palavra_numeros.append(palavra[i])\n",
    "    palavra_numeros.append(numeros[i])\n",
    "    \n",
    "\n",
    "# Exibir resultado  \n",
    "for item in palavra_numeros:\n",
    "    print(item, end=', ')\n",
    "    "
   ]
  },
  {
   "cell_type": "markdown",
   "metadata": {},
   "source": [
    "12 - Altere o programa anterior, intercalando 3 vetores de 10 elementos cada.\n",
    "\n",
    "\n"
   ]
  },
  {
   "cell_type": "code",
   "execution_count": 37,
   "metadata": {},
   "outputs": [
    {
     "name": "stdout",
     "output_type": "stream",
     "text": [
      "a, one, 1, b, two, 2, c, three, 3, d, four, 4, e, five, 5, f, six, 6, g, seven, 7, h, eight, 8, i, nine, 9, j, ten, 10, "
     ]
    }
   ],
   "source": [
    "numeros = (1, 2, 3, 4, 5, 6, 7, 8, 9, 10)\n",
    "letras = ('a', 'b', 'c', 'd', 'e', 'f', 'g', 'h', 'i', 'j')\n",
    "palavra = ['one', 'two', 'three', 'four', 'five', 'six', 'seven', 'eight', 'nine', 'ten',]\n",
    "palavra_numeros = []\n",
    "\n",
    "for i in range(len(numeros)):\n",
    "    palavra_numeros.append(letras[i])\n",
    "    palavra_numeros.append(palavra[i])\n",
    "    palavra_numeros.append(numeros[i])\n",
    "    \n",
    "\n",
    "# Exibir resultado  \n",
    "for item in palavra_numeros:\n",
    "    print(item, end=', ')"
   ]
  },
  {
   "cell_type": "markdown",
   "metadata": {},
   "source": [
    "12.2 - Foram anotadas as idades e alturas de 30 alunos. Faça um Programa que determine quantos alunos com mais de 13 anos possuem altura inferior à média de altura desses alunos."
   ]
  },
  {
   "cell_type": "code",
   "execution_count": null,
   "metadata": {},
   "outputs": [],
   "source": [
    "alunos = [\n",
    "    {\"nome\": \"Ana\", \"idade\": 16, \"altura\": 1.70},\n",
    "    {\"nome\": \"Bruno\", \"idade\": 17, \"altura\": 1.65},\n",
    "    {\"nome\": \"Carlos\", \"idade\": 16, \"altura\": 1.68},\n",
    "    {\"nome\": \"Daniela\", \"idade\": 17, \"altura\": 1.72},\n",
    "    {\"nome\": \"Eduardo\", \"idade\": 16, \"altura\": 1.75},\n",
    "    {\"nome\": \"Fernanda\", \"idade\": 17, \"altura\": 1.60},\n",
    "    {\"nome\": \"Gabriel\", \"idade\": 16, \"altura\": 1.67},\n",
    "    {\"nome\": \"Helena\", \"idade\": 17, \"altura\": 1.69},\n",
    "    {\"nome\": \"Igor\", \"idade\": 16, \"altura\": 1.71},\n",
    "    {\"nome\": \"Juliana\", \"idade\": 17, \"altura\": 1.66},\n",
    "    {\"nome\": \"Karla\", \"idade\": 16, \"altura\": 1.73},\n",
    "    {\"nome\": \"Lucas\", \"idade\": 17, \"altura\": 1.74},\n",
    "    {\"nome\": \"Mariana\", \"idade\": 16, \"altura\": 1.62},\n",
    "    {\"nome\": \"Nicolas\", \"idade\": 17, \"altura\": 1.64},\n",
    "    {\"nome\": \"Olivia\", \"idade\": 16, \"altura\": 1.70},\n",
    "    {\"nome\": \"Pedro\", \"idade\": 17, \"altura\": 1.68},\n",
    "    {\"nome\": \"Quintino\", \"idade\": 16, \"altura\": 1.75},\n",
    "    {\"nome\": \"Rafaela\", \"idade\": 17, \"altura\": 1.63},\n",
    "    {\"nome\": \"Samuel\", \"idade\": 16, \"altura\": 1.72},\n",
    "    {\"nome\": \"Tatiana\", \"idade\": 17, \"altura\": 1.65},\n",
    "    {\"nome\": \"Ursula\", \"idade\": 16, \"altura\": 1.69},\n",
    "    {\"nome\": \"Victor\", \"idade\": 17, \"altura\": 1.71},\n",
    "    {\"nome\": \"Wesley\", \"idade\": 16, \"altura\": 1.66},\n",
    "    {\"nome\": \"Xavier\", \"idade\": 17, \"altura\": 1.73},\n",
    "    {\"nome\": \"Yasmin\", \"idade\": 16, \"altura\": 1.74},\n",
    "    {\"nome\": \"Zara\", \"idade\": 17, \"altura\": 1.62},\n",
    "    {\"nome\": \"Arthur\", \"idade\": 16, \"altura\": 1.64},\n",
    "    {\"nome\": \"Beatriz\", \"idade\": 17, \"altura\": 1.70},\n",
    "    {\"nome\": \"Caio\", \"idade\": 16, \"altura\": 1.68},\n",
    "    {\"nome\": \"Diana\", \"idade\": 17, \"altura\": 1.75}\n",
    "]"
   ]
  },
  {
   "cell_type": "markdown",
   "metadata": {},
   "source": [
    "13 - Faça um programa que receba a temperatura média de cada mês do ano e armazene-as em uma lista. Após isto, calcule a média anual das temperaturas e mostre todas as temperaturas acima da média anual, e em que mês elas ocorreram (mostrar o mês por extenso: 1 – Janeiro, 2 – Fevereiro, . . . )."
   ]
  },
  {
   "cell_type": "markdown",
   "metadata": {},
   "source": [
    "\n",
    "\n",
    "\n",
    "\n",
    "Utilizando listas faça um programa que faça 5 perguntas para uma pessoa sobre um crime. As perguntas são:\n",
    "\"Telefonou para a vítima?\"\n",
    "\"Esteve no local do crime?\"\n",
    "\"Mora perto da vítima?\"\n",
    "\"Devia para a vítima?\"\n",
    "\"Já trabalhou com a vítima?\"\n",
    "O programa deve no final emitir uma classificação sobre a participação da pessoa no crime. Se a pessoa responder positivamente a 2 questões ela deve ser classificada como \"Suspeita\", entre 3 e 4 como \"Cúmplice\" e 5 como \"Assassino\". Caso contrário, ele será classificado como \"Inocente\".\n",
    "Faça um programa que leia um número indeterminado de valores, correspondentes a notas, encerrando a entrada de dados quando for informado um valor igual a -1 (que não deve ser armazenado). Após esta entrada de dados, faça:\n",
    "Mostre a quantidade de valores que foram lidos;\n",
    "Exiba todos os valores na ordem em que foram informados, um ao lado do outro;\n",
    "Exiba todos os valores na ordem inversa à que foram informados, um abaixo do outro;\n",
    "Calcule e mostre a soma dos valores;\n",
    "Calcule e mostre a média dos valores;\n",
    "Calcule e mostre a quantidade de valores acima da média calculada;\n",
    "Calcule e mostre a quantidade de valores abaixo de sete;\n",
    "Encerre o programa com uma mensagem;\n",
    "\n",
    "Utilize uma lista para resolver o problema a seguir. Uma empresa paga seus vendedores com base em comissões. O vendedor recebe $200 por semana mais 9 por cento de suas vendas brutas daquela semana. Por exemplo, um vendedor que teve vendas brutas de $3000 em uma semana recebe $200 mais 9 por cento de $3000, ou seja, um total de $470. Escreva um programa (usando um array de contadores) que determine quantos vendedores receberam salários nos seguintes intervalos de valores:\n",
    "$200 - $299\n",
    "$300 - $399\n",
    "$400 - $499\n",
    "$500 - $599\n",
    "$600 - $699\n",
    "$700 - $799\n",
    "$800 - $899\n",
    "$900 - $999\n",
    "$1000 em diante\n",
    "Desafio: Crie ma fórmula para chegar na posição da lista a partir do salário, sem fazer vários ifs aninhados.\n",
    "Em uma competição de salto em distância cada atleta tem direito a cinco saltos. O resultado do atleta será determinado pela média dos cinco valores restantes. Você deve fazer um programa que receba o nome e as cinco distâncias alcançadas pelo atleta em seus saltos e depois informe o nome, os saltos e a média dos saltos. O programa deve ser encerrado quando não for informado o nome do atleta. A saída do programa deve ser conforme o exemplo abaixo:\n",
    "Atleta: Rodrigo Curvêllo\n",
    "Primeiro Salto: 6.5 m\n",
    "Segundo Salto: 6.1 m\n",
    "Terceiro Salto: 6.2 m\n",
    "Quarto Salto: 5.4 m\n",
    "Quinto Salto: 5.3 m\n",
    "\n",
    "Resultado final:\n",
    "Atleta: Rodrigo Curvêllo\n",
    "Saltos: 6.5 - 6.1 - 6.2 - 5.4 - 5.3\n",
    "Média dos saltos: 5.9 m\n",
    "Uma grande emissora de televisão quer fazer uma enquete entre os seus telespectadores para saber qual o melhor jogador após cada jogo. Para isto, faz-se necessário o desenvolvimento de um programa, que será utilizado pelas telefonistas, para a computação dos votos. Sua equipe foi contratada para desenvolver este programa, utilizando a linguagem de programação C++. Para computar cada voto, a telefonista digitará um número, entre 1 e 23, correspondente ao número da camisa do jogador. Um número de jogador igual zero, indica que a votação foi encerrada. Se um número inválido for digitado, o programa deve ignorá-lo, mostrando uma breve mensagem de aviso, e voltando a pedir outro número. Após o final da votação, o programa deverá exibir:\n",
    "O total de votos computados;\n",
    "Os númeos e respectivos votos de todos os jogadores que receberam votos;\n",
    "O percentual de votos de cada um destes jogadores;\n",
    "O número do jogador escolhido como o melhor jogador da partida, juntamente com o número de votos e o percentual de votos dados a ele.\n",
    "Observe que os votos inválidos e o zero final não devem ser computados como votos. O resultado aparece ordenado pelo número do jogador. O programa deve fazer uso de arrays. O programa deverá executar o cálculo do percentual de cada jogador através de uma função. Esta função receberá dois parâmetros: o número de votos de um jogador e o total de votos. A função calculará o percentual e retornará o valor calculado. Abaixo segue uma tela de exemplo. O disposição das informações deve ser o mais próxima possível ao exemplo. Os dados são fictícios e podem mudar a cada execução do programa. Ao final, o programa deve ainda gravar os dados referentes ao resultado da votação em um arquivo texto no disco, obedecendo a mesma disposição apresentada na tela.\n",
    "Enquete: Quem foi o melhor jogador?\n",
    "\n",
    "Número do jogador (0=fim): 9\n",
    "Número do jogador (0=fim): 10\n",
    "Número do jogador (0=fim): 9\n",
    "Número do jogador (0=fim): 10\n",
    "Número do jogador (0=fim): 11\n",
    "Número do jogador (0=fim): 10\n",
    "Número do jogador (0=fim): 50\n",
    "Informe um valor entre 1 e 23 ou 0 para sair!\n",
    "Número do jogador (0=fim): 9\n",
    "Número do jogador (0=fim): 9\n",
    "Número do jogador (0=fim): 0\n",
    "\n",
    "Resultado da votação:\n",
    "Foram computados 8 votos.\n",
    "Jogador Votos           %\n",
    "9               4               50,0%\n",
    "10              3               37,5%\n",
    "11              1               12,5%\n",
    "O melhor jogador foi o número 9, com 4 votos, correspondendo a 50% do total de votos.\n",
    "Uma empresa de pesquisas precisa tabular os resultados da seguinte enquete feita a um grande quantidade de organizações:\n",
    "\"Qual o melhor Sistema Operacional para uso em servidores?\"\n",
    "\n",
    "As possíveis respostas são:\n",
    "1- Windows Server\n",
    "2- Unix\n",
    "3- Linux\n",
    "4- Netware\n",
    "5- Mac OS\n",
    "6- Outro\n",
    "Você foi contratado para desenvolver um programa que leia o resultado da enquete e informe ao final o resultado da mesma. O programa deverá ler os valores até ser informado o valor 0, que encerra a entrada dos dados. Não deverão ser aceitos valores além dos válidos para o programa (0 a 6). Os valores referentes a cada uma das opções devem ser armazenados num vetor. Após os dados terem sido completamente informados, o programa deverá calcular a percentual de cada um dos concorrentes e informar o vencedor da enquete. O formato da saída foi dado pela empresa, e é o seguinte:\n",
    "\n",
    "Sistema Operacional     Votos   %\n",
    "-------------------     -----   ---\n",
    "Windows Server           1500   17%\n",
    "Unix                     3500   40%\n",
    "Linux                    3000   34%\n",
    "Netware                   500    5%\n",
    "Mac OS                    150    2%\n",
    "Outro                     150    2%\n",
    "-------------------     -----\n",
    "Total                    8800\n",
    "\n",
    "O Sistema Operacional mais votado foi o Unix, com 3500 votos, correspondendo a 40% dos votos.\n",
    "As Organizações Tabajara resolveram dar um abono aos seus colaboradores em reconhecimento ao bom resultado alcançado durante o ano que passou. Para isto contratou você para desenvolver a aplicação que servirá como uma projeção de quanto será gasto com o pagamento deste abono.\n",
    "Após reuniões envolvendo a diretoria executiva, a diretoria financeira e os representantes do sindicato laboral, chegou-se a seguinte forma de cálculo:\n",
    "a.Cada funcionário receberá o equivalente a 20% do seu salário bruto de dezembro; a.O piso do abono será de 100 reais, isto é, aqueles funcionários cujo salário for muito baixo, recebem este valor mínimo; Neste momento, não se deve ter nenhuma preocupação com colaboradores com tempo menor de casa, descontos, impostos ou outras particularidades. Seu programa deverá permitir a digitação do salário de um número indefinido (desconhecido) de salários. Um valor de salário igual a 0 (zero) encerra a digitação. Após a entrada de todos os dados o programa deverá calcular o valor do abono concedido a cada colaborador, de acordo com a regra definida acima. Ao final, o programa deverá apresentar:\n",
    "O salário de cada funcionário, juntamente com o valor do abono;\n",
    "O número total de funcionário processados;\n",
    "O valor total a ser gasto com o pagamento do abono;\n",
    "O número de funcionário que receberá o valor mínimo de 100 reais;\n",
    "O maior valor pago como abono; A tela abaixo é um exemplo de execução do programa, apenas para fins ilustrativos. Os valores podem mudar a cada execução do programa.\n",
    "Projeção de Gastos com Abono\n",
    "============================\n",
    "\n",
    "Salário: 1000\n",
    "Salário: 300\n",
    "Salário: 500\n",
    "Salário: 100\n",
    "Salário: 4500\n",
    "Salário: 0\n",
    "\n",
    "Salário    - Abono   \n",
    "R$ 1000.00 - R$  200.00\n",
    "R$  300.00 - R$  100.00\n",
    "R$  500.00 - R$  100.00\n",
    "R$  100.00 - R$  100.00\n",
    "R$ 4500.00 - R$  900.00\n",
    "\n",
    "Foram processados 5 colaboradores\n",
    "Total gasto com abonos: R$ 1400.00\n",
    "Valor mínimo pago a 3 colaboradores\n",
    "Maior valor de abono pago: R$ 900.00\n",
    "Faça um programa que carregue uma lista com os modelos de cinco carros (exemplo de modelos: FUSCA, GOL, VECTRA etc). Carregue uma outra lista com o consumo desses carros, isto é, quantos quilômetros cada um desses carros faz com um litro de combustível. Calcule e mostre:\n",
    "O modelo do carro mais econômico;\n",
    "Quantos litros de combustível cada um dos carros cadastrados consome para percorrer uma distância de 1000 quilômetros e quanto isto custará, considerando um que a gasolina custe R$ 2,25 o litro. Abaixo segue uma tela de exemplo. O disposição das informações deve ser o mais próxima possível ao exemplo. Os dados são fictícios e podem mudar a cada execução do programa.\n",
    "Comparativo de Consumo de Combustível\n",
    "\n",
    "Veículo 1\n",
    "Nome: fusca\n",
    "Km por litro: 7\n",
    "Veículo 2\n",
    "Nome: gol\n",
    "Km por litro: 10\n",
    "Veículo 3\n",
    "Nome: uno\n",
    "Km por litro: 12.5\n",
    "Veículo 4\n",
    "Nome: Vectra\n",
    "Km por litro: 9\n",
    "Veículo 5\n",
    "Nome: Peugeout\n",
    "Km por litro: 14.5\n",
    "\n",
    "Relatório Final\n",
    " 1 - fusca           -    7.0 -  142.9 litros - R$ 321.43\n",
    " 2 - gol             -   10.0 -  100.0 litros - R$ 225.00\n",
    " 3 - uno             -   12.5 -   80.0 litros - R$ 180.00\n",
    " 4 - vectra          -    9.0 -  111.1 litros - R$ 250.00\n",
    " 5 - peugeout        -   14.5 -   69.0 litros - R$ 155.17\n",
    "O menor consumo é do peugeout.\n",
    "Sua organização acaba de contratar um estagiário para trabalhar no Suporte de Informática, com a intenção de fazer um levantamento nas sucatas encontradas nesta área. A primeira tarefa dele é testar todos os cerca de 200 mouses que se encontram lá, testando e anotando o estado de cada um deles, para verificar o que se pode aproveitar deles.\n",
    "Foi requisitado que você desenvolva um programa para registrar este levantamento. O programa deverá receber um número indeterminado de entradas, cada uma contendo: um número de identificação do mouse o tipo de defeito:\n",
    "necessita da esfera;\n",
    "necessita de limpeza; a.necessita troca do cabo ou conector; a.quebrado ou inutilizado Uma identificação igual a zero encerra o programa. Ao final o programa deverá emitir o seguinte relatório:\n",
    "Quantidade de mouses: 100\n",
    "\n",
    "Situação                        Quantidade              Percentual\n",
    "1- necessita da esfera                  40                     40%\n",
    "2- necessita de limpeza                 30                     30%\n",
    "3- necessita troca do cabo ou conector  15                     15%\n",
    "4- quebrado ou inutilizado              15                     15%\n",
    "A ACME Inc., uma empresa de 500 funcionários, está tendo problemas de espaço em disco no seu servidor de arquivos. Para tentar resolver este problema, o Administrador de Rede precisa saber qual o espaço ocupado pelos usuários, e identificar os usuários com maior espaço ocupado. Através de um programa, baixado da Internet, ele conseguiu gerar o seguinte arquivo, chamado \"usuarios.txt\":\n",
    "alexandre       456123789\n",
    "anderson        1245698456\n",
    "antonio         123456456\n",
    "carlos          91257581\n",
    "cesar           987458\n",
    "rosemary        789456125\n",
    "Neste arquivo, o nome do usuário possui 15 caracteres. A partir deste arquivo, você deve criar um programa que gere um relatório, chamado \"relatório.txt\", no seguinte formato:\n",
    "\n",
    "ACME Inc.               Uso do espaço em disco pelos usuários\n",
    "------------------------------------------------------------------------\n",
    "Nr.  Usuário        Espaço utilizado     % do uso\n",
    "\n",
    "1    alexandre       434,99 MB             16,85%\n",
    "2    anderson       1187,99 MB             46,02%\n",
    "3    antonio         117,73 MB              4,56%\n",
    "4    carlos           87,03 MB              3,37%\n",
    "5    cesar             0,94 MB              0,04%\n",
    "6    rosemary        752,88 MB             29,16%\n",
    "\n",
    "Espaço total ocupado: 2581,57 MB\n",
    "Espaço médio ocupado: 430,26 MB\n",
    "O arquivo de entrada deve ser lido uma única vez, e os dados armazenados em memória, caso sejam necessários, de forma a agilizar a execução do programa. A conversão da espaço ocupado em disco, de bytes para megabytes deverá ser feita através de uma função separada, que será chamada pelo programa principal. O cálculo do percentual de uso também deverá ser feito através de uma função, que será chamada pelo programa principal.\n",
    "Faça um programa que simule um lançamento de dados. Lance o dado 100 vezes e armazene os resultados em um vetor . Depois, mostre quantas vezes cada valor foi conseguido. Dica: use um vetor de contadores(1-6) e uma função para gerar numeros aleatórios, simulando os lançamentos dos dados.\n"
   ]
  }
 ],
 "metadata": {
  "kernelspec": {
   "display_name": ".venv",
   "language": "python",
   "name": "python3"
  },
  "language_info": {
   "codemirror_mode": {
    "name": "ipython",
    "version": 3
   },
   "file_extension": ".py",
   "mimetype": "text/x-python",
   "name": "python",
   "nbconvert_exporter": "python",
   "pygments_lexer": "ipython3",
   "version": "3.12.3"
  }
 },
 "nbformat": 4,
 "nbformat_minor": 2
}
