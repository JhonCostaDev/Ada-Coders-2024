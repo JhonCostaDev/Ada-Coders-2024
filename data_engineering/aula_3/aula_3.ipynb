{
 "cells": [
  {
   "cell_type": "markdown",
   "metadata": {},
   "source": [
    "# Funções\n",
    "* Conhecer conceitos\n",
    "\n"
   ]
  },
  {
   "cell_type": "code",
   "execution_count": 2,
   "metadata": {},
   "outputs": [
    {
     "data": {
      "text/plain": [
       "4"
      ]
     },
     "execution_count": 2,
     "metadata": {},
     "output_type": "execute_result"
    }
   ],
   "source": [
    "# Funções\n",
    "\n",
    "max(1, 2, 3, 4)"
   ]
  },
  {
   "cell_type": "markdown",
   "metadata": {},
   "source": [
    "Uma função é um objeto utilizado para fazer determinadas ações.\n",
    "Podemos pensar em uma função como uma caixinha "
   ]
  },
  {
   "cell_type": "code",
   "execution_count": 5,
   "metadata": {},
   "outputs": [
    {
     "name": "stdout",
     "output_type": "stream",
     "text": [
      "13\n"
     ]
    }
   ],
   "source": [
    "#Criar próprias funções em python\n",
    "'''\n",
    "def nome_da_funcao(argumento_1, argumento_2, ...):\n",
    "    instruções\n",
    "    return saída\n",
    "'''\n",
    "# Exemplo\n",
    "def soma_dois(a, b):\n",
    "    return a + b\n",
    "\n",
    "x = 5\n",
    "y = 8\n",
    "\n",
    "resultado = soma_dois(x, y)\n",
    "print(resultado)"
   ]
  },
  {
   "cell_type": "code",
   "execution_count": 10,
   "metadata": {},
   "outputs": [
    {
     "data": {
      "text/plain": [
       "'ab'"
      ]
     },
     "execution_count": 10,
     "metadata": {},
     "output_type": "execute_result"
    }
   ],
   "source": [
    "# type hint, dica de tipo\n",
    "\n",
    "def soma_dois(a:int, b:int) -> int: \n",
    "    return a + b\n",
    "\n",
    "def soma_lista(a:list, b:list) -> int:\n",
    "    c = a + b\n",
    "    return c\n",
    "letra_1 = 'a'\n",
    "letra_2 = 'b'\n",
    "lista_1 = [1, 2, 3,4]\n",
    "lista_2 = ['a', 'b', 'c', 'd']\n",
    "\n",
    "soma_lista(2, 9)\n",
    "soma_lista(lista_1, lista_2)\n",
    "soma_lista(letra_1, letra_2)"
   ]
  },
  {
   "cell_type": "markdown",
   "metadata": {},
   "source": [
    "Há cinco elementos fundamentais para a criação de novas funções em Python:\n",
    "\n",
    "* Primeiramente usamos a palavra reservada 'def' para deixar claro que estamos definindo a função:\n",
    "* Depois, damos o nome para a função\n",
    "* "
   ]
  },
  {
   "cell_type": "code",
   "execution_count": 12,
   "metadata": {},
   "outputs": [
    {
     "name": "stdout",
     "output_type": "stream",
     "text": [
      "Oi\n",
      "Oi\n"
     ]
    }
   ],
   "source": [
    "# \n",
    "def cumprimenta():\n",
    "    print('Oi')\n",
    "    \n",
    "cumprimenta()\n",
    "\n",
    "aqui = cumprimenta()\n"
   ]
  },
  {
   "cell_type": "code",
   "execution_count": 13,
   "metadata": {},
   "outputs": [
    {
     "name": "stdout",
     "output_type": "stream",
     "text": [
      "Olá Jonathan\n"
     ]
    }
   ],
   "source": [
    "# Função com argumento mas sem return\n",
    "def cumprimenta(nome):\n",
    "    print(f\"Olá {nome}\")\n",
    "    \n",
    "cumprimenta(\"Jonathan\")"
   ]
  },
  {
   "cell_type": "code",
   "execution_count": 16,
   "metadata": {},
   "outputs": [
    {
     "name": "stdout",
     "output_type": "stream",
     "text": [
      "Bom Noite, Jonathan\n"
     ]
    }
   ],
   "source": [
    "# Com dois parametros mais sem return\n",
    "def cumprimenta_horario(nome, horario):\n",
    "    if horario < 12:\n",
    "        print(f\"Bom Dia, {nome}\")\n",
    "    elif horario < 18:\n",
    "        print(f\"Bom Tarde, {nome}\")\n",
    "    else:\n",
    "        print(f\"Bom Noite, {nome}\")\n",
    "        \n",
    "cumprimenta_horario(\"Jonathan\", 22)"
   ]
  },
  {
   "cell_type": "code",
   "execution_count": null,
   "metadata": {},
   "outputs": [],
   "source": [
    "def cumprimenta_horario(nome, horario):\n",
    "    if horario < 12:\n",
    "        print(f\"Bom Dia, {nome}\")\n",
    "    elif horario < 18:\n",
    "        print(f\"Bom Tarde, {nome}\")\n",
    "    else:\n",
    "        print(f\"Bom Noite, {nome}\")\n",
    "        \n",
    "cumprimenta_horario(\"Jonathan\", 22)"
   ]
  },
  {
   "cell_type": "code",
   "execution_count": 17,
   "metadata": {},
   "outputs": [
    {
     "name": "stdout",
     "output_type": "stream",
     "text": [
      "3\n"
     ]
    }
   ],
   "source": [
    "def calc_soma(n1, n2):\n",
    "    soma = n1 + n2\n",
    "    print(soma)\n",
    "    \n",
    "calc_soma(1, 2)"
   ]
  }
 ],
 "metadata": {
  "kernelspec": {
   "display_name": ".venv",
   "language": "python",
   "name": "python3"
  },
  "language_info": {
   "codemirror_mode": {
    "name": "ipython",
    "version": 3
   },
   "file_extension": ".py",
   "mimetype": "text/x-python",
   "name": "python",
   "nbconvert_exporter": "python",
   "pygments_lexer": "ipython3",
   "version": "3.12.3"
  }
 },
 "nbformat": 4,
 "nbformat_minor": 2
}
