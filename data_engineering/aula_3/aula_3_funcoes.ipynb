{
 "cells": [
  {
   "cell_type": "markdown",
   "metadata": {},
   "source": [
    "# Funções\n",
    "https://colab.research.google.com/drive/1-P8qpebrVqWkTS7ivQyYvtVtf6iXnxFI?usp=sharing#scrollTo=Vfc33ya6SU0a\n",
    "* Conhecer conceitos\n",
    "\n"
   ]
  },
  {
   "cell_type": "markdown",
   "metadata": {},
   "source": [
    "## 1) Funções\n",
    "\n",
    "Até o momento, já vimos diversas funções em Python.\n",
    "\n",
    "- Na primeira aula, tivemos contato com a função `print()`, que exibe um texto na tela;\n",
    "\n",
    "- Depois, aprendemos sobre a função `input()`, que serve pra capturar algo que o usuário digita;\n",
    "\n",
    "- Em seguida, vimos algumas funções aplicada à listas, como a `sorted()`, para ordenar uma lista;\n"
   ]
  },
  {
   "cell_type": "code",
   "execution_count": 2,
   "metadata": {},
   "outputs": [
    {
     "name": "stdout",
     "output_type": "stream",
     "text": [
      "hello\n"
     ]
    },
    {
     "data": {
      "text/plain": [
       "'GOIABA'"
      ]
     },
     "execution_count": 2,
     "metadata": {},
     "output_type": "execute_result"
    }
   ],
   "source": [
    "# Funções\n",
    "print(\"hello\")# Exibe um texto na tela\n",
    "\n",
    "max(1, 2, 3, 4)# funçao max retorna a soma dos itens de um iterável\n",
    "\n",
    "'goiaba'.upper() # Transforma caracteres em maiusculos\n"
   ]
  },
  {
   "cell_type": "markdown",
   "metadata": {},
   "source": [
    "A intuição sobre funções, então, já nos é familiar:\n",
    "\n",
    "Uma função é um objeto utilizado para **fazer determinadas ações**.\n",
    "\n",
    "Podemos ver uma função como uma \"caixinha\" que pega uma **entrada** (o argumento), faz algum **processamento**, e então **retorna uma saída** (o output)\n",
    "\n",
    "<img src=\"https://s3.amazonaws.com/illustrativemathematics/images/000/000/782/medium/Task_1_8c7a6a9a2e1421586c40f125bd783de3.jpg?1335065782\" width=300>\n",
    "\n",
    "\n",
    "<img src=\"https://1.bp.blogspot.com/_MhOt9n2UJbM/TC6emeqHdqI/AAAAAAAAAiQ/1brsWuWvOC0/s1600/function-machine.png\" width=300>"
   ]
  },
  {
   "cell_type": "markdown",
   "metadata": {},
   "source": [
    "Uma função é um objeto utilizado para fazer determinadas ações.\n",
    "Podemos pensar em uma função como uma caixinha "
   ]
  },
  {
   "cell_type": "code",
   "execution_count": 5,
   "metadata": {},
   "outputs": [
    {
     "name": "stdout",
     "output_type": "stream",
     "text": [
      "13\n"
     ]
    }
   ],
   "source": [
    "#Criar próprias funções em python\n",
    "'''\n",
    "def nome_da_funcao(argumento_1, argumento_2, ...):\n",
    "    instruções\n",
    "    return saída\n",
    "'''\n",
    "# Exemplo\n",
    "def soma_dois(a, b):\n",
    "    return a + b\n",
    "\n",
    "x = 5\n",
    "y = 8\n",
    "\n",
    "resultado = soma_dois(x, y)\n",
    "print(resultado)"
   ]
  },
  {
   "cell_type": "code",
   "execution_count": 10,
   "metadata": {},
   "outputs": [
    {
     "data": {
      "text/plain": [
       "'ab'"
      ]
     },
     "execution_count": 10,
     "metadata": {},
     "output_type": "execute_result"
    }
   ],
   "source": [
    "# type hint, dica de tipo\n",
    "\n",
    "def soma_dois(a:int, b:int) -> int: \n",
    "    return a + b\n",
    "\n",
    "def soma_lista(a:list, b:list) -> int:\n",
    "    c = a + b\n",
    "    return c\n",
    "letra_1 = 'a'\n",
    "letra_2 = 'b'\n",
    "lista_1 = [1, 2, 3,4]\n",
    "lista_2 = ['a', 'b', 'c', 'd']\n",
    "\n",
    "soma_lista(2, 9)\n",
    "soma_lista(lista_1, lista_2)\n",
    "soma_lista(letra_1, letra_2)"
   ]
  },
  {
   "cell_type": "markdown",
   "metadata": {},
   "source": [
    "Há 5 elementos fundamentais para a criação de novas funções em Python:\n",
    "\n",
    "- Primeiramente, usamos \"def\" para deixar claro que estamos **definindo** uma função;\n",
    "- Depois, damos um **nome** para nossa função;\n",
    "- Em parênteses, falamos quais serão os **argumentos** da função -- esses são os inputs, e em python, esses elementos são opcionais!\n",
    "- Depois, explicitamos qual é o **processamento** feito pela função;\n",
    "- Ao fim, dizemos o que a função irá **retornar** -- esses são os outputs, e em Python esse elemento é opcional!"
   ]
  },
  {
   "cell_type": "code",
   "execution_count": 12,
   "metadata": {},
   "outputs": [
    {
     "name": "stdout",
     "output_type": "stream",
     "text": [
      "Oi\n",
      "Oi\n"
     ]
    }
   ],
   "source": [
    "# \n",
    "def cumprimenta():\n",
    "    print('Oi')\n",
    "    \n",
    "cumprimenta()\n",
    "\n",
    "aqui = cumprimenta()\n"
   ]
  },
  {
   "cell_type": "code",
   "execution_count": 13,
   "metadata": {},
   "outputs": [
    {
     "name": "stdout",
     "output_type": "stream",
     "text": [
      "Olá Jonathan\n"
     ]
    }
   ],
   "source": [
    "# Função com argumento mas sem return\n",
    "def cumprimenta(nome):\n",
    "    print(f\"Olá {nome}\")\n",
    "    \n",
    "cumprimenta(\"Jonathan\")"
   ]
  },
  {
   "cell_type": "code",
   "execution_count": 3,
   "metadata": {},
   "outputs": [
    {
     "name": "stdout",
     "output_type": "stream",
     "text": [
      "Bom Noite, Jonathan\n"
     ]
    }
   ],
   "source": [
    "# Com dois parametros mais sem return\n",
    "def cumprimenta_horario(nome, horario):\n",
    "    if horario < 12:\n",
    "        print(f\"Bom Dia, {nome}\")\n",
    "    elif horario < 18:\n",
    "        print(f\"Bom Tarde, {nome}\")\n",
    "    else:\n",
    "        print(f\"Bom Noite, {nome}\")\n",
    "        \n",
    "cumprimenta_horario(\"Jonathan\", 22)"
   ]
  },
  {
   "cell_type": "code",
   "execution_count": null,
   "metadata": {},
   "outputs": [],
   "source": [
    "def cumprimenta_horario(nome, horario):\n",
    "    if horario < 12:\n",
    "        print(f\"Bom Dia, {nome}\")\n",
    "    elif horario < 18:\n",
    "        print(f\"Bom Tarde, {nome}\")\n",
    "    else:\n",
    "        print(f\"Bom Noite, {nome}\")\n",
    "        \n",
    "cumprimenta_horario(\"Jonathan\", 22)"
   ]
  },
  {
   "cell_type": "code",
   "execution_count": 17,
   "metadata": {},
   "outputs": [
    {
     "name": "stdout",
     "output_type": "stream",
     "text": [
      "3\n"
     ]
    }
   ],
   "source": [
    "def calc_soma(n1, n2):\n",
    "    soma = n1 + n2\n",
    "    print(soma)\n",
    "    \n",
    "calc_soma(1, 2)"
   ]
  },
  {
   "cell_type": "markdown",
   "metadata": {},
   "source": [
    "Uma função com dois parâmetros obrigatórios, requer que ambos parâmetros sejam passados na chamada da função, sobre o risco de o programa dar erro se os mesmos não forem passados."
   ]
  },
  {
   "cell_type": "code",
   "execution_count": 6,
   "metadata": {},
   "outputs": [
    {
     "ename": "TypeError",
     "evalue": "concatena() missing 1 required positional argument: 'string2'",
     "output_type": "error",
     "traceback": [
      "\u001b[0;31m---------------------------------------------------------------------------\u001b[0m",
      "\u001b[0;31mTypeError\u001b[0m                                 Traceback (most recent call last)",
      "Cell \u001b[0;32mIn[6], line 7\u001b[0m\n\u001b[1;32m      4\u001b[0m frase1 \u001b[38;5;241m=\u001b[39m \u001b[38;5;124m'\u001b[39m\u001b[38;5;124ma vingança nunca é plena\u001b[39m\u001b[38;5;124m'\u001b[39m\n\u001b[1;32m      5\u001b[0m frase2 \u001b[38;5;241m=\u001b[39m \u001b[38;5;124m'\u001b[39m\u001b[38;5;124mmata a alma e invenena!\u001b[39m\u001b[38;5;124m'\u001b[39m\n\u001b[0;32m----> 7\u001b[0m \u001b[38;5;28mprint\u001b[39m(\u001b[43mconcatena\u001b[49m\u001b[43m(\u001b[49m\u001b[43mfrase1\u001b[49m\u001b[43m)\u001b[49m)\n",
      "\u001b[0;31mTypeError\u001b[0m: concatena() missing 1 required positional argument: 'string2'"
     ]
    }
   ],
   "source": [
    "def concatena(string1, string2):\n",
    "    return string1 + string2\n",
    "\n",
    "frase1 = 'a vingança nunca é plena'\n",
    "frase2 = 'mata a alma e invenena!'\n",
    "\n",
    "print(concatena(frase1))"
   ]
  },
  {
   "cell_type": "code",
   "execution_count": 11,
   "metadata": {},
   "outputs": [
    {
     "data": {
      "text/plain": [
       "('a vingança nunca é plena',\n",
       " 'mata a alma e invenena!',\n",
       " 'água mole e pedra dura',\n",
       " 'tanto bate até que fura.')"
      ]
     },
     "execution_count": 11,
     "metadata": {},
     "output_type": "execute_result"
    }
   ],
   "source": [
    "#funcão com args\n",
    "def concatena(*string1):\n",
    "    return string1\n",
    "\n",
    "frase1 = 'a vingança nunca é plena'\n",
    "frase2 = 'mata a alma e invenena!'\n",
    "frase3 = 'água mole e pedra dura'\n",
    "frase4 = 'tanto bate até que fura.'\n",
    "\n",
    "concatena(frase1, frase2, frase3, frase4)"
   ]
  },
  {
   "cell_type": "markdown",
   "metadata": {},
   "source": [
    "Posso mudar a ordem dos argumentos, mas para essa função que criamos devo explicitar exatamente quais são os argumentos que estou passando para cada parâmetro!"
   ]
  },
  {
   "cell_type": "code",
   "execution_count": 15,
   "metadata": {},
   "outputs": [
    {
     "data": {
      "text/plain": [
       "'Bem vindo maria, agora são exatamente 10 horas'"
      ]
     },
     "execution_count": 15,
     "metadata": {},
     "output_type": "execute_result"
    }
   ],
   "source": [
    "def mensagem(usuario='usuario', hora=''):\n",
    "    return f'Bem vindo {usuario}, agora são exatamente {hora} horas'\n",
    "\n",
    "mensagem()\n",
    "mensagem('maria', 10)"
   ]
  },
  {
   "cell_type": "markdown",
   "metadata": {},
   "source": [
    "__Mas e o return?__\n",
    "\n",
    "\n",
    "Todas as funções acima de fato fazem alguma operação, mas nós não conseguimos **acessar** o resultado das operações! Veja um exemplo mais claro: uma função que calcula a soma de dois números:"
   ]
  },
  {
   "cell_type": "code",
   "execution_count": 16,
   "metadata": {},
   "outputs": [
    {
     "name": "stdout",
     "output_type": "stream",
     "text": [
      "3\n"
     ]
    }
   ],
   "source": [
    "def soma(a, b):\n",
    "    soma = a + b\n",
    "    print(soma)\n",
    "    \n",
    "soma(1, 2) # 3"
   ]
  },
  {
   "cell_type": "markdown",
   "metadata": {},
   "source": [
    "Note que a função calcula a soma dos números, mas apenas exibe este resultado com o print!\n",
    "\n",
    "A variável \"soma\" é uma variável que existe apenas no interior da função!!\n",
    "\n",
    "Se quisermos armazenar o valor da soma, podemos retornar o valor desta variável!\n",
    "\n",
    "OBS.: apenas o valor da variável é retornado, não o nome dela!!\n",
    "\n",
    "Fora da função, o nome de variável \"soma\" ainda continua não existindo!!"
   ]
  },
  {
   "cell_type": "code",
   "execution_count": 18,
   "metadata": {},
   "outputs": [
    {
     "name": "stdout",
     "output_type": "stream",
     "text": [
      "8\n"
     ]
    }
   ],
   "source": [
    "def soma(a, b):\n",
    "    soma = a + b\n",
    "    return soma\n",
    "    \n",
    "print(soma(1, 2)+ 5) # 3"
   ]
  },
  {
   "cell_type": "code",
   "execution_count": 22,
   "metadata": {},
   "outputs": [
    {
     "ename": "NameError",
     "evalue": "name 'x' is not defined",
     "output_type": "error",
     "traceback": [
      "\u001b[0;31m---------------------------------------------------------------------------\u001b[0m",
      "\u001b[0;31mNameError\u001b[0m                                 Traceback (most recent call last)",
      "Cell \u001b[0;32mIn[22], line 8\u001b[0m\n\u001b[1;32m      5\u001b[0m   a \u001b[38;5;241m=\u001b[39m \u001b[38;5;241m1\u001b[39m \u001b[38;5;241m+\u001b[39m \u001b[38;5;241m2\u001b[39m\n\u001b[1;32m      6\u001b[0m   \u001b[38;5;28mprint\u001b[39m(a)\n\u001b[0;32m----> 8\u001b[0m \u001b[43mx\u001b[49m\n",
      "\u001b[0;31mNameError\u001b[0m: name 'x' is not defined"
     ]
    }
   ],
   "source": [
    "# Curiosidade\n",
    "a = 100 # conseguimos acessar a variável que está fora\n",
    "def teste(b):\n",
    "  x = 1000\n",
    "  a = 1 + 2\n",
    "  print(a)\n",
    "\n",
    "x"
   ]
  },
  {
   "cell_type": "markdown",
   "metadata": {},
   "source": [
    "Vamos elaborar um pouco mais?\n",
    "\n",
    "Que tal fazermos uma função calculadora?"
   ]
  },
  {
   "cell_type": "code",
   "execution_count": 27,
   "metadata": {},
   "outputs": [
    {
     "data": {
      "text/plain": [
       "'opção inválida'"
      ]
     },
     "execution_count": 27,
     "metadata": {},
     "output_type": "execute_result"
    }
   ],
   "source": [
    "def calculadora(n1, n2, op):\n",
    "    if op == '+':\n",
    "        return n1 + n2\n",
    "    elif op == '-':\n",
    "        return n1 - n2\n",
    "    elif op == '*':\n",
    "        return n1 * n2\n",
    "    elif op == '/':\n",
    "        return n1 / n2\n",
    "    else:\n",
    "        return 'opção inválida'\n",
    "    \n",
    "calculadora(2,5,' ')"
   ]
  },
  {
   "cell_type": "markdown",
   "metadata": {},
   "source": [
    "Também é possível utilizar a função calculadora para definir uma função que calcula a média entre dois números:"
   ]
  },
  {
   "cell_type": "code",
   "execution_count": 29,
   "metadata": {},
   "outputs": [
    {
     "data": {
      "text/plain": [
       "72.0"
      ]
     },
     "execution_count": 29,
     "metadata": {},
     "output_type": "execute_result"
    }
   ],
   "source": [
    "def media(n1, n2):\n",
    "    return calculadora(n1, n2, '+') / 2\n",
    "\n",
    "media(100, 44)"
   ]
  },
  {
   "cell_type": "markdown",
   "metadata": {},
   "source": [
    "\n",
    "É importante também destacar que conseguimos passar valores padrão (default) como argumento da nossa função.\n",
    "\n",
    "Vamos ver no exemplo da calculadora como isso funcionaria, mas antes vamos olhar uma função que conhecemos. A print()\n",
    "\n",
    "documentação da print(): https://docs.python.org/3/library/functions.html#print"
   ]
  },
  {
   "cell_type": "code",
   "execution_count": 32,
   "metadata": {},
   "outputs": [
    {
     "name": "stdout",
     "output_type": "stream",
     "text": [
      "hello world\n",
      "bye,world\n"
     ]
    }
   ],
   "source": [
    "print(\"hello\",\"world\")\n",
    "print(\"bye\", \"world\", sep=\",\")"
   ]
  },
  {
   "cell_type": "markdown",
   "metadata": {},
   "source": [
    "o argumento padrão que é recebido para o parâmetro \"sep\" é \" \" (espaço). Não precisamos passar argumento para ele. Nesse caso, ele é opcional.\n",
    "\n",
    "\n",
    "*Vamos* ver como fazer para passar um argumento padrão para nossa função calculadora"
   ]
  },
  {
   "cell_type": "code",
   "execution_count": 35,
   "metadata": {},
   "outputs": [
    {
     "data": {
      "text/plain": [
       "2"
      ]
     },
     "execution_count": 35,
     "metadata": {},
     "output_type": "execute_result"
    }
   ],
   "source": [
    "def calculadora(n1, n2, op='+'):\n",
    "    if op == '+':\n",
    "        return n1 + n2\n",
    "    elif op == '-':\n",
    "        return n1 - n2\n",
    "    elif op == '*':\n",
    "        return n1 * n2\n",
    "    elif op == '/':\n",
    "        return n1 / n2\n",
    "    else:\n",
    "        return 'opção inválida'\n",
    "    \n",
    "calculadora(1,2, '*')"
   ]
  }
 ],
 "metadata": {
  "kernelspec": {
   "display_name": ".venv",
   "language": "python",
   "name": "python3"
  },
  "language_info": {
   "codemirror_mode": {
    "name": "ipython",
    "version": 3
   },
   "file_extension": ".py",
   "mimetype": "text/x-python",
   "name": "python",
   "nbconvert_exporter": "python",
   "pygments_lexer": "ipython3",
   "version": "3.12.3"
  }
 },
 "nbformat": 4,
 "nbformat_minor": 2
}
