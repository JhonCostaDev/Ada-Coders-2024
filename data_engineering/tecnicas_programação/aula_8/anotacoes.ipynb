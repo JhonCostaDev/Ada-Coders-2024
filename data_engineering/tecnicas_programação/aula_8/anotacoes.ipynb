{
 "cells": [
  {
   "cell_type": "markdown",
   "metadata": {},
   "source": [
    "Friday, september 27th, 2024 - Class 8\n",
    "\n",
    "### Anotações\n",
    "\n",
    "aula06 - Tratamento de dados"
   ]
  },
  {
   "cell_type": "markdown",
   "metadata": {},
   "source": [
    "* Análise Exploratória dos Dados\n",
    "* Redundância dos Dados\n",
    "* Detecção de Outliers\n",
    "* Informações Faltantes\n",
    "* Preenchimento de Dados Faltantes"
   ]
  },
  {
   "cell_type": "code",
   "execution_count": 4,
   "metadata": {},
   "outputs": [],
   "source": [
    "import pandas as pd \n",
    "import numpy as np "
   ]
  },
  {
   "cell_type": "code",
   "execution_count": 7,
   "metadata": {},
   "outputs": [
    {
     "name": "stdout",
     "output_type": "stream",
     "text": [
      "Found existing installation: edvart 4.0.0\n",
      "Uninstalling edvart-4.0.0:\n",
      "  Would remove:\n",
      "    /home/jonathan/Documents/GitHub/Ada-Coders-2024/.venv/lib/python3.12/site-packages/edvart-4.0.0.dist-info/*\n",
      "    /home/jonathan/Documents/GitHub/Ada-Coders-2024/.venv/lib/python3.12/site-packages/edvart/*\n",
      "    /home/jonathan/Documents/GitHub/Ada-Coders-2024/.venv/lib/python3.12/site-packages/example-datasets/Meteorite_Landings.csv\n",
      "    /home/jonathan/Documents/GitHub/Ada-Coders-2024/.venv/lib/python3.12/site-packages/example-datasets/auto.csv\n",
      "    /home/jonathan/Documents/GitHub/Ada-Coders-2024/.venv/lib/python3.12/site-packages/example-datasets/global_temp.csv\n",
      "    /home/jonathan/Documents/GitHub/Ada-Coders-2024/.venv/lib/python3.12/site-packages/example-datasets/pollution.csv\n",
      "    /home/jonathan/Documents/GitHub/Ada-Coders-2024/.venv/lib/python3.12/site-packages/example-datasets/titanic.csv\n",
      "Proceed (Y/n)? ^C\n",
      "\u001b[31mERROR: Operation cancelled by user\u001b[0m\u001b[31m\n",
      "\u001b[0m"
     ]
    }
   ],
   "source": [
    "!pip uninstall edvart"
   ]
  },
  {
   "cell_type": "code",
   "execution_count": 8,
   "metadata": {},
   "outputs": [],
   "source": [
    "# ver como importar para ver como será o projeto\n",
    "import edvart as ed"
   ]
  },
  {
   "cell_type": "code",
   "execution_count": null,
   "metadata": {},
   "outputs": [],
   "source": []
  },
  {
   "cell_type": "code",
   "execution_count": null,
   "metadata": {},
   "outputs": [],
   "source": []
  },
  {
   "cell_type": "markdown",
   "metadata": {
    "vscode": {
     "languageId": "html"
    }
   },
   "source": [
    "<style>\n",
    "    .f {\n",
    "        background: red;\n",
    "    }\n",
    "</style>\n",
    "<div class='f'>\n",
    "<p>lorem ipsum</p>\n",
    "</div>"
   ]
  }
 ],
 "metadata": {
  "kernelspec": {
   "display_name": ".venv",
   "language": "python",
   "name": "python3"
  },
  "language_info": {
   "codemirror_mode": {
    "name": "ipython",
    "version": 3
   },
   "file_extension": ".py",
   "mimetype": "text/x-python",
   "name": "python",
   "nbconvert_exporter": "python",
   "pygments_lexer": "ipython3",
   "version": "3.12.3"
  }
 },
 "nbformat": 4,
 "nbformat_minor": 2
}
