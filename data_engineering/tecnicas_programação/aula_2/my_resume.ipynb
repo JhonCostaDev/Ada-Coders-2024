{
 "cells": [
  {
   "cell_type": "markdown",
   "metadata": {},
   "source": [
    "# Numpay\n",
    "\n",
    " NumPy é uma biblioteca fundamental para a computação científica em Python. Ele oferece suporte para a criação e manipulação de arrays e matrizes multidimensionais, além de fornecer uma vasta coleção de funções matemáticas de alto nível para operar sobre esses arrays.\n",
    "\n",
    "### Aqui estão alguns pontos principais sobre o NumPy:\n",
    "\n",
    "* __Arrays N-dimensionais__: O NumPy permite criar arrays de qualquer dimensão, o que é muito útil para trabalhar com grandes conjuntos de dados.\n",
    "* __Desempenho__: O núcleo do NumPy é escrito em C, o que proporciona uma grande velocidade de execução, combinando a flexibilidade do Python com a eficiência do código compilado1.\n",
    "* __Funções Matemáticas__: Ele inclui funções para álgebra linear, transformadas de Fourier, geração de números aleatórios, entre outras2.\n",
    "* __Interoperabilidade__: O NumPy pode ser integrado com outras bibliotecas e ferramentas de computação científica, como SciPy, pandas, e bibliotecas de aprendizado de máquina"
   ]
  },
  {
   "cell_type": "markdown",
   "metadata": {},
   "source": [
    "### Pequena revisão sobre listas em Python:"
   ]
  },
  {
   "cell_type": "markdown",
   "metadata": {},
   "source": [
    "Listas em python não são arrays.\n",
    "\n",
    "Listas são estruturas iteréveis.\n",
    "\n",
    "Os métodos da lista alteram o objeto lista"
   ]
  },
  {
   "cell_type": "code",
   "execution_count": 1,
   "metadata": {},
   "outputs": [
    {
     "name": "stdout",
     "output_type": "stream",
     "text": [
      "None\n"
     ]
    },
    {
     "data": {
      "text/plain": [
       "[1, 2, 3, 4, 'a']"
      ]
     },
     "execution_count": 1,
     "metadata": {},
     "output_type": "execute_result"
    }
   ],
   "source": [
    "lista = [1, 2, 3, 4]\n",
    "type(lista)\n",
    "\n",
    "var = lista.append('a')\n",
    "print(var)\n",
    "lista"
   ]
  },
  {
   "cell_type": "code",
   "execution_count": 2,
   "metadata": {},
   "outputs": [],
   "source": [
    "lista_num1 = [1, 2, 3, 4]\n",
    "lista_num2 = [5, 6, 7, 8]"
   ]
  },
  {
   "cell_type": "markdown",
   "metadata": {},
   "source": [
    "Executar operação \"Soma\" entre duas listas em python, na verdade os \"concatena\".\n",
    "\n",
    "Listas são estruturas Iteráveis.\n",
    "\n",
    "Listas não são vetores.\n",
    "\n"
   ]
  },
  {
   "cell_type": "code",
   "execution_count": 3,
   "metadata": {},
   "outputs": [
    {
     "data": {
      "text/plain": [
       "[1, 2, 3, 4, 5, 6, 7, 8]"
      ]
     },
     "execution_count": 3,
     "metadata": {},
     "output_type": "execute_result"
    }
   ],
   "source": [
    "\n",
    "soma_lista = lista_num1 + lista_num2\n",
    "soma_lista #[1, 2, 3, 4, 5, 6, 7, 8]"
   ]
  },
  {
   "cell_type": "markdown",
   "metadata": {},
   "source": [
    "Curiosidade: É possível multiplicar listas\n",
    "\n",
    "Tem o mesmo efeito de uma concatenação"
   ]
  },
  {
   "cell_type": "code",
   "execution_count": 4,
   "metadata": {},
   "outputs": [
    {
     "data": {
      "text/plain": [
       "[1, 2, 3, 4, 1, 2, 3, 4]"
      ]
     },
     "execution_count": 4,
     "metadata": {},
     "output_type": "execute_result"
    }
   ],
   "source": [
    "multiplicacao_listas = lista_num1 * 2\n",
    "multiplicacao_listas"
   ]
  },
  {
   "cell_type": "markdown",
   "metadata": {},
   "source": [
    "## Arrays\n",
    "\n",
    "A es trutura de dados base do __Numpy__ são os **arrays**.\n",
    "\n",
    "### Importante\n",
    "* Todos os elementos de um array devem ser do mesmo tipo.\n",
    "* Os arrays viabilizam a realização eficiente de operações numéricas envolvendo grandes quantidades de dados, sendo muito mais eficiente que as listas.\n",
    "* Cada dimensão de um array é chamada de eixo **(axis)**\n",
    "* Os eixos são numerados a partir de **0 (zero)**.\n",
    "* Os elementos sãoacessados utilizando colchetes **[]** (semelhante às listas).\n",
    "\n",
    "\n"
   ]
  },
  {
   "cell_type": "markdown",
   "metadata": {},
   "source": [
    "### Importante:\n",
    "Antes de começar a trabalhar com numpy, é importante saber que como ela não é built-in do python, pode ser necessário sua instalação via PIP. \n",
    "\n",
    "#### O que é o PIP:\n",
    "O pip é o gerenciador de pacotes oficial do Python. Ele facilita a instalação, atualização e remoção de pacotes e bibliotecas Python, permitindo que você acesse e utilize uma vasta gama de ferramentas desenvolvidas pela comunidade.\n",
    "\n",
    "*  **Linux**: Se em sua distro linux você não tiver o **pip** instalado você pode fazê-lo através do comando: \n",
    "```\n",
    "$ sudo apt install python3-pip\n",
    "```\n",
    "\n",
    "### Instalando o numpy:\n",
    "De preferência em um virtual environment (.venv) do seu projeto, execute o comando:\n",
    "\n",
    "```\n",
    "$ pip install numpy\n",
    "```\n",
    "\n"
   ]
  },
  {
   "cell_type": "markdown",
   "metadata": {},
   "source": [
    "## Convertendo Listas em Arrays\n",
    "\n",
    "Para trabalhar com a biblioteca __numpy__, antes de tudo você precisa fazer o import da mesma.\n",
    "\n",
    "```\n",
    "import numpy as np \n",
    "```\n",
    "a terminação (as np) informa ao python que nós apelidamos a biblioteca como np\n",
    "\n",
    "\n"
   ]
  },
  {
   "cell_type": "code",
   "execution_count": 5,
   "metadata": {},
   "outputs": [
    {
     "name": "stdout",
     "output_type": "stream",
     "text": [
      "[1 2 3 4 1 2 3 4]\n"
     ]
    },
    {
     "data": {
      "text/plain": [
       "array([1, 2, 3, 4, 1, 2, 3, 4])"
      ]
     },
     "execution_count": 5,
     "metadata": {},
     "output_type": "execute_result"
    }
   ],
   "source": [
    "import numpy as np  \n",
    "\n",
    "# Criando um array com numpy\n",
    "numeros = np.array([1, 2, 3, 4, 1, 2, 3, 4])\n",
    "print(numeros)\n",
    "numeros\n"
   ]
  },
  {
   "cell_type": "code",
   "execution_count": 6,
   "metadata": {},
   "outputs": [
    {
     "data": {
      "text/plain": [
       "array([1, 2, 3, 4, 5])"
      ]
     },
     "execution_count": 6,
     "metadata": {},
     "output_type": "execute_result"
    }
   ],
   "source": [
    "import numpy as np\n",
    "\n",
    "data = [1, 2, 3, 4, 5]\n",
    "\n",
    "array_data = np.array(data)\n",
    "\n",
    "array_data\n"
   ]
  },
  {
   "cell_type": "markdown",
   "metadata": {},
   "source": [
    "#### Criando arrays multidimensionais com listas aninhadas"
   ]
  },
  {
   "cell_type": "code",
   "execution_count": 7,
   "metadata": {},
   "outputs": [
    {
     "data": {
      "text/plain": [
       "array([[1, 2, 3],\n",
       "       [4, 5, 6]])"
      ]
     },
     "execution_count": 7,
     "metadata": {},
     "output_type": "execute_result"
    }
   ],
   "source": [
    "lista_aninhada = [[1, 2, 3], [4, 5, 6]]\n",
    "\n",
    "array_2d = np.array(lista_aninhada)\n",
    "\n",
    "array_2d"
   ]
  },
  {
   "cell_type": "markdown",
   "metadata": {},
   "source": [
    "### Convertendo lista de strings em arrays\n",
    "\n",
    "Como foi informado anteriormente, arrays tem melhor desempenhos para se trabalhar com números, mas também é possível converter uma lista de strings em um array.\n"
   ]
  },
  {
   "cell_type": "code",
   "execution_count": 8,
   "metadata": {},
   "outputs": [
    {
     "name": "stdout",
     "output_type": "stream",
     "text": [
      "['banana' 'goiaba' 'uva' 'pera']\n"
     ]
    },
    {
     "data": {
      "text/plain": [
       "array(['banana', 'goiaba', 'uva', 'pera'], dtype='<U6')"
      ]
     },
     "execution_count": 8,
     "metadata": {},
     "output_type": "execute_result"
    }
   ],
   "source": [
    "# Lista de string\n",
    "frutas = ['banana', 'goiaba', 'uva', 'pera']\n",
    "\n",
    "# converter em array\n",
    "\n",
    "array_frutas = np.array(frutas)\n",
    "print(array_frutas)\n",
    "array_frutas"
   ]
  },
  {
   "cell_type": "markdown",
   "metadata": {},
   "source": [
    "**dtype='<U6'** significa que cada elemento do array é uma string Unicode com até 6 caracteres1"
   ]
  },
  {
   "cell_type": "markdown",
   "metadata": {},
   "source": [
    "Como também foi visto anteriormente, a estrutura de um array deve ser apenas usada para elementos de um tipo único, mas se tentarmos transformar uma lista contendo números e strings em um array?"
   ]
  },
  {
   "cell_type": "code",
   "execution_count": 9,
   "metadata": {},
   "outputs": [
    {
     "data": {
      "text/plain": [
       "array(['1', '2', 'a', 'b'], dtype='<U21')"
      ]
     },
     "execution_count": 9,
     "metadata": {},
     "output_type": "execute_result"
    }
   ],
   "source": [
    "lista_mista = [1, 2, 'a', 'b']\n",
    "\n",
    "array_lista_mista = np.array(lista_mista)\n",
    "array_lista_mista"
   ]
  },
  {
   "cell_type": "markdown",
   "metadata": {},
   "source": [
    "Quando fazemos isso, o python vai tentar converter todos os elementos para um mesmo tipo, nesse caso acima, todos foram transformados em **strig**.\n",
    "\n",
    "Se tentar-mos converter uma listas de tipos numérico diferentes, o python tentará transformar todos os elementos em um único tipo."
   ]
  },
  {
   "cell_type": "code",
   "execution_count": 10,
   "metadata": {},
   "outputs": [
    {
     "data": {
      "text/plain": [
       "array([1. , 2. , 3. , 4.5, 5.2])"
      ]
     },
     "execution_count": 10,
     "metadata": {},
     "output_type": "execute_result"
    }
   ],
   "source": [
    "lista_int_float = [1, 2, 3.0, 4.5, 5.2]\n",
    "\n",
    "array_lista_int_float = np.array(lista_int_float)\n",
    "\n",
    "array_lista_int_float"
   ]
  },
  {
   "cell_type": "markdown",
   "metadata": {},
   "source": [
    "## Atributos da biblioteca Numpy"
   ]
  },
  {
   "cell_type": "markdown",
   "metadata": {},
   "source": [
    "Com o nosso array_2d podemos ver alguns atributos da biblioteca numpy"
   ]
  },
  {
   "cell_type": "markdown",
   "metadata": {},
   "source": [
    "#### ndim\n",
    "\n",
    "O método ndim do NumPy é usado para determinar o número de dimensões (ou eixos) de um array. Ele é um atributo do objeto ndarray e retorna um valor inteiro que representa o número de dimensões do array."
   ]
  },
  {
   "cell_type": "code",
   "execution_count": 11,
   "metadata": {},
   "outputs": [
    {
     "name": "stdout",
     "output_type": "stream",
     "text": [
      "O array tem 2 dimensões.\n"
     ]
    }
   ],
   "source": [
    "numero_dimensoes = array_2d.ndim\n",
    "\n",
    "print(f\"O array tem {numero_dimensoes} dimensões.\")"
   ]
  },
  {
   "cell_type": "markdown",
   "metadata": {},
   "source": [
    "#### Shape\n",
    "\n",
    "O método shape do NumPy é um atributo do objeto ndarray que retorna uma tupla representando as dimensões do array. Ele é muito útil para entender a estrutura dos dados com os quais você está trabalhando."
   ]
  },
  {
   "cell_type": "code",
   "execution_count": 12,
   "metadata": {},
   "outputs": [
    {
     "name": "stdout",
     "output_type": "stream",
     "text": [
      "O array tem 2 linhas e 3 colunas. \n"
     ]
    }
   ],
   "source": [
    "dimensao, elementos = array_2d.shape\n",
    "print(f\"O array tem {dimensao} linhas e {elementos} colunas. \")"
   ]
  },
  {
   "cell_type": "code",
   "execution_count": 13,
   "metadata": {},
   "outputs": [
    {
     "name": "stdout",
     "output_type": "stream",
     "text": [
      "(4,)\n",
      "(2, 3)\n",
      "(2, 3, 4)\n"
     ]
    }
   ],
   "source": [
    "array_1d = np.array([1, 2, 3, 4])\n",
    "array_2d = np.array([[1, 2, 3], [4, 5, 6]])\n",
    "array_3d = np.zeros((2, 3, 4))\n",
    "\n",
    "# Usando o atributo shape\n",
    "print(array_1d.shape)  # Saída: (4,)\n",
    "print(array_2d.shape)  # Saída: (2, 3)\n",
    "print(array_3d.shape)  # Saída: (2, 3, 4)"
   ]
  },
  {
   "cell_type": "markdown",
   "metadata": {},
   "source": [
    "No exemplo acima:\n",
    "\n",
    "array_1d.shape retorna (4,), indicando que é um array unidimensional com 4 elementos.\n",
    "\n",
    "array_2d.shape retorna (2, 3), indicando que é um array bidimensional com 2 linhas e 3 colunas.\n",
    "\n",
    "array_3d.shape retorna (2, 3, 4), indicando que é um array tridimensional com 2 blocos, 3 linhas e 4 colunas."
   ]
  },
  {
   "cell_type": "markdown",
   "metadata": {},
   "source": [
    "Além de obter a forma do array, você também pode usar o atributo shape para redimensionar o array, desde que o número total de elementos permaneça o mesmo"
   ]
  },
  {
   "cell_type": "markdown",
   "metadata": {},
   "source": [
    "#### Size\n",
    "\n",
    "Retorna o número total de elementos no array."
   ]
  },
  {
   "cell_type": "code",
   "execution_count": 14,
   "metadata": {},
   "outputs": [
    {
     "name": "stdout",
     "output_type": "stream",
     "text": [
      "O array tem 24 elementos\n"
     ]
    },
    {
     "data": {
      "text/plain": [
       "array([[[0., 0., 0., 0.],\n",
       "        [0., 0., 0., 0.],\n",
       "        [0., 0., 0., 0.]],\n",
       "\n",
       "       [[0., 0., 0., 0.],\n",
       "        [0., 0., 0., 0.],\n",
       "        [0., 0., 0., 0.]]])"
      ]
     },
     "execution_count": 14,
     "metadata": {},
     "output_type": "execute_result"
    }
   ],
   "source": [
    "print(f'O array tem {array_3d.size} elementos')\n",
    "array_3d"
   ]
  },
  {
   "cell_type": "markdown",
   "metadata": {},
   "source": [
    "#### Dtype\n",
    "\n",
    "Retorna o tipo de dados no array"
   ]
  },
  {
   "cell_type": "code",
   "execution_count": 15,
   "metadata": {},
   "outputs": [
    {
     "name": "stdout",
     "output_type": "stream",
     "text": [
      "Tipos de dados: float64\n"
     ]
    },
    {
     "data": {
      "text/plain": [
       "array([[[0., 0., 0., 0.],\n",
       "        [0., 0., 0., 0.],\n",
       "        [0., 0., 0., 0.]],\n",
       "\n",
       "       [[0., 0., 0., 0.],\n",
       "        [0., 0., 0., 0.],\n",
       "        [0., 0., 0., 0.]]])"
      ]
     },
     "execution_count": 15,
     "metadata": {},
     "output_type": "execute_result"
    }
   ],
   "source": [
    "print(f'Tipos de dados: {array_3d.dtype}')\n",
    "array_3d"
   ]
  },
  {
   "cell_type": "markdown",
   "metadata": {},
   "source": [
    "#### Itemsize\n",
    "Retorna o tamanho (em bytes) de cada elemento no array"
   ]
  },
  {
   "cell_type": "code",
   "execution_count": 16,
   "metadata": {},
   "outputs": [
    {
     "name": "stdout",
     "output_type": "stream",
     "text": [
      "Cada elemento tem 8 bytes\n"
     ]
    },
    {
     "data": {
      "text/plain": [
       "array([1, 2, 3, 4, 5])"
      ]
     },
     "execution_count": 16,
     "metadata": {},
     "output_type": "execute_result"
    }
   ],
   "source": [
    "print(f'Cada elemento tem {array_data.itemsize} bytes')\n",
    "array_data"
   ]
  },
  {
   "cell_type": "markdown",
   "metadata": {},
   "source": [
    "#### Nbytes\n",
    "Retorna o número total de bytes consumidos pelos elementos no array."
   ]
  },
  {
   "cell_type": "code",
   "execution_count": 17,
   "metadata": {},
   "outputs": [
    {
     "name": "stdout",
     "output_type": "stream",
     "text": [
      "O array consome 40 bytes\n"
     ]
    },
    {
     "data": {
      "text/plain": [
       "array([1, 2, 3, 4, 5])"
      ]
     },
     "execution_count": 17,
     "metadata": {},
     "output_type": "execute_result"
    }
   ],
   "source": [
    "print(f'O array consome {array_data.nbytes} bytes')\n",
    "array_data"
   ]
  },
  {
   "cell_type": "markdown",
   "metadata": {},
   "source": [
    "#### T transposta\n",
    "Retorna uma matriz transposta.\n",
    "\n"
   ]
  },
  {
   "cell_type": "code",
   "execution_count": 18,
   "metadata": {},
   "outputs": [
    {
     "name": "stdout",
     "output_type": "stream",
     "text": [
      "Array Original\n",
      "[[1 2 3]\n",
      " [4 5 6]]\n",
      "Transposto: \n",
      "[[1 4]\n",
      " [2 5]\n",
      " [3 6]]\n"
     ]
    }
   ],
   "source": [
    "lista = [[1,2,3],[4,5,6]]\n",
    "meu_array = np.array(lista)\n",
    "print(f'Array Original\\n{meu_array}\\nTransposto: \\n{meu_array.T}')"
   ]
  },
  {
   "cell_type": "code",
   "execution_count": 19,
   "metadata": {},
   "outputs": [
    {
     "name": "stdout",
     "output_type": "stream",
     "text": [
      "Array Original\n",
      "[[1 2 3]\n",
      " [4 5 6]\n",
      " [7 8 9]]\n",
      "Transposto: \n",
      "[[1 4 7]\n",
      " [2 5 8]\n",
      " [3 6 9]]\n"
     ]
    }
   ],
   "source": [
    "lista2 = [[1,2,3],[4,5,6], [7,8,9]]\n",
    "meu_array2 = np.array(lista2)\n",
    "print(f'Array Original\\n{meu_array2}\\nTransposto: \\n{meu_array2.T}')"
   ]
  },
  {
   "cell_type": "markdown",
   "metadata": {},
   "source": [
    "#### Data\n",
    "Retorna um buffer que aponta para o início de memória dos dados do array"
   ]
  },
  {
   "cell_type": "code",
   "execution_count": 20,
   "metadata": {},
   "outputs": [
    {
     "name": "stdout",
     "output_type": "stream",
     "text": [
      "<memory at 0x755abc39f510>\n"
     ]
    }
   ],
   "source": [
    "print(meu_array2.data)"
   ]
  },
  {
   "cell_type": "markdown",
   "metadata": {},
   "source": [
    "### Podemos criar arrays utilizando as funções **zeros** e **ones**."
   ]
  },
  {
   "cell_type": "markdown",
   "metadata": {},
   "source": [
    "A função **zeros** do numpy é usada para criar um novo array com forma e tipo especificados, preenchidos com zeros.\n",
    "\n",
    "* SINTAXE\n",
    "```\n",
    "numpy.zeros(shape, dtype=float, order='C', *, like=None)\n",
    "```\n",
    "Onde:\n",
    "\n",
    "* Shape: tipo int ou tuplas definem a forma do novo array.\n",
    "\n",
    "* dtype: Opicional.\n",
    "\n",
    "* Order: {‘C’, ‘F’}, opcional. Se deve armazenar dados multidimensionais em ordem row-major (estilo C) ou column-major (estilo Fortran) na memória. O padrão é ‘C’.\n",
    "\n",
    "* like: array_like, opcional. Objeto de referência para permitir a criação de arrays que não são arrays do NumPy. Se um array-like passado como like suporta o protocolo __array_function__, o resultado será definido por ele.\n"
   ]
  },
  {
   "cell_type": "code",
   "execution_count": 21,
   "metadata": {},
   "outputs": [
    {
     "data": {
      "text/plain": [
       "array([0., 0., 0., 0., 0.])"
      ]
     },
     "execution_count": 21,
     "metadata": {},
     "output_type": "execute_result"
    }
   ],
   "source": [
    "# Zeros: Cria um array com todos os valores nulos\n",
    "# É necessário passar o números de elementos queremos que o nosso array possua.\n",
    "\n",
    "nulo = np.zeros(5)\n",
    "\n",
    "nulo"
   ]
  },
  {
   "cell_type": "code",
   "execution_count": 22,
   "metadata": {},
   "outputs": [
    {
     "data": {
      "text/plain": [
       "array([[0., 0., 0., 0., 0.],\n",
       "       [0., 0., 0., 0., 0.],\n",
       "       [0., 0., 0., 0., 0.]])"
      ]
     },
     "execution_count": 22,
     "metadata": {},
     "output_type": "execute_result"
    }
   ],
   "source": [
    "# Criar um array multidimensional de zeros.\n",
    "# É passados o número de as dimensões e o números de elementos como parâmetro na forma de uma tupla.\n",
    "\n",
    "nulos_3d = np.zeros((3, 5))\n",
    "nulos_3d"
   ]
  },
  {
   "cell_type": "code",
   "execution_count": 23,
   "metadata": {},
   "outputs": [
    {
     "data": {
      "text/plain": [
       "array([[1., 1., 1., 1., 1.],\n",
       "       [1., 1., 1., 1., 1.],\n",
       "       [1., 1., 1., 1., 1.]])"
      ]
     },
     "execution_count": 23,
     "metadata": {},
     "output_type": "execute_result"
    }
   ],
   "source": [
    "ones_3d = np.ones((3, 5))\n",
    "ones_3d"
   ]
  },
  {
   "cell_type": "markdown",
   "metadata": {},
   "source": [
    "### Arange\n",
    "\n",
    "No python temos a função **range()** que nos permite gerar números, como por exemplo uma sequência de 0 a 10. Onde temos que passar como parâmetros (início, fim , passo)\n",
    "onde o início é o começo da contagem, o fim é até onde vai a sequência -1, e o passo que é a diferença entre cada número da sequência. Apenas o parâmetro fim é obrigatório, sendo os outros dois opicionais. No casso do parâmtro passo, ele aceita apenas números do tipo inteiro, não sendo possível o utilização de número de pontos flutuante."
   ]
  },
  {
   "cell_type": "code",
   "execution_count": 24,
   "metadata": {},
   "outputs": [
    {
     "data": {
      "text/plain": [
       "[1, 3, 5, 7, 9]"
      ]
     },
     "execution_count": 24,
     "metadata": {},
     "output_type": "execute_result"
    }
   ],
   "source": [
    "list(range(1, 10, 2))"
   ]
  },
  {
   "cell_type": "code",
   "execution_count": 25,
   "metadata": {},
   "outputs": [
    {
     "ename": "TypeError",
     "evalue": "'float' object cannot be interpreted as an integer",
     "output_type": "error",
     "traceback": [
      "\u001b[0;31m---------------------------------------------------------------------------\u001b[0m",
      "\u001b[0;31mTypeError\u001b[0m                                 Traceback (most recent call last)",
      "Cell \u001b[0;32mIn[25], line 1\u001b[0m\n\u001b[0;32m----> 1\u001b[0m \u001b[38;5;28mlist\u001b[39m(\u001b[38;5;28;43mrange\u001b[39;49m\u001b[43m(\u001b[49m\u001b[38;5;241;43m1\u001b[39;49m\u001b[43m,\u001b[49m\u001b[43m \u001b[49m\u001b[38;5;241;43m10\u001b[39;49m\u001b[43m,\u001b[49m\u001b[43m \u001b[49m\u001b[38;5;241;43m1.5\u001b[39;49m\u001b[43m)\u001b[49m)\n",
      "\u001b[0;31mTypeError\u001b[0m: 'float' object cannot be interpreted as an integer"
     ]
    }
   ],
   "source": [
    "list(range(1, 10, 1.5))"
   ]
  },
  {
   "cell_type": "markdown",
   "metadata": {},
   "source": [
    "O **numpy** tem seu próprio método range, que é chamado de **arange**, que funciona semelhante ao range, com a diferença que este pode receber no seu parâmetro passo, números de ponto flutuante. "
   ]
  },
  {
   "cell_type": "code",
   "execution_count": 40,
   "metadata": {},
   "outputs": [
    {
     "data": {
      "text/plain": [
       "array([1. , 2.5, 4. , 5.5, 7. , 8.5])"
      ]
     },
     "execution_count": 40,
     "metadata": {},
     "output_type": "execute_result"
    }
   ],
   "source": [
    "np.arange(1,10, 1.5)"
   ]
  },
  {
   "cell_type": "markdown",
   "metadata": {},
   "source": [
    "### Linspace\n",
    "\n",
    "O Linspace é uma função específica do NumPy que gera números espaçados de forma uniforme em um intervalo especificado. Ele retorna um arranjo de valores igualmente espaçados dentro de um intervalo definido.\n",
    "\n",
    "Sua sintaxe básica:\n",
    "```\n",
    "np.linspace(start, stop, num)\n",
    "```\n",
    "* start: O valor inicial do intervalo.\n",
    "* stop: O valor final do intervalo.\n",
    "* num: O número de valores a serem gerados."
   ]
  },
  {
   "cell_type": "code",
   "execution_count": 19,
   "metadata": {},
   "outputs": [
    {
     "name": "stdout",
     "output_type": "stream",
     "text": [
      "[0.         0.11111111 0.22222222 0.33333333 0.44444444 0.55555556\n",
      " 0.66666667 0.77777778 0.88888889 1.        ]\n"
     ]
    }
   ],
   "source": [
    "# Gerando 10 valores igualmente espaçados entre 0 e 1.\n",
    "\n",
    "arr_linspace = np.linspace(0, 1, 10)\n",
    "print(arr_linspace)"
   ]
  },
  {
   "cell_type": "markdown",
   "metadata": {},
   "source": [
    "```\n",
    "numpy.linspace(start, stop, num=50, endpoint=True, retstep=False, dtype=None, axis=0)\n",
    "\n",
    "```\n",
    "#### Parâmetros\n",
    "* start: O valor inicial da sequência.\n",
    "* stop: O valor final da sequência.\n",
    "* num: Número de amostras a serem geradas (o padrão é 50).\n",
    "* endpoint: Se True, stop é a última amostra; caso contrário, não é incluída (o padrão é True).\n",
    "* retstep: Se True, retorna as amostras e o passo entre elas (o padrão é False).\n",
    "* dtype: O tipo do array de saída (o padrão é inferido a partir de start e stop).\n",
    "* axis: O eixo no resultado para armazenar as amostras (o padrão é 0)."
   ]
  },
  {
   "cell_type": "code",
   "execution_count": 20,
   "metadata": {},
   "outputs": [
    {
     "name": "stdout",
     "output_type": "stream",
     "text": [
      "[1.  1.9 2.8 3.7 4.6 5.5 6.4 7.3 8.2 9.1]\n"
     ]
    }
   ],
   "source": [
    "# Excluindo endpoint\n",
    "arr = np.linspace(1, 10, num=10, endpoint=False)\n",
    "print(arr)\n",
    "# Saída: [1. 1.9 2.8 3.7 4.6 5.5 6.4 7.3 8.2 9.1]"
   ]
  },
  {
   "cell_type": "code",
   "execution_count": 21,
   "metadata": {},
   "outputs": [
    {
     "name": "stdout",
     "output_type": "stream",
     "text": [
      "Array: [0.   0.25 0.5  0.75 1.  ]\n",
      "Passo: 0.25\n"
     ]
    }
   ],
   "source": [
    "# Retornando o tamanho do passo\n",
    "\n",
    "array, passo = np.linspace(0, 1, num=5, retstep=True)\n",
    "\n",
    "print(f\"Array: {array}\\nPasso: {passo}\")"
   ]
  },
  {
   "cell_type": "markdown",
   "metadata": {},
   "source": [
    "##### Exemplos práticos de uso do linspace\n",
    "\n",
    "* **Visualização de dados**: O Linspace é frequentemente utilizado para gerar valores espaçados que serão utilizados como eixos em gráficos. Por exemplo, ao criar um gráfico de linha, podemos definir o eixo x como um arranjo de valores igualmente espaçados usando o Linspace.\n",
    "\n",
    "* **Cálculos Numéricos**: O Linspace também pode ser usado para realizar cálculos numéricos. Por exemplo, se quisermos calcular a soma de uma série de valores espaçados igualmente, podemos gerar esses valores usando o Linspace e, em seguida, utilizar a função de soma do NumPy para realizar o cálculo."
   ]
  },
  {
   "cell_type": "markdown",
   "metadata": {},
   "source": [
    "#### Construindo arrays com **combinações de arrays** entre eles:\n",
    "\n",
    "Desde de que os arrays tenham a mesma quantidade de elementos, é possível realizar operações matemáticas entre eles."
   ]
  },
  {
   "cell_type": "code",
   "execution_count": 29,
   "metadata": {},
   "outputs": [
    {
     "name": "stdout",
     "output_type": "stream",
     "text": [
      "Soma: [ 7.  9. 11. 13.]\n",
      "Subtração: [-4. -4. -4. -4.]\n",
      "Multiplicação: [ -5 -12 -21 -32]\n",
      "Divisão: [ 6.  8. 10. 12.]\n"
     ]
    },
    {
     "data": {
      "text/plain": [
       "array([ 1,  4,  9, 16])"
      ]
     },
     "execution_count": 29,
     "metadata": {},
     "output_type": "execute_result"
    }
   ],
   "source": [
    "arr1 = np.array([1, 2, 3, 4])\n",
    "\n",
    "arr2 = np.ones(4)\n",
    "\n",
    "arr3 = np.arange(5, 9)\n",
    "\n",
    "soma = arr1 + arr2 + arr3\n",
    "sub = arr1 - arr2 * arr3\n",
    "mult = arr1 *  - arr3\n",
    "div = arr1 / arr2 + arr3\n",
    "pot = arr1 ** 2\n",
    "print(f\"Soma: {soma}\\nSubtração: {sub}\\nMultiplicação: {mult}\\nDivisão: {div}\")\n",
    "pot"
   ]
  },
  {
   "cell_type": "markdown",
   "metadata": {},
   "source": [
    "### Random\n",
    "\n",
    "Assim como a biblioteca random, o numpy tem seu próprio método de geração de números aleatórios:"
   ]
  },
  {
   "cell_type": "code",
   "execution_count": 36,
   "metadata": {},
   "outputs": [
    {
     "data": {
      "text/plain": [
       "3"
      ]
     },
     "execution_count": 36,
     "metadata": {},
     "output_type": "execute_result"
    }
   ],
   "source": [
    "numero = np.random.randint(0, 10)\n",
    "numero"
   ]
  },
  {
   "cell_type": "markdown",
   "metadata": {},
   "source": [
    "### random.normal\n",
    "Essa é uma função especial do **Numpy** onde dado a quantidade de elementos, ela irá criar elementos de uma distribuição normal(**Gaussiana**):"
   ]
  },
  {
   "cell_type": "code",
   "execution_count": 37,
   "metadata": {},
   "outputs": [
    {
     "data": {
      "text/plain": [
       "array([ 0.3935261 , -1.026636  , -0.45427763,  0.79632935, -0.19108923,\n",
       "        0.78525403, -2.87409676,  0.68735066,  0.54604223, -1.29613813])"
      ]
     },
     "execution_count": 37,
     "metadata": {},
     "output_type": "execute_result"
    }
   ],
   "source": [
    "np.random.normal(loc=0, scale=1, size=10)"
   ]
  },
  {
   "cell_type": "markdown",
   "metadata": {},
   "source": [
    "## Tipos de dados em arrays\n",
    "\n",
    "O tipo de dado, ou dtype, é uma informação de metadados, ou seja, são dados sobre os dados. Ele nos informa qual é o tipo de dado armazenado em memória."
   ]
  },
  {
   "cell_type": "code",
   "execution_count": 42,
   "metadata": {},
   "outputs": [
    {
     "data": {
      "text/plain": [
       "array([100, 200, 300], dtype=int32)"
      ]
     },
     "execution_count": 42,
     "metadata": {},
     "output_type": "execute_result"
    }
   ],
   "source": [
    "# Criando um array e passando como dtype o tipo int\n",
    "\n",
    "array_int = np.array([100, 200, 300], dtype=np.int32)\n",
    "\n",
    "array_int"
   ]
  },
  {
   "cell_type": "code",
   "execution_count": 41,
   "metadata": {},
   "outputs": [
    {
     "data": {
      "text/plain": [
       "array([1., 2., 3.])"
      ]
     },
     "execution_count": 41,
     "metadata": {},
     "output_type": "execute_result"
    }
   ],
   "source": [
    "# Criando um array e passando como dtype o tipo float\n",
    "\n",
    "array_float = np.array([1, 2, 3], dtype=np.float64)\n",
    "array_float"
   ]
  },
  {
   "cell_type": "code",
   "execution_count": null,
   "metadata": {},
   "outputs": [],
   "source": []
  },
  {
   "cell_type": "markdown",
   "metadata": {},
   "source": [
    "### Curiosidade - Algebra Linear com Numpy"
   ]
  },
  {
   "cell_type": "code",
   "execution_count": null,
   "metadata": {},
   "outputs": [],
   "source": [
    "#np.linalg.\n",
    "# Produto interno, Produto escalar"
   ]
  },
  {
   "cell_type": "code",
   "execution_count": 42,
   "metadata": {},
   "outputs": [
    {
     "data": {
      "text/plain": [
       "array([[1, 2, 3],\n",
       "       [4, 5, 6]])"
      ]
     },
     "execution_count": 42,
     "metadata": {},
     "output_type": "execute_result"
    }
   ],
   "source": [
    "# Matriz 2D\n",
    "matriz = np.array([[1, 2, 3],[4, 5, 6]])\n",
    "\n",
    "matriz"
   ]
  },
  {
   "cell_type": "code",
   "execution_count": 20,
   "metadata": {},
   "outputs": [
    {
     "data": {
      "text/plain": [
       "array([[1, 2, 3],\n",
       "       [4, 5, 6],\n",
       "       [7, 8, 9]])"
      ]
     },
     "execution_count": 20,
     "metadata": {},
     "output_type": "execute_result"
    }
   ],
   "source": [
    "# Matriz 3 x 3\n",
    "\n",
    "lista = [[1, 2, 3],[4, 5, 6],[7, 8, 9]]\n",
    "matriz_3d = np.array(lista)\n",
    "matriz_3d"
   ]
  },
  {
   "cell_type": "code",
   "execution_count": 43,
   "metadata": {},
   "outputs": [
    {
     "name": "stdout",
     "output_type": "stream",
     "text": [
      "Dimensão da matriz: 2\n",
      "Shape da Matriz: (2, 3)\n",
      "Número de elementos da Matriz: 6\n",
      "Tipo dos elementos da Matriz: int64\n",
      "Tamanho em Bytes de cada elemento da Matriz: 8\n",
      "Local da menmória onde está alocado essa matriz: <memory at 0x7ffbb06b0ba0>\n"
     ]
    }
   ],
   "source": [
    "# Informações da Matriz criada\n",
    "print(f\"Dimensão da matriz: {matriz.ndim}\")\n",
    "print(f\"Shape da Matriz: {matriz.shape}\")\n",
    "print(f\"Número de elementos da Matriz: {matriz.size}\")\n",
    "print(f\"Tipo dos elementos da Matriz: {matriz.dtype}\")\n",
    "print(f\"Tamanho em Bytes de cada elemento da Matriz: {matriz.itemsize}\")\n",
    "print(f\"Local da menmória onde está alocado essa matriz: {matriz.data}\")"
   ]
  },
  {
   "cell_type": "code",
   "execution_count": 39,
   "metadata": {},
   "outputs": [
    {
     "name": "stdout",
     "output_type": "stream",
     "text": [
      "Matriz1 : [ 6  7  8  9 10]\n",
      "Matriz2 : [1 2 3 4 5]\n",
      "\n",
      "matriz1 + matriz2: [ 7  9 11 13 15]\n",
      "matriz1 - matriz2: [5 5 5 5 5]\n",
      "matriz1 * matriz2: [ 6 14 24 36 50]\n",
      "matriz1 / matriz2: [6.         3.5        2.66666667 2.25       2.        ]\n"
     ]
    }
   ],
   "source": [
    "# Matriz 1D com 5 elementos\n",
    "matriz1 = np.arange(6, 11)\n",
    "# Matriz 1D com 5 elementos\n",
    "matriz2 = np.array([1, 2, 3, 4, 5])\n",
    "# Soma entre os elementos das matrizes: matriz1 + Matriz2\n",
    "matriz3 = matriz1 + matriz2\n",
    "# Subtração entre os elementos das matrizes: matriz1 + Matriz2\n",
    "matriz4 = matriz1 - matriz2\n",
    "# Multiplicação entre os elementos das matrizes: matriz1 + Matriz2\n",
    "matriz5 = matriz1 * matriz2\n",
    "# Divisão entre os elementos das matrizes: matriz1 + Matriz2\n",
    "matriz6 = matriz1 / matriz2\n",
    "print(f\"Matriz1 : {matriz1}\")\n",
    "print(f\"Matriz2 : {matriz2}\")\n",
    "print()\n",
    "print(f\"matriz1 + matriz2: {matriz3}\")\n",
    "print(f\"matriz1 - matriz2: {matriz4}\")\n",
    "print(f\"matriz1 * matriz2: {matriz5}\")\n",
    "print(f\"matriz1 / matriz2: {matriz6}\")"
   ]
  },
  {
   "cell_type": "code",
   "execution_count": 44,
   "metadata": {},
   "outputs": [
    {
     "data": {
      "text/plain": [
       "array([[1, 2, 3],\n",
       "       [4, 5, 6],\n",
       "       [7, 8, 9]])"
      ]
     },
     "execution_count": 44,
     "metadata": {},
     "output_type": "execute_result"
    }
   ],
   "source": [
    "# Outros exemplos\n",
    "\n",
    "lista_listas = [\n",
    "    [1, 2, 3],\n",
    "    [4, 5, 6],\n",
    "    [7, 8, 9]\n",
    "]\n",
    "\n",
    "matriz_listas = np.array(lista_listas)\n",
    "matriz_listas"
   ]
  },
  {
   "cell_type": "code",
   "execution_count": 45,
   "metadata": {},
   "outputs": [
    {
     "data": {
      "text/plain": [
       "array([[0., 0., 0.],\n",
       "       [0., 0., 0.],\n",
       "       [0., 0., 0.]])"
      ]
     },
     "execution_count": 45,
     "metadata": {},
     "output_type": "execute_result"
    }
   ],
   "source": [
    "# Criando uma matriz de zeros\n",
    "\n",
    "matriz_zeros = np.zeros((3,3))\n",
    "matriz_zeros"
   ]
  },
  {
   "cell_type": "code",
   "execution_count": 47,
   "metadata": {},
   "outputs": [
    {
     "data": {
      "text/plain": [
       "array([[1., 1., 1., 1., 1., 1., 1., 1.],\n",
       "       [1., 1., 1., 1., 1., 1., 1., 1.],\n",
       "       [1., 1., 1., 1., 1., 1., 1., 1.]])"
      ]
     },
     "execution_count": 47,
     "metadata": {},
     "output_type": "execute_result"
    }
   ],
   "source": [
    "# Criando uma matriz de ums\n",
    "\n",
    "matriz_ones = np.ones((3,8))\n",
    "matriz_ones"
   ]
  },
  {
   "cell_type": "code",
   "execution_count": 53,
   "metadata": {},
   "outputs": [
    {
     "name": "stdout",
     "output_type": "stream",
     "text": [
      "(3, 3)\n",
      "8\n"
     ]
    }
   ],
   "source": [
    "# Shape\n",
    "\n",
    "print(matriz_zeros.shape)\n",
    "print(matriz_ones.itemsize)"
   ]
  },
  {
   "cell_type": "markdown",
   "metadata": {},
   "source": [
    "## Métodos Numpy\n",
    "Métodos úteis para serem aplicados em arrays, muitos desses métodos são herdados pelo **Pandas**.\n"
   ]
  },
  {
   "cell_type": "markdown",
   "metadata": {},
   "source": [
    "#### Reshape\n",
    "Permite reformatar o array modificando o número de linhas e colunas, porém, a nova 'shape' tem que possuir o mesmo número de elementos do array original: "
   ]
  },
  {
   "cell_type": "code",
   "execution_count": 40,
   "metadata": {},
   "outputs": [
    {
     "name": "stdout",
     "output_type": "stream",
     "text": [
      "[1 2 3 4 5 6 7 8 9]\n"
     ]
    },
    {
     "data": {
      "text/plain": [
       "array([[1, 2, 3],\n",
       "       [4, 5, 6],\n",
       "       [7, 8, 9]])"
      ]
     },
     "execution_count": 40,
     "metadata": {},
     "output_type": "execute_result"
    }
   ],
   "source": [
    "# Criando um array de 9 elementos\n",
    "arr1 = np.arange(1,10)\n",
    "print(arr1)\n",
    "\n",
    "# transformando ele em uma matriz - reshape\n",
    "# tem que respeitar a quantidade\n",
    "matriz_arr = arr1.reshape((3,3)) # tem que passar o formato\n",
    "\n",
    "matriz_arr"
   ]
  },
  {
   "cell_type": "code",
   "execution_count": 42,
   "metadata": {},
   "outputs": [
    {
     "name": "stdout",
     "output_type": "stream",
     "text": [
      "[ 1  2  3  4  5  6  7  8  9 10 11 12]\n"
     ]
    },
    {
     "data": {
      "text/plain": [
       "array([[ 1,  2,  3,  4],\n",
       "       [ 5,  6,  7,  8],\n",
       "       [ 9, 10, 11, 12]])"
      ]
     },
     "execution_count": 42,
     "metadata": {},
     "output_type": "execute_result"
    }
   ],
   "source": [
    "arr1 = np.arange(1,13)\n",
    "print(arr1)\n",
    "\n",
    "# transformando ele em uma matriz - reshape\n",
    "# tem que respeitar a quantidade\n",
    "matriz_arr = arr1.reshape((3,4)) # tem que passar o formato\n",
    "\n",
    "matriz_arr"
   ]
  },
  {
   "cell_type": "markdown",
   "metadata": {},
   "source": [
    "#### Flatten\n",
    "\n",
    "É uilizado para transformar um array multidimensional em um array unidimensional. Retorna uma cópia do array original em uma única dimensão.\n",
    "\n",
    "Ele pode receber um parâmetro 'order' (opcional) que especifica a ordem dos elementos no array achatado:\n",
    "\n",
    "* \"C\": Achata em ordem row-major(estilo C).\n",
    "\n",
    "* \"F\": Achata em ordem column-major (estilo Fortran).\n",
    "\n",
    "* \"A\": Achata em ordem column-major se o array for contíguo em memória no estilo Fortran, ou row-major caso contrário.\n",
    "\n",
    "* \"K\": Achata na ordem em que os elementos estão dispostos na memória."
   ]
  },
  {
   "cell_type": "code",
   "execution_count": 48,
   "metadata": {},
   "outputs": [
    {
     "name": "stdout",
     "output_type": "stream",
     "text": [
      "Formato Original\n",
      "[[9 5 3]\n",
      " [1 8 4]]\n",
      "\n",
      "Default:  [9 5 3 1 8 4]\n",
      "C:  [9 5 3 1 8 4]\n",
      "F:  [9 1 5 8 3 4]\n",
      "A:  [9 5 3 1 8 4]\n",
      "K:  [9 5 3 1 8 4]\n"
     ]
    }
   ],
   "source": [
    "lista= [[9,5,3],[1,8,4]]\n",
    "arr2D = np.array(lista)\n",
    "print(f\"Formato Original\\n{arr2D}\\n\")\n",
    "\n",
    "arr_flatten_default = arr2D.flatten()\n",
    "arr_flatten_c = arr2D.flatten(\"C\")\n",
    "arr_flatten_f = arr2D.flatten(\"F\")\n",
    "arr_flatten_a = arr2D.flatten(\"A\")\n",
    "arr_flatten_k = arr2D.flatten(\"K\")\n",
    "\n",
    "print(\"Default: \",arr_flatten_default)\n",
    "print(\"C: \", arr_flatten_c)\n",
    "print(\"F: \",arr_flatten_f)\n",
    "print(\"A: \",arr_flatten_a)\n",
    "print(\"K: \",arr_flatten_k)\n"
   ]
  },
  {
   "cell_type": "code",
   "execution_count": 66,
   "metadata": {},
   "outputs": [
    {
     "name": "stdout",
     "output_type": "stream",
     "text": [
      "Original\n",
      " [[1 2 3]\n",
      " [4 5 6]\n",
      " [7 8 9]]\n",
      "Achatado:\n",
      "  [1 2 3 4 5 6 7 8 9]\n"
     ]
    },
    {
     "data": {
      "text/plain": [
       "array([5, 2, 3, 4, 5, 6, 7, 8, 9])"
      ]
     },
     "execution_count": 66,
     "metadata": {},
     "output_type": "execute_result"
    }
   ],
   "source": [
    "lista = [[1,2,3],[4,5,6],[7,8,9]]\n",
    "arr3D = np.array(lista)\n",
    "arr3D\n",
    "\n",
    "arr_flatten = arr3D.flatten()\n",
    "print(\"Original\\n\", arr3D)\n",
    "print(\"Achatado:\\n \", arr_flatten)\n"
   ]
  },
  {
   "cell_type": "markdown",
   "metadata": {},
   "source": [
    "#### Diferença entre **flatten** e **ravel**\n",
    "* **flatten**: Retorna uma cópia do array achatado. Modificações no array resultante não afetam o array original.\n",
    "\n",
    "* **ravel**: Retorna uma vista do array original sempre que possível. Modificações no array resultante podem afetar o array original."
   ]
  },
  {
   "cell_type": "markdown",
   "metadata": {},
   "source": [
    "#### Ravel\n",
    "Concatena as linhas da matriz em um array unidimensional:\n"
   ]
  },
  {
   "cell_type": "code",
   "execution_count": 64,
   "metadata": {},
   "outputs": [
    {
     "data": {
      "text/plain": [
       "array([50,  2,  3,  4,  5,  6,  7,  8,  9])"
      ]
     },
     "execution_count": 64,
     "metadata": {},
     "output_type": "execute_result"
    }
   ],
   "source": [
    "lista = [[1,2,3],[4,5,6],[7,8,9]]\n",
    "arr3D = np.array(lista)\n",
    "\n",
    "a = arr3D.ravel()\n"
   ]
  },
  {
   "cell_type": "code",
   "execution_count": 67,
   "metadata": {},
   "outputs": [
    {
     "name": "stdout",
     "output_type": "stream",
     "text": [
      "[1 2 3 4]\n",
      "[1 3 2 4]\n"
     ]
    }
   ],
   "source": [
    "# Exemplo da internet\n",
    "\n",
    "# Criar um array 2D\n",
    "a = np.array([[1, 2], [3, 4]])\n",
    "\n",
    "# Achatar o array em ordem maior da linha (padrão)\n",
    "b = a.flatten()\n",
    "print(b)  # Saída: [1 2 3 4]\n",
    "\n",
    "# Achatar o array em ordem maior da coluna\n",
    "c = a.flatten(order='F')\n",
    "print(c)  # Saída: [1 3 2 4]"
   ]
  },
  {
   "cell_type": "code",
   "execution_count": 73,
   "metadata": {},
   "outputs": [
    {
     "name": "stdout",
     "output_type": "stream",
     "text": [
      "[1000    2    3    4]\n",
      "[[  1   2]\n",
      " [  3 555]]\n",
      "[  1   2   3 555]\n",
      "\n",
      "[[  1   2]\n",
      " [  3 555]]\n"
     ]
    }
   ],
   "source": [
    "# Entendendo as diferenças\n",
    "\n",
    "# Vou atribuir um valor ao array b\n",
    "b[0] = 1000\n",
    "\n",
    "print(b)\n",
    "print(a) # array a não foi alterado\n",
    "\n",
    "#======================================\n",
    "# Agora com ravel\n",
    "c = a.ravel()\n",
    "c[-1] = 555\n",
    "print(c)\n",
    "print()\n",
    "print(a) # c foi alterado\n"
   ]
  },
  {
   "cell_type": "markdown",
   "metadata": {},
   "source": [
    "#### **Transpose**\n",
    "\n",
    "Transpõe um array (inverte linhas e colunas)"
   ]
  },
  {
   "cell_type": "code",
   "execution_count": 77,
   "metadata": {},
   "outputs": [
    {
     "data": {
      "text/plain": [
       "array([[1, 4, 7],\n",
       "       [2, 5, 8],\n",
       "       [3, 6, 9]])"
      ]
     },
     "execution_count": 77,
     "metadata": {},
     "output_type": "execute_result"
    }
   ],
   "source": [
    "# Criando o array\n",
    "arr = np.array([1,2,3,4,5,6,7,8,9])\n",
    "\n",
    "# alterando sua forma\n",
    "matriz = arr.reshape((3,3))\n",
    "\n",
    "# invertendo linhas e colunas\n",
    "transposta = matriz.transpose()\n",
    "transposta"
   ]
  },
  {
   "cell_type": "markdown",
   "metadata": {},
   "source": [
    "## **Métodos Matemáticos**"
   ]
  },
  {
   "cell_type": "markdown",
   "metadata": {},
   "source": [
    "#### **SUM**\n",
    "\n",
    "Calcula a soma dos elementos do array"
   ]
  },
  {
   "cell_type": "code",
   "execution_count": 79,
   "metadata": {},
   "outputs": [
    {
     "name": "stdout",
     "output_type": "stream",
     "text": [
      "45\n"
     ]
    }
   ],
   "source": [
    "soma = transposta.sum()\n",
    "print(soma)"
   ]
  },
  {
   "cell_type": "code",
   "execution_count": 38,
   "metadata": {},
   "outputs": [
    {
     "name": "stdout",
     "output_type": "stream",
     "text": [
      "[[ 2 10 13  8 14]\n",
      " [ 3 13 14  8  1]\n",
      " [ 7  6 19 17 19]\n",
      " [ 2 12 17  9 19]\n",
      " [19  4 10  1 13]]\n",
      "====== SOMA ======\n",
      "260\n"
     ]
    }
   ],
   "source": [
    "matriz = np.random.randint(1, 20, size=25).reshape((5, 5))\n",
    "print(matriz)\n",
    "soma = matriz.sum()\n",
    "print(\"====== SOMA ======\")\n",
    "print(soma)\n"
   ]
  },
  {
   "cell_type": "markdown",
   "metadata": {},
   "source": [
    "#### **Mean**\n",
    "\n",
    "Calcula a média dos elementos do array."
   ]
  },
  {
   "cell_type": "code",
   "execution_count": 80,
   "metadata": {},
   "outputs": [
    {
     "name": "stdout",
     "output_type": "stream",
     "text": [
      "5.0\n"
     ]
    }
   ],
   "source": [
    "media = transposta.mean()\n",
    "print(media)"
   ]
  },
  {
   "cell_type": "code",
   "execution_count": 45,
   "metadata": {},
   "outputs": [
    {
     "name": "stdout",
     "output_type": "stream",
     "text": [
      "[[92 23]\n",
      " [60 53]\n",
      " [ 3  8]\n",
      " [42 11]\n",
      " [18 95]]\n",
      "====== Media ======\n",
      "40.5\n"
     ]
    }
   ],
   "source": [
    "matriz = np.random.randint(1, 100, size= 10).reshape((5,2))\n",
    "print(matriz)\n",
    "print(\"====== Media ======\")\n",
    "media = matriz.mean()\n",
    "print(media)"
   ]
  },
  {
   "cell_type": "markdown",
   "metadata": {},
   "source": [
    "#### **Std**\n",
    "Calcula o desvio padrão dos elementos do array."
   ]
  },
  {
   "cell_type": "code",
   "execution_count": 81,
   "metadata": {},
   "outputs": [
    {
     "name": "stdout",
     "output_type": "stream",
     "text": [
      "2.581988897471611\n"
     ]
    }
   ],
   "source": [
    "desvio = transposta.std()\n",
    "print(desvio)"
   ]
  },
  {
   "cell_type": "code",
   "execution_count": 63,
   "metadata": {},
   "outputs": [
    {
     "name": "stdout",
     "output_type": "stream",
     "text": [
      "[[43 46 72 87 90 43  2 27  5 18]\n",
      " [58 43 38 51 29 40 31  4 86 76]\n",
      " [79  1 49 56 20 46 12 93 22 71]\n",
      " [93 42 20 46 58 82  3 78 31 26]\n",
      " [47 79 10 10  4 55 89 78 88 46]]\n",
      "====== DESVIO PADRÃO ======\n",
      "28.49\n"
     ]
    }
   ],
   "source": [
    "matriz_aleatoria = np.random.randint(1, 100, size=50).reshape((5, 10))\n",
    "\n",
    "print(matriz_aleatoria)\n",
    "\n",
    "print(\"====== DESVIO PADRÃO ======\")\n",
    "\n",
    "dp = matriz_aleatoria.std().round(2)\n",
    "print(dp)"
   ]
  },
  {
   "cell_type": "markdown",
   "metadata": {},
   "source": [
    "#### **Max**\n",
    "Retorna o elemento de maior valor de um array:"
   ]
  },
  {
   "cell_type": "code",
   "execution_count": 64,
   "metadata": {},
   "outputs": [
    {
     "name": "stdout",
     "output_type": "stream",
     "text": [
      "[[43 46 72 87 90 43  2 27  5 18]\n",
      " [58 43 38 51 29 40 31  4 86 76]\n",
      " [79  1 49 56 20 46 12 93 22 71]\n",
      " [93 42 20 46 58 82  3 78 31 26]\n",
      " [47 79 10 10  4 55 89 78 88 46]]\n",
      "Maior item\n",
      "93\n"
     ]
    }
   ],
   "source": [
    "print(matriz_aleatoria)\n",
    "print(\"Maior item\")\n",
    "print(matriz_aleatoria.max())\n"
   ]
  },
  {
   "cell_type": "markdown",
   "metadata": {},
   "source": [
    "#### **ArgMax**\n",
    "Retorna o índice do elemento de maior valor do array:"
   ]
  },
  {
   "cell_type": "code",
   "execution_count": 66,
   "metadata": {},
   "outputs": [
    {
     "name": "stdout",
     "output_type": "stream",
     "text": [
      "[[43 46 72 87 90 43  2 27  5 18]\n",
      " [58 43 38 51 29 40 31  4 86 76]\n",
      " [79  1 49 56 20 46 12 93 22 71]\n",
      " [93 42 20 46 58 82  3 78 31 26]\n",
      " [47 79 10 10  4 55 89 78 88 46]]\n",
      "Índice do maior item\n",
      "27\n"
     ]
    }
   ],
   "source": [
    "print(matriz_aleatoria)\n",
    "print(\"Índice do maior item\")\n",
    "print(matriz_aleatoria.argmax())"
   ]
  },
  {
   "cell_type": "markdown",
   "metadata": {},
   "source": [
    "#### **Min**\n",
    "Retorna o elemento de menor valor do array:"
   ]
  },
  {
   "cell_type": "code",
   "execution_count": 67,
   "metadata": {},
   "outputs": [
    {
     "name": "stdout",
     "output_type": "stream",
     "text": [
      "[[43 46 72 87 90 43  2 27  5 18]\n",
      " [58 43 38 51 29 40 31  4 86 76]\n",
      " [79  1 49 56 20 46 12 93 22 71]\n",
      " [93 42 20 46 58 82  3 78 31 26]\n",
      " [47 79 10 10  4 55 89 78 88 46]]\n",
      "Elemento de menor valor\n",
      "1\n"
     ]
    }
   ],
   "source": [
    "print(matriz_aleatoria)\n",
    "print(\"Elemento de menor valor\")\n",
    "print(matriz_aleatoria.min())"
   ]
  },
  {
   "cell_type": "markdown",
   "metadata": {},
   "source": [
    "#### **ArgMin**\n",
    "Retorna o índice do elemento de menor valor do array"
   ]
  },
  {
   "cell_type": "code",
   "execution_count": 68,
   "metadata": {},
   "outputs": [
    {
     "name": "stdout",
     "output_type": "stream",
     "text": [
      "[[43 46 72 87 90 43  2 27  5 18]\n",
      " [58 43 38 51 29 40 31  4 86 76]\n",
      " [79  1 49 56 20 46 12 93 22 71]\n",
      " [93 42 20 46 58 82  3 78 31 26]\n",
      " [47 79 10 10  4 55 89 78 88 46]]\n",
      "Elemento de menor valor\n",
      "21\n"
     ]
    }
   ],
   "source": [
    "print(matriz_aleatoria)\n",
    "print(\"Elemento de menor valor\")\n",
    "print(matriz_aleatoria.argmin())"
   ]
  },
  {
   "cell_type": "markdown",
   "metadata": {},
   "source": [
    "#### **Sort**\n",
    "\n",
    "A função sort é usada para ordenar arrays em Numpy.\n",
    "\n",
    "##### Sintaxe\n",
    "```\n",
    "np.sort(array, axis=-1, kind=None, order=None)\n",
    "```\n",
    "\n",
    "Onde:\n",
    "* **array**: o array que eu vou ordenar\n",
    "\n",
    "* **axis**: O eixo ao longo do qual ordenar. **Padrão -1**, que ordena ao longo do último eixo. Caso **None**, o array é achatatdo antes de ordenar.\n",
    "\n",
    "* **kind**: Algoritmo de ordenação a ser utilizado. Podendo ser:\n",
    "    * 'quicksort' (padrão)\n",
    "    * 'mergesort'\n",
    "    * 'heapsort'\n",
    "    * 'stable'\n",
    "\n",
    "* **order**: Quando **array** é um array com campos definidos, este argumento especifica quais campos comparar primeiro, segundo."
   ]
  },
  {
   "cell_type": "code",
   "execution_count": 27,
   "metadata": {},
   "outputs": [
    {
     "name": "stdout",
     "output_type": "stream",
     "text": [
      "[[3 2 1]\n",
      " [6 5 4]]\n"
     ]
    },
    {
     "data": {
      "text/plain": [
       "array([[1, 2, 3],\n",
       "       [4, 5, 6]])"
      ]
     },
     "execution_count": 27,
     "metadata": {},
     "output_type": "execute_result"
    }
   ],
   "source": [
    "array = np.array([[3, 2, 1], [6, 5, 4]])\n",
    "print(array)\n",
    "ordenado = np.sort(array)\n",
    "ordenado"
   ]
  },
  {
   "cell_type": "code",
   "execution_count": 28,
   "metadata": {},
   "outputs": [
    {
     "data": {
      "text/plain": [
       "array([[3, 2, 1],\n",
       "       [6, 5, 4]])"
      ]
     },
     "execution_count": 28,
     "metadata": {},
     "output_type": "execute_result"
    }
   ],
   "source": [
    "ordenado_eixo_0 = np.sort(array, axis=0)\n",
    "ordenado_eixo_0"
   ]
  },
  {
   "cell_type": "markdown",
   "metadata": {},
   "source": [
    "#### **ArgSort**\n",
    "A função __numpy.argsort__ é usada para obter os índices que ordenariam um array. Em outras palavras, ela retorna um array de índices que, se usados para indexar o array original, resultariam em um array ordenado."
   ]
  },
  {
   "cell_type": "code",
   "execution_count": 69,
   "metadata": {},
   "outputs": [
    {
     "name": "stdout",
     "output_type": "stream",
     "text": [
      "[[43 46 72 87 90 43  2 27  5 18]\n",
      " [58 43 38 51 29 40 31  4 86 76]\n",
      " [79  1 49 56 20 46 12 93 22 71]\n",
      " [93 42 20 46 58 82  3 78 31 26]\n",
      " [47 79 10 10  4 55 89 78 88 46]]\n",
      "Ordem de valores\n",
      "[[6 8 9 7 0 5 1 2 3 4]\n",
      " [7 4 6 2 5 1 3 0 9 8]\n",
      " [1 6 4 8 5 2 3 9 0 7]\n",
      " [6 2 9 8 1 3 4 7 5 0]\n",
      " [4 3 2 9 0 5 7 1 8 6]]\n"
     ]
    }
   ],
   "source": [
    "print(matriz_aleatoria)\n",
    "print(\"Ordem de valores\")\n",
    "print(matriz_aleatoria.argsort())"
   ]
  },
  {
   "cell_type": "code",
   "execution_count": 70,
   "metadata": {},
   "outputs": [
    {
     "name": "stdout",
     "output_type": "stream",
     "text": [
      "[1 2 0]\n"
     ]
    }
   ],
   "source": [
    "# Array original\n",
    "x = np.array([3, 1, 2])\n",
    "\n",
    "# Obter os índices que ordenariam o array\n",
    "indices_ordenados = np.argsort(x)\n",
    "\n",
    "print(indices_ordenados)"
   ]
  },
  {
   "cell_type": "markdown",
   "metadata": {},
   "source": [
    "Neste exemplo, np.argsort(x) retorna [1, 2, 0], que são os índices que, se usados para indexar x, resultariam em um array ordenado: [x[1], x[2], x[0]] ou [1, 2, 3]."
   ]
  },
  {
   "cell_type": "markdown",
   "metadata": {},
   "source": [
    "#### Aplicações em Arrays Multidimensionais\n",
    "Você também pode usar argsort em arrays multidimensionais, especificando o eixo ao longo do qual deseja ordenar:"
   ]
  },
  {
   "cell_type": "code",
   "execution_count": 71,
   "metadata": {},
   "outputs": [
    {
     "name": "stdout",
     "output_type": "stream",
     "text": [
      "[[0 1]\n",
      " [1 0]]\n"
     ]
    }
   ],
   "source": [
    "x = np.array([[0, 3], [2, 2]])\n",
    "\n",
    "# Obter os índices que ordenariam o array ao longo do eixo 0 (linhas)\n",
    "indices_ordenados = np.argsort(x, axis=0)\n",
    "\n",
    "print(indices_ordenados)"
   ]
  },
  {
   "cell_type": "markdown",
   "metadata": {},
   "source": [
    "Neste caso, np.argsort(x, axis=0) retorna os índices que ordenariam o array ao longo das linhas.\n",
    "\n",
    "-> Parâmetros Principais\n",
    "\n",
    "**a**: Array a ser ordenado.\n",
    "**axis**: Eixo ao longo do qual ordenar. O padrão é -1 (último eixo).\n",
    "\n",
    "**kind**: Algoritmo de ordenação a ser usado ('quicksort', 'mergesort', 'heapsort', 'stable').\n",
    "\n",
    "**order**: Quando a é um array com campos definidos, este argumento especifica quais campos comparar primeiro, segundo, etc."
   ]
  },
  {
   "cell_type": "code",
   "execution_count": 72,
   "metadata": {},
   "outputs": [
    {
     "name": "stdout",
     "output_type": "stream",
     "text": [
      "[[0 3]\n",
      " [2 2]]\n"
     ]
    }
   ],
   "source": [
    "# Array 2D\n",
    "x = np.array([[0, 3], [2, 2]])\n",
    "\n",
    "# Obter os índices que ordenariam o array ao longo do eixo 1 (colunas)\n",
    "indices_ordenados = np.argsort(x, axis=1)\n",
    "\n",
    "# Usar os índices para obter o array ordenado\n",
    "array_ordenado = np.take_along_axis(x, indices_ordenados, axis=1)\n",
    "\n",
    "print(array_ordenado)"
   ]
  },
  {
   "cell_type": "markdown",
   "metadata": {},
   "source": [
    "#### **Astype**\n",
    "A função numpy.astype é usada para converter um array NumPy de um tipo de dado para outro. Isso é especialmente útil em pré-processamento de dados, onde garantir a consistência dos tipos de dados é crucial.\n",
    "\n",
    "##### SINTAXE\n",
    "```\n",
    "array.astype(dtype, order='K', casting='unsafe', subok=True, copy=True)\n",
    "```\n",
    " **Parâmetros**\n",
    "\n",
    "**dtype**: O tipo de dado para o qual você deseja converter o array. Pode ser um tipo NumPy, como np.int32, np.float64, etc.\n",
    "\n",
    "**order**: Controla a disposição da memória do array resultante. Pode ser 'C' (ordem C), 'F' (ordem Fortran), 'A' (ordem Fortran se todos os arrays forem contíguos em Fortran, caso contrário, ordem C) ou 'K' (o mais próximo possível da ordem dos elementos na memória).\n",
    "\n",
    "**casting**: Controla o tipo de conversão de dados que pode ocorrer. Pode ser 'no', 'equiv', 'safe', 'same_kind' ou 'unsafe'.\n",
    "\n",
    "**subok**: Se True, sub-classes serão passadas adiante; caso contrário, o array retornado será forçado a ser um array da classe base.\n",
    "\n",
    "**copy**: Se True, sempre retorna um novo array. Se False e o dtype, order e subok forem satisfeitos, o array de entrada é retornado em vez de uma cópia.\n"
   ]
  },
  {
   "cell_type": "code",
   "execution_count": 73,
   "metadata": {},
   "outputs": [
    {
     "name": "stdout",
     "output_type": "stream",
     "text": [
      "[1 2 3]\n"
     ]
    }
   ],
   "source": [
    "# Array original\n",
    "x = np.array([1.2, 2.5, 3.8])\n",
    "\n",
    "# Converter para inteiros\n",
    "x_int = x.astype(int)\n",
    "\n",
    "print(x_int)"
   ]
  },
  {
   "cell_type": "code",
   "execution_count": 74,
   "metadata": {},
   "outputs": [
    {
     "name": "stdout",
     "output_type": "stream",
     "text": [
      "[[1 2]\n",
      " [3 4]]\n"
     ]
    }
   ],
   "source": [
    "x = np.array([[1.5, 2.3], [3.1, 4.8]])\n",
    "\n",
    "# Converter para inteiros\n",
    "x_int = x.astype(np.int32)\n",
    "\n",
    "print(x_int)"
   ]
  },
  {
   "cell_type": "markdown",
   "metadata": {},
   "source": [
    "#### **Dot**\n",
    "\n",
    "Calcula o produto escalar de dois arrays.\n",
    "\n",
    "Dependendo das dimensões dos arrays, o comportamento da função pode variar:\n",
    "\n",
    "**Vetores 1D**: Se ambos os arrays forem vetores 1D, numpy.dot calcula o produto interno dos vetores.\n",
    "\n",
    "**Matrizes 2D**: Se ambos os arrays forem matrizes 2D, numpy.dot realiza a multiplicação de matrizes.\n",
    "\n",
    "**Escalares**: Se um dos arrays for um escalar (0D), numpy.dot realiza a multiplicação escalar.\n",
    "\n",
    "**Arrays N-Dimensionais**: Para arrays N-dimensionais, numpy.dot realiza um produto soma sobre o último eixo do primeiro array e o penúltimo eixo do segundo array.\n"
   ]
  },
  {
   "cell_type": "code",
   "execution_count": 84,
   "metadata": {},
   "outputs": [
    {
     "name": "stdout",
     "output_type": "stream",
     "text": [
      "32\n"
     ]
    }
   ],
   "source": [
    "# vetores 1D\n",
    "a = np.array([1, 2, 3])\n",
    "b = np.array([4, 5, 6])\n",
    "resultado = np.dot(a, b)\n",
    "print(resultado)"
   ]
  },
  {
   "cell_type": "code",
   "execution_count": 87,
   "metadata": {},
   "outputs": [
    {
     "name": "stdout",
     "output_type": "stream",
     "text": [
      "[[19 22]\n",
      " [43 50]]\n"
     ]
    },
    {
     "data": {
      "text/plain": [
       "(array([[1, 2],\n",
       "        [3, 4]]),\n",
       " array([[5, 6],\n",
       "        [7, 8]]))"
      ]
     },
     "execution_count": 87,
     "metadata": {},
     "output_type": "execute_result"
    }
   ],
   "source": [
    "# vetores 2D - Multiplicação de matrizes\n",
    "\n",
    "a = np.array([[1, 2], [3, 4]])\n",
    "b = np.array([[5, 6], [7, 8]])\n",
    "resultado = np.dot(a, b)\n",
    "print(resultado)\n",
    "a, b"
   ]
  },
  {
   "cell_type": "code",
   "execution_count": 88,
   "metadata": {},
   "outputs": [
    {
     "name": "stdout",
     "output_type": "stream",
     "text": [
      "[3 6 9]\n"
     ]
    }
   ],
   "source": [
    "# Multiplicação Escalar\n",
    "\n",
    "a = 3\n",
    "b = np.array([1, 2, 3])\n",
    "resultado = np.dot(a, b)\n",
    "print(resultado)  # Saída: [3 6 9]"
   ]
  },
  {
   "cell_type": "markdown",
   "metadata": {},
   "source": [
    "### **Métodos de Indexação e Fatiamento**"
   ]
  },
  {
   "cell_type": "markdown",
   "metadata": {},
   "source": [
    "#### **Slice**\n",
    "Permite acessar subarrays\n",
    "\n",
    "\n"
   ]
  },
  {
   "cell_type": "code",
   "execution_count": 102,
   "metadata": {},
   "outputs": [
    {
     "name": "stdout",
     "output_type": "stream",
     "text": [
      "[[1 4 7]\n",
      " [2 5 8]\n",
      " [3 6 9]]\n",
      "7\n"
     ]
    }
   ],
   "source": [
    "transposta\n",
    "resultado = transposta[0][2]\n",
    "print(transposta)\n",
    "print(resultado)"
   ]
  },
  {
   "cell_type": "markdown",
   "metadata": {},
   "source": [
    "#### **Where**\n",
    "Retorna o índice dos elementos que satisfazem uma condição.\n",
    "\n",
    "SINTAXE:\n",
    "```\n",
    "numpy.where(condition, [x, y])\n",
    "```\n",
    "\n",
    "* **Condition**: Um array de booleanos ou uma expressão que resulta em um array de booleanos.\n",
    "\n",
    "* **x**: (Opcional) Valores a serem escolhidos onde a condição é verdadeira.\n",
    "\n",
    "* **y**: (Opcional) Valores a serem escolhidos onde a condição é falsa.\n",
    "\n",
    "##### Funcionamento\n",
    "\n",
    "1. Sem x e y: Se apenas a condição for fornecida, numpy.where() retorna os índices dos elementos que satisfazem a condição.\n",
    "\n",
    "2. Com x e y: Se x e y forem fornecidos, a função retorna um array onde cada elemento é escolhido de x ou y dependendo se a condição é verdadeira ou falsa."
   ]
  },
  {
   "cell_type": "code",
   "execution_count": 104,
   "metadata": {},
   "outputs": [
    {
     "name": "stdout",
     "output_type": "stream",
     "text": [
      "(array([2]), array([2]))\n"
     ]
    }
   ],
   "source": [
    "maior_3 = np.where(transposta > 8)\n",
    "print(maior_3)"
   ]
  },
  {
   "cell_type": "code",
   "execution_count": 105,
   "metadata": {},
   "outputs": [
    {
     "name": "stdout",
     "output_type": "stream",
     "text": [
      "(array([0, 1, 2, 3, 4]),)\n"
     ]
    }
   ],
   "source": [
    "\n",
    "a = np.array([0, 1, 2, 3, 4, 5, 6, 7, 8, 9])\n",
    "indices = np.where(a < 5)\n",
    "print(indices)\n"
   ]
  },
  {
   "cell_type": "code",
   "execution_count": 108,
   "metadata": {},
   "outputs": [
    {
     "name": "stdout",
     "output_type": "stream",
     "text": [
      "[ 0  1  2  3  4 50 60 70 80 90]\n"
     ]
    },
    {
     "data": {
      "text/plain": [
       "array([ 0,  1,  2,  3,  4, 50, 60, 70, 80, 90])"
      ]
     },
     "execution_count": 108,
     "metadata": {},
     "output_type": "execute_result"
    }
   ],
   "source": [
    "# Aqui, numpy.where() retorna os índices dos elementos em a que são menores que 5.\n",
    "\n",
    "a = np.array([0, 1, 2, 3, 4, 5, 6, 7, 8, 9])\n",
    "result = np.where(a < 5, a, a * 10)\n",
    "print(result)\n",
    "result"
   ]
  },
  {
   "cell_type": "code",
   "execution_count": 109,
   "metadata": {},
   "outputs": [
    {
     "name": "stdout",
     "output_type": "stream",
     "text": [
      "[[ 0  1  2]\n",
      " [ 3  4 -1]\n",
      " [-1 -1 -1]]\n"
     ]
    }
   ],
   "source": [
    "# Aqui, os elementos menores que 5 são mantidos, e os outros são substituídos por -1.\n",
    "\n",
    "a = np.array([[0, 1, 2], [3, 4, 5], [6, 7, 8]])\n",
    "result = np.where(a < 5, a, -1)\n",
    "print(result)\n"
   ]
  },
  {
   "cell_type": "markdown",
   "metadata": {},
   "source": [
    "### **Métodos de Ordenação**"
   ]
  },
  {
   "cell_type": "markdown",
   "metadata": {},
   "source": [
    "#### **Sort**\n",
    "\n",
    "Ordena os elementos do array"
   ]
  },
  {
   "cell_type": "code",
   "execution_count": 114,
   "metadata": {},
   "outputs": [
    {
     "name": "stdout",
     "output_type": "stream",
     "text": [
      "[53  2  8 23  1 31 19]\n",
      "[ 1  2  8 19 23 31 53]\n"
     ]
    }
   ],
   "source": [
    "lista = [53, 2, 8, 23, 1, 31, 19]\n",
    "\n",
    "array = np.array(lista)\n",
    "print(array)\n",
    "\n",
    "ordenada = np.sort(array)\n",
    "print(ordenada)"
   ]
  },
  {
   "cell_type": "markdown",
   "metadata": {},
   "source": [
    "### Métodos de entrada e Saída"
   ]
  },
  {
   "cell_type": "markdown",
   "metadata": {},
   "source": [
    "#### Save\n",
    "Salva um array em um arquivo binário\n",
    "\n"
   ]
  },
  {
   "cell_type": "code",
   "execution_count": 115,
   "metadata": {},
   "outputs": [],
   "source": [
    "np.save('ordenado.npy', array)"
   ]
  },
  {
   "cell_type": "markdown",
   "metadata": {},
   "source": [
    "#### Load\n",
    "\n",
    "Carrega um array de um arquivo binário."
   ]
  },
  {
   "cell_type": "code",
   "execution_count": 116,
   "metadata": {},
   "outputs": [
    {
     "data": {
      "text/plain": [
       "array([53,  2,  8, 23,  1, 31, 19])"
      ]
     },
     "execution_count": 116,
     "metadata": {},
     "output_type": "execute_result"
    }
   ],
   "source": [
    "#Lendo um arquivo binário npy\n",
    "dados = np.load('ordenado.npy')\n",
    "dados"
   ]
  },
  {
   "cell_type": "markdown",
   "metadata": {},
   "source": [
    "### Máscara Booleana\n",
    "\n",
    "Uma máscara booleana é um array de valores booleanos (True ou False) que correspondem a cada elemento de um array original. Esses valores indicam se o elemento correspondente deve ser incluído ou não em uma operação subsequente."
   ]
  },
  {
   "cell_type": "code",
   "execution_count": 28,
   "metadata": {},
   "outputs": [
    {
     "data": {
      "text/plain": [
       "array([False, False,  True, False, False,  True])"
      ]
     },
     "execution_count": 28,
     "metadata": {},
     "output_type": "execute_result"
    }
   ],
   "source": [
    "# Criando uma máscara booleana\n",
    "\n",
    "# Estâncio o array numpy\n",
    "array = np.array([1,2,-3,4,5,-6])\n",
    "\n",
    "# crio uma variável 'mascara' atribuíndo a ela uma condição que será aplicada a cada elemento do array. Nesse caso, ele construirá um array de valores booleanos onde quando a condição for atendida ele atribuirá o booleano True na posição do elemento. \n",
    "mascara = array < 0\n",
    "mascara"
   ]
  },
  {
   "cell_type": "code",
   "execution_count": 30,
   "metadata": {},
   "outputs": [
    {
     "data": {
      "text/plain": [
       "array([-3, -6])"
      ]
     },
     "execution_count": 30,
     "metadata": {},
     "output_type": "execute_result"
    }
   ],
   "source": [
    "# Se eu atribuir a uma nova variável o array original indexado pelo o array 'mascara', o numpy atribuirá a essa nova variável apenas os elementos cuja a condição seja True. \n",
    "outro_array = array[mascara]\n",
    "outro_array"
   ]
  },
  {
   "cell_type": "code",
   "execution_count": 31,
   "metadata": {},
   "outputs": [
    {
     "data": {
      "text/plain": [
       "array([-3, -6])"
      ]
     },
     "execution_count": 31,
     "metadata": {},
     "output_type": "execute_result"
    }
   ],
   "source": [
    "# Também posso fazer dessa forma\n",
    "\n",
    "terceiro_array = array[array < 0]\n",
    "terceiro_array"
   ]
  },
  {
   "cell_type": "markdown",
   "metadata": {},
   "source": [
    "#### Modificando valores usando Máscara Booleana.\n",
    "\n",
    "Também é possível usar máscaras booleanas para modificar elementos do array."
   ]
  },
  {
   "cell_type": "code",
   "execution_count": 41,
   "metadata": {},
   "outputs": [
    {
     "data": {
      "text/plain": [
       "array([[1, 8, 2],\n",
       "       [4, 9, 3],\n",
       "       [5, 1, 1]])"
      ]
     },
     "execution_count": 41,
     "metadata": {},
     "output_type": "execute_result"
    }
   ],
   "source": [
    "# Instânciando uma matriz 3 x 3\n",
    "\n",
    "# Utilizei random.choice para gerar numeros não repetidos\n",
    "matriz = np.random.choice(range(-10, 10), size=9, replace=False).reshape((3, 3))\n",
    "\n",
    "# substituir todos os números negativos por 1\n",
    "\n",
    "matriz[matriz < 0] = 1\n",
    "\n",
    "matriz"
   ]
  },
  {
   "cell_type": "code",
   "execution_count": 48,
   "metadata": {},
   "outputs": [
    {
     "name": "stdout",
     "output_type": "stream",
     "text": [
      "[[45 92 82 91]\n",
      " [60 21 93 19]\n",
      " [80 28 69 97]]\n",
      "\n",
      "[[ 1 92 82  1]\n",
      " [60  1  1  1]\n",
      " [80 28  1  1]]\n"
     ]
    }
   ],
   "source": [
    "# Criando uma nova matriz para não alterar a original\n",
    "\n",
    "# Random com choice para não repetir\n",
    "matriz = np.random.choice(range(1, 100), size=12, replace=False).reshape((3, 4))\n",
    "print(matriz)\n",
    "print()\n",
    "\n",
    "# copio a matriz para a nova variável que será alterada com o método copy.\n",
    "copia = matriz.copy()\n",
    "\n",
    "# Utilizo a máscara booleana para substituir os valores que atendem a minha condição\n",
    "copia[matriz % 2 != 0] = 1\n",
    "\n",
    "print(copia)"
   ]
  },
  {
   "cell_type": "markdown",
   "metadata": {},
   "source": [
    "#### Aplicando condições compostas com Máscaras booleanas\n",
    "\n",
    "É possível testar mais de uma condição em um mesmo comando usando máscaras booleanas no NumPy. Você pode combinar condições usando operadores lógicos: \n",
    "* **&** (e) \n",
    "* **|** (ou)\n",
    "* **~** (not)"
   ]
  },
  {
   "cell_type": "code",
   "execution_count": 50,
   "metadata": {},
   "outputs": [
    {
     "name": "stdout",
     "output_type": "stream",
     "text": [
      "[6 7 8]\n"
     ]
    }
   ],
   "source": [
    "array = np.array([1, 2, 3, 4, 5, 6, 7, 8, 9, 10])\n",
    "\n",
    "# Criando uma máscara booleana com duas condições\n",
    "mascara = (array > 5) & (array < 9)\n",
    "\n",
    "# Usando a máscara booleana para filtrar os elementos\n",
    "resultado = array[mascara]\n",
    "\n",
    "print(resultado)\n",
    "# Saída: [6 7 8]"
   ]
  },
  {
   "cell_type": "markdown",
   "metadata": {},
   "source": [
    "### **Fatiamento no Numpy**\n",
    "\n",
    "O fatiamento em NumPy é uma técnica poderosa que permite selecionar sub-seções de um array para manipulação e análise de dados. Aqui estão os conceitos básicos:\n",
    "\n",
    "#### **Fatiamento Básico**\n",
    "O fatiamento em NumPy é semelhante ao fatiamento de listas em Python. Você usa a sintaxe \n",
    "\n",
    "```\n",
    "start:stop:step\n",
    "``` \n",
    "dentro de colchetes para definir o intervalo que deseja selecionar."
   ]
  },
  {
   "cell_type": "code",
   "execution_count": 54,
   "metadata": {},
   "outputs": [
    {
     "name": "stdout",
     "output_type": "stream",
     "text": [
      "[2 3]\n",
      "[1 3 5]\n",
      "[5 4 3 2 1]\n"
     ]
    }
   ],
   "source": [
    "# Array Unidimensional\n",
    "\n",
    "array = np.array([1,2,3,4,5])\n",
    "\n",
    "print(array[1:3])\n",
    "print(array[::2])\n",
    "print(array[::-1])"
   ]
  },
  {
   "cell_type": "code",
   "execution_count": 56,
   "metadata": {},
   "outputs": [
    {
     "name": "stdout",
     "output_type": "stream",
     "text": [
      "[[1 2 3]\n",
      " [4 5 6]\n",
      " [7 8 9]]\n",
      "[[2 3]\n",
      " [5 6]]\n"
     ]
    }
   ],
   "source": [
    "# Array bidimensional\n",
    "\n",
    "array = np.array([[1, 2, 3], [4, 5, 6], [7, 8, 9]])\n",
    "print(array)\n",
    "print(array[0:2, 1:3])"
   ]
  }
 ],
 "metadata": {
  "kernelspec": {
   "display_name": ".venv",
   "language": "python",
   "name": "python3"
  },
  "language_info": {
   "codemirror_mode": {
    "name": "ipython",
    "version": 3
   },
   "file_extension": ".py",
   "mimetype": "text/x-python",
   "name": "python",
   "nbconvert_exporter": "python",
   "pygments_lexer": "ipython3",
   "version": "3.12.3"
  }
 },
 "nbformat": 4,
 "nbformat_minor": 2
}
