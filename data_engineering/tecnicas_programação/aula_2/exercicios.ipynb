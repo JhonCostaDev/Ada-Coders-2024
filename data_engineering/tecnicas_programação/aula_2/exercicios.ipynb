{
 "cells": [
  {
   "cell_type": "markdown",
   "metadata": {},
   "source": [
    "### Exercício 1)\n",
    "Utilize comprehension para gerar a lista de todos os números interios entre 0 e 19. Converta a lista em um <font color='blue'>numpy</font> array bidimensional (matriz) com 4 linhas e 5 colunas."
   ]
  },
  {
   "cell_type": "code",
   "execution_count": 2,
   "metadata": {},
   "outputs": [],
   "source": [
    "import numpy as np"
   ]
  },
  {
   "cell_type": "code",
   "execution_count": 3,
   "metadata": {},
   "outputs": [
    {
     "data": {
      "text/plain": [
       "array([[ 0,  1,  2,  3,  4],\n",
       "       [ 5,  6,  7,  8,  9],\n",
       "       [10, 11, 12, 13, 14],\n",
       "       [15, 16, 17, 18, 19]])"
      ]
     },
     "execution_count": 3,
     "metadata": {},
     "output_type": "execute_result"
    }
   ],
   "source": [
    "# Criando a lista\n",
    "lista = [num for num in range(20)]\n",
    "\n",
    "# Convertendo a lista em um array\n",
    "array = np.array(lista)\n",
    "matrix = array.reshape((4, 5))\n",
    "matrix"
   ]
  },
  {
   "cell_type": "code",
   "execution_count": 4,
   "metadata": {},
   "outputs": [
    {
     "name": "stdout",
     "output_type": "stream",
     "text": [
      "[0, 4, 16, 36, 64, 100]\n",
      "[0, 4, 16, 36, 64, 100]\n"
     ]
    }
   ],
   "source": [
    "# entendendo list comprehension\n",
    "lista = []\n",
    "for num in range(11):\n",
    "    if num % 2 == 0:\n",
    "        lista.append(num * num)\n",
    "        \n",
    "print(lista)\n",
    "\n",
    "quadrados = [num * num for num in range(11) if num % 2 ==0]\n",
    "print(quadrados)\n",
    "\n"
   ]
  },
  {
   "cell_type": "markdown",
   "metadata": {},
   "source": [
    "### Exercício 2)\n",
    "Construa um array unidimensional com 30 números inteiros escolhidos de forma randômica no intervalo entre 0 e 20. Reformate o array para que se torne uma matriz `A` com 5 linhas e 6 colunas."
   ]
  },
  {
   "cell_type": "code",
   "execution_count": 5,
   "metadata": {},
   "outputs": [
    {
     "name": "stdout",
     "output_type": "stream",
     "text": [
      "[[ 7 17 13  2  0 10]\n",
      " [ 8 20 15  5 12 10]\n",
      " [11  5 16  7 16 13]\n",
      " [ 5 11  2  7  2  3]\n",
      " [17  4 11  0  2 10]]\n"
     ]
    }
   ],
   "source": [
    "# Utilizando list comprehension\n",
    "array = np.array([np.random.randint(0,21) for i in range(30)])\n",
    "\n",
    "matriz_A = array.reshape((5, 6))\n",
    "print(matriz_A)"
   ]
  },
  {
   "cell_type": "code",
   "execution_count": 6,
   "metadata": {},
   "outputs": [
    {
     "name": "stdout",
     "output_type": "stream",
     "text": [
      "[[ 6 14  6 14  4  7]\n",
      " [15  6 18 12 15 16]\n",
      " [ 0  0  0 13 15  0]\n",
      " [14  3 12 18 19  0]\n",
      " [17  0 15  5  6  0]]\n"
     ]
    }
   ],
   "source": [
    "# Refatorado\n",
    "array = np.random.randint(0, 20, size=30)\n",
    "matriz_A = array.reshape((5,6))\n",
    "print(matriz_A)\n"
   ]
  },
  {
   "cell_type": "code",
   "execution_count": 7,
   "metadata": {},
   "outputs": [
    {
     "name": "stdout",
     "output_type": "stream",
     "text": [
      "[[ 5  3  7 13  9 18]\n",
      " [ 4 14 13 17  1 13]\n",
      " [19 16  1  3  8 17]\n",
      " [12  9  7  1  9 19]\n",
      " [ 4  5  3 19  8  6]]\n"
     ]
    }
   ],
   "source": [
    "matriz = np.random.randint(0, 20, size=30).reshape((5,6))\n",
    "print(matriz)"
   ]
  },
  {
   "cell_type": "markdown",
   "metadata": {},
   "source": [
    "### Exercício 3)\n",
    "Crie uma __view__ da matriz `A` gerada na célula anterior contendo:\n",
    "- as linhas de `A` com índices 0,1 e 3\n",
    "- as linhas de `A` com índice 1 e 2 e as colunas com índice 0,2 e 4\n",
    "- as linhas de `A` com índice 1 e 3 e as colunas com índice 1 e 3"
   ]
  },
  {
   "cell_type": "code",
   "execution_count": 8,
   "metadata": {},
   "outputs": [
    {
     "name": "stdout",
     "output_type": "stream",
     "text": [
      "[[ 5  3  7 13  9 18]\n",
      " [ 4 14 13 17  1 13]\n",
      " [12  9  7  1  9 19]]\n",
      "\n",
      "[[ 4 13  1]\n",
      " [19  1  8]]\n",
      "\n",
      "[[14 17]\n",
      " [16  3]]\n",
      "\n"
     ]
    }
   ],
   "source": [
    "primeira = matriz[[0, 1, 3],:]\n",
    "print(primeira)\n",
    "print()\n",
    "\n",
    "segunda = matriz[[1, 2], :][:,[0, 2, 4]]\n",
    "print(segunda)\n",
    "print()\n",
    "\n",
    "terceira = matriz[[1, 2], :][:,[1, 3]]\n",
    "\n",
    "print(terceira)\n",
    "print()"
   ]
  },
  {
   "cell_type": "markdown",
   "metadata": {},
   "source": [
    "### Exercício 4)\n",
    "Construa um array `A` bidimensional 5x6 com 30 números inteiros escolhidos de forma randômica no intervalo entre 0 e 20. \n",
    "- faça uma cópia do array `A` criado, chamando a cópia de `Ac`\n",
    "- Substitua todos os elementos do array `A` que sejam maiores que 10 pelo valor -1 \n",
    "- Substitua todos os elementos do array `Ac` que sejam maiores que 7 e menores que 15 pelo valor -1 \n",
    "\n",
    "__Dica:__ Gere máscaras booleanas para realizar as modificações nos arrays."
   ]
  },
  {
   "cell_type": "code",
   "execution_count": 14,
   "metadata": {},
   "outputs": [
    {
     "data": {
      "text/plain": [
       "array([[ 0,  7,  2,  6, 19,  2],\n",
       "       [17,  7,  2,  7,  8, 14],\n",
       "       [17, 13,  6, 12,  8,  1],\n",
       "       [11, 18,  6,  4, 11, 13],\n",
       "       [13, 16, 10,  4,  4, 15]])"
      ]
     },
     "execution_count": 14,
     "metadata": {},
     "output_type": "execute_result"
    }
   ],
   "source": [
    "# Instânciando o array com numpy\n",
    "a = np.random.randint(0, 20, size=30).reshape((5, 6))\n",
    "a"
   ]
  },
  {
   "cell_type": "code",
   "execution_count": 16,
   "metadata": {},
   "outputs": [
    {
     "data": {
      "text/plain": [
       "array([[ 0,  7,  2,  6, 19,  2],\n",
       "       [17,  7,  2,  7,  8, 14],\n",
       "       [17, 13,  6, 12,  8,  1],\n",
       "       [11, 18,  6,  4, 11, 13],\n",
       "       [13, 16, 10,  4,  4, 15]])"
      ]
     },
     "execution_count": 16,
     "metadata": {},
     "output_type": "execute_result"
    }
   ],
   "source": [
    "# copiando o array 'a' para o array 'ac'.\n",
    "ac = a.copy()\n",
    "ac"
   ]
  },
  {
   "cell_type": "code",
   "execution_count": 17,
   "metadata": {},
   "outputs": [
    {
     "data": {
      "text/plain": [
       "array([[ 0,  7,  2,  6, -1,  2],\n",
       "       [-1,  7,  2,  7,  8, -1],\n",
       "       [-1, -1,  6, -1,  8,  1],\n",
       "       [-1, -1,  6,  4, -1, -1],\n",
       "       [-1, -1, 10,  4,  4, -1]])"
      ]
     },
     "execution_count": 17,
     "metadata": {},
     "output_type": "execute_result"
    }
   ],
   "source": [
    "# - Substitua todos os elementos do array `A` que sejam maiores que 10 pelo valor -1 \n",
    "\n",
    "a[a > 10] = -1\n",
    "a"
   ]
  },
  {
   "cell_type": "code",
   "execution_count": 18,
   "metadata": {},
   "outputs": [
    {
     "data": {
      "text/plain": [
       "array([[ 0,  7,  2,  6, 19,  2],\n",
       "       [17,  7,  2,  7, -1, -1],\n",
       "       [17, -1,  6, -1, -1,  1],\n",
       "       [-1, 18,  6,  4, -1, -1],\n",
       "       [-1, 16, -1,  4,  4, 15]])"
      ]
     },
     "execution_count": 18,
     "metadata": {},
     "output_type": "execute_result"
    }
   ],
   "source": [
    "#- Substitua todos os elementos do array `Ac` que sejam maiores que 7 e menores que 15 pelo valor -1\n",
    "\n",
    "ac[(ac > 7) & (ac < 15)] = -1\n",
    "ac"
   ]
  },
  {
   "cell_type": "markdown",
   "metadata": {},
   "source": [
    "### Exercício 5)\n",
    "Construa um array `A` com 20 linhas e 10 colunas onde os elementos são os números interios de  1 até 200.\n",
    "- Crie uma __view__ de `A` chamada `A_lpares` contendo apenas as linhas de `A` com índice par. \n",
    "- Crie uma __view__ de `A` chamada `A_lpares_cimpares` contendo as linhas `A` com índice par e colunas com índice ímpar. "
   ]
  },
  {
   "cell_type": "code",
   "execution_count": 20,
   "metadata": {},
   "outputs": [
    {
     "data": {
      "text/plain": [
       "array([[  1,   2,   3,   4,   5,   6,   7,   8,   9,  10],\n",
       "       [ 11,  12,  13,  14,  15,  16,  17,  18,  19,  20],\n",
       "       [ 21,  22,  23,  24,  25,  26,  27,  28,  29,  30],\n",
       "       [ 31,  32,  33,  34,  35,  36,  37,  38,  39,  40],\n",
       "       [ 41,  42,  43,  44,  45,  46,  47,  48,  49,  50],\n",
       "       [ 51,  52,  53,  54,  55,  56,  57,  58,  59,  60],\n",
       "       [ 61,  62,  63,  64,  65,  66,  67,  68,  69,  70],\n",
       "       [ 71,  72,  73,  74,  75,  76,  77,  78,  79,  80],\n",
       "       [ 81,  82,  83,  84,  85,  86,  87,  88,  89,  90],\n",
       "       [ 91,  92,  93,  94,  95,  96,  97,  98,  99, 100],\n",
       "       [101, 102, 103, 104, 105, 106, 107, 108, 109, 110],\n",
       "       [111, 112, 113, 114, 115, 116, 117, 118, 119, 120],\n",
       "       [121, 122, 123, 124, 125, 126, 127, 128, 129, 130],\n",
       "       [131, 132, 133, 134, 135, 136, 137, 138, 139, 140],\n",
       "       [141, 142, 143, 144, 145, 146, 147, 148, 149, 150],\n",
       "       [151, 152, 153, 154, 155, 156, 157, 158, 159, 160],\n",
       "       [161, 162, 163, 164, 165, 166, 167, 168, 169, 170],\n",
       "       [171, 172, 173, 174, 175, 176, 177, 178, 179, 180],\n",
       "       [181, 182, 183, 184, 185, 186, 187, 188, 189, 190],\n",
       "       [191, 192, 193, 194, 195, 196, 197, 198, 199, 200]])"
      ]
     },
     "execution_count": 20,
     "metadata": {},
     "output_type": "execute_result"
    }
   ],
   "source": [
    "a = np.arange(1, 201).reshape((20, 10))\n",
    "a"
   ]
  },
  {
   "cell_type": "code",
   "execution_count": 23,
   "metadata": {},
   "outputs": [
    {
     "data": {
      "text/plain": [
       "array([[  1,   2,   3,   4,   5,   6,   7,   8,   9,  10],\n",
       "       [ 21,  22,  23,  24,  25,  26,  27,  28,  29,  30],\n",
       "       [ 41,  42,  43,  44,  45,  46,  47,  48,  49,  50],\n",
       "       [ 61,  62,  63,  64,  65,  66,  67,  68,  69,  70],\n",
       "       [ 81,  82,  83,  84,  85,  86,  87,  88,  89,  90],\n",
       "       [101, 102, 103, 104, 105, 106, 107, 108, 109, 110],\n",
       "       [121, 122, 123, 124, 125, 126, 127, 128, 129, 130],\n",
       "       [141, 142, 143, 144, 145, 146, 147, 148, 149, 150],\n",
       "       [161, 162, 163, 164, 165, 166, 167, 168, 169, 170],\n",
       "       [181, 182, 183, 184, 185, 186, 187, 188, 189, 190]])"
      ]
     },
     "execution_count": 23,
     "metadata": {},
     "output_type": "execute_result"
    }
   ],
   "source": [
    "# - Crie uma view de `A` chamada `A_lpares` contendo apenas as linhas de `A` com índice par. \n",
    "a_lpares = a[::2]\n",
    "a_lpares\n",
    "\n"
   ]
  },
  {
   "cell_type": "code",
   "execution_count": 29,
   "metadata": {},
   "outputs": [
    {
     "data": {
      "text/plain": [
       "array([[  2,   4,   6,   8,  10],\n",
       "       [ 22,  24,  26,  28,  30],\n",
       "       [ 42,  44,  46,  48,  50],\n",
       "       [ 62,  64,  66,  68,  70],\n",
       "       [ 82,  84,  86,  88,  90],\n",
       "       [102, 104, 106, 108, 110],\n",
       "       [122, 124, 126, 128, 130],\n",
       "       [142, 144, 146, 148, 150],\n",
       "       [162, 164, 166, 168, 170],\n",
       "       [182, 184, 186, 188, 190]])"
      ]
     },
     "execution_count": 29,
     "metadata": {},
     "output_type": "execute_result"
    }
   ],
   "source": [
    "#- Crie uma __view__ de `A` chamada `A_lpares_cimpares` contendo as linhas `A` com índice par e colunas com índice ímpar. \n",
    "\n",
    "a_lpares_cimpares = a[::2, 1::2]\n",
    "a_lpares_cimpares"
   ]
  },
  {
   "cell_type": "markdown",
   "metadata": {},
   "source": [
    "### Exercício 6)\n",
    "Substitua os elememtos do array `A` do exercício anterior por -1 quando pelo menos um dos índices do elemento é par. \n",
    "\n",
    "__Dica:__ Construa uma máscara booleana"
   ]
  },
  {
   "cell_type": "code",
   "execution_count": 41,
   "metadata": {},
   "outputs": [
    {
     "data": {
      "text/plain": [
       "array([[ -1,   2,  -1,   4,  -1,   6,  -1,   8,  -1,  10],\n",
       "       [ 11,  12,  13,  14,  15,  16,  17,  18,  19,  20],\n",
       "       [ -1,  22,  -1,  24,  -1,  26,  -1,  28,  -1,  30],\n",
       "       [ 31,  32,  33,  34,  35,  36,  37,  38,  39,  40],\n",
       "       [ -1,  42,  -1,  44,  -1,  46,  -1,  48,  -1,  50],\n",
       "       [ 51,  52,  53,  54,  55,  56,  57,  58,  59,  60],\n",
       "       [ -1,  62,  -1,  64,  -1,  66,  -1,  68,  -1,  70],\n",
       "       [ 71,  72,  73,  74,  75,  76,  77,  78,  79,  80],\n",
       "       [ -1,  82,  -1,  84,  -1,  86,  -1,  88,  -1,  90],\n",
       "       [ 91,  92,  93,  94,  95,  96,  97,  98,  99, 100],\n",
       "       [ -1, 102,  -1, 104,  -1, 106,  -1, 108,  -1, 110],\n",
       "       [111, 112, 113, 114, 115, 116, 117, 118, 119, 120],\n",
       "       [ -1, 122,  -1, 124,  -1, 126,  -1, 128,  -1, 130],\n",
       "       [131, 132, 133, 134, 135, 136, 137, 138, 139, 140],\n",
       "       [ -1, 142,  -1, 144,  -1, 146,  -1, 148,  -1, 150],\n",
       "       [151, 152, 153, 154, 155, 156, 157, 158, 159, 160],\n",
       "       [ -1, 162,  -1, 164,  -1, 166,  -1, 168,  -1, 170],\n",
       "       [171, 172, 173, 174, 175, 176, 177, 178, 179, 180],\n",
       "       [ -1, 182,  -1, 184,  -1, 186,  -1, 188,  -1, 190],\n",
       "       [191, 192, 193, 194, 195, 196, 197, 198, 199, 200]])"
      ]
     },
     "execution_count": 41,
     "metadata": {},
     "output_type": "execute_result"
    }
   ],
   "source": [
    "#TODO: refazer\n",
    "copia = a.copy()\n",
    "copia[::2, ::2] = -1\n",
    "copia\n"
   ]
  },
  {
   "cell_type": "markdown",
   "metadata": {},
   "source": [
    "### Exercício 7)\n",
    "Construa uma função chamada `ordena_linhas` que recebe uma matriz como parâmetro e troque as linhas de posição para que fiquem ordenadas de acordo com a primeira coluna. Por exemplo:\n",
    "```python\n",
    "A = np.array([[20, 26, 12], \n",
    "              [8, 3, 26], \n",
    "              [3, 10, 4]])\n",
    "print(ordena_linhas(A))\n",
    "```\n",
    "deve resultar em\n",
    "```python\n",
    "[[ 3 10  4]\n",
    " [ 8  3 26]\n",
    " [20 26 12]]\n",
    "```"
   ]
  },
  {
   "cell_type": "code",
   "execution_count": 46,
   "metadata": {},
   "outputs": [
    {
     "data": {
      "text/plain": [
       "array([[20, 26, 12],\n",
       "       [ 8,  3, 26],\n",
       "       [ 3, 10,  4]])"
      ]
     },
     "execution_count": 46,
     "metadata": {},
     "output_type": "execute_result"
    }
   ],
   "source": [
    "array = np.array([[20, 26, 12], [8, 3, 26], [3, 10, 4]])\n",
    "array"
   ]
  },
  {
   "cell_type": "code",
   "execution_count": 58,
   "metadata": {},
   "outputs": [],
   "source": [
    "ordem = np.argsort(array, axis=0)"
   ]
  },
  {
   "cell_type": "code",
   "execution_count": 59,
   "metadata": {},
   "outputs": [
    {
     "data": {
      "text/plain": [
       "array([[[ 3, 10,  4],\n",
       "        [ 8,  3, 26],\n",
       "        [ 3, 10,  4]],\n",
       "\n",
       "       [[ 8,  3, 26],\n",
       "        [ 3, 10,  4],\n",
       "        [20, 26, 12]],\n",
       "\n",
       "       [[20, 26, 12],\n",
       "        [20, 26, 12],\n",
       "        [ 8,  3, 26]]])"
      ]
     },
     "execution_count": 59,
     "metadata": {},
     "output_type": "execute_result"
    }
   ],
   "source": [
    "array[ordem]"
   ]
  },
  {
   "cell_type": "code",
   "execution_count": 62,
   "metadata": {},
   "outputs": [
    {
     "data": {
      "text/plain": [
       "array([[ 3, 10,  4],\n",
       "       [ 8,  3, 26],\n",
       "       [20, 26, 12]])"
      ]
     },
     "execution_count": 62,
     "metadata": {},
     "output_type": "execute_result"
    }
   ],
   "source": [
    "indices = np.argsort(array[:, 0])\n",
    "array[indices]"
   ]
  },
  {
   "cell_type": "code",
   "execution_count": 63,
   "metadata": {},
   "outputs": [],
   "source": [
    "def ordenaMatriz(array):\n",
    "    indices = np.argsort(array[:, 0])\n",
    "    return array[indices]"
   ]
  },
  {
   "cell_type": "code",
   "execution_count": 65,
   "metadata": {},
   "outputs": [
    {
     "name": "stdout",
     "output_type": "stream",
     "text": [
      "[[20 26 12]\n",
      " [ 8  3 26]\n",
      " [ 3 10  4]]\n",
      "\n"
     ]
    },
    {
     "data": {
      "text/plain": [
       "array([[ 3, 10,  4],\n",
       "       [ 8,  3, 26],\n",
       "       [20, 26, 12]])"
      ]
     },
     "execution_count": 65,
     "metadata": {},
     "output_type": "execute_result"
    }
   ],
   "source": [
    "print(array)\n",
    "print()\n",
    "ordenaMatriz(array)"
   ]
  }
 ],
 "metadata": {
  "kernelspec": {
   "display_name": ".venv",
   "language": "python",
   "name": "python3"
  },
  "language_info": {
   "codemirror_mode": {
    "name": "ipython",
    "version": 3
   },
   "file_extension": ".py",
   "mimetype": "text/x-python",
   "name": "python",
   "nbconvert_exporter": "python",
   "pygments_lexer": "ipython3",
   "version": "3.12.3"
  }
 },
 "nbformat": 4,
 "nbformat_minor": 2
}
