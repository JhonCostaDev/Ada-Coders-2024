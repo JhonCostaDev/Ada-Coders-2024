{
 "cells": [
  {
   "cell_type": "markdown",
   "metadata": {},
   "source": [
    "### Exercício 1)\n",
    "Utilize comprehension para gerar a lista de todos os números interios entre 0 e 19. Converta a lista em um <font color='blue'>numpy</font> array bidimensional (matriz) com 4 linhas e 5 colunas."
   ]
  },
  {
   "cell_type": "code",
   "execution_count": 5,
   "metadata": {},
   "outputs": [],
   "source": [
    "import numpy as np"
   ]
  },
  {
   "cell_type": "code",
   "execution_count": 14,
   "metadata": {},
   "outputs": [
    {
     "data": {
      "text/plain": [
       "array([[ 0,  1,  2,  3,  4],\n",
       "       [ 5,  6,  7,  8,  9],\n",
       "       [10, 11, 12, 13, 14],\n",
       "       [15, 16, 17, 18, 19]])"
      ]
     },
     "execution_count": 14,
     "metadata": {},
     "output_type": "execute_result"
    }
   ],
   "source": [
    "# Criando a lista\n",
    "lista = [num for num in range(20)]\n",
    "\n",
    "# Convertendo a lista em um array\n",
    "array = np.array(lista)\n",
    "matrix = array.reshape((4, 5))\n",
    "matrix"
   ]
  },
  {
   "cell_type": "code",
   "execution_count": 6,
   "metadata": {},
   "outputs": [
    {
     "name": "stdout",
     "output_type": "stream",
     "text": [
      "[0, 4, 16, 36, 64, 100]\n",
      "[0, 4, 16, 36, 64, 100]\n"
     ]
    },
    {
     "data": {
      "text/plain": [
       "array([1, 2, 3, 4, 5, 6, 7, 8, 9])"
      ]
     },
     "execution_count": 6,
     "metadata": {},
     "output_type": "execute_result"
    }
   ],
   "source": [
    "# entendendo list comprehension\n",
    "lista = []\n",
    "for num in range(11):\n",
    "    if num % 2 == 0:\n",
    "        lista.append(num * num)\n",
    "        \n",
    "print(lista)\n",
    "\n",
    "quadrados = [num * num for num in range(11) if num % 2 ==0]\n",
    "print(quadrados)\n",
    "\n"
   ]
  },
  {
   "cell_type": "markdown",
   "metadata": {},
   "source": [
    "### Exercício 2)\n",
    "Construa um array unidimensional com 30 números inteiros escolhidos de forma randômica no intervalo entre 0 e 20. Reformate o array para que se torne uma matriz `A` com 5 linhas e 6 colunas."
   ]
  },
  {
   "cell_type": "code",
   "execution_count": 78,
   "metadata": {},
   "outputs": [
    {
     "name": "stdout",
     "output_type": "stream",
     "text": [
      "[[16  7  8  3 10  0]\n",
      " [10 19 13  5 15 16]\n",
      " [ 8 15 13 15 17 12]\n",
      " [13 10 20  3 15 12]\n",
      " [13  4  5 13 20  7]]\n"
     ]
    }
   ],
   "source": [
    "# Utilizando list comprehension\n",
    "array = np.array([np.random.randint(0,21) for i in range(30)])\n",
    "\n",
    "matriz_A = array.reshape((5, 6))\n",
    "print(matriz_A)"
   ]
  },
  {
   "cell_type": "code",
   "execution_count": 75,
   "metadata": {},
   "outputs": [
    {
     "name": "stdout",
     "output_type": "stream",
     "text": [
      "[[14 17 16 16  1 19]\n",
      " [14 19  0  0  3 17]\n",
      " [12 11 18  2 17 10]\n",
      " [ 6  0 17 12  7  2]\n",
      " [ 9 16  0 14 14 16]]\n"
     ]
    }
   ],
   "source": [
    "# Refatorado\n",
    "array = np.random.randint(0, 20, size=30)\n",
    "matriz_A = array.reshape((5,6))\n",
    "print(matriz_A)\n"
   ]
  },
  {
   "cell_type": "code",
   "execution_count": 77,
   "metadata": {},
   "outputs": [
    {
     "name": "stdout",
     "output_type": "stream",
     "text": [
      "[[ 9 12  9  4  1  2]\n",
      " [17  3  2  5 18 17]\n",
      " [ 6 19 18  7  6  0]\n",
      " [16 12 16 15 16 10]\n",
      " [18  9 18 15 19 12]]\n"
     ]
    }
   ],
   "source": [
    "matriz = np.random.randint(0, 20, size=30).reshape((5,6))\n",
    "print(matriz)"
   ]
  },
  {
   "cell_type": "markdown",
   "metadata": {},
   "source": [
    "### Exercício 3)\n",
    "Crie uma __view__ da matriz `A` gerada na célula anterior contendo:\n",
    "- as linhas de `A` com índices 0,1 e 3\n",
    "- as linhas de `A` com índice 1 e 2 e as colunas com índice 0,2 e 4\n",
    "- as linhas de `A` com índice 1 e 3 e as colunas com índice 1 e 3"
   ]
  },
  {
   "cell_type": "code",
   "execution_count": 97,
   "metadata": {},
   "outputs": [
    {
     "name": "stdout",
     "output_type": "stream",
     "text": [
      "[[ 9 12  9  4  1  2]\n",
      " [17  3  2  5 18 17]\n",
      " [16 12 16 15 16 10]]\n",
      "\n",
      "[[17  2 18]\n",
      " [ 6 18  6]]\n",
      "\n",
      "[[ 3  5]\n",
      " [19  7]]\n",
      "\n"
     ]
    }
   ],
   "source": [
    "primeira = matriz[[0, 1, 3],:]\n",
    "print(primeira)\n",
    "print()\n",
    "\n",
    "segunda = matriz[[1, 2], :][:,[0, 2, 4]]\n",
    "print(segunda)\n",
    "print()\n",
    "\n",
    "terceira = matriz[[1, 2], :][:,[1, 3]]\n",
    "\n",
    "print(terceira)\n",
    "print()"
   ]
  },
  {
   "cell_type": "markdown",
   "metadata": {},
   "source": [
    "### Exercício 4)\n",
    "Construa um array `A` bidimensional 5x6 com 30 números inteiros escolhidos de forma randômica no intervalo entre 0 e 20. \n",
    "- faça uma cópia do array `A` criado, chamando a cópia de `Ac`\n",
    "- Substitua todos os elementos do array `A` que sejam maiores que 10 pelo valor -1 \n",
    "- Substitua todos os elementos do array `Ac` que sejam maiores que 7 e menores que 15 pelo valor -1 \n",
    "\n",
    "__Dica:__ Gere máscaras booleanas para realizar as modificações nos arrays."
   ]
  }
 ],
 "metadata": {
  "kernelspec": {
   "display_name": ".venv",
   "language": "python",
   "name": "python3"
  },
  "language_info": {
   "codemirror_mode": {
    "name": "ipython",
    "version": 3
   },
   "file_extension": ".py",
   "mimetype": "text/x-python",
   "name": "python",
   "nbconvert_exporter": "python",
   "pygments_lexer": "ipython3",
   "version": "3.12.3"
  }
 },
 "nbformat": 4,
 "nbformat_minor": 2
}
