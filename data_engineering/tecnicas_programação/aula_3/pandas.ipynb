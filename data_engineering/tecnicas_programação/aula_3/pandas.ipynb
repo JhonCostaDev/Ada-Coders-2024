{
 "cells": [
  {
   "cell_type": "markdown",
   "metadata": {},
   "source": [
    "# Pandas\n",
    "Biblioteca python que interage com tabelas(DataFrames)"
   ]
  },
  {
   "cell_type": "code",
   "execution_count": 3,
   "metadata": {},
   "outputs": [],
   "source": [
    "import pandas as pd \n",
    "import numpy as np"
   ]
  },
  {
   "cell_type": "markdown",
   "metadata": {},
   "source": [
    "## Series\n",
    "\n",
    "Resumidamente, transformar uma lista em uma seria pandas permite uma visão indexada dos dados."
   ]
  },
  {
   "cell_type": "code",
   "execution_count": 4,
   "metadata": {},
   "outputs": [
    {
     "data": {
      "text/plain": [
       "0    12\n",
       "1    15\n",
       "2    23\n",
       "3    34\n",
       "4    12\n",
       "5    87\n",
       "6     2\n",
       "dtype: int64"
      ]
     },
     "execution_count": 4,
     "metadata": {},
     "output_type": "execute_result"
    }
   ],
   "source": [
    "lista = [12, 15 , 23, 34, 12, 87, 2]\n",
    "\n",
    "pd.Series(lista)"
   ]
  },
  {
   "cell_type": "code",
   "execution_count": 9,
   "metadata": {},
   "outputs": [
    {
     "data": {
      "text/plain": [
       "array([12, 15, 23, 34, 12, 87,  2])"
      ]
     },
     "execution_count": 9,
     "metadata": {},
     "output_type": "execute_result"
    }
   ],
   "source": [
    "array = np.array(lista)\n",
    "array\n"
   ]
  },
  {
   "cell_type": "code",
   "execution_count": 10,
   "metadata": {},
   "outputs": [
    {
     "data": {
      "text/plain": [
       "0    12\n",
       "1    15\n",
       "2    23\n",
       "3    34\n",
       "4    12\n",
       "5    87\n",
       "6     2\n",
       "dtype: int64"
      ]
     },
     "execution_count": 10,
     "metadata": {},
     "output_type": "execute_result"
    }
   ],
   "source": [
    "array_serie = pd.Series(array)\n",
    "array_serie"
   ]
  },
  {
   "cell_type": "markdown",
   "metadata": {},
   "source": [
    "professor: A série deve usar sempre uma mesma tipagem de dados.\n",
    "\n",
    "mas abaixo  vemos que é possível atribuir um inteiro"
   ]
  },
  {
   "cell_type": "code",
   "execution_count": 24,
   "metadata": {},
   "outputs": [
    {
     "data": {
      "text/plain": [
       "0       a\n",
       "1       b\n",
       "2       c\n",
       "3       d\n",
       "4       1\n",
       "5     5.0\n",
       "6       a\n",
       "7    True\n",
       "dtype: object"
      ]
     },
     "execution_count": 24,
     "metadata": {},
     "output_type": "execute_result"
    }
   ],
   "source": [
    "lista = ['a', 'b', 'c', 'd', 1,  5., 'a', True]\n",
    "serie_str = pd.Series(lista)\n",
    "#type(serie_str[2])\n",
    "serie_str"
   ]
  },
  {
   "cell_type": "code",
   "execution_count": 25,
   "metadata": {},
   "outputs": [
    {
     "data": {
      "text/plain": [
       "count     8\n",
       "unique    6\n",
       "top       a\n",
       "freq      2\n",
       "dtype: object"
      ]
     },
     "execution_count": 25,
     "metadata": {},
     "output_type": "execute_result"
    }
   ],
   "source": [
    "serie_str.describe()"
   ]
  },
  {
   "cell_type": "code",
   "execution_count": 26,
   "metadata": {},
   "outputs": [],
   "source": [
    "# O python aceita, porém talvez não deva ser feito\n",
    "serie_doida = pd.Series(['a', 'b', 'c', 'd', 1,  5., 'a', True])"
   ]
  },
  {
   "cell_type": "code",
   "execution_count": 28,
   "metadata": {},
   "outputs": [
    {
     "data": {
      "text/plain": [
       "tomate     3.5\n",
       "agua       1.9\n",
       "coca      10.9\n",
       "dtype: float64"
      ]
     },
     "execution_count": 28,
     "metadata": {},
     "output_type": "execute_result"
    }
   ],
   "source": [
    "# Criando séries apartir de dicionários\n",
    "\n",
    "dicionario = {\"tomate\": 3.5, \"agua\": 1.9, \"coca\": 10.9}\n",
    "\n",
    "serie_dicionario = pd.Series(dicionario)\n",
    "serie_dicionario"
   ]
  },
  {
   "cell_type": "markdown",
   "metadata": {},
   "source": [
    "Como já visto, em dicionário que é uma estrutura de chave e valor, temos diversos meios de acessar seus elementos"
   ]
  },
  {
   "cell_type": "code",
   "execution_count": 30,
   "metadata": {},
   "outputs": [
    {
     "data": {
      "text/plain": [
       "dict_keys(['tomate', 'agua', 'coca'])"
      ]
     },
     "execution_count": 30,
     "metadata": {},
     "output_type": "execute_result"
    }
   ],
   "source": [
    "dicionario.keys()"
   ]
  },
  {
   "cell_type": "code",
   "execution_count": 32,
   "metadata": {},
   "outputs": [
    {
     "data": {
      "text/plain": [
       "3.5"
      ]
     },
     "execution_count": 32,
     "metadata": {},
     "output_type": "execute_result"
    }
   ],
   "source": [
    "dicionario.values()"
   ]
  },
  {
   "cell_type": "markdown",
   "metadata": {},
   "source": [
    "Com series pandas também podemos acessar os valores, porém, o retorno será um array."
   ]
  },
  {
   "cell_type": "code",
   "execution_count": 38,
   "metadata": {},
   "outputs": [
    {
     "name": "stdout",
     "output_type": "stream",
     "text": [
      "[ 3.5  1.9 10.9]\n",
      "==================================================\n",
      "<bound method Series.keys of tomate     3.5\n",
      "agua       1.9\n",
      "coca      10.9\n",
      "dtype: float64>\n"
     ]
    }
   ],
   "source": [
    "print(serie_dicionario.values)\n",
    "print('='*50)\n",
    "print(serie_dicionario.keys)"
   ]
  },
  {
   "cell_type": "code",
   "execution_count": 39,
   "metadata": {},
   "outputs": [
    {
     "data": {
      "text/plain": [
       "Index(['tomate', 'agua', 'coca'], dtype='object')"
      ]
     },
     "execution_count": 39,
     "metadata": {},
     "output_type": "execute_result"
    }
   ],
   "source": [
    "# INDEX\n",
    "serie_dicionario.index"
   ]
  },
  {
   "cell_type": "markdown",
   "metadata": {},
   "source": [
    "### INDEXAÇÃO"
   ]
  },
  {
   "cell_type": "code",
   "execution_count": 40,
   "metadata": {},
   "outputs": [
    {
     "name": "stderr",
     "output_type": "stream",
     "text": [
      "/tmp/ipykernel_35883/1769963325.py:1: FutureWarning: Series.__getitem__ treating keys as positions is deprecated. In a future version, integer keys will always be treated as labels (consistent with DataFrame behavior). To access a value by position, use `ser.iloc[pos]`\n",
      "  serie_dicionario[0]\n"
     ]
    },
    {
     "data": {
      "text/plain": [
       "np.float64(3.5)"
      ]
     },
     "execution_count": 40,
     "metadata": {},
     "output_type": "execute_result"
    }
   ],
   "source": [
    "# ainda pode ser feito, mas gera um warning. tratar com ILOC\n",
    "serie_dicionario[0]"
   ]
  },
  {
   "cell_type": "code",
   "execution_count": 42,
   "metadata": {},
   "outputs": [
    {
     "name": "stdout",
     "output_type": "stream",
     "text": [
      "10.9\n"
     ]
    },
    {
     "name": "stderr",
     "output_type": "stream",
     "text": [
      "/tmp/ipykernel_35883/1101357398.py:2: FutureWarning: Series.__getitem__ treating keys as positions is deprecated. In a future version, integer keys will always be treated as labels (consistent with DataFrame behavior). To access a value by position, use `ser.iloc[pos]`\n",
      "  print(serie_dicionario[-1])\n"
     ]
    }
   ],
   "source": [
    "# Porém não aceita indices negativos\n",
    "# Mas por algum motivo agora funcionou, mas não deve ser feito. \n",
    "print(serie_dicionario[-1])"
   ]
  },
  {
   "cell_type": "markdown",
   "metadata": {},
   "source": [
    "#### Slice"
   ]
  },
  {
   "cell_type": "code",
   "execution_count": 46,
   "metadata": {},
   "outputs": [
    {
     "data": {
      "text/plain": [
       "0    12\n",
       "1    15\n",
       "2    23\n",
       "3    34\n",
       "4    12\n",
       "5    87\n",
       "6     2\n",
       "dtype: int64"
      ]
     },
     "execution_count": 46,
     "metadata": {},
     "output_type": "execute_result"
    }
   ],
   "source": [
    "array_serie"
   ]
  },
  {
   "cell_type": "code",
   "execution_count": 47,
   "metadata": {},
   "outputs": [
    {
     "data": {
      "text/plain": [
       "1    15\n",
       "2    23\n",
       "3    34\n",
       "4    12\n",
       "dtype: int64"
      ]
     },
     "execution_count": 47,
     "metadata": {},
     "output_type": "execute_result"
    }
   ],
   "source": [
    "array_serie[1:5]"
   ]
  },
  {
   "cell_type": "markdown",
   "metadata": {},
   "source": [
    "#### Labels"
   ]
  },
  {
   "cell_type": "code",
   "execution_count": 49,
   "metadata": {},
   "outputs": [
    {
     "name": "stdout",
     "output_type": "stream",
     "text": [
      "0    12\n",
      "1    15\n",
      "2    23\n",
      "3    34\n",
      "4    12\n",
      "5    87\n",
      "6     2\n",
      "dtype: int64\n"
     ]
    }
   ],
   "source": [
    "print(array_serie)"
   ]
  },
  {
   "cell_type": "code",
   "execution_count": 51,
   "metadata": {},
   "outputs": [],
   "source": [
    "# Posso dar nomes aos indices\n",
    "lista_numeros = [1,2,3,4,5,6,7]\n",
    "lista_index = ['a','b','c','d','e','f','g']\n",
    "\n",
    "seria_indexada = pd.Series(index=lista_index, data=lista_numeros)"
   ]
  },
  {
   "cell_type": "code",
   "execution_count": 52,
   "metadata": {},
   "outputs": [
    {
     "data": {
      "text/plain": [
       "a    1\n",
       "b    2\n",
       "c    3\n",
       "d    4\n",
       "e    5\n",
       "f    6\n",
       "g    7\n",
       "dtype: int64"
      ]
     },
     "execution_count": 52,
     "metadata": {},
     "output_type": "execute_result"
    }
   ],
   "source": [
    "seria_indexada"
   ]
  },
  {
   "cell_type": "markdown",
   "metadata": {},
   "source": [
    "### OPERAÇÕES MATEMÁTICAS"
   ]
  },
  {
   "cell_type": "code",
   "execution_count": 57,
   "metadata": {},
   "outputs": [
    {
     "data": {
      "text/plain": [
       "tomate    13.5\n",
       "agua      11.9\n",
       "coca      20.9\n",
       "dtype: float64"
      ]
     },
     "execution_count": 57,
     "metadata": {},
     "output_type": "execute_result"
    }
   ],
   "source": [
    "# aumentando os preços do dicionario\n",
    "serie_dicionario + 10"
   ]
  },
  {
   "cell_type": "markdown",
   "metadata": {},
   "source": [
    "tudo que podia ser utilizado em um array pode ser utilizado em uma serie."
   ]
  },
  {
   "cell_type": "code",
   "execution_count": 58,
   "metadata": {},
   "outputs": [
    {
     "data": {
      "text/plain": [
       "tomate     35.0\n",
       "agua       19.0\n",
       "coca      109.0\n",
       "dtype: float64"
      ]
     },
     "execution_count": 58,
     "metadata": {},
     "output_type": "execute_result"
    }
   ],
   "source": [
    "serie_dicionario * 10"
   ]
  },
  {
   "cell_type": "markdown",
   "metadata": {},
   "source": [
    "### Métodos do Pandas"
   ]
  },
  {
   "cell_type": "code",
   "execution_count": 68,
   "metadata": {},
   "outputs": [],
   "source": [
    "notas = [3.4, 7.8, 2.3, 9.5, 4.7, 6.1, 8.3, 1.2, 5.6, 7.4, 2.9, 9.3, 4.5, 6.7, 8.9, 1.4, 5.2, 7.6, 2.4, 9.3, 4.1, 6.8, 8.3, 1.7, 5.8, 7.1,6.1, 2.6, 9.7]\n",
    "serie_notas = pd.Series(notas)"
   ]
  },
  {
   "cell_type": "code",
   "execution_count": 61,
   "metadata": {},
   "outputs": [
    {
     "data": {
      "text/plain": [
       "count    28.000000\n",
       "mean      5.732143\n",
       "std       2.718531\n",
       "min       1.200000\n",
       "25%       3.275000\n",
       "50%       5.950000\n",
       "75%       7.925000\n",
       "max       9.700000\n",
       "dtype: float64"
      ]
     },
     "execution_count": 61,
     "metadata": {},
     "output_type": "execute_result"
    }
   ],
   "source": [
    "serie_notas.describe()"
   ]
  },
  {
   "cell_type": "code",
   "execution_count": 69,
   "metadata": {},
   "outputs": [
    {
     "data": {
      "text/plain": [
       "7     1.2\n",
       "15    1.4\n",
       "23    1.7\n",
       "2     2.3\n",
       "18    2.4\n",
       "27    2.6\n",
       "10    2.9\n",
       "0     3.4\n",
       "20    4.1\n",
       "12    4.5\n",
       "4     4.7\n",
       "16    5.2\n",
       "8     5.6\n",
       "24    5.8\n",
       "5     6.1\n",
       "26    6.1\n",
       "13    6.7\n",
       "21    6.8\n",
       "25    7.1\n",
       "9     7.4\n",
       "17    7.6\n",
       "1     7.8\n",
       "22    8.3\n",
       "6     8.3\n",
       "14    8.9\n",
       "11    9.3\n",
       "19    9.3\n",
       "3     9.5\n",
       "28    9.7\n",
       "dtype: float64"
      ]
     },
     "execution_count": 69,
     "metadata": {},
     "output_type": "execute_result"
    }
   ],
   "source": [
    "# Ordenar valores mantendo o indice original\n",
    "serie_notas.sort_values()"
   ]
  },
  {
   "cell_type": "code",
   "execution_count": 70,
   "metadata": {},
   "outputs": [
    {
     "data": {
      "text/plain": [
       "array([3.4, 7.8, 2.3, 9.5, 4.7, 6.1, 8.3, 1.2, 5.6, 7.4, 2.9, 9.3, 4.5,\n",
       "       6.7, 8.9, 1.4, 5.2, 7.6, 2.4, 4.1, 6.8, 1.7, 5.8, 7.1, 2.6, 9.7])"
      ]
     },
     "execution_count": 70,
     "metadata": {},
     "output_type": "execute_result"
    }
   ],
   "source": [
    "# Exibir valores únicos\n",
    "serie_notas.unique()"
   ]
  },
  {
   "cell_type": "code",
   "execution_count": 72,
   "metadata": {},
   "outputs": [
    {
     "data": {
      "text/plain": [
       "26"
      ]
     },
     "execution_count": 72,
     "metadata": {},
     "output_type": "execute_result"
    }
   ],
   "source": [
    "# Exibir a quantidade de valores únicos\n",
    "serie_notas.nunique()"
   ]
  },
  {
   "cell_type": "code",
   "execution_count": 74,
   "metadata": {},
   "outputs": [
    {
     "data": {
      "text/plain": [
       "8.3    2\n",
       "6.1    2\n",
       "9.3    2\n",
       "7.8    1\n",
       "9.5    1\n",
       "3.4    1\n",
       "4.7    1\n",
       "1.2    1\n",
       "5.6    1\n",
       "2.3    1\n",
       "7.4    1\n",
       "2.9    1\n",
       "4.5    1\n",
       "6.7    1\n",
       "8.9    1\n",
       "1.4    1\n",
       "5.2    1\n",
       "7.6    1\n",
       "2.4    1\n",
       "4.1    1\n",
       "6.8    1\n",
       "1.7    1\n",
       "5.8    1\n",
       "7.1    1\n",
       "2.6    1\n",
       "9.7    1\n",
       "Name: count, dtype: int64"
      ]
     },
     "execution_count": 74,
     "metadata": {},
     "output_type": "execute_result"
    }
   ],
   "source": [
    "# Exibir a quantidade ordenada de cada elemento. \n",
    "serie_notas.value_counts()"
   ]
  },
  {
   "cell_type": "code",
   "execution_count": 75,
   "metadata": {},
   "outputs": [
    {
     "data": {
      "text/plain": [
       "8.3    0.068966\n",
       "6.1    0.068966\n",
       "9.3    0.068966\n",
       "7.8    0.034483\n",
       "9.5    0.034483\n",
       "3.4    0.034483\n",
       "4.7    0.034483\n",
       "1.2    0.034483\n",
       "5.6    0.034483\n",
       "2.3    0.034483\n",
       "7.4    0.034483\n",
       "2.9    0.034483\n",
       "4.5    0.034483\n",
       "6.7    0.034483\n",
       "8.9    0.034483\n",
       "1.4    0.034483\n",
       "5.2    0.034483\n",
       "7.6    0.034483\n",
       "2.4    0.034483\n",
       "4.1    0.034483\n",
       "6.8    0.034483\n",
       "1.7    0.034483\n",
       "5.8    0.034483\n",
       "7.1    0.034483\n",
       "2.6    0.034483\n",
       "9.7    0.034483\n",
       "Name: proportion, dtype: float64"
      ]
     },
     "execution_count": 75,
     "metadata": {},
     "output_type": "execute_result"
    }
   ],
   "source": [
    "# Exibir a quantidade ordenada de cada elemento em porcentagem. \n",
    "serie_notas.value_counts(normalize=True)"
   ]
  },
  {
   "cell_type": "code",
   "execution_count": 78,
   "metadata": {},
   "outputs": [
    {
     "data": {
      "text/plain": [
       "8.3    6.90\n",
       "6.1    6.90\n",
       "9.3    6.90\n",
       "7.8    3.45\n",
       "9.5    3.45\n",
       "3.4    3.45\n",
       "4.7    3.45\n",
       "1.2    3.45\n",
       "5.6    3.45\n",
       "2.3    3.45\n",
       "7.4    3.45\n",
       "2.9    3.45\n",
       "4.5    3.45\n",
       "6.7    3.45\n",
       "8.9    3.45\n",
       "1.4    3.45\n",
       "5.2    3.45\n",
       "7.6    3.45\n",
       "2.4    3.45\n",
       "4.1    3.45\n",
       "6.8    3.45\n",
       "1.7    3.45\n",
       "5.8    3.45\n",
       "7.1    3.45\n",
       "2.6    3.45\n",
       "9.7    3.45\n",
       "Name: proportion, dtype: float64"
      ]
     },
     "execution_count": 78,
     "metadata": {},
     "output_type": "execute_result"
    }
   ],
   "source": [
    "# exibir porcentagem\n",
    "serie_notas.value_counts(normalize=True).mul(100).round(2)"
   ]
  },
  {
   "cell_type": "code",
   "execution_count": 79,
   "metadata": {},
   "outputs": [
    {
     "data": {
      "text/plain": [
       "8.3     6.9 %\n",
       "6.1     6.9 %\n",
       "9.3     6.9 %\n",
       "7.8    3.45 %\n",
       "9.5    3.45 %\n",
       "3.4    3.45 %\n",
       "4.7    3.45 %\n",
       "1.2    3.45 %\n",
       "5.6    3.45 %\n",
       "2.3    3.45 %\n",
       "7.4    3.45 %\n",
       "2.9    3.45 %\n",
       "4.5    3.45 %\n",
       "6.7    3.45 %\n",
       "8.9    3.45 %\n",
       "1.4    3.45 %\n",
       "5.2    3.45 %\n",
       "7.6    3.45 %\n",
       "2.4    3.45 %\n",
       "4.1    3.45 %\n",
       "6.8    3.45 %\n",
       "1.7    3.45 %\n",
       "5.8    3.45 %\n",
       "7.1    3.45 %\n",
       "2.6    3.45 %\n",
       "9.7    3.45 %\n",
       "Name: proportion, dtype: object"
      ]
     },
     "execution_count": 79,
     "metadata": {},
     "output_type": "execute_result"
    }
   ],
   "source": [
    "# exibir porcentagem\n",
    "serie_notas.value_counts(normalize=True).mul(100).round(2).astype(str) + \" %\""
   ]
  },
  {
   "cell_type": "code",
   "execution_count": 76,
   "metadata": {},
   "outputs": [
    {
     "data": {
      "text/plain": [
       "(1.191, 2.9]    0.241379\n",
       "(8.0, 9.7]      0.241379\n",
       "(4.6, 6.3]      0.206897\n",
       "(6.3, 8.0]      0.206897\n",
       "(2.9, 4.6]      0.103448\n",
       "Name: proportion, dtype: float64"
      ]
     },
     "execution_count": 76,
     "metadata": {},
     "output_type": "execute_result"
    }
   ],
   "source": [
    "# Exibir a quantidade ordenada de cada elemento em porcentagem. \n",
    "serie_notas.value_counts(normalize=True, bins=5)"
   ]
  },
  {
   "cell_type": "code",
   "execution_count": 82,
   "metadata": {},
   "outputs": [
    {
     "data": {
      "text/plain": [
       "(1.191, 2.9]    24.14 %\n",
       "(8.0, 9.7]      24.14 %\n",
       "(4.6, 6.3]      20.69 %\n",
       "(6.3, 8.0]      20.69 %\n",
       "(2.9, 4.6]      10.34 %\n",
       "Name: proportion, dtype: object"
      ]
     },
     "execution_count": 82,
     "metadata": {},
     "output_type": "execute_result"
    }
   ],
   "source": [
    "serie_notas.value_counts(normalize=True, bins=5).mul(100).round(2).astype(str) + \" %\""
   ]
  },
  {
   "cell_type": "code",
   "execution_count": 83,
   "metadata": {},
   "outputs": [
    {
     "data": {
      "text/plain": [
       "np.float64(166.7)"
      ]
     },
     "execution_count": 83,
     "metadata": {},
     "output_type": "execute_result"
    }
   ],
   "source": [
    "serie_notas.sum()"
   ]
  },
  {
   "cell_type": "code",
   "execution_count": 84,
   "metadata": {},
   "outputs": [
    {
     "data": {
      "text/plain": [
       "np.float64(5.748275862068965)"
      ]
     },
     "execution_count": 84,
     "metadata": {},
     "output_type": "execute_result"
    }
   ],
   "source": [
    "serie_notas.mean()"
   ]
  },
  {
   "cell_type": "code",
   "execution_count": 85,
   "metadata": {},
   "outputs": [
    {
     "data": {
      "text/plain": [
       "np.float64(1.2)"
      ]
     },
     "execution_count": 85,
     "metadata": {},
     "output_type": "execute_result"
    }
   ],
   "source": [
    "serie_notas.min()"
   ]
  },
  {
   "cell_type": "code",
   "execution_count": 87,
   "metadata": {},
   "outputs": [
    {
     "data": {
      "text/plain": [
       "np.float64(9.7)"
      ]
     },
     "execution_count": 87,
     "metadata": {},
     "output_type": "execute_result"
    }
   ],
   "source": [
    "serie_notas.max()"
   ]
  },
  {
   "cell_type": "code",
   "execution_count": 88,
   "metadata": {},
   "outputs": [
    {
     "data": {
      "text/plain": [
       "np.float64(2.6769679929853436)"
      ]
     },
     "execution_count": 88,
     "metadata": {},
     "output_type": "execute_result"
    }
   ],
   "source": [
    "serie_notas.std()"
   ]
  },
  {
   "cell_type": "code",
   "execution_count": 89,
   "metadata": {},
   "outputs": [
    {
     "data": {
      "text/plain": [
       "np.float64(6.1)"
      ]
     },
     "execution_count": 89,
     "metadata": {},
     "output_type": "execute_result"
    }
   ],
   "source": [
    "serie_notas.median()"
   ]
  },
  {
   "cell_type": "code",
   "execution_count": 90,
   "metadata": {},
   "outputs": [
    {
     "data": {
      "text/plain": [
       "0    6.1\n",
       "1    8.3\n",
       "2    9.3\n",
       "dtype: float64"
      ]
     },
     "execution_count": 90,
     "metadata": {},
     "output_type": "execute_result"
    }
   ],
   "source": [
    "serie_notas.mode()"
   ]
  },
  {
   "cell_type": "code",
   "execution_count": 91,
   "metadata": {},
   "outputs": [
    {
     "data": {
      "text/plain": [
       "np.float64(3.4)"
      ]
     },
     "execution_count": 91,
     "metadata": {},
     "output_type": "execute_result"
    }
   ],
   "source": [
    "serie_notas.quantile(0.25)"
   ]
  },
  {
   "cell_type": "code",
   "execution_count": 92,
   "metadata": {},
   "outputs": [
    {
     "data": {
      "text/plain": [
       "np.float64(7.8)"
      ]
     },
     "execution_count": 92,
     "metadata": {},
     "output_type": "execute_result"
    }
   ],
   "source": [
    "serie_notas.quantile(0.75)"
   ]
  },
  {
   "cell_type": "code",
   "execution_count": 94,
   "metadata": {},
   "outputs": [
    {
     "data": {
      "text/plain": [
       "np.float64(2.18)"
      ]
     },
     "execution_count": 94,
     "metadata": {},
     "output_type": "execute_result"
    }
   ],
   "source": [
    "serie_notas.quantile(0.1)"
   ]
  },
  {
   "cell_type": "code",
   "execution_count": 95,
   "metadata": {},
   "outputs": [
    {
     "data": {
      "text/plain": [
       "count    29.000000\n",
       "mean      5.748276\n",
       "std       2.676968\n",
       "min       1.200000\n",
       "25%       3.400000\n",
       "50%       6.100000\n",
       "75%       7.800000\n",
       "max       9.700000\n",
       "dtype: float64"
      ]
     },
     "execution_count": 95,
     "metadata": {},
     "output_type": "execute_result"
    }
   ],
   "source": [
    "serie_notas.describe()"
   ]
  },
  {
   "cell_type": "code",
   "execution_count": 96,
   "metadata": {},
   "outputs": [
    {
     "data": {
      "text/plain": [
       "count    29.000000\n",
       "mean      5.748276\n",
       "std       2.676968\n",
       "min       1.200000\n",
       "0%        1.200000\n",
       "10%       2.180000\n",
       "20%       2.780000\n",
       "30%       4.260000\n",
       "40%       5.280000\n",
       "50%       6.100000\n",
       "60%       6.780000\n",
       "70%       7.520000\n",
       "80%       8.300000\n",
       "max       9.700000\n",
       "dtype: float64"
      ]
     },
     "execution_count": 96,
     "metadata": {},
     "output_type": "execute_result"
    }
   ],
   "source": [
    "serie_notas.describe(percentiles=np.arange(0, 0.9, 0.1))"
   ]
  },
  {
   "cell_type": "markdown",
   "metadata": {},
   "source": [
    "**2)** Considere uma série de notas de alunos:\n",
    " \n",
    " notas = pd.Series([10, 8, 6.5, 9, 7.5, 8.5, 9, 9, 4, 8.5, 7.5,\n",
    "                   8, 10, 10, 4.5, 4.5, 9, 8, 8, 9, 9, 9, 6.5,\n",
    "                   5, 6, 4.5, 9, 10, 1, 0,5, 7, 9, 6.5, 5, 8])\n",
    "                   \n",
    "Determine:\n",
    "\n",
    "**a)** A nota média\n",
    "\n",
    "**b)** O desvio padrão\n",
    "\n",
    "**c)** A moda\n",
    "\n",
    "**d)** A mediana"
   ]
  },
  {
   "cell_type": "code",
   "execution_count": 97,
   "metadata": {},
   "outputs": [],
   "source": [
    "notas = pd.Series([10, 8, 6.5, 9, 7.5, 8.5, 9, 9, 4, 8.5, 7.5,\n",
    "                   8, 10, 10, 4.5, 4.5, 9, 8, 8, 9, 9, 9, 6.5,\n",
    "                   5, 6, 4.5, 9, 10, 1, 0,5, 7, 9, 6.5, 5, 8])"
   ]
  },
  {
   "cell_type": "code",
   "execution_count": 100,
   "metadata": {},
   "outputs": [
    {
     "name": "stdout",
     "output_type": "stream",
     "text": [
      "Media: 7.19\n"
     ]
    }
   ],
   "source": [
    "media = notas.mean().round(2)\n",
    "print(f\"Media: {media}\")"
   ]
  },
  {
   "cell_type": "code",
   "execution_count": 110,
   "metadata": {},
   "outputs": [
    {
     "name": "stdout",
     "output_type": "stream",
     "text": [
      "Desvio Padrão: 2.43\n"
     ]
    }
   ],
   "source": [
    "desvio = notas.std().round(2)\n",
    "print(f\"Desvio Padrão: {desvio}\")"
   ]
  },
  {
   "cell_type": "code",
   "execution_count": 111,
   "metadata": {},
   "outputs": [
    {
     "name": "stdout",
     "output_type": "stream",
     "text": [
      "Moda: 9.0\n"
     ]
    }
   ],
   "source": [
    "moda = notas.mode().values[0].round(2)\n",
    "print(f\"Moda: {moda}\")"
   ]
  },
  {
   "cell_type": "code",
   "execution_count": 103,
   "metadata": {},
   "outputs": [
    {
     "name": "stdout",
     "output_type": "stream",
     "text": [
      "Mediana: 8.0\n"
     ]
    }
   ],
   "source": [
    "mediana = notas.median().round(2)\n",
    "print(f\"Mediana: {mediana}\")"
   ]
  },
  {
   "cell_type": "code",
   "execution_count": 108,
   "metadata": {},
   "outputs": [
    {
     "data": {
      "text/plain": [
       "0     3.4\n",
       "1     7.8\n",
       "2     2.3\n",
       "3     9.5\n",
       "4     4.7\n",
       "5     6.1\n",
       "6     8.3\n",
       "7     1.2\n",
       "8     5.6\n",
       "9     7.4\n",
       "10    2.9\n",
       "11    9.0\n",
       "12    4.5\n",
       "13    6.7\n",
       "14    8.9\n",
       "15    1.4\n",
       "16    5.2\n",
       "17    7.6\n",
       "18    2.4\n",
       "19    9.3\n",
       "20    4.1\n",
       "21    6.8\n",
       "22    8.5\n",
       "23    1.7\n",
       "24    5.8\n",
       "25    7.1\n",
       "26    2.6\n",
       "27    9.7\n",
       "dtype: float64"
      ]
     },
     "execution_count": 108,
     "metadata": {},
     "output_type": "execute_result"
    }
   ],
   "source": [
    "lista = [3.4, 7.8, 2.3, 9.5, 4.7, 6.1, 8.3, 1.2, 5.6, 7.4, 2.9, 9.0, 4.5, 6.7, 8.9, 1.4, 5.2, 7.6, 2.4, 9.3, 4.1, 6.8, 8.5, 1.7, 5.8, 7.1, 2.6, 9.7]\n",
    "\n",
    "notas2 = pd.Series(lista)\n",
    "notas2"
   ]
  },
  {
   "cell_type": "code",
   "execution_count": 106,
   "metadata": {},
   "outputs": [
    {
     "data": {
      "text/plain": [
       "count    28.000000\n",
       "mean      5.732143\n",
       "std       2.718531\n",
       "min       1.200000\n",
       "25%       3.275000\n",
       "50%       5.950000\n",
       "75%       7.925000\n",
       "max       9.700000\n",
       "dtype: float64"
      ]
     },
     "execution_count": 106,
     "metadata": {},
     "output_type": "execute_result"
    }
   ],
   "source": [
    "notas2.describe()"
   ]
  },
  {
   "cell_type": "code",
   "execution_count": 109,
   "metadata": {},
   "outputs": [
    {
     "data": {
      "text/plain": [
       "28"
      ]
     },
     "execution_count": 109,
     "metadata": {},
     "output_type": "execute_result"
    }
   ],
   "source": [
    "notas2.nunique()"
   ]
  },
  {
   "cell_type": "markdown",
   "metadata": {},
   "source": [
    "## DataFrame"
   ]
  },
  {
   "cell_type": "code",
   "execution_count": 113,
   "metadata": {},
   "outputs": [
    {
     "data": {
      "text/html": [
       "<div>\n",
       "<style scoped>\n",
       "    .dataframe tbody tr th:only-of-type {\n",
       "        vertical-align: middle;\n",
       "    }\n",
       "\n",
       "    .dataframe tbody tr th {\n",
       "        vertical-align: top;\n",
       "    }\n",
       "\n",
       "    .dataframe thead th {\n",
       "        text-align: right;\n",
       "    }\n",
       "</style>\n",
       "<table border=\"1\" class=\"dataframe\">\n",
       "  <thead>\n",
       "    <tr style=\"text-align: right;\">\n",
       "      <th></th>\n",
       "      <th>0</th>\n",
       "    </tr>\n",
       "  </thead>\n",
       "  <tbody>\n",
       "    <tr>\n",
       "      <th>0</th>\n",
       "      <td>10.0</td>\n",
       "    </tr>\n",
       "    <tr>\n",
       "      <th>1</th>\n",
       "      <td>8.0</td>\n",
       "    </tr>\n",
       "    <tr>\n",
       "      <th>2</th>\n",
       "      <td>6.5</td>\n",
       "    </tr>\n",
       "    <tr>\n",
       "      <th>3</th>\n",
       "      <td>9.0</td>\n",
       "    </tr>\n",
       "    <tr>\n",
       "      <th>4</th>\n",
       "      <td>7.5</td>\n",
       "    </tr>\n",
       "    <tr>\n",
       "      <th>5</th>\n",
       "      <td>8.5</td>\n",
       "    </tr>\n",
       "    <tr>\n",
       "      <th>6</th>\n",
       "      <td>9.0</td>\n",
       "    </tr>\n",
       "    <tr>\n",
       "      <th>7</th>\n",
       "      <td>9.0</td>\n",
       "    </tr>\n",
       "    <tr>\n",
       "      <th>8</th>\n",
       "      <td>4.0</td>\n",
       "    </tr>\n",
       "    <tr>\n",
       "      <th>9</th>\n",
       "      <td>8.5</td>\n",
       "    </tr>\n",
       "    <tr>\n",
       "      <th>10</th>\n",
       "      <td>7.5</td>\n",
       "    </tr>\n",
       "    <tr>\n",
       "      <th>11</th>\n",
       "      <td>8.0</td>\n",
       "    </tr>\n",
       "    <tr>\n",
       "      <th>12</th>\n",
       "      <td>10.0</td>\n",
       "    </tr>\n",
       "    <tr>\n",
       "      <th>13</th>\n",
       "      <td>10.0</td>\n",
       "    </tr>\n",
       "    <tr>\n",
       "      <th>14</th>\n",
       "      <td>4.5</td>\n",
       "    </tr>\n",
       "    <tr>\n",
       "      <th>15</th>\n",
       "      <td>4.5</td>\n",
       "    </tr>\n",
       "    <tr>\n",
       "      <th>16</th>\n",
       "      <td>9.0</td>\n",
       "    </tr>\n",
       "    <tr>\n",
       "      <th>17</th>\n",
       "      <td>8.0</td>\n",
       "    </tr>\n",
       "    <tr>\n",
       "      <th>18</th>\n",
       "      <td>8.0</td>\n",
       "    </tr>\n",
       "    <tr>\n",
       "      <th>19</th>\n",
       "      <td>9.0</td>\n",
       "    </tr>\n",
       "    <tr>\n",
       "      <th>20</th>\n",
       "      <td>9.0</td>\n",
       "    </tr>\n",
       "    <tr>\n",
       "      <th>21</th>\n",
       "      <td>9.0</td>\n",
       "    </tr>\n",
       "    <tr>\n",
       "      <th>22</th>\n",
       "      <td>6.5</td>\n",
       "    </tr>\n",
       "    <tr>\n",
       "      <th>23</th>\n",
       "      <td>5.0</td>\n",
       "    </tr>\n",
       "    <tr>\n",
       "      <th>24</th>\n",
       "      <td>6.0</td>\n",
       "    </tr>\n",
       "    <tr>\n",
       "      <th>25</th>\n",
       "      <td>4.5</td>\n",
       "    </tr>\n",
       "    <tr>\n",
       "      <th>26</th>\n",
       "      <td>9.0</td>\n",
       "    </tr>\n",
       "    <tr>\n",
       "      <th>27</th>\n",
       "      <td>10.0</td>\n",
       "    </tr>\n",
       "    <tr>\n",
       "      <th>28</th>\n",
       "      <td>1.0</td>\n",
       "    </tr>\n",
       "    <tr>\n",
       "      <th>29</th>\n",
       "      <td>0.0</td>\n",
       "    </tr>\n",
       "    <tr>\n",
       "      <th>30</th>\n",
       "      <td>5.0</td>\n",
       "    </tr>\n",
       "    <tr>\n",
       "      <th>31</th>\n",
       "      <td>7.0</td>\n",
       "    </tr>\n",
       "    <tr>\n",
       "      <th>32</th>\n",
       "      <td>9.0</td>\n",
       "    </tr>\n",
       "    <tr>\n",
       "      <th>33</th>\n",
       "      <td>6.5</td>\n",
       "    </tr>\n",
       "    <tr>\n",
       "      <th>34</th>\n",
       "      <td>5.0</td>\n",
       "    </tr>\n",
       "    <tr>\n",
       "      <th>35</th>\n",
       "      <td>8.0</td>\n",
       "    </tr>\n",
       "  </tbody>\n",
       "</table>\n",
       "</div>"
      ],
      "text/plain": [
       "       0\n",
       "0   10.0\n",
       "1    8.0\n",
       "2    6.5\n",
       "3    9.0\n",
       "4    7.5\n",
       "5    8.5\n",
       "6    9.0\n",
       "7    9.0\n",
       "8    4.0\n",
       "9    8.5\n",
       "10   7.5\n",
       "11   8.0\n",
       "12  10.0\n",
       "13  10.0\n",
       "14   4.5\n",
       "15   4.5\n",
       "16   9.0\n",
       "17   8.0\n",
       "18   8.0\n",
       "19   9.0\n",
       "20   9.0\n",
       "21   9.0\n",
       "22   6.5\n",
       "23   5.0\n",
       "24   6.0\n",
       "25   4.5\n",
       "26   9.0\n",
       "27  10.0\n",
       "28   1.0\n",
       "29   0.0\n",
       "30   5.0\n",
       "31   7.0\n",
       "32   9.0\n",
       "33   6.5\n",
       "34   5.0\n",
       "35   8.0"
      ]
     },
     "execution_count": 113,
     "metadata": {},
     "output_type": "execute_result"
    }
   ],
   "source": [
    "df_notas = pd.DataFrame(notas)\n",
    "df_notas"
   ]
  },
  {
   "cell_type": "code",
   "execution_count": 114,
   "metadata": {},
   "outputs": [],
   "source": [
    "dictionary = {'Alunos': ['Sandro', 'Rafael', 'Tiago', 'André', 'Camila', 'Teo', 'Carlos', 'Juca', 'Carla'],\n",
    "              'Notas': [8, 10, 9.5, 7.5, 9.5, 10, 5, 6.5, 10]}"
   ]
  },
  {
   "cell_type": "code",
   "execution_count": 116,
   "metadata": {},
   "outputs": [
    {
     "data": {
      "text/html": [
       "<div>\n",
       "<style scoped>\n",
       "    .dataframe tbody tr th:only-of-type {\n",
       "        vertical-align: middle;\n",
       "    }\n",
       "\n",
       "    .dataframe tbody tr th {\n",
       "        vertical-align: top;\n",
       "    }\n",
       "\n",
       "    .dataframe thead th {\n",
       "        text-align: right;\n",
       "    }\n",
       "</style>\n",
       "<table border=\"1\" class=\"dataframe\">\n",
       "  <thead>\n",
       "    <tr style=\"text-align: right;\">\n",
       "      <th></th>\n",
       "      <th>0</th>\n",
       "      <th>1</th>\n",
       "      <th>2</th>\n",
       "      <th>3</th>\n",
       "      <th>4</th>\n",
       "      <th>5</th>\n",
       "      <th>6</th>\n",
       "      <th>7</th>\n",
       "      <th>8</th>\n",
       "    </tr>\n",
       "  </thead>\n",
       "  <tbody>\n",
       "    <tr>\n",
       "      <th>Alunos</th>\n",
       "      <td>Sandro</td>\n",
       "      <td>Rafael</td>\n",
       "      <td>Tiago</td>\n",
       "      <td>André</td>\n",
       "      <td>Camila</td>\n",
       "      <td>Teo</td>\n",
       "      <td>Carlos</td>\n",
       "      <td>Juca</td>\n",
       "      <td>Carla</td>\n",
       "    </tr>\n",
       "    <tr>\n",
       "      <th>Notas</th>\n",
       "      <td>8.0</td>\n",
       "      <td>10.0</td>\n",
       "      <td>9.5</td>\n",
       "      <td>7.5</td>\n",
       "      <td>9.5</td>\n",
       "      <td>10.0</td>\n",
       "      <td>5.0</td>\n",
       "      <td>6.5</td>\n",
       "      <td>10.0</td>\n",
       "    </tr>\n",
       "  </tbody>\n",
       "</table>\n",
       "</div>"
      ],
      "text/plain": [
       "             0       1      2      3       4     5       6     7      8\n",
       "Alunos  Sandro  Rafael  Tiago  André  Camila   Teo  Carlos  Juca  Carla\n",
       "Notas      8.0    10.0    9.5    7.5     9.5  10.0     5.0   6.5   10.0"
      ]
     },
     "execution_count": 116,
     "metadata": {},
     "output_type": "execute_result"
    }
   ],
   "source": [
    "df_dicionario = pd.DataFrame(dictionary)\n",
    "df_dicionario.T"
   ]
  }
 ],
 "metadata": {
  "kernelspec": {
   "display_name": ".venv",
   "language": "python",
   "name": "python3"
  },
  "language_info": {
   "codemirror_mode": {
    "name": "ipython",
    "version": 3
   },
   "file_extension": ".py",
   "mimetype": "text/x-python",
   "name": "python",
   "nbconvert_exporter": "python",
   "pygments_lexer": "ipython3",
   "version": "3.12.3"
  }
 },
 "nbformat": 4,
 "nbformat_minor": 2
}
