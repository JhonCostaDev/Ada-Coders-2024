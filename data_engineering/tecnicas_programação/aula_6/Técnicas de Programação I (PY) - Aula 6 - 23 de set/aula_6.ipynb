{
 "cells": [
  {
   "cell_type": "markdown",
   "id": "721d46bf",
   "metadata": {},
   "source": [
    "# Aula 6 - EDA - Tratamento de Dados\n",
    "\n",
    "Nessa aula, iremos tratar dos seguintes conteúdos:\n",
    "- Análise Exploratória dos Dados\n",
    "- Redundância dos Dados\n",
    "- Detecção de Outliers\n",
    "- Informações Faltantes\n",
    "- Preenchimento de Dados Faltantes"
   ]
  },
  {
   "cell_type": "markdown",
   "id": "a76f73a4",
   "metadata": {},
   "source": []
  },
  {
   "cell_type": "markdown",
   "id": "e02048f2",
   "metadata": {},
   "source": [
    "<img src=\"https://i0.wp.com/www.r-exercises.com/wp-content/uploads/2017/05/monitor.png?resize=275%2C140\" width=600>"
   ]
  },
  {
   "cell_type": "markdown",
   "id": "939558ed",
   "metadata": {},
   "source": [
    "## "
   ]
  },
  {
   "cell_type": "markdown",
   "id": "9173d60f",
   "metadata": {},
   "source": [
    "## Análise Exploratória dos Dados (EDA)"
   ]
  },
  {
   "cell_type": "markdown",
   "id": "849f50c3",
   "metadata": {},
   "source": [
    " A Análise Exploratória dos Dados é o __principal processo no projeto de Data Science__, onde iremos __conhecer os dados__ e tirar __conclusões e hipóteses__ a partir de observações levantadas.<br>\n",
    " <br>\n",
    "Mas vale lembrar também que devemos __avaliar a consistência dos dados__, pois se existirem qualquer tipo de problema com os dados e tirarmos conclusões e insights encima deles, assumiremos conclusões erroneamente. Dado isso vamos aprender algumas técnicas para lidarmos com os seguintes problemas com os dados:\n",
    "- Redudância dos Dados (Dados Duplicados);\n",
    "- Detecção de Outliers;\n",
    "- Informações Faltantes."
   ]
  },
  {
   "cell_type": "markdown",
   "id": "9fda01a0",
   "metadata": {},
   "source": [
    "## Redundância dos Dados\n",
    "\n",
    "Redundância dos Dados é qualquer tipo de repetição deles que não agregam informações adicionais para a análise exploratória dos dados. Vamos ver alguns exemplos de redundâncias de dados:"
   ]
  },
  {
   "cell_type": "markdown",
   "id": "64bb714b",
   "metadata": {},
   "source": [
    "**Redundância em dados não-estruturados**\n",
    "\n",
    "Muito comum pois dados binários e textuais possuem elementos que não auxiliam na análise, temos os seguintes exemplos:\n",
    "\n",
    "- o fundo de imagens e documentos;\n",
    "\n",
    "- timbre em documentos e cartas;\n",
    "\n",
    "- tipos de palavras em textos: artigos, conjunções, etc.\n",
    "\n",
    "\n",
    "**Redundância em dados estruturados**\n",
    "\n",
    "Já para esse caso, as redundâncias estÂo diretamente relacionadas a:\n",
    "\n",
    "- linhas com valores repetidos (duplicados);\n",
    "\n",
    "- colunas com valores constantes (iguais para todas as instâncias);\n",
    "\n",
    "- colunas com alta correlação."
   ]
  },
  {
   "cell_type": "code",
   "execution_count": null,
   "id": "6110ad85",
   "metadata": {},
   "outputs": [],
   "source": []
  },
  {
   "cell_type": "code",
   "execution_count": null,
   "id": "ae82fc65",
   "metadata": {},
   "outputs": [],
   "source": []
  },
  {
   "cell_type": "code",
   "execution_count": null,
   "id": "4e54f0b4",
   "metadata": {},
   "outputs": [],
   "source": []
  },
  {
   "cell_type": "markdown",
   "id": "be90b65e",
   "metadata": {},
   "source": [
    "## "
   ]
  },
  {
   "cell_type": "markdown",
   "id": "994a7383",
   "metadata": {},
   "source": [
    "### Dados duplicados ou constantes\n",
    "\n",
    "Bases de dados que contém informações repetidas ou atributos irrelevantes para obter as respostas que se espera da análise.\n",
    "\n",
    "A redundância pode atrapalhar no projeto de modelos de aprendizado e estatísticos pois a quantidade de exemplos pode influenciar no viés do modelo.\n",
    "\n",
    "#### Redundância em bases de dados estruturadas:\n",
    "\n",
    "* Registros duplicados\n",
    "\n",
    "* Atributos com valores iguais em todas as observacoes\n",
    "\n",
    "\n",
    "Vamos carregar uma base de dados para mostrar exemplos"
   ]
  },
  {
   "cell_type": "code",
   "execution_count": null,
   "id": "8fa8a797",
   "metadata": {},
   "outputs": [],
   "source": []
  },
  {
   "cell_type": "code",
   "execution_count": null,
   "id": "24a3bb89",
   "metadata": {},
   "outputs": [],
   "source": []
  },
  {
   "cell_type": "code",
   "execution_count": null,
   "id": "5c481146",
   "metadata": {},
   "outputs": [],
   "source": []
  },
  {
   "cell_type": "markdown",
   "id": "3f5eeae4",
   "metadata": {},
   "source": [
    "#### Linhas/registros duplicados\n",
    "\n",
    "O tipo mais comum de dados redundantes são as linhas ou registros duplicados, ou seja, aquelas que possuem todos os valores de atributos iguais."
   ]
  },
  {
   "cell_type": "code",
   "execution_count": null,
   "id": "86c15b89",
   "metadata": {},
   "outputs": [],
   "source": []
  },
  {
   "cell_type": "code",
   "execution_count": null,
   "id": "81534b76",
   "metadata": {},
   "outputs": [],
   "source": []
  },
  {
   "cell_type": "code",
   "execution_count": null,
   "id": "0b80b4a1",
   "metadata": {},
   "outputs": [],
   "source": []
  },
  {
   "cell_type": "markdown",
   "id": "239ab092",
   "metadata": {},
   "source": [
    "Podemos usar a opção `keep` para manter todas as duplicatas, mostrando seus valores"
   ]
  },
  {
   "cell_type": "code",
   "execution_count": null,
   "id": "0a6e5294",
   "metadata": {},
   "outputs": [],
   "source": []
  },
  {
   "cell_type": "code",
   "execution_count": null,
   "id": "f8f6654d",
   "metadata": {},
   "outputs": [],
   "source": []
  },
  {
   "cell_type": "markdown",
   "id": "f304cfe5",
   "metadata": {},
   "source": [
    "Felizmente, temos uma funcão pronta para remover duplicatas de dataframes, `drop_duplicates()`, na qual podemos manter a primeira ocorrência da linha duplicada: `first`, a última: `last`, ou remover todas as que aparecem duplicadas: `False`."
   ]
  },
  {
   "cell_type": "code",
   "execution_count": null,
   "id": "9e8e1e3d",
   "metadata": {},
   "outputs": [],
   "source": []
  },
  {
   "cell_type": "code",
   "execution_count": null,
   "id": "52af2e9e",
   "metadata": {},
   "outputs": [],
   "source": []
  },
  {
   "cell_type": "code",
   "execution_count": null,
   "id": "fa598d96",
   "metadata": {},
   "outputs": [],
   "source": []
  },
  {
   "cell_type": "markdown",
   "id": "2ebcb206",
   "metadata": {},
   "source": [
    "#### Duplicidade em atributos\n",
    "\n",
    "A duplicidade pode gerar problemas quando aparece isolada em determinado atributo. Nessa base de dados um atributo que pode ser sensível a isso é o nome:"
   ]
  },
  {
   "cell_type": "code",
   "execution_count": null,
   "id": "e43c3123",
   "metadata": {},
   "outputs": [],
   "source": []
  },
  {
   "cell_type": "code",
   "execution_count": null,
   "id": "3ffc1e1d",
   "metadata": {},
   "outputs": [],
   "source": []
  },
  {
   "cell_type": "markdown",
   "id": "97ad18e3",
   "metadata": {},
   "source": [
    "Notamos que, apesar de ter o mesmo nome, sexo e ano de nascimento, as duas pessoas nasceram em países diferentes e portanto não há redundância ou dados duplicados a remover."
   ]
  },
  {
   "cell_type": "markdown",
   "id": "b6ab7565",
   "metadata": {},
   "source": [
    "#### Atributos constantes\n",
    "\n",
    "Apesar do valor informativo, ao construir modelos computacionais, por exemplo classificadores, esses atributos representam um aumento na dimensionalidade sem contribuir para a tarefa principal, classificação.\n",
    "\n",
    "Podemos usar o método `nunique()` para obter a contagem de valores distintos"
   ]
  },
  {
   "cell_type": "code",
   "execution_count": null,
   "id": "749cd231",
   "metadata": {},
   "outputs": [],
   "source": []
  },
  {
   "cell_type": "code",
   "execution_count": null,
   "id": "50253a3b",
   "metadata": {},
   "outputs": [],
   "source": []
  },
  {
   "cell_type": "markdown",
   "id": "e126bc1e",
   "metadata": {},
   "source": [
    "### E quando temos dados errôneos?\n"
   ]
  },
  {
   "cell_type": "markdown",
   "id": "6be1e991",
   "metadata": {},
   "source": [
    "As vezes temos um caso onde um dado é adicionado erroneamente, nesse caso, podemos usar o método loc"
   ]
  },
  {
   "cell_type": "code",
   "execution_count": null,
   "id": "dc1dbc02",
   "metadata": {},
   "outputs": [],
   "source": []
  },
  {
   "cell_type": "code",
   "execution_count": null,
   "id": "16ebcf6c",
   "metadata": {},
   "outputs": [],
   "source": []
  },
  {
   "cell_type": "markdown",
   "id": "a8596242",
   "metadata": {},
   "source": [
    "## "
   ]
  },
  {
   "cell_type": "markdown",
   "id": "2d56ced5",
   "metadata": {},
   "source": [
    "### Atributos correlacionados\n",
    "\n",
    "Alguns atributos podem estar altamente correlacionados com outros. Esses atributos oferecem pouca contribuição no sentido de melhorar o que sabemos sobre o conjunto de dados. \n",
    "\n",
    "Ainda, quando se trata de treinar modelos podemos incorrer em maior custo computacional ou problemas de convergência.\n",
    "\n",
    "Uma ferramenta interessante para entender *dependências lineares* entre atributos é a correlação.\n",
    "\n",
    "No entanto, a correlação só é computada com valores numéricos."
   ]
  },
  {
   "cell_type": "code",
   "execution_count": null,
   "id": "f5361a23",
   "metadata": {},
   "outputs": [],
   "source": []
  },
  {
   "cell_type": "code",
   "execution_count": null,
   "id": "ed6bea03",
   "metadata": {},
   "outputs": [],
   "source": []
  },
  {
   "cell_type": "markdown",
   "id": "c2260b4c",
   "metadata": {},
   "source": [
    "Características da matriz de correlação:\n",
    "- valores negativos indicam correlação inversa\n",
    "- tem diagonal igual a 1 (auto-correlação)\n",
    "- é simétrica\n",
    "\n",
    "Vamos considerar como alta correlação atributos com valores iguais ou superiores a 0.95\n",
    "\n",
    "Para facilitar:\n",
    "- pegamos o valor absoluto da correlação, \n",
    "- consideramos apenas a matriz triangular superior - devido a simetria, e\n",
    "- não incluimos a diagonal principal (para a qual todos os valores são 1)"
   ]
  },
  {
   "cell_type": "code",
   "execution_count": null,
   "id": "fa20e587",
   "metadata": {},
   "outputs": [],
   "source": []
  },
  {
   "cell_type": "code",
   "execution_count": null,
   "id": "aefda4dc",
   "metadata": {},
   "outputs": [],
   "source": []
  },
  {
   "cell_type": "markdown",
   "id": "6caa9cfd",
   "metadata": {},
   "source": [
    "## Exercícios"
   ]
  },
  {
   "cell_type": "markdown",
   "id": "cef08de9",
   "metadata": {},
   "source": [
    "A base de dados a ser utilizada durante todos os exercícios desta aula é `houses_to_rent.csv`.\n",
    "\n",
    "As alterações feitas em um exercício devem ser mantidas para o próximo exercício, a não ser que expressamente indicado"
   ]
  },
  {
   "cell_type": "code",
   "execution_count": null,
   "id": "a7e3204b",
   "metadata": {},
   "outputs": [],
   "source": []
  },
  {
   "cell_type": "markdown",
   "id": "f9551a4b",
   "metadata": {},
   "source": [
    "__1)__ Inspecione o tipo dos atributos e seus valores, em particular, `city` e `country`. A seguir padronize valores dos atributos do tipo `object` que apareçam como distintos mas que deveriam ser os mesmos. Considere para a correção o valor mais frequente nesse atributo. Por exemplo: se tivermos escrito a seguinte sigla em 3 formas diferentes: `S.P`, `São Paulo`, `S. PAulo.`, todas devem ser convertidas para `São Paulo`\n",
    "\n",
    "Quantas linhas relativas a valores da coluna `city` e `country`, respectivamente, estavam fora do padrão e foram corrigidas?"
   ]
  },
  {
   "cell_type": "code",
   "execution_count": null,
   "id": "dd510520",
   "metadata": {},
   "outputs": [],
   "source": []
  },
  {
   "cell_type": "code",
   "execution_count": null,
   "id": "1a5a6d7c",
   "metadata": {},
   "outputs": [],
   "source": []
  },
  {
   "cell_type": "markdown",
   "id": "cda27eee",
   "metadata": {},
   "source": [
    "__2)__ Vamos analisar possíveis atributos redundantes na base de dados. Inspecione as colunas imprimindo quantos valores únicos cada uma possui. Considerando o tamanho da base de dados e esses resultados, quais atributos são redundantes e podem ser removidos sem perda de informação?"
   ]
  },
  {
   "cell_type": "code",
   "execution_count": null,
   "id": "f8909540",
   "metadata": {},
   "outputs": [],
   "source": []
  },
  {
   "cell_type": "code",
   "execution_count": null,
   "id": "9795576c",
   "metadata": {},
   "outputs": [],
   "source": []
  },
  {
   "cell_type": "markdown",
   "id": "19b057c5",
   "metadata": {},
   "source": [
    "## Dados Faltantes"
   ]
  },
  {
   "cell_type": "markdown",
   "id": "2ac1cd66",
   "metadata": {},
   "source": [
    "Problemas com dados do tipo: faltantes (e errôneas as quais também ocasionam perdas) podem levar a impactos nos modelos estatísticos e de aprendizado.\n",
    "\n",
    "A primeira etapa é **detectar corretamente** as informações faltantes, em quais atributos ocorrem, separando em:\n",
    "- Dados faltantes: no Python `NaN`, sendo indefinidos ou não encontrados\n",
    "- Dados errôneos: valores que devem ser removidos para não prejudicar a análise. Comumente não são *outliers* mas dados corrompidos no armazenamento, transmissão ou inputação.\n",
    "\n",
    "A seguir, temos como opções\n",
    "- Remover as linhas/instâncias contendo valores faltantes\n",
    "- Preencher valores faltantes utilizando algum método"
   ]
  },
  {
   "cell_type": "code",
   "execution_count": null,
   "id": "195ab814",
   "metadata": {},
   "outputs": [],
   "source": []
  },
  {
   "cell_type": "code",
   "execution_count": 232,
   "id": "e595663d",
   "metadata": {},
   "outputs": [],
   "source": []
  },
  {
   "cell_type": "markdown",
   "id": "d67fb4a2",
   "metadata": {},
   "source": [
    "Note que:\n",
    "* `city` e `type` são do tipo object contendo strings (palavras), \n",
    "* `floor` e `tax` aparecem como object mas contendo números!\n",
    "\n",
    "Precisamos procurar por problemas e remover os valores não numéricos como `-`. \n",
    "\n",
    "Uma forma fácil é simplesmente forçar a **conversão para numérico** e atribuir `NaN` aos elementos não convertidos.\n",
    "\n",
    "1. `floor` possui um único valor não numérico `-`:"
   ]
  },
  {
   "cell_type": "code",
   "execution_count": null,
   "id": "04c2fc14",
   "metadata": {},
   "outputs": [],
   "source": []
  },
  {
   "cell_type": "markdown",
   "id": "3da1adb7",
   "metadata": {},
   "source": [
    "Esse valor parece estar relacionado ao `0` (térreo)"
   ]
  },
  {
   "cell_type": "code",
   "execution_count": null,
   "id": "6fdc4f62",
   "metadata": {
    "scrolled": true
   },
   "outputs": [],
   "source": []
  },
  {
   "cell_type": "code",
   "execution_count": null,
   "id": "ede896c0",
   "metadata": {},
   "outputs": [],
   "source": []
  },
  {
   "cell_type": "markdown",
   "id": "1a314418",
   "metadata": {},
   "source": [
    "## "
   ]
  },
  {
   "cell_type": "markdown",
   "id": "c31e31f5",
   "metadata": {},
   "source": [
    "##  Preenchimento de Dados Faltantes\n",
    "\n",
    "No experimento anterior lidamos com dados faltantes **removendo linhas**, \n",
    "\n",
    "Agora vamos carregar novamente os dados e para **preencher os dados**, mantendo o tratamento de remoção de duplicatas, dos atributos string e de remoção de outliers\n",
    "\n",
    "Há várias formas de se preencher dados faltantes:\n",
    "- **com zeros**: \n",
    "    para manter a instância e permitir o uso dos outros atributos (utilizando a função _fillna_)\n",
    "<br>    \n",
    "\n",
    "-  **pela média / mediana / moda**: similar ao anterior, mas aqui preenchemos com alguma métrica do atributo para os valores observados\n",
    "<br>    "
   ]
  },
  {
   "cell_type": "code",
   "execution_count": null,
   "id": "d9df7e5a",
   "metadata": {},
   "outputs": [],
   "source": []
  },
  {
   "cell_type": "code",
   "execution_count": null,
   "id": "8653eb67",
   "metadata": {
    "scrolled": true
   },
   "outputs": [],
   "source": []
  },
  {
   "cell_type": "markdown",
   "id": "2bc61b94",
   "metadata": {},
   "source": [
    "## "
   ]
  },
  {
   "cell_type": "markdown",
   "id": "7bb6210a",
   "metadata": {},
   "source": [
    "## Exercícios"
   ]
  },
  {
   "cell_type": "markdown",
   "id": "bd76399e",
   "metadata": {},
   "source": [
    "__3)__ Explore o dataset de Penguins do Seaborn, identifique problemas com os dados e faça as correções adequadas"
   ]
  },
  {
   "cell_type": "code",
   "execution_count": null,
   "id": "ef7e6ee8",
   "metadata": {},
   "outputs": [],
   "source": []
  },
  {
   "cell_type": "markdown",
   "id": "40f08be9",
   "metadata": {},
   "source": [
    "__4)__ Inspecione os valores dos atributos `floor` e `tax`, realizando a conversão dos mesmos para o tipo adequado. Para evitar gerar dados faltantes desnecessariamente, verifique primeiro o padrão dos dados errôneos e faltantes, e se possível preencha corretamente alguns desses valores (conforme feito em aula para o atributo `floor`).\n",
    "\n",
    "OBS: uma forma de inspecionar valores de uma coluna do tipo `object` que podem ser convertidos para dígitos numéricos é executar `dataframe[atributo].astype(str).str.isnumeric()`\n",
    "\n",
    "Após esse processo, quandos valores faltantes restaram em `floor` e `tax`, respectivamente?"
   ]
  },
  {
   "cell_type": "code",
   "execution_count": null,
   "id": "be2cd603",
   "metadata": {},
   "outputs": [],
   "source": []
  },
  {
   "cell_type": "markdown",
   "id": "00910d4e",
   "metadata": {},
   "source": [
    "## Links, Artigos e Referências:"
   ]
  },
  {
   "cell_type": "markdown",
   "id": "192d47a2",
   "metadata": {},
   "source": [
    "- [7 Must know Data Wrangling operations with Python Pandas](https://towardsdatascience.com/7-must-know-data-wrangling-operations-with-python-pandas-849438a90d15), artigo publicado pelo Towards Data Science;\n",
    "- [Data Wrangling in Pandas](https://towardsdatascience.com/data-wrangling-in-pandas-a-downloadable-cheatsheet-84326d255a7b), artigo publicado pelo Towards Data Science;\n",
    "- [A Checklist for Data Wrangling](https://towardsdatascience.com/a-checklist-for-data-wrangling-8f106c093fef), artigo publicado pelo Towards Data Science;\n",
    "- [The ultimate Guide to Data Cleaning](https://towardsdatascience.com/the-ultimate-guide-to-data-cleaning-3969843991d4), artigo publicado pelo Towards Data Science."
   ]
  }
 ],
 "metadata": {
  "kernelspec": {
   "display_name": "Python 3 (ipykernel)",
   "language": "python",
   "name": "python3"
  },
  "language_info": {
   "codemirror_mode": {
    "name": "ipython",
    "version": 3
   },
   "file_extension": ".py",
   "mimetype": "text/x-python",
   "name": "python",
   "nbconvert_exporter": "python",
   "pygments_lexer": "ipython3",
   "version": "3.10.4"
  }
 },
 "nbformat": 4,
 "nbformat_minor": 5
}
