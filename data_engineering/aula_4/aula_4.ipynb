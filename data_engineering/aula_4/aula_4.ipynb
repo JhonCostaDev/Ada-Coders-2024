{
 "cells": [
  {
   "cell_type": "markdown",
   "metadata": {},
   "source": [
    "## Contiuação Funções\n",
    "notebook da aulda\n",
    "https://colab.research.google.com/drive/1-P8qpebrVqWkTS7ivQyYvtVtf6iXnxFI?usp=sharing#scrollTo=Vfc33ya6SU0a\n",
    "* Escopo de funções"
   ]
  },
  {
   "cell_type": "code",
   "execution_count": 3,
   "metadata": {},
   "outputs": [
    {
     "name": "stdout",
     "output_type": "stream",
     "text": [
      "Boa Tarde\n"
     ]
    }
   ],
   "source": [
    "def cumprimenta_horario(nome, hora):\n",
    "    if hora < 12:\n",
    "        print(\"Bom dia\")\n",
    "    else:\n",
    "        print(\"Boa Tarde\")\n",
    "        \n",
    "cumprimenta_horario(\"Jhon\", 19)\n",
    "        "
   ]
  },
  {
   "cell_type": "code",
   "execution_count": 4,
   "metadata": {},
   "outputs": [
    {
     "data": {
      "text/plain": [
       "'Boa Noite Jhon'"
      ]
     },
     "execution_count": 4,
     "metadata": {},
     "output_type": "execute_result"
    }
   ],
   "source": [
    "def cumprimenta_horario(nome, hora):\n",
    "    if hora < 12:\n",
    "        cumprimenta = f\"Bom dia {nome}\"\n",
    "    elif hora < 18:\n",
    "        cumprimenta = f\"Boa tarde {nome}\"\n",
    "    else:\n",
    "        cumprimenta = f\"Boa Noite {nome}\"\n",
    "    return cumprimenta\n",
    "        \n",
    "cumprimenta_horario(\"Jhon\", 19)"
   ]
  },
  {
   "cell_type": "code",
   "execution_count": 5,
   "metadata": {},
   "outputs": [
    {
     "name": "stdout",
     "output_type": "stream",
     "text": [
      "100\n",
      "None\n"
     ]
    }
   ],
   "source": [
    "a = 100\n",
    "\n",
    "def teste(b):\n",
    "    print(a)\n",
    "    \n",
    "print(teste(10))    "
   ]
  },
  {
   "cell_type": "code",
   "execution_count": 6,
   "metadata": {},
   "outputs": [
    {
     "name": "stdout",
     "output_type": "stream",
     "text": [
      "[1, 2, 3, 4, 6]\n"
     ]
    }
   ],
   "source": [
    "lista_exemplo = [1, 2, 3, 4]\n",
    "\n",
    "def minha_lista(lista):\n",
    "    lista.append(6)\n",
    "    \n",
    "minha_lista(lista_exemplo)\n",
    "print(lista_exemplo)"
   ]
  },
  {
   "cell_type": "code",
   "execution_count": 9,
   "metadata": {},
   "outputs": [
    {
     "data": {
      "text/plain": [
       "6.5"
      ]
     },
     "execution_count": 9,
     "metadata": {},
     "output_type": "execute_result"
    }
   ],
   "source": [
    "def calculadora(num1, num2, operacao):\n",
    "    if operacao == '+':\n",
    "        return num1 + num2\n",
    "    elif operacao == '-':\n",
    "        return num1 - num2\n",
    "    elif operacao == '*':\n",
    "        return num1 * num2\n",
    "    elif operacao == '/':\n",
    "        return num1 / num2\n",
    "    else:\n",
    "        return f\"Operacao {operacao} invalida!\"\n",
    "    \n",
    "def media(num1, num2):\n",
    "    return calculadora( num1, num2, \"+\") / 2\n",
    "#calculadora(3, 2, \"*\")\n",
    "\n",
    "media(5, 8)\n",
    "\n"
   ]
  },
  {
   "cell_type": "markdown",
   "metadata": {},
   "source": [
    "## Valores default em funções\n",
    "É importante também destacar que conseguimos passar valores padrão(default) como argumento da nossa função."
   ]
  },
  {
   "cell_type": "code",
   "execution_count": 15,
   "metadata": {},
   "outputs": [
    {
     "name": "stdout",
     "output_type": "stream",
     "text": [
      "Hello, world--bye,world\n"
     ]
    }
   ],
   "source": [
    "print(\"Hello\", \"world\", sep=\", \", end=\"--\")\n",
    "\n",
    "print(\"bye\", \"world\", sep=\",\")"
   ]
  },
  {
   "cell_type": "markdown",
   "metadata": {},
   "source": [
    "O argumento padrão é recebido para o parâmetro \"sep\" é \" \"(espaço). Não precisamos passar argumento para ele. Nesse caso é opcional."
   ]
  },
  {
   "cell_type": "code",
   "execution_count": 16,
   "metadata": {},
   "outputs": [
    {
     "data": {
      "text/plain": [
       "10"
      ]
     },
     "execution_count": 16,
     "metadata": {},
     "output_type": "execute_result"
    }
   ],
   "source": [
    "def calculadora(num1, num2, operacao=\"+\"):\n",
    "    if operacao == '+':\n",
    "        return num1 + num2\n",
    "    elif operacao == '-':\n",
    "        return num1 - num2\n",
    "    elif operacao == '*':\n",
    "        return num1 * num2\n",
    "    elif operacao == '/':\n",
    "        return num1 / num2\n",
    "    else:\n",
    "        return f\"Operacao {operacao} invalida!\"\n",
    "    \n",
    "calculadora(5, 5)"
   ]
  },
  {
   "cell_type": "markdown",
   "metadata": {},
   "source": [
    "1) Faça uma função que recebe um texto e um letra e retorne a quantidade daquela letra naquele texto (ignore diferenças de capitalização, 'A' e 'a' são a mesma letra)"
   ]
  },
  {
   "cell_type": "code",
   "execution_count": 26,
   "metadata": {},
   "outputs": [
    {
     "name": "stdout",
     "output_type": "stream",
     "text": [
      "2\n"
     ]
    }
   ],
   "source": [
    "def letra_texto(texto, letra_procurada):\n",
    "    count_letra = 0\n",
    "    for letra in texto:\n",
    "        if letra.lower() == letra_procurada.lower():\n",
    "            count_letra += 1\n",
    "            \n",
    "    return count_letra\n",
    "            \n",
    "\n",
    "teste = 'GoiabA'\n",
    "frase = 'Não importa o quão devagar você vá, desde que você não pare. - Confúcio'\n",
    "print(letra_texto(teste, 'A'))\n"
   ]
  },
  {
   "cell_type": "markdown",
   "metadata": {},
   "source": [
    "2) Faça uma função que recebe uma string e retorna ela ao contrário."
   ]
  },
  {
   "cell_type": "code",
   "execution_count": 43,
   "metadata": {},
   "outputs": [
    {
     "data": {
      "text/plain": [
       "'adanamaM'"
      ]
     },
     "execution_count": 43,
     "metadata": {},
     "output_type": "execute_result"
    }
   ],
   "source": [
    "def string_reverse(string):\n",
    "    return string[::-1]\n",
    "\n",
    "string_reverse(\"Mamanada\")"
   ]
  },
  {
   "cell_type": "markdown",
   "metadata": {},
   "source": [
    "3 - Agora faça uma função que recebe uma palavra e diz se ela é um palíndromo, ou seja, se ela é igual a ela mesma ao contrário.\n",
    "\n",
    "Sugestão: use a função do exercício anterior."
   ]
  },
  {
   "cell_type": "code",
   "execution_count": 30,
   "metadata": {},
   "outputs": [
    {
     "name": "stdout",
     "output_type": "stream",
     "text": [
      "Não é um palíndromo!\n"
     ]
    }
   ],
   "source": [
    "def string_reverse(string):\n",
    "    return string[::-1]\n",
    "\n",
    "def verifica_palindromo(string):\n",
    "    if string == string_reverse(string):\n",
    "        print(\"É um palíndromo!\")\n",
    "    else:\n",
    "        print(\"Não é um palíndromo!\")\n",
    "        \n",
    "verifica_palindromo(\"goiaba\")"
   ]
  },
  {
   "cell_type": "markdown",
   "metadata": {},
   "source": [
    "4) Faça uma função max lista que faz a mesma coisa que a funcão max faz ao receber uma lista"
   ]
  },
  {
   "cell_type": "code",
   "execution_count": 42,
   "metadata": {},
   "outputs": [
    {
     "name": "stdout",
     "output_type": "stream",
     "text": [
      "Lista Vazia\n"
     ]
    }
   ],
   "source": [
    "def verifica_max(lista):\n",
    "    if len(lista) > 0:\n",
    "        maior = lista[0]\n",
    "        \n",
    "        for item in lista[1:]:\n",
    "            if item > maior:\n",
    "                maior = item\n",
    "        return maior\n",
    "    else:\n",
    "        return \"Lista Vazia\"  \n",
    "\n",
    "lista = [1, 2, 1092,3, 100]\n",
    "lista2 = []\n",
    "\n",
    "print(verifica_max(lista2))"
   ]
  },
  {
   "cell_type": "markdown",
   "metadata": {},
   "source": [
    "resposta progessor\n",
    "3 - Agora faça uma função que recebe uma palavra e diz se ela é um palíndromo, ou seja, se ela é igual a ela mesma ao contrário.\n",
    "\n",
    "Sugestão: use a função do exercício anterior."
   ]
  },
  {
   "cell_type": "code",
   "execution_count": 47,
   "metadata": {},
   "outputs": [
    {
     "data": {
      "text/plain": [
       "True"
      ]
     },
     "execution_count": 47,
     "metadata": {},
     "output_type": "execute_result"
    }
   ],
   "source": [
    "def is_palindrome(palavra):\n",
    "    if palavra.lower() == string_reverse(palavra.lower()):\n",
    "        return True\n",
    "    else:\n",
    "        return False\n",
    "\n",
    "is_palindrome(\"esse\")"
   ]
  },
  {
   "cell_type": "markdown",
   "metadata": {},
   "source": [
    "# Funções com funções e parâmetros de funções\n",
    "\n",
    "Uma função é um objeto utilizado para fazer determinadas ações.\n",
    "\n",
    "Podemos pensar como uma máquina que quando inserirmos argumentos nos seus parâmetros faz algo e pode ou não retornar algo.\n",
    "\n",
    "Uma função, assim como outras "
   ]
  },
  {
   "cell_type": "code",
   "execution_count": null,
   "metadata": {},
   "outputs": [],
   "source": [
    "var1 = 2\n",
    "var2 = sum"
   ]
  },
  {
   "cell_type": "markdown",
   "metadata": {},
   "source": [
    "As funções também conseguem ser "
   ]
  },
  {
   "cell_type": "code",
   "execution_count": 49,
   "metadata": {},
   "outputs": [
    {
     "data": {
      "text/plain": [
       "<function __main__.minha_funcao(n)>"
      ]
     },
     "execution_count": 49,
     "metadata": {},
     "output_type": "execute_result"
    }
   ],
   "source": [
    "def minha_funcao(n):\n",
    "    return n + 1\n",
    "\n",
    "minha_funcao"
   ]
  },
  {
   "cell_type": "code",
   "execution_count": 50,
   "metadata": {},
   "outputs": [
    {
     "data": {
      "text/plain": [
       "6"
      ]
     },
     "execution_count": 50,
     "metadata": {},
     "output_type": "execute_result"
    }
   ],
   "source": [
    "def minha_outra_funcao(numero, funcao):\n",
    "    return funcao(numero) * numero\n",
    "\n",
    "minha_outra_funcao(2, minha_funcao)"
   ]
  },
  {
   "cell_type": "code",
   "execution_count": 56,
   "metadata": {},
   "outputs": [
    {
     "data": {
      "text/plain": [
       "7"
      ]
     },
     "execution_count": 56,
     "metadata": {},
     "output_type": "execute_result"
    }
   ],
   "source": [
    "def soma(a, b):\n",
    "    return a + b\n",
    "\n",
    "def subtracao(a, b):\n",
    "    return a - b\n",
    "\n",
    "def multiplicacao(a, b):\n",
    "    return a * b\n",
    "\n",
    "def divisao(a, b):\n",
    "    return a / b\n",
    "\n",
    "def operador_para_funcao(operador):\n",
    "    if operador == \"+\":\n",
    "        return soma\n",
    "    elif operador == \"-\":\n",
    "        return subtracao\n",
    "    elif operador == \"*\":\n",
    "        return multiplicacao\n",
    "    elif operador == \"/\":\n",
    "        return divisao\n",
    "\n",
    "multiplicacao(12, 6)\n",
    "\n",
    "operador_para_funcao(\"+\")(5, 2)"
   ]
  }
 ],
 "metadata": {
  "kernelspec": {
   "display_name": ".venv",
   "language": "python",
   "name": "python3"
  },
  "language_info": {
   "codemirror_mode": {
    "name": "ipython",
    "version": 3
   },
   "file_extension": ".py",
   "mimetype": "text/x-python",
   "name": "python",
   "nbconvert_exporter": "python",
   "pygments_lexer": "ipython3",
   "version": "3.12.3"
  }
 },
 "nbformat": 4,
 "nbformat_minor": 2
}
