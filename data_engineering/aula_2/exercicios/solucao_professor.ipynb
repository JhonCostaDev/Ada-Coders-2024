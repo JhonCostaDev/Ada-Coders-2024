{
 "cells": [
  {
   "cell_type": "markdown",
   "metadata": {},
   "source": [
    "4 - Faça um código que receba múltiplos números inteiros em seguida informe quantos são pares e quantos são ímpares.\n"
   ]
  },
  {
   "cell_type": "code",
   "execution_count": 5,
   "metadata": {},
   "outputs": [
    {
     "data": {
      "text/plain": [
       "{'par': 24, 'impar': 25}"
      ]
     },
     "execution_count": 5,
     "metadata": {},
     "output_type": "execute_result"
    }
   ],
   "source": [
    "numeros = []\n",
    "\n",
    "for i in range(1, 50):\n",
    "    numeros.append(i)\n",
    "    \n",
    "\n",
    "\n",
    "par_impar = {'par': 0, 'impar': 0}\n",
    "\n",
    "for num in numeros:\n",
    "    if num % 2 == 0:\n",
    "        # par\n",
    "        par_impar['par'] += 1\n",
    "    else:\n",
    "        par_impar['impar'] += 1\n",
    "        \n",
    "par_impar"
   ]
  },
  {
   "cell_type": "markdown",
   "metadata": {},
   "source": [
    "6) Faça um código contador de palavras. O usuário vai inserir um texto qualquer e o programa vai contar a quantidade de cada palavra no texto, armazenando o resultado em um dicionário e exibindo o resultado para o usuário.\n",
    "\n",
    "caso queira pode utilizar o .split() e .replace()"
   ]
  },
  {
   "cell_type": "code",
   "execution_count": 9,
   "metadata": {},
   "outputs": [
    {
     "name": "stdout",
     "output_type": "stream",
     "text": [
      "['My', 'name', 'is', 'Jonathan']\n",
      "['The', 'book', 'is', 'on', 'the', 'table']\n"
     ]
    }
   ],
   "source": [
    "# .split()\n",
    "frase = 'My name is Jonathan'\n",
    "frase_1 = 'The.book.is.on.the.table'\n",
    "print(frase.split())\n",
    "print(frase_1.split('.'))"
   ]
  },
  {
   "cell_type": "code",
   "execution_count": 16,
   "metadata": {},
   "outputs": [
    {
     "name": "stdout",
     "output_type": "stream",
     "text": [
      "My name is josy\n"
     ]
    }
   ],
   "source": [
    "# .replace() - substitui uma frase especifica pro outra\n",
    "frase = 'My name is Jonathan'\n",
    "frase_2 = frase.replace('Jonathan', 'josy')\n",
    "print(frase_2)"
   ]
  },
  {
   "cell_type": "markdown",
   "metadata": {},
   "source": [
    "5) faça um código que recebe um elemento a ser encontrado no texto e substitui por outro elemento\n",
    "\n",
    "pode utilizar o .replace()"
   ]
  },
  {
   "cell_type": "code",
   "execution_count": 20,
   "metadata": {},
   "outputs": [
    {
     "data": {
      "text/plain": [
       "'ola me chamo jonathan e voces, como se chamam'"
      ]
     },
     "execution_count": 20,
     "metadata": {},
     "output_type": "execute_result"
    }
   ],
   "source": [
    "hello = 'hello, mundo'\n",
    "hello.replace('mundo', 'world')\n",
    "\n",
    "#Usando dicionário para facilitar uso do replace\n",
    "frase = 'olá me chamo jonathan. e vocês, como se chamam?'\n",
    "\n",
    "dicionario = {'á': 'a', '.': '', '?' : '', 'ê' : 'e'}\n",
    "\n",
    "for chave, valor in dicionario.items():\n",
    "    frase = frase.replace(chave, valor)\n",
    "    \n",
    "frase\n",
    "    "
   ]
  },
  {
   "cell_type": "markdown",
   "metadata": {},
   "source": [
    "6) Faça um código contador de palavras. O usuário vai inserir um texto qualquer e o programa vai contar a quantidade de cada palavra no texto, armazenando o resultado em um dicionário e exibindo o resultado para o usuário.\n",
    "\n",
    "caso queira pode utilizar o .split() e .replace()"
   ]
  },
  {
   "cell_type": "code",
   "execution_count": 25,
   "metadata": {},
   "outputs": [
    {
     "name": "stdout",
     "output_type": "stream",
     "text": [
      "Não\n",
      "importa\n",
      "o\n",
      "quão\n",
      "devagar\n",
      "você\n",
      "vá,\n",
      "desde\n",
      "que\n",
      "não\n",
      "pare.\n",
      "-\n",
      "Confúcio\n"
     ]
    },
    {
     "data": {
      "text/plain": [
       "{'Não': 1,\n",
       " 'importa': 1,\n",
       " 'o': 1,\n",
       " 'quão': 1,\n",
       " 'devagar': 1,\n",
       " 'você': 1,\n",
       " 'vá,': 1,\n",
       " 'desde': 1,\n",
       " 'que': 1,\n",
       " 'não': 1,\n",
       " 'pare.': 1,\n",
       " '-': 1,\n",
       " 'Confúcio': 1}"
      ]
     },
     "execution_count": 25,
     "metadata": {},
     "output_type": "execute_result"
    }
   ],
   "source": [
    "texto = 'Não importa o quão devagar você vá, desde que você não pare. - Confúcio'.split()\n",
    "# for palavra in texto:\n",
    "#     print(palavra)\n",
    "texto_dicionario = {}.fromkeys(texto, 0)\n",
    "\n",
    "for palavra in texto_dicionario:\n",
    "    texto_dicionario[palavra] += 1\n",
    "    \n",
    "texto_dicionario"
   ]
  },
  {
   "cell_type": "markdown",
   "metadata": {},
   "source": [
    "7) Faça um código para criar uma agenda telefônica. \n",
    "\n",
    "O programa deve armazenar o nome e um ou mais telefones do contato. \n",
    "\n",
    "Em seguida, o usuário vai informar o nome de algum contato armazenado e o programa deve retornar os número(s) do contato caso queira pode utilizar o método .split()"
   ]
  },
  {
   "cell_type": "code",
   "execution_count": 26,
   "metadata": {},
   "outputs": [
    {
     "data": {
      "text/plain": [
       "['1', '2', '3', '4']"
      ]
     },
     "execution_count": 26,
     "metadata": {},
     "output_type": "execute_result"
    }
   ],
   "source": [
    "lista_teste = '1,2,3,4'\n",
    "lista_teste = lista_teste.split(',')\n",
    "lista_teste"
   ]
  },
  {
   "cell_type": "code",
   "execution_count": 27,
   "metadata": {},
   "outputs": [
    {
     "name": "stdout",
     "output_type": "stream",
     "text": [
      "{'jhon': ['12341234', ' 12341234', ' 643246234', '']}\n"
     ]
    }
   ],
   "source": [
    "chave = '1'\n",
    "dic_telefones = {}\n",
    "while chave != '0':\n",
    "    nome = input('Informe o nome: \\n')\n",
    "    telefone = input('Informe os telefones separados por ,: \\n')\n",
    "    dic_telefones[nome] = telefone.split(',')\n",
    "    print(dic_telefones)\n",
    "    chave = '0'\n",
    "    \n",
    "consultar = input('Informe o nome para consultar: \\n')\n",
    "print('Os telefones sao: ' , dic_telefones[consultar])"
   ]
  }
 ],
 "metadata": {
  "kernelspec": {
   "display_name": ".venv",
   "language": "python",
   "name": "python3"
  },
  "language_info": {
   "codemirror_mode": {
    "name": "ipython",
    "version": 3
   },
   "file_extension": ".py",
   "mimetype": "text/x-python",
   "name": "python",
   "nbconvert_exporter": "python",
   "pygments_lexer": "ipython3",
   "version": "3.12.3"
  }
 },
 "nbformat": 4,
 "nbformat_minor": 2
}
