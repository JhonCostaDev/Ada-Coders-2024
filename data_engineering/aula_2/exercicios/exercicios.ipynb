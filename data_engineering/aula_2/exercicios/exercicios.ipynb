{
 "cells": [
  {
   "cell_type": "markdown",
   "metadata": {},
   "source": [
    "\n",
    "\n",
    "\n",
    "\n",
    "\n",
    "\n",
    "\n",
    "\n",
    "\n",
    "\n",
    "\n",
    "\n",
    "\n",
    "\n",
    "\n",
    "\n",
    "\n",
    "\n",
    "[ ]\n"
   ]
  },
  {
   "cell_type": "code",
   "execution_count": 7,
   "metadata": {},
   "outputs": [
    {
     "data": {
      "text/plain": [
       "{'banana': 3.0, 'cebola': 4.0, 'maça': 5.7, 'abacaxi': 8.0}"
      ]
     },
     "execution_count": 7,
     "metadata": {},
     "output_type": "execute_result"
    }
   ],
   "source": [
    "# 1) Crie um dicionário para as seguintes relações:\n",
    "\n",
    "# .\t\n",
    "# banana\t3.0\n",
    "# cebola\t4.0\n",
    "# maçã\t5.7\n",
    "# abacaxi\t8.0\n",
    "\n",
    "frutas = dict()\n",
    "frutas = dict({'banana': 3.0})\n",
    "frutas['cebola'] = 4.0\n",
    "frutas.update({'maça': 5.7,'abacaxi': 8.0})\n",
    "frutas"
   ]
  },
  {
   "cell_type": "code",
   "execution_count": 8,
   "metadata": {},
   "outputs": [
    {
     "data": {
      "text/plain": [
       "{'banana': 3.0, 'cebola': 4.0, 'abacaxi': 8.0, 'maçã': 5.7}"
      ]
     },
     "execution_count": 8,
     "metadata": {},
     "output_type": "execute_result"
    }
   ],
   "source": [
    "# atualizar a key maça que está escrita errada\n",
    "frutas['maçã'] = frutas.pop('maça')\n",
    "frutas"
   ]
  },
  {
   "cell_type": "code",
   "execution_count": 11,
   "metadata": {},
   "outputs": [
    {
     "data": {
      "text/plain": [
       "{'banana': 3.0, 'cebola': 4.0, 'abacaxi': 8.0, 'maçã': 8.6}"
      ]
     },
     "execution_count": 11,
     "metadata": {},
     "output_type": "execute_result"
    }
   ],
   "source": [
    "# 2) Altere o valor da chave ‘Maçã’ no dicionário do exercício anterior para 8.6.\n",
    "frutas.update({'maçã': 8.6})\n",
    "frutas\n"
   ]
  },
  {
   "cell_type": "code",
   "execution_count": 22,
   "metadata": {},
   "outputs": [
    {
     "name": "stdout",
     "output_type": "stream",
     "text": [
      "maçã = 4\n",
      "banana = 2\n",
      "laranja = 2\n",
      "uva = 2\n",
      "pêra = 1\n",
      "kiwi = 2\n",
      "manga = 2\n",
      "morango = 2\n",
      "abacaxi = 2\n",
      "pera = 1\n"
     ]
    }
   ],
   "source": [
    "# 3) Faça uma função que conte quantas vezes cada elemento aparece em uma lista. Essa função deverá guardar os dados em um dicionário no qual as chaves são os elementos inseridos e os valores são a contagem de quantas vezes esse elemento aparece. ex de output: {\"banana\":2, \"maçã\":1}\n",
    "def conta_itens(lista):\n",
    "    dic = {}\n",
    "    for item in lista:\n",
    "        dic.update({item:lista.count(item)})\n",
    "    return dic\n",
    "    \n",
    "    \n",
    "frutas = [\n",
    "    'maçã', 'banana', 'laranja', 'maçã', 'uva', \n",
    "    'pêra', 'kiwi', 'maçã', 'manga', 'morango', \n",
    "    'banana', 'abacaxi', 'laranja', 'pera', 'kiwi', \n",
    "    'morango', 'uva', 'maçã', 'manga', 'abacaxi'\n",
    "]\n",
    "resultado = conta_itens(frutas)\n",
    "for chave, valor in resultado.items():\n",
    "    print(f'{chave} = {valor}')"
   ]
  },
  {
   "cell_type": "code",
   "execution_count": 25,
   "metadata": {},
   "outputs": [
    {
     "name": "stdout",
     "output_type": "stream",
     "text": [
      "Na lista existem 12 números pares e 9 números impares!\n"
     ]
    }
   ],
   "source": [
    "# 4) Faça um código que receba múltiplos números inteiros em seguida informe quantos são pares e quantos são ímpares.\n",
    "def pares_impares(lista):\n",
    "    pares = 0\n",
    "    impares = 0\n",
    "    for item in lista:\n",
    "        if item % 2:\n",
    "            impares += 1\n",
    "        else:\n",
    "            pares += 1\n",
    "    return pares, impares\n",
    "\n",
    "numeros = [42, 7, 95, 21, 16, 64, 29, 83, 56, 90, 53, 39, 28, 10, 88, 80, 4, 13, 70, 50, 3]\n",
    "pares, impares = pares_impares(numeros)\n",
    "print(f'Na lista existem {pares} números pares e {impares} números impares!')"
   ]
  },
  {
   "cell_type": "code",
   "execution_count": 27,
   "metadata": {},
   "outputs": [
    {
     "name": "stdout",
     "output_type": "stream",
     "text": [
      "Frase Original\n",
      "A educação é a arma mais poderosa que você pode usar para mudar o mundo.\n",
      "\n",
      "Frase Modificada\n",
      "A educação é a ferramenta mais poderosa que você pode usar para mudar o mundo.\n"
     ]
    }
   ],
   "source": [
    "# 5) faça um código que recebe um elemento a ser encontrado no texto e substitui por outro elemento\n",
    "# pode utilizar o .replace()\n",
    "\n",
    "def alterar_texto(texto, palavra_mudar, substituta):\n",
    "    nova_frase = texto.replace(palavra_mudar, substituta)\n",
    "    return nova_frase\n",
    "mandela = \"A educação é a arma mais poderosa que você pode usar para mudar o mundo.\"\n",
    "alterar = 'arma'\n",
    "substituta = 'ferramenta'\n",
    "\n",
    "print('Frase Original')\n",
    "print(mandela)\n",
    "print('\\nFrase Modificada')\n",
    "print(f'{alterar_texto(mandela, alterar, substituta)}')\n"
   ]
  },
  {
   "cell_type": "code",
   "execution_count": 30,
   "metadata": {},
   "outputs": [
    {
     "data": {
      "text/plain": [
       "{'A': 1,\n",
       " 'educação': 1,\n",
       " 'é': 1,\n",
       " 'a': 1,\n",
       " 'arma': 1,\n",
       " 'mais': 1,\n",
       " 'poderosa': 1,\n",
       " 'que': 1,\n",
       " 'você': 1,\n",
       " 'pode': 1,\n",
       " 'usar': 1,\n",
       " 'para': 1,\n",
       " 'mudar': 1,\n",
       " 'o': 1,\n",
       " 'mundo.': 1}"
      ]
     },
     "execution_count": 30,
     "metadata": {},
     "output_type": "execute_result"
    }
   ],
   "source": [
    "# 6) Faça um código contador de palavras. O usuário vai inserir um texto qualquer e o programa vai contar a quantidade de cada palavra no texto, armazenando o resultado em um dicionário e exibindo o resultado para o usuário.\n",
    "\n",
    "# caso queira pode utilizar o .split() e .replace()\n",
    "\n",
    "frase = mandela.split()\n",
    "conta_itens(frase)"
   ]
  },
  {
   "cell_type": "code",
   "execution_count": 42,
   "metadata": {},
   "outputs": [
    {
     "name": "stdout",
     "output_type": "stream",
     "text": [
      "\n",
      "================= AGENDA TELEFÔNICA PYTHON =================\n",
      "                            DIGITE \n",
      "                1 -  PARA CADASTRAR NOVO CONTATO\n",
      "                2 -  BUSCAR CONTATO SALVO\n",
      "                0 - SAIR\n",
      "                   \n",
      "\n",
      "================= AGENDA TELEFÔNICA PYTHON =================\n",
      "                            DIGITE \n",
      "                1 -  PARA CADASTRAR NOVO CONTATO\n",
      "                2 -  BUSCAR CONTATO SALVO\n",
      "                0 - SAIR\n",
      "                   \n",
      "\n",
      "================= AGENDA TELEFÔNICA PYTHON =================\n",
      "                            DIGITE \n",
      "                1 -  PARA CADASTRAR NOVO CONTATO\n",
      "                2 -  BUSCAR CONTATO SALVO\n",
      "                0 - SAIR\n",
      "                   \n",
      "\n",
      "================= AGENDA TELEFÔNICA PYTHON =================\n",
      "                            DIGITE \n",
      "                1 -  PARA CADASTRAR NOVO CONTATO\n",
      "                2 -  BUSCAR CONTATO SALVO\n",
      "                0 - SAIR\n",
      "                   \n",
      "\n",
      "================= AGENDA TELEFÔNICA PYTHON =================\n",
      "                            DIGITE \n",
      "                1 -  PARA CADASTRAR NOVO CONTATO\n",
      "                2 -  BUSCAR CONTATO SALVO\n",
      "                0 - SAIR\n",
      "                   \n",
      "['871798718', '84237897023849752', '88949893']\n",
      "\n",
      "================= AGENDA TELEFÔNICA PYTHON =================\n",
      "                            DIGITE \n",
      "                1 -  PARA CADASTRAR NOVO CONTATO\n",
      "                2 -  BUSCAR CONTATO SALVO\n",
      "                0 - SAIR\n",
      "                   \n",
      "\n",
      "================= AGENDA TELEFÔNICA PYTHON =================\n",
      "                            DIGITE \n",
      "                1 -  PARA CADASTRAR NOVO CONTATO\n",
      "                2 -  BUSCAR CONTATO SALVO\n",
      "                0 - SAIR\n",
      "                   \n",
      "['871798718', '84237897023849752', '88949893']\n",
      "\n",
      "================= AGENDA TELEFÔNICA PYTHON =================\n",
      "                            DIGITE \n",
      "                1 -  PARA CADASTRAR NOVO CONTATO\n",
      "                2 -  BUSCAR CONTATO SALVO\n",
      "                0 - SAIR\n",
      "                   \n"
     ]
    },
    {
     "ename": "ValueError",
     "evalue": "invalid literal for int() with base 10: ''",
     "output_type": "error",
     "traceback": [
      "\u001b[0;31m---------------------------------------------------------------------------\u001b[0m",
      "\u001b[0;31mValueError\u001b[0m                                Traceback (most recent call last)",
      "Cell \u001b[0;32mIn[42], line 44\u001b[0m\n\u001b[1;32m     37\u001b[0m \u001b[38;5;66;03m# a = salvar_contato()\u001b[39;00m\n\u001b[1;32m     38\u001b[0m \u001b[38;5;66;03m# agenda_telefonica.update(a)\u001b[39;00m\n\u001b[1;32m     39\u001b[0m \u001b[38;5;66;03m# agenda_telefonica\u001b[39;00m\n\u001b[1;32m     40\u001b[0m \u001b[38;5;66;03m# contato= 'josy'\u001b[39;00m\n\u001b[1;32m     41\u001b[0m \u001b[38;5;66;03m# teste.get(contato)\u001b[39;00m\n\u001b[1;32m     43\u001b[0m \u001b[38;5;28;01mwhile\u001b[39;00m \u001b[38;5;28;01mTrue\u001b[39;00m:\n\u001b[0;32m---> 44\u001b[0m     \u001b[38;5;28;01mif\u001b[39;00m \u001b[43mmenu\u001b[49m\u001b[43m(\u001b[49m\u001b[43m)\u001b[49m \u001b[38;5;241m==\u001b[39m \u001b[38;5;241m1\u001b[39m:\n\u001b[1;32m     45\u001b[0m         novo_contato \u001b[38;5;241m=\u001b[39m salvar_contato()\n\u001b[1;32m     46\u001b[0m         teste\u001b[38;5;241m.\u001b[39mupdate(novo_contato)\n",
      "Cell \u001b[0;32mIn[42], line 34\u001b[0m, in \u001b[0;36mmenu\u001b[0;34m()\u001b[0m\n\u001b[1;32m     26\u001b[0m \u001b[38;5;28;01mdef\u001b[39;00m \u001b[38;5;21mmenu\u001b[39m():\n\u001b[1;32m     27\u001b[0m     opcoes \u001b[38;5;241m=\u001b[39m \u001b[38;5;28mprint\u001b[39m(\u001b[38;5;124m'''\u001b[39m\n\u001b[1;32m     28\u001b[0m \u001b[38;5;124m================= AGENDA TELEFÔNICA PYTHON =================\u001b[39m\n\u001b[1;32m     29\u001b[0m \u001b[38;5;124m                            DIGITE \u001b[39m\n\u001b[0;32m   (...)\u001b[0m\n\u001b[1;32m     32\u001b[0m \u001b[38;5;124m                0 - SAIR\u001b[39m\n\u001b[1;32m     33\u001b[0m \u001b[38;5;124m                   \u001b[39m\u001b[38;5;124m'''\u001b[39m)\n\u001b[0;32m---> 34\u001b[0m     opcao \u001b[38;5;241m=\u001b[39m \u001b[38;5;28;43mint\u001b[39;49m\u001b[43m(\u001b[49m\u001b[38;5;28;43minput\u001b[39;49m\u001b[43m(\u001b[49m\u001b[38;5;124;43m\"\u001b[39;49m\u001b[38;5;124;43mDigite sua opção:\u001b[39;49m\u001b[38;5;130;43;01m\\n\u001b[39;49;00m\u001b[38;5;124;43m\"\u001b[39;49m\u001b[43m)\u001b[49m\u001b[43m)\u001b[49m\n\u001b[1;32m     35\u001b[0m     \u001b[38;5;28;01mreturn\u001b[39;00m opcao\n",
      "\u001b[0;31mValueError\u001b[0m: invalid literal for int() with base 10: ''"
     ]
    }
   ],
   "source": [
    "# 7) Faça um código para criar uma agenda telefônica. O programa deve armazenar o nome e um ou mais telefones do contato. Em seguida, o usuário vai informar o nome de algum contato armazenado e o programa deve retornar os número(s) do contato\n",
    "\n",
    "# caso queira pode utilizar o método .split()\n",
    "\n",
    "teste = {'pedrim': ['1234134', '1341341'], 'josy': ['871798718', '84237897023849752', '88949893']}\n",
    "agenda_telefonica = {}\n",
    "def salvar_contato():\n",
    "    dic = {}\n",
    "    telefones = []\n",
    "    nome = input(\"Digite o nome do contato:\")\n",
    "    opcao = True\n",
    "    while opcao:\n",
    "        telefone = input(\"Digite o número de telefone: \")\n",
    "        novo_numero = int(input(\"Deseja adicionar outro número para esse contato? (1-SIM, 2-Não)\"))\n",
    "        telefones.append(telefone)\n",
    "        if novo_numero == 2:\n",
    "            opcao = False\n",
    "            \n",
    "    dic.update({nome:telefones})\n",
    "    return dic\n",
    "        \n",
    "def buscar_contato(dicionario, contato):\n",
    "    return dicionario.get(contato)\n",
    "\n",
    "\n",
    "def menu():\n",
    "    opcoes = print('''\n",
    "================= AGENDA TELEFÔNICA PYTHON =================\n",
    "                            DIGITE \n",
    "                1 -  PARA CADASTRAR NOVO CONTATO\n",
    "                2 -  BUSCAR CONTATO SALVO\n",
    "                0 - SAIR\n",
    "                   ''')\n",
    "    opcao = int(input(\"Digite sua opção:\\n\"))\n",
    "    return opcao\n",
    "\n",
    "# a = salvar_contato()\n",
    "# agenda_telefonica.update(a)\n",
    "# agenda_telefonica\n",
    "# contato= 'josy'\n",
    "# teste.get(contato)\n",
    "\n",
    "while True:\n",
    "    if menu() == 1:\n",
    "        novo_contato = salvar_contato()\n",
    "        teste.update(novo_contato)\n",
    "    elif menu() == 2:\n",
    "        nome_contato = input('Digite o nome do contato: ')\n",
    "        numeros_telefone = buscar_contato(teste, nome_contato)\n",
    "        print(numeros_telefone)\n",
    "    elif menu() == 0:\n",
    "        break\n",
    "    \n",
    "print(\"Fim do programa\")\n",
    "#TODO: refatorar\n"
   ]
  }
 ],
 "metadata": {
  "kernelspec": {
   "display_name": ".venv",
   "language": "python",
   "name": "python3"
  },
  "language_info": {
   "codemirror_mode": {
    "name": "ipython",
    "version": 3
   },
   "file_extension": ".py",
   "mimetype": "text/x-python",
   "name": "python",
   "nbconvert_exporter": "python",
   "pygments_lexer": "ipython3",
   "version": "3.12.3"
  }
 },
 "nbformat": 4,
 "nbformat_minor": 2
}
