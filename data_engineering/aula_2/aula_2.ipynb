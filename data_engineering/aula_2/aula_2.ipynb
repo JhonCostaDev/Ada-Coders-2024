{
 "cells": [
  {
   "cell_type": "markdown",
   "metadata": {},
   "source": [
    "# DICIONÁRIOS - 02 de agosto de 2024\n",
    "\n",
    "### Dicionários: Diferenças e similaridades para o seu xará mais conhecido\n",
    "\n",
    "Dicionários também podem ser pensados analogamente a listas, mas não pensaremos mais no conceito de index e sim em palavras-chave. Assim como um dicionário real possui palavras e suas definições, um dicionário em Python também! Entretanto devemos nos atentar que um dicionário não pode ter duas definições para uma mesma palavra (mas pode ter uma definição única definida por uma lista!)\n",
    "\n",
    "Dicionários são declarados entre chaves, e acessados com colchetes (usando as palavras-chave e não as indexes) ou com a função get() usando a palavra-chave como parâmetro. Além disso com a função keys() podemos listar todas as palavras-chave de um dado dicionário.\n",
    "\n",
    "Dicionários são usados para guardar dados na forma de pares de chave-valor\n",
    "dicionario = {chave : valor} / {key : value}\n",
    "\n",
    "Na versão 3.7 do python, dicionários são ordenados, anterior a esta versão, não são ordenados."
   ]
  },
  {
   "cell_type": "code",
   "execution_count": 2,
   "metadata": {},
   "outputs": [
    {
     "name": "stdout",
     "output_type": "stream",
     "text": [
      "Ford\n",
      "Mustang\n"
     ]
    }
   ],
   "source": [
    "# example w3 school\n",
    "thisdict = {\n",
    "  \"brand\": \"Ford\",\n",
    "  \"model\": \"Mustang\",\n",
    "  \"year\": 1964\n",
    "}\n",
    "print(thisdict[\"brand\"])\n",
    "print(thisdict.get('model'))"
   ]
  },
  {
   "cell_type": "markdown",
   "metadata": {},
   "source": [
    "## Duplicações não são permitidas"
   ]
  },
  {
   "cell_type": "code",
   "execution_count": 7,
   "metadata": {},
   "outputs": [
    {
     "data": {
      "text/plain": [
       "{'brand': 'Ford', 'model': 'Mustang', 'year': 1934}"
      ]
     },
     "execution_count": 7,
     "metadata": {},
     "output_type": "execute_result"
    }
   ],
   "source": [
    "# example w3 school\n",
    "thisdict1 = {\n",
    "  \"brand\": \"Ford\",\n",
    "  \"model\": \"Mustang\",\n",
    "  \"year\": 1964,\n",
    "  \"year\": 1934 # unico valor que será lido\n",
    "}\n",
    "thisdict1"
   ]
  },
  {
   "cell_type": "markdown",
   "metadata": {},
   "source": [
    "## Tamanho de um dicionário com a função len() "
   ]
  },
  {
   "cell_type": "code",
   "execution_count": 8,
   "metadata": {},
   "outputs": [
    {
     "data": {
      "text/plain": [
       "3"
      ]
     },
     "execution_count": 8,
     "metadata": {},
     "output_type": "execute_result"
    }
   ],
   "source": [
    "len(thisdict1)"
   ]
  },
  {
   "cell_type": "markdown",
   "metadata": {},
   "source": [
    "## Tipos em um Dicionário\n",
    "\n",
    "O valor dos itemd de um dicionário podem ser de qualquer tipo - (String, int, float, boolean, list, tuple)"
   ]
  },
  {
   "cell_type": "code",
   "execution_count": 15,
   "metadata": {},
   "outputs": [],
   "source": [
    "carro = {\n",
    "    'marca' : \"volks\",\n",
    "    'modelo' : \"gol\",\n",
    "    'fabricacao' : 1999,\n",
    "    'cores_disponiveis' : ['azul','branco','vermelho', 'preto']\n",
    "}"
   ]
  },
  {
   "cell_type": "code",
   "execution_count": 9,
   "metadata": {},
   "outputs": [
    {
     "data": {
      "text/plain": [
       "dict"
      ]
     },
     "execution_count": 9,
     "metadata": {},
     "output_type": "execute_result"
    }
   ],
   "source": [
    "cliente = {\n",
    "    'nome': 'antonio',\n",
    "    'idade': 30,\n",
    "    'altura': 1.75,\n",
    "    'peso': 89.5,\n",
    "    'habilitado': True,\n",
    "    'Casado': False\n",
    "}\n",
    "type(cliente)"
   ]
  },
  {
   "cell_type": "code",
   "execution_count": 1,
   "metadata": {},
   "outputs": [
    {
     "data": {
      "text/plain": [
       "{'nome': 'lucas',\n",
       " 'idade': 50,\n",
       " 'profissao': 'empresario',\n",
       " 'filhos': ['joao', 'maria', 'jose']}"
      ]
     },
     "execution_count": 1,
     "metadata": {},
     "output_type": "execute_result"
    }
   ],
   "source": [
    "pessoa = {\n",
    "    \"nome\": \"lucas\",\n",
    "    \"idade\" : 50,\n",
    "    \"profissao\" : \"empresario\",\n",
    "    \"filhos\" : [\"joao\", \"maria\", \"jose\"]\n",
    "}\n",
    "pessoa"
   ]
  },
  {
   "cell_type": "markdown",
   "metadata": {},
   "source": [
    "## Fromkeys\n",
    "O método fromkeys() retorna um dicionário com chaves e valores específicos.\n",
    "\n",
    "* Sintaxe = dict.fromkeys(chave, valor), sendo a chave obrigatória (pode ser um iterável), e valor opcional"
   ]
  },
  {
   "cell_type": "code",
   "execution_count": 11,
   "metadata": {},
   "outputs": [
    {
     "data": {
      "text/plain": [
       "{'nome': None, 'idade': None, 'altura': None}"
      ]
     },
     "execution_count": 11,
     "metadata": {},
     "output_type": "execute_result"
    }
   ],
   "source": [
    "campos = ('nome', 'idade', 'altura')\n",
    "novo_dicionario = dict.fromkeys(campos)\n",
    "\n",
    "novo_dicionario"
   ]
  },
  {
   "cell_type": "markdown",
   "metadata": {},
   "source": [
    "## atribuindo valores\n"
   ]
  },
  {
   "cell_type": "code",
   "execution_count": 13,
   "metadata": {},
   "outputs": [
    {
     "data": {
      "text/plain": [
       "{'nome': 'jhon', 'idade': 10, 'altura': 1.9}"
      ]
     },
     "execution_count": 13,
     "metadata": {},
     "output_type": "execute_result"
    }
   ],
   "source": [
    "novo_dicionario['nome'] = 'jhon'\n",
    "novo_dicionario['idade'] = 10\n",
    "novo_dicionario['altura'] = 1.9\n",
    "novo_dicionario"
   ]
  },
  {
   "cell_type": "code",
   "execution_count": 1,
   "metadata": {},
   "outputs": [
    {
     "data": {
      "text/plain": [
       "{'chave1': 'valor_unico',\n",
       " 'chave2': 'valor_unico',\n",
       " 'chave3': 'valor_unico',\n",
       " 'chave4': 'valor_unico'}"
      ]
     },
     "execution_count": 1,
     "metadata": {},
     "output_type": "execute_result"
    }
   ],
   "source": [
    "dicionario = {}\n",
    "\n",
    "#método fromkeys\n",
    "\n",
    "dicionario = dicionario.fromkeys([\"chave1\", \"chave2\", \"chave3\", \"chave4\",], \"valor_unico\")\n",
    "\n",
    "dicionario\n"
   ]
  },
  {
   "cell_type": "markdown",
   "metadata": {},
   "source": [
    "## Extraindo informações de um dicionário"
   ]
  },
  {
   "cell_type": "code",
   "execution_count": 22,
   "metadata": {},
   "outputs": [
    {
     "name": "stdout",
     "output_type": "stream",
     "text": [
      "dict_keys(['marca', 'modelo', 'fabricacao', 'cores_disponiveis'])\n",
      "dict_values(['volks', 'gol', 1999, ['azul', 'branco', 'vermelho', 'preto']])\n",
      "Modelo: gol\n",
      "dict_items([('marca', 'volks'), ('modelo', 'gol'), ('fabricacao', 1999), ('cores_disponiveis', ['azul', 'branco', 'vermelho', 'preto'])])\n"
     ]
    }
   ],
   "source": [
    "# carro\n",
    "# Descobrir as chaves existentes em um dicionário - keys()\n",
    "print(carro.keys())\n",
    "\n",
    "# Descobrir os valores existentes em um dicionário - values()\n",
    "print(carro.values())\n",
    "\n",
    "#Buscar o valor de um chave específica\n",
    "print(f\"Modelo: {carro['modelo']}\")\n",
    "\n",
    "# items() - a função items retorna uma lista com os pares de chave e valor de um dicionário\n",
    "print(carro.items())\n"
   ]
  },
  {
   "cell_type": "markdown",
   "metadata": {},
   "source": [
    "Podemos adicionar itens de um dicionário usando nomeDic[\"novaPalavraChave\"] = valor, \n",
    "\n",
    "podemos atualizar da mesma maneira mas usando uma palavra-chave já existente, ou mesmo usar o método update() com o parâmetro {\"palavraChave\": novoValor}. \n",
    "\n",
    "Já para apagar itens temos várias maneiras: podemos usar o método pop() com a palavra-chave a ser deletada como parâmetro, ou o método popitem() para deletar o último item, ou mesmo a del dicionario[\"chaveParaDeletar\"], por fim temos o método clear() que limpa o dicionário todo."
   ]
  },
  {
   "cell_type": "code",
   "execution_count": 7,
   "metadata": {},
   "outputs": [
    {
     "name": "stdout",
     "output_type": "stream",
     "text": [
      "{'nome': 'pedro', 'idade': 18, 'profissao': 'padeiro', 'filhos': ['pedro', 'luiza', 'maria']}\n",
      "Keys: dict_keys(['nome', 'idade', 'profissao', 'filhos'])\n",
      "Nome: pedro\n",
      "Values: dict_values(['pedro', 18, 'padeiro', ['pedro', 'luiza', 'maria']])\n",
      "Items: dict_items([('nome', 'pedro'), ('idade', 18), ('profissao', 'padeiro'), ('filhos', ['pedro', 'luiza', 'maria'])])\n"
     ]
    }
   ],
   "source": [
    "#Dicionario\n",
    "pessoa = {\n",
    "    \"nome\": \"pedro\",\n",
    "    \"idade\": 18,\n",
    "    \"profissao\": \"padeiro\",\n",
    "    \"filhos\": [\"pedro\", \"luiza\", \"maria\"],\n",
    "    }\n",
    "print(pessoa)\n",
    "print(f\"Keys: {pessoa.keys()}\")\n",
    "print(f\"Nome: {pessoa['nome']}\")\n",
    "print(f\"Values: {pessoa.values()}\")\n",
    "print(f\"Items: {pessoa.items()}\")\n"
   ]
  },
  {
   "cell_type": "code",
   "execution_count": 23,
   "metadata": {},
   "outputs": [
    {
     "data": {
      "text/plain": [
       "{'marca': 'honda',\n",
       " 'modelo': 'falcon',\n",
       " 'potencia': '400cc',\n",
       " 'fabricacao': 2000,\n",
       " 'combustivel': 'gasolina',\n",
       " 'cores': ['prata', 'preto', 'vermelho', 'azul'],\n",
       " 'tipo': 'estrada'}"
      ]
     },
     "execution_count": 23,
     "metadata": {},
     "output_type": "execute_result"
    }
   ],
   "source": [
    "# \n",
    "moto = {\n",
    "    'marca' : 'honda',\n",
    "    'modelo': 'falcon',\n",
    "    'potencia' : '400cc',\n",
    "    'fabricacao' : 2000,\n",
    "    'combustivel' : 'gasolina',\n",
    "    'cores' : ['prata', 'preto', 'vermelho', 'azul',],\n",
    "    'tipo' : 'estrada'\n",
    "}\n",
    "moto"
   ]
  },
  {
   "cell_type": "code",
   "execution_count": 32,
   "metadata": {},
   "outputs": [
    {
     "data": {
      "text/plain": [
       "{'marca': 'honda',\n",
       " 'modelo': 'falcon',\n",
       " 'potencia': '400cc',\n",
       " 'fabricacao': 2000,\n",
       " 'cores': ['prata', 'preto', 'vermelho', 'azul'],\n",
       " 'tipo': 'urbana',\n",
       " 'preco': 13500.99}"
      ]
     },
     "execution_count": 32,
     "metadata": {},
     "output_type": "execute_result"
    }
   ],
   "source": [
    "# adicionar uma chave e valor\n",
    "moto['preco'] = 13500.99\n",
    "\n",
    "# alterar  valor de uma chave\n",
    "moto['tipo'] = 'urbana'\n",
    "\n",
    "# altera um valor, caso a chave exista, senão, insere novo chave-valor .update() \n",
    "moto.update({'injecao' : True})\n",
    "\n",
    "# apagar chave e valor através da chave\n",
    "#moto.pop('combustivel')\n",
    "\n",
    "# apagar o ultimo par de chave e valor\n",
    "moto.popitem()\n",
    "\n",
    "\n",
    "moto"
   ]
  },
  {
   "cell_type": "code",
   "execution_count": 9,
   "metadata": {},
   "outputs": [
    {
     "data": {
      "text/plain": [
       "['nome', 'idade', 'profissao', 'filhos']"
      ]
     },
     "execution_count": 9,
     "metadata": {},
     "output_type": "execute_result"
    }
   ],
   "source": [
    "# convertendo para lista\n",
    "lista_chaves = list(pessoa.keys())\n",
    "\n",
    "lista_chaves\n"
   ]
  },
  {
   "cell_type": "code",
   "execution_count": 12,
   "metadata": {},
   "outputs": [
    {
     "name": "stdout",
     "output_type": "stream",
     "text": [
      "{'nome': 'pedro', 'idade': 18, 'profissao': 'padeiro', 'filhos': ['pedro', 'luiza', 'maria']}\n",
      "{'nome': 'pedro', 'idade': 18, 'profissao': 'padeiro', 'filhos': ['pedro', 'luiza', 'maria'], 'nacionaldade': 'Brasileiro'}\n"
     ]
    }
   ],
   "source": [
    "#adicionar chave: valor\n",
    "\n",
    "print(pessoa)\n",
    "pessoa['nacionaldade'] = 'Brasileiro'\n",
    "\n",
    "\n",
    "print(pessoa)"
   ]
  },
  {
   "cell_type": "code",
   "execution_count": 13,
   "metadata": {},
   "outputs": [
    {
     "name": "stdout",
     "output_type": "stream",
     "text": [
      "{'nome': 'Ausgusto', 'idade': 18, 'profissao': 'padeiro', 'filhos': ['pedro', 'luiza', 'maria'], 'nacionaldade': 'Brasileiro'}\n"
     ]
    }
   ],
   "source": [
    "# alterar chave e valor\n",
    "pessoa['nome'] = 'Ausgusto'\n",
    "\n",
    "print(pessoa)"
   ]
  },
  {
   "cell_type": "code",
   "execution_count": 14,
   "metadata": {},
   "outputs": [
    {
     "name": "stdout",
     "output_type": "stream",
     "text": [
      "{'nome': 'Ausgusto', 'idade': 35, 'profissao': 'padeiro', 'filhos': ['pedro', 'luiza', 'maria'], 'nacionaldade': 'Brasileiro', 'nacionalidade': 'americano', 'cachorro': 'fulio'}\n"
     ]
    }
   ],
   "source": [
    "# Update\n",
    "pessoa.update({'idade' : 35, 'nacionalidade' : 'americano', 'cachorro': 'fulio'})\n",
    "\n",
    "print(pessoa)"
   ]
  },
  {
   "cell_type": "code",
   "execution_count": 20,
   "metadata": {},
   "outputs": [
    {
     "name": "stdout",
     "output_type": "stream",
     "text": [
      "{'idade': 35, 'profissao': 'padeiro', 'filhos': ['pedro', 'luiza', 'maria'], 'nacionaldade': 'Brasileiro', 'nacionalidade': 'americano'}\n",
      "{'idade': 35, 'profissao': 'padeiro', 'filhos': ['pedro', 'luiza', 'maria'], 'nacionaldade': 'Brasileiro', 'nacionalidade': 'americano'}\n"
     ]
    },
    {
     "data": {
      "text/plain": [
       "('nacionalidade', 'americano')"
      ]
     },
     "execution_count": 20,
     "metadata": {},
     "output_type": "execute_result"
    }
   ],
   "source": [
    "#Remover chave: valor\n",
    "#pessoa.pop('nome')\n",
    "print(pessoa)\n",
    "\n",
    "#del pessoa['nacionaldade']\n",
    "print(pessoa)\n",
    "\n",
    "# remove ultima chave:valor\n",
    "pessoa.popitem()"
   ]
  },
  {
   "cell_type": "code",
   "execution_count": 21,
   "metadata": {},
   "outputs": [
    {
     "data": {
      "text/plain": [
       "{'nome': 'maria', 'nascimento': 'fortaleza', 'idade': 18}"
      ]
     },
     "execution_count": 21,
     "metadata": {},
     "output_type": "execute_result"
    }
   ],
   "source": [
    "dicionario_teste = {\n",
    "    'nome' : 'maria',\n",
    "    'nascimento': 'fortaleza',\n",
    "    'idade': 18\n",
    "}\n",
    "dicionario_teste"
   ]
  },
  {
   "cell_type": "markdown",
   "metadata": {},
   "source": [
    "Dicionários podem ser usados em loops normalmente também. Existem alguns métodos que podem ser úteis de serem utilizados."
   ]
  },
  {
   "cell_type": "code",
   "execution_count": 38,
   "metadata": {},
   "outputs": [
    {
     "name": "stdout",
     "output_type": "stream",
     "text": [
      "marca\n",
      "modelo\n",
      "potencia\n",
      "fabricacao\n",
      "cores\n",
      "tipo\n",
      "preco\n",
      "==================================================\n",
      "honda\n",
      "falcon\n",
      "400cc\n",
      "2000\n",
      "['prata', 'preto', 'vermelho', 'azul']\n",
      "urbana\n",
      "13500.99\n",
      "==================================================\n",
      "marca = honda\n",
      "modelo = falcon\n",
      "potencia = 400cc\n",
      "fabricacao = 2000\n",
      "cores = ['prata', 'preto', 'vermelho', 'azul']\n",
      "tipo = urbana\n",
      "preco = 13500.99\n",
      "==================================================\n"
     ]
    }
   ],
   "source": [
    "for campo in moto: # retorna as chaves\n",
    "    print(campo)\n",
    "    \n",
    "print('='*50)\n",
    "\n",
    "for valor in moto.values(): # retorna as chaves\n",
    "    print(valor)\n",
    "\n",
    "print('='*50)\n",
    "for chave, valor in moto.items(): # retorna as chaves e valores\n",
    "    print(f'{chave} = {valor}')\n",
    "\n",
    "print('='*50)\n",
    "#moto"
   ]
  },
  {
   "cell_type": "code",
   "execution_count": 38,
   "metadata": {},
   "outputs": [
    {
     "name": "stdout",
     "output_type": "stream",
     "text": [
      "idade\n",
      "profissao\n",
      "filhos\n",
      "nacionaldade\n",
      "\n",
      "35\n",
      "padeiro\n",
      "['pedro', 'luiza', 'maria']\n",
      "Brasileiro\n",
      "\n",
      "35\n",
      "padeiro\n",
      "['pedro', 'luiza', 'maria']\n",
      "Brasileiro\n",
      "\n",
      "(0, 35)\n",
      "(1, 'padeiro')\n",
      "(2, ['pedro', 'luiza', 'maria'])\n",
      "(3, 'Brasileiro')\n",
      "\n",
      "(0, ('idade', 35))\n",
      "(1, ('profissao', 'padeiro'))\n",
      "(2, ('filhos', ['pedro', 'luiza', 'maria']))\n",
      "(3, ('nacionaldade', 'Brasileiro'))\n"
     ]
    }
   ],
   "source": [
    "# LOOPS \n",
    "pessoa2 = {\n",
    "    \"nome\": \"Luiz\",\n",
    "    \"idade\": 65,\n",
    "    \"profissao\": \"advogado\",\n",
    "    \"cachorros\": [\"pedro\", \"luiza\", \"maria\"],\n",
    "    }\n",
    "# iterar chaves\n",
    "for chave in pessoa:\n",
    "    print(chave)\n",
    "print(\"\")    \n",
    "for valor in pessoa:\n",
    "    print(pessoa[valor])\n",
    "    \n",
    "# iterar valores\n",
    "print(\"\")    \n",
    "# ou\n",
    "for valor in pessoa.values():\n",
    "    print(valor)\n",
    "    \n",
    "print(\"\") \n",
    "for valor in enumerate(pessoa.values()):\n",
    "    print(valor)\n",
    "\n",
    "print(\"\") \n",
    "for valor in enumerate(pessoa.items()):\n",
    "    print(valor)"
   ]
  },
  {
   "cell_type": "code",
   "execution_count": 35,
   "metadata": {},
   "outputs": [
    {
     "name": "stdout",
     "output_type": "stream",
     "text": [
      "1\n",
      "2\n",
      "3\n",
      "4\n",
      "5\n",
      "6\n",
      "==========\n",
      "(0, 1)\n",
      "(1, 2)\n",
      "(2, 3)\n",
      "(3, 4)\n",
      "(4, 5)\n",
      "(5, 6)\n"
     ]
    }
   ],
   "source": [
    "#Enumerates\n",
    "lista_teste = [1, 2, 3, 4, 5, 6]\n",
    "\n",
    "for numero in lista_teste:\n",
    "    print(numero)\n",
    "print(\"==========\")\n",
    "# iterar com enumerate\n",
    "for numero in enumerate(lista_teste):\n",
    "    print(numero)"
   ]
  },
  {
   "cell_type": "code",
   "execution_count": 42,
   "metadata": {},
   "outputs": [
    {
     "name": "stdout",
     "output_type": "stream",
     "text": [
      "(0, 'maçã')\n",
      "(1, 'banana')\n",
      "(2, 'pera')\n",
      "1\n",
      "maçã\n",
      "2\n",
      "banana\n",
      "3\n",
      "pera\n"
     ]
    }
   ],
   "source": [
    "frutas = ['maçã', 'banana', 'pera']\n",
    "\n",
    "for fruta in enumerate(frutas):\n",
    "    print(fruta)\n",
    "    \n",
    "#também podemos colocar um argumento opcional de start no nosso\n",
    "\n",
    "for indice, fruta in enumerate(frutas, 1):\n",
    "    print(indice)\n",
    "    print(fruta)\n",
    "    \n"
   ]
  },
  {
   "cell_type": "code",
   "execution_count": 46,
   "metadata": {},
   "outputs": [
    {
     "name": "stdout",
     "output_type": "stream",
     "text": [
      "===================\n",
      "('idade', 35)\n",
      "('profissao', 'padeiro')\n",
      "('filhos', ['pedro', 'luiza', 'maria'])\n",
      "('nacionaldade', 'Brasileiro')\n",
      "===================\n",
      "A chave (nome) possui o valor: Luiz\n",
      "A chave (idade) possui o valor: 65\n",
      "A chave (profissao) possui o valor: advogado\n",
      "A chave (cachorros) possui o valor: ['pedro', 'luiza', 'maria']\n"
     ]
    }
   ],
   "source": [
    "pessoa2\n",
    "\n",
    "print(\"===================\")\n",
    "for x in pessoa.items():\n",
    "    print(x)\n",
    "    \n",
    "print(\"===================\")\n",
    "for chave, valor in pessoa2.items():\n",
    "    print(f'A chave ({chave}) possui o valor: {valor}')"
   ]
  },
  {
   "cell_type": "code",
   "execution_count": 47,
   "metadata": {},
   "outputs": [
    {
     "name": "stdout",
     "output_type": "stream",
     "text": [
      "potato\n"
     ]
    }
   ],
   "source": [
    "#lista de listas\n",
    "lista_mista = [[1, 2, 3], ['apple', 'potato', 'grape']]\n",
    "\n",
    "print(lista_mista[-1][1])"
   ]
  },
  {
   "cell_type": "markdown",
   "metadata": {},
   "source": [
    "Assim como listas podem armazenar listas, dicionários podem armazenar dicionários, formando dicionários de mais de uma dimensão. Veja o exemplo:"
   ]
  },
  {
   "cell_type": "code",
   "execution_count": 52,
   "metadata": {},
   "outputs": [
    {
     "name": "stdout",
     "output_type": "stream",
     "text": [
      "Pratos típicos\n",
      "Pais: Brazil, Prato: feijoada, ingredientes: feijão preto, linguiça, carne de porco\n",
      "Pais: EUA, Prato: Buffalo wings, ingredientes: asa de frango, molho, sal, temperos\n",
      "Pais: Japan, Prato: Yakisoba, ingredientes: carne de porco, macarrao frito, molho shoyu\n"
     ]
    }
   ],
   "source": [
    "comidas_tipicas = {\n",
    "    'Brazil' : {\n",
    "        'nome_prato' : 'feijoada',\n",
    "        'ingredientes': ['feijão preto', 'linguiça', 'carne de porco']\n",
    "    },\n",
    "    'EUA' : {\n",
    "        'nome_prato' : 'Buffalo wings',\n",
    "        'ingredientes' : ['asa de frango', 'molho', 'sal', 'temperos']\n",
    "    },\n",
    "    'Japan': {\n",
    "        'nome_prato' : 'Yakisoba',\n",
    "        'ingredientes': ['carne de porco', 'macarrao frito', 'molho shoyu']\n",
    "    }\n",
    "}\n",
    "\n",
    "# usar o .join para retornar apenas os itens de uma lista em uma string\n",
    "\n",
    "print(\"Pratos típicos\")\n",
    "for chave, valor in comidas_tipicas.items():\n",
    "    print(f'Pais: {chave}, Prato: {valor['nome_prato']}, ingredientes: {', '.join(map(str, valor['ingredientes']))}')"
   ]
  },
  {
   "cell_type": "code",
   "execution_count": 52,
   "metadata": {},
   "outputs": [
    {
     "name": "stdout",
     "output_type": "stream",
     "text": [
      "felipe\n",
      "maria\n",
      "luiza\n"
     ]
    }
   ],
   "source": [
    "# dicionario com dicionarios\n",
    "filhos = {\n",
    "    'filho1': {\n",
    "        'nome': 'felipe',\n",
    "        'ano': 2004\n",
    "    }, \n",
    "    'filho2': {\n",
    "        'nome': 'maria',\n",
    "        'ano': 2008\n",
    "    },\n",
    "    'filho3': {\n",
    "        'nome': 'luiza',\n",
    "        'ano': 2010\n",
    "    }\n",
    "}\n",
    "\n",
    "#retornar nomes filhos\n",
    "print(filhos['filho1']['nome'])\n",
    "print(filhos['filho2']['nome'])\n",
    "print(filhos['filho3']['nome'])"
   ]
  },
  {
   "cell_type": "markdown",
   "metadata": {},
   "source": [
    " No contexto de dicionários o comando **in** é útil. \n",
    " \n",
    " Imagine que você quer adicionar valores em uma chave mas não sabe sequer se ela existe naquele contexto, como poderiamos fazer?"
   ]
  },
  {
   "cell_type": "code",
   "execution_count": 53,
   "metadata": {},
   "outputs": [
    {
     "data": {
      "text/plain": [
       "False"
      ]
     },
     "execution_count": 53,
     "metadata": {},
     "output_type": "execute_result"
    }
   ],
   "source": [
    "# In em uma lista\n",
    "# checando se valor esta na lista\n",
    "'banana' in ['uva', 'pera', 'tomate']"
   ]
  },
  {
   "cell_type": "code",
   "execution_count": 54,
   "metadata": {},
   "outputs": [
    {
     "data": {
      "text/plain": [
       "{'nome': 'josy',\n",
       " 'turma': '7B',\n",
       " 'kit_escolar': ['caneta', 'caderno', 'apontador']}"
      ]
     },
     "execution_count": 54,
     "metadata": {},
     "output_type": "execute_result"
    }
   ],
   "source": [
    "#in com dicionarios\n",
    "\n",
    "estudante = {\n",
    "    'nome': 'josy',\n",
    "    'turma': '7B'\n",
    "}\n",
    "\n",
    "#'professor' in estudante.keys()\n",
    "#'josy' in estudante.values()\n",
    "\n",
    "kit_escolar = ['caneta', 'caderno', 'apontador']\n",
    "\n",
    "if 'kit_escolar' not in estudante.keys():\n",
    "    estudante['kit_escolar'] = kit_escolar\n",
    "else:\n",
    "    print(\"Ja possui\")\n",
    "estudante"
   ]
  },
  {
   "cell_type": "code",
   "execution_count": null,
   "metadata": {},
   "outputs": [],
   "source": [
    "notas_alunos = {\n",
    "    'aluno1': [6,9,7,10],\n",
    "    'aluno2': [5,7,8,10],\n",
    "    'aluno3': [10,9,7,4.5]\n",
    "}\n",
    "\n",
    "#exibir quais alunos tem notas maior que 7\n",
    "#TODO: exibir a media\n",
    "#TODO: verificar se um valor esta na lista\n",
    "\n"
   ]
  }
 ],
 "metadata": {
  "kernelspec": {
   "display_name": ".venv",
   "language": "python",
   "name": "python3"
  },
  "language_info": {
   "codemirror_mode": {
    "name": "ipython",
    "version": 3
   },
   "file_extension": ".py",
   "mimetype": "text/x-python",
   "name": "python",
   "nbconvert_exporter": "python",
   "pygments_lexer": "ipython3",
   "version": "3.12.3"
  }
 },
 "nbformat": 4,
 "nbformat_minor": 2
}
