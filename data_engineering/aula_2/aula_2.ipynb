{
 "cells": [
  {
   "cell_type": "markdown",
   "metadata": {},
   "source": [
    "# Aula 02 - July - 31 2024\n",
    "## Lógica de programação II\n",
    "\n",
    "* Dicionários e Tuplas\n",
    "\n",
    "## Estrutura de Dados\n",
    "Apresentaremos novas maneiras de armazenar e estruturar nossos dados.\n",
    "\n",
    "## Tuplas\n",
    "\n",
    "Tuplas podem ser pensadas como listas mas com algumas restrições:\n",
    "\n",
    "* Não podemos alterar uma tupla nem em ordem, nem conteúdo.\n",
    "\n",
    "Por que deveriamos usa-las então? Velocidade e organização de código. Um programador ao ver uma tupla sabe que seu conteúdo não pode ser alterado indiscriminadamente, além disso, a capacidade de alteração numa lista exige algoritmos mais complexos e lentos, então trabalhar com tuplas nos permite maior desempenho.\n",
    "\n",
    "As tuplas são declaradas entre parênteses, possuem algumas funções nativas semelhantes as listas, como **len()** e **type()**, e também são consultadas **(slicing)** da mesma maneira com os colchetes. As tuplas também aceitam dados mistos dentro de sí.\n",
    "\n",
    "A declaração de tuplas em Python é muito simples, basta adicionar seus elementos entre parênteses e separados por vírgula, conforme o exemplo a seguir:"
   ]
  },
  {
   "cell_type": "code",
   "execution_count": 3,
   "metadata": {},
   "outputs": [
    {
     "name": "stdout",
     "output_type": "stream",
     "text": [
      "<class 'tuple'>\n",
      "<class 'tuple'>\n",
      "<class 'tuple'>\n"
     ]
    }
   ],
   "source": [
    "#  Declaração de tuplas vazias\n",
    "tupla_frutas = ()\n",
    "tupla_carros = tuple()\n",
    "# Declaração de tuplas explícitas\n",
    "tupla_numeros = 1, 2, 3, 4, 5\n",
    "tupla_letras = ('a', 'b', 'c', 'd', 'e')\n",
    "nova_tupla = tuple('goiaba') # só aceita um argumento\n",
    "\n",
    "print(type(tupla_numeros))\n",
    "print(type(tupla_letras))\n",
    "print(type(nova_tupla))"
   ]
  },
  {
   "cell_type": "markdown",
   "metadata": {},
   "source": [
    "Para alterarmos uma tupla, podemos, por exemplo, **fazer um cast para listas**, alterar a lista, e retornar para uma tupla."
   ]
  },
  {
   "cell_type": "code",
   "execution_count": 12,
   "metadata": {},
   "outputs": [
    {
     "name": "stdout",
     "output_type": "stream",
     "text": [
      "Tupla antes da alteração\n",
      "(1, 2, 3, 4, 5)\n",
      "140278049672976\n",
      "(1, 2, 3, 4, 5, 6, 7, 8)\n",
      "140278134311984\n"
     ]
    }
   ],
   "source": [
    "tupla_numeros = 1, 2, 3, 4, 5\n",
    "print(\"Tupla antes da alteração\")\n",
    "print(tupla_numeros)\n",
    "print(id(f'Endereço de memória antes da alteração: {tupla_numeros}'))\n",
    "#Casting da tupla para lista\n",
    "lista_aux = list(tupla_numeros)\n",
    "\n",
    "#Adicionando elementos a agora lista\n",
    "lista_aux.append(6)\n",
    "lista_aux.append(7)\n",
    "lista_aux.append(8)\n",
    "\n",
    "# Tornando agora a lista em uma tupla novamente.\n",
    "tupla_numeros = tuple(lista_aux)\n",
    "print(tupla_numeros)\n",
    "print(id(f'Endereço de memória depois da alteração: {tupla_numeros}'))"
   ]
  },
  {
   "cell_type": "markdown",
   "metadata": {},
   "source": [
    "Tuplas podem ser desempacotadas, isso é, desmembrar seus valores para variaveis individuais"
   ]
  },
  {
   "cell_type": "code",
   "execution_count": 14,
   "metadata": {},
   "outputs": [
    {
     "name": "stdout",
     "output_type": "stream",
     "text": [
      "Maçã\n"
     ]
    }
   ],
   "source": [
    "tupla_frutas = \"Maçã\", \"Banana\", \"Uva\"\n",
    "# Atribuição da tupla a três variáveis individuais, poderia também ser feito atribuição à uma lista.\n",
    "fruta_1, fruta_2, fruta_3 = tupla_frutas\n",
    "\n",
    "print(fruta_1)\n",
    "\n"
   ]
  },
  {
   "cell_type": "markdown",
   "metadata": {},
   "source": [
    "Observação/lembrete:\n",
    "\n",
    "Uma outra maneira de desempacotar utilizando (*)"
   ]
  },
  {
   "cell_type": "code",
   "execution_count": 15,
   "metadata": {},
   "outputs": [
    {
     "ename": "ValueError",
     "evalue": "too many values to unpack (expected 3)",
     "output_type": "error",
     "traceback": [
      "\u001b[0;31m---------------------------------------------------------------------------\u001b[0m",
      "\u001b[0;31mValueError\u001b[0m                                Traceback (most recent call last)",
      "Cell \u001b[0;32mIn[15], line 5\u001b[0m\n\u001b[1;32m      2\u001b[0m a,b,c \u001b[38;5;241m=\u001b[39m \u001b[38;5;241m1\u001b[39m,\u001b[38;5;241m2\u001b[39m,\u001b[38;5;241m3\u001b[39m\n\u001b[1;32m      4\u001b[0m \u001b[38;5;66;03m# Assim teremos um erro!\u001b[39;00m\n\u001b[0;32m----> 5\u001b[0m a,b,c \u001b[38;5;241m=\u001b[39m \u001b[38;5;241m1\u001b[39m,\u001b[38;5;241m2\u001b[39m,\u001b[38;5;241m3\u001b[39m,\u001b[38;5;241m4\u001b[39m,\u001b[38;5;241m5\u001b[39m\n",
      "\u001b[0;31mValueError\u001b[0m: too many values to unpack (expected 3)"
     ]
    }
   ],
   "source": [
    "# Desempacotar devemos ter o mesmo números de variáveis que receberão os valores da tupla\n",
    "a,b,c = 1,2,3\n",
    "\n",
    "# Assim teremos um erro!\n",
    "a,b,c = 1,2,3,4,5"
   ]
  },
  {
   "cell_type": "code",
   "execution_count": 18,
   "metadata": {},
   "outputs": [
    {
     "name": "stdout",
     "output_type": "stream",
     "text": [
      "1 2 [3, 4, 5]\n",
      "=========================\n",
      "1\n",
      "[2, 3]\n",
      "4\n",
      "5\n"
     ]
    }
   ],
   "source": [
    "# Para fazer esse tipo de atribuição, podemos utilizar (*)\n",
    "a,b, *c = 1,2,3,4,5\n",
    "print(a,b,c)\n",
    "print(\"=========================\")\n",
    "a,*b,c,d = 1,2,3,4,5\n",
    "print(a)\n",
    "print(b)\n",
    "print(c)\n",
    "print(d)\n"
   ]
  },
  {
   "cell_type": "code",
   "execution_count": 20,
   "metadata": {},
   "outputs": [
    {
     "name": "stdout",
     "output_type": "stream",
     "text": [
      "1 <class 'int'>\n",
      "[3, 4]\n"
     ]
    }
   ],
   "source": [
    "# Também podemos guardar essas variáveis em uma tupla\n",
    "(a,b,*c,d) = 1,2,3,4,5\n",
    "print(a,type(a))\n",
    "print(c)"
   ]
  },
  {
   "cell_type": "markdown",
   "metadata": {},
   "source": [
    " Tuplas podem ser percorridas em loop igualmente às listas, além disso podemos concatenar tuplas com o + e multiplicar elas por inteiros usando *."
   ]
  },
  {
   "cell_type": "markdown",
   "metadata": {},
   "source": []
  },
  {
   "cell_type": "code",
   "execution_count": null,
   "metadata": {},
   "outputs": [],
   "source": []
  },
  {
   "cell_type": "code",
   "execution_count": 1,
   "metadata": {},
   "outputs": [
    {
     "data": {
      "text/plain": [
       "{'chave1': 'valor_unico',\n",
       " 'chave2': 'valor_unico',\n",
       " 'chave3': 'valor_unico',\n",
       " 'chave4': 'valor_unico'}"
      ]
     },
     "execution_count": 1,
     "metadata": {},
     "output_type": "execute_result"
    }
   ],
   "source": [
    "dicionario = {}\n",
    "\n",
    "#método fromkeys\n",
    "\n",
    "dicionario = dicionario.fromkeys([\"chave1\", \"chave2\", \"chave3\", \"chave4\",], \"valor_unico\")\n",
    "\n",
    "dicionario\n"
   ]
  },
  {
   "cell_type": "code",
   "execution_count": 7,
   "metadata": {},
   "outputs": [
    {
     "name": "stdout",
     "output_type": "stream",
     "text": [
      "{'nome': 'pedro', 'idade': 18, 'profissao': 'padeiro', 'filhos': ['pedro', 'luiza', 'maria']}\n",
      "Keys: dict_keys(['nome', 'idade', 'profissao', 'filhos'])\n",
      "Nome: pedro\n",
      "Values: dict_values(['pedro', 18, 'padeiro', ['pedro', 'luiza', 'maria']])\n",
      "Items: dict_items([('nome', 'pedro'), ('idade', 18), ('profissao', 'padeiro'), ('filhos', ['pedro', 'luiza', 'maria'])])\n"
     ]
    }
   ],
   "source": [
    "#Dicionario\n",
    "pessoa = {\n",
    "    \"nome\": \"pedro\",\n",
    "    \"idade\": 18,\n",
    "    \"profissao\": \"padeiro\",\n",
    "    \"filhos\": [\"pedro\", \"luiza\", \"maria\"],\n",
    "    }\n",
    "print(pessoa)\n",
    "print(f\"Keys: {pessoa.keys()}\")\n",
    "print(f\"Nome: {pessoa['nome']}\")\n",
    "print(f\"Values: {pessoa.values()}\")\n",
    "print(f\"Items: {pessoa.items()}\")\n"
   ]
  },
  {
   "cell_type": "code",
   "execution_count": 9,
   "metadata": {},
   "outputs": [
    {
     "data": {
      "text/plain": [
       "['nome', 'idade', 'profissao', 'filhos']"
      ]
     },
     "execution_count": 9,
     "metadata": {},
     "output_type": "execute_result"
    }
   ],
   "source": [
    "# convertendo para lista\n",
    "lista_chaves = list(pessoa.keys())\n",
    "\n",
    "lista_chaves\n"
   ]
  },
  {
   "cell_type": "code",
   "execution_count": 12,
   "metadata": {},
   "outputs": [
    {
     "name": "stdout",
     "output_type": "stream",
     "text": [
      "{'nome': 'pedro', 'idade': 18, 'profissao': 'padeiro', 'filhos': ['pedro', 'luiza', 'maria']}\n",
      "{'nome': 'pedro', 'idade': 18, 'profissao': 'padeiro', 'filhos': ['pedro', 'luiza', 'maria'], 'nacionaldade': 'Brasileiro'}\n"
     ]
    }
   ],
   "source": [
    "#adicionar chave: valor\n",
    "\n",
    "print(pessoa)\n",
    "pessoa['nacionaldade'] = 'Brasileiro'\n",
    "\n",
    "\n",
    "print(pessoa)"
   ]
  },
  {
   "cell_type": "code",
   "execution_count": 13,
   "metadata": {},
   "outputs": [
    {
     "name": "stdout",
     "output_type": "stream",
     "text": [
      "{'nome': 'Ausgusto', 'idade': 18, 'profissao': 'padeiro', 'filhos': ['pedro', 'luiza', 'maria'], 'nacionaldade': 'Brasileiro'}\n"
     ]
    }
   ],
   "source": [
    "# alterar chave e valor\n",
    "pessoa['nome'] = 'Ausgusto'\n",
    "\n",
    "print(pessoa)"
   ]
  },
  {
   "cell_type": "code",
   "execution_count": 14,
   "metadata": {},
   "outputs": [
    {
     "name": "stdout",
     "output_type": "stream",
     "text": [
      "{'nome': 'Ausgusto', 'idade': 35, 'profissao': 'padeiro', 'filhos': ['pedro', 'luiza', 'maria'], 'nacionaldade': 'Brasileiro', 'nacionalidade': 'americano', 'cachorro': 'fulio'}\n"
     ]
    }
   ],
   "source": [
    "# Update\n",
    "pessoa.update({'idade' : 35, 'nacionalidade' : 'americano', 'cachorro': 'fulio'})\n",
    "\n",
    "print(pessoa)"
   ]
  },
  {
   "cell_type": "code",
   "execution_count": 20,
   "metadata": {},
   "outputs": [
    {
     "name": "stdout",
     "output_type": "stream",
     "text": [
      "{'idade': 35, 'profissao': 'padeiro', 'filhos': ['pedro', 'luiza', 'maria'], 'nacionaldade': 'Brasileiro', 'nacionalidade': 'americano'}\n",
      "{'idade': 35, 'profissao': 'padeiro', 'filhos': ['pedro', 'luiza', 'maria'], 'nacionaldade': 'Brasileiro', 'nacionalidade': 'americano'}\n"
     ]
    },
    {
     "data": {
      "text/plain": [
       "('nacionalidade', 'americano')"
      ]
     },
     "execution_count": 20,
     "metadata": {},
     "output_type": "execute_result"
    }
   ],
   "source": [
    "#Remover chave: valor\n",
    "#pessoa.pop('nome')\n",
    "print(pessoa)\n",
    "\n",
    "#del pessoa['nacionaldade']\n",
    "print(pessoa)\n",
    "\n",
    "# remove ultima chave:valor\n",
    "pessoa.popitem()"
   ]
  },
  {
   "cell_type": "code",
   "execution_count": 21,
   "metadata": {},
   "outputs": [
    {
     "data": {
      "text/plain": [
       "{'nome': 'maria', 'nascimento': 'fortaleza', 'idade': 18}"
      ]
     },
     "execution_count": 21,
     "metadata": {},
     "output_type": "execute_result"
    }
   ],
   "source": [
    "dicionario_teste = {\n",
    "    'nome' : 'maria',\n",
    "    'nascimento': 'fortaleza',\n",
    "    'idade': 18\n",
    "}\n",
    "dicionario_teste"
   ]
  },
  {
   "cell_type": "code",
   "execution_count": 38,
   "metadata": {},
   "outputs": [
    {
     "name": "stdout",
     "output_type": "stream",
     "text": [
      "idade\n",
      "profissao\n",
      "filhos\n",
      "nacionaldade\n",
      "\n",
      "35\n",
      "padeiro\n",
      "['pedro', 'luiza', 'maria']\n",
      "Brasileiro\n",
      "\n",
      "35\n",
      "padeiro\n",
      "['pedro', 'luiza', 'maria']\n",
      "Brasileiro\n",
      "\n",
      "(0, 35)\n",
      "(1, 'padeiro')\n",
      "(2, ['pedro', 'luiza', 'maria'])\n",
      "(3, 'Brasileiro')\n",
      "\n",
      "(0, ('idade', 35))\n",
      "(1, ('profissao', 'padeiro'))\n",
      "(2, ('filhos', ['pedro', 'luiza', 'maria']))\n",
      "(3, ('nacionaldade', 'Brasileiro'))\n"
     ]
    }
   ],
   "source": [
    "# LOOPS \n",
    "pessoa2 = {\n",
    "    \"nome\": \"Luiz\",\n",
    "    \"idade\": 65,\n",
    "    \"profissao\": \"advogado\",\n",
    "    \"cachorros\": [\"pedro\", \"luiza\", \"maria\"],\n",
    "    }\n",
    "# iterar chaves\n",
    "for chave in pessoa:\n",
    "    print(chave)\n",
    "print(\"\")    \n",
    "for valor in pessoa:\n",
    "    print(pessoa[valor])\n",
    "    \n",
    "# iterar valores\n",
    "print(\"\")    \n",
    "# ou\n",
    "for valor in pessoa.values():\n",
    "    print(valor)\n",
    "    \n",
    "print(\"\") \n",
    "for valor in enumerate(pessoa.values()):\n",
    "    print(valor)\n",
    "\n",
    "print(\"\") \n",
    "for valor in enumerate(pessoa.items()):\n",
    "    print(valor)"
   ]
  },
  {
   "cell_type": "code",
   "execution_count": 35,
   "metadata": {},
   "outputs": [
    {
     "name": "stdout",
     "output_type": "stream",
     "text": [
      "1\n",
      "2\n",
      "3\n",
      "4\n",
      "5\n",
      "6\n",
      "==========\n",
      "(0, 1)\n",
      "(1, 2)\n",
      "(2, 3)\n",
      "(3, 4)\n",
      "(4, 5)\n",
      "(5, 6)\n"
     ]
    }
   ],
   "source": [
    "#Enumerates\n",
    "lista_teste = [1, 2, 3, 4, 5, 6]\n",
    "\n",
    "for numero in lista_teste:\n",
    "    print(numero)\n",
    "print(\"==========\")\n",
    "# iterar com enumerate\n",
    "for numero in enumerate(lista_teste):\n",
    "    print(numero)"
   ]
  },
  {
   "cell_type": "code",
   "execution_count": 42,
   "metadata": {},
   "outputs": [
    {
     "name": "stdout",
     "output_type": "stream",
     "text": [
      "(0, 'maçã')\n",
      "(1, 'banana')\n",
      "(2, 'pera')\n",
      "1\n",
      "maçã\n",
      "2\n",
      "banana\n",
      "3\n",
      "pera\n"
     ]
    }
   ],
   "source": [
    "frutas = ['maçã', 'banana', 'pera']\n",
    "\n",
    "for fruta in enumerate(frutas):\n",
    "    print(fruta)\n",
    "    \n",
    "#também podemos colocar um argumento opcional de start no nosso\n",
    "\n",
    "for indice, fruta in enumerate(frutas, 1):\n",
    "    print(indice)\n",
    "    print(fruta)\n",
    "    \n"
   ]
  },
  {
   "cell_type": "code",
   "execution_count": 46,
   "metadata": {},
   "outputs": [
    {
     "name": "stdout",
     "output_type": "stream",
     "text": [
      "===================\n",
      "('idade', 35)\n",
      "('profissao', 'padeiro')\n",
      "('filhos', ['pedro', 'luiza', 'maria'])\n",
      "('nacionaldade', 'Brasileiro')\n",
      "===================\n",
      "A chave (nome) possui o valor: Luiz\n",
      "A chave (idade) possui o valor: 65\n",
      "A chave (profissao) possui o valor: advogado\n",
      "A chave (cachorros) possui o valor: ['pedro', 'luiza', 'maria']\n"
     ]
    }
   ],
   "source": [
    "pessoa2\n",
    "\n",
    "print(\"===================\")\n",
    "for x in pessoa.items():\n",
    "    print(x)\n",
    "    \n",
    "print(\"===================\")\n",
    "for chave, valor in pessoa2.items():\n",
    "    print(f'A chave ({chave}) possui o valor: {valor}')"
   ]
  },
  {
   "cell_type": "code",
   "execution_count": 47,
   "metadata": {},
   "outputs": [
    {
     "name": "stdout",
     "output_type": "stream",
     "text": [
      "potato\n"
     ]
    }
   ],
   "source": [
    "#lista de listas\n",
    "lista_mista = [[1, 2, 3], ['apple', 'potato', 'grape']]\n",
    "\n",
    "print(lista_mista[-1][1])"
   ]
  },
  {
   "cell_type": "code",
   "execution_count": 52,
   "metadata": {},
   "outputs": [
    {
     "name": "stdout",
     "output_type": "stream",
     "text": [
      "felipe\n",
      "maria\n",
      "luiza\n"
     ]
    }
   ],
   "source": [
    "# dicionario com dicionarios\n",
    "filhos = {\n",
    "    'filho1': {\n",
    "        'nome': 'felipe',\n",
    "        'ano': 2004\n",
    "    }, \n",
    "    'filho2': {\n",
    "        'nome': 'maria',\n",
    "        'ano': 2008\n",
    "    },\n",
    "    'filho3': {\n",
    "        'nome': 'luiza',\n",
    "        'ano': 2010\n",
    "    }\n",
    "}\n",
    "\n",
    "#retornar nomes filhos\n",
    "print(filhos['filho1']['nome'])\n",
    "print(filhos['filho2']['nome'])\n",
    "print(filhos['filho3']['nome'])"
   ]
  },
  {
   "cell_type": "code",
   "execution_count": 53,
   "metadata": {},
   "outputs": [
    {
     "data": {
      "text/plain": [
       "False"
      ]
     },
     "execution_count": 53,
     "metadata": {},
     "output_type": "execute_result"
    }
   ],
   "source": [
    "# In\n",
    "# checando se valor esta na lista\n",
    "'banana' in ['uva', 'pera', 'tomate']"
   ]
  },
  {
   "cell_type": "code",
   "execution_count": 57,
   "metadata": {},
   "outputs": [
    {
     "data": {
      "text/plain": [
       "{'nome': 'josy',\n",
       " 'turma': '7B',\n",
       " 'kit_escolar': ['caneta', 'caderno', 'apontador']}"
      ]
     },
     "execution_count": 57,
     "metadata": {},
     "output_type": "execute_result"
    }
   ],
   "source": [
    "#in com dicionarios\n",
    "\n",
    "estudante = {\n",
    "    'nome': 'josy',\n",
    "    'turma': '7B'\n",
    "}\n",
    "\n",
    "#'professor' in estudante.keys()\n",
    "#'josy' in estudante.values()\n",
    "\n",
    "kit_escolar = ['caneta', 'caderno', 'apontador']\n",
    "\n",
    "if 'kit_escolar' not in estudante.keys():\n",
    "    estudante['kit_escolar'] = kit_escolar\n",
    "else:\n",
    "    print(\"Ja possui\")\n",
    "estudante"
   ]
  },
  {
   "cell_type": "code",
   "execution_count": null,
   "metadata": {},
   "outputs": [],
   "source": [
    "notas_alunos = {\n",
    "    'aluno1': [6,9,7,10],\n",
    "    'aluno2': [5,7,8,10],\n",
    "    'aluno3': [10,9,7,4.5]\n",
    "}\n",
    "\n",
    "#exibir quais alunos tem notas maior que 7\n",
    "#TODO: exibir a media\n",
    "#TODO: verificar se um valor esta na lista\n",
    "\n"
   ]
  }
 ],
 "metadata": {
  "kernelspec": {
   "display_name": ".venv",
   "language": "python",
   "name": "python3"
  },
  "language_info": {
   "codemirror_mode": {
    "name": "ipython",
    "version": 3
   },
   "file_extension": ".py",
   "mimetype": "text/x-python",
   "name": "python",
   "nbconvert_exporter": "python",
   "pygments_lexer": "ipython3",
   "version": "3.12.3"
  }
 },
 "nbformat": 4,
 "nbformat_minor": 2
}
