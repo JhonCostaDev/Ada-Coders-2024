{
 "cells": [
  {
   "cell_type": "code",
   "execution_count": null,
   "metadata": {},
   "outputs": [],
   "source": [
    "!pip install flask"
   ]
  },
  {
   "cell_type": "code",
   "execution_count": 1,
   "metadata": {},
   "outputs": [],
   "source": [
    "#importar o flask\n",
    "\n",
    "import flask"
   ]
  },
  {
   "cell_type": "code",
   "execution_count": 19,
   "metadata": {},
   "outputs": [],
   "source": [
    "# Iniciação da aplicação Flask\n",
    "app = flask.Flask(__name__)"
   ]
  },
  {
   "cell_type": "code",
   "execution_count": 20,
   "metadata": {},
   "outputs": [],
   "source": [
    "# definição da primeira rota do webhook com suporte a requisição HTTP POST\n",
    "@app.route(\"/inicio\", methods=[\"POST\"])\n",
    "def primeiro_webhook():\n",
    "\n",
    "    #recuperar o conteúdo da requisição HTTP\n",
    "    data = flask.request.get_json()\n",
    "\n",
    "    #imprimir o valor\n",
    "    print('INÍCIO: ', data)\n",
    "\n",
    "    return \"OK\"\n",
    "\n",
    "\n",
    "@app.route(\"/cadastro\", methods=[\"POST\"])\n",
    "def cadastro_webhook():\n",
    "    data = flask.request.get_json()\n",
    "\n",
    "    linha = data\n",
    "    for i in linha:\n",
    "        print(i)\n",
    "        cod = i['ID']\n",
    "        idade = i['idade']\n",
    "        cidade = i['cidade']\n",
    "\n",
    "        print(f'ID: {cod} - Idade: {idade} - Cidade: {cidade}')\n",
    "\n",
    "    return \"OK\"    "
   ]
  },
  {
   "cell_type": "code",
   "execution_count": 21,
   "metadata": {},
   "outputs": [
    {
     "name": "stdout",
     "output_type": "stream",
     "text": [
      " * Serving Flask app '__main__'\n",
      " * Debug mode: off\n"
     ]
    },
    {
     "name": "stderr",
     "output_type": "stream",
     "text": [
      "\u001b[31m\u001b[1mWARNING: This is a development server. Do not use it in a production deployment. Use a production WSGI server instead.\u001b[0m\n",
      " * Running on http://127.0.0.1:5000\n",
      "\u001b[33mPress CTRL+C to quit\u001b[0m\n",
      "127.0.0.1 - - [18/Oct/2024 20:30:58] \"POST /cadastro HTTP/1.1\" 200 -\n"
     ]
    },
    {
     "name": "stdout",
     "output_type": "stream",
     "text": [
      "{'ID': 1, 'idade': 30, 'cidade': 'Maceio'}\n",
      "ID: 1 - Idade: 30 - Cidade: Maceio\n",
      "{'ID': 2, 'idade': 18, 'cidade': 'Sao Paulo'}\n",
      "ID: 2 - Idade: 18 - Cidade: Sao Paulo\n",
      "{'ID': 3, 'idade': 67, 'cidade': 'Curitiba'}\n",
      "ID: 3 - Idade: 67 - Cidade: Curitiba\n",
      "{'ID': 4, 'idade': 45, 'cidade': 'Cuiaba'}\n",
      "ID: 4 - Idade: 45 - Cidade: Cuiaba\n",
      "{'ID': 5, 'idade': 19, 'cidade': 'Vitoria'}\n",
      "ID: 5 - Idade: 19 - Cidade: Vitoria\n",
      "{'ID': 6, 'idade': 21, 'cidade': 'Manaus'}\n",
      "ID: 6 - Idade: 21 - Cidade: Manaus\n",
      "{'ID': 7, 'idade': 25, 'cidade': 'Rio de Janeiro'}\n",
      "ID: 7 - Idade: 25 - Cidade: Rio de Janeiro\n",
      "{'ID': 8, 'idade': 36, 'cidade': 'Belem'}\n",
      "ID: 8 - Idade: 36 - Cidade: Belem\n",
      "{'ID': 9, 'idade': 46, 'cidade': 'Goiania'}\n",
      "ID: 9 - Idade: 46 - Cidade: Goiania\n",
      "{'ID': 10, 'idade': 59, 'cidade': 'Porto Alegre'}\n",
      "ID: 10 - Idade: 59 - Cidade: Porto Alegre\n"
     ]
    }
   ],
   "source": [
    "app.run()"
   ]
  }
 ],
 "metadata": {
  "kernelspec": {
   "display_name": "Python 3",
   "language": "python",
   "name": "python3"
  },
  "language_info": {
   "codemirror_mode": {
    "name": "ipython",
    "version": 3
   },
   "file_extension": ".py",
   "mimetype": "text/x-python",
   "name": "python",
   "nbconvert_exporter": "python",
   "pygments_lexer": "ipython3",
   "version": "3.11.9"
  }
 },
 "nbformat": 4,
 "nbformat_minor": 2
}
