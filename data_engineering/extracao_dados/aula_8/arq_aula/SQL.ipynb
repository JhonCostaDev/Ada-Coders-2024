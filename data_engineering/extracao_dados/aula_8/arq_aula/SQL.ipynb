{
 "cells": [
  {
   "cell_type": "markdown",
   "id": "06ff6cc1",
   "metadata": {},
   "source": [
    "#### LINGUAGUEM SQL\n",
    "\n",
    "&nbsp;\n",
    "\n",
    "**DDL** - Data Definition Language: São os comandos que interagem com os objetos do banco.\n",
    "\n",
    "*Comandos DDL : CREATE, ALTER e DROP*\n",
    "\n",
    "------------\n",
    "\n",
    "**DML** - Data Manipulation Language: São os comandos que interagem com os dados dentro das tabelas.\n",
    "\n",
    "*Comandos DML : INSERT, DELETE e UPDATE*\n",
    "\n",
    "-----\n",
    "\n",
    "**DQL** - Data Query Language: São os comandos de consulta.\n",
    "\n",
    "*Comandos DQL : SELECT (é o comando de consulta)*\n",
    "\n",
    "----\n",
    "\n",
    "**DTL** - Data Transaction Language: São os comandos para controle de transação.\n",
    "\n",
    "*Comandos DTL : BEGIN TRANSACTION, COMMIT E ROLLBACK*\n",
    "\n",
    "----\n",
    "\n",
    "**DCL** - Data Control Language: São os comandos para controlar a parte de segurança do banco de dados.\n",
    "\n",
    "*Comandos DCL : GRANT, REVOKE E DENY*\n",
    "\n"
   ]
  },
  {
   "cell_type": "markdown",
   "id": "bb73f96c",
   "metadata": {},
   "source": [
    "![](img/sql2.jpeg)"
   ]
  },
  {
   "cell_type": "markdown",
   "id": "8b60e090",
   "metadata": {},
   "source": [
    "**DDL** Exemplos:\n",
    "\n",
    "\n",
    "- Criação de usuário: *```CREATE USER '<usuario>'@'<host>' IDENTIFIED BY '<senha>'; ```*\n",
    "\n",
    "- Criação de banco de dados: *```CREATE DATABASE <banco_dados>;```*\n",
    "\n",
    "- Excluir banco de dados: *```DROP DATABASE <banco_dados>;```*\n",
    "\n",
    "- Alterar senha de usuario: *```ALTER USER '<usuario>'@'<host>' IDENTIFIED BY '<senha>';```*\n",
    "\n",
    "- Alterar nome usuario: *```RENAME USER '<usuario>'@'<host>' TO '<novo_usuario>'@'<host>';```*\n",
    "\n",
    "- Criar tabela em banco de dados: \n",
    "\n",
    "```\n",
    "CREATE TABLE <tabela>\n",
    "( <coluna1> <data_type> [NOT NULL, PRIMARY KEY, AUTO INCREMENT, ...],\n",
    "  <coluna2> <data_type>,\n",
    "  ...\n",
    ");\n",
    "```\n",
    "---"
   ]
  },
  {
   "cell_type": "markdown",
   "id": "014afa9e",
   "metadata": {},
   "source": [
    "**DCL** Exemplos:\n",
    "\n",
    "Conceder privilégios a um BD: \n",
    "\n",
    "- Acesso total: ```GRANT ALL PRIVILEGES ON <banco_dados>.<tabelas> TO '<usuario>'@'<host>';```\n",
    "\n",
    "- Acesso apenas leitura: ```GRANT SELECT ON <banco_dados>.<tabelas> TO '<usuario>'@'<host>';```\n",
    "- ... : ```GRANT [SELECT, INSERT, UPDATE, DELETE] ON <banco_dados>.<tabelas> TO '<usuario>'@'<host>';```\n",
    "\n",
    "&nbsp;\n",
    "\n",
    "Revogar privilégios a um BD:\n",
    "\n",
    "- Revogar todos os privilégios: ```REVOKE ALL, GRANT OPTION FROM <usuario>@<host>;```\n",
    "\n",
    "- Revogar privilégio de delete: ```REVOKE DELETE ON <banco_dados>.<tabelas> FROM <usuario>@<host>;```\n",
    "\n",
    "- Revogar acesso de update em um atributo específico: \n",
    "```REVOKE UPDATE (<coluna>) ON <banco_dados>.<tabela> FROM <usuario>@<host>; ```\n",
    "\n",
    "---"
   ]
  },
  {
   "cell_type": "markdown",
   "id": "81ed0a50",
   "metadata": {},
   "source": [
    "**DML** Exemplos:\n",
    "\n",
    "- Inserir: ```INSERT INTO <tabela> (<colunas>) VALUES (<valor>);```\n",
    "- Atualizar: \n",
    "```UPDATE <tabela> SET <coluna> = <novo_valor> WHERE [<condições>];```\n",
    "- Deletar: ```DELETE FROM <tabela> WHERE [<condições>];```\n"
   ]
  },
  {
   "cell_type": "markdown",
   "id": "a9fb76d5",
   "metadata": {},
   "source": [
    "**DQL**:\n",
    "\n",
    "```\n",
    "SELECT <colunas>\n",
    "FROM <tabela>\n",
    "WHERE <condições>\n",
    "[GROUP BY <coluna>]\n",
    "[ORDER BY <coluna>]\n",
    "```"
   ]
  },
  {
   "cell_type": "markdown",
   "id": "334296fd",
   "metadata": {},
   "source": []
  }
 ],
 "metadata": {
  "kernelspec": {
   "display_name": "Python 3 (ipykernel)",
   "language": "python",
   "name": "python3"
  },
  "language_info": {
   "codemirror_mode": {
    "name": "ipython",
    "version": 3
   },
   "file_extension": ".py",
   "mimetype": "text/x-python",
   "name": "python",
   "nbconvert_exporter": "python",
   "pygments_lexer": "ipython3",
   "version": "3.8.8"
  }
 },
 "nbformat": 4,
 "nbformat_minor": 5
}
