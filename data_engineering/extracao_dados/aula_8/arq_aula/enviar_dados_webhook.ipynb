{
 "cells": [
  {
   "cell_type": "code",
   "execution_count": 1,
   "metadata": {},
   "outputs": [],
   "source": [
    "import requests\n",
    "import json"
   ]
  },
  {
   "cell_type": "code",
   "execution_count": 7,
   "metadata": {},
   "outputs": [],
   "source": [
    "#url para envio da msg\n",
    "url_rota_inicio = 'http://127.0.0.1:5000/inicio'"
   ]
  },
  {
   "cell_type": "code",
   "execution_count": 17,
   "metadata": {},
   "outputs": [],
   "source": [
    "#criar o dado que será enviado para o webhook\n",
    "data = {\"message\": \"Hello world\", \n",
    "        \"a\": 12,\n",
    "        \"lista\": [5,4,3,2,1]}"
   ]
  },
  {
   "cell_type": "code",
   "execution_count": 18,
   "metadata": {},
   "outputs": [
    {
     "name": "stdout",
     "output_type": "stream",
     "text": [
      "<Response [200]>\n"
     ]
    }
   ],
   "source": [
    "# enviar a msg via requisição HTTP POST\n",
    "response = requests.post(url= url_rota_inicio, json=data)\n",
    "print(response)"
   ]
  },
  {
   "cell_type": "code",
   "execution_count": 22,
   "metadata": {},
   "outputs": [
    {
     "name": "stdout",
     "output_type": "stream",
     "text": [
      "<Response [200]>\n"
     ]
    }
   ],
   "source": [
    "####### CHAMADA A ROTA CADASTRO\n",
    "\n",
    "import pandas as pd\n",
    "\n",
    "dados = {'ID': [1,2,3,4,5,6,7,8,9,10],\n",
    "         'idade': [30, 18, 67, 45, 19, 21, 25, 36, 46, 59],\n",
    "         'cidade': ['Maceio', 'Sao Paulo', 'Curitiba', 'Cuiaba', 'Vitoria',\n",
    "                    'Manaus', 'Rio de Janeiro', 'Belem', 'Goiania', 'Porto Alegre']}\n",
    "\n",
    "df = pd.DataFrame(dados)\n",
    "\n",
    "\n",
    "\n",
    "url_cadastro = 'http://127.0.0.1:5000/cadastro'\n",
    "\n",
    "data_json = df.to_dict(orient='records')\n",
    "\n",
    "response = requests.post(url= url_cadastro, json=data_json)\n",
    "print(response)\n",
    "\n",
    "\n",
    "\n"
   ]
  },
  {
   "cell_type": "code",
   "execution_count": null,
   "metadata": {},
   "outputs": [],
   "source": []
  }
 ],
 "metadata": {
  "kernelspec": {
   "display_name": "Python 3",
   "language": "python",
   "name": "python3"
  },
  "language_info": {
   "codemirror_mode": {
    "name": "ipython",
    "version": 3
   },
   "file_extension": ".py",
   "mimetype": "text/x-python",
   "name": "python",
   "nbconvert_exporter": "python",
   "pygments_lexer": "ipython3",
   "version": "3.11.9"
  }
 },
 "nbformat": 4,
 "nbformat_minor": 2
}
