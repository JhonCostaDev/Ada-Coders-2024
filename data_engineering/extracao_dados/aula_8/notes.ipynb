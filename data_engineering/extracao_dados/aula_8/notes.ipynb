{
 "cells": [
  {
   "cell_type": "markdown",
   "metadata": {},
   "source": [
    "Friday - Oct 18th 2024\n"
   ]
  },
  {
   "cell_type": "code",
   "execution_count": 2,
   "metadata": {},
   "outputs": [
    {
     "name": "stdout",
     "output_type": "stream",
     "text": [
      "Collecting flask\n",
      "  Downloading flask-3.0.3-py3-none-any.whl.metadata (3.2 kB)\n",
      "Collecting Werkzeug>=3.0.0 (from flask)\n",
      "  Downloading werkzeug-3.0.4-py3-none-any.whl.metadata (3.7 kB)\n",
      "Requirement already satisfied: Jinja2>=3.1.2 in /home/jonathan/Documents/GitHub/Ada-Coders-2024/.venv/lib/python3.12/site-packages (from flask) (3.1.4)\n",
      "Collecting itsdangerous>=2.1.2 (from flask)\n",
      "  Downloading itsdangerous-2.2.0-py3-none-any.whl.metadata (1.9 kB)\n",
      "Collecting click>=8.1.3 (from flask)\n",
      "  Downloading click-8.1.7-py3-none-any.whl.metadata (3.0 kB)\n",
      "Collecting blinker>=1.6.2 (from flask)\n",
      "  Downloading blinker-1.8.2-py3-none-any.whl.metadata (1.6 kB)\n",
      "Requirement already satisfied: MarkupSafe>=2.0 in /home/jonathan/Documents/GitHub/Ada-Coders-2024/.venv/lib/python3.12/site-packages (from Jinja2>=3.1.2->flask) (2.1.5)\n",
      "Downloading flask-3.0.3-py3-none-any.whl (101 kB)\n",
      "Downloading blinker-1.8.2-py3-none-any.whl (9.5 kB)\n",
      "Downloading click-8.1.7-py3-none-any.whl (97 kB)\n",
      "Downloading itsdangerous-2.2.0-py3-none-any.whl (16 kB)\n",
      "Downloading werkzeug-3.0.4-py3-none-any.whl (227 kB)\n",
      "Installing collected packages: Werkzeug, itsdangerous, click, blinker, flask\n",
      "Successfully installed Werkzeug-3.0.4 blinker-1.8.2 click-8.1.7 flask-3.0.3 itsdangerous-2.2.0\n"
     ]
    }
   ],
   "source": [
    "# enviar dados webhook\n",
    "# importar flask\n",
    "# TODO: estudar sobre flask\n",
    "!pip install flask"
   ]
  },
  {
   "cell_type": "code",
   "execution_count": 1,
   "metadata": {},
   "outputs": [],
   "source": [
    "import flask"
   ]
  },
  {
   "cell_type": "code",
   "execution_count": 2,
   "metadata": {},
   "outputs": [],
   "source": [
    "# Iniciação da aplicação Flask\n",
    "app = flask.Flask(__name__)"
   ]
  },
  {
   "cell_type": "code",
   "execution_count": 3,
   "metadata": {},
   "outputs": [],
   "source": [
    "# Definição da primeira rota do webhook com suporte a requisição HTTP POST\n",
    "@app.route(\"/inicio\",  methods=[\"POST\"])\n",
    "\n",
    "def primeiro_webhook():\n",
    "    # Recuperar o conteúdo da requisição HTTP \n",
    "    data = flask.request.get_json()\n",
    "    \n",
    "    # Imprimir o valor\n",
    "    print('Resposta', data)\n",
    "    return 'ok'\n",
    "\n",
    "\n",
    "\n",
    "# Outra rota\n",
    "@app.route('/cadastro', methods=['POST'])\n",
    "def cadastro_webhook():\n",
    "    data = flask.request.get_json()\n",
    "    linha = data\n",
    "    for i in linha:\n",
    "        print(i)\n",
    "        cod = i['ID']\n",
    "        idade = i['idade']\n",
    "        cidade = i['cidade']\n",
    "        \n",
    "        print(f'ID: {cod}, idade: {idade}, cidade: {cidade}')\n",
    "    #print('CADASTRO: ', data)\n",
    "    return 'Okay'"
   ]
  },
  {
   "cell_type": "code",
   "execution_count": 4,
   "metadata": {},
   "outputs": [
    {
     "name": "stdout",
     "output_type": "stream",
     "text": [
      " * Serving Flask app '__main__'\n",
      " * Debug mode: off\n"
     ]
    },
    {
     "name": "stderr",
     "output_type": "stream",
     "text": [
      "\u001b[31m\u001b[1mWARNING: This is a development server. Do not use it in a production deployment. Use a production WSGI server instead.\u001b[0m\n",
      " * Running on http://127.0.0.1:5000\n",
      "\u001b[33mPress CTRL+C to quit\u001b[0m\n",
      "127.0.0.1 - - [18/Oct/2024 20:32:07] \"POST /inicio HTTP/1.1\" 200 -\n"
     ]
    },
    {
     "name": "stdout",
     "output_type": "stream",
     "text": [
      "Resposta {'message': 'Hello world'}\n"
     ]
    },
    {
     "name": "stderr",
     "output_type": "stream",
     "text": [
      "127.0.0.1 - - [18/Oct/2024 20:32:15] \"POST /cadastro HTTP/1.1\" 200 -\n"
     ]
    },
    {
     "name": "stdout",
     "output_type": "stream",
     "text": [
      "{'ID': 1, 'idade': 23, 'cidade': 'fortaleza'}\n",
      "ID: 1, idade: 23, cidade: fortaleza\n",
      "{'ID': 2, 'idade': 42, 'cidade': 'maceio'}\n",
      "ID: 2, idade: 42, cidade: maceio\n",
      "{'ID': 3, 'idade': 12, 'cidade': 'sao paulo'}\n",
      "ID: 3, idade: 12, cidade: sao paulo\n",
      "{'ID': 4, 'idade': 6, 'cidade': 'porto alegra'}\n",
      "ID: 4, idade: 6, cidade: porto alegra\n",
      "{'ID': 5, 'idade': 23, 'cidade': 'natal'}\n",
      "ID: 5, idade: 23, cidade: natal\n",
      "{'ID': 6, 'idade': 54, 'cidade': 'curitiba'}\n",
      "ID: 6, idade: 54, cidade: curitiba\n",
      "{'ID': 7, 'idade': 12, 'cidade': 'manaus'}\n",
      "ID: 7, idade: 12, cidade: manaus\n",
      "{'ID': 8, 'idade': 64, 'cidade': 'sao luiz'}\n",
      "ID: 8, idade: 64, cidade: sao luiz\n",
      "{'ID': 9, 'idade': 33, 'cidade': 'salvador'}\n",
      "ID: 9, idade: 33, cidade: salvador\n",
      "{'ID': 10, 'idade': 21, 'cidade': 'rio de janeiro'}\n",
      "ID: 10, idade: 21, cidade: rio de janeiro\n"
     ]
    }
   ],
   "source": [
    "app.run()"
   ]
  },
  {
   "cell_type": "code",
   "execution_count": null,
   "metadata": {},
   "outputs": [],
   "source": []
  },
  {
   "cell_type": "markdown",
   "metadata": {},
   "source": [
    "outro notebook"
   ]
  },
  {
   "cell_type": "code",
   "execution_count": 11,
   "metadata": {},
   "outputs": [
    {
     "name": "stdout",
     "output_type": "stream",
     "text": [
      "Collecting psycopg2-binary\n",
      "  Using cached psycopg2_binary-2.9.10-cp312-cp312-manylinux_2_17_x86_64.manylinux2014_x86_64.whl.metadata (4.9 kB)\n",
      "Using cached psycopg2_binary-2.9.10-cp312-cp312-manylinux_2_17_x86_64.manylinux2014_x86_64.whl (3.0 MB)\n",
      "Installing collected packages: psycopg2-binary\n",
      "Successfully installed psycopg2-binary-2.9.10\n"
     ]
    }
   ],
   "source": [
    "!pip install psycopg2-binary"
   ]
  },
  {
   "cell_type": "code",
   "execution_count": 12,
   "metadata": {},
   "outputs": [
    {
     "data": {
      "text/html": [
       "<div>\n",
       "<style scoped>\n",
       "    .dataframe tbody tr th:only-of-type {\n",
       "        vertical-align: middle;\n",
       "    }\n",
       "\n",
       "    .dataframe tbody tr th {\n",
       "        vertical-align: top;\n",
       "    }\n",
       "\n",
       "    .dataframe thead th {\n",
       "        text-align: right;\n",
       "    }\n",
       "</style>\n",
       "<table border=\"1\" class=\"dataframe\">\n",
       "  <thead>\n",
       "    <tr style=\"text-align: right;\">\n",
       "      <th></th>\n",
       "      <th>cliente_id</th>\n",
       "      <th>nome</th>\n",
       "      <th>email</th>\n",
       "      <th>telefone</th>\n",
       "      <th>data_de_nascimento</th>\n",
       "      <th>endereco</th>\n",
       "      <th>data_de_registro</th>\n",
       "    </tr>\n",
       "  </thead>\n",
       "  <tbody>\n",
       "    <tr>\n",
       "      <th>0</th>\n",
       "      <td>1</td>\n",
       "      <td>Irina Romanov</td>\n",
       "      <td>irina_r@email.com</td>\n",
       "      <td>31 9-9886-3627</td>\n",
       "      <td>2024-10-10</td>\n",
       "      <td>Rua das tetulias, 800 - Bairro: Nova Luz</td>\n",
       "      <td>2024-10-10 21:18:44.510069</td>\n",
       "    </tr>\n",
       "    <tr>\n",
       "      <th>1</th>\n",
       "      <td>2</td>\n",
       "      <td>Ana Maria Souza</td>\n",
       "      <td>ana.souza@example.com</td>\n",
       "      <td>(11) 98765-4321</td>\n",
       "      <td>1990-01-15</td>\n",
       "      <td>Rua das Flores, 123, São Paulo, SP</td>\n",
       "      <td>2024-10-10 21:55:42.485404</td>\n",
       "    </tr>\n",
       "    <tr>\n",
       "      <th>2</th>\n",
       "      <td>3</td>\n",
       "      <td>Bruno Oliveira</td>\n",
       "      <td>bruno.oliveira@example.com</td>\n",
       "      <td>(21) 91234-5678</td>\n",
       "      <td>1985-06-22</td>\n",
       "      <td>Avenida Brasil, 456, Rio de Janeiro, RJ</td>\n",
       "      <td>2024-10-10 21:55:42.485404</td>\n",
       "    </tr>\n",
       "    <tr>\n",
       "      <th>3</th>\n",
       "      <td>4</td>\n",
       "      <td>Carlos Eduardo Lima</td>\n",
       "      <td>carlos.lima@example.com</td>\n",
       "      <td>(31) 99876-5432</td>\n",
       "      <td>1992-11-30</td>\n",
       "      <td>Rua Minas Gerais, 789, Belo Horizonte, MG</td>\n",
       "      <td>2024-10-10 21:55:42.485404</td>\n",
       "    </tr>\n",
       "    <tr>\n",
       "      <th>4</th>\n",
       "      <td>5</td>\n",
       "      <td>Daniela Pereira</td>\n",
       "      <td>daniela.pereira@example.com</td>\n",
       "      <td>(51) 98765-1234</td>\n",
       "      <td>1988-04-10</td>\n",
       "      <td>Rua da Praia, 101, Porto Alegre, RS</td>\n",
       "      <td>2024-10-10 21:55:42.485404</td>\n",
       "    </tr>\n",
       "    <tr>\n",
       "      <th>5</th>\n",
       "      <td>6</td>\n",
       "      <td>Eduardo Silva</td>\n",
       "      <td>eduardo.silva@example.com</td>\n",
       "      <td>(41) 91234-8765</td>\n",
       "      <td>1979-02-18</td>\n",
       "      <td>Avenida Paraná, 202, Curitiba, PR</td>\n",
       "      <td>2024-10-10 21:55:42.485404</td>\n",
       "    </tr>\n",
       "    <tr>\n",
       "      <th>6</th>\n",
       "      <td>7</td>\n",
       "      <td>Fernanda Costa</td>\n",
       "      <td>fernanda.costa@example.com</td>\n",
       "      <td>(71) 99876-5432</td>\n",
       "      <td>1995-12-05</td>\n",
       "      <td>Rua Bahia, 303, Salvador, BA</td>\n",
       "      <td>2024-10-10 21:55:42.485404</td>\n",
       "    </tr>\n",
       "    <tr>\n",
       "      <th>7</th>\n",
       "      <td>8</td>\n",
       "      <td>Guilherme Almeida</td>\n",
       "      <td>guilherme.almeida@example.com</td>\n",
       "      <td>(61) 98765-4321</td>\n",
       "      <td>1983-09-25</td>\n",
       "      <td>Avenida Central, 404, Brasília, DF</td>\n",
       "      <td>2024-10-10 21:55:42.485404</td>\n",
       "    </tr>\n",
       "    <tr>\n",
       "      <th>8</th>\n",
       "      <td>9</td>\n",
       "      <td>Helena Fernandes</td>\n",
       "      <td>helena.fernandes@example.com</td>\n",
       "      <td>(51) 91234-5678</td>\n",
       "      <td>1991-07-12</td>\n",
       "      <td>Rua da Ladeira, 505, Porto Alegre, RS</td>\n",
       "      <td>2024-10-10 21:55:42.485404</td>\n",
       "    </tr>\n",
       "    <tr>\n",
       "      <th>9</th>\n",
       "      <td>10</td>\n",
       "      <td>Igor Santos</td>\n",
       "      <td>igor.santos@example.com</td>\n",
       "      <td>(31) 99876-5432</td>\n",
       "      <td>1986-03-07</td>\n",
       "      <td>Avenida Afonso Pena, 606, Belo Horizonte, MG</td>\n",
       "      <td>2024-10-10 21:55:42.485404</td>\n",
       "    </tr>\n",
       "    <tr>\n",
       "      <th>10</th>\n",
       "      <td>11</td>\n",
       "      <td>Juliana Rocha</td>\n",
       "      <td>juliana.rocha@example.com</td>\n",
       "      <td>(21) 98765-1234</td>\n",
       "      <td>1993-08-19</td>\n",
       "      <td>Rua das Palmeiras, 707, Rio de Janeiro, RJ</td>\n",
       "      <td>2024-10-10 21:55:42.485404</td>\n",
       "    </tr>\n",
       "  </tbody>\n",
       "</table>\n",
       "</div>"
      ],
      "text/plain": [
       "    cliente_id                 nome                          email  \\\n",
       "0            1        Irina Romanov              irina_r@email.com   \n",
       "1            2      Ana Maria Souza          ana.souza@example.com   \n",
       "2            3       Bruno Oliveira     bruno.oliveira@example.com   \n",
       "3            4  Carlos Eduardo Lima        carlos.lima@example.com   \n",
       "4            5      Daniela Pereira    daniela.pereira@example.com   \n",
       "5            6        Eduardo Silva      eduardo.silva@example.com   \n",
       "6            7       Fernanda Costa     fernanda.costa@example.com   \n",
       "7            8    Guilherme Almeida  guilherme.almeida@example.com   \n",
       "8            9     Helena Fernandes   helena.fernandes@example.com   \n",
       "9           10          Igor Santos        igor.santos@example.com   \n",
       "10          11        Juliana Rocha      juliana.rocha@example.com   \n",
       "\n",
       "           telefone data_de_nascimento  \\\n",
       "0    31 9-9886-3627         2024-10-10   \n",
       "1   (11) 98765-4321         1990-01-15   \n",
       "2   (21) 91234-5678         1985-06-22   \n",
       "3   (31) 99876-5432         1992-11-30   \n",
       "4   (51) 98765-1234         1988-04-10   \n",
       "5   (41) 91234-8765         1979-02-18   \n",
       "6   (71) 99876-5432         1995-12-05   \n",
       "7   (61) 98765-4321         1983-09-25   \n",
       "8   (51) 91234-5678         1991-07-12   \n",
       "9   (31) 99876-5432         1986-03-07   \n",
       "10  (21) 98765-1234         1993-08-19   \n",
       "\n",
       "                                        endereco           data_de_registro  \n",
       "0       Rua das tetulias, 800 - Bairro: Nova Luz 2024-10-10 21:18:44.510069  \n",
       "1             Rua das Flores, 123, São Paulo, SP 2024-10-10 21:55:42.485404  \n",
       "2        Avenida Brasil, 456, Rio de Janeiro, RJ 2024-10-10 21:55:42.485404  \n",
       "3      Rua Minas Gerais, 789, Belo Horizonte, MG 2024-10-10 21:55:42.485404  \n",
       "4            Rua da Praia, 101, Porto Alegre, RS 2024-10-10 21:55:42.485404  \n",
       "5              Avenida Paraná, 202, Curitiba, PR 2024-10-10 21:55:42.485404  \n",
       "6                   Rua Bahia, 303, Salvador, BA 2024-10-10 21:55:42.485404  \n",
       "7             Avenida Central, 404, Brasília, DF 2024-10-10 21:55:42.485404  \n",
       "8          Rua da Ladeira, 505, Porto Alegre, RS 2024-10-10 21:55:42.485404  \n",
       "9   Avenida Afonso Pena, 606, Belo Horizonte, MG 2024-10-10 21:55:42.485404  \n",
       "10    Rua das Palmeiras, 707, Rio de Janeiro, RJ 2024-10-10 21:55:42.485404  "
      ]
     },
     "execution_count": 12,
     "metadata": {},
     "output_type": "execute_result"
    }
   ],
   "source": [
    "import pandas as pd \n",
    "from sqlalchemy import create_engine\n",
    "\n",
    "\n",
    "# Configurações de conexão\n",
    "host = '192.168.0.110'\n",
    "dbname = 'second_database'\n",
    "user = 'jhon'\n",
    "password = 'db5417'\n",
    "port = '5432'  # Porta padrão do PostgreSQL\n",
    "\n",
    "\n",
    "# Crie a URL de conexão\n",
    "db_url = f'postgresql://{user}:{password}@{host}:{port}/{dbname}'\n",
    "\n",
    "# Crie o engine\n",
    "engine = create_engine(db_url)\n",
    "\n",
    "# Escreva a consulta SQL\n",
    "query = \"SELECT * FROM clientes;\"\n",
    "\n",
    "# Carregue os dados em um DataFrame\n",
    "df = pd.read_sql(query, engine)\n",
    "\n",
    "# Exiba os dados\n",
    "df"
   ]
  },
  {
   "cell_type": "code",
   "execution_count": null,
   "metadata": {},
   "outputs": [],
   "source": []
  },
  {
   "cell_type": "markdown",
   "metadata": {},
   "source": [
    "POs intervalo"
   ]
  },
  {
   "cell_type": "code",
   "execution_count": null,
   "metadata": {
    "vscode": {
     "languageId": "sql"
    }
   },
   "outputs": [],
   "source": [
    "psql -h localhost -U seu_usuario -d nome_do_banco_de_dados\n"
   ]
  },
  {
   "cell_type": "code",
   "execution_count": null,
   "metadata": {},
   "outputs": [],
   "source": []
  }
 ],
 "metadata": {
  "kernelspec": {
   "display_name": ".venv",
   "language": "python",
   "name": "python3"
  },
  "language_info": {
   "codemirror_mode": {
    "name": "ipython",
    "version": 3
   },
   "file_extension": ".py",
   "mimetype": "text/x-python",
   "name": "python",
   "nbconvert_exporter": "python",
   "pygments_lexer": "ipython3",
   "version": "3.12.3"
  }
 },
 "nbformat": 4,
 "nbformat_minor": 2
}
