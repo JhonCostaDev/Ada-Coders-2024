{
 "cells": [
  {
   "cell_type": "code",
   "execution_count": 0,
   "metadata": {
    "application/vnd.databricks.v1+cell": {
     "cellMetadata": {
      "byteLimit": 2048000,
      "rowLimit": 10000
     },
     "inputWidgets": {},
     "nuid": "de8f674b-20ea-49db-afa8-6aa10e5a6add",
     "showTitle": false,
     "title": ""
    }
   },
   "outputs": [],
   "source": [
    "from pyspark.sql.functions import col, from_json, lit\n",
    "from pyspark.sql.types import IntegerType, StringType, StructType"
   ]
  },
  {
   "cell_type": "code",
   "execution_count": 0,
   "metadata": {
    "application/vnd.databricks.v1+cell": {
     "cellMetadata": {
      "byteLimit": 2048000,
      "rowLimit": 10000
     },
     "inputWidgets": {},
     "nuid": "1242151a-8ccf-4a62-968e-6f8834816b41",
     "showTitle": false,
     "title": ""
    }
   },
   "outputs": [],
   "source": [
    "# conectando o spark streaming no tópico kafka\n",
    "df = spark.readStream \\\n",
    "    .format('kafka') \\\n",
    "    .option('kafka.bootstrap.servers', 'localhost:9092') \\\n",
    "    .option('subscribe', 'primeiro_topico') \\\n",
    "    .option('startingOffsets', 'earliest') \\\n",
    "    .load()"
   ]
  },
  {
   "cell_type": "code",
   "execution_count": 0,
   "metadata": {
    "application/vnd.databricks.v1+cell": {
     "cellMetadata": {
      "byteLimit": 2048000,
      "rowLimit": 10000
     },
     "inputWidgets": {},
     "nuid": "2c7c7f5e-f376-4724-b754-5dc6869946e7",
     "showTitle": false,
     "title": ""
    }
   },
   "outputs": [
    {
     "output_type": "display_data",
     "data": {
      "text/html": [
       "<style scoped>\n",
       "  .table-result-container {\n",
       "    max-height: 300px;\n",
       "    overflow: auto;\n",
       "  }\n",
       "  table, th, td {\n",
       "    border: 1px solid black;\n",
       "    border-collapse: collapse;\n",
       "  }\n",
       "  th, td {\n",
       "    padding: 5px;\n",
       "  }\n",
       "  th {\n",
       "    text-align: left;\n",
       "  }\n",
       "</style><div class='table-result-container'><table class='table-result'><thead style='background-color: white'><tr><th>key</th><th>value</th><th>topic</th><th>partition</th><th>offset</th><th>timestamp</th><th>timestampType</th></tr></thead><tbody><tr><td>null</td><td>eyJpZCI6IDQsICJub21lIjogIkFsdW5vIDQiLCAiaWRhZGUiOiA0MH0=</td><td>primeiro_topico</td><td>0</td><td>0</td><td>2024-10-16T23:46:32.579Z</td><td>0</td></tr><tr><td>null</td><td>eyJpZCI6IDUsICJub21lIjogIkFsdW5vIDUiLCAiaWRhZGUiOiA1MH0=</td><td>primeiro_topico</td><td>0</td><td>1</td><td>2024-10-16T23:51:19.37Z</td><td>0</td></tr><tr><td>null</td><td>eyJpZCI6IDUwLCAibm9tZSI6ICJBbHVubyA1IiwgImlkYWRlIjogNTB9</td><td>primeiro_topico</td><td>0</td><td>2</td><td>2024-10-16T23:55:08.433Z</td><td>0</td></tr><tr><td>null</td><td>eyJpZCI6IDUwMCwgIm5vbWUiOiAiQWx1bm8gNTAwIiwgImlkYWRlIjogNTAwfQ==</td><td>primeiro_topico</td><td>0</td><td>3</td><td>2024-10-17T00:03:15.411Z</td><td>0</td></tr><tr><td>null</td><td>eyJpZCI6IDUwMDAsICJub21lIjogIkFsdW5vIDUwMCIsICJpZGFkZSI6IDUwMDB9</td><td>primeiro_topico</td><td>0</td><td>4</td><td>2024-10-17T00:09:55.133Z</td><td>0</td></tr><tr><td>null</td><td>eyJpZCI6IDUwMDAsICJub21lIjogIkFsdW5vIDUwMCIsICJpZGFkZSI6IDUwMDB9</td><td>primeiro_topico</td><td>0</td><td>5</td><td>2024-10-17T00:11:21.125Z</td><td>0</td></tr><tr><td>null</td><td>eyJpZCI6IDUwMDAsICJub21lIjogIkFsdW5vIDUwMCIsICJpZGFkZSI6IDUwMDB9</td><td>primeiro_topico</td><td>0</td><td>6</td><td>2024-10-17T00:18:29.396Z</td><td>0</td></tr></tbody></table></div>"
      ]
     },
     "metadata": {
      "application/vnd.databricks.v1+output": {
       "addedWidgets": {},
       "aggData": [],
       "aggError": "",
       "aggOverflow": false,
       "aggSchema": [],
       "aggSeriesLimitReached": false,
       "aggType": "",
       "arguments": {},
       "columnCustomDisplayInfos": {},
       "data": [
        [
         null,
         "eyJpZCI6IDQsICJub21lIjogIkFsdW5vIDQiLCAiaWRhZGUiOiA0MH0=",
         "primeiro_topico",
         0,
         0,
         "2024-10-16T23:46:32.579Z",
         0
        ],
        [
         null,
         "eyJpZCI6IDUsICJub21lIjogIkFsdW5vIDUiLCAiaWRhZGUiOiA1MH0=",
         "primeiro_topico",
         0,
         1,
         "2024-10-16T23:51:19.37Z",
         0
        ],
        [
         null,
         "eyJpZCI6IDUwLCAibm9tZSI6ICJBbHVubyA1IiwgImlkYWRlIjogNTB9",
         "primeiro_topico",
         0,
         2,
         "2024-10-16T23:55:08.433Z",
         0
        ],
        [
         null,
         "eyJpZCI6IDUwMCwgIm5vbWUiOiAiQWx1bm8gNTAwIiwgImlkYWRlIjogNTAwfQ==",
         "primeiro_topico",
         0,
         3,
         "2024-10-17T00:03:15.411Z",
         0
        ],
        [
         null,
         "eyJpZCI6IDUwMDAsICJub21lIjogIkFsdW5vIDUwMCIsICJpZGFkZSI6IDUwMDB9",
         "primeiro_topico",
         0,
         4,
         "2024-10-17T00:09:55.133Z",
         0
        ],
        [
         null,
         "eyJpZCI6IDUwMDAsICJub21lIjogIkFsdW5vIDUwMCIsICJpZGFkZSI6IDUwMDB9",
         "primeiro_topico",
         0,
         5,
         "2024-10-17T00:11:21.125Z",
         0
        ],
        [
         null,
         "eyJpZCI6IDUwMDAsICJub21lIjogIkFsdW5vIDUwMCIsICJpZGFkZSI6IDUwMDB9",
         "primeiro_topico",
         0,
         6,
         "2024-10-17T00:18:29.396Z",
         0
        ]
       ],
       "datasetInfos": [],
       "dbfsResultPath": null,
       "isJsonSchema": true,
       "metadata": {
        "isDbfsCommandResult": false
       },
       "overflow": false,
       "plotOptions": {
        "customPlotOptions": {},
        "displayType": "table",
        "pivotAggregation": null,
        "pivotColumns": null,
        "xColumns": null,
        "yColumns": null
       },
       "removedWidgets": [],
       "schema": [
        {
         "metadata": "{}",
         "name": "key",
         "type": "\"binary\""
        },
        {
         "metadata": "{}",
         "name": "value",
         "type": "\"binary\""
        },
        {
         "metadata": "{}",
         "name": "topic",
         "type": "\"string\""
        },
        {
         "metadata": "{}",
         "name": "partition",
         "type": "\"integer\""
        },
        {
         "metadata": "{}",
         "name": "offset",
         "type": "\"long\""
        },
        {
         "metadata": "{}",
         "name": "timestamp",
         "type": "\"timestamp\""
        },
        {
         "metadata": "{}",
         "name": "timestampType",
         "type": "\"integer\""
        }
       ],
       "type": "table"
      }
     },
     "output_type": "display_data"
    }
   ],
   "source": [
    "display(df)"
   ]
  },
  {
   "cell_type": "code",
   "execution_count": 0,
   "metadata": {
    "application/vnd.databricks.v1+cell": {
     "cellMetadata": {
      "byteLimit": 2048000,
      "rowLimit": 10000
     },
     "inputWidgets": {},
     "nuid": "caa8b9ec-c095-44bc-9a5d-a700590d5c93",
     "showTitle": false,
     "title": ""
    }
   },
   "outputs": [],
   "source": [
    "#definir o esquema/estrutura dos campos do tópico primeiro_topico\n",
    "\n",
    "schema = StructType() \\\n",
    "    .add('id', IntegerType()) \\\n",
    "    .add('nome', StringType()) \\\n",
    "    .add('idade', IntegerType())"
   ]
  },
  {
   "cell_type": "code",
   "execution_count": 0,
   "metadata": {
    "application/vnd.databricks.v1+cell": {
     "cellMetadata": {
      "byteLimit": 2048000,
      "rowLimit": 10000
     },
     "inputWidgets": {},
     "nuid": "5b8e76d3-dcca-48e5-960f-1097ec00af65",
     "showTitle": false,
     "title": ""
    }
   },
   "outputs": [],
   "source": [
    "# tradução da mensagem com o schema definido\n",
    "\n",
    "df_resultado = df.selectExpr(\"CAST(value as STRING)\") \\\n",
    "    .select(from_json(col('value'), schema).alias('data')) \\\n",
    "    .select('data.*')    "
   ]
  },
  {
   "cell_type": "code",
   "execution_count": 0,
   "metadata": {
    "application/vnd.databricks.v1+cell": {
     "cellMetadata": {
      "byteLimit": 2048000,
      "rowLimit": 10000
     },
     "inputWidgets": {},
     "nuid": "731b0bd6-b6a0-4275-bb7a-115e0bb24829",
     "showTitle": false,
     "title": ""
    }
   },
   "outputs": [
    {
     "output_type": "display_data",
     "data": {
      "text/html": [
       "<style scoped>\n",
       "  .table-result-container {\n",
       "    max-height: 300px;\n",
       "    overflow: auto;\n",
       "  }\n",
       "  table, th, td {\n",
       "    border: 1px solid black;\n",
       "    border-collapse: collapse;\n",
       "  }\n",
       "  th, td {\n",
       "    padding: 5px;\n",
       "  }\n",
       "  th {\n",
       "    text-align: left;\n",
       "  }\n",
       "</style><div class='table-result-container'><table class='table-result'><thead style='background-color: white'><tr><th>id</th><th>nome</th><th>idade</th></tr></thead><tbody><tr><td>4</td><td>Aluno 4</td><td>40</td></tr><tr><td>5</td><td>Aluno 5</td><td>50</td></tr><tr><td>50</td><td>Aluno 5</td><td>50</td></tr><tr><td>500</td><td>Aluno 500</td><td>500</td></tr><tr><td>5000</td><td>Aluno 500</td><td>5000</td></tr><tr><td>5000</td><td>Aluno 500</td><td>5000</td></tr><tr><td>5000</td><td>Aluno 500</td><td>5000</td></tr></tbody></table></div>"
      ]
     },
     "metadata": {
      "application/vnd.databricks.v1+output": {
       "addedWidgets": {},
       "aggData": [],
       "aggError": "",
       "aggOverflow": false,
       "aggSchema": [],
       "aggSeriesLimitReached": false,
       "aggType": "",
       "arguments": {},
       "columnCustomDisplayInfos": {},
       "data": [
        [
         4,
         "Aluno 4",
         40
        ],
        [
         5,
         "Aluno 5",
         50
        ],
        [
         50,
         "Aluno 5",
         50
        ],
        [
         500,
         "Aluno 500",
         500
        ],
        [
         5000,
         "Aluno 500",
         5000
        ],
        [
         5000,
         "Aluno 500",
         5000
        ],
        [
         5000,
         "Aluno 500",
         5000
        ]
       ],
       "datasetInfos": [],
       "dbfsResultPath": null,
       "isJsonSchema": true,
       "metadata": {
        "isDbfsCommandResult": false
       },
       "overflow": false,
       "plotOptions": {
        "customPlotOptions": {},
        "displayType": "table",
        "pivotAggregation": null,
        "pivotColumns": null,
        "xColumns": null,
        "yColumns": null
       },
       "removedWidgets": [],
       "schema": [
        {
         "metadata": "{}",
         "name": "id",
         "type": "\"integer\""
        },
        {
         "metadata": "{}",
         "name": "nome",
         "type": "\"string\""
        },
        {
         "metadata": "{}",
         "name": "idade",
         "type": "\"integer\""
        }
       ],
       "type": "table"
      }
     },
     "output_type": "display_data"
    }
   ],
   "source": [
    "display(df_resultado)"
   ]
  },
  {
   "cell_type": "code",
   "execution_count": 0,
   "metadata": {
    "application/vnd.databricks.v1+cell": {
     "cellMetadata": {
      "byteLimit": 2048000,
      "rowLimit": 10000
     },
     "inputWidgets": {},
     "nuid": "bf04a7da-9eee-4fb4-b748-f8b3265b7b43",
     "showTitle": false,
     "title": ""
    }
   },
   "outputs": [],
   "source": [
    "# criar coluna fixa\n",
    "df_res = df_resultado.withColumn('nova_coluna', lit('Recebido pelo Spark Streaming'))"
   ]
  },
  {
   "cell_type": "code",
   "execution_count": 0,
   "metadata": {
    "application/vnd.databricks.v1+cell": {
     "cellMetadata": {
      "byteLimit": 2048000,
      "rowLimit": 10000
     },
     "inputWidgets": {},
     "nuid": "c646b39c-d728-4548-8f27-b287e235118a",
     "showTitle": false,
     "title": ""
    }
   },
   "outputs": [
    {
     "output_type": "display_data",
     "data": {
      "text/html": [
       "<style scoped>\n",
       "  .table-result-container {\n",
       "    max-height: 300px;\n",
       "    overflow: auto;\n",
       "  }\n",
       "  table, th, td {\n",
       "    border: 1px solid black;\n",
       "    border-collapse: collapse;\n",
       "  }\n",
       "  th, td {\n",
       "    padding: 5px;\n",
       "  }\n",
       "  th {\n",
       "    text-align: left;\n",
       "  }\n",
       "</style><div class='table-result-container'><table class='table-result'><thead style='background-color: white'><tr><th>id</th><th>nome</th><th>idade</th><th>nova_coluna</th></tr></thead><tbody><tr><td>4</td><td>Aluno 4</td><td>40</td><td>Recebido pelo Spark Streaming</td></tr><tr><td>5</td><td>Aluno 5</td><td>50</td><td>Recebido pelo Spark Streaming</td></tr><tr><td>50</td><td>Aluno 5</td><td>50</td><td>Recebido pelo Spark Streaming</td></tr><tr><td>500</td><td>Aluno 500</td><td>500</td><td>Recebido pelo Spark Streaming</td></tr><tr><td>5000</td><td>Aluno 500</td><td>5000</td><td>Recebido pelo Spark Streaming</td></tr><tr><td>5000</td><td>Aluno 500</td><td>5000</td><td>Recebido pelo Spark Streaming</td></tr><tr><td>5000</td><td>Aluno 500</td><td>5000</td><td>Recebido pelo Spark Streaming</td></tr></tbody></table></div>"
      ]
     },
     "metadata": {
      "application/vnd.databricks.v1+output": {
       "addedWidgets": {},
       "aggData": [],
       "aggError": "",
       "aggOverflow": false,
       "aggSchema": [],
       "aggSeriesLimitReached": false,
       "aggType": "",
       "arguments": {},
       "columnCustomDisplayInfos": {},
       "data": [
        [
         4,
         "Aluno 4",
         40,
         "Recebido pelo Spark Streaming"
        ],
        [
         5,
         "Aluno 5",
         50,
         "Recebido pelo Spark Streaming"
        ],
        [
         50,
         "Aluno 5",
         50,
         "Recebido pelo Spark Streaming"
        ],
        [
         500,
         "Aluno 500",
         500,
         "Recebido pelo Spark Streaming"
        ],
        [
         5000,
         "Aluno 500",
         5000,
         "Recebido pelo Spark Streaming"
        ],
        [
         5000,
         "Aluno 500",
         5000,
         "Recebido pelo Spark Streaming"
        ],
        [
         5000,
         "Aluno 500",
         5000,
         "Recebido pelo Spark Streaming"
        ]
       ],
       "datasetInfos": [],
       "dbfsResultPath": null,
       "isJsonSchema": true,
       "metadata": {
        "isDbfsCommandResult": false
       },
       "overflow": false,
       "plotOptions": {
        "customPlotOptions": {},
        "displayType": "table",
        "pivotAggregation": null,
        "pivotColumns": null,
        "xColumns": null,
        "yColumns": null
       },
       "removedWidgets": [],
       "schema": [
        {
         "metadata": "{}",
         "name": "id",
         "type": "\"integer\""
        },
        {
         "metadata": "{}",
         "name": "nome",
         "type": "\"string\""
        },
        {
         "metadata": "{}",
         "name": "idade",
         "type": "\"integer\""
        },
        {
         "metadata": "{}",
         "name": "nova_coluna",
         "type": "\"string\""
        }
       ],
       "type": "table"
      }
     },
     "output_type": "display_data"
    }
   ],
   "source": [
    "display(df_res)"
   ]
  },
  {
   "cell_type": "code",
   "execution_count": 0,
   "metadata": {
    "application/vnd.databricks.v1+cell": {
     "cellMetadata": {
      "byteLimit": 2048000,
      "rowLimit": 10000
     },
     "inputWidgets": {},
     "nuid": "87c5c166-59f7-49d5-9ac9-cb795f926536",
     "showTitle": false,
     "title": ""
    }
   },
   "outputs": [],
   "source": [
    "# ENVIAR INFORMAÇÃO PARA UM NOVO TÓPICO\n",
    "# prepara a msg paar o envio em um novo tópico\n",
    "df_res = df_res.selectExpr('CAST(id AS STRING) AS key', 'to_json(struct(*)) AS value')"
   ]
  },
  {
   "cell_type": "code",
   "execution_count": 0,
   "metadata": {
    "application/vnd.databricks.v1+cell": {
     "cellMetadata": {
      "byteLimit": 2048000,
      "rowLimit": 10000
     },
     "inputWidgets": {},
     "nuid": "d94b034b-144f-4b9a-9524-a07d39fdf009",
     "showTitle": false,
     "title": ""
    }
   },
   "outputs": [
    {
     "output_type": "display_data",
     "data": {
      "text/html": [
       "<style scoped>\n",
       "  .ansiout {\n",
       "    display: block;\n",
       "    unicode-bidi: embed;\n",
       "    white-space: pre-wrap;\n",
       "    word-wrap: break-word;\n",
       "    word-break: break-all;\n",
       "    font-family: \"Menlo\", \"Monaco\", \"Consolas\", \"Ubuntu Mono\", \"Source Code Pro\", monospace;\n",
       "    font-size: 13px;\n",
       "    color: #555;\n",
       "    margin-left: 4px;\n",
       "    line-height: 19px;\n",
       "  }\n",
       "</style>\n",
       "java.lang.Exception: Could not stop computations\n",
       "\tat com.databricks.backend.daemon.driver.DriverClient.$anonfun$poll$4(DriverClient.scala:764)\n",
       "\tat scala.concurrent.Future.$anonfun$flatMap$1(Future.scala:307)\n",
       "\tat scala.concurrent.impl.Promise.$anonfun$transformWith$1(Promise.scala:54)\n",
       "\tat scala.concurrent.impl.CallbackRunnable.run(Promise.scala:77)\n",
       "\tat com.databricks.threading.ContextBoundRunnable.$anonfun$run$2(ContextBoundRunnable.scala:15)\n",
       "\tat scala.runtime.java8.JFunction0$mcV$sp.apply(JFunction0$mcV$sp.java:23)\n",
       "\tat com.databricks.logging.AttributionContextTracing.$anonfun$withAttributionContext$1(AttributionContextTracing.scala:48)\n",
       "\tat com.databricks.logging.AttributionContext$.$anonfun$withValue$1(AttributionContext.scala:273)\n",
       "\tat scala.util.DynamicVariable.withValue(DynamicVariable.scala:62)\n",
       "\tat com.databricks.logging.AttributionContext$.withValue(AttributionContext.scala:269)\n",
       "\tat com.databricks.logging.AttributionContextTracing.withAttributionContext(AttributionContextTracing.scala:46)\n",
       "\tat com.databricks.logging.AttributionContextTracing.withAttributionContext$(AttributionContextTracing.scala:43)\n",
       "\tat com.databricks.threading.ContextBoundRunnable.withAttributionContext(ContextBoundRunnable.scala:6)\n",
       "\tat com.databricks.threading.ContextBoundRunnable.$anonfun$run$1(ContextBoundRunnable.scala:15)\n",
       "\tat scala.runtime.java8.JFunction0$mcV$sp.apply(JFunction0$mcV$sp.java:23)\n",
       "\tat com.databricks.context.integrity.IntegrityCheckContext$ThreadLocalStorage$.withValue(IntegrityCheckContext.scala:73)\n",
       "\tat com.databricks.threading.ContextBoundRunnable.run(ContextBoundRunnable.scala:14)\n",
       "\tat com.databricks.threading.DatabricksExecutionContext$InstrumentedRunnable.run(DatabricksExecutionContext.scala:36)\n",
       "\tat com.databricks.threading.NamedExecutor$$anon$2.run(NamedExecutor.scala:477)\n",
       "\tat java.base/java.util.concurrent.ThreadPoolExecutor.runWorker(ThreadPoolExecutor.java:1128)\n",
       "\tat java.base/java.util.concurrent.ThreadPoolExecutor$Worker.run(ThreadPoolExecutor.java:628)\n",
       "\tat java.base/java.lang.Thread.run(Thread.java:829)"
      ]
     },
     "metadata": {
      "application/vnd.databricks.v1+output": {
       "arguments": {},
       "data": "java.lang.Exception: Could not stop computations\n\tat com.databricks.backend.daemon.driver.DriverClient.$anonfun$poll$4(DriverClient.scala:764)\n\tat scala.concurrent.Future.$anonfun$flatMap$1(Future.scala:307)\n\tat scala.concurrent.impl.Promise.$anonfun$transformWith$1(Promise.scala:54)\n\tat scala.concurrent.impl.CallbackRunnable.run(Promise.scala:77)\n\tat com.databricks.threading.ContextBoundRunnable.$anonfun$run$2(ContextBoundRunnable.scala:15)\n\tat scala.runtime.java8.JFunction0$mcV$sp.apply(JFunction0$mcV$sp.java:23)\n\tat com.databricks.logging.AttributionContextTracing.$anonfun$withAttributionContext$1(AttributionContextTracing.scala:48)\n\tat com.databricks.logging.AttributionContext$.$anonfun$withValue$1(AttributionContext.scala:273)\n\tat scala.util.DynamicVariable.withValue(DynamicVariable.scala:62)\n\tat com.databricks.logging.AttributionContext$.withValue(AttributionContext.scala:269)\n\tat com.databricks.logging.AttributionContextTracing.withAttributionContext(AttributionContextTracing.scala:46)\n\tat com.databricks.logging.AttributionContextTracing.withAttributionContext$(AttributionContextTracing.scala:43)\n\tat com.databricks.threading.ContextBoundRunnable.withAttributionContext(ContextBoundRunnable.scala:6)\n\tat com.databricks.threading.ContextBoundRunnable.$anonfun$run$1(ContextBoundRunnable.scala:15)\n\tat scala.runtime.java8.JFunction0$mcV$sp.apply(JFunction0$mcV$sp.java:23)\n\tat com.databricks.context.integrity.IntegrityCheckContext$ThreadLocalStorage$.withValue(IntegrityCheckContext.scala:73)\n\tat com.databricks.threading.ContextBoundRunnable.run(ContextBoundRunnable.scala:14)\n\tat com.databricks.threading.DatabricksExecutionContext$InstrumentedRunnable.run(DatabricksExecutionContext.scala:36)\n\tat com.databricks.threading.NamedExecutor$$anon$2.run(NamedExecutor.scala:477)\n\tat java.base/java.util.concurrent.ThreadPoolExecutor.runWorker(ThreadPoolExecutor.java:1128)\n\tat java.base/java.util.concurrent.ThreadPoolExecutor$Worker.run(ThreadPoolExecutor.java:628)\n\tat java.base/java.lang.Thread.run(Thread.java:829)\n",
       "errorSummary": "Internal error. Attach your notebook to a different compute or restart the current compute.",
       "errorTraceType": null,
       "metadata": {},
       "type": "ipynbError"
      }
     },
     "output_type": "display_data"
    }
   ],
   "source": [
    "df_res.writeStream \\\n",
    "    .format('kafka') \\\n",
    "    .outputMode('append') \\\n",
    "    .option('kafka.bootstrap.servers', 'localhost:9092') \\\n",
    "    .option('checkpointLocation', '/dbfs/tmp/_checkpoint') \\\n",
    "    .option('topic', 'topico_resultado_tratado') \\\n",
    "    .option(\"failOnDataLoss\", \"false\") \\\n",
    "    .start() \\\n",
    "    .awaitTermination()"
   ]
  },
  {
   "cell_type": "code",
   "execution_count": 0,
   "metadata": {
    "application/vnd.databricks.v1+cell": {
     "cellMetadata": {
      "byteLimit": 2048000,
      "rowLimit": 10000
     },
     "inputWidgets": {},
     "nuid": "65dcff35-67c7-492a-968d-c5ffbad304d2",
     "showTitle": false,
     "title": ""
    }
   },
   "outputs": [],
   "source": [
    "df_res.writeStream \\\n",
    "    .format('parquet') \\\n",
    "    .option('path', '/dbfs/tmp/files_parquet/') \\\n",
    "    .option('checkpointLocation', 'dbfs/tmp/checkpoint') \\\n",
    "    .start() \\\n",
    "    .awaitTermination()"
   ]
  }
 ],
 "metadata": {
  "application/vnd.databricks.v1+notebook": {
   "dashboards": [],
   "environmentMetadata": null,
   "language": "python",
   "notebookMetadata": {
    "pythonIndentUnit": 4
   },
   "notebookName": "6- Spark Streaming",
   "widgets": {}
  }
 },
 "nbformat": 4,
 "nbformat_minor": 0
}
