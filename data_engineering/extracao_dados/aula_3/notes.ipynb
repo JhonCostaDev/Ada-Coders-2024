{
 "cells": [
  {
   "cell_type": "markdown",
   "metadata": {},
   "source": [
    "# Revisão"
   ]
  },
  {
   "cell_type": "markdown",
   "metadata": {},
   "source": [
    "### FLuxo ETL - ELT\n",
    "\n",
    "![fluxo de um etl](img/etl_elt.png)\n",
    "\n",
    "* CRM - Customer Relationship Management, é um sistema que ajuda as empresas a gerenciar e analisar as interações com seus clientes. Em termos de banco de dados, um CRM armazena todas as informações relevantes dos clientes, como histórico de compras, interações, preferências e dados de contato\n",
    "\n",
    "* ERP, ou Enterprise Resource Planning, é um sistema integrado de gestão empresarial. Ele ajuda empresas a gerenciar diversas operações de negócios, como finanças, produção, vendas e recursos humanos, em um único sistema unificado. Isso melhora a eficiência, facilita a troca de informações entre departamentos e ajuda na tomada de decisões baseada em dados.\n"
   ]
  },
  {
   "cell_type": "markdown",
   "metadata": {},
   "source": [
    "### API\n",
    "![Fluxograma de um Api](img/api.png)\n",
    "\n",
    "\n",
    "Uma API, ou Interface de Programação de Aplicações, é um conjunto de regras e definições que permitem que diferentes softwares se comuniquem entre si. Basicamente, uma API especifica como um software deve interagir com outro, facilitando a integração entre diferentes sistemas."
   ]
  },
  {
   "cell_type": "markdown",
   "metadata": {
    "vscode": {
     "languageId": "plaintext"
    }
   },
   "source": [
    "## Exemplo de uso de API"
   ]
  },
  {
   "cell_type": "code",
   "execution_count": null,
   "metadata": {
    "vscode": {
     "languageId": "plaintext"
    }
   },
   "outputs": [],
   "source": []
  }
 ],
 "metadata": {
  "language_info": {
   "name": "python"
  }
 },
 "nbformat": 4,
 "nbformat_minor": 2
}
