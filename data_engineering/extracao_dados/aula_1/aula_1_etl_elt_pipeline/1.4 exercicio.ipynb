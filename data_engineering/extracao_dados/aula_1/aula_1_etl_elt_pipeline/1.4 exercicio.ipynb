{
 "cells": [
  {
   "cell_type": "markdown",
   "metadata": {
    "application/vnd.databricks.v1+cell": {
     "cellMetadata": {},
     "inputWidgets": {},
     "nuid": "a953fa75-3330-47f2-be3c-9766b2295840",
     "showTitle": false,
     "title": ""
    }
   },
   "source": [
    "<div style=\"text-align: left;\">\n",
    "\n",
    "## Módulo: ED-NA-001 - Extração de Dados I\n",
    "<br>\n",
    "\n",
    "## Aula 1 - Exercício 1\n",
    "<br>"
   ]
  },
  {
   "cell_type": "markdown",
   "metadata": {
    "application/vnd.databricks.v1+cell": {
     "cellMetadata": {},
     "inputWidgets": {},
     "nuid": "cf2a9d95-a821-4704-8bc9-02ad012a5253",
     "showTitle": false,
     "title": ""
    }
   },
   "source": [
    "#### Desenvolver em grupo um ETL e um ELT a partir da extração de dados do arquivo disponível no Kaggle:\n",
    "https://www.kaggle.com/datasets/kapturovalexander/spotify-data-from-pyspark-course\n",
    "\n",
    "#### \"Cada linha no conjunto de dados corresponde a uma faixa musical, com variáveis como o título, artista e ano localizadas em suas respectivas colunas. Além das variáveis fundamentais, elementos musicais de cada faixa, como o ritmo, a capacidade de dança e a tonalidade, também foram extraídos; o algoritmo para esses valores foi gerado pelo Spotify com base em uma série de parâmetros técnicos.\"\n",
    "\n",
    "#### Essa é a descrição e o tipo de cada coluna do arquivo:\n",
    "\n",
    "> #### 01. id: str, identificador da faixa.\n",
    "> #### 02. nome: str, nome da faixa.\n",
    "> #### 03. artistas: str, artistas da faixa.\n",
    "> #### 04. duration_ms: float, duração da faixa em milissegundos.\n",
    "> #### 05. release_date: data, data de lançamento da faixa.\n",
    "> #### 06. year: int, ano de lançamento da faixa.\n",
    "> #### 07. acousticness: float, medida de acústica da faixa.\n",
    "> #### 08. danceability: float, medida de capacidade de dança da faixa.\n",
    "> #### 09. energy: float, medida de energia da faixa.\n",
    "> #### 10. instrumentalness: float, medida de elementos instrumentais na faixa.\n",
    "> #### 11. liveness: float, medida de vivacidade da faixa.\n",
    "> #### 12. loudness: float, volume da faixa.\n",
    "> #### 13. speechiness: float, medida de fala na faixa.\n",
    "> #### 14. tempo: float, ritmo da faixa.\n",
    "> #### 15. valence: float, medida de valência (positividade) da faixa.\n",
    "> #### 16. mode: int, modo da faixa (maior ou menor).\n",
    "> #### 17. key: int, tonalidade da faixa.\n",
    "> #### 18. popularity: int, pontuação de popularidade da faixa.\n",
    "> #### 19. explicit: int, indicação da presença de conteúdo explícito (explícito ou implícito)."
   ]
  },
  {
   "cell_type": "markdown",
   "metadata": {
    "application/vnd.databricks.v1+cell": {
     "cellMetadata": {
      "byteLimit": 2048000,
      "rowLimit": 10000
     },
     "inputWidgets": {},
     "nuid": "908f13c2-a942-429a-b238-462a4a1519df",
     "showTitle": false,
     "title": ""
    }
   },
   "source": [
    "#### Os dados transformados precisam responder as seguintes perguntas:\n",
    "> #### 1. As músicas mais populares nos últimos 10 anos;\n",
    "> #### 2. A quantidade de músicas lançadas por artista e ano de lançamento;\n",
    "> #### 3. Os artistas com a maior média de popularidade de músicas nos últimos 5 anos."
   ]
  }
 ],
 "metadata": {
  "application/vnd.databricks.v1+notebook": {
   "dashboards": [],
   "language": "python",
   "notebookMetadata": {
    "mostRecentlyExecutedCommandWithImplicitDF": {
     "commandId": 368097242019978,
     "dataframes": [
      "_sqldf"
     ]
    },
    "pythonIndentUnit": 4
   },
   "notebookName": "Aula_1_Exercicio_1_Desenvolvimento_de_um_ETL_e_ELT",
   "widgets": {}
  }
 },
 "nbformat": 4,
 "nbformat_minor": 0
}
