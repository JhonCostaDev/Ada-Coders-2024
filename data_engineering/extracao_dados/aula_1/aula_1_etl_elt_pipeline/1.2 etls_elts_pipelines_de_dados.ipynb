{
 "cells": [
  {
   "cell_type": "markdown",
   "metadata": {
    "application/vnd.databricks.v1+cell": {
     "cellMetadata": {
      "byteLimit": 2048000,
      "rowLimit": 10000
     },
     "inputWidgets": {},
     "nuid": "a953fa75-3330-47f2-be3c-9766b2295840",
     "showTitle": false,
     "title": ""
    }
   },
   "source": [
    "<div style=\"text-align: left;\">\n",
    "\n",
    "## Módulo: ED-NA-001 - Extração de Dados I\n",
    "## Aula 1 - Parte 2"
   ]
  },
  {
   "cell_type": "markdown",
   "metadata": {
    "application/vnd.databricks.v1+cell": {
     "cellMetadata": {
      "byteLimit": 2048000,
      "rowLimit": 10000
     },
     "inputWidgets": {},
     "nuid": "cf2a9d95-a821-4704-8bc9-02ad012a5253",
     "showTitle": false,
     "title": ""
    }
   },
   "source": [
    "## Exemplo de um ELT\n",
    "\n",
    "#### 1. Extração de dados, em formato de arquivos do tipo Parquet, da seguinte base de dados do Kaggle relacionada a voos atrasados e cancelados: https://www.kaggle.com/datasets/robikscube/flight-delay-dataset-20182022;\n",
    "#### 2. Armazenamento dos dados transformados em uma Tabela Delta.\n",
    "#### 3. Transformação desses dados;"
   ]
  },
  {
   "cell_type": "markdown",
   "metadata": {
    "application/vnd.databricks.v1+cell": {
     "cellMetadata": {
      "byteLimit": 2048000,
      "rowLimit": 10000
     },
     "inputWidgets": {},
     "nuid": "338fd5e8-2cc7-43b1-aee6-8fbf0ec3042d",
     "showTitle": false,
     "title": ""
    }
   },
   "source": [
    "#### Extração de arquivos parquet acontecendo no notebook da aula parte 1: \"1.1 etls_elts_pipelines_de_dados.ipynb\""
   ]
  },
  {
   "cell_type": "markdown",
   "metadata": {
    "application/vnd.databricks.v1+cell": {
     "cellMetadata": {
      "byteLimit": 2048000,
      "rowLimit": 10000
     },
     "inputWidgets": {},
     "nuid": "d33af5e6-81ab-4719-b6a4-36eec3b6f83c",
     "showTitle": false,
     "title": ""
    }
   },
   "source": [
    "#### Armazenamento dos dados extraídos em um tabela Delta no notebook da aula parte 1: \"1.1 etls_elts_pipelines_de_dados.ipynb\""
   ]
  },
  {
   "cell_type": "markdown",
   "metadata": {
    "application/vnd.databricks.v1+cell": {
     "cellMetadata": {
      "byteLimit": 2048000,
      "rowLimit": 10000
     },
     "inputWidgets": {},
     "nuid": "92be00aa-6873-4385-8d68-faa411532244",
     "showTitle": false,
     "title": ""
    }
   },
   "source": [
    "#### Transformação dos dados para o estado de origem igual a Texas e o estado destino igual a California"
   ]
  },
  {
   "cell_type": "markdown",
   "metadata": {
    "application/vnd.databricks.v1+cell": {
     "cellMetadata": {
      "byteLimit": 2048000,
      "rowLimit": 10000
     },
     "inputWidgets": {},
     "nuid": "2601152a-79b0-44ab-92d0-62143c646380",
     "showTitle": false,
     "title": ""
    }
   },
   "source": [
    "#### Chamada de bibliotecas"
   ]
  },
  {
   "cell_type": "code",
   "execution_count": 0,
   "metadata": {
    "application/vnd.databricks.v1+cell": {
     "cellMetadata": {
      "byteLimit": 2048000,
      "rowLimit": 10000
     },
     "inputWidgets": {},
     "nuid": "fc1bd079-a08f-46c6-a3b7-f0cccb021d81",
     "showTitle": false,
     "title": ""
    }
   },
   "outputs": [],
   "source": []
  },
  {
   "cell_type": "code",
   "execution_count": 0,
   "metadata": {
    "application/vnd.databricks.v1+cell": {
     "cellMetadata": {
      "byteLimit": 2048000,
      "rowLimit": 10000
     },
     "inputWidgets": {},
     "nuid": "c91829fb-cad9-4386-82a1-763d862e2033",
     "showTitle": false,
     "title": ""
    }
   },
   "outputs": [],
   "source": []
  }
 ],
 "metadata": {
  "application/vnd.databricks.v1+notebook": {
   "dashboards": [],
   "language": "python",
   "notebookMetadata": {
    "pythonIndentUnit": 4
   },
   "notebookName": "Aula_1_Parte_2_ETLs_ELTs_Pipelines_de_Dados",
   "widgets": {}
  },
  "language_info": {
   "name": "python"
  }
 },
 "nbformat": 4,
 "nbformat_minor": 0
}
