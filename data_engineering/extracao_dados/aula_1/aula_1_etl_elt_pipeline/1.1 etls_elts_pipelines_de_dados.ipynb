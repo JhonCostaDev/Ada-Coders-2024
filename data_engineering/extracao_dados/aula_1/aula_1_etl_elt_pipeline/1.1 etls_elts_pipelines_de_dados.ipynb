{
 "cells": [
  {
   "cell_type": "markdown",
   "metadata": {
    "application/vnd.databricks.v1+cell": {
     "cellMetadata": {
      "byteLimit": 2048000,
      "rowLimit": 10000
     },
     "inputWidgets": {},
     "nuid": "a953fa75-3330-47f2-be3c-9766b2295840",
     "showTitle": false,
     "title": ""
    }
   },
   "source": [
    "<div style=\"text-align: left;\">\n",
    "\n",
    "## Módulo: ED-NA-001 - Extração de Dados I\n",
    "<br>\n",
    "\n",
    "## Aula 1 - Parte 1\n",
    "<br>"
   ]
  },
  {
   "cell_type": "markdown",
   "metadata": {
    "application/vnd.databricks.v1+cell": {
     "cellMetadata": {
      "byteLimit": 2048000,
      "rowLimit": 10000
     },
     "inputWidgets": {},
     "nuid": "48bc0255-d11c-4be9-b2dc-e79ca065c712",
     "showTitle": false,
     "title": ""
    }
   },
   "source": [
    "### Programação da Aula 1:\n",
    "\n",
    "> #### 1. **Apresentar o formulário de pesquisa**: \n",
    "- [Link formulário de contexto e background](https://forms.gle/Lou91KjqRSMvJASM8)\n",
    "- [Link formulário aula](https://forms.gle/K83f119Se8zvWvdFA)\n",
    "- [Dados](https://drive.google.com/drive/folders/1ac_lY0yTDoWzBGkHI9iUiGR6Ai_I4eSM?usp=sharing)\n",
    "> #### 2. **O que é Databricks**;\n",
    "> #### 3. **ETL, ELTs e Pipeline de Dados**;\n",
    "> #### 4. **Exercício em grupo**;"
   ]
  },
  {
   "cell_type": "markdown",
   "metadata": {
    "application/vnd.databricks.v1+cell": {
     "cellMetadata": {
      "byteLimit": 2048000,
      "rowLimit": 10000
     },
     "inputWidgets": {},
     "nuid": "4ae83bab-8933-4e4f-b416-d6c70199bb10",
     "showTitle": false,
     "title": ""
    }
   },
   "source": [
    "<div style=\"text-align: left;\">\n",
    "\n",
    "## O que é Databricks?\n",
    "<br>\n",
    "\n",
    ">#### - O Databricks é uma plataforma de análise de dados unificada para engenharia de dados, machine learning e ciência de dados colaborativa;\n",
    ">#### - Workspace colaborativo;\n",
    ">#### - Pluralidade de Linguagens com Python, R, Scala e SQL;\n",
    ">#### - Multi-cloud.\n",
    "\n",
    "<br>\n",
    "\n",
    "## ATENÇÃO: No curso vamos usar a versão gratuita: Databricks Community\n",
    "\n",
    "<div/>\n",
    "\n",
    "<br>\n",
    "\n",
    "### Um pouco das múltiplas funções do Databricks em diversas arquiteturas: \n",
    "<br>\n",
    "\n",
    "<img src=\"https://learn.microsoft.com/pt-br/azure/architecture/solution-ideas/media/azure-databricks-modern-analytics-architecture.svg\"  width=\"60%\" height=\"30%\">\n",
    "\n",
    "Fonte: https://learn.microsoft.com/pt-br/azure/architecture/solution-ideas/media/azure-databricks-modern-analytics-architecture.svg\n",
    "<br>\n",
    "\n",
    "<br>\n",
    "<img src=\"https://www.databricks.com/wp-content/uploads/2021/05/gcp-ga-blog-image-1-1024x539.png\"  width=\"60%\" height=\"30%\">\n",
    "\n",
    "Fonte: https://www.databricks.com/wp-content/uploads/2021/05/gcp-ga-blog-image-1-1024x539.png\n",
    "<br>\n",
    "\n"
   ]
  },
  {
   "cell_type": "markdown",
   "metadata": {
    "application/vnd.databricks.v1+cell": {
     "cellMetadata": {
      "byteLimit": 2048000,
      "rowLimit": 10000
     },
     "inputWidgets": {},
     "nuid": "b94f7f6c-00a8-486d-8cea-e131418159ee",
     "showTitle": false,
     "title": ""
    }
   },
   "source": [
    "<div style=\"text-align: center;\">\n",
    "\n",
    "##O que são ETLs e ELTs?\n",
    "<br>\n",
    "\n",
    "## ETL - Extração, Transformação e Carga \n",
    "\n",
    "## VS\n",
    "\n",
    "## ELT - Extração, Carga e Transformação\n",
    "<div/>\n",
    "\n",
    "<br>\n",
    "\n",
    "<img src=\"https://miro.medium.com/v2/resize:fit:2000/format:webp/1*-6tNymvTTqGIWJlzQHwBaw.png\"  width=\"60%\" height=\"30%\">\n",
    "\n",
    "Fonte: https://miro.medium.com/v2/resize:fit:2000/format:webp/1*-6tNymvTTqGIWJlzQHwBaw.png"
   ]
  },
  {
   "cell_type": "markdown",
   "metadata": {
    "application/vnd.databricks.v1+cell": {
     "cellMetadata": {
      "byteLimit": 2048000,
      "rowLimit": 10000
     },
     "inputWidgets": {},
     "nuid": "db998f99-06a7-40fc-b723-0a2f99dd3f78",
     "showTitle": false,
     "title": ""
    }
   },
   "source": [
    "## Primeiro exemplo de um ETL\n",
    "\n",
    "#### 1. Extração de dados, em formato de arquivos do tipo Parquet, da seguinte base de dados do Kaggle relacionada a voos atrasados e cancelados: \n",
    "https://www.kaggle.com/datasets/robikscube/flight-delay-dataset-20182022\n",
    "#### 2. Transformação desses dados;\n",
    "#### 3. Armazenamento dos dados transformados em arquivos do tipo Parquet.\n"
   ]
  },
  {
   "cell_type": "markdown",
   "metadata": {
    "application/vnd.databricks.v1+cell": {
     "cellMetadata": {
      "byteLimit": 2048000,
      "rowLimit": 10000
     },
     "inputWidgets": {},
     "nuid": "2601152a-79b0-44ab-92d0-62143c646380",
     "showTitle": false,
     "title": ""
    }
   },
   "source": [
    "#### Chamada de bibliotecas"
   ]
  },
  {
   "cell_type": "code",
   "execution_count": 0,
   "metadata": {
    "application/vnd.databricks.v1+cell": {
     "cellMetadata": {
      "byteLimit": 2048000,
      "rowLimit": 10000
     },
     "inputWidgets": {},
     "nuid": "fc1bd079-a08f-46c6-a3b7-f0cccb021d81",
     "showTitle": false,
     "title": ""
    }
   },
   "outputs": [],
   "source": []
  },
  {
   "cell_type": "markdown",
   "metadata": {
    "application/vnd.databricks.v1+cell": {
     "cellMetadata": {
      "byteLimit": 2048000,
      "rowLimit": 10000
     },
     "inputWidgets": {},
     "nuid": "971d2dad-a57b-4d78-8d39-6b5dda1db979",
     "showTitle": false,
     "title": ""
    }
   },
   "source": [
    "#### Extração de arquivos parquet"
   ]
  },
  {
   "cell_type": "code",
   "execution_count": 0,
   "metadata": {
    "application/vnd.databricks.v1+cell": {
     "cellMetadata": {
      "byteLimit": 2048000,
      "rowLimit": 10000
     },
     "inputWidgets": {},
     "nuid": "6c8c5a30-f876-4a70-9ea4-4aa10e3ae448",
     "showTitle": false,
     "title": ""
    }
   },
   "outputs": [],
   "source": []
  },
  {
   "cell_type": "markdown",
   "metadata": {
    "application/vnd.databricks.v1+cell": {
     "cellMetadata": {
      "byteLimit": 2048000,
      "rowLimit": 10000
     },
     "inputWidgets": {},
     "nuid": "5737b6d9-5b90-4079-ae66-479a96d5dead",
     "showTitle": false,
     "title": ""
    }
   },
   "source": [
    "#### Transformação dos dados"
   ]
  },
  {
   "cell_type": "code",
   "execution_count": 0,
   "metadata": {
    "application/vnd.databricks.v1+cell": {
     "cellMetadata": {
      "byteLimit": 2048000,
      "rowLimit": 10000
     },
     "inputWidgets": {},
     "nuid": "7ad5f711-603e-48b2-9d0f-d1724c27b9d2",
     "showTitle": false,
     "title": ""
    }
   },
   "outputs": [],
   "source": []
  },
  {
   "cell_type": "markdown",
   "metadata": {
    "application/vnd.databricks.v1+cell": {
     "cellMetadata": {
      "byteLimit": 2048000,
      "rowLimit": 10000
     },
     "inputWidgets": {},
     "nuid": "242c2de4-3f59-4e6d-bc96-1a8fca79210a",
     "showTitle": false,
     "title": ""
    }
   },
   "source": [
    "#### Armazenamento do resultado transformado"
   ]
  },
  {
   "cell_type": "code",
   "execution_count": 0,
   "metadata": {
    "application/vnd.databricks.v1+cell": {
     "cellMetadata": {
      "byteLimit": 2048000,
      "rowLimit": 10000
     },
     "inputWidgets": {},
     "nuid": "1f9fa530-2537-4d73-9a54-7dd85122358f",
     "showTitle": false,
     "title": ""
    }
   },
   "outputs": [],
   "source": []
  },
  {
   "cell_type": "markdown",
   "metadata": {
    "application/vnd.databricks.v1+cell": {
     "cellMetadata": {
      "byteLimit": 2048000,
      "rowLimit": 10000
     },
     "inputWidgets": {},
     "nuid": "a6b6e443-cc81-405f-8167-3c12b2a1e69f",
     "showTitle": false,
     "title": ""
    }
   },
   "source": [
    "#### Leitura e impressão do resultado transformado para ilustrar o resultado final do ETL"
   ]
  },
  {
   "cell_type": "code",
   "execution_count": 0,
   "metadata": {
    "application/vnd.databricks.v1+cell": {
     "cellMetadata": {
      "byteLimit": 2048000,
      "rowLimit": 10000
     },
     "inputWidgets": {},
     "nuid": "b0f215d4-7829-402a-9614-1efa8c2c248e",
     "showTitle": false,
     "title": ""
    }
   },
   "outputs": [],
   "source": []
  },
  {
   "cell_type": "markdown",
   "metadata": {
    "application/vnd.databricks.v1+cell": {
     "cellMetadata": {
      "byteLimit": 2048000,
      "rowLimit": 10000
     },
     "inputWidgets": {},
     "nuid": "f552896c-78e8-4e82-8ee5-460fb4acc50b",
     "showTitle": false,
     "title": ""
    }
   },
   "source": [
    "#### Imprime os arquivos localizados no diretório dos dados transformados"
   ]
  },
  {
   "cell_type": "code",
   "execution_count": 0,
   "metadata": {
    "application/vnd.databricks.v1+cell": {
     "cellMetadata": {
      "byteLimit": 2048000,
      "rowLimit": 10000
     },
     "inputWidgets": {},
     "nuid": "c90ac24b-bfc8-4c70-94ab-143aecc371f2",
     "showTitle": false,
     "title": ""
    }
   },
   "outputs": [],
   "source": []
  },
  {
   "cell_type": "markdown",
   "metadata": {
    "application/vnd.databricks.v1+cell": {
     "cellMetadata": {
      "byteLimit": 2048000,
      "rowLimit": 10000
     },
     "inputWidgets": {},
     "nuid": "cf2a9d95-a821-4704-8bc9-02ad012a5253",
     "showTitle": false,
     "title": ""
    }
   },
   "source": [
    "## Exemplo de um ELT\n",
    "\n",
    "#### 1. Extração de dados, em formato de arquivos do tipo Parquet, da seguinte base de dados do Kaggle relacionada a voos atrasados e cancelados: \n",
    "https://www.kaggle.com/datasets/robikscube/flight-delay-dataset-20182022;\n",
    "#### 2. Armazenamento dos dados extraídos em uma Tabela Delta.\n",
    "#### 3. Transformação desses dados;"
   ]
  },
  {
   "cell_type": "markdown",
   "metadata": {
    "application/vnd.databricks.v1+cell": {
     "cellMetadata": {
      "byteLimit": 2048000,
      "rowLimit": 10000
     },
     "inputWidgets": {},
     "nuid": "338fd5e8-2cc7-43b1-aee6-8fbf0ec3042d",
     "showTitle": false,
     "title": ""
    }
   },
   "source": [
    "#### Extração de arquivos parquet"
   ]
  },
  {
   "cell_type": "code",
   "execution_count": 0,
   "metadata": {
    "application/vnd.databricks.v1+cell": {
     "cellMetadata": {
      "byteLimit": 2048000,
      "rowLimit": 10000
     },
     "inputWidgets": {},
     "nuid": "dc721055-e601-495a-97dd-891f3204f7e0",
     "showTitle": false,
     "title": ""
    }
   },
   "outputs": [],
   "source": []
  },
  {
   "cell_type": "markdown",
   "metadata": {
    "application/vnd.databricks.v1+cell": {
     "cellMetadata": {
      "byteLimit": 2048000,
      "rowLimit": 10000
     },
     "inputWidgets": {},
     "nuid": "d33af5e6-81ab-4719-b6a4-36eec3b6f83c",
     "showTitle": false,
     "title": ""
    }
   },
   "source": [
    "#### Armazenamento dos dados extraídos em um tabela Delta"
   ]
  },
  {
   "cell_type": "code",
   "execution_count": 0,
   "metadata": {
    "application/vnd.databricks.v1+cell": {
     "cellMetadata": {
      "byteLimit": 2048000,
      "rowLimit": 10000
     },
     "inputWidgets": {},
     "nuid": "edee7da5-d9d0-4df4-992f-2b38908c827c",
     "showTitle": false,
     "title": ""
    }
   },
   "outputs": [],
   "source": []
  },
  {
   "cell_type": "markdown",
   "metadata": {
    "application/vnd.databricks.v1+cell": {
     "cellMetadata": {
      "byteLimit": 2048000,
      "rowLimit": 10000
     },
     "inputWidgets": {},
     "nuid": "92be00aa-6873-4385-8d68-faa411532244",
     "showTitle": false,
     "title": ""
    }
   },
   "source": [
    "#### Transformação dos dados nos notebooks das aula Parte 2 e Parte 3:\n",
    "#### \"1.2 etls_elts_pipelines_de_dados.ipynb\"\n",
    "#### \"1.3 etls_elts_pipelines_de_dados.ipynb\""
   ]
  }
 ],
 "metadata": {
  "application/vnd.databricks.v1+notebook": {
   "dashboards": [],
   "language": "python",
   "notebookMetadata": {
    "pythonIndentUnit": 4
   },
   "notebookName": "Aula_1_Parte_1_ETLs_ELTs_Pipelines_de_Dados",
   "widgets": {}
  },
  "language_info": {
   "name": "python"
  }
 },
 "nbformat": 4,
 "nbformat_minor": 0
}
