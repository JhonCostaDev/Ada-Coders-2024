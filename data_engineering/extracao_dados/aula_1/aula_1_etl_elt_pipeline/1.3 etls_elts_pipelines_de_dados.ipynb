{
 "cells": [
  {
   "cell_type": "markdown",
   "metadata": {
    "application/vnd.databricks.v1+cell": {
     "cellMetadata": {
      "byteLimit": 2048000,
      "rowLimit": 10000
     },
     "inputWidgets": {},
     "nuid": "a953fa75-3330-47f2-be3c-9766b2295840",
     "showTitle": false,
     "title": ""
    }
   },
   "source": [
    "<div style=\"text-align: left;\">\n",
    "\n",
    "## Módulo: ED-NA-001 - Extração de Dados I\n",
    "## Aula 1 - Parte 3"
   ]
  },
  {
   "cell_type": "markdown",
   "metadata": {
    "application/vnd.databricks.v1+cell": {
     "cellMetadata": {
      "byteLimit": 2048000,
      "rowLimit": 10000
     },
     "inputWidgets": {},
     "nuid": "cf2a9d95-a821-4704-8bc9-02ad012a5253",
     "showTitle": false,
     "title": ""
    }
   },
   "source": [
    "## Exemplo de um ELT\n",
    "\n",
    "#### 1. Extração de dados, em formato de arquivos do tipo Parquet, da seguinte base de dados do Kaggle relacionada a voos atrasados e cancelados: https://www.kaggle.com/datasets/robikscube/flight-delay-dataset-20182022;\n",
    "#### 2. Armazenamento dos dados transformados em uma Tabela Delta.\n",
    "#### 3. Transformação desses dados;"
   ]
  },
  {
   "cell_type": "markdown",
   "metadata": {
    "application/vnd.databricks.v1+cell": {
     "cellMetadata": {
      "byteLimit": 2048000,
      "rowLimit": 10000
     },
     "inputWidgets": {},
     "nuid": "338fd5e8-2cc7-43b1-aee6-8fbf0ec3042d",
     "showTitle": false,
     "title": ""
    }
   },
   "source": [
    "#### Extração de arquivos parquet acontecendo no notebook da aula parte 1: \"1.1 etls_elts_pipelines_de_dados.ipynb\""
   ]
  },
  {
   "cell_type": "markdown",
   "metadata": {
    "application/vnd.databricks.v1+cell": {
     "cellMetadata": {
      "byteLimit": 2048000,
      "rowLimit": 10000
     },
     "inputWidgets": {},
     "nuid": "d33af5e6-81ab-4719-b6a4-36eec3b6f83c",
     "showTitle": false,
     "title": ""
    }
   },
   "source": [
    "#### Armazenamento dos dados extraídos em um tabela Delta no notebook da aula parte 1: \"1.1 etls_elts_pipelines_de_dados.ipynb\""
   ]
  },
  {
   "cell_type": "markdown",
   "metadata": {
    "application/vnd.databricks.v1+cell": {
     "cellMetadata": {
      "byteLimit": 2048000,
      "rowLimit": 10000
     },
     "inputWidgets": {},
     "nuid": "92be00aa-6873-4385-8d68-faa411532244",
     "showTitle": false,
     "title": ""
    }
   },
   "source": [
    "#### Transformação dos dados para o estado de origem igual a Florida e o estado destino igual a New York"
   ]
  },
  {
   "cell_type": "code",
   "execution_count": 0,
   "metadata": {
    "application/vnd.databricks.v1+cell": {
     "cellMetadata": {
      "byteLimit": 2048000,
      "rowLimit": 10000
     },
     "inputWidgets": {},
     "nuid": "7a3d6a37-63dd-4a8a-b2c1-7ee579018518",
     "showTitle": false,
     "title": ""
    }
   },
   "outputs": [],
   "source": []
  },
  {
   "cell_type": "code",
   "execution_count": 0,
   "metadata": {
    "application/vnd.databricks.v1+cell": {
     "cellMetadata": {
      "byteLimit": 2048000,
      "rowLimit": 10000
     },
     "inputWidgets": {},
     "nuid": "c91829fb-cad9-4386-82a1-763d862e2033",
     "showTitle": false,
     "title": ""
    }
   },
   "outputs": [],
   "source": []
  },
  {
   "cell_type": "markdown",
   "metadata": {
    "application/vnd.databricks.v1+cell": {
     "cellMetadata": {
      "byteLimit": 2048000,
      "rowLimit": 10000
     },
     "inputWidgets": {},
     "nuid": "fc5719ac-12fc-421e-89c0-f49e7fe133b8",
     "showTitle": false,
     "title": ""
    }
   },
   "source": [
    "#### Transformação dos dados para o estado de origem igual a Florida e o estado destino igual a New York apenas com o SQL"
   ]
  },
  {
   "cell_type": "code",
   "execution_count": 0,
   "metadata": {
    "application/vnd.databricks.v1+cell": {
     "cellMetadata": {
      "byteLimit": 2048000,
      "implicitDf": true,
      "rowLimit": 10000
     },
     "inputWidgets": {},
     "nuid": "ad95cf88-ac6a-4fbc-ab87-f219d004aa04",
     "showTitle": false,
     "title": ""
    }
   },
   "outputs": [],
   "source": []
  }
 ],
 "metadata": {
  "application/vnd.databricks.v1+notebook": {
   "dashboards": [],
   "language": "python",
   "notebookMetadata": {
    "mostRecentlyExecutedCommandWithImplicitDF": {
     "commandId": 368097242019978,
     "dataframes": [
      "_sqldf"
     ]
    },
    "pythonIndentUnit": 4
   },
   "notebookName": "Aula_1_Parte_3_ETLs_ELTs_Pipelines_de_Dados",
   "widgets": {}
  },
  "language_info": {
   "name": "python"
  }
 },
 "nbformat": 4,
 "nbformat_minor": 0
}
