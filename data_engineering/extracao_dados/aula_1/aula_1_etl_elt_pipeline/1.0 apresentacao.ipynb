{
 "cells": [
  {
   "cell_type": "markdown",
   "metadata": {
    "application/vnd.databricks.v1+cell": {
     "cellMetadata": {
      "byteLimit": 2048000,
      "rowLimit": 10000
     },
     "inputWidgets": {},
     "nuid": "fd82a494-2794-4108-b1e2-d46b11da45b1",
     "showTitle": false,
     "title": ""
    }
   },
   "source": [
    "\n",
    "<div style=\"text-align: center;\">\n",
    "\n",
    "## Professor - Lauro Bulhões\n",
    "\n",
    "<br>\n",
    "\n",
    "### Email: laurinho.cpm22@gmail.com\n",
    "\n",
    "### Linkedin: [Link](https://www.linkedin.com/in/lauro-bulh%C3%B5es-4a56ab9a/)\n",
    "\n",
    "<div/>"
   ]
  },
  {
   "cell_type": "markdown",
   "metadata": {
    "application/vnd.databricks.v1+cell": {
     "cellMetadata": {},
     "inputWidgets": {},
     "nuid": "3ad6e854-3970-426b-8bd7-665e20308a01",
     "showTitle": false,
     "title": ""
    }
   },
   "source": [
    "<div style=\"text-align: center;\">\n",
    "\n",
    "## Módulo: ED-NA-001 - Extração de Dados I\n",
    "<br>\n",
    "\n",
    "<div/>\n",
    "\n",
    "<div style=\"text-align: left;\">\n",
    "\n",
    "### Objetivo do módulo: Desenvolvimento de extrações automatizadas de dados entre sistemas.\n",
    "<br>\n",
    "\n",
    "### Tópicos de estudo:\n",
    "\n",
    "> #### 1. **ETL, ELTs e Consumo de APIs**;\n",
    "> #### 2. **Utilização de Webhooks**;\n",
    "> #### 3. **Cargas em Batches**;\n",
    "> #### 4. **Introdução ao streaming de dados**;\n",
    "\n",
    "<div/>\n",
    "\n",
    "<br>\n",
    "\n",
    "### Metodologia: \n",
    "> ### - Aulas práticas e exercícios em grupo;\n",
    "> ### - Projeto Final em Grupo."
   ]
  }
 ],
 "metadata": {
  "application/vnd.databricks.v1+notebook": {
   "dashboards": [],
   "language": "python",
   "notebookMetadata": {
    "pythonIndentUnit": 4
   },
   "notebookName": "Apresentacao_Pessoal_e_do_Modulo",
   "widgets": {}
  },
  "language_info": {
   "name": "python"
  }
 },
 "nbformat": 4,
 "nbformat_minor": 0
}
