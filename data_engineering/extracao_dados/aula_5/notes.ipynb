{
 "cells": [
  {
   "cell_type": "markdown",
   "metadata": {},
   "source": [
    "![img](img/Screenshot%20from%202024-10-11%2019-23-33.png)\n",
    "![img](img/Screenshot%20from%202024-10-11%2019-27-12.png)\n",
    "\n",
    "\n",
    "* APIS\n",
    "* extração de dados via api\n"
   ]
  }
 ],
 "metadata": {
  "language_info": {
   "name": "python"
  }
 },
 "nbformat": 4,
 "nbformat_minor": 2
}
