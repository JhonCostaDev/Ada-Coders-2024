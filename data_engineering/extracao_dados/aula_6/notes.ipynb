{
 "cells": [
  {
   "cell_type": "markdown",
   "metadata": {},
   "source": [
    "Monday, Oct 14th, 2024 - class 6 \n",
    "lxf.lucas@gmail.com\n",
    "82 99632-4445.\n",
    "\n",
    "https://contexto.me/ - descobrir a palavra do dia\n",
    "\n"
   ]
  },
  {
   "cell_type": "markdown",
   "metadata": {},
   "source": [
    "![Big Data](img/big.png)\n",
    "![Taxonomia de Flynn](img/tax_flynn.png)\n",
    "![Taxonomia de Flynn](img/tax_flynn2.png)\n",
    "![Taxonomia de Flynn](img/tax_flynn3.png)\n",
    "![Taxonomia de Flynn](img/tax_flynn4.png)\n",
    "![Taxonomia de Flynn](img/tax_flynn5.png)\n",
    "\n",
    "# certificação Java\n",
    "https://data-flair.training/courses/free-java-course/\n",
    "\n",
    "### proxima aula - spark stream"
   ]
  },
  {
   "cell_type": "markdown",
   "metadata": {},
   "source": []
  }
 ],
 "metadata": {
  "language_info": {
   "name": "python"
  }
 },
 "nbformat": 4,
 "nbformat_minor": 2
}
