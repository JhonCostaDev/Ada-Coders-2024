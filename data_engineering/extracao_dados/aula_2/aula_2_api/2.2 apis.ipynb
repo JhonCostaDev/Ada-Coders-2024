{
 "cells": [
  {
   "cell_type": "code",
   "execution_count": null,
   "id": "f7c5d889",
   "metadata": {},
   "outputs": [],
   "source": [
    "import requests\n",
    "\n",
    "# Specify the country for which you want to retrieve COVID-19 data\n",
    "country = \"Brazil\"  # Replace with the desired country\n",
    "\n",
    "# Define the API endpoint URL\n",
    "url = f\"https://disease.sh/v3/covid-19/countries/{country}\"\n",
    "\n",
    "try:\n",
    "    # Send a GET request to the COVID-19 API\n",
    "    response = requests.get(url)\n",
    "    \n",
    "    # Check if the request was successful (status code 200)\n",
    "    if response.status_code == 200:\n",
    "        data = response.json()\n",
    "        \n",
    "        # Print COVID-19 data for the specified country\n",
    "        print(\"Country:\", data[\"country\"])\n",
    "        print(\"Total Cases:\", data[\"cases\"])\n",
    "        print(\"Total Deaths:\", data[\"deaths\"])\n",
    "        print(\"Total Recovered:\", data[\"recovered\"])\n",
    "        print(\"Today's Cases:\", data[\"todayCases\"])\n",
    "        print(\"Today's Deaths:\", data[\"todayDeaths\"])\n",
    "        print(\"Active Cases:\", data[\"active\"])\n",
    "    else:\n",
    "        print(\"Error:\", response.status_code)\n",
    "except Exception as e:\n",
    "    print(\"An error occurred:\", str(e))\n"
   ]
  },
  {
   "cell_type": "code",
   "execution_count": null,
   "id": "8329b791",
   "metadata": {},
   "outputs": [],
   "source": [
    "import requests\n",
    "\n",
    "# The base URL for the Nominatim API\n",
    "base_url = 'https://nominatim.openstreetmap.org/search?'\n",
    "\n",
    "# The address you want to geocode\n",
    "address = 'Brigadeiro Faria Lima, 1306'\n",
    "\n",
    "# Construct the URL with the address\n",
    "url = f'{base_url}q={address}&format=json'\n",
    "\n",
    "# Send the GET request\n",
    "response = requests.get(url)\n",
    "\n",
    "if response.status_code == 200:\n",
    "    data = response.json()\n",
    "    if data:\n",
    "        # Extract latitude and longitude\n",
    "        lat = data[0]['lat']\n",
    "        lon = data[0]['lon']\n",
    "        print(f'Latitude: {lat}, Longitude: {lon}')\n",
    "    else:\n",
    "        print('No results found.')\n",
    "else:\n",
    "    print(f'Error: Request failed with status code {response.status_code}')\n"
   ]
  },
  {
   "cell_type": "code",
   "execution_count": null,
   "id": "5f0f310c",
   "metadata": {},
   "outputs": [],
   "source": [
    "data"
   ]
  },
  {
   "cell_type": "code",
   "execution_count": null,
   "id": "26692e65",
   "metadata": {},
   "outputs": [],
   "source": [
    "import requests\n",
    "\n",
    "# Define the API URL\n",
    "api_url = \"https://jsonplaceholder.typicode.com/posts/1\"  # This endpoint returns a sample post\n",
    "\n",
    "# Make a GET request to the API\n",
    "response = requests.get(api_url)\n",
    "\n",
    "# Check if the request was successful (status code 200)\n",
    "if response.status_code == 200:\n",
    "    # Get the content of the response\n",
    "    data = response.json()  # Parse the JSON response\n",
    "    \n",
    "    # Extract the 'title' and 'body' fields from the response\n",
    "    title = data.get('title', '')\n",
    "    body = data.get('body', '')\n",
    "    \n",
    "    # Combine the title and body to count words\n",
    "    combined_text = title + ' ' + body\n",
    "    \n",
    "    # Count the number of words in the combined text\n",
    "    word_count = len(combined_text.split())\n",
    "    \n",
    "    print(f\"Number of words in the API response: {word_count}\")\n",
    "else:\n",
    "    print(f\"Failed to retrieve data. Status code: {response.status_code}\")\n"
   ]
  },
  {
   "cell_type": "code",
   "execution_count": null,
   "id": "77c0c12d",
   "metadata": {},
   "outputs": [],
   "source": [
    "import requests\n",
    "\n",
    "# Define the API URL\n",
    "api_url = \"https://restcountries.com/v3/name/Brazil\"\n",
    "\n",
    "# Make a GET request to the API\n",
    "response = requests.get(api_url)\n",
    "\n",
    "# Check if the request was successful (status code 200)\n",
    "if response.status_code == 200:\n",
    "    # Get the JSON data from the response\n",
    "    data = response.json()\n",
    "    \n",
    "    # Extract the country's name from the response\n",
    "    country_name = data[0].get('name', {}).get('common', '')\n",
    "    \n",
    "    # Count the number of words in the country name\n",
    "    word_count = len(country_name.split())\n",
    "    \n",
    "    print(f\"Country name: {country_name}\")\n",
    "    print(f\"Number of words in the country name: {word_count}\")\n",
    "else:\n",
    "    print(f\"Failed to retrieve data. Status code: {response.status_code}\")\n"
   ]
  },
  {
   "cell_type": "code",
   "execution_count": null,
   "id": "d64eb855",
   "metadata": {},
   "outputs": [],
   "source": [
    "combined_text"
   ]
  },
  {
   "cell_type": "code",
   "execution_count": null,
   "id": "2a5095d0",
   "metadata": {},
   "outputs": [],
   "source": [
    "data"
   ]
  },
  {
   "cell_type": "code",
   "execution_count": null,
   "id": "beca8f7a",
   "metadata": {},
   "outputs": [],
   "source": [
    "import requests\n",
    "\n",
    "# Define the API URL\n",
    "api_url = \"https://randomuser.me/api/\"\n",
    "\n",
    "# Make a GET request to the API\n",
    "response = requests.get(api_url)\n",
    "\n",
    "# Check if the request was successful (status code 200)\n",
    "if response.status_code == 200:\n",
    "    # Get the JSON data from the response\n",
    "    data = response.json()\n",
    "    \n",
    "    # Extract the user's name from the response\n",
    "    user = data.get('results', [{}])[0]\n",
    "    first_name = user.get('name', {}).get('first', '')\n",
    "    last_name = user.get('name', {}).get('last', '')\n",
    "    \n",
    "    # Combine the first name and last name to count words\n",
    "    full_name = first_name + ' ' + last_name\n",
    "    \n",
    "    # Count the number of words in the full name\n",
    "    word_count = len(full_name.split())\n",
    "    \n",
    "    print(f\"User's full name: {full_name}\")\n",
    "    print(f\"Number of words in the name: {word_count}\")\n",
    "else:\n",
    "    print(f\"Failed to retrieve data. Status code: {response.status_code}\")\n"
   ]
  },
  {
   "cell_type": "code",
   "execution_count": null,
   "id": "024ad977",
   "metadata": {},
   "outputs": [],
   "source": [
    "data"
   ]
  }
 ],
 "metadata": {
  "kernelspec": {
   "display_name": "Python 3 (ipykernel)",
   "language": "python",
   "name": "python3"
  },
  "language_info": {
   "codemirror_mode": {
    "name": "ipython",
    "version": 3
   },
   "file_extension": ".py",
   "mimetype": "text/x-python",
   "name": "python",
   "nbconvert_exporter": "python",
   "pygments_lexer": "ipython3",
   "version": "3.12.2"
  }
 },
 "nbformat": 4,
 "nbformat_minor": 5
}
