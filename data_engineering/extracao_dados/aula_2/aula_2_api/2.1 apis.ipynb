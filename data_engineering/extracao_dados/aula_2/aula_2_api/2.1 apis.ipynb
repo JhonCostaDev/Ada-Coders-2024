{
 "cells": [
  {
   "cell_type": "markdown",
   "metadata": {
    "application/vnd.databricks.v1+cell": {
     "cellMetadata": {
      "byteLimit": 2048000,
      "rowLimit": 10000
     },
     "inputWidgets": {},
     "nuid": "a953fa75-3330-47f2-be3c-9766b2295840",
     "showTitle": false,
     "title": ""
    }
   },
   "source": [
    "<div style=\"text-align: left;\">\n",
    "\n",
    "## Módulo: ED-NA-001 - Extração de Dados I\n",
    "<br>\n",
    "\n",
    "## Aula 2\n",
    "\n",
    "<br>"
   ]
  },
  {
   "cell_type": "markdown",
   "metadata": {
    "application/vnd.databricks.v1+cell": {
     "cellMetadata": {
      "byteLimit": 2048000,
      "rowLimit": 10000
     },
     "inputWidgets": {},
     "nuid": "48bc0255-d11c-4be9-b2dc-e79ca065c712",
     "showTitle": false,
     "title": ""
    }
   },
   "source": [
    "### Programação da Aula 2:\n",
    "\n",
    "> #### 1. **Mostrar como compartilhar o workspace para outros usuários no Databricks**\n",
    "> #### 2. **Mostrar como ativar a visualização das pastas do DBFS**\n",
    "> #### 3. **O que é uma API**;\n",
    "> #### 4. **Exemplos com APIs**;\n",
    "> #### 5. **Exercício: Desenvolver um pipeline de dados com uma API**."
   ]
  },
  {
   "cell_type": "markdown",
   "metadata": {
    "application/vnd.databricks.v1+cell": {
     "cellMetadata": {
      "byteLimit": 2048000,
      "rowLimit": 10000
     },
     "inputWidgets": {},
     "nuid": "4ae83bab-8933-4e4f-b416-d6c70199bb10",
     "showTitle": false,
     "title": ""
    }
   },
   "source": [
    "<div style=\"text-align: left;\">\n",
    "\n",
    "## O que é uma API?\n",
    "<br>\n",
    "\n",
    "#### API (Application Programming Interface - Interface de Programação de Aplicativos) é um conjunto de regras e protocolos que permitem que diferentes softwares se comuniquem entre si:\n",
    "\n",
    "<br>\n",
    "\n",
    "<div style=\"text-align: center;\">\n",
    "<img src=\"https://media2.giphy.com/media/v1.Y2lkPTc5MGI3NjExbXZ1MmlwZGFxYnRycGo1dWd2MGlmdGxoemxtZWptOTI5bml2cXJnNiZlcD12MV9pbnRlcm5hbF9naWZfYnlfaWQmY3Q9Zw/v2xDXgy5XmJ4RTJn90/giphy.webp\"  width=\"70%\" height=\"40%\">\n",
    "<br>\n",
    "\n",
    "<img src=\"https://media3.giphy.com/media/v1.Y2lkPTc5MGI3NjExbXIyY25xcHV0Ynl2ZzJja2swazNtN3oxZDdnZ2YyYmd6dmx6YjhpNCZlcD12MV9pbnRlcm5hbF9naWZfYnlfaWQmY3Q9Zw/WT4EoFy7zDLZnMtnTk/giphy.webp\"  width=\"70%\" height=\"40%\">\n",
    "<br>\n",
    "\n"
   ]
  },
  {
   "attachments": {},
   "cell_type": "markdown",
   "metadata": {
    "application/vnd.databricks.v1+cell": {
     "cellMetadata": {},
     "inputWidgets": {},
     "nuid": "4a9ba552-49f7-4f3c-9e77-9857289e7c58",
     "showTitle": false,
     "title": ""
    }
   },
   "source": [
    "\n",
    "## REST API\n",
    "\n",
    "#### Uma REST API se baseia na arquitetura da Web e permite que os sistemas interajam uns com os outros por meio da troca de dados via HTTP.\n",
    "\n",
    "<div style=\"text-align: center;\">\n",
    "<img src=\"https://i.imgur.com/npQSN15.png\"  width=\"70%\" height=\"40%\">\n",
    "<br>\n",
    "</div>\n",
    "\n",
    "#### Tipos de requisição:\n",
    "> ### GET: o método GET é usado para recuperar informações de uma fonte de dados. Ele é o método mais comumente usado para obter dados de uma API REST;\n",
    "> ### POST: o método POST é usado para enviar informações para uma fonte de dados. Ele é usado para criar novos recursos ou atualizar informações existentes;\n",
    "> ### PUT: o método PUT é usado para atualizar informações de uma fonte de dados. Ele é semelhante ao método POST, mas ele requer que você especifique o recurso que deseja atualizar; e\n",
    "> ### DELETE: o método DELETE é usado para excluir informações de uma fonte de dados. Ele é usado para excluir um recurso específico."
   ]
  },
  {
   "cell_type": "markdown",
   "metadata": {
    "application/vnd.databricks.v1+cell": {
     "cellMetadata": {},
     "inputWidgets": {},
     "nuid": "3752d2db-f9d1-4f50-a0a6-d33ab1a870cf",
     "showTitle": false,
     "title": ""
    }
   },
   "source": [
    "## Primeiro exemplo com uma API\n",
    "\n",
    "> #### Consultar, criar, atualizar e deletar o conteúdo de um sistema usando a API JSONPlaceholder:\n",
    "https://jsonplaceholder.typicode.com/"
   ]
  },
  {
   "cell_type": "markdown",
   "metadata": {
    "application/vnd.databricks.v1+cell": {
     "cellMetadata": {},
     "inputWidgets": {},
     "nuid": "2bc0f54c-c425-40d3-a30d-3055aa78115d",
     "showTitle": false,
     "title": ""
    }
   },
   "source": [
    "#### Consultar com GET"
   ]
  },
  {
   "cell_type": "code",
   "execution_count": null,
   "metadata": {
    "application/vnd.databricks.v1+cell": {
     "cellMetadata": {
      "byteLimit": 2048000,
      "rowLimit": 10000
     },
     "inputWidgets": {},
     "nuid": "d829cb3a-c3d3-407f-8f5f-7971b79ab3c1",
     "showTitle": false,
     "title": ""
    }
   },
   "outputs": [],
   "source": [
    "import requests\n",
    "\n",
    "# URL da API JSONPlaceholder \n",
    "url = 'https://jsonplaceholder.typicode.com/posts/'  \n",
    "\n",
    "# Realiza a solicitação GET\n",
    "response = requests.get(url)\n",
    "\n",
    "# Verifica o status da resposta\n",
    "if response.status_code == 200:\n",
    "    data = response.json()\n",
    "    print('Solicitação GET bem-sucedida!')\n",
    "    print('Detalhes do post:', data)\n",
    "else:\n",
    "    print('Falha na solicitação GET. Código de status:', response.status_code)\n",
    "    print('Resposta da API:', response.text)\n"
   ]
  },
  {
   "cell_type": "code",
   "execution_count": null,
   "metadata": {
    "application/vnd.databricks.v1+cell": {
     "cellMetadata": {
      "byteLimit": 2048000,
      "rowLimit": 10000
     },
     "inputWidgets": {},
     "nuid": "aca4ce6c-7906-472d-9e69-246e2fffdfc8",
     "showTitle": false,
     "title": ""
    }
   },
   "outputs": [],
   "source": [
    "#imprime o primeiro registro\n",
    "print(data[0])"
   ]
  },
  {
   "cell_type": "code",
   "execution_count": null,
   "metadata": {
    "application/vnd.databricks.v1+cell": {
     "cellMetadata": {
      "byteLimit": 2048000,
      "rowLimit": 10000
     },
     "inputWidgets": {},
     "nuid": "75b977cf-3396-45c7-b99d-a6e42ae21e3b",
     "showTitle": false,
     "title": ""
    }
   },
   "outputs": [],
   "source": [
    "#imprime o conteudo do campo da mensagem \"userId\"\n",
    "print(\"userId:\", data[0]['userId'])"
   ]
  },
  {
   "cell_type": "markdown",
   "metadata": {
    "application/vnd.databricks.v1+cell": {
     "cellMetadata": {},
     "inputWidgets": {},
     "nuid": "307420ee-a8d2-4e74-b1d4-215d2f090c3d",
     "showTitle": false,
     "title": ""
    }
   },
   "source": [
    "#### Consultar com GET e filtro por ID direto no URL da API"
   ]
  },
  {
   "cell_type": "code",
   "execution_count": null,
   "metadata": {
    "application/vnd.databricks.v1+cell": {
     "cellMetadata": {
      "byteLimit": 2048000,
      "rowLimit": 10000
     },
     "inputWidgets": {},
     "nuid": "d06ad7e2-b0eb-4991-a04f-c9aa8b2e0f56",
     "showTitle": false,
     "title": ""
    }
   },
   "outputs": [],
   "source": [
    "import requests\n",
    "\n",
    "# URL da API JSONPlaceholder \n",
    "url = 'https://jsonplaceholder.typicode.com/posts/1'  # Filtro do ID direto no URL da API\n",
    "\n",
    "# Realiza a solicitação GET\n",
    "response = requests.get(url)\n",
    "\n",
    "# Verifica o status da resposta\n",
    "if response.status_code == 200:\n",
    "    data = response.json()\n",
    "    print('Solicitação GET bem-sucedida!')\n",
    "    print('Detalhes do post:', data)\n",
    "else:\n",
    "    print('Falha na solicitação GET. Código de status:', response.status_code)\n",
    "    print('Resposta da API:', response.text)\n"
   ]
  },
  {
   "cell_type": "markdown",
   "metadata": {
    "application/vnd.databricks.v1+cell": {
     "cellMetadata": {},
     "inputWidgets": {},
     "nuid": "23089ba6-4830-41f6-a9b0-9d2682a297c7",
     "showTitle": false,
     "title": ""
    }
   },
   "source": [
    "#### Criar com POST (Lembrando que o POST não armazena os dados nessa API por ser uma API fictícia, apenas simula a operação)"
   ]
  },
  {
   "cell_type": "code",
   "execution_count": null,
   "metadata": {
    "application/vnd.databricks.v1+cell": {
     "cellMetadata": {
      "byteLimit": 2048000,
      "rowLimit": 10000
     },
     "inputWidgets": {},
     "nuid": "ce39c12f-9169-4511-a60f-f035df1e5f35",
     "showTitle": false,
     "title": ""
    }
   },
   "outputs": [],
   "source": [
    "import requests\n",
    "\n",
    "# URL da API JSONPlaceholder para criar um novo post\n",
    "url = 'https://jsonplaceholder.typicode.com/posts'\n",
    "\n",
    "# Dados do novo post que você deseja enviar no corpo da solicitação POST\n",
    "novo_post = {\n",
    "    'userId': 10000,\n",
    "    'title': 'Título do Novo Post',\n",
    "    'body': 'Conteúdo do Novo Post'\n",
    "}\n",
    "\n",
    "# Realiza a solicitação POST\n",
    "response = requests.post(url, json=novo_post)\n",
    "\n",
    "# Verifica o status da resposta\n",
    "if response.status_code == 201:\n",
    "    data = response.json()\n",
    "    print('Novo post criado com sucesso!')\n",
    "    print('Resposta da API:', data)\n",
    "else:\n",
    "    print('Falha ao criar o post. Código de status:', response.status_code)\n",
    "    print('Resposta da API:', response.text)\n"
   ]
  },
  {
   "cell_type": "markdown",
   "metadata": {
    "application/vnd.databricks.v1+cell": {
     "cellMetadata": {},
     "inputWidgets": {},
     "nuid": "c14d6270-7c59-4c49-8c9c-75e5e419f845",
     "showTitle": false,
     "title": ""
    }
   },
   "source": [
    "#### Atualizar com PUT (Lembrando que o PUT não altera os dados nessa API por ser uma API fictícia, apenas simula a operação)"
   ]
  },
  {
   "cell_type": "code",
   "execution_count": null,
   "metadata": {
    "application/vnd.databricks.v1+cell": {
     "cellMetadata": {
      "byteLimit": 2048000,
      "rowLimit": 10000
     },
     "inputWidgets": {},
     "nuid": "970af79a-b058-43ad-b105-10b3273e364f",
     "showTitle": false,
     "title": ""
    }
   },
   "outputs": [],
   "source": [
    "import requests\n",
    "\n",
    "# URL da API JSONPlaceholder para filtrar apenas o conteúdo de id igual a 1\n",
    "url = 'https://jsonplaceholder.typicode.com/posts/1'\n",
    "\n",
    "# Dados para a atualização do post que você deseja enviar no corpo da solicitação PUT\n",
    "post_atualizado = {\n",
    "    'id': 1,\n",
    "    'title': 'Novo Título',\n",
    "    'body': 'Novo Conteudo'\n",
    "}\n",
    "\n",
    "# Realiza a solicitação PUT\n",
    "response = requests.put(url, json=post_atualizado)\n",
    "\n",
    "# Verifica o status da resposta\n",
    "if response.status_code == 200:\n",
    "    data = response.json()\n",
    "    print('Registro atualizado com sucesso!')\n",
    "    print('Resposta da API:', data)\n",
    "else:\n",
    "    print('Falha ao atualizar. Código de status:', response.status_code)\n",
    "    print('Resposta da API:', response.text)\n"
   ]
  },
  {
   "cell_type": "markdown",
   "metadata": {
    "application/vnd.databricks.v1+cell": {
     "cellMetadata": {},
     "inputWidgets": {},
     "nuid": "8be66ae7-9bed-4a77-a01b-b625deecc1ed",
     "showTitle": false,
     "title": ""
    }
   },
   "source": [
    "#### Deletar com DELETE (Lembrando que o DELETE não deleta os dados nessa API por ser uma API fictícia, apenas simula a operação)"
   ]
  },
  {
   "cell_type": "code",
   "execution_count": null,
   "metadata": {
    "application/vnd.databricks.v1+cell": {
     "cellMetadata": {
      "byteLimit": 2048000,
      "rowLimit": 10000
     },
     "inputWidgets": {},
     "nuid": "2026ca37-3ff7-4bea-9294-b220a10c8f1c",
     "showTitle": false,
     "title": ""
    }
   },
   "outputs": [],
   "source": [
    "import requests\n",
    "\n",
    "# URL da API JSONPlaceholder para filtrar apenas o conteúdo de id igual a 1\n",
    "url = 'https://jsonplaceholder.typicode.com/posts/1'\n",
    "\n",
    "# Realiza a solicitação DELETE\n",
    "response = requests.delete(url)\n",
    "\n",
    "# Verifica o status da resposta\n",
    "if response.status_code == 200:\n",
    "    data = response.json()\n",
    "    print('Registro deletado com sucesso!')\n",
    "else:\n",
    "    print('Falha ao deletar. Código de status:', response.status_code)\n"
   ]
  },
  {
   "cell_type": "markdown",
   "metadata": {
    "application/vnd.databricks.v1+cell": {
     "cellMetadata": {
      "byteLimit": 2048000,
      "rowLimit": 10000
     },
     "inputWidgets": {},
     "nuid": "db998f99-06a7-40fc-b723-0a2f99dd3f78",
     "showTitle": false,
     "title": ""
    }
   },
   "source": [
    "## Exemplo com a API Random User Generator\n",
    "https://randomuser.me/documentation\n",
    "\n"
   ]
  },
  {
   "cell_type": "markdown",
   "metadata": {
    "application/vnd.databricks.v1+cell": {
     "cellMetadata": {},
     "inputWidgets": {},
     "nuid": "d34ca86a-93f3-47b0-905a-8fa0486dab80",
     "showTitle": false,
     "title": ""
    }
   },
   "source": [
    "#### Chamada para consultar dados de um usuário fictício e salvar os resultados em um Dataframe Pandas"
   ]
  },
  {
   "cell_type": "code",
   "execution_count": 40,
   "metadata": {
    "application/vnd.databricks.v1+cell": {
     "cellMetadata": {
      "byteLimit": 2048000,
      "rowLimit": 10000
     },
     "inputWidgets": {},
     "nuid": "bfaf81e9-9593-4144-985f-4893c199ff1c",
     "showTitle": false,
     "title": ""
    }
   },
   "outputs": [],
   "source": [
    "import requests\n",
    "import pandas as ps\n",
    "\n",
    "# URL da API Random User \n",
    "url = 'https://randomuser.me/api/'\n",
    "\n",
    "# Faz a solicitação HTTP à API \n",
    "response = requests.get(url)\n",
    "\n",
    "# Verifica se a solicitação foi bem-sucedida\n",
    "if response.status_code == 200:\n",
    "    data = response.json()\n",
    "    user = data['results'][0]  # Pega os dados do usuario\n",
    "\n",
    "    if user:\n",
    "        # Cria um dicionário com as informações do usuário\n",
    "        user_info = {\n",
    "            'nome': f\"{user['name']['first']} {user['name']['last']}\",\n",
    "            'email': user['email'],\n",
    "            'pais': user['location']['country'],\n",
    "            'telefone': user['phone'],\n",
    "            'link_foto': user['picture']['large']\n",
    "        }\n",
    "\n",
    "        # Cria o DataFrame\n",
    "        df = ps.DataFrame([user_info])\n",
    "\n",
    "else:\n",
    "    print('Falha ao obter dados da API.')"
   ]
  },
  {
   "cell_type": "code",
   "execution_count": null,
   "metadata": {
    "application/vnd.databricks.v1+cell": {
     "cellMetadata": {
      "byteLimit": 2048000,
      "rowLimit": 10000
     },
     "inputWidgets": {},
     "nuid": "72e3bf8a-fe3c-4357-8f1a-357d16ec483e",
     "showTitle": false,
     "title": ""
    }
   },
   "outputs": [],
   "source": [
    "df.head()"
   ]
  },
  {
   "cell_type": "markdown",
   "metadata": {
    "application/vnd.databricks.v1+cell": {
     "cellMetadata": {},
     "inputWidgets": {},
     "nuid": "7992acbf-910c-4402-be53-0724611d2a65",
     "showTitle": false,
     "title": ""
    }
   },
   "source": [
    "#### A API retorna diferentes campos de informação"
   ]
  },
  {
   "cell_type": "code",
   "execution_count": null,
   "metadata": {
    "application/vnd.databricks.v1+cell": {
     "cellMetadata": {
      "byteLimit": 2048000,
      "rowLimit": 10000
     },
     "inputWidgets": {},
     "nuid": "bd4b83cb-d18f-42a7-b34c-5c6bdef70527",
     "showTitle": false,
     "title": ""
    }
   },
   "outputs": [],
   "source": [
    "data"
   ]
  },
  {
   "cell_type": "markdown",
   "metadata": {
    "application/vnd.databricks.v1+cell": {
     "cellMetadata": {},
     "inputWidgets": {},
     "nuid": "aede66de-645d-4794-b5db-5ca475f64ec1",
     "showTitle": false,
     "title": ""
    }
   },
   "source": [
    "#### A API retorna uma figura fake gerada por uma AI para o usuário fictício:"
   ]
  },
  {
   "cell_type": "code",
   "execution_count": null,
   "metadata": {
    "application/vnd.databricks.v1+cell": {
     "cellMetadata": {
      "byteLimit": 2048000,
      "rowLimit": 10000
     },
     "inputWidgets": {},
     "nuid": "0e3792ab-5a88-4747-acc9-a882834913f2",
     "showTitle": false,
     "title": ""
    }
   },
   "outputs": [],
   "source": [
    "df['link_foto']"
   ]
  },
  {
   "cell_type": "markdown",
   "metadata": {
    "application/vnd.databricks.v1+cell": {
     "cellMetadata": {
      "byteLimit": 2048000,
      "rowLimit": 10000
     },
     "inputWidgets": {},
     "nuid": "f5e9e147-5648-4c35-91e8-6b0c75a2b0fa",
     "showTitle": false,
     "title": ""
    }
   },
   "source": [
    "<div style=\"text-align: center;\">\n",
    "<img src=\"https://randomuser.me/api/portraits/women/82.jpg\"  width=\"20%\" height=\"10%\">\n",
    "<br>"
   ]
  },
  {
   "cell_type": "markdown",
   "metadata": {
    "application/vnd.databricks.v1+cell": {
     "cellMetadata": {},
     "inputWidgets": {},
     "nuid": "fe373140-91ae-41d4-b852-3fa46696ced8",
     "showTitle": false,
     "title": ""
    }
   },
   "source": [
    "#### Criada uma função para fazer a chamada da API a partir da URL e salvar o resultado em um Pandas Dataframe"
   ]
  },
  {
   "cell_type": "code",
   "execution_count": 44,
   "metadata": {
    "application/vnd.databricks.v1+cell": {
     "cellMetadata": {
      "byteLimit": 2048000,
      "rowLimit": 10000
     },
     "inputWidgets": {},
     "nuid": "32b3a8fc-a073-4d01-800b-5d99b738f7ed",
     "showTitle": false,
     "title": ""
    }
   },
   "outputs": [],
   "source": [
    "def get_user_info(url):\n",
    "\n",
    "    # Faz a solicitação HTTP à API \n",
    "    response = requests.get(url)\n",
    "\n",
    "    # Verifica se a solicitação foi bem-sucedida\n",
    "    if response.status_code == 200:\n",
    "        data = response.json()\n",
    "        user = data['results'][0]  # Pega os dados do usuario\n",
    "\n",
    "        if user:\n",
    "            # Cria um dicionário com as informações do usuário\n",
    "            user_info = {\n",
    "                'nome': f\"{user['name']['first']} {user['name']['last']}\",\n",
    "                'email': user['email'],\n",
    "                'pais': user['location']['country'],\n",
    "                'telefone': user['phone'],\n",
    "                'link_foto': user['picture']['large']\n",
    "            }\n",
    "\n",
    "            # Cria o DataFrame\n",
    "            df = ps.DataFrame([user_info])\n",
    "\n",
    "            message = 'Requisição completada com sucesso'\n",
    "\n",
    "    else:\n",
    "        message = 'Falha ao obter dados da API.'\n",
    "    \n",
    "    return df, message"
   ]
  },
  {
   "cell_type": "markdown",
   "metadata": {
    "application/vnd.databricks.v1+cell": {
     "cellMetadata": {},
     "inputWidgets": {},
     "nuid": "275ee0bb-d8f4-4db0-8acd-5dadd9733a38",
     "showTitle": false,
     "title": ""
    }
   },
   "source": [
    "#### Teste da função"
   ]
  },
  {
   "cell_type": "code",
   "execution_count": null,
   "metadata": {
    "application/vnd.databricks.v1+cell": {
     "cellMetadata": {
      "byteLimit": 2048000,
      "rowLimit": 10000
     },
     "inputWidgets": {},
     "nuid": "db4c0541-93cb-4082-925a-9827e10a51f8",
     "showTitle": false,
     "title": ""
    }
   },
   "outputs": [],
   "source": [
    "# URL da API Random User \n",
    "url = 'https://randomuser.me/api/'\n",
    "df_user, message = get_user_info(url)\n",
    "print(message)\n",
    "df_user.head()"
   ]
  },
  {
   "cell_type": "markdown",
   "metadata": {
    "application/vnd.databricks.v1+cell": {
     "cellMetadata": {},
     "inputWidgets": {},
     "nuid": "861d84b1-0bae-4463-ae2c-a6acba6d1ee2",
     "showTitle": false,
     "title": ""
    }
   },
   "source": [
    "#### Chamada da API com o filtro de naciolidade brasileira"
   ]
  },
  {
   "cell_type": "code",
   "execution_count": null,
   "metadata": {
    "application/vnd.databricks.v1+cell": {
     "cellMetadata": {
      "byteLimit": 2048000,
      "rowLimit": 10000
     },
     "inputWidgets": {},
     "nuid": "7d912a01-3051-478f-b1e1-cf8b847b4faa",
     "showTitle": false,
     "title": ""
    }
   },
   "outputs": [],
   "source": [
    "# URL da API Random User para filtrar apenas naciolidade brasileira\n",
    "url = 'https://randomuser.me/api/?nat=br'\n",
    "df_user, message = get_user_info(url)\n",
    "print(message)\n",
    "df_user.head()"
   ]
  },
  {
   "cell_type": "markdown",
   "metadata": {
    "application/vnd.databricks.v1+cell": {
     "cellMetadata": {},
     "inputWidgets": {},
     "nuid": "f1b18c4d-b1f6-46ab-acdb-773f8562692d",
     "showTitle": false,
     "title": ""
    }
   },
   "source": [
    "#### O resultado é aleatório a cada nova chamada, para garantir que a chamada irá sempre retornar o mesmo usuário fictício, pode se usar a semente como parametro chamado de \"seed\". A semente pode se passada como qualquer string."
   ]
  },
  {
   "cell_type": "code",
   "execution_count": null,
   "metadata": {
    "application/vnd.databricks.v1+cell": {
     "cellMetadata": {
      "byteLimit": 2048000,
      "rowLimit": 10000
     },
     "inputWidgets": {},
     "nuid": "148c28e8-9ab9-4271-be14-11f8bee3e49a",
     "showTitle": false,
     "title": ""
    }
   },
   "outputs": [],
   "source": [
    "# URL da API Random User para filtrar apenas naciolidade brasileira\n",
    "url = 'https://randomuser.me/api/?seed=abc'\n",
    "df_user, message = get_user_info(url)\n",
    "print(message)\n",
    "df_user.head()"
   ]
  },
  {
   "cell_type": "markdown",
   "metadata": {
    "application/vnd.databricks.v1+cell": {
     "cellMetadata": {},
     "inputWidgets": {},
     "nuid": "b21b09b5-2b7f-48ce-a34d-c74538b6108a",
     "showTitle": false,
     "title": ""
    }
   },
   "source": [
    "#### É possível combinar dois parametros em uma única chamada, como no exemplo abaixo com a nacionalidade e semente:"
   ]
  },
  {
   "cell_type": "code",
   "execution_count": null,
   "metadata": {
    "application/vnd.databricks.v1+cell": {
     "cellMetadata": {
      "byteLimit": 2048000,
      "rowLimit": 10000
     },
     "inputWidgets": {},
     "nuid": "840f232d-ca79-4e02-865f-731abb0263e4",
     "showTitle": false,
     "title": ""
    }
   },
   "outputs": [],
   "source": [
    "# URL da API Random User para filtrar apenas naciolidade brasileira\n",
    "url = 'https://randomuser.me/api/?seed=abc&nat=br'\n",
    "df_user, message = get_user_info(url)\n",
    "print(message)\n",
    "df_user.head()"
   ]
  },
  {
   "cell_type": "markdown",
   "metadata": {
    "application/vnd.databricks.v1+cell": {
     "cellMetadata": {},
     "inputWidgets": {},
     "nuid": "db9d7c19-fc1b-41a3-85ff-3a6cd34a6a37",
     "showTitle": false,
     "title": ""
    }
   },
   "source": [
    "#### Chamada da API múltiplas vezes e armazena o resultado final em apenas um dataframe"
   ]
  },
  {
   "cell_type": "code",
   "execution_count": 49,
   "metadata": {
    "application/vnd.databricks.v1+cell": {
     "cellMetadata": {
      "byteLimit": 2048000,
      "rowLimit": 10000
     },
     "inputWidgets": {},
     "nuid": "505e368a-aff2-4877-829b-a45c3f3c9476",
     "showTitle": false,
     "title": ""
    }
   },
   "outputs": [],
   "source": [
    "nb_users = 4\n",
    "url = 'https://randomuser.me/api/?nat=br'\n",
    "df_final = ps.DataFrame()\n",
    "\n",
    "for user in range(nb_users):\n",
    "    df_user, message = get_user_info(url)\n",
    "    df_final = ps.concat([df_final, df_user])"
   ]
  },
  {
   "cell_type": "code",
   "execution_count": null,
   "metadata": {
    "application/vnd.databricks.v1+cell": {
     "cellMetadata": {
      "byteLimit": 2048000,
      "rowLimit": 10000
     },
     "inputWidgets": {},
     "nuid": "c8ce317c-6b39-49ce-bb7f-4c4d06fd6a0e",
     "showTitle": false,
     "title": ""
    }
   },
   "outputs": [],
   "source": [
    "df_final.head()"
   ]
  },
  {
   "cell_type": "markdown",
   "metadata": {
    "application/vnd.databricks.v1+cell": {
     "cellMetadata": {},
     "inputWidgets": {},
     "nuid": "d3387885-2258-4a45-a7ba-c5ab5367fac9",
     "showTitle": false,
     "title": ""
    }
   },
   "source": [
    "## Autenticações em APIs"
   ]
  },
  {
   "cell_type": "markdown",
   "metadata": {
    "application/vnd.databricks.v1+cell": {
     "cellMetadata": {},
     "inputWidgets": {},
     "nuid": "c5da3825-3e5a-45f2-b774-6a89cd405154",
     "showTitle": false,
     "title": ""
    }
   },
   "source": [
    "#### A autenticação é importante em API's porque ela garante que apenas usuários autorizados tenham acesso aos dados e funcionalidades fornecidos pela API. Além disso, a autenticação também ajuda a garantir a segurança dos dados, já que impede que pessoas não autorizadas possam acessá-los."
   ]
  },
  {
   "cell_type": "markdown",
   "metadata": {
    "application/vnd.databricks.v1+cell": {
     "cellMetadata": {},
     "inputWidgets": {},
     "nuid": "d1696457-9c90-4e97-aeca-64e85651ce67",
     "showTitle": false,
     "title": ""
    }
   },
   "source": [
    "### Autenticação: \"Basic Authentication\"\n",
    "\n",
    "#### É uma das formas mais simples de autenticação em API's. Nesta autenticação, o usuário envia seu nome de usuário e senha juntos com cada requisição na API."
   ]
  },
  {
   "cell_type": "code",
   "execution_count": null,
   "metadata": {
    "application/vnd.databricks.v1+cell": {
     "cellMetadata": {},
     "inputWidgets": {},
     "nuid": "a779d2c4-d7b9-43ce-b1c8-5eb3e77f2691",
     "showTitle": false,
     "title": ""
    }
   },
   "outputs": [],
   "source": [
    "import requests\n",
    "\n",
    "url = \"https://api.example.com/protected_resource\"\n",
    "\n",
    "# Credenciais do usuário\n",
    "username = \"user\"\n",
    "password = \"pass\"\n",
    "\n",
    "# Fazendo a requisição com autenticação básica\n",
    "response = requests.get(url, auth=(username, password))\n",
    "\n",
    "# Verificando o status da resposta\n",
    "if response.status_code == 200:\n",
    "    print(\"Acesso autorizado\")\n",
    "else:\n",
    "    print(\"Acesso não autorizado\")"
   ]
  },
  {
   "cell_type": "markdown",
   "metadata": {
    "application/vnd.databricks.v1+cell": {
     "cellMetadata": {},
     "inputWidgets": {},
     "nuid": "587264ef-d95a-4fae-97fd-ab2a0c4b11f7",
     "showTitle": false,
     "title": ""
    }
   },
   "source": [
    "### Autenticação: \"OAuth\"\n",
    "\n",
    "#### Nesta autenticação, o usuário autoriza a aplicação a acessar seus dados protegidos através de uma API, sem compartilhar suas credenciais."
   ]
  },
  {
   "cell_type": "code",
   "execution_count": null,
   "metadata": {
    "application/vnd.databricks.v1+cell": {
     "cellMetadata": {},
     "inputWidgets": {},
     "nuid": "e9d6cdbc-6c1c-4125-bfd2-af8a4bbe7257",
     "showTitle": false,
     "title": ""
    }
   },
   "outputs": [],
   "source": [
    "import requests\n",
    "from requests_oauthlib import OAuth1\n",
    "\n",
    "url = \"https://api.example.com/protected_resource\"\n",
    "\n",
    "# Chaves de acesso da aplicação\n",
    "consumer_key = \"consumer_key\"\n",
    "consumer_secret = \"consumer_secret\"\n",
    "\n",
    "# Tokens de acesso do usuário\n",
    "access_token = \"access_token\"\n",
    "access_token_secret = \"access_token_secret\"\n",
    "\n",
    "# Fazendo a requisição com autenticação OAuth\n",
    "oauth = OAuth1(consumer_key, consumer_secret, access_token, access_token_secret)\n",
    "response = requests.get(url, auth=oauth)\n",
    "\n",
    "# Verificando o status da resposta\n",
    "if response.status_code == 200:\n",
    "    print(\"Acesso autorizado\")\n",
    "else:\n",
    "    print(\"Acesso não autorizado\")"
   ]
  },
  {
   "cell_type": "markdown",
   "metadata": {
    "application/vnd.databricks.v1+cell": {
     "cellMetadata": {},
     "inputWidgets": {},
     "nuid": "d3e096d9-4f3d-40c7-8e0b-bbd26cb842d3",
     "showTitle": false,
     "title": ""
    }
   },
   "source": [
    "### Autenticação; \"JWT (JSON Web Tokens)\"\n",
    "\n",
    "#### É uma forma segura de transmitir informações através de requisições HTTP, como nome de usuário, ID de usuário, data de expiração, etc. "
   ]
  },
  {
   "cell_type": "code",
   "execution_count": null,
   "metadata": {
    "application/vnd.databricks.v1+cell": {
     "cellMetadata": {},
     "inputWidgets": {},
     "nuid": "f2ad0231-495e-4e64-b1a4-997bcd0f5134",
     "showTitle": false,
     "title": ""
    }
   },
   "outputs": [],
   "source": [
    "import jwt\n",
    "import requests\n",
    "\n",
    "url = \"https://api.example.com/protected_resource\"\n",
    "\n",
    "# Chaves de acesso da aplicação\n",
    "secret_key = \"secret_key\"\n",
    "\n",
    "# Dados do usuário a serem incluídos no JWT\n",
    "payload = {\"username\": \"user\", \"user_id\": 123}\n",
    "\n",
    "# Codificando o JWT\n",
    "token = jwt.encode(payload, secret_key, algorithm='HS256')\n",
    "\n",
    "# Adicionando o JWT à requisição\n",
    "headers = {'Authorization': 'Bearer ' + token.decode('utf-8')}\n",
    "response = requests.get(url, headers=headers)\n",
    "\n",
    "# Verificando o status da resposta\n",
    "if response.status_code == 200:\n",
    "    print(\"Acesso autorizado\")\n",
    "else:\n",
    "    print(\"Acesso não autorizado\")"
   ]
  }
 ],
 "metadata": {
  "application/vnd.databricks.v1+notebook": {
   "dashboards": [],
   "language": "python",
   "notebookMetadata": {
    "pythonIndentUnit": 4
   },
   "notebookName": "Aula_2_APIs",
   "widgets": {}
  },
  "kernelspec": {
   "display_name": "Python 3 (ipykernel)",
   "language": "python",
   "name": "python3"
  },
  "language_info": {
   "codemirror_mode": {
    "name": "ipython",
    "version": 3
   },
   "file_extension": ".py",
   "mimetype": "text/x-python",
   "name": "python",
   "nbconvert_exporter": "python",
   "pygments_lexer": "ipython3",
   "version": "3.12.2"
  }
 },
 "nbformat": 4,
 "nbformat_minor": 4
}
