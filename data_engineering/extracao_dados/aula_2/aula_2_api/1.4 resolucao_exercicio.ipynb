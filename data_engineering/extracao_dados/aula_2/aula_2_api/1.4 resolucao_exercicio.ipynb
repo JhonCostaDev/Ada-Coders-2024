{
 "cells": [
  {
   "cell_type": "markdown",
   "metadata": {
    "application/vnd.databricks.v1+cell": {
     "cellMetadata": {},
     "inputWidgets": {},
     "nuid": "a953fa75-3330-47f2-be3c-9766b2295840",
     "showTitle": false,
     "title": ""
    }
   },
   "source": [
    "<div style=\"text-align: left;\">\n",
    "\n",
    "## Módulo: ED-NA-001 - Extração de Dados I\n",
    "<br>\n",
    "\n",
    "## Aula 1 - Exercício 1\n",
    "<br>"
   ]
  },
  {
   "cell_type": "markdown",
   "metadata": {
    "application/vnd.databricks.v1+cell": {
     "cellMetadata": {},
     "inputWidgets": {},
     "nuid": "cf2a9d95-a821-4704-8bc9-02ad012a5253",
     "showTitle": false,
     "title": ""
    }
   },
   "source": [
    "#### Desenvolver em grupo um ETL e um ELT a partir da extração de dados do arquivo disponível no Kaggle:\n",
    "https://www.kaggle.com/datasets/kapturovalexander/spotify-data-from-pyspark-course\n",
    "\n",
    "#### \"Cada linha no conjunto de dados corresponde a uma faixa musical, com variáveis como o título, artista e ano localizadas em suas respectivas colunas. Além das variáveis fundamentais, elementos musicais de cada faixa, como o ritmo, a capacidade de dança e a tonalidade, também foram extraídos; o algoritmo para esses valores foi gerado pelo Spotify com base em uma série de parâmetros técnicos.\"\n",
    "\n",
    "#### Essa é a descrição e o tipo de cada coluna do arquivo:\n",
    "\n",
    "> #### 01. id: str, identificador da faixa.\n",
    "> #### 02. nome: str, nome da faixa.\n",
    "> #### 03. artistas: str, artistas da faixa.\n",
    "> #### 04. duration_ms: float, duração da faixa em milissegundos.\n",
    "> #### 05. release_date: data, data de lançamento da faixa.\n",
    "> #### 06. year: int, ano de lançamento da faixa.\n",
    "> #### 07. acousticness: float, medida de acústica da faixa.\n",
    "> #### 08. danceability: float, medida de capacidade de dança da faixa.\n",
    "> #### 09. energy: float, medida de energia da faixa.\n",
    "> #### 10. instrumentalness: float, medida de elementos instrumentais na faixa.\n",
    "> #### 11. liveness: float, medida de vivacidade da faixa.\n",
    "> #### 12. loudness: float, volume da faixa.\n",
    "> #### 13. speechiness: float, medida de fala na faixa.\n",
    "> #### 14. tempo: float, ritmo da faixa.\n",
    "> #### 15. valence: float, medida de valência (positividade) da faixa.\n",
    "> #### 16. mode: int, modo da faixa (maior ou menor).\n",
    "> #### 17. key: int, tonalidade da faixa.\n",
    "> #### 18. popularity: int, pontuação de popularidade da faixa.\n",
    "> #### 19. explicit: int, indicação da presença de conteúdo explícito (explícito ou implícito)."
   ]
  },
  {
   "cell_type": "markdown",
   "metadata": {
    "application/vnd.databricks.v1+cell": {
     "cellMetadata": {
      "byteLimit": 2048000,
      "rowLimit": 10000
     },
     "inputWidgets": {},
     "nuid": "908f13c2-a942-429a-b238-462a4a1519df",
     "showTitle": false,
     "title": ""
    }
   },
   "source": [
    "#### Os dados transformados precisam responder as seguintes perguntas:\n",
    "> #### 1. As músicas mais populares nos últimos 10 anos;\n",
    "> #### 2. A quantidade de músicas lançadas por artista e ano de lançamento;\n",
    "> #### 3. Os artistas com a maior média de popularidade de músicas nos últimos 5 anos."
   ]
  },
  {
   "cell_type": "markdown",
   "metadata": {
    "application/vnd.databricks.v1+cell": {
     "cellMetadata": {},
     "inputWidgets": {},
     "nuid": "399d844b-519f-42fd-834a-b0473ed56b38",
     "showTitle": false,
     "title": ""
    }
   },
   "source": [
    "## Resolução com um ETL"
   ]
  },
  {
   "cell_type": "code",
   "execution_count": null,
   "metadata": {
    "application/vnd.databricks.v1+cell": {
     "cellMetadata": {},
     "inputWidgets": {},
     "nuid": "52a69aae-680a-4da3-a944-84956717f44c",
     "showTitle": false,
     "title": ""
    }
   },
   "outputs": [],
   "source": [
    "%\n",
    "#### Extração dos dados"
   ]
  },
  {
   "cell_type": "code",
   "execution_count": null,
   "metadata": {
    "application/vnd.databricks.v1+cell": {
     "cellMetadata": {
      "byteLimit": 2048000,
      "rowLimit": 10000
     },
     "inputWidgets": {},
     "nuid": "a9225efe-24ce-44d0-b353-72875fa16000",
     "showTitle": false,
     "title": ""
    }
   },
   "outputs": [],
   "source": [
    "#importação da biblioteca Pandas no ambiente do Databricks com Spark\n",
    "import pyspark.pandas as ps "
   ]
  },
  {
   "cell_type": "code",
   "execution_count": null,
   "metadata": {
    "application/vnd.databricks.v1+cell": {
     "cellMetadata": {
      "byteLimit": 2048000,
      "rowLimit": 10000
     },
     "inputWidgets": {},
     "nuid": "ebd11bec-111b-4785-b457-8f51eb365b5d",
     "showTitle": false,
     "title": ""
    }
   },
   "outputs": [],
   "source": [
    "#localização do arquivo\n",
    "arq_leitura = '/FileStore/tables/spotify_data.csv'\n",
    "\n",
    "#leitura do arquivo csv\n",
    "df = ps.read_csv(arq_leitura)\n",
    "\n",
    "print(df.shape)\n",
    "\n",
    "df.head(10)"
   ]
  },
  {
   "cell_type": "markdown",
   "metadata": {
    "application/vnd.databricks.v1+cell": {
     "cellMetadata": {
      "byteLimit": 2048000,
      "rowLimit": 10000
     },
     "inputWidgets": {},
     "nuid": "903fab24-38e2-4b99-9b8c-2b7d8ac88a56",
     "showTitle": false,
     "title": ""
    }
   },
   "source": [
    "> #### Dados transformado - resultado 1: As músicas mais populares nos últimos 10 anos;"
   ]
  },
  {
   "cell_type": "code",
   "execution_count": 0,
   "metadata": {
    "application/vnd.databricks.v1+cell": {
     "cellMetadata": {
      "byteLimit": 2048000,
      "rowLimit": 10000
     },
     "inputWidgets": {},
     "nuid": "9f1c1541-b2ef-428b-b32e-7a581c8af49e",
     "showTitle": false,
     "title": ""
    }
   },
   "outputs": [],
   "source": [
    "#filtra o dado extraido para ficar apenas com últimos 10 anos\n",
    "df_res_1 = df[(df['year']>2012) & (df['year']<=2023)]\n",
    "\n",
    "#ordena por popularidade de forma descendente\n",
    "df_res_1 = df_res_1.sort_values(by=['popularity'], ascending = False)\n",
    "\n",
    "print(df_res_1.shape)\n",
    "\n",
    "df_res_1.head(10)"
   ]
  },
  {
   "cell_type": "markdown",
   "metadata": {
    "application/vnd.databricks.v1+cell": {
     "cellMetadata": {},
     "inputWidgets": {},
     "nuid": "a187826e-5539-440b-92cc-6163a6f3a088",
     "showTitle": false,
     "title": ""
    }
   },
   "source": [
    "> #### Dados transformado - resultado 2: A quantidade de músicas lançadas por artista e ano de lançamento;"
   ]
  },
  {
   "cell_type": "code",
   "execution_count": 0,
   "metadata": {
    "application/vnd.databricks.v1+cell": {
     "cellMetadata": {
      "byteLimit": 2048000,
      "rowLimit": 10000
     },
     "inputWidgets": {},
     "nuid": "65fd3faa-f1fa-4fc5-915a-0e0832c0be05",
     "showTitle": false,
     "title": ""
    }
   },
   "outputs": [],
   "source": [
    "#garante que os anos estão dentro de uma faixa \"normal\" e que não é um \"bad data\"\n",
    "df_res_2 = df[(df['year']>1900) & (df['year']<=2023)]\n",
    "\n",
    "#agroupa os dados por ano e artista e faz a contade de músicas\n",
    "df_res_2 = df_res_2.groupby(['year', 'artists']).agg(quantidade_musicas=('id', 'count'))\n",
    "\n",
    "#reinicia o index e não exclui o anterior\n",
    "df_res_2 = df_res_2.reset_index(drop=False)\n",
    "\n",
    "#ordera por ano e quantidade de música de forma descendente\n",
    "df_res_2 = df_res_2.sort_values(by=['year', 'quantidade_musicas'], ascending = False)\n",
    "\n",
    "print(df_res_2.shape)\n",
    "\n",
    "df_res_2.head(10)"
   ]
  },
  {
   "cell_type": "markdown",
   "metadata": {
    "application/vnd.databricks.v1+cell": {
     "cellMetadata": {},
     "inputWidgets": {},
     "nuid": "20e4bb4b-23be-43e8-a3c1-965ffe2e17d7",
     "showTitle": false,
     "title": ""
    }
   },
   "source": [
    "> #### Dados transformado - resultado 3: Os artistas com a maior média de popularidade de músicas nos últimos 5 anos."
   ]
  },
  {
   "cell_type": "code",
   "execution_count": 0,
   "metadata": {
    "application/vnd.databricks.v1+cell": {
     "cellMetadata": {
      "byteLimit": 2048000,
      "rowLimit": 10000
     },
     "inputWidgets": {},
     "nuid": "7a8835c8-f819-46f7-a16a-859c69313f78",
     "showTitle": false,
     "title": ""
    }
   },
   "outputs": [],
   "source": [
    "#filtra os dados extraidos para garantir apenas os últimos 5 anos\n",
    "df_res_3 = df[(df['year']>2018) & (df['year']<=2023)]\n",
    "\n",
    "#agroupa os dados por artistas e agrega pela média de popularidade\n",
    "df_res_3 = df_res_3.groupby(['artists']).agg(media_popularidade=('popularity', 'avg'))\n",
    "\n",
    "#reinicia o index sem excluir o anterior\n",
    "df_res_3 = df_res_3.reset_index(drop=False)\n",
    "\n",
    "#ordena pela média de popularidade de forma descendente\n",
    "df_res_3 = df_res_3.sort_values(by=['media_popularidade'], ascending = False)\n",
    "\n",
    "print(df_res_3.shape)\n",
    "\n",
    "df_res_3.head(10)"
   ]
  },
  {
   "cell_type": "markdown",
   "metadata": {
    "application/vnd.databricks.v1+cell": {
     "cellMetadata": {},
     "inputWidgets": {},
     "nuid": "56e1009f-fa0d-4130-8df3-c4657f7d26b8",
     "showTitle": false,
     "title": ""
    }
   },
   "source": [
    "#### Armazenamento dos resultados transformados"
   ]
  },
  {
   "cell_type": "code",
   "execution_count": 0,
   "metadata": {
    "application/vnd.databricks.v1+cell": {
     "cellMetadata": {
      "byteLimit": 2048000,
      "rowLimit": 10000
     },
     "inputWidgets": {},
     "nuid": "75269ab9-87bf-481f-8d5a-eced867628d1",
     "showTitle": false,
     "title": ""
    }
   },
   "outputs": [],
   "source": [
    "#Armazenamento do resultado transformado\n",
    "\n",
    "#localização do arquivo transformado\n",
    "arq_escrita = \"/FileStore/tables/dados_transformados_aula1_ex1/resultado_1.parquet\"\n",
    "\n",
    "#faz a escrita to arquivo transformado do resultado 1\n",
    "df_res_1.to_parquet(arq_escrita)\n",
    "\n",
    "#localização do arquivo transformado\n",
    "arq_escrita = \"/FileStore/tables/dados_transformados_aula1_ex1/resultado_2.parquet\"\n",
    "\n",
    "#faz a escrita to arquivo transformado do resultado 1\n",
    "df_res_2.to_parquet(arq_escrita)\n",
    "\n",
    "#localização do arquivo transformado\n",
    "arq_escrita = \"/FileStore/tables/dados_transformados_aula1_ex1/resultado_3.parquet\"\n",
    "\n",
    "#faz a escrita to arquivo transformado do resultado 1\n",
    "df_res_3.to_parquet(arq_escrita)"
   ]
  },
  {
   "cell_type": "code",
   "execution_count": 0,
   "metadata": {
    "application/vnd.databricks.v1+cell": {
     "cellMetadata": {},
     "inputWidgets": {},
     "nuid": "bb924ae4-2a60-4289-938d-dd9a25090369",
     "showTitle": false,
     "title": ""
    }
   },
   "outputs": [],
   "source": []
  },
  {
   "cell_type": "code",
   "execution_count": 0,
   "metadata": {
    "application/vnd.databricks.v1+cell": {
     "cellMetadata": {
      "byteLimit": 2048000,
      "rowLimit": 10000
     },
     "inputWidgets": {},
     "nuid": "63dfb025-98d0-4d16-87cd-4b0c63bcc507",
     "showTitle": false,
     "title": ""
    }
   },
   "outputs": [],
   "source": [
    "dbutils.fs.ls(\"/FileStore/tables/dados_transformados_aula1_ex1\")"
   ]
  },
  {
   "cell_type": "markdown",
   "metadata": {
    "application/vnd.databricks.v1+cell": {
     "cellMetadata": {},
     "inputWidgets": {},
     "nuid": "52bec1c9-5dc5-4053-a64c-4198e2c0bbd6",
     "showTitle": false,
     "title": ""
    }
   },
   "source": [
    "## Resolução com um ELT"
   ]
  },
  {
   "cell_type": "markdown",
   "metadata": {
    "application/vnd.databricks.v1+cell": {
     "cellMetadata": {},
     "inputWidgets": {},
     "nuid": "25768f56-c453-4f23-857d-ffa0ac6fec37",
     "showTitle": false,
     "title": ""
    }
   },
   "source": [
    "#### Extração dos dados"
   ]
  },
  {
   "cell_type": "code",
   "execution_count": 0,
   "metadata": {
    "application/vnd.databricks.v1+cell": {
     "cellMetadata": {
      "byteLimit": 2048000,
      "rowLimit": 10000
     },
     "inputWidgets": {},
     "nuid": "aa910533-608e-4f20-a7ad-b9b87fd27a2a",
     "showTitle": false,
     "title": ""
    }
   },
   "outputs": [],
   "source": [
    "#localização do arquivo\n",
    "arq_leitura = '/FileStore/tables/spotify_data.csv'\n",
    "\n",
    "#leitura do arquivo csv\n",
    "df = ps.read_csv(arq_leitura)\n",
    "\n",
    "print(df.shape)\n",
    "\n",
    "df.head(10)"
   ]
  },
  {
   "cell_type": "code",
   "execution_count": 0,
   "metadata": {
    "application/vnd.databricks.v1+cell": {
     "cellMetadata": {},
     "inputWidgets": {},
     "nuid": "a10f2eef-2c95-426b-b98b-d7d5286ac9d5",
     "showTitle": false,
     "title": ""
    }
   },
   "outputs": [],
   "source": []
  },
  {
   "cell_type": "code",
   "execution_count": 0,
   "metadata": {
    "application/vnd.databricks.v1+cell": {
     "cellMetadata": {
      "byteLimit": 2048000,
      "rowLimit": 10000
     },
     "inputWidgets": {},
     "nuid": "c9e3a89a-dc63-4102-99e3-80939580b0c1",
     "showTitle": false,
     "title": ""
    }
   },
   "outputs": [],
   "source": [
    "df.to_spark().write.format(\"delta\").mode(\"overwrite\").saveAsTable(\"dados_extraidos_aula1_ex1\")"
   ]
  },
  {
   "cell_type": "markdown",
   "metadata": {
    "application/vnd.databricks.v1+cell": {
     "cellMetadata": {},
     "inputWidgets": {},
     "nuid": "fb4a153b-41bb-45b3-be38-8c74dcee1e8e",
     "showTitle": false,
     "title": ""
    }
   },
   "source": [
    "#### Leitura do arquivo armazenado"
   ]
  },
  {
   "cell_type": "code",
   "execution_count": 0,
   "metadata": {
    "application/vnd.databricks.v1+cell": {
     "cellMetadata": {
      "byteLimit": 2048000,
      "rowLimit": 10000
     },
     "inputWidgets": {},
     "nuid": "c3db45bd-23f7-48eb-95f0-8827505bfc73",
     "showTitle": false,
     "title": ""
    }
   },
   "outputs": [],
   "source": [
    "df = ps.sql(\"select * from dados_extraidos_aula1_ex1\")"
   ]
  },
  {
   "cell_type": "code",
   "execution_count": 0,
   "metadata": {
    "application/vnd.databricks.v1+cell": {
     "cellMetadata": {},
     "inputWidgets": {},
     "nuid": "9e0fa148-7a41-42fa-a203-68adb6a88110",
     "showTitle": false,
     "title": ""
    }
   },
   "outputs": [],
   "source": []
  },
  {
   "cell_type": "code",
   "execution_count": 0,
   "metadata": {
    "application/vnd.databricks.v1+cell": {
     "cellMetadata": {
      "byteLimit": 2048000,
      "rowLimit": 10000
     },
     "inputWidgets": {},
     "nuid": "c1c1a032-6035-4781-904e-453216c850e3",
     "showTitle": false,
     "title": ""
    }
   },
   "outputs": [],
   "source": [
    "#filtra o dado extraido para ficar apenas com últimos 10 anos\n",
    "df_res_1 = df[(df['year']>2012) & (df['year']<=2023)]\n",
    "\n",
    "#ordena por popularidade de forma descendente\n",
    "df_res_1 = df_res_1.sort_values(by=['popularity'], ascending = False)\n",
    "\n",
    "print(df_res_1.shape)\n",
    "\n",
    "df_res_1.head(10)"
   ]
  },
  {
   "cell_type": "code",
   "execution_count": 0,
   "metadata": {
    "application/vnd.databricks.v1+cell": {
     "cellMetadata": {},
     "inputWidgets": {},
     "nuid": "4e715dd4-7dd8-45b2-bc55-e4a59453a52c",
     "showTitle": false,
     "title": ""
    }
   },
   "outputs": [],
   "source": []
  },
  {
   "cell_type": "code",
   "execution_count": 0,
   "metadata": {
    "application/vnd.databricks.v1+cell": {
     "cellMetadata": {
      "byteLimit": 2048000,
      "rowLimit": 10000
     },
     "inputWidgets": {},
     "nuid": "3edde908-d768-41f5-9e58-5b82e36b27bc",
     "showTitle": false,
     "title": ""
    }
   },
   "outputs": [],
   "source": [
    "#garante que os anos estão dentro de uma faixa \"normal\" e que não é um \"bad data\"\n",
    "df_res_2 = df[(df['year']>1900) & (df['year']<=2023)]\n",
    "\n",
    "#agroupa os dados por ano e artista e faz a contade de músicas\n",
    "df_res_2 = df_res_2.groupby(['year', 'artists']).agg(quantidade_musicas=('id', 'count'))\n",
    "\n",
    "#reinicia o index e não exclui o anterior\n",
    "df_res_2 = df_res_2.reset_index(drop=False)\n",
    "\n",
    "#ordera por ano e quantidade de música de forma descendente\n",
    "df_res_2 = df_res_2.sort_values(by=['year', 'quantidade_musicas'], ascending = False)\n",
    "\n",
    "print(df_res_2.shape)\n",
    "\n",
    "df_res_2.head(10)"
   ]
  },
  {
   "cell_type": "code",
   "execution_count": 0,
   "metadata": {
    "application/vnd.databricks.v1+cell": {
     "cellMetadata": {},
     "inputWidgets": {},
     "nuid": "5f75a41e-1620-4283-841e-2cc235d8edbf",
     "showTitle": false,
     "title": ""
    }
   },
   "outputs": [],
   "source": []
  },
  {
   "cell_type": "code",
   "execution_count": 0,
   "metadata": {
    "application/vnd.databricks.v1+cell": {
     "cellMetadata": {
      "byteLimit": 2048000,
      "rowLimit": 10000
     },
     "inputWidgets": {},
     "nuid": "73ed861d-47d0-4f54-b1e2-e927cfb7a7cb",
     "showTitle": false,
     "title": ""
    }
   },
   "outputs": [],
   "source": [
    "#filtra os dados extraidos para garantir apenas os últimos 5 anos\n",
    "df_res_3 = df[(df['year']>2018) & (df['year']<=2023)]\n",
    "\n",
    "#agroupa os dados por artistas e agrega pela média de popularidade\n",
    "df_res_3 = df_res_3.groupby(['artists']).agg(media_popularidade=('popularity', 'avg'))\n",
    "\n",
    "#reinicia o index sem excluir o anterior\n",
    "df_res_3 = df_res_3.reset_index(drop=False)\n",
    "\n",
    "#ordena pela média de popularidade de forma descendente\n",
    "df_res_3 = df_res_3.sort_values(by=['media_popularidade'], ascending = False)\n",
    "\n",
    "print(df_res_3.shape)\n",
    "\n",
    "df_res_3.head(10)"
   ]
  }
 ],
 "metadata": {
  "application/vnd.databricks.v1+notebook": {
   "dashboards": [],
   "language": "python",
   "notebookMetadata": {
    "mostRecentlyExecutedCommandWithImplicitDF": {
     "commandId": 368097242019978,
     "dataframes": [
      "_sqldf"
     ]
    },
    "pythonIndentUnit": 4
   },
   "notebookName": "Aula_1_Exercicio_1_Desenvolvimento_de_um_ETL_e_ELT",
   "widgets": {}
  },
  "kernelspec": {
   "display_name": "Python 3",
   "language": "python",
   "name": "python3"
  },
  "language_info": {
   "codemirror_mode": {
    "name": "ipython",
    "version": 3
   },
   "file_extension": ".py",
   "mimetype": "text/x-python",
   "name": "python",
   "nbconvert_exporter": "python",
   "pygments_lexer": "ipython3",
   "version": "3.12.2"
  }
 },
 "nbformat": 4,
 "nbformat_minor": 0
}
