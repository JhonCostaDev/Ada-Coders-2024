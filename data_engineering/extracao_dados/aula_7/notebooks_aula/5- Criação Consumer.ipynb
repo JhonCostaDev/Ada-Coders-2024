{
 "cells": [
  {
   "cell_type": "code",
   "execution_count": 0,
   "metadata": {
    "application/vnd.databricks.v1+cell": {
     "cellMetadata": {
      "byteLimit": 2048000,
      "rowLimit": 10000
     },
     "inputWidgets": {},
     "nuid": "b10fc847-36b9-4cb6-8d13-f7dff28fb238",
     "showTitle": false,
     "title": ""
    }
   },
   "outputs": [
    {
     "output_type": "stream",
     "name": "stdout",
     "output_type": "stream",
     "text": [
      "Requirement already satisfied: pip in /local_disk0/.ephemeral_nfs/envs/pythonEnv-57d2a1cc-b69d-4dcb-b689-03479693b03d/lib/python3.11/site-packages (23.2.1)\nCollecting pip\n  Obtaining dependency information for pip from https://files.pythonhosted.org/packages/d4/55/90db48d85f7689ec6f81c0db0622d704306c5284850383c090e6c7195a5c/pip-24.2-py3-none-any.whl.metadata\n  Using cached pip-24.2-py3-none-any.whl.metadata (3.6 kB)\nUsing cached pip-24.2-py3-none-any.whl (1.8 MB)\nInstalling collected packages: pip\n  Attempting uninstall: pip\n    Found existing installation: pip 23.2.1\n    Uninstalling pip-23.2.1:\n      Successfully uninstalled pip-23.2.1\nSuccessfully installed pip-24.2\n\u001B[43mNote: you may need to restart the kernel using %restart_python or dbutils.library.restartPython() to use updated packages.\u001B[0m\nCollecting kafka-python\n  Using cached kafka_python-2.0.2-py2.py3-none-any.whl.metadata (7.8 kB)\nUsing cached kafka_python-2.0.2-py2.py3-none-any.whl (246 kB)\nInstalling collected packages: kafka-python\nSuccessfully installed kafka-python-2.0.2\n\u001B[43mNote: you may need to restart the kernel using %restart_python or dbutils.library.restartPython() to use updated packages.\u001B[0m\n"
     ]
    }
   ],
   "source": [
    "!pip install --upgrade pip\n",
    "!pip install kafka-python"
   ]
  },
  {
   "cell_type": "code",
   "execution_count": 0,
   "metadata": {
    "application/vnd.databricks.v1+cell": {
     "cellMetadata": {
      "byteLimit": 2048000,
      "rowLimit": 10000
     },
     "inputWidgets": {},
     "nuid": "b27fc408-8e1e-445f-925e-28905b7fd9a9",
     "showTitle": false,
     "title": ""
    }
   },
   "outputs": [],
   "source": [
    "from kafka import KafkaConsumer\n",
    "import json"
   ]
  },
  {
   "cell_type": "code",
   "execution_count": 0,
   "metadata": {
    "application/vnd.databricks.v1+cell": {
     "cellMetadata": {
      "byteLimit": 2048000,
      "rowLimit": 10000
     },
     "inputWidgets": {},
     "nuid": "1b038c7f-ba26-49e5-a971-3205699f7b98",
     "showTitle": false,
     "title": ""
    }
   },
   "outputs": [],
   "source": [
    "consumer = KafkaConsumer(\"primeiro_topico\", bootstrap_servers=['localhost:9092'])"
   ]
  },
  {
   "cell_type": "code",
   "execution_count": 0,
   "metadata": {
    "application/vnd.databricks.v1+cell": {
     "cellMetadata": {
      "byteLimit": 2048000,
      "rowLimit": 10000
     },
     "inputWidgets": {},
     "nuid": "5ddcc88c-b2a1-4e70-b360-474f07cf4fb9",
     "showTitle": false,
     "title": ""
    }
   },
   "outputs": [],
   "source": [
    "for message in consumer:\n",
    "    value = message.value.decode('utf-8')\n",
    "    data = json.loads(value)\n",
    "    #print(data)\n",
    "\n",
    "    codigo = data['id']\n",
    "    nome = data['nome']\n",
    "    idade = data['idade'] * 2\n",
    "\n",
    "    print(nome, ' - ', idade)"
   ]
  },
  {
   "cell_type": "code",
   "execution_count": 0,
   "metadata": {
    "application/vnd.databricks.v1+cell": {
     "cellMetadata": {
      "byteLimit": 2048000,
      "rowLimit": 10000
     },
     "inputWidgets": {},
     "nuid": "f81b6751-d75c-408e-878f-26f1fb28b132",
     "showTitle": false,
     "title": ""
    }
   },
   "outputs": [],
   "source": [
    "########## CONSUMER ESTOQUE_PRODUTO\n",
    "\n",
    "consumer_estoque = KafkaConsumer('estoque_produto',\n",
    "                                 bootstrap_servers=['localhost:9092'])"
   ]
  },
  {
   "cell_type": "code",
   "execution_count": 0,
   "metadata": {
    "application/vnd.databricks.v1+cell": {
     "cellMetadata": {
      "byteLimit": 2048000,
      "rowLimit": 10000
     },
     "inputWidgets": {},
     "nuid": "1fbdd25b-9b87-4cb6-8b98-d71de7aae300",
     "showTitle": false,
     "title": ""
    }
   },
   "outputs": [],
   "source": [
    "for mensagem in consumer_estoque:\n",
    "    valor_dados = mensagem.value.decode('utf-8')\n",
    "    dados_estoque = json.loads(valor_dados)\n",
    "    print(dados_estoque)"
   ]
  },
  {
   "cell_type": "code",
   "execution_count": 0,
   "metadata": {
    "application/vnd.databricks.v1+cell": {
     "cellMetadata": {
      "byteLimit": 2048000,
      "rowLimit": 10000
     },
     "inputWidgets": {},
     "nuid": "02a27ce4-2ca9-4a3f-be1a-b28ae739bdf9",
     "showTitle": false,
     "title": ""
    }
   },
   "outputs": [],
   "source": [
    "consumer_spark = KafkaConsumer('topico_resultado',\n",
    "                                 bootstrap_servers=['localhost:9092'])"
   ]
  },
  {
   "cell_type": "code",
   "execution_count": 0,
   "metadata": {
    "application/vnd.databricks.v1+cell": {
     "cellMetadata": {
      "byteLimit": 2048000,
      "rowLimit": 10000
     },
     "inputWidgets": {},
     "nuid": "4db2176e-b839-4b03-a579-4366d3cf8079",
     "showTitle": false,
     "title": ""
    }
   },
   "outputs": [],
   "source": [
    "for mensagem in consumer_spark:\n",
    "    valor_dados = mensagem.value.decode('utf-8')\n",
    "    dados_estoque = json.loads(valor_dados)\n",
    "    print(dados_estoque)"
   ]
  }
 ],
 "metadata": {
  "application/vnd.databricks.v1+notebook": {
   "dashboards": [],
   "environmentMetadata": null,
   "language": "python",
   "notebookMetadata": {
    "pythonIndentUnit": 4
   },
   "notebookName": "5- Criação Consumer",
   "widgets": {}
  }
 },
 "nbformat": 4,
 "nbformat_minor": 0
}
