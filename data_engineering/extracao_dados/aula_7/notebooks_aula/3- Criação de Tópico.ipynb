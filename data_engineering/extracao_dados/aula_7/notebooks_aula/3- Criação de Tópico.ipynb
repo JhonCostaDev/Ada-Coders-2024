{
 "cells": [
  {
   "cell_type": "code",
   "execution_count": 0,
   "metadata": {
    "application/vnd.databricks.v1+cell": {
     "cellMetadata": {
      "byteLimit": 2048000,
      "rowLimit": 10000
     },
     "inputWidgets": {},
     "nuid": "89d09821-1598-496d-98cd-70a719c95199",
     "showTitle": false,
     "title": ""
    }
   },
   "outputs": [
    {
     "output_type": "stream",
     "name": "stdout",
     "output_type": "stream",
     "text": [
      "WARNING: Due to limitations in metric names, topics with a period ('.') or underscore ('_') could collide. To avoid issues it is best to use either, but not both.\nCreated topic primeiro_topico.\n"
     ]
    }
   ],
   "source": [
    "%sh\n",
    "/dbfs/tmp/kafka_2.12-3.8.0/bin/kafka-topics.sh --bootstrap-server localhost:9092 --create --topic primeiro_topico --partitions 1 --replication-factor 1"
   ]
  },
  {
   "cell_type": "code",
   "execution_count": 0,
   "metadata": {
    "application/vnd.databricks.v1+cell": {
     "cellMetadata": {
      "byteLimit": 2048000,
      "rowLimit": 10000
     },
     "inputWidgets": {},
     "nuid": "1efa537c-762f-435e-8085-6e19055bc02b",
     "showTitle": false,
     "title": ""
    }
   },
   "outputs": [],
   "source": [
    "%sh\n",
    "/dbfs/tmp/kafka_2.12-3.8.0/bin/kafka-topics.sh --bootstrap-server localhost:9092 --create --topic estoque_produto --partitions 1 --replication-factor 1"
   ]
  }
 ],
 "metadata": {
  "application/vnd.databricks.v1+notebook": {
   "dashboards": [],
   "environmentMetadata": null,
   "language": "python",
   "notebookMetadata": {
    "mostRecentlyExecutedCommandWithImplicitDF": {
     "commandId": 4289774488504151,
     "dataframes": [
      "_sqldf"
     ]
    },
    "pythonIndentUnit": 4
   },
   "notebookName": "3- Criação de Tópico",
   "widgets": {}
  }
 },
 "nbformat": 4,
 "nbformat_minor": 0
}
