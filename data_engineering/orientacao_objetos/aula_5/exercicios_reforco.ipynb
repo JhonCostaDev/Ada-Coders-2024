{
 "cells": [
  {
   "cell_type": "markdown",
   "metadata": {},
   "source": [
    "# Resolva e me manda o notebook até segunda (02/09/2024) "
   ]
  },
  {
   "cell_type": "markdown",
   "metadata": {},
   "source": [
    "- email: r.otavioms@gmail.com"
   ]
  },
  {
   "cell_type": "markdown",
   "metadata": {},
   "source": [
    "# Exercício 1\n",
    "\n",
    "Classe Pessoa: Crie uma classe que modele uma pessoa:\n",
    "\n",
    "Atributos: nome, idade, peso e altura\n",
    "\n",
    "\n",
    "Métodos: Envelhercer, engordar, emagrecer, crescer. \n",
    "\n",
    "Obs: Por padrão, a cada ano que nossa pessoa envelhece, sendo a idade dela menor que 21 anos, ela deve crescer 0,5 cm."
   ]
  },
  {
   "cell_type": "code",
   "execution_count": null,
   "metadata": {},
   "outputs": [],
   "source": [
    "\n",
    "#TODO: implementar método exercicios para alterar a taxa de emagrecimento.\n",
    "class Pessoa:\n",
    "    def __init__(self, nome:str, idade:int, peso:float, altura:float) -> None:\n",
    "        self._nome = nome\n",
    "        self._idade = idade\n",
    "        self._peso = peso\n",
    "        self._altura = altura\n",
    "\n",
    "    def crescer(self):\n",
    "        if self._idade < 21:\n",
    "            self._altura += 0.5\n",
    "\n",
    "    def envelhecer(self):\n",
    "        if 0 < self._idade < 120:\n",
    "            self._idade += 1\n",
    "\n",
    "    def engordar(self):\n",
    "        if self._idade < 10:\n",
    "            self._peso += 0.5\n",
    "        elif self._idade < 18:\n",
    "            self._peso += 1\n",
    "        else:\n",
    "            self._peso += 2\n",
    "\n",
    "    def emagrecer(self):\n",
    "        if self._idade < 10:\n",
    "            self._peso -= 0.5\n",
    "        elif self._idade < 18:\n",
    "            self._peso -= 1\n",
    "        else:\n",
    "            self._peso -= 2\n",
    "        # getters\n",
    "    @property\n",
    "    def nome(self) -> str:\n",
    "        return self._nome\n",
    "\n",
    "    @property\n",
    "    def idade(self) -> int:\n",
    "        return self._idade\n",
    "\n",
    "    @property\n",
    "    def peso(self) -> float:\n",
    "        return self._peso\n",
    "\n",
    "    @property\n",
    "    def altura(self) -> float:\n",
    "        return self._altura\n",
    "\n",
    "    @peso.setter\n",
    "    def peso(self, novo_peso)->None:\n",
    "        self._peso = novo_peso\n",
    "\n",
    "    @altura.setter\n",
    "    def altura(self, nova_altura) -> None:\n",
    "        self._altura = nova_altura\n",
    "\n",
    "    def __repr__(self) -> str:\n",
    "        return f'''\n",
    "===========CADASTRO===========\n",
    "NOME: {self._nome}\n",
    "IDADE: {self._idade}\n",
    "PESO: {self._peso}\n",
    "ALTURA: {self._altura}\n",
    "==============================\n",
    "'''\n",
    "\n"
   ]
  },
  {
   "cell_type": "markdown",
   "metadata": {},
   "source": [
    "# Exercício 2\n",
    "\n",
    "Classe Conta Corrente: Crie uma classe para implementar uma conta corrente. A classe deve possuir os seguintes atributos: número da conta, nome do correntista e saldo. Os métodos são os seguintes: alterarNome, depósito e saque; No construtor, saldo é opcional, com valor default zero e os demais atributos são obrigatórios."
   ]
  },
  {
   "cell_type": "code",
   "execution_count": null,
   "metadata": {},
   "outputs": [],
   "source": []
  },
  {
   "cell_type": "markdown",
   "metadata": {},
   "source": [
    "# Exercício 3\n",
    "\n",
    "Classe Bichinho Virtual:Crie uma classe que modele um Tamagushi (Bichinho Eletrônico):\n",
    "\n",
    "Atributos: Nome, Fome, Saúde e Idade b. Métodos: Alterar Nome, Fome, Saúde e Idade; Retornar Nome, Fome, Saúde e Idade \n",
    "\n",
    "Obs: Existe mais uma informação que devemos levar em consideração, o Humor do nosso tamagushi, este humor é uma combinação entre os atributos Fome e Saúde, ou seja, um campo calculado, então não devemos criar um atributo para armazenar esta informação por que ela pode ser calculada a qualquer momento.\n"
   ]
  },
  {
   "cell_type": "code",
   "execution_count": null,
   "metadata": {},
   "outputs": [],
   "source": []
  },
  {
   "cell_type": "code",
   "execution_count": null,
   "metadata": {},
   "outputs": [],
   "source": []
  }
 ],
 "metadata": {
  "language_info": {
   "name": "python"
  }
 },
 "nbformat": 4,
 "nbformat_minor": 2
}
