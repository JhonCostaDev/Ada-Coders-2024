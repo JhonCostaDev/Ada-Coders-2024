{
 "cells": [
  {
   "cell_type": "markdown",
   "metadata": {},
   "source": [
    "# Aula 4 - Métodos Mágicos"
   ]
  },
  {
   "cell_type": "code",
   "execution_count": null,
   "metadata": {},
   "outputs": [],
   "source": []
  },
  {
   "cell_type": "code",
   "execution_count": 9,
   "metadata": {},
   "outputs": [],
   "source": [
    "class Cliente:\n",
    "    def __init__(self, nome: str, idade: str, email:str, altura:int) -> None:\n",
    "        self._nome = nome\n",
    "        self._idade = idade\n",
    "        self._email = email\n",
    "        self._altura = altura\n",
    "    \n",
    "    def __str__(self) -> str:\n",
    "        return f'''\n",
    "    Nome: {self._nome}\n",
    "    Idade: {self._idade}\n",
    "    E-mail: {self._email}\n",
    "    Altura: {self._altura}\n",
    "    '''\n",
    "    \n",
    "    def __len__(self):\n",
    "        return self._altura \n",
    "    \n",
    "    #getters\n",
    "    @property\n",
    "    def nome(self):\n",
    "        return self._nome\n",
    "    \n",
    "    @property\n",
    "    def idade(self):\n",
    "        return self._idade\n",
    "    \n",
    "    @property\n",
    "    def email(self):\n",
    "        return self._email\n",
    "    \n",
    "    #setter\n",
    "    @email.setter\n",
    "    def email(self, novo_email):\n",
    "        if '@gmail.com' not in novo_email:\n",
    "            print('Não é aceitável')\n",
    "        else:\n",
    "            self._email = novo_email"
   ]
  },
  {
   "cell_type": "code",
   "execution_count": 10,
   "metadata": {},
   "outputs": [
    {
     "name": "stdout",
     "output_type": "stream",
     "text": [
      "\n",
      "    Nome: Rogerio\n",
      "    Idade: 23\n",
      "    E-mail: r.otavioms@gmail.com\n",
      "    Altura: 2\n",
      "    \n"
     ]
    },
    {
     "data": {
      "text/plain": [
       "2"
      ]
     },
     "execution_count": 10,
     "metadata": {},
     "output_type": "execute_result"
    }
   ],
   "source": [
    "rogerio = Cliente(nome='Rogerio', idade=23, email='r.otavioms@gmail.com', altura=2)\n",
    "print(rogerio)\n",
    "len(rogerio)"
   ]
  },
  {
   "cell_type": "markdown",
   "metadata": {},
   "source": []
  },
  {
   "cell_type": "code",
   "execution_count": 15,
   "metadata": {},
   "outputs": [],
   "source": [
    "class Livro:\n",
    "    def __init__(self, titulo:str, autor:str, pagina:int) -> None:\n",
    "        self.titulo = titulo\n",
    "        self.autor = autor\n",
    "        self.pagina = pagina\n",
    "        \n",
    "    def __repr__(self) -> str:\n",
    "        return f\"Livro('{self.titulo}', '{self.autor}', '{self.pagina}')\""
   ]
  },
  {
   "cell_type": "code",
   "execution_count": 16,
   "metadata": {},
   "outputs": [
    {
     "name": "stdout",
     "output_type": "stream",
     "text": [
      "Livro('autobiografia', 'rogerio', '235')\n"
     ]
    }
   ],
   "source": [
    "l1 = Livro(titulo='autobiografia', autor='rogerio', pagina=235)\n",
    "print(l1)"
   ]
  },
  {
   "cell_type": "markdown",
   "metadata": {},
   "source": [
    "métodos magicos aritimética"
   ]
  },
  {
   "cell_type": "code",
   "execution_count": 27,
   "metadata": {},
   "outputs": [],
   "source": [
    "class Vetor:\n",
    "    def __init__(self, pos_x: int, pos_y:int) -> None:\n",
    "        self.x = pos_x\n",
    "        self.y = pos_y\n",
    "    \n",
    "    # Definindo como o python soma o meu vetor\n",
    "    def __add__(self, other):\n",
    "        new_x = self.x + other.x\n",
    "        new_y = self.y + other.y\n",
    "        result = Vetor(new_x, new_y)\n",
    "        return result\n",
    "    \n",
    "    def __repr__(self):\n",
    "        return f'({self.x}, {self.y})'\n",
    "    \n",
    "    "
   ]
  },
  {
   "cell_type": "code",
   "execution_count": 28,
   "metadata": {},
   "outputs": [
    {
     "name": "stdout",
     "output_type": "stream",
     "text": [
      "(5, 7)\n"
     ]
    }
   ],
   "source": [
    "vec_1 = Vetor(1, 2)\n",
    "vec_2 = Vetor(4, 5)\n",
    "soma = vec_1 + vec_2\n",
    "print(soma)"
   ]
  }
 ],
 "metadata": {
  "kernelspec": {
   "display_name": ".venv",
   "language": "python",
   "name": "python3"
  },
  "language_info": {
   "codemirror_mode": {
    "name": "ipython",
    "version": 3
   },
   "file_extension": ".py",
   "mimetype": "text/x-python",
   "name": "python",
   "nbconvert_exporter": "python",
   "pygments_lexer": "ipython3",
   "version": "3.12.3"
  }
 },
 "nbformat": 4,
 "nbformat_minor": 2
}
