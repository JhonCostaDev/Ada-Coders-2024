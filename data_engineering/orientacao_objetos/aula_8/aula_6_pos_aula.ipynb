{
 "cells": [
  {
   "cell_type": "markdown",
   "id": "7a8f1e6b",
   "metadata": {},
   "source": [
    "## Aula 6 - Herança e Métodos estáticos\n",
    "\n",
    "Na aula de hoje vamos falar de dois tópicos\n",
    "\n",
    "1) Herança\n",
    "\n",
    "2) Polimorfismo"
   ]
  },
  {
   "cell_type": "code",
   "execution_count": null,
   "id": "a10f150a",
   "metadata": {},
   "outputs": [],
   "source": []
  },
  {
   "cell_type": "markdown",
   "id": "0822ec3e",
   "metadata": {},
   "source": [
    "### Exercício 10\n",
    "\n",
    "Crie uma classe `Televisor`cujos atributos são: fabricante; modelo; canal atual; lista de canais; volume.\n",
    "\n",
    "Faça métodos aumentar/diminuir volume, trocar o canal e sintonizar um novo canal, que adiciona um novo canal à lista de canais (somente se esse canal não estiver nessa lista). No atributo lista de canais, devem estar armazenados todos os canais já sintonizados dessa TV. \n",
    "\n",
    "Obs.: o volume não pode ser menor que zero e maior que cem; só se pode trocar para um canal que já esteja na lista de canais."
   ]
  },
  {
   "cell_type": "code",
   "execution_count": 25,
   "id": "802fe7cd",
   "metadata": {},
   "outputs": [],
   "source": [
    "class Televisor:\n",
    "    def __init__(self, fabricante, modelo):\n",
    "        self.fabricante = fabricante \n",
    "        self.modelo = modelo \n",
    "        self.canal_atual = None \n",
    "        self.lista_de_canais = [] \n",
    "        self.volume = 20\n",
    "\n",
    "    def aumentar_volume(self, valor):\n",
    "        if self.volume + valor <= 100:\n",
    "            self.volume += valor \n",
    "        else: \n",
    "            self.volume = 100 \n",
    "\n",
    "    def diminuir_volume(self, valor):\n",
    "        if self.volume - valor >= 0:\n",
    "            self.volume -= valor \n",
    "        else: \n",
    "            self.volume = 0\n",
    "\n",
    "    def trocar_canal(self, canal):\n",
    "        if canal in self.lista_de_canais:\n",
    "            self.canal_atual = canal \n",
    "        else:\n",
    "            print(\"O canal não está sintonizado\")\n",
    "\n",
    "    def sintonizar_canal(self, canal):\n",
    "        if canal not in self.lista_de_canais:\n",
    "            self.lista_de_canais.append(canal)\n",
    "        else: \n",
    "            print(\"O canal já está sintonizado\")"
   ]
  },
  {
   "cell_type": "code",
   "execution_count": 26,
   "id": "315d1d86",
   "metadata": {},
   "outputs": [],
   "source": [
    "t1 = Televisor(\"lg\", \"nano\")"
   ]
  },
  {
   "cell_type": "code",
   "execution_count": 27,
   "id": "4f9a5817",
   "metadata": {},
   "outputs": [],
   "source": [
    "t1.sintonizar_canal(\"globo\")\n",
    "t1.sintonizar_canal(\"sbt\")\n",
    "t1.sintonizar_canal(\"record\")\n",
    "t1.sintonizar_canal(\"mtv\")\n",
    "t1.sintonizar_canal(\"manchete\")"
   ]
  },
  {
   "cell_type": "code",
   "execution_count": 28,
   "id": "558597d1",
   "metadata": {},
   "outputs": [],
   "source": [
    "t1.trocar_canal(\"globo\")"
   ]
  },
  {
   "cell_type": "code",
   "execution_count": 29,
   "id": "534d5dc4",
   "metadata": {},
   "outputs": [
    {
     "data": {
      "text/plain": [
       "'globo'"
      ]
     },
     "execution_count": 29,
     "metadata": {},
     "output_type": "execute_result"
    }
   ],
   "source": [
    "t1.canal_atual"
   ]
  },
  {
   "cell_type": "code",
   "execution_count": 30,
   "id": "f2c73648",
   "metadata": {},
   "outputs": [
    {
     "name": "stdout",
     "output_type": "stream",
     "text": [
      "O canal não está sintonizado\n"
     ]
    }
   ],
   "source": [
    "t1.trocar_canal(\"mix tv\")"
   ]
  },
  {
   "cell_type": "code",
   "execution_count": 31,
   "id": "646e4695",
   "metadata": {},
   "outputs": [
    {
     "data": {
      "text/plain": [
       "'globo'"
      ]
     },
     "execution_count": 31,
     "metadata": {},
     "output_type": "execute_result"
    }
   ],
   "source": [
    "t1.canal_atual"
   ]
  },
  {
   "cell_type": "code",
   "execution_count": null,
   "id": "a23bd5c4",
   "metadata": {},
   "outputs": [],
   "source": []
  },
  {
   "cell_type": "code",
   "execution_count": null,
   "id": "ab858bc1",
   "metadata": {},
   "outputs": [],
   "source": []
  },
  {
   "cell_type": "code",
   "execution_count": null,
   "id": "e071f074",
   "metadata": {},
   "outputs": [],
   "source": []
  },
  {
   "cell_type": "markdown",
   "id": "9cbab3e2",
   "metadata": {},
   "source": [
    "### Exercício 11\n",
    "\n",
    "Crie uma classe `ControleRemoto` cujo atributo é televisão (isso é, recebe um objeto da classe do exercício 10). Crie métodos para aumentar/diminuir volume, trocar o canal e sintonizar um novo canal, que adiciona um novo canal à lista de canais (somente se esse canal não estiver nessa lista).\n"
   ]
  },
  {
   "cell_type": "code",
   "execution_count": 32,
   "id": "e6636269",
   "metadata": {},
   "outputs": [],
   "source": [
    "class ControleRemoto: \n",
    "    def __init__(self, tv):\n",
    "        self.tv = tv \n",
    "\n",
    "    def aumenta_volume(self, valor):\n",
    "        self.tv.aumentar_volume(valor)\n",
    "\n",
    "    def diminui_volume(self, valor):\n",
    "        self.tv.diminuir_volume(valor)\n",
    "\n",
    "    def troca_canal(self, canal):\n",
    "        self.tv.trocar_canal(canal)\n",
    "\n",
    "    def sintoniza_canal(self, canal):\n",
    "        self.tv.sintonizar_canal(canal)"
   ]
  },
  {
   "cell_type": "code",
   "execution_count": 33,
   "id": "c5329d1f",
   "metadata": {},
   "outputs": [],
   "source": [
    "c1 = ControleRemoto(tv = t1)"
   ]
  },
  {
   "cell_type": "code",
   "execution_count": 34,
   "id": "660a83ab",
   "metadata": {},
   "outputs": [],
   "source": [
    "c1.aumenta_volume(10)"
   ]
  },
  {
   "cell_type": "code",
   "execution_count": 35,
   "id": "c784b5f3",
   "metadata": {},
   "outputs": [],
   "source": [
    "c1.sintoniza_canal(\"tv futura\")"
   ]
  },
  {
   "cell_type": "code",
   "execution_count": 36,
   "id": "ce317543",
   "metadata": {},
   "outputs": [
    {
     "data": {
      "text/plain": [
       "30"
      ]
     },
     "execution_count": 36,
     "metadata": {},
     "output_type": "execute_result"
    }
   ],
   "source": [
    "c1.tv.volume"
   ]
  },
  {
   "cell_type": "code",
   "execution_count": 37,
   "id": "a0de1821",
   "metadata": {},
   "outputs": [
    {
     "data": {
      "text/plain": [
       "['globo', 'sbt', 'record', 'mtv', 'manchete', 'tv futura']"
      ]
     },
     "execution_count": 37,
     "metadata": {},
     "output_type": "execute_result"
    }
   ],
   "source": [
    "c1.tv.lista_de_canais"
   ]
  },
  {
   "cell_type": "code",
   "execution_count": 38,
   "id": "3acb3143",
   "metadata": {},
   "outputs": [
    {
     "name": "stdout",
     "output_type": "stream",
     "text": [
      "O canal não está sintonizado\n"
     ]
    }
   ],
   "source": [
    "c1.troca_canal(\"canal 6\")"
   ]
  },
  {
   "cell_type": "code",
   "execution_count": null,
   "id": "aa272201",
   "metadata": {},
   "outputs": [],
   "source": []
  },
  {
   "cell_type": "markdown",
   "id": "1c867262",
   "metadata": {},
   "source": [
    "## Herança e Polimorfismo"
   ]
  },
  {
   "cell_type": "markdown",
   "id": "e03c1bef",
   "metadata": {},
   "source": [
    "Imagine que você tenha várias classes com os mesmos atributos, os mesmos métodos e mesmos parâmetros. \n",
    "\n",
    "Reescrevê-los várias vezes é um desperdício de tempo! Além disso, se precisarmos atualizar um método, precisaremos fazer a modificação múltiplas vezes. \n",
    "\n",
    "Para solucionar esta questão, trateremos dos conceitos de **herança** e **polimorfismo**.\n"
   ]
  },
  {
   "cell_type": "markdown",
   "id": "cdb8361c",
   "metadata": {},
   "source": [
    "### Herança\n",
    "\n",
    "É possível criar **classes filhas** que herdem atributos e métodos de uma **classe mãe** através de **herança**.\n",
    "\n",
    "Para herdar, colocamos o **nome da classe mãe entre parênteses** na frente do nome da classe filha em sua definição.\n",
    "\n",
    "Se necessário, podemos redefinir um método na classe filha."
   ]
  },
  {
   "cell_type": "code",
   "execution_count": 66,
   "id": "c0a8cb5c",
   "metadata": {},
   "outputs": [],
   "source": [
    "class Retangulo:\n",
    "    def __init__(self, lado_a, lado_b):\n",
    "        self.lado_a = lado_a \n",
    "        self.lado_b = lado_b \n",
    "\n",
    "    def area(self):\n",
    "        return self.lado_a * self.lado_b \n",
    "    \n",
    "    def perimetro(self):\n",
    "        return 2 * self.lado_a + 2 * self.lado_b \n",
    "    \n",
    "    @staticmethod # apenas uma função dentro da classe (não depende do objeto 'self')\n",
    "    def meu_nome():\n",
    "        print(\"Sou o retângulo\")"
   ]
  },
  {
   "cell_type": "code",
   "execution_count": 67,
   "id": "7d1c5ae3",
   "metadata": {},
   "outputs": [
    {
     "name": "stdout",
     "output_type": "stream",
     "text": [
      "area = 2 , perimetro = 6\n"
     ]
    }
   ],
   "source": [
    "r1 = Retangulo(1,2)\n",
    "\n",
    "print(f\"area = {r1.area()}\", f\", perimetro = {r1.perimetro()}\")"
   ]
  },
  {
   "cell_type": "code",
   "execution_count": 68,
   "id": "55ff98dd",
   "metadata": {},
   "outputs": [
    {
     "name": "stdout",
     "output_type": "stream",
     "text": [
      "Sou o retângulo\n"
     ]
    }
   ],
   "source": [
    "r1.meu_nome()"
   ]
  },
  {
   "cell_type": "code",
   "execution_count": 16,
   "id": "5d98cb10",
   "metadata": {},
   "outputs": [],
   "source": [
    "# class Quadrado:\n",
    "#     def __init__(self, lado):\n",
    "#         self.lado = lado \n",
    "\n",
    "#     def area(self):\n",
    "#         return self.lado ** 2 \n",
    "    \n",
    "#     def perimetro(self):\n",
    "#         return 4 * self.lado"
   ]
  },
  {
   "cell_type": "code",
   "execution_count": 69,
   "id": "980e2b80",
   "metadata": {},
   "outputs": [],
   "source": [
    "class Quadrado(Retangulo):\n",
    "    def __init__(self, lado):\n",
    "        super().__init__(lado, lado) \n",
    "    \n",
    "    @staticmethod\n",
    "    def meu_nome():\n",
    "        print(\"Eu sou o Quadrado\")"
   ]
  },
  {
   "cell_type": "code",
   "execution_count": 70,
   "id": "0d5ffa45",
   "metadata": {},
   "outputs": [],
   "source": [
    "q1 = Quadrado(2)"
   ]
  },
  {
   "cell_type": "code",
   "execution_count": 71,
   "id": "aceaaac4",
   "metadata": {},
   "outputs": [
    {
     "data": {
      "text/plain": [
       "4"
      ]
     },
     "execution_count": 71,
     "metadata": {},
     "output_type": "execute_result"
    }
   ],
   "source": [
    "q1.area()"
   ]
  },
  {
   "cell_type": "code",
   "execution_count": 72,
   "id": "e8b3c217",
   "metadata": {},
   "outputs": [
    {
     "data": {
      "text/plain": [
       "8"
      ]
     },
     "execution_count": 72,
     "metadata": {},
     "output_type": "execute_result"
    }
   ],
   "source": [
    "q1.perimetro()"
   ]
  },
  {
   "cell_type": "code",
   "execution_count": 73,
   "id": "12e4f44d",
   "metadata": {},
   "outputs": [
    {
     "name": "stdout",
     "output_type": "stream",
     "text": [
      "Eu sou o Quadrado\n"
     ]
    }
   ],
   "source": [
    "q1.meu_nome()"
   ]
  },
  {
   "cell_type": "code",
   "execution_count": null,
   "id": "2b76ebcc",
   "metadata": {},
   "outputs": [],
   "source": []
  },
  {
   "cell_type": "markdown",
   "id": "b0c9142e",
   "metadata": {},
   "source": [
    "Imagine agora que queremos herdar um método **parcialmente**, com a possibilidade de alterá-lo.\n",
    "\n",
    "(Isso é importante, pois se apenas copiássemos o método original, qualquer alteração nele teria de ser feita em todos os locais onde ele é copiado...)\n",
    "\n",
    "Para isso, usamos o método `super()`\n",
    "\n",
    "O `super()` é uma função usada para dar acesso a métodos de classes mães."
   ]
  },
  {
   "cell_type": "code",
   "execution_count": 79,
   "id": "50186814",
   "metadata": {},
   "outputs": [],
   "source": [
    "class Animal:\n",
    "\n",
    "    def __init__(self, nome, tipo):\n",
    "        self.nome = nome \n",
    "        self.tipo = tipo\n",
    "\n",
    "    def fala(self):\n",
    "        print(f\"{self.nome} faz barulho\")"
   ]
  },
  {
   "cell_type": "code",
   "execution_count": 86,
   "id": "0fa918d2",
   "metadata": {},
   "outputs": [],
   "source": [
    "class Cachorro(Animal):\n",
    "    def __init__(self, nome, raca, tipo = \"cachorro\"):\n",
    "        super().__init__(nome, tipo)\n",
    "        self.raca = raca \n",
    "        \n",
    "    def fala(self):\n",
    "        print(f\"{self.nome} late.\")"
   ]
  },
  {
   "cell_type": "code",
   "execution_count": 87,
   "id": "3aecf4f7",
   "metadata": {},
   "outputs": [],
   "source": [
    "class Gato(Animal):\n",
    "\n",
    "    def fala(self):\n",
    "        print(f\"{self.nome} mia.\")"
   ]
  },
  {
   "cell_type": "code",
   "execution_count": 93,
   "id": "13c061be",
   "metadata": {},
   "outputs": [],
   "source": [
    "g1 = Gato(nome = \"Tadeu\", tipo = \"gato\")"
   ]
  },
  {
   "cell_type": "code",
   "execution_count": 94,
   "id": "c5137741",
   "metadata": {},
   "outputs": [
    {
     "name": "stdout",
     "output_type": "stream",
     "text": [
      "Tadeu mia.\n"
     ]
    }
   ],
   "source": [
    "g1.fala()"
   ]
  },
  {
   "cell_type": "code",
   "execution_count": 81,
   "id": "14740489",
   "metadata": {},
   "outputs": [],
   "source": [
    "c1 = Cachorro(nome = \"Rick\", raca = \"Pintcher\")"
   ]
  },
  {
   "cell_type": "code",
   "execution_count": 85,
   "id": "e35defa5",
   "metadata": {},
   "outputs": [
    {
     "name": "stdout",
     "output_type": "stream",
     "text": [
      "Rick late\n"
     ]
    }
   ],
   "source": [
    "c1.fala()"
   ]
  },
  {
   "cell_type": "code",
   "execution_count": 75,
   "id": "50b9733a",
   "metadata": {},
   "outputs": [],
   "source": [
    "a1 = Animal(nome = \"bidu\")"
   ]
  },
  {
   "cell_type": "code",
   "execution_count": 77,
   "id": "9663a63f",
   "metadata": {},
   "outputs": [
    {
     "data": {
      "text/plain": [
       "'bidu'"
      ]
     },
     "execution_count": 77,
     "metadata": {},
     "output_type": "execute_result"
    }
   ],
   "source": [
    "a1.nome"
   ]
  },
  {
   "cell_type": "code",
   "execution_count": 78,
   "id": "58e54d9d",
   "metadata": {},
   "outputs": [
    {
     "name": "stdout",
     "output_type": "stream",
     "text": [
      "bidu faz barulho\n"
     ]
    }
   ],
   "source": [
    "a1.fala()"
   ]
  },
  {
   "cell_type": "code",
   "execution_count": null,
   "id": "a32c5d66",
   "metadata": {},
   "outputs": [],
   "source": []
  },
  {
   "cell_type": "markdown",
   "id": "9078a8ae",
   "metadata": {},
   "source": [
    "### Polimorfismo\n",
    "\n",
    "Do grego, **\"várias formas\"**. A ideia é que um objeto de uma certa classe pode se comportar como objeto de outras classes. \n",
    "\n",
    "Mais especificamente, **objetos de uma classe filha podem também ser tratados como se pertencessem à classe mãe**.\n",
    "\n",
    "O método `isinstance` recebe 2 parâmetros: um objeto e uma classe. \n",
    "\n",
    "Ele retorna True caso o objeto pertenca à classe, e False caso não pertença."
   ]
  },
  {
   "cell_type": "markdown",
   "id": "7b1a7aac",
   "metadata": {},
   "source": [
    "![imagem](imagens/polimorfismo.png)"
   ]
  },
  {
   "cell_type": "code",
   "execution_count": null,
   "id": "bda5c555",
   "metadata": {},
   "outputs": [],
   "source": []
  },
  {
   "cell_type": "code",
   "execution_count": null,
   "id": "977ccd5b",
   "metadata": {},
   "outputs": [],
   "source": []
  },
  {
   "cell_type": "markdown",
   "id": "c4a8ce73",
   "metadata": {},
   "source": [
    "Isso é útil porque uma função que seja feita para lidar com Animal será capaz de lidar com qualquer classe herdeira de Animal com a mesma facilidade."
   ]
  },
  {
   "cell_type": "markdown",
   "id": "ad9cf22c",
   "metadata": {},
   "source": [
    "## Atributos e Métodos Estáticos"
   ]
  },
  {
   "cell_type": "markdown",
   "id": "c9107a53",
   "metadata": {},
   "source": [
    "As vezes queremos utilizar atributos ou métodos de uma classe sem ter que instanciar um objeto.\n",
    "\n",
    "Quando queremos fazer isso, dizemos que temos um método ou atributo estático, ou seja, um método ou atributo que pertence à classe, e não ao objeto."
   ]
  },
  {
   "cell_type": "code",
   "execution_count": 142,
   "id": "27e2f0f9",
   "metadata": {},
   "outputs": [],
   "source": [
    "class Aluno:\n",
    "\n",
    "    numero_de_alunos = 0 \n",
    "    lista_de_alunos = []\n",
    "\n",
    "    def __init__(self, nome, curso):\n",
    "        self.nome = nome \n",
    "        self.curso = curso  \n",
    "        Aluno.numero_de_alunos += 1\n",
    "        Aluno.lista_de_alunos.append(self)\n",
    "\n",
    "    def ola(self):\n",
    "        print(f\"Olá, meu nome é {self.nome}\")\n",
    "\n",
    "    def __repr__(self):\n",
    "        # texto = f\"Sou {self.nome} e curso {self.curso}\"\n",
    "        texto = f\"{self.nome} | {self.curso}\"\n",
    "        return texto \n",
    "    \n",
    "    @staticmethod\n",
    "    def mostrar_alunos():\n",
    "        for aluno in Aluno.lista_de_alunos:\n",
    "            print(aluno)"
   ]
  },
  {
   "cell_type": "code",
   "execution_count": 143,
   "id": "e14bde5e",
   "metadata": {},
   "outputs": [],
   "source": [
    "a1 = Aluno(nome = \"Rogério\", curso = \"Matemática\")\n",
    "a2 = Aluno(nome = \"Fernando\", curso = \"Engenharia de dados\")\n",
    "a3 = Aluno(nome = \"Letícia\", curso = \"Poo em Python\")"
   ]
  },
  {
   "cell_type": "code",
   "execution_count": 144,
   "id": "40085ef5",
   "metadata": {},
   "outputs": [
    {
     "name": "stdout",
     "output_type": "stream",
     "text": [
      "Rogério | Matemática\n"
     ]
    }
   ],
   "source": [
    "print(a1)"
   ]
  },
  {
   "cell_type": "code",
   "execution_count": 147,
   "id": "429b882a",
   "metadata": {},
   "outputs": [
    {
     "name": "stdout",
     "output_type": "stream",
     "text": [
      "Fernando | Engenharia de dados\n"
     ]
    }
   ],
   "source": [
    "print(a2)"
   ]
  },
  {
   "cell_type": "code",
   "execution_count": 146,
   "id": "fb85011c",
   "metadata": {},
   "outputs": [
    {
     "name": "stdout",
     "output_type": "stream",
     "text": [
      "Rogério | Matemática\n",
      "Fernando | Engenharia de dados\n",
      "Letícia | Poo em Python\n"
     ]
    }
   ],
   "source": [
    "Aluno.mostrar_alunos()"
   ]
  },
  {
   "cell_type": "code",
   "execution_count": 149,
   "id": "8405d176",
   "metadata": {},
   "outputs": [
    {
     "data": {
      "text/plain": [
       "[Rogério | Matemática, Fernando | Engenharia de dados, Letícia | Poo em Python]"
      ]
     },
     "execution_count": 149,
     "metadata": {},
     "output_type": "execute_result"
    }
   ],
   "source": [
    "a1.lista_de_alunos"
   ]
  },
  {
   "cell_type": "code",
   "execution_count": 130,
   "id": "0ced91c9",
   "metadata": {},
   "outputs": [
    {
     "data": {
      "text/plain": [
       "[Rogério | Matemática, Fernando | Engenharia de dados]"
      ]
     },
     "execution_count": 130,
     "metadata": {},
     "output_type": "execute_result"
    }
   ],
   "source": [
    "Aluno.lista_de_alunos"
   ]
  },
  {
   "cell_type": "markdown",
   "id": "9cd4d5ff",
   "metadata": {},
   "source": [
    "## Exercícios"
   ]
  },
  {
   "cell_type": "markdown",
   "id": "2a1e1e0d",
   "metadata": {},
   "source": [
    "1. Crie uma classe `ContaCorrente` com os atributos cliente (que deve ser um objeto da classe Cliente) e saldo. \n",
    "\n",
    "Crie métodos para depósito, saque e transferência. Os métodos de saque e transferência devem verificar se é possível realizar a transação. Crie também um método que liste todos os clientes com conta corrente"
   ]
  },
  {
   "cell_type": "code",
   "execution_count": null,
   "id": "5dd323ad",
   "metadata": {},
   "outputs": [],
   "source": []
  },
  {
   "cell_type": "code",
   "execution_count": null,
   "id": "78e00ea8",
   "metadata": {},
   "outputs": [],
   "source": []
  },
  {
   "cell_type": "code",
   "execution_count": null,
   "id": "c630c82c",
   "metadata": {},
   "outputs": [],
   "source": []
  },
  {
   "cell_type": "code",
   "execution_count": null,
   "id": "e92f60d3",
   "metadata": {},
   "outputs": [],
   "source": []
  },
  {
   "cell_type": "markdown",
   "id": "cbe8c0d3",
   "metadata": {},
   "source": [
    "2. Faça uma classe `ContaVip` que difere da `ContaCorrente` por ter cheque especial (novo atributo) e é filha da classe `ContaCorrente`. Você precisa implementar os métodos para saque, transferência ou depósito?\n"
   ]
  },
  {
   "cell_type": "code",
   "execution_count": null,
   "id": "e293677a",
   "metadata": {},
   "outputs": [],
   "source": []
  },
  {
   "cell_type": "code",
   "execution_count": null,
   "id": "0122117f",
   "metadata": {},
   "outputs": [],
   "source": []
  },
  {
   "cell_type": "code",
   "execution_count": null,
   "id": "b8aa2bfe",
   "metadata": {},
   "outputs": [],
   "source": []
  },
  {
   "cell_type": "code",
   "execution_count": null,
   "id": "b4d3fb56",
   "metadata": {},
   "outputs": [],
   "source": []
  }
 ],
 "metadata": {
  "kernelspec": {
   "display_name": "Python 3 (ipykernel)",
   "language": "python",
   "name": "python3"
  },
  "language_info": {
   "codemirror_mode": {
    "name": "ipython",
    "version": 3
   },
   "file_extension": ".py",
   "mimetype": "text/x-python",
   "name": "python",
   "nbconvert_exporter": "python",
   "pygments_lexer": "ipython3",
   "version": "3.9.12"
  }
 },
 "nbformat": 4,
 "nbformat_minor": 5
}
