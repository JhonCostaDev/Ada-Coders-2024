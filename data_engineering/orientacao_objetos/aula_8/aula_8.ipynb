{
 "cells": [
  {
   "cell_type": "markdown",
   "metadata": {},
   "source": [
    "#Encapsulamento\n"
   ]
  },
  {
   "cell_type": "code",
   "execution_count": 3,
   "metadata": {},
   "outputs": [
    {
     "name": "stdout",
     "output_type": "stream",
     "text": [
      "Hello\n"
     ]
    }
   ],
   "source": [
    "print('Hello')"
   ]
  },
  {
   "cell_type": "code",
   "execution_count": 5,
   "metadata": {},
   "outputs": [],
   "source": [
    "# Exercicio - Crie uma classe Televisor com os atributos:\n",
    "# * fabricante\n",
    "# * modelo \n",
    "# * Canal atual \n",
    "# * lista de canais \n",
    "# * volume\n",
    "\n",
    "class Televisor:\n",
    "\n",
    "    def __init__(self, fabricante:str, modelo: str) -> None:\n",
    "        self.fabricante = fabricante\n",
    "        self.modelo = modelo\n",
    "        self.canal_atual = None\n",
    "        self.lista_canais = []\n",
    "        self.volume = 10\n",
    "    \n",
    "    def aumentar_volume(self, valor):\n",
    "        if self.volume + valor <= 100:\n",
    "            self.volume += valor\n",
    "        else:\n",
    "            self.volume = 100\n",
    "\n",
    "    def diminuir_volume(self, valor):\n",
    "        if self.volume - valor >= 0:\n",
    "            self.volume -= valor\n",
    "        else:\n",
    "            self.volume = 0\n",
    "\n",
    "    def trocar_canal(self, canal):\n",
    "        if canal in self.lista_canais:\n",
    "            self.canal_atual = canal\n",
    "        \n",
    "\n",
    "\n",
    "    \n",
    "\n"
   ]
  }
 ],
 "metadata": {
  "kernelspec": {
   "display_name": "Python 3",
   "language": "python",
   "name": "python3"
  },
  "language_info": {
   "codemirror_mode": {
    "name": "ipython",
    "version": 3
   },
   "file_extension": ".py",
   "mimetype": "text/x-python",
   "name": "python",
   "nbconvert_exporter": "python",
   "pygments_lexer": "ipython3",
   "version": "3.12.5"
  }
 },
 "nbformat": 4,
 "nbformat_minor": 2
}
