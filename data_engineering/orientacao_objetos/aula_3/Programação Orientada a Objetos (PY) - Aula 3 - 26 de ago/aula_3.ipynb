{
 "cells": [
  {
   "cell_type": "markdown",
   "id": "982a5de9",
   "metadata": {},
   "source": [
    "# Aula 3: Bibliotecas e Módulos"
   ]
  },
  {
   "cell_type": "code",
   "execution_count": null,
   "id": "3916320f",
   "metadata": {},
   "outputs": [],
   "source": []
  },
  {
   "cell_type": "markdown",
   "id": "ea3e2e33",
   "metadata": {},
   "source": [
    "## 1) Bibliotecas\n",
    "\n",
    "Durante o curso, já tivemos contato com algumas **bibliotecas**, como a `datetime` e a `unicodedata`.\n",
    "\n",
    "Você provavelmente já deve ter ouvido os termos **pacotes** (packages) e **módulos** (modules), que são muitas vezes utilizados como sinônimos de **biblioteca**.\n",
    "\n",
    "No entanto, existe uma diferença entre estes termos, e hoje vamos entender qual é!\n",
    "\n",
    "Mas, por enquanto, podemos dizer que uma biblioteca nada mais é que **uma coleção de funcionalidades prontas**, ou seja, \"incrementos adicionais\" do python puro, que podem ser utilizadas pra fazer tarefas específicas. Como veremos, estas funcionalidades são expressas na forma de funções, classes, etc. \n",
    "\n",
    "Além disso, é possível importar uma **biblioteca** de mais de uma maneira. Vamos ver alguns exemplos:"
   ]
  },
  {
   "cell_type": "code",
   "execution_count": null,
   "id": "31fe8a87",
   "metadata": {},
   "outputs": [],
   "source": []
  },
  {
   "cell_type": "code",
   "execution_count": null,
   "id": "97eda2ec",
   "metadata": {},
   "outputs": [],
   "source": []
  },
  {
   "cell_type": "code",
   "execution_count": null,
   "id": "97770fc8",
   "metadata": {},
   "outputs": [],
   "source": []
  },
  {
   "cell_type": "code",
   "execution_count": null,
   "id": "558a4b12",
   "metadata": {},
   "outputs": [],
   "source": []
  },
  {
   "cell_type": "markdown",
   "id": "aef66a5d",
   "metadata": {},
   "source": [
    "Podemos dar um \"apelido\" para a biblioteca, que em python é chamado de \"alias\". \n",
    "\n",
    "Para isso, usamos a estrutura: \n",
    "```python\n",
    "import nome_da_biblioteca as apelido_da_biblioteca\n",
    "```\n",
    "Assim, quando formos nos referir à biblioteca para utilizar uma de suas funções, usamos o seu apelido, ao invés de seu nome completo\n",
    "\n",
    "Por exemplo, podemo simportar a biblioteca datetime com o apelido \"dt\""
   ]
  },
  {
   "cell_type": "code",
   "execution_count": null,
   "id": "0f5fa5d3",
   "metadata": {},
   "outputs": [],
   "source": []
  },
  {
   "cell_type": "code",
   "execution_count": null,
   "id": "d6cbbb5e",
   "metadata": {},
   "outputs": [],
   "source": []
  },
  {
   "cell_type": "code",
   "execution_count": null,
   "id": "e1205d34",
   "metadata": {},
   "outputs": [],
   "source": []
  },
  {
   "cell_type": "markdown",
   "id": "24847234",
   "metadata": {},
   "source": [
    "Além disso, podemos importar uma unica classe ou função\n",
    "\n",
    "Para isso usamos a estrutura\n",
    "```python\n",
    "from nome_da_biblioteca import nome_da_funcao_ou_classe\n",
    "```\n",
    "\n",
    "Dessa forma o código fica um pouco mais direto"
   ]
  },
  {
   "cell_type": "code",
   "execution_count": null,
   "id": "6f8bcd89",
   "metadata": {},
   "outputs": [],
   "source": []
  },
  {
   "cell_type": "code",
   "execution_count": null,
   "id": "80a44c6c",
   "metadata": {},
   "outputs": [],
   "source": []
  },
  {
   "cell_type": "code",
   "execution_count": null,
   "id": "8b2effd1",
   "metadata": {},
   "outputs": [],
   "source": []
  },
  {
   "cell_type": "code",
   "execution_count": null,
   "id": "c04d45c1",
   "metadata": {},
   "outputs": [],
   "source": []
  },
  {
   "cell_type": "markdown",
   "id": "e917eab7",
   "metadata": {},
   "source": [
    "## 2) Módulos, Pacotes, Bibliotecas (agora sim!)"
   ]
  },
  {
   "cell_type": "markdown",
   "id": "aea5bf79",
   "metadata": {},
   "source": [
    "Muitas vezes, usamos os termos \"biblioteca\", \"pacote\" e \"módulo\" como sinônimos. Mas, na verdade, existe uma distinção importante entre estes termos. Vamos entender agora um pouco melhor!"
   ]
  },
  {
   "cell_type": "markdown",
   "id": "ad278abe",
   "metadata": {},
   "source": [
    "### Módulos\n",
    "\n",
    "Qualquer script Python (arquivo com extensão .py) pode ser considerado um módulo.\n",
    "\n",
    "E o motivo da existência de módulos é muito simples: modularização e organização.\n",
    "\n",
    "Em um módulo, podemos adicionar **funções**, **classes**, e qualquer funcionalidade que queiramos organizar em um arquivo, para que estas funcionalidades sejam **importadas** para qualquer projeto que desejemos!\n",
    "\n",
    "Abaixo, faremos um exemplo, e construiremos nosso próprio módulo! :)"
   ]
  },
  {
   "cell_type": "markdown",
   "id": "4c946284",
   "metadata": {},
   "source": [
    "###  Pacotes\n",
    "\n",
    "É comum que tenhamos vários módulos, cada um com seu conjunto de funcionalidades específicas. Se quisermos estruturar este conjunto de módulos em uma única estrutura, temos um **pacote**, que é exatamente isso: um diretório (pasta) onde colocamos diversos módulos!\n",
    "\n",
    "Um ponto importante é que para que o Python entenda que uma pasta (diretório) é importante que nós adicionemos à pasta um arquivo vazio com o nome \\_\\_init\\_\\_.py. (E, não por acaso, esse arquivo é chamado de **construtor** de um pacote!)\n",
    "\n",
    "<img src=https://files.realpython.com/media/pkg2.dab97c2f9c58.png width=200>\n",
    "\n",
    "Na prática, ele serve apenas como um indicatio, para o Python saber que os arquivos .py (módulos) naquela pasta fazem parte de um pacote, e que podem ser importados, etc.\n",
    "\n",
    "Abaixo, faremos um exemplo, e construiremos nosso próprio pacote! :)"
   ]
  },
  {
   "cell_type": "markdown",
   "id": "0f963144",
   "metadata": {},
   "source": [
    "###  Bibliotecas\n",
    "\n",
    "No uso coloquial, muitas vezes chamamos módulos e pacotes de \"bibliotecas\". E, coloquialmente, este uso é bem aceitável.\n",
    "\n",
    "Mas, formalmente falando, usamos o termo **biblioteca** para nos referir a pacotes (ou até mesmo módulos individuais) que são publicados, como parte de um projeto particular, ou para determinado uso.\n",
    "\n",
    "De forma macro, quase toda biblioteca é um conjunto de pacotes. Mas, como dissemos, há uma certa liberdade no uso deste termo.\n",
    "\n",
    "O importanque é que agora você entende bem o que de fato é uma biblioteca em Python, bem como o que é um módulo e um pacote. Tendo isso em mente, podemos utilizar os termos de maneira mais corriqueira e coloquial, de acordo com a situação :)"
   ]
  },
  {
   "cell_type": "markdown",
   "id": "efc52e61",
   "metadata": {},
   "source": [
    "Em resumo,\n",
    "\n",
    "- Um **módulo** é um arquivo de extensão .py com código em Python nele (comumente definição de funções, classes, etc.);\n",
    "\n",
    "- Um **pacote** é uma coleção de módulos. Costuma ser uma pasta com os módulos e o arquivo especial \\_\\_init\\_\\_.py vazio;\n",
    "\n",
    "- Uma **biblioteca** é uma coleção de pacotes ou módulos.\n",
    "\n",
    "<img src=https://cdn.programiz.com/sites/tutorial2program/files/PackageModuleStructure.jpg width=500>"
   ]
  },
  {
   "cell_type": "markdown",
   "id": "59167fcb",
   "metadata": {},
   "source": [
    "Agora que já entendemos o conceitual, vamos criar nossos próprios módulos/pacotes/bibliotecas!"
   ]
  },
  {
   "cell_type": "markdown",
   "id": "cccc1c94",
   "metadata": {},
   "source": [
    "## 3) Criando a importando nossos próprios modulos/pacotes/bibliotecas\n",
    "\n",
    "Como vimos acima, podemos fazer um programa no Jupyter Notebook, e exportá-lo com a extensão \".py\", para, por exemplo, executá-lo no terminal, ou em alguma outra plataforma.\n",
    "\n",
    "Com isso, podemos criar **nossos próprios módulos**, ou, se quisermos, **pacotes e bibliotecas!**"
   ]
  },
  {
   "cell_type": "markdown",
   "id": "f15dea99",
   "metadata": {},
   "source": [
    "Para isso, basta criarmos arquivos \".py\", e o resto da infraestrutura necessária, conforme vimos acima. Vamos fazer isso!"
   ]
  },
  {
   "cell_type": "markdown",
   "id": "26aeeb46",
   "metadata": {},
   "source": [
    "Após criar o módulo/pacote/biblioteca, podemos importo-la como fazemos com qualquer outra bilioteca"
   ]
  },
  {
   "cell_type": "markdown",
   "id": "ec772ca8",
   "metadata": {},
   "source": [
    "Vamos modularizar as classes do exercício desafio que fizemos no começo da aula. Para isso, vamos inicialmente"
   ]
  },
  {
   "cell_type": "code",
   "execution_count": null,
   "id": "be4a540a",
   "metadata": {},
   "outputs": [],
   "source": []
  },
  {
   "cell_type": "markdown",
   "id": "5a02025a",
   "metadata": {},
   "source": [
    "## Exercícios"
   ]
  },
  {
   "cell_type": "markdown",
   "id": "673bbacc",
   "metadata": {},
   "source": [
    "### 1) Crie uma classe `Bola` cujos atributos são cor e raio. \n",
    "\n",
    "Crie um método para calcular a área dessa bola (obs.: a área de uma esfera é $4 \\pi r^2$). \n",
    "\n",
    "Crie um método que imprime a cor da bola. \n",
    "\n",
    "Crie um método para calcular o volume da bola (obs.: o volume de uma esfera é $\\frac{4}{3}\\pi r^3$). "
   ]
  },
  {
   "cell_type": "code",
   "execution_count": null,
   "id": "7ed712a2",
   "metadata": {},
   "outputs": [],
   "source": []
  },
  {
   "cell_type": "markdown",
   "id": "7d839bde",
   "metadata": {},
   "source": [
    "### 2. Crie uma classe `Retangulo` cujos atributos são `lado_a` e `lado_b`. \n",
    "\n",
    "Crie um método para calcular a área desse retângulo. \n",
    "\n",
    "Crie um objeto dessa classe e calcule a área e a imprima em seguida.\n"
   ]
  },
  {
   "cell_type": "code",
   "execution_count": null,
   "id": "03382a37",
   "metadata": {},
   "outputs": [],
   "source": []
  },
  {
   "cell_type": "markdown",
   "id": "a6e2590d",
   "metadata": {},
   "source": [
    "### 3. Empacote ambas as classes num package chamado Geometria e faça uso do pacote importado\n",
    "\n",
    "Instancie um objeto de cada classe e calcule suas áreas"
   ]
  },
  {
   "cell_type": "code",
   "execution_count": null,
   "id": "a57cccc4",
   "metadata": {},
   "outputs": [],
   "source": []
  },
  {
   "cell_type": "markdown",
   "id": "10183309",
   "metadata": {},
   "source": [
    "### 4. Crie uma classe `Cliente` cujos atributos são nome, idade e e-mail. Construa um método que imprima as informações tal como abaixo:\n",
    "\n",
    "```\n",
    "Nome: Fulano de Tal\n",
    "Idade: 40\n",
    "E-mail: fulano@mail.com\n",
    "```"
   ]
  },
  {
   "cell_type": "code",
   "execution_count": null,
   "id": "20622d54",
   "metadata": {},
   "outputs": [],
   "source": []
  },
  {
   "cell_type": "code",
   "execution_count": null,
   "id": "063b4aef",
   "metadata": {},
   "outputs": [],
   "source": []
  },
  {
   "cell_type": "markdown",
   "id": "a52c2e9e",
   "metadata": {},
   "source": [
    "### 5. Com base no exercício anterior, crie um sistema de cadastro com dicionários e a classe `Cliente`; cada cliente deve ter como chave o seu CPF. Seu programa deve perguntar se o usuário quer cadastrar um novo cliente, alterar um cadastro ou sair. \n",
    "\n",
    "Obs.: tente fazer esse exercício pode criando uma classe `Sistema`, que irá controlar o sistema de cadastros. Essa classe deve ter o atributo cadastro e os métodos para imprimir os cadastrados, cadastrar um novo, alterar um cadastro ou sair."
   ]
  },
  {
   "cell_type": "code",
   "execution_count": null,
   "id": "b192eb68",
   "metadata": {},
   "outputs": [],
   "source": []
  },
  {
   "cell_type": "code",
   "execution_count": null,
   "id": "68fe33ea",
   "metadata": {},
   "outputs": [],
   "source": []
  },
  {
   "cell_type": "code",
   "execution_count": null,
   "id": "820eff8e",
   "metadata": {},
   "outputs": [],
   "source": []
  }
 ],
 "metadata": {
  "kernelspec": {
   "display_name": "Python 3 (ipykernel)",
   "language": "python",
   "name": "python3"
  },
  "language_info": {
   "codemirror_mode": {
    "name": "ipython",
    "version": 3
   },
   "file_extension": ".py",
   "mimetype": "text/x-python",
   "name": "python",
   "nbconvert_exporter": "python",
   "pygments_lexer": "ipython3",
   "version": "3.9.6"
  }
 },
 "nbformat": 4,
 "nbformat_minor": 5
}
