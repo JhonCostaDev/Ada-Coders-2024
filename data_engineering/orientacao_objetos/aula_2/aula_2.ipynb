{
 "cells": [
  {
   "cell_type": "markdown",
   "metadata": {},
   "source": [
    "# Melhorando Nossos Objetos"
   ]
  },
  {
   "cell_type": "code",
   "execution_count": 3,
   "metadata": {},
   "outputs": [],
   "source": [
    "# atributo -> atributo publico\n",
    "# _atributo -> atributo protegido(_protected)\n",
    "# __atributo -> atributo privado(__private)\n",
    "\n",
    "\n",
    "class Carro:\n",
    "    def __init__(self, modelo: str, marca: str, estado='Desligado') -> None:\n",
    "        self.modelo = modelo\n",
    "        self.marca = marca\n",
    "        self.estado = estado\n",
    "        \n",
    "    def ligar(self):\n",
    "        return 'Ligado...'\n",
    "    \n",
    "    def desligar(self):\n",
    "        return 'Desligado...'\n",
    "    \n",
    "    def verificar_estado(self):\n",
    "        return self.estado\n",
    "        \n",
    "    "
   ]
  },
  {
   "cell_type": "code",
   "execution_count": 5,
   "metadata": {},
   "outputs": [
    {
     "data": {
      "text/plain": [
       "'Desligado'"
      ]
     },
     "execution_count": 5,
     "metadata": {},
     "output_type": "execute_result"
    }
   ],
   "source": [
    "uno = Carro('Uno Miller', 'Fiat')\n",
    "uno.estado"
   ]
  }
 ],
 "metadata": {
  "kernelspec": {
   "display_name": "Python 3",
   "language": "python",
   "name": "python3"
  },
  "language_info": {
   "codemirror_mode": {
    "name": "ipython",
    "version": 3
   },
   "file_extension": ".py",
   "mimetype": "text/x-python",
   "name": "python",
   "nbconvert_exporter": "python",
   "pygments_lexer": "ipython3",
   "version": "3.12.4"
  }
 },
 "nbformat": 4,
 "nbformat_minor": 2
}
