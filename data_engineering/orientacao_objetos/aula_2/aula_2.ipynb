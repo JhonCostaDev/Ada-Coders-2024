{
 "cells": [
  {
   "cell_type": "markdown",
   "metadata": {},
   "source": [
    "# Melhorando Nossos Objetos"
   ]
  },
  {
   "cell_type": "code",
   "execution_count": 3,
   "metadata": {},
   "outputs": [],
   "source": [
    "# atributo -> atributo publico\n",
    "# _atributo -> atributo protegido(_protected)\n",
    "# __atributo -> atributo privado(__private)\n",
    "\n",
    "\n",
    "class Carro:\n",
    "    def __init__(self, modelo: str, marca: str, estado='Desligado') -> None:\n",
    "        self.modelo = modelo\n",
    "        self.marca = marca\n",
    "        self.estado = estado\n",
    "        \n",
    "    def ligar(self):\n",
    "        return 'Ligado...'\n",
    "    \n",
    "    def desligar(self):\n",
    "        return 'Desligado...'\n",
    "    \n",
    "    def verificar_estado(self):\n",
    "        return self.estado\n",
    "        \n",
    "    "
   ]
  },
  {
   "cell_type": "code",
   "execution_count": 5,
   "metadata": {},
   "outputs": [
    {
     "data": {
      "text/plain": [
       "'Desligado'"
      ]
     },
     "execution_count": 5,
     "metadata": {},
     "output_type": "execute_result"
    }
   ],
   "source": [
    "uno = Carro('Uno Miller', 'Fiat')\n",
    "uno.estado"
   ]
  },
  {
   "cell_type": "markdown",
   "metadata": {},
   "source": [
    "#Exercicios"
   ]
  },
  {
   "cell_type": "code",
   "execution_count": 10,
   "metadata": {},
   "outputs": [],
   "source": [
    "### Exercício 3\n",
    "#Um quadrado (incluir cálculo de área e perímetro)\n",
    "\n",
    "class Quadrado:\n",
    "    def __init__(self, lado:float) -> None:\n",
    "        self._lado = lado\n",
    "        \n",
    "    def calcular_area(self) -> float:\n",
    "        return self._lado ** 2\n",
    "    \n",
    "    def calcular_perimetro(self) -> float:\n",
    "        return self._lado * 4\n",
    "    \n",
    "    @property\n",
    "    def lado(self)-> float:\n",
    "        return self._lado"
   ]
  },
  {
   "cell_type": "code",
   "execution_count": 11,
   "metadata": {},
   "outputs": [
    {
     "name": "stdout",
     "output_type": "stream",
     "text": [
      "O lado mede: 5.13\n",
      "Area: 26.32\n",
      "Perimetro: 20.52\n"
     ]
    }
   ],
   "source": [
    "q1 = Quadrado(lado=5.13)\n",
    "print(f'O lado mede: {q1.lado}')\n",
    "print(f'Area: {q1.calcular_area():.2f}')\n",
    "print(f'Perimetro: {q1.calcular_perimetro()}')"
   ]
  },
  {
   "cell_type": "code",
   "execution_count": 12,
   "metadata": {},
   "outputs": [
    {
     "ename": "AttributeError",
     "evalue": "property 'lado' of 'Quadrado' object has no setter",
     "output_type": "error",
     "traceback": [
      "\u001b[0;31m---------------------------------------------------------------------------\u001b[0m",
      "\u001b[0;31mAttributeError\u001b[0m                            Traceback (most recent call last)",
      "Cell \u001b[0;32mIn[12], line 2\u001b[0m\n\u001b[1;32m      1\u001b[0m \u001b[38;5;66;03m# Tentando mudar o lado\u001b[39;00m\n\u001b[0;32m----> 2\u001b[0m \u001b[43mq1\u001b[49m\u001b[38;5;241;43m.\u001b[39;49m\u001b[43mlado\u001b[49m \u001b[38;5;241m=\u001b[39m \u001b[38;5;241m4\u001b[39m\n",
      "\u001b[0;31mAttributeError\u001b[0m: property 'lado' of 'Quadrado' object has no setter"
     ]
    }
   ],
   "source": [
    "# Tentando mudar o lado\n",
    "q1.lado = 4"
   ]
  },
  {
   "cell_type": "code",
   "execution_count": 14,
   "metadata": {},
   "outputs": [],
   "source": [
    "### Exercício 4\n",
    "\n",
    "#Um retângulo (incluir área e perímetro)\n",
    "\n",
    "class Retangulo:\n",
    "    def __init__(self, base:float, altura:float) -> None:\n",
    "        self._base = base \n",
    "        self._altura = altura\n",
    "        \n",
    "    def calcular_area(self) -> float:\n",
    "        return self._base * self._altura\n",
    "    \n",
    "    def calcular_perimetro(self) -> float:\n",
    "        return  (self._base + self._altura) * 2\n",
    "    \n",
    "    @property\n",
    "    def base(self) -> float:\n",
    "        return self._base\n",
    "    \n",
    "    @property\n",
    "    def altura(self) -> float:\n",
    "        return self._altura"
   ]
  },
  {
   "cell_type": "code",
   "execution_count": 18,
   "metadata": {},
   "outputs": [
    {
     "data": {
      "text/plain": [
       "8.0"
      ]
     },
     "execution_count": 18,
     "metadata": {},
     "output_type": "execute_result"
    }
   ],
   "source": [
    "r1 = Retangulo(base=2.21, altura=1.79)\n",
    "r1.calcular_area()\n",
    "r1.calcular_perimetro()\n"
   ]
  },
  {
   "cell_type": "markdown",
   "metadata": {},
   "source": [
    "$$"
   ]
  },
  {
   "cell_type": "code",
   "execution_count": 19,
   "metadata": {},
   "outputs": [],
   "source": [
    "### Exercício 5\n",
    "\n",
    "#Uma Bola (incluir volume e área de superfície)\n",
    "# area 4*pi*r**2\n",
    "#volume = 4/3 pi r ** 3\n",
    "\n",
    "class Esfera:\n",
    "    def __init__(self, raio:float) -> None:\n",
    "        self.raio = raio\n",
    "        self.pi = 3.1415\n",
    "        \n",
    "    def volume(self) -> float:\n",
    "        volume_calculado = (4/3) * self.pi * (self.raio ** 3)\n",
    "        return volume_calculado\n",
    "    \n",
    "    def area_superficie(self) -> float:\n",
    "        area_calculada = 4 * self.pi * (self.raio ** 2)\n",
    "        return area_calculada\n",
    "    "
   ]
  },
  {
   "cell_type": "code",
   "execution_count": null,
   "metadata": {},
   "outputs": [],
   "source": [
    "\n",
    "### Exercício 6\n",
    "\n",
    "# Escreva a classe que represente a abstração de uma pessoa. \n",
    "\n",
    "# A classe deverá ter os atributos:\n",
    "\n",
    "# - altura (float)\n",
    "# - peso (float)\n",
    "# - sexo (string \"M\" ou \"F\")\n",
    "# - imc\n",
    "\n",
    "# Além do método construtor, a classe deverá possuir os seguintes métodos:\n",
    "\n",
    "# - **calcular_imc(parâmetros) -> float**\n",
    "#     - Esse método deverá calcular o IMC da pessoa de acordo com a fórmula ```IMC=Peso/Altura^2```\n",
    "#     - Deve ser calculado no construtor, e atualizar a propriedade imc\n",
    "\n",
    "# &nbsp;\n",
    "\n",
    "# - **verificar_imd() -> None**\n",
    "#     - Esse método deverá exibir na tela o IMC da pessoa (valor e classificação), de acordo com a tabela abaixo\n",
    "\n",
    "#     &nbsp;\n",
    "    \n",
    "#     | Classificação | Homem | Mulher |\n",
    "#     | ------------- | ----- | ------ |\n",
    "#     | Obesidade mórbida | 40 ou + | 39 ou + |\n",
    "#     | Obesidade moderada | 30 a 39,9 | 29 a 38,9 |\n",
    "#     | Obesidade leve | 25 a 25,9 | 24 a 28,9 |\n",
    "#     | Normal | 20 a 24,9 | 19 a 23,9 |\n",
    "#     | Abaixo do normal | - de 20 | - de 19 |"
   ]
  },
  {
   "cell_type": "code",
   "execution_count": 7,
   "metadata": {},
   "outputs": [],
   "source": [
    "class Imc:\n",
    "    def __init__(self, altura:float, peso:float, sexo: str) -> None:\n",
    "        self.altura = altura\n",
    "        self.peso = peso\n",
    "        self.sexo = sexo\n",
    "        self.imc = 0\n",
    "        \n",
    "    def calcular_imc(self):\n",
    "        self.imc = self.peso / (self.altura**2)\n",
    "        \n",
    "    def verificar_imd(self):\n",
    "        if self.sexo == 'M':\n",
    "            if self.imc < 20:\n",
    "                print(f'Imc: {self.imc:.2f} - Abaixo do normal')\n",
    "            elif self.imc <= 24.9:\n",
    "                print(f'IMC: {self.imc:.2f} - Normal')\n",
    "            elif self.imc <= 29.9:\n",
    "                print(f'IMC: {self.imc:.2f} - Obesidade leve')\n",
    "            elif self.imc <= 39.9:\n",
    "                print(f'IMC: {self.imc:.2f} - Obesidade moderada')\n",
    "            else:\n",
    "                print(f'IMC: {self.imc:.2f} - Obesidade móbida')\n",
    "        else:\n",
    "            if self.imc < 19:\n",
    "                print(f'Imc: {self.imc:.2f} - Abaixo do normal')\n",
    "            elif self.imc <= 23.9:\n",
    "                print(f'IMC: {self.imc:.2f} - Normal')\n",
    "            elif self.imc <= 28.9:\n",
    "                print(f'IMC: {self.imc:.2f} - Obesidade leve')\n",
    "            elif self.imc <= 38.9:\n",
    "                print(f'IMC: {self.imc:.2f} - Obesidade moderada')\n",
    "            else:\n",
    "                print(f'IMC: {self.imc:.2f} - Obesidade móbida')"
   ]
  },
  {
   "cell_type": "code",
   "execution_count": 8,
   "metadata": {},
   "outputs": [
    {
     "name": "stdout",
     "output_type": "stream",
     "text": [
      "IMC: 28.73 - Obesidade leve\n"
     ]
    }
   ],
   "source": [
    "mario = Imc(1.77, 90, 'M')\n",
    "mario.calcular_imc()\n",
    "mario.verificar_imd()"
   ]
  },
  {
   "cell_type": "markdown",
   "metadata": {},
   "source": [
    "###  Exercício 7 \n",
    "\n",
    " Crie uma classe `Cliente` cujos atributos são nome, idade e e-mail. Construa um método que imprima as informações tal como abaixo:\n",
    "\n",
    " ```\n",
    " Nome: Fulano de Tal\n",
    " Idade: 40\n",
    " E-mail: fulano@mail.com\n",
    " ```"
   ]
  },
  {
   "cell_type": "code",
   "execution_count": 11,
   "metadata": {},
   "outputs": [],
   "source": [
    "class Cliente:\n",
    "    def __init__(self, nome: str, idade: str, email:str) -> None:\n",
    "        self._nome = nome\n",
    "        self._idade = idade\n",
    "        self._email = email\n",
    "        \n",
    "    def exibir_informacoes(self):\n",
    "        print(f'''\n",
    "Nome: {self._nome}\n",
    "Idade: {self._idade}\n",
    "E-mail: {self._email}\n",
    "            ''')\n",
    "    @property\n",
    "    def nome(self):\n",
    "        return self._nome\n",
    "    \n",
    "    @property\n",
    "    def idade(self):\n",
    "        return self._idade\n",
    "    \n",
    "    @property\n",
    "    def email(self):\n",
    "        return self._email"
   ]
  },
  {
   "cell_type": "code",
   "execution_count": 12,
   "metadata": {},
   "outputs": [
    {
     "name": "stdout",
     "output_type": "stream",
     "text": [
      "\n",
      "Nome: Link\n",
      "Idade: 128\n",
      "E-mail: link@zelda.com\n",
      "            \n"
     ]
    }
   ],
   "source": [
    "link = Cliente('Link', 128, 'link@zelda.com')\n",
    "link.exibir_informacoes()\n"
   ]
  },
  {
   "cell_type": "code",
   "execution_count": null,
   "metadata": {},
   "outputs": [],
   "source": [
    "\n",
    "# ### Exercício 8\n",
    "\n",
    "# Com base no exercício anterior, crie um sistema de cadastro com dicionários e a classe `Cliente`; cada cliente deve ter como chave o seu CPF. Seu programa deve perguntar se o usuário quer cadastrar um novo cliente, alterar um cadastro ou sair. \n",
    "\n",
    "# Obs.: tente fazer esse exercício pode criando uma classe `Sistema`, que irá controlar o sistema de cadastros. Essa classe deve ter o atributo cadastro e os métodos para imprimir os cadastrados, cadastrar um novo, alterar um cadastro ou sair."
   ]
  },
  {
   "cell_type": "code",
   "execution_count": null,
   "metadata": {},
   "outputs": [],
   "source": [
    "# ### Exercício 9\n",
    "# Escreva a classe que represente a abstração de um triângulo.\n",
    "\n",
    "# Além dos atributos e método construtor, a classe deverá possuir também um método que retorne se o triângulo é\n",
    "\n",
    "# - Equilátero: tem 3 lados iguais\n",
    "# - Isósceles: tem 2 lados iguais\n",
    "# - Escaleno: tem 3 lados diferentes\n",
    "\n",
    "# O método deverá retornar uma string contendo o nome do triângulo (equilátero, isósceles ou escaleno)\n",
    "\n",
    "## atenção\n",
    "\n",
    "# para cada triângulo, defina o método de área e perímetro"
   ]
  },
  {
   "cell_type": "code",
   "execution_count": null,
   "metadata": {},
   "outputs": [],
   "source": [
    "# ### Exercício 10\n",
    "\n",
    "# Crie uma classe `Televisor`cujos atributos são: fabricante; modelo; canal atual; lista de canais; volume.\n",
    "\n",
    "# Faça métodos aumentar/diminuir volume, trocar o canal e sintonizar um novo canal, que adiciona um novo canal à lista de canais (somente se esse canal não estiver nessa lista). No atributo lista de canais, devem estar armazenados todos os canais já sintonizados dessa TV. \n",
    "\n",
    "# Obs.: o volume não pode ser menor que zero e maior que cem; só se pode trocar para um canal que já esteja na lista de canais."
   ]
  },
  {
   "cell_type": "code",
   "execution_count": null,
   "metadata": {},
   "outputs": [],
   "source": [
    "# ### Exercício 11\n",
    "\n",
    "# Crie uma classe `ControleRemoto` cujo atributo é televisão (isso é, recebe um objeto da classe do exercício 7). Crie métodos para aumentar/diminuir volume, trocar o canal e sintonizar um novo canal, que adiciona um novo canal à lista de canais (somente se esse canal não estiver nessa lista).\n"
   ]
  },
  {
   "cell_type": "code",
   "execution_count": null,
   "metadata": {},
   "outputs": [],
   "source": [
    "# ### Exercício 12\n",
    "\n",
    "# Remodele a classe televisor, mas agora defina uma classe Canal para os canais. Adapte a solução para que ela continue funcionando adequadamente"
   ]
  }
 ],
 "metadata": {
  "kernelspec": {
   "display_name": "Python 3",
   "language": "python",
   "name": "python3"
  },
  "language_info": {
   "codemirror_mode": {
    "name": "ipython",
    "version": 3
   },
   "file_extension": ".py",
   "mimetype": "text/x-python",
   "name": "python",
   "nbconvert_exporter": "python",
   "pygments_lexer": "ipython3",
   "version": "3.12.3"
  }
 },
 "nbformat": 4,
 "nbformat_minor": 2
}
