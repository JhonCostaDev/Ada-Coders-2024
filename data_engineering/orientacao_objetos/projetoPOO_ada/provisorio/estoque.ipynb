{
 "cells": [
  {
   "cell_type": "code",
   "execution_count": 24,
   "metadata": {},
   "outputs": [],
   "source": [
    "class Produto:\n",
    "    def __init__(self, nome, valor) -> None:\n",
    "        self.nome = nome\n",
    "        self.valor = valor\n",
    "        \n",
    "    \n",
    "        \n",
    "        \n",
    "\n",
    "        "
   ]
  },
  {
   "cell_type": "code",
   "execution_count": 26,
   "metadata": {},
   "outputs": [],
   "source": [
    "class Estoque(Produto):\n",
    "    estoque = {}\n",
    "    def __init__(self, nome, valor, quantidade) -> None:\n",
    "        super().__init__(nome, valor)\n",
    "        self.quantidade = quantidade\n",
    "        self.valor_total_estoque = self.valor * self.quantidade\n",
    "        Estoque.estoque.update({self.nome: [self.nome, self.quantidade, self.valor, self.valor_total_estoque]})\n",
    "    @staticmethod   \n",
    "    def exibir_estoque():\n",
    "        for produto in Estoque.estoque.items():\n",
    "            print(produto)\n",
    "        \n",
    "    \n",
    "    \n",
    "    \n",
    "    \n",
    "    \n",
    "        "
   ]
  },
  {
   "cell_type": "code",
   "execution_count": 28,
   "metadata": {},
   "outputs": [
    {
     "name": "stdout",
     "output_type": "stream",
     "text": [
      "('banana', ['banana', 20, 1.99, 39.8])\n",
      "('goiaba', ['goiaba', 80, 6.99, 559.2])\n",
      "('Biscoito', ['Biscoito', 35, 4.99, 174.65])\n"
     ]
    }
   ],
   "source": [
    "\n",
    "banana = Estoque('banana', 1.99, 20)\n",
    "goiaba = Estoque('goiaba', 6.99, 80)\n",
    "biscoito = Estoque('Biscoito', 4.99, 35)\n",
    "Estoque.exibir_estoque()"
   ]
  }
 ],
 "metadata": {
  "kernelspec": {
   "display_name": ".venv",
   "language": "python",
   "name": "python3"
  },
  "language_info": {
   "codemirror_mode": {
    "name": "ipython",
    "version": 3
   },
   "file_extension": ".py",
   "mimetype": "text/x-python",
   "name": "python",
   "nbconvert_exporter": "python",
   "pygments_lexer": "ipython3",
   "version": "3.12.3"
  }
 },
 "nbformat": 4,
 "nbformat_minor": 2
}
