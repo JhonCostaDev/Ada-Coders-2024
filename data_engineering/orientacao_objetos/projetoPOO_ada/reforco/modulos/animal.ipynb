{
 "cells": [
  {
   "cell_type": "code",
   "execution_count": 3,
   "metadata": {},
   "outputs": [],
   "source": [
    "class Animal:\n",
    "    def __init__(self, nome:str, tipo:str) -> None:\n",
    "        self.nome = nome\n",
    "        self.tipo = tipo\n",
    "        \n",
    "    def fala(self):\n",
    "        print(f'{self.nome} faz barulho')\n",
    "        \n",
    "    "
   ]
  },
  {
   "cell_type": "code",
   "execution_count": 7,
   "metadata": {},
   "outputs": [],
   "source": [
    "class Cachorro(Animal):\n",
    "    #ver isso aqui para fazer meu projeto\n",
    "    def __init__(self, nome: str, raca:str, tipo='cachorro') -> None:\n",
    "        super().__init__(nome, tipo)\n",
    "        self.raca = raca\n",
    "    \n",
    "    def fala(self):\n",
    "        print(f\"{self.nome} late!\")\n",
    "        \n",
    "    "
   ]
  },
  {
   "cell_type": "code",
   "execution_count": 11,
   "metadata": {},
   "outputs": [],
   "source": [
    "class Gato(Animal):\n",
    "    def fala(self):\n",
    "        print(f\"{self.nome} mia.\")"
   ]
  },
  {
   "cell_type": "code",
   "execution_count": 13,
   "metadata": {},
   "outputs": [
    {
     "name": "stdout",
     "output_type": "stream",
     "text": [
      "neguin late!\n",
      "Tuco mia.\n"
     ]
    }
   ],
   "source": [
    "c1 = Cachorro('neguin', 'brazilian caramelo')\n",
    "c1.fala()\n",
    "\n",
    "g1 = Gato('Tuco', 'gato')\n",
    "g1.fala()"
   ]
  }
 ],
 "metadata": {
  "kernelspec": {
   "display_name": ".venv",
   "language": "python",
   "name": "python3"
  },
  "language_info": {
   "codemirror_mode": {
    "name": "ipython",
    "version": 3
   },
   "file_extension": ".py",
   "mimetype": "text/x-python",
   "name": "python",
   "nbconvert_exporter": "python",
   "pygments_lexer": "ipython3",
   "version": "3.12.3"
  }
 },
 "nbformat": 4,
 "nbformat_minor": 2
}
