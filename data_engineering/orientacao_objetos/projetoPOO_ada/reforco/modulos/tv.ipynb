{
 "cells": [
  {
   "cell_type": "markdown",
   "metadata": {},
   "source": [
    "Crie uma classe `Televisor`cujos atributos são: fabricante; modelo; canal atual; lista de canais; volume.\n",
    "\n",
    "Faça métodos aumentar/diminuir volume, trocar o canal e sintonizar um novo canal, que adiciona um novo canal à lista de canais (somente se esse canal não estiver nessa lista). No atributo lista de canais, devem estar armazenados todos os canais já sintonizados dessa TV. \n",
    "\n",
    "Obs.: o volume não pode ser menor que zero e maior que cem; só se pode trocar para um canal que já esteja na lista de canais.\n"
   ]
  },
  {
   "cell_type": "code",
   "execution_count": 148,
   "metadata": {},
   "outputs": [],
   "source": [
    "class Tv:\n",
    "    # Construtor do objeto Tv\n",
    "    def __init__(self, fabricante:str, modelo:str) -> None:\n",
    "        self._fabricante = fabricante\n",
    "        self._modelo = modelo\n",
    "        self._canal_atual = None\n",
    "        self._lista_canais = []\n",
    "        self._canais_sintonizados = 0\n",
    "        self._volume = 1\n",
    "        \n",
    "    \n",
    "    def sintonizar_canais(self, novo_canal:str) -> None:\n",
    "        if novo_canal in self._lista_canais:\n",
    "            print('Canal já Sintonizado.')\n",
    "        else:\n",
    "            self._lista_canais.append(novo_canal)\n",
    "            self._canais_sintonizados += 1\n",
    "        self._canal_atual = self._lista_canais[0]\n",
    "        \n",
    "    \n",
    "    def canal_up(self) -> None:\n",
    "        if self._canal_atual == None :\n",
    "            print('Nenhum canal foi sintonizado ainda.\\nPor favor, sintonize novos canais')\n",
    "        elif self._canais_sintonizados == 1:\n",
    "            print('Este é o único canal da sua lista de canais.\\nPor favor, sintonize novos canais')\n",
    "        else:\n",
    "            indice_canal_atual = self._lista_canais.index(self._canal_atual)\n",
    "            prox_canal = indice_canal_atual + 1\n",
    "            if prox_canal == self._canais_sintonizados:\n",
    "                self._canal_atual = self._lista_canais[0]\n",
    "            else:\n",
    "                self._canal_atual = self._lista_canais[prox_canal]\n",
    "                \n",
    "            \n",
    "    \n",
    "    def canal_down(self) -> None:\n",
    "        if self._canal_atual == None:\n",
    "            print('Nenhum canal foi sintonizado ainda.\\nPor favor, sintonize novos canais')\n",
    "        elif self._canais_sintonizados == 1:\n",
    "            print('Este é o único canal da sua lista de canais.\\nPor favor, sintonize novos canais')\n",
    "        else:\n",
    "            indice_canal_atual = self._lista_canais.index(self._canal_atual)\n",
    "            prox_canal = indice_canal_atual - 1\n",
    "            if self._canal_atual == self._lista_canais[0]:\n",
    "                self._canal_atual = self._lista_canais[-1]\n",
    "            else:\n",
    "                self._canal_atual = self._lista_canais[prox_canal]\n",
    "            \n",
    "    def volume_up(self) -> None:\n",
    "        # só aumentará o volume se o mesmo for menor que 100.\n",
    "        if self._volume < 100:\n",
    "            self._volume += 1\n",
    "            \n",
    "    def volume_down(self) -> None:\n",
    "        # só diminuirá o volume se o mesmo for maior que 0.\n",
    "        if self._volume > 0:\n",
    "            self._volume -= 1\n",
    "    # Getters\n",
    "    @property\n",
    "    def fabricante(self) -> str:\n",
    "        return self._fabricante\n",
    "    \n",
    "    @property\n",
    "    def modelo(self) -> str:\n",
    "        return self._modelo\n",
    "    \n",
    "    @property\n",
    "    def canal_atual(self) -> str:\n",
    "        return self._canal_atual\n",
    "    \n",
    "    @property\n",
    "    def lista_canais(self):\n",
    "        for canal in self._lista_canais:\n",
    "            return canal \n",
    "    \n",
    "            \n",
    "    # Metodo magico \n",
    "    def __repr__(self) -> str:\n",
    "        return f'''\n",
    "    ============ TELEVISOR ============\n",
    "    Marca: {self._fabricante}\n",
    "    Modelo: {self._modelo}\n",
    "    Canal Atual: {self._canal_atual}\n",
    "    Volume: {self._volume}\n",
    "    Canais Sintonizados: {self._canais_sintonizados}\n",
    "    '''\n",
    "    "
   ]
  },
  {
   "cell_type": "code",
   "execution_count": 149,
   "metadata": {},
   "outputs": [
    {
     "name": "stdout",
     "output_type": "stream",
     "text": [
      "Este é o único canal da sua lista de canais.\n",
      "Por favor, sintonize novos canais\n"
     ]
    },
    {
     "data": {
      "text/plain": [
       "\n",
       "    ============ TELEVISOR ============\n",
       "    Marca: lg\n",
       "    Modelo: scarlet\n",
       "    Canal Atual: globo\n",
       "    Volume: 1\n",
       "    Canais Sintonizados: 1\n",
       "    "
      ]
     },
     "execution_count": 149,
     "metadata": {},
     "output_type": "execute_result"
    }
   ],
   "source": [
    "# Objeto\n",
    "\n",
    "lg = Tv('lg', 'scarlet')\n",
    "lg.sintonizar_canais('globo')\n",
    "\n",
    "lg.canal_up()\n",
    "\n",
    "lg"
   ]
  },
  {
   "cell_type": "markdown",
   "metadata": {},
   "source": [
    "### Exercício 11\n",
    "\n",
    "Crie uma classe `ControleRemoto` cujo atributo é televisão (isso é, recebe um objeto da classe do exercício 10). Crie métodos para aumentar/diminuir volume, trocar o canal e sintonizar um novo canal, que adiciona um novo canal à lista de canais (somente se esse canal não estiver nessa lista).\n",
    "\n",
    "Esse foi materia do dia\n"
   ]
  },
  {
   "cell_type": "markdown",
   "metadata": {},
   "source": [
    "A classe abaixo funciona como uma herança mas é uma maneira grosseira, não recomendada de implementação"
   ]
  },
  {
   "cell_type": "code",
   "execution_count": 132,
   "metadata": {},
   "outputs": [],
   "source": [
    "class ControleRemoto:\n",
    "    def __init__(self, tv) -> None:\n",
    "        self.tv = tv\n",
    "        \n",
    "    def sintonia(self, valor):\n",
    "        self.tv.sintonizar_canais(valor)\n",
    "        \n",
    "    def aumentar_vol(self):\n",
    "        self.tv.volume_up()\n",
    "    \n",
    "    def diminuir_vol(self):\n",
    "        self.tv.volume_down()\n",
    "    \n",
    "    def prox_canal(self):\n",
    "        self.tv.canal_up()\n",
    "    \n",
    "    def ant_canal(self):\n",
    "        self.tv.canal_down()\n",
    "    def __repr__(self) -> str:\n",
    "        return f'{self.tv}'\n",
    "        \n",
    "    \n",
    "    \n",
    "        "
   ]
  },
  {
   "cell_type": "code",
   "execution_count": 128,
   "metadata": {},
   "outputs": [
    {
     "data": {
      "text/plain": [
       "\n",
       "    ============ TELEVISOR ============\n",
       "    Marca: lg\n",
       "    Modelo: scarlet\n",
       "    Canal Atual: globo\n",
       "    Volume: 12\n",
       "    Canais Sintonizados: 4\n",
       "    "
      ]
     },
     "execution_count": 128,
     "metadata": {},
     "output_type": "execute_result"
    }
   ],
   "source": [
    "controle_lg = ControleRemoto(tv=lg)\n",
    "controle_lg\n",
    "\n",
    "#controle_lg.aumentar_vol()\n",
    "# controle_lg.sintonia('Futura')\n",
    "# controle_lg.sintonia('globo')\n",
    "# controle_lg.sintonia('sbt')\n",
    "# controle_lg.sintonia('band')\n",
    "controle_lg.ant_canal()\n",
    "controle_lg"
   ]
  },
  {
   "cell_type": "markdown",
   "metadata": {},
   "source": [
    "Controle Utilizando Herança"
   ]
  },
  {
   "cell_type": "code",
   "execution_count": 150,
   "metadata": {},
   "outputs": [],
   "source": [
    "class ControleInteligente(Tv):\n",
    "    def __init__(self, fabricante: str, modelo: str) -> None:\n",
    "        super().__init__(fabricante, modelo)"
   ]
  },
  {
   "cell_type": "code",
   "execution_count": 157,
   "metadata": {},
   "outputs": [
    {
     "data": {
      "text/plain": [
       "\n",
       "    ============ TELEVISOR ============\n",
       "    Marca: Semp Toshiba\n",
       "    Modelo: Max Color\n",
       "    Canal Atual: band\n",
       "    Volume: 4\n",
       "    Canais Sintonizados: 4\n",
       "    "
      ]
     },
     "execution_count": 157,
     "metadata": {},
     "output_type": "execute_result"
    }
   ],
   "source": [
    "semp = ControleInteligente('Semp Toshiba', 'Max Color')\n",
    "semp.sintonizar_canais('Globo')\n",
    "semp.sintonizar_canais('sbt')\n",
    "semp.sintonizar_canais('record')\n",
    "semp.sintonizar_canais('band')\n",
    "semp.volume_up()\n",
    "semp.volume_up()\n",
    "semp.volume_up()\n",
    "semp.canal_down()\n",
    "semp"
   ]
  }
 ],
 "metadata": {
  "kernelspec": {
   "display_name": ".venv",
   "language": "python",
   "name": "python3"
  },
  "language_info": {
   "codemirror_mode": {
    "name": "ipython",
    "version": 3
   },
   "file_extension": ".py",
   "mimetype": "text/x-python",
   "name": "python",
   "nbconvert_exporter": "python",
   "pygments_lexer": "ipython3",
   "version": "3.12.3"
  }
 },
 "nbformat": 4,
 "nbformat_minor": 2
}
