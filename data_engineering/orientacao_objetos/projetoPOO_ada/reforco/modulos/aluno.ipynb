{
 "cells": [
  {
   "cell_type": "code",
   "execution_count": 17,
   "metadata": {},
   "outputs": [],
   "source": [
    "class Aluno:\n",
    "    # atributo estatico.\n",
    "    # posso utilizar isso para armazenar dados\n",
    "    numero_de_alunos = 0\n",
    "    lista_alunos = []\n",
    "    \n",
    "    def __init__(self, nome, curso) -> None:\n",
    "        self.nome = nome\n",
    "        self.curso = curso\n",
    "        Aluno.numero_de_alunos += 1\n",
    "        Aluno.lista_alunos.append(self)\n",
    "        \n",
    "    def ola(self):\n",
    "        print(f\"O nome do aluno e: {self.nome}\")\n",
    "    \n",
    "    def __repr__(self) -> str:\n",
    "        texto = f'Nome: {self.nome}\\nCurso: {self.curso}'\n",
    "        return texto\n",
    "\n",
    "    @staticmethod\n",
    "    def mostrar_alunos():\n",
    "        for aluno in Aluno.lista_alunos:\n",
    "            print(f'{aluno}\\n-----------------')"
   ]
  },
  {
   "cell_type": "code",
   "execution_count": 18,
   "metadata": {},
   "outputs": [
    {
     "name": "stdout",
     "output_type": "stream",
     "text": [
      "Nome: Rogerio\n",
      "Curso: matematica Nome: Jonathan\n",
      "Curso: ads\n"
     ]
    }
   ],
   "source": [
    "# atencao nessa parte\n",
    "a1 = Aluno('Rogerio', 'matematica')\n",
    "a2 = Aluno('Jonathan', 'ads')\n",
    "\n",
    "print(a1, a2)"
   ]
  },
  {
   "cell_type": "code",
   "execution_count": 19,
   "metadata": {},
   "outputs": [
    {
     "data": {
      "text/plain": [
       "2"
      ]
     },
     "execution_count": 19,
     "metadata": {},
     "output_type": "execute_result"
    }
   ],
   "source": [
    "Aluno.lista_alunos\n",
    "Aluno.numero_de_alunos"
   ]
  },
  {
   "cell_type": "code",
   "execution_count": 20,
   "metadata": {},
   "outputs": [
    {
     "name": "stdout",
     "output_type": "stream",
     "text": [
      "Nome: Rogerio\n",
      "Curso: matematica\n",
      "-----------------\n",
      "Nome: Jonathan\n",
      "Curso: ads\n",
      "-----------------\n"
     ]
    }
   ],
   "source": [
    "Aluno.mostrar_alunos()"
   ]
  },
  {
   "cell_type": "code",
   "execution_count": null,
   "metadata": {},
   "outputs": [],
   "source": [
    "'''\n",
    "class MiClase:\n",
    "    __atributo_estatico = 42\n",
    "\n",
    "    @staticmethod\n",
    "    def obtener_atributo_estatico():\n",
    "        return MiClase.__atributo_estatico\n",
    "'''"
   ]
  }
 ],
 "metadata": {
  "kernelspec": {
   "display_name": ".venv",
   "language": "python",
   "name": "python3"
  },
  "language_info": {
   "codemirror_mode": {
    "name": "ipython",
    "version": 3
   },
   "file_extension": ".py",
   "mimetype": "text/x-python",
   "name": "python",
   "nbconvert_exporter": "python",
   "pygments_lexer": "ipython3",
   "version": "3.12.3"
  }
 },
 "nbformat": 4,
 "nbformat_minor": 2
}
