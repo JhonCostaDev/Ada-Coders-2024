{
 "cells": [
  {
   "cell_type": "markdown",
   "metadata": {},
   "source": [
    "# Aula 4 - Métodos mágicos"
   ]
  },
  {
   "cell_type": "code",
   "execution_count": null,
   "metadata": {},
   "outputs": [],
   "source": []
  },
  {
   "cell_type": "markdown",
   "metadata": {},
   "source": [
    "# Projeto \n",
    "\n",
    "Crie um CRUD!\n",
    "\n",
    "Crie um classe `DataAlgumaCoisa` que permite que o usuário:\n",
    "\n",
    "- **C**reate (crie) dicionários;\n",
    "- **R**ead (leia) essas dicionários;\n",
    "- **U**pdate (atualize) essas dicionários;\n",
    "- **D**elete essas dicionários.\n",
    "\n",
    "Para interagir com esta classe, crie uma interface (também com POO) que permita que o usuário use apenas linhas de comando para utilizar seu `DataAlgumaCoisa`.\n",
    "\n",
    "- Em até 3 pessoas; \n",
    "- Crie o script.py que será enviado para mim, eu apenas executarei e testarei;\n",
    "- Coloque comentários explicando os códigos;\n",
    "- Entrega 09/09/2014\n",
    "- ENTREGA NO !!LMS!!"
   ]
  },
  {
   "cell_type": "code",
   "execution_count": null,
   "metadata": {},
   "outputs": [],
   "source": []
  },
  {
   "cell_type": "code",
   "execution_count": null,
   "metadata": {},
   "outputs": [],
   "source": []
  },
  {
   "cell_type": "markdown",
   "metadata": {},
   "source": [
    "### 4. Crie uma classe `Cliente` cujos atributos são nome, idade e e-mail. Construa um método que imprima as informações tal como abaixo:\n",
    "\n",
    "```\n",
    "Nome: Fulano de Tal\n",
    "Idade: 40\n",
    "E-mail: fulano@mail.com\n",
    "```"
   ]
  },
  {
   "cell_type": "code",
   "execution_count": 68,
   "metadata": {},
   "outputs": [],
   "source": [
    "class Cliente:\n",
    "    def __init__(self, nome:str, idade:int, email:str, altura:int ) -> None:\n",
    "        self._nome = nome\n",
    "        self._idade = idade \n",
    "        self._email = email \n",
    "        self._altura = altura\n",
    "\n",
    "    def __repr__(self) -> None:\n",
    "        texto = f\"Nome: {self._nome} \\nIdade: {self._idade} \\nEmail: {self._email} \\nAltura: {self._altura} metros\"\n",
    "        return texto\n",
    "    \n",
    "    def __len__(self):\n",
    "        return self._altura * self._idade\n",
    "\n",
    "    # GETTERS \n",
    "    @property\n",
    "    def nome(self):\n",
    "        return self._nome\n",
    "    \n",
    "    @property\n",
    "    def idade(self):\n",
    "        return self._idade \n",
    "    \n",
    "    @property\n",
    "    def email(self):\n",
    "        return self._email\n",
    "    \n",
    "    @property\n",
    "    def altura(self):\n",
    "        return self._altura\n",
    "    \n",
    "    # setter\n",
    "    @email.setter\n",
    "    def email(self, novo_email):\n",
    "        # quero impedir que o usuário cadastre outros emails além do gmail\n",
    "        if \"@gmail.com\" not in novo_email:\n",
    "            print(\"Esse email não é aceitável\")\n",
    "        else: \n",
    "            self._email = novo_email\n",
    "\n",
    "    @nome.setter\n",
    "    def nome(self,novo_nome:str) -> None:\n",
    "        if not any(char.isdigit() for char in novo_nome):\n",
    "            self._nome = novo_nome\n",
    "        else:\n",
    "            print(\"Esse não é um nome válido\")"
   ]
  },
  {
   "cell_type": "code",
   "execution_count": 69,
   "metadata": {},
   "outputs": [],
   "source": [
    "c1 = Cliente(nome = \"Rogerio\", idade = 10, email = \"r.otavioms@gmail.com\", altura = 3)"
   ]
  },
  {
   "cell_type": "code",
   "execution_count": 71,
   "metadata": {},
   "outputs": [
    {
     "name": "stdout",
     "output_type": "stream",
     "text": [
      "Nome: Rogerio \n",
      "Idade: 10 \n",
      "Email: r.otavioms@gmail.com \n",
      "Altura: 3 metros\n"
     ]
    }
   ],
   "source": [
    "print(c1)"
   ]
  },
  {
   "cell_type": "code",
   "execution_count": 72,
   "metadata": {},
   "outputs": [],
   "source": [
    "c1.nome = \"show\""
   ]
  },
  {
   "cell_type": "code",
   "execution_count": 73,
   "metadata": {},
   "outputs": [
    {
     "name": "stdout",
     "output_type": "stream",
     "text": [
      "Nome: show \n",
      "Idade: 10 \n",
      "Email: r.otavioms@gmail.com \n",
      "Altura: 3 metros\n"
     ]
    }
   ],
   "source": [
    "print(c1)"
   ]
  },
  {
   "cell_type": "code",
   "execution_count": 74,
   "metadata": {},
   "outputs": [
    {
     "data": {
      "text/plain": [
       "'show'"
      ]
     },
     "execution_count": 74,
     "metadata": {},
     "output_type": "execute_result"
    }
   ],
   "source": [
    "c1.nome"
   ]
  },
  {
   "cell_type": "code",
   "execution_count": 75,
   "metadata": {},
   "outputs": [
    {
     "name": "stdout",
     "output_type": "stream",
     "text": [
      "Nome: show \n",
      "Idade: 10 \n",
      "Email: r.otavioms@gmail.com \n",
      "Altura: 3 metros\n"
     ]
    }
   ],
   "source": [
    "print(c1)"
   ]
  },
  {
   "cell_type": "code",
   "execution_count": 76,
   "metadata": {},
   "outputs": [
    {
     "data": {
      "text/plain": [
       "30"
      ]
     },
     "execution_count": 76,
     "metadata": {},
     "output_type": "execute_result"
    }
   ],
   "source": [
    "len(c1)"
   ]
  },
  {
   "cell_type": "code",
   "execution_count": 25,
   "metadata": {},
   "outputs": [
    {
     "data": {
      "text/plain": [
       "Nome: Rogerio \n",
       "Idade: 23 \n",
       "Email: r.otavioms@gmail.com \n",
       "Altura: 3 metros"
      ]
     },
     "execution_count": 25,
     "metadata": {},
     "output_type": "execute_result"
    }
   ],
   "source": [
    "c1"
   ]
  },
  {
   "cell_type": "code",
   "execution_count": null,
   "metadata": {},
   "outputs": [],
   "source": []
  },
  {
   "cell_type": "code",
   "execution_count": null,
   "metadata": {},
   "outputs": [],
   "source": []
  },
  {
   "cell_type": "markdown",
   "metadata": {},
   "source": [
    "## Métodos mágicos\n",
    "__________\n",
    "\n",
    "Na aula de hoje, vamos explorar os seguintes tópicos em Python:\n",
    "\n",
    "Métodos mágicos.\n",
    "\n",
    "__________"
   ]
  },
  {
   "cell_type": "code",
   "execution_count": null,
   "metadata": {},
   "outputs": [],
   "source": []
  },
  {
   "cell_type": "code",
   "execution_count": 86,
   "metadata": {},
   "outputs": [],
   "source": [
    "class Livro:\n",
    "    def __init__(self, titulo:str, autor:str, paginas:int) -> None:\n",
    "        self.titulo = titulo\n",
    "        self.autor = autor \n",
    "        self.paginas = paginas \n",
    "\n",
    "    ## O que quero ver quando der um print em um objeto livro\n",
    "    def __repr__(self):\n",
    "        return f\"Livro('{self.titulo}', '{self.autor}', '{self.paginas}')\"\n",
    "    \n",
    "    def __str__(self):\n",
    "        return f\"'{self.titulo}', '{self.autor}', '{self.paginas}'\"\n",
    "    \n",
    "    # o que eu quero ver quando fazer um len(livro)\n",
    "    def __len__(self):\n",
    "        return self.paginas\n",
    "    \n"
   ]
  },
  {
   "cell_type": "code",
   "execution_count": 87,
   "metadata": {},
   "outputs": [],
   "source": [
    "l1 = Livro(titulo = \"Autobiografia|Sem mais, Rogério\", autor = \"Rogerio\", paginas = 80)"
   ]
  },
  {
   "cell_type": "code",
   "execution_count": 92,
   "metadata": {},
   "outputs": [
    {
     "name": "stdout",
     "output_type": "stream",
     "text": [
      "'Autobiografia|Sem mais, Rogério', 'Rogerio', '80'\n"
     ]
    }
   ],
   "source": [
    "print(l1)"
   ]
  },
  {
   "cell_type": "code",
   "execution_count": 91,
   "metadata": {},
   "outputs": [
    {
     "data": {
      "text/plain": [
       "Livro('Autobiografia|Sem mais, Rogério', 'Rogerio', '80')"
      ]
     },
     "execution_count": 91,
     "metadata": {},
     "output_type": "execute_result"
    }
   ],
   "source": [
    "l1"
   ]
  },
  {
   "cell_type": "code",
   "execution_count": 93,
   "metadata": {},
   "outputs": [
    {
     "data": {
      "text/plain": [
       "\"'Autobiografia|Sem mais, Rogério', 'Rogerio', '80'\""
      ]
     },
     "execution_count": 93,
     "metadata": {},
     "output_type": "execute_result"
    }
   ],
   "source": [
    "str(l1)"
   ]
  },
  {
   "cell_type": "markdown",
   "metadata": {},
   "source": [
    "### Métodos aritméticos\n",
    "\n",
    "Como o \"+\" é entendido como concatenação entre objetos da classe `str`?\n",
    "\n",
    "Isso se faz através dos __métodos mágicos aritméticos__, que substituem os símbolos aritméticos pelas operações que forem definidas dentro da classe!\n",
    "\n",
    "Temos os seguintes métodos mágicos aritméticos:\n",
    "\n",
    "- \\_\\_add\\__:  soma: +\n",
    "- \\_\\_sub\\__:  subtração: -\n",
    "- \\_\\_mul\\__:  multiplicação: *\n",
    "- \\_\\_truediv\\__:  divisão: /\n",
    "- \\_\\_floordiv\\__:  divisão inteira: //\n",
    "- \\_\\_mod\\__:  resto de divisão: %\n",
    "- \\_\\_pow\\__:  potência: **\n",
    "\n",
    "Vamos, a seguir, definir um método de soma de horas na nossa classe, que vai ser chamado pelo operador aritmético \"+\" (ou seja, será o método `__add__`)"
   ]
  },
  {
   "cell_type": "code",
   "execution_count": 169,
   "metadata": {},
   "outputs": [],
   "source": [
    "class Vetor:\n",
    "    def __init__(self, pos_x : int, pos_y : int) -> None:\n",
    "        self.x = pos_x\n",
    "        self.y = pos_y\n",
    "\n",
    "    def __repr__(self):\n",
    "        representacao = f'<{self.x}, {self.y}>'\n",
    "        return representacao\n",
    "    \n",
    "\n",
    "    # # definindo como o python soma meu Vetor \n",
    "    def __add__(self, other):\n",
    "        novo_x = self.x + other.x \n",
    "        novo_y = self.y + other.y \n",
    "        resultado = Vetor(novo_x, novo_y)\n",
    "        return resultado\n",
    "    \n",
    "    def __sub__(self, other):\n",
    "        novo_x = self.x - other.x \n",
    "        novo_y = self.y - other.y \n",
    "        resultado = Vetor(novo_x, novo_y)\n",
    "        return resultado\n",
    "    \n",
    "    def __getitem__(self, position):\n",
    "        if position == 0 or position == -2:\n",
    "            return self.x \n",
    "        elif position == 1 or position == -1:\n",
    "            return self.y \n",
    "        else:\n",
    "            print(\"O index só pode ser 0/-2  ou 1/-1\")\n",
    "\n",
    "    def __eq__(self, other):\n",
    "        if(self.x == other.x and self.y == other.y):\n",
    "            return True\n",
    "        return False\n",
    "    \n",
    "    # # aqui sou eu que mando, eu que crio minhas regras \n",
    "    def __gt__(self, other): # greater than \n",
    "        if (self.x > other.x and self.y > other.y):\n",
    "            return True\n",
    "        return False\n",
    "    \n"
   ]
  },
  {
   "cell_type": "code",
   "execution_count": 172,
   "metadata": {},
   "outputs": [],
   "source": [
    "vec_1 = Vetor(7,6)\n",
    "vec_2 = Vetor(4,5)\n",
    "vec_3 = Vetor(1,1)\n",
    "vec_4 = Vetor(1,2)"
   ]
  },
  {
   "cell_type": "code",
   "execution_count": 173,
   "metadata": {},
   "outputs": [
    {
     "data": {
      "text/plain": [
       "True"
      ]
     },
     "execution_count": 173,
     "metadata": {},
     "output_type": "execute_result"
    }
   ],
   "source": [
    "vec_1 > vec_2"
   ]
  },
  {
   "cell_type": "code",
   "execution_count": 158,
   "metadata": {},
   "outputs": [
    {
     "name": "stdout",
     "output_type": "stream",
     "text": [
      "<4, 5>\n"
     ]
    }
   ],
   "source": [
    "print(vec_2)"
   ]
  },
  {
   "cell_type": "code",
   "execution_count": 159,
   "metadata": {},
   "outputs": [
    {
     "data": {
      "text/plain": [
       "7"
      ]
     },
     "execution_count": 159,
     "metadata": {},
     "output_type": "execute_result"
    }
   ],
   "source": [
    "vec_1[0] # -> 7"
   ]
  },
  {
   "cell_type": "code",
   "execution_count": 160,
   "metadata": {},
   "outputs": [
    {
     "name": "stdout",
     "output_type": "stream",
     "text": [
      "O index só pode ser 0/-2  ou 1/-1\n"
     ]
    }
   ],
   "source": [
    "vec_1[7]"
   ]
  },
  {
   "cell_type": "code",
   "execution_count": 154,
   "metadata": {},
   "outputs": [
    {
     "ename": "IndexError",
     "evalue": "list index out of range",
     "output_type": "error",
     "traceback": [
      "\u001b[1;31m---------------------------------------------------------------------------\u001b[0m",
      "\u001b[1;31mIndexError\u001b[0m                                Traceback (most recent call last)",
      "Input \u001b[1;32mIn [154]\u001b[0m, in \u001b[0;36m<cell line: 3>\u001b[1;34m()\u001b[0m\n\u001b[0;32m      1\u001b[0m lista_1 \u001b[38;5;241m=\u001b[39m [\u001b[38;5;124m\"\u001b[39m\u001b[38;5;124ma\u001b[39m\u001b[38;5;124m\"\u001b[39m,\u001b[38;5;124m\"\u001b[39m\u001b[38;5;124mb\u001b[39m\u001b[38;5;124m\"\u001b[39m, \u001b[38;5;124m\"\u001b[39m\u001b[38;5;124mc\u001b[39m\u001b[38;5;124m\"\u001b[39m]\n\u001b[1;32m----> 3\u001b[0m \u001b[43mlista_1\u001b[49m\u001b[43m[\u001b[49m\u001b[38;5;241;43m3\u001b[39;49m\u001b[43m]\u001b[49m\n",
      "\u001b[1;31mIndexError\u001b[0m: list index out of range"
     ]
    }
   ],
   "source": [
    "lista_1 = [\"a\",\"b\", \"c\"]\n",
    "\n",
    "lista_1[3]"
   ]
  },
  {
   "cell_type": "code",
   "execution_count": 127,
   "metadata": {},
   "outputs": [
    {
     "name": "stdout",
     "output_type": "stream",
     "text": [
      "<3, 4>\n",
      "tipo =  <class '__main__.Vetor'>\n"
     ]
    }
   ],
   "source": [
    "v = vec_1 - vec_2\n",
    "print(v)\n",
    "print(\"tipo = \", type(v))"
   ]
  },
  {
   "cell_type": "code",
   "execution_count": 120,
   "metadata": {},
   "outputs": [
    {
     "data": {
      "text/plain": [
       "<12, 15>"
      ]
     },
     "execution_count": 120,
     "metadata": {},
     "output_type": "execute_result"
    }
   ],
   "source": [
    "v + vec_3"
   ]
  },
  {
   "cell_type": "code",
   "execution_count": 74,
   "metadata": {},
   "outputs": [
    {
     "data": {
      "text/plain": [
       "2"
      ]
     },
     "execution_count": 74,
     "metadata": {},
     "output_type": "execute_result"
    }
   ],
   "source": [
    "vec_1[1]"
   ]
  },
  {
   "cell_type": "code",
   "execution_count": 65,
   "metadata": {},
   "outputs": [
    {
     "data": {
      "text/plain": [
       ">5, 7<"
      ]
     },
     "execution_count": 65,
     "metadata": {},
     "output_type": "execute_result"
    }
   ],
   "source": [
    "resultado = vec_1 + vec_2 #-> (5, 7)\n",
    "resultado"
   ]
  },
  {
   "cell_type": "code",
   "execution_count": 66,
   "metadata": {},
   "outputs": [
    {
     "data": {
      "text/plain": [
       "__main__.Vetor"
      ]
     },
     "execution_count": 66,
     "metadata": {},
     "output_type": "execute_result"
    }
   ],
   "source": [
    "type(resultado)"
   ]
  },
  {
   "cell_type": "code",
   "execution_count": 47,
   "metadata": {},
   "outputs": [
    {
     "data": {
      "text/plain": [
       "__main__.Vetor"
      ]
     },
     "execution_count": 47,
     "metadata": {},
     "output_type": "execute_result"
    }
   ],
   "source": [
    "type(vec_2)"
   ]
  },
  {
   "cell_type": "code",
   "execution_count": null,
   "metadata": {},
   "outputs": [],
   "source": []
  },
  {
   "cell_type": "markdown",
   "metadata": {},
   "source": [
    "### Métodos mágicos lógicos\n",
    "\n",
    "Da mesma forma que há metódos mágicos para operações aritméticas, há também para **operações lógicas!**\n",
    "\n",
    "Naturalmente, estes métodos retornaram True ou False.\n",
    "\n",
    "Os métodos lógicos são:\n",
    "\n",
    "- \\_\\_gt\\__: maior que (greater than): >\n",
    "- \\_\\_ge\\__: maior ou igual (greater or equal): >=\n",
    "- \\_\\_lt\\__: menor que (less than): <\n",
    "- \\_\\_le\\__: menor ou igual (less or equal): <=\n",
    "- \\_\\_eq\\__: igual (equal): ==\n",
    "- \\_\\_ne\\__: diferente (not equal): !=\n",
    "\n",
    "\n",
    "Como fazer um método para comparar dois horários?\n"
   ]
  },
  {
   "cell_type": "code",
   "execution_count": null,
   "metadata": {},
   "outputs": [],
   "source": []
  },
  {
   "cell_type": "markdown",
   "metadata": {},
   "source": [
    "## Exercícios\n",
    "\n",
    "1) Faça a classe Fração. Implemente todas as operações com frações utilizando métodos mágicos. Você também deve implementar todas as comparações entre frações usando os métodos mágicos"
   ]
  },
  {
   "cell_type": "code",
   "execution_count": 180,
   "metadata": {},
   "outputs": [
    {
     "data": {
      "text/plain": [
       "1.0"
      ]
     },
     "execution_count": 180,
     "metadata": {},
     "output_type": "execute_result"
    }
   ],
   "source": [
    "(1 /2 ) + ( 1/2)  # ->  2 / 2 = 1 \n"
   ]
  },
  {
   "cell_type": "code",
   "execution_count": 285,
   "metadata": {},
   "outputs": [],
   "source": [
    "class Fracao:\n",
    "    def __init__(self, numerador:int, denominador:int) -> None:\n",
    "        if denominador == 0:\n",
    "            raise ValueError(\"O denominador não pode ser 0\")\n",
    "        \n",
    "        self.numerador = numerador \n",
    "        self.denominador = denominador \n",
    "\n",
    "    def __repr__(self):\n",
    "        numerador_str = str(self.numerador)\n",
    "        denominador_str = str(self.denominador)\n",
    "\n",
    "        t_numerador_str = len(numerador_str)\n",
    "        t_denominador_str = len(denominador_str)\n",
    "\n",
    "        if t_numerador_str > t_denominador_str:\n",
    "            tamanho_da_barra = t_numerador_str\n",
    "        else: \n",
    "            tamanho_da_barra = t_denominador_str\n",
    "\n",
    "        barra = \"-\" * tamanho_da_barra\n",
    "        fracao_str = f\"{numerador_str} \\n{barra}\\n{denominador_str}\"\n",
    "        return fracao_str\n",
    "    \n",
    "    # definir a soma da fracao\n",
    "    def __add__(self, other):\n",
    "        soma_numerador = self.numerador * other.denominador + other.numerador * self.denominador \n",
    "        soma_denominador = self.denominador * other.denominador \n",
    "        return Fracao(soma_numerador, soma_denominador)\n",
    "\n",
    "    def __sub__(self, other):\n",
    "        sub_numerador = self.numerador * other.denominador - other.numerador * self.denominador \n",
    "        sub_denominador = self.denominador * other.denominador \n",
    "        return Fracao(sub_numerador, sub_denominador)\n",
    "    \n",
    "    def __mul__(self, other):\n",
    "        mul_numerador = self.numerador * other.numerador \n",
    "        mul_denominador = self.denominador * other.denominador \n",
    "        return Fracao(mul_numerador, mul_denominador)\n",
    "    \n",
    "    def __truediv__(self, other):\n",
    "        return Fracao(self.numerador, self.denominador) * Fracao(other.denominador, other.numerador)\n",
    "\n",
    "\n",
    "    def valor_real(self):\n",
    "        return self.numerador / self.denominador\n",
    "\n",
    "    def __float__(self):\n",
    "        return self.numerador / self.denominador\n",
    "    \n",
    "    def __int__(self):\n",
    "        return self.numerador // self.denominador\n",
    "    \n",
    "    def __gt__(self, other):\n",
    "        # novo_self_numerador = self.numerador * other.denominador \n",
    "        # novo_other_numerador = other.numerador * self.denominador \n",
    "        # return novo_self_numerador > novo_other_numerador\n",
    "        return self.valor_real() > other.valor_real()\n",
    "    \n",
    "    def __ge__(self, other):\n",
    "        # novo_self_numerador = self.numerador * other.denominador \n",
    "        # novo_other_numerador = other.numerador * self.denominador \n",
    "        # return novo_self_numerador > novo_other_numerador\n",
    "        return self.valor_real() >= other.valor_real()\n",
    "    \n",
    "    def __lt__(self, other):\n",
    "        return self.valor_real() < other.valor_real()\n",
    "\n",
    "    def __le__(self, other):\n",
    "        return self.valor_real() <= other.valor_real()\n",
    "\n",
    "    def __eq__(self, other):\n",
    "        return self.valor_real() == other.valor_real()\n",
    "\n",
    "    def __neq__(self, other):\n",
    "        return self.valor_real() != other.valor_real()\n"
   ]
  },
  {
   "cell_type": "markdown",
   "metadata": {},
   "source": [
    "# DEVER DE CASA \n",
    "\n",
    "## Crie o método de simplificação de frações "
   ]
  },
  {
   "cell_type": "code",
   "execution_count": 286,
   "metadata": {},
   "outputs": [],
   "source": [
    "f1 = Fracao(1,2)\n",
    "f2 = Fracao(3,4)"
   ]
  },
  {
   "cell_type": "code",
   "execution_count": 290,
   "metadata": {},
   "outputs": [
    {
     "data": {
      "text/plain": [
       "True"
      ]
     },
     "execution_count": 290,
     "metadata": {},
     "output_type": "execute_result"
    }
   ],
   "source": [
    "f1 <= f2"
   ]
  },
  {
   "cell_type": "code",
   "execution_count": 292,
   "metadata": {},
   "outputs": [
    {
     "data": {
      "text/plain": [
       "10 \n",
       "--\n",
       "8"
      ]
     },
     "execution_count": 292,
     "metadata": {},
     "output_type": "execute_result"
    }
   ],
   "source": [
    "f1 + f2 # -> (4 + 6) / (8) = 10 / 8"
   ]
  },
  {
   "cell_type": "code",
   "execution_count": 278,
   "metadata": {},
   "outputs": [
    {
     "data": {
      "text/plain": [
       "-2 \n",
       "--\n",
       "8"
      ]
     },
     "execution_count": 278,
     "metadata": {},
     "output_type": "execute_result"
    }
   ],
   "source": [
    "f1 - f2"
   ]
  },
  {
   "cell_type": "code",
   "execution_count": 279,
   "metadata": {},
   "outputs": [
    {
     "data": {
      "text/plain": [
       "3 \n",
       "-\n",
       "8"
      ]
     },
     "execution_count": 279,
     "metadata": {},
     "output_type": "execute_result"
    }
   ],
   "source": [
    "f1 * f2"
   ]
  },
  {
   "cell_type": "code",
   "execution_count": 280,
   "metadata": {},
   "outputs": [
    {
     "data": {
      "text/plain": [
       "4 \n",
       "-\n",
       "6"
      ]
     },
     "execution_count": 280,
     "metadata": {},
     "output_type": "execute_result"
    }
   ],
   "source": [
    "f1 / f2 "
   ]
  },
  {
   "cell_type": "code",
   "execution_count": 281,
   "metadata": {},
   "outputs": [
    {
     "data": {
      "text/plain": [
       "0.5"
      ]
     },
     "execution_count": 281,
     "metadata": {},
     "output_type": "execute_result"
    }
   ],
   "source": [
    "f1.valor_real()"
   ]
  },
  {
   "cell_type": "code",
   "execution_count": 282,
   "metadata": {},
   "outputs": [
    {
     "data": {
      "text/plain": [
       "0.5"
      ]
     },
     "execution_count": 282,
     "metadata": {},
     "output_type": "execute_result"
    }
   ],
   "source": [
    "float(f1)"
   ]
  },
  {
   "cell_type": "code",
   "execution_count": 283,
   "metadata": {},
   "outputs": [
    {
     "data": {
      "text/plain": [
       "2"
      ]
     },
     "execution_count": 283,
     "metadata": {},
     "output_type": "execute_result"
    }
   ],
   "source": [
    "int(Fracao(4, 2))"
   ]
  },
  {
   "cell_type": "code",
   "execution_count": 284,
   "metadata": {},
   "outputs": [
    {
     "data": {
      "text/plain": [
       "False"
      ]
     },
     "execution_count": 284,
     "metadata": {},
     "output_type": "execute_result"
    }
   ],
   "source": [
    "f1 > f2"
   ]
  },
  {
   "cell_type": "code",
   "execution_count": null,
   "metadata": {},
   "outputs": [],
   "source": []
  },
  {
   "cell_type": "markdown",
   "metadata": {},
   "source": [
    "2) Crie uma classe Data cujos atributos são dia, mês e ano. \n",
    "\n",
    "Implemente métodos `__repr__` e para comparação: igualdade (==) e desigualdades (!=, <=, >=, < e >).\n",
    "\n",
    "Caso faça sentido, implemente métodos aritméticos também"
   ]
  },
  {
   "cell_type": "code",
   "execution_count": null,
   "metadata": {},
   "outputs": [],
   "source": []
  },
  {
   "cell_type": "code",
   "execution_count": null,
   "metadata": {},
   "outputs": [],
   "source": []
  },
  {
   "cell_type": "code",
   "execution_count": null,
   "metadata": {},
   "outputs": [],
   "source": []
  },
  {
   "cell_type": "code",
   "execution_count": null,
   "metadata": {},
   "outputs": [],
   "source": []
  }
 ],
 "metadata": {
  "kernelspec": {
   "display_name": "base",
   "language": "python",
   "name": "python3"
  },
  "language_info": {
   "codemirror_mode": {
    "name": "ipython",
    "version": 3
   },
   "file_extension": ".py",
   "mimetype": "text/x-python",
   "name": "python",
   "nbconvert_exporter": "python",
   "pygments_lexer": "ipython3",
   "version": "3.9.12"
  }
 },
 "nbformat": 4,
 "nbformat_minor": 2
}
