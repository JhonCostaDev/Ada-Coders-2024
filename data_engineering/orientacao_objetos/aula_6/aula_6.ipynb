{
 "cells": [
  {
   "cell_type": "markdown",
   "metadata": {},
   "source": [
    "* Fazer o desafio final com  json, txt, csv\n",
    "* estudar banco de dados\n",
    "* sqlite\n",
    "\n",
    "fazer o cod rodar o arquivo .py\n",
    "\n"
   ]
  },
  {
   "cell_type": "code",
   "execution_count": 1,
   "metadata": {},
   "outputs": [
    {
     "ename": "ModuleNotFoundError",
     "evalue": "No module named 'tabulate'",
     "output_type": "error",
     "traceback": [
      "\u001b[0;31m---------------------------------------------------------------------------\u001b[0m",
      "\u001b[0;31mModuleNotFoundError\u001b[0m                       Traceback (most recent call last)",
      "Cell \u001b[0;32mIn[1], line 1\u001b[0m\n\u001b[0;32m----> 1\u001b[0m \u001b[38;5;28;01mfrom\u001b[39;00m \u001b[38;5;21;01mtabulate\u001b[39;00m \u001b[38;5;28;01mimport\u001b[39;00m tabulate\n\u001b[1;32m      3\u001b[0m \u001b[38;5;66;03m# Dados da tabela\u001b[39;00m\n\u001b[1;32m      4\u001b[0m dados \u001b[38;5;241m=\u001b[39m [\n\u001b[1;32m      5\u001b[0m     [\u001b[38;5;124m\"\u001b[39m\u001b[38;5;124mNome\u001b[39m\u001b[38;5;124m\"\u001b[39m, \u001b[38;5;124m\"\u001b[39m\u001b[38;5;124mIdade\u001b[39m\u001b[38;5;124m\"\u001b[39m, \u001b[38;5;124m\"\u001b[39m\u001b[38;5;124mProfissão\u001b[39m\u001b[38;5;124m\"\u001b[39m],\n\u001b[1;32m      6\u001b[0m     [\u001b[38;5;124m\"\u001b[39m\u001b[38;5;124mJoão\u001b[39m\u001b[38;5;124m\"\u001b[39m, \u001b[38;5;241m25\u001b[39m, \u001b[38;5;124m\"\u001b[39m\u001b[38;5;124mEngenheiro\u001b[39m\u001b[38;5;124m\"\u001b[39m],\n\u001b[1;32m      7\u001b[0m     [\u001b[38;5;124m\"\u001b[39m\u001b[38;5;124mMaria\u001b[39m\u001b[38;5;124m\"\u001b[39m, \u001b[38;5;241m30\u001b[39m, \u001b[38;5;124m\"\u001b[39m\u001b[38;5;124mAdvogada\u001b[39m\u001b[38;5;124m\"\u001b[39m],\n\u001b[1;32m      8\u001b[0m     [\u001b[38;5;124m\"\u001b[39m\u001b[38;5;124mCarlos\u001b[39m\u001b[38;5;124m\"\u001b[39m, \u001b[38;5;241m22\u001b[39m, \u001b[38;5;124m\"\u001b[39m\u001b[38;5;124mEstudante\u001b[39m\u001b[38;5;124m\"\u001b[39m]\n\u001b[1;32m      9\u001b[0m ]\n",
      "\u001b[0;31mModuleNotFoundError\u001b[0m: No module named 'tabulate'"
     ]
    }
   ],
   "source": [
    "from tabulate import tabulate #não é nativo (built-in)\n",
    "\n",
    "# Dados da tabela\n",
    "dados = [\n",
    "    [\"Nome\", \"Idade\", \"Profissão\"],\n",
    "    [\"João\", 25, \"Engenheiro\"],\n",
    "    [\"Maria\", 30, \"Advogada\"],\n",
    "    [\"Carlos\", 22, \"Estudante\"]\n",
    "]\n",
    "\n",
    "# Formatar a tabela\n",
    "tabela = tabulate(dados, headers=\"firstrow\", tablefmt=\"grid\")\n",
    "\n",
    "# Imprimir a tabela\n",
    "print(tabela)"
   ]
  },
  {
   "cell_type": "markdown",
   "metadata": {},
   "source": [
    "Aula - Métodos mágicos"
   ]
  },
  {
   "cell_type": "code",
   "execution_count": null,
   "metadata": {},
   "outputs": [],
   "source": [
    "class Cliente:\n",
    "    def __init__(self, nome:str, idade:int, email:str, altura:float, peso:float) -> None:\n",
    "        self._nome = nome\n",
    "        self._idade = idade\n",
    "        self._email = email\n",
    "        self._altura = altura\n",
    "        self._peso = peso\n",
    "        \n",
    "    def __len__(self): #louco\n",
    "        return self._altura * self._idade\n",
    "        \n",
    "    def __repr__(self) -> str:\n",
    "        pass"
   ]
  },
  {
   "cell_type": "markdown",
   "metadata": {},
   "source": [
    "# Métodos mágicos"
   ]
  },
  {
   "cell_type": "code",
   "execution_count": null,
   "metadata": {},
   "outputs": [],
   "source": [
    "# métodos mágicos aritimétios\n",
    "\n",
    "# indexar \n",
    "# igualdade\n",
    "\n",
    "# Pesquisar Júlia Lang\n"
   ]
  },
  {
   "cell_type": "markdown",
   "metadata": {},
   "source": [
    "métodos mágicos\n",
    "https://rszalski.github.io/magicmethods/\n",
    "\n",
    "### fracoes\n",
    "https://www.todamateria.com.br/adicao-e-subtracao-de-fracoes/\n",
    "\n",
    "### Curso python english\n",
    "https://realpython.com/lessons/get-started-django-overview/\n",
    "\n",
    "### qual sera meu projeto\n",
    "* Lista supermercado\n",
    "* Banco de dados de produtos\n",
    "* Locadora filmes\n",
    "\n"
   ]
  },
  {
   "cell_type": "code",
   "execution_count": 21,
   "metadata": {},
   "outputs": [],
   "source": [
    "# Classe fracao\n",
    "\n",
    "class Fracao:\n",
    "    def __init__(self, numerador:int, denominador:int) -> None:\n",
    "        if denominador == 0:\n",
    "            raise ValueError('O denominador não pode ser zero.')\n",
    "        \n",
    "        self.numerador = numerador\n",
    "        self.denominador = denominador\n",
    "    \n",
    "    # definir soma da fracao   \n",
    "    def __add__(self, other):\n",
    "        soma_numerador = self.numerador * other.denominador + other.numerador * self.denominador\n",
    "        #soma_denominador = \n",
    "    #TODO: implementar esse método\n",
    "    \n",
    "    def __repr__(self) -> str:\n",
    "        numerador_str = str(self.numerador)\n",
    "        denominador_str = str(self.denominador)\n",
    "        \n",
    "        if len(numerador_str) > len(denominador_str):\n",
    "            tamanho_barra = len(numerador_str)\n",
    "        else:\n",
    "            tamanho_barra = len(denominador_str)\n",
    "        \n",
    "        barra = '-' * tamanho_barra\n",
    "        fracao_str = f'{numerador_str}\\n{barra}\\n{denominador_str}'\n",
    "        return fracao_str\n",
    "        \n",
    "        \n"
   ]
  },
  {
   "cell_type": "code",
   "execution_count": 23,
   "metadata": {},
   "outputs": [
    {
     "data": {
      "text/plain": [
       "100\n",
       "----\n",
       "2000"
      ]
     },
     "execution_count": 23,
     "metadata": {},
     "output_type": "execute_result"
    }
   ],
   "source": [
    "f1 = Fracao(100, 2000)\n",
    "f1"
   ]
  },
  {
   "cell_type": "code",
   "execution_count": 4,
   "metadata": {},
   "outputs": [],
   "source": [
    "# Classe Livro\n",
    "class Livro:\n",
    "    def __init__(self,titulo: str, autor: str, paginas: int) -> None:\n",
    "        \n",
    "        self._titulo = titulo\n",
    "        self._autor = autor\n",
    "        self._paginas = paginas\n",
    "        \n",
    "    # Aqui definirei um método que retornará o números de páginas do objeto quando o usuário executar a função len()\n",
    "    def __len__(self):\n",
    "        return self._paginas \n",
    "        \n",
    "    # Aqui definirei um método que exibirá um resumo da do objeto quanto o usuário der um print()\n",
    "    def __repr__(self) -> str:\n",
    "        return f'''\n",
    "    Livro: {self._titulo}\n",
    "    Autor: {self._autor}\n",
    "    Número de páginas: {self._paginas}\n",
    "    '''"
   ]
  },
  {
   "cell_type": "code",
   "execution_count": 5,
   "metadata": {},
   "outputs": [
    {
     "data": {
      "text/plain": [
       "355"
      ]
     },
     "execution_count": 5,
     "metadata": {},
     "output_type": "execute_result"
    }
   ],
   "source": [
    "l1 = Livro('pense em python', 'Allen B. Downey', 355)\n",
    "len(l1)"
   ]
  },
  {
   "cell_type": "markdown",
   "metadata": {},
   "source": [
    "## Métodos aritméticos\n",
    "\n",
    "\n",
    "Como o python entende que quando fazemos uma operação com o sinal de \"+\"  entre objetos da classe `str`, ele os concatena?\n",
    "\n",
    "Isso se faz através dos **métodos mágicos aritméticos**, que substituem os símbolos aritméticos pelas operações que forem definidas dentro da classe, assim podemos fazer operações personalizadas.\n",
    "\n",
    "Temos os seguintes métodos mágicos aritméticos:\n",
    "\n",
    "- \\_\\_add\\__:  soma: +\n",
    "- \\_\\_sub\\__:  subtração: -\n",
    "- \\_\\_mul\\__:  multiplicação: *\n",
    "- \\_\\_truediv\\__:  divisão: /\n",
    "- \\_\\_floordiv\\__:  divisão inteira: //\n",
    "- \\_\\_mod\\__:  resto de divisão: %\n",
    "- \\_\\_pow\\__:  potência: **\n",
    "\n",
    "Vamos, a seguir, definir um método de soma de horas na nossa classe, que vai ser chamado pelo operador aritmético \"+\" (ou seja, será o método `__add__`)\n"
   ]
  },
  {
   "cell_type": "code",
   "execution_count": 25,
   "metadata": {},
   "outputs": [],
   "source": [
    "# TODO: repensar essa classe\n",
    "class Tempo:\n",
    "    def __init__(self, hora:str) -> None:\n",
    "        self._hora = hora\n",
    "        self._segundos = self.horas_para_segundos()\n",
    "    \n",
    "        \n",
    "    def horas_para_segundos(self) -> int:\n",
    "        horas, minutos, segundos = map(int, self._hora.split(\":\"))\n",
    "        return horas * 3600 + minutos * 60 + segundos\n",
    "\n",
    "    def segundos_para_horas(segundos_a_converter:int) -> str:\n",
    "        horas = segundos_a_converter // 3600\n",
    "        minutos = (segundos_a_converter % 3600) // 60\n",
    "        segundos = segundos_a_converter % 60\n",
    "        return f\"{horas}:{minutos}:{segundos}\"    \n",
    "    \n",
    "    def soma_horas(self, tempo):\n",
    "        segundos_1 = self.horas_para_segundos(self._hora)\n",
    "        segundos_2 = self.horas_para_segundos(tempo)\n",
    "    \n",
    "        soma_segundos = segundos_1 + segundos_2\n",
    "        return self.segundos_para_horas(soma_segundos)"
   ]
  },
  {
   "cell_type": "code",
   "execution_count": 26,
   "metadata": {},
   "outputs": [
    {
     "data": {
      "text/plain": [
       "55674"
      ]
     },
     "execution_count": 26,
     "metadata": {},
     "output_type": "execute_result"
    }
   ],
   "source": [
    "# testando\n",
    "# eu saí de casa exatamente as 15:27:54, caminhei por 48 minutos e 19 segundos, que horas eu voltei para casa\n",
    "\n",
    "saida = '15:27:54'\n",
    "tempo = '00:48:19'\n",
    "\n",
    "calcula = Tempo(saida)\n",
    "calcula._segundos\n"
   ]
  },
  {
   "cell_type": "code",
   "execution_count": 27,
   "metadata": {},
   "outputs": [],
   "source": [
    "# Replica da Classe Vetor passada em aula\n",
    "\n",
    "class Vetor:\n",
    "    def __init__(self, posicao_x:int, posicao_y:int) -> None:\n",
    "        self.posicao_x = posicao_x\n",
    "        self.posicao_y = posicao_y\n",
    "        \n",
    "    def __repr__(self) -> str:\n",
    "        representacao = f'< {self.posicao_x}, {self.posicao_y} >'\n",
    "        return representacao\n",
    "    \n",
    "    \n",
    "        \n",
    "    # Definindo como o python deve fazer as operações básicas\n",
    "    def __add__(self, other):\n",
    "        soma_x = self.posicao_x + other.posicao_x\n",
    "        soma_y = self.posicao_y + other.posicao_y\n",
    "        \n",
    "        # Para determinar o tipo do retorno, colocamos o retultado dentro de um Vetor\n",
    "        resultado = Vetor(soma_x, soma_y)\n",
    "        return resultado\n",
    "    \n",
    "    def __sub__(self, other):\n",
    "        sub_x = self.posicao_x - other.posicao_x\n",
    "        sub_y = self.posicao_y - other.posicao_y\n",
    "        \n",
    "        resultado = Vetor(sub_x, sub_y)\n",
    "        return resultado\n",
    "    \n",
    "    def __mul__(self, other):\n",
    "        mul_x = self.posicao_x * other.posicao_x\n",
    "        mul_y = self.posicao_y * other.posicao_y\n",
    "        resultado = Vetor(mul_x, mul_y)\n",
    "        return resultado\n",
    "    \n",
    "    def __truediv__(self, other):\n",
    "        div_x = self.posicao_x / other.posicao_x\n",
    "        div_y = self.posicao_y / other.posicao_y \n",
    "        resultado = Vetor(div_x, div_y)\n",
    "        return resultado \n",
    "          \n",
    "    # Método para comparação de vetores\n",
    "    \n",
    "    def __gt__(self, other):\n",
    "        if self.posicao_x > other.posicao_x and self.posicao_y > other.posicao_y:\n",
    "            return True\n",
    "        return False\n",
    "    \n",
    "    def __eq__(self, other) -> bool:\n",
    "        if self.posicao_x == other.posicao_x and self.posicao_y == other.posicao_y:\n",
    "            return True\n",
    "        return False\n",
    "    \n",
    "    # indices\n",
    "    def __getitem__(self, position):\n",
    "        if position == 0 or position == -2:\n",
    "            return self.posicao_x\n",
    "        elif position == 1 or position == -1:\n",
    "            return self.posicao_y\n",
    "        else:\n",
    "            return 'Out index'\n",
    "    \n",
    "    \n",
    "    "
   ]
  },
  {
   "cell_type": "code",
   "execution_count": 31,
   "metadata": {},
   "outputs": [
    {
     "data": {
      "text/plain": [
       "'Out index'"
      ]
     },
     "execution_count": 31,
     "metadata": {},
     "output_type": "execute_result"
    }
   ],
   "source": [
    "meu_vetor = Vetor(2, 5)\n",
    "outro_vetor = Vetor(3, 7)\n",
    "type(meu_vetor)         # Retorna o tipo\n",
    "meu_vetor + outro_vetor # a soma dos dois vetores\n",
    "\n",
    "# comparação\n",
    "meu_vetor > outro_vetor # Greater than\n",
    "#meu_vetor == outro_vetor \n",
    "\n",
    "meu_vetor[3]"
   ]
  },
  {
   "cell_type": "markdown",
   "metadata": {},
   "source": [
    "### Métodos mágicos lógicos\n",
    "\n",
    "Da mesma forma que há metódos mágicos para operações aritméticas, há também para **operações lógicas!**\n",
    "\n",
    "Naturalmente, estes métodos retornaram True ou False.\n",
    "\n",
    "Os métodos lógicos são:\n",
    "\n",
    "- \\_\\_gt\\__: maior que (greater than): >\n",
    "- \\_\\_ge\\__: maior ou igual (greater or equal): >=\n",
    "- \\_\\_lt\\__: menor que (less than): <\n",
    "- \\_\\_le\\__: menor ou igual (less or equal): <=\n",
    "- \\_\\_eq\\__: igual (equal): ==\n",
    "- \\_\\_ne\\__: diferente (not equal): !=\n",
    "\n",
    "\n",
    "Como fazer um método para comparar dois horários?\n",
    "\n",
    "\n"
   ]
  },
  {
   "cell_type": "markdown",
   "metadata": {},
   "source": [
    "## Exercícios\n",
    "\n",
    "1) Faça a classe Fração. Implemente todas as operações com frações utilizando métodos mágicos. Você também deve implementar todas as comparações entre frações usando os métodos mágicos"
   ]
  },
  {
   "cell_type": "code",
   "execution_count": 48,
   "metadata": {},
   "outputs": [],
   "source": [
    "class Fracao:\n",
    "    def __init__(self, numerador:int, denominador:int) -> None:\n",
    "        self.numerador = numerador\n",
    "        self.denominador = denominador\n",
    "        \n",
    "    def __add__(self, other):\n",
    "        if self.denominador == other.denominador:\n",
    "            s = self.numerador + other.numerador\n",
    "            resultado = Fracao(s, self.denominador)\n",
    "            return resultado\n",
    "    def __repr__(self) -> str:\n",
    "        return f'{self.numerador}\\n--\\n{self.denominador}'\n",
    "        \n",
    "    "
   ]
  },
  {
   "cell_type": "code",
   "execution_count": 49,
   "metadata": {},
   "outputs": [
    {
     "data": {
      "text/plain": [
       "7\n",
       "--\n",
       "9"
      ]
     },
     "execution_count": 49,
     "metadata": {},
     "output_type": "execute_result"
    }
   ],
   "source": [
    "f1 = Fracao(5, 9)\n",
    "f2 = Fracao(2, 9)\n",
    "f1 + f2"
   ]
  }
 ],
 "metadata": {
  "kernelspec": {
   "display_name": ".venv",
   "language": "python",
   "name": "python3"
  },
  "language_info": {
   "codemirror_mode": {
    "name": "ipython",
    "version": 3
   },
   "file_extension": ".py",
   "mimetype": "text/x-python",
   "name": "python",
   "nbconvert_exporter": "python",
   "pygments_lexer": "ipython3",
   "version": "3.12.3"
  }
 },
 "nbformat": 4,
 "nbformat_minor": 2
}
