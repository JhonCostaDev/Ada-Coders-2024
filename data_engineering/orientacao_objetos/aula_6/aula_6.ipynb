{
 "cells": [
  {
   "cell_type": "markdown",
   "metadata": {},
   "source": [
    "* Fazer o desafio final com  json, txt, csv\n",
    "* estudar banco de dados\n",
    "* sqlite\n",
    "\n",
    "fazer o cod rodar o arquivo .py\n",
    "\n"
   ]
  },
  {
   "cell_type": "code",
   "execution_count": 1,
   "metadata": {},
   "outputs": [
    {
     "ename": "ModuleNotFoundError",
     "evalue": "No module named 'tabulate'",
     "output_type": "error",
     "traceback": [
      "\u001b[0;31m---------------------------------------------------------------------------\u001b[0m",
      "\u001b[0;31mModuleNotFoundError\u001b[0m                       Traceback (most recent call last)",
      "Cell \u001b[0;32mIn[1], line 1\u001b[0m\n\u001b[0;32m----> 1\u001b[0m \u001b[38;5;28;01mfrom\u001b[39;00m \u001b[38;5;21;01mtabulate\u001b[39;00m \u001b[38;5;28;01mimport\u001b[39;00m tabulate\n\u001b[1;32m      3\u001b[0m \u001b[38;5;66;03m# Dados da tabela\u001b[39;00m\n\u001b[1;32m      4\u001b[0m dados \u001b[38;5;241m=\u001b[39m [\n\u001b[1;32m      5\u001b[0m     [\u001b[38;5;124m\"\u001b[39m\u001b[38;5;124mNome\u001b[39m\u001b[38;5;124m\"\u001b[39m, \u001b[38;5;124m\"\u001b[39m\u001b[38;5;124mIdade\u001b[39m\u001b[38;5;124m\"\u001b[39m, \u001b[38;5;124m\"\u001b[39m\u001b[38;5;124mProfissão\u001b[39m\u001b[38;5;124m\"\u001b[39m],\n\u001b[1;32m      6\u001b[0m     [\u001b[38;5;124m\"\u001b[39m\u001b[38;5;124mJoão\u001b[39m\u001b[38;5;124m\"\u001b[39m, \u001b[38;5;241m25\u001b[39m, \u001b[38;5;124m\"\u001b[39m\u001b[38;5;124mEngenheiro\u001b[39m\u001b[38;5;124m\"\u001b[39m],\n\u001b[1;32m      7\u001b[0m     [\u001b[38;5;124m\"\u001b[39m\u001b[38;5;124mMaria\u001b[39m\u001b[38;5;124m\"\u001b[39m, \u001b[38;5;241m30\u001b[39m, \u001b[38;5;124m\"\u001b[39m\u001b[38;5;124mAdvogada\u001b[39m\u001b[38;5;124m\"\u001b[39m],\n\u001b[1;32m      8\u001b[0m     [\u001b[38;5;124m\"\u001b[39m\u001b[38;5;124mCarlos\u001b[39m\u001b[38;5;124m\"\u001b[39m, \u001b[38;5;241m22\u001b[39m, \u001b[38;5;124m\"\u001b[39m\u001b[38;5;124mEstudante\u001b[39m\u001b[38;5;124m\"\u001b[39m]\n\u001b[1;32m      9\u001b[0m ]\n",
      "\u001b[0;31mModuleNotFoundError\u001b[0m: No module named 'tabulate'"
     ]
    }
   ],
   "source": [
    "from tabulate import tabulate #não é nativo (built-in)\n",
    "\n",
    "# Dados da tabela\n",
    "dados = [\n",
    "    [\"Nome\", \"Idade\", \"Profissão\"],\n",
    "    [\"João\", 25, \"Engenheiro\"],\n",
    "    [\"Maria\", 30, \"Advogada\"],\n",
    "    [\"Carlos\", 22, \"Estudante\"]\n",
    "]\n",
    "\n",
    "# Formatar a tabela\n",
    "tabela = tabulate(dados, headers=\"firstrow\", tablefmt=\"grid\")\n",
    "\n",
    "# Imprimir a tabela\n",
    "print(tabela)"
   ]
  },
  {
   "cell_type": "markdown",
   "metadata": {},
   "source": [
    "Aula - Métodos mágicos"
   ]
  },
  {
   "cell_type": "code",
   "execution_count": null,
   "metadata": {},
   "outputs": [],
   "source": [
    "class Cliente:\n",
    "    def __init__(self, nome:str, idade:int, email:str, altura:float, peso:float) -> None:\n",
    "        self._nome = nome\n",
    "        self._idade = idade\n",
    "        self._email = email\n",
    "        self._altura = altura\n",
    "        self._peso = peso\n",
    "        \n",
    "    def __len__(self): #louco\n",
    "        return self._altura * self._idade\n",
    "        \n",
    "    def __repr__(self) -> str:\n",
    "        pass"
   ]
  },
  {
   "cell_type": "markdown",
   "metadata": {},
   "source": [
    "# Métodos mágicos"
   ]
  },
  {
   "cell_type": "code",
   "execution_count": null,
   "metadata": {},
   "outputs": [],
   "source": [
    "# métodos mágicos aritimétios\n",
    "\n",
    "# indexar \n",
    "# igualdade\n",
    "\n",
    "# Pesquisar Júlia Lang\n"
   ]
  },
  {
   "cell_type": "markdown",
   "metadata": {},
   "source": [
    "métodos mágicos\n",
    "https://rszalski.github.io/magicmethods/\n",
    "\n",
    "### fracoes\n",
    "https://www.todamateria.com.br/adicao-e-subtracao-de-fracoes/\n",
    "\n",
    "### Curso python english\n",
    "https://realpython.com/lessons/get-started-django-overview/\n",
    "\n",
    "### qual sera meu projeto\n",
    "* Lista supermercado\n",
    "* Banco de dados de produtos\n",
    "* Locadora filmes\n",
    "\n"
   ]
  },
  {
   "cell_type": "code",
   "execution_count": 21,
   "metadata": {},
   "outputs": [],
   "source": [
    "# Classe fracao\n",
    "\n",
    "class Fracao:\n",
    "    def __init__(self, numerador:int, denominador:int) -> None:\n",
    "        if denominador == 0:\n",
    "            raise ValueError('O denominador não pode ser zero.')\n",
    "        \n",
    "        self.numerador = numerador\n",
    "        self.denominador = denominador\n",
    "    \n",
    "    # definir soma da fracao   \n",
    "    def __add__(self, other):\n",
    "        soma_numerador = self.numerador * other.denominador + other.numerador * self.denominador\n",
    "        #soma_denominador = \n",
    "    #TODO: implementar esse método\n",
    "    \n",
    "    def __repr__(self) -> str:\n",
    "        numerador_str = str(self.numerador)\n",
    "        denominador_str = str(self.denominador)\n",
    "        \n",
    "        if len(numerador_str) > len(denominador_str):\n",
    "            tamanho_barra = len(numerador_str)\n",
    "        else:\n",
    "            tamanho_barra = len(denominador_str)\n",
    "        \n",
    "        barra = '-' * tamanho_barra\n",
    "        fracao_str = f'{numerador_str}\\n{barra}\\n{denominador_str}'\n",
    "        return fracao_str\n",
    "        \n",
    "        \n"
   ]
  },
  {
   "cell_type": "code",
   "execution_count": 23,
   "metadata": {},
   "outputs": [
    {
     "data": {
      "text/plain": [
       "100\n",
       "----\n",
       "2000"
      ]
     },
     "execution_count": 23,
     "metadata": {},
     "output_type": "execute_result"
    }
   ],
   "source": [
    "f1 = Fracao(100, 2000)\n",
    "f1"
   ]
  }
 ],
 "metadata": {
  "kernelspec": {
   "display_name": ".venv",
   "language": "python",
   "name": "python3"
  },
  "language_info": {
   "codemirror_mode": {
    "name": "ipython",
    "version": 3
   },
   "file_extension": ".py",
   "mimetype": "text/x-python",
   "name": "python",
   "nbconvert_exporter": "python",
   "pygments_lexer": "ipython3",
   "version": "3.12.3"
  }
 },
 "nbformat": 4,
 "nbformat_minor": 2
}
