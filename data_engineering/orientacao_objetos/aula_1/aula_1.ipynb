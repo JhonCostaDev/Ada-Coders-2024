{
 "cells": [
  {
   "cell_type": "code",
   "execution_count": 7,
   "metadata": {},
   "outputs": [
    {
     "data": {
      "text/plain": [
       "3"
      ]
     },
     "execution_count": 7,
     "metadata": {},
     "output_type": "execute_result"
    }
   ],
   "source": [
    "participantes = \"'Nicolas-Parisotto 19:19 Santa-Cruz-do-Sul-RS Raul Felipe1 9:19 maringá - PR Igor Jasmim 19:19 RJ Gabriella Vargas 19:19 minas Matheus Cordaro 19:19 são paulo Danilo Rodrigues da Silva 19:19 Guarulhos - SP Mariana Rocha 19:19 Fortaleza CE Marcelo Henriques 19:19 Floripa Amanda Almeid 19:19 Curitiba José Pedro Morgado 19:19 Brasília / DF Alex Mendonca 19:19 São Paulo Angelica Salvino 19:19 Sou de Santos, mas moro em BH Teophilo Silva Aluno Ada Tech 19:19 Fortaleza-CE Letícia Bertoldi 19:19 ai - RJ Você 19:19 Fortaleza-Ce Fernando Soutto 19:19 Belo Horizonte- MG Letícia Bertoldi 19:19 itaguai = RJ Hallynny Henrique 19:19 Natal-RN Breno Lima 19:19 Juazeiro do Norte - CE Cleiton Moreira 19:19 Belo horizonte MG Raul Felipe 19:19 tem mais um de curitiba Fabio Cury Pagliuca 19:19 Limeira Raul Felipe 19:19 o Daniel'\"\n",
    "\n",
    "len(participantes.split())\n",
    "lista = participantes.split()\n",
    "count = 0\n",
    "for i in lista:\n",
    "    if i.lower() == 'fortaleza-ce'.lower() or i.lower() == 'fortaleza'.lower():\n",
    "       count += 1\n",
    "count\n"
   ]
  },
  {
   "cell_type": "markdown",
   "metadata": {},
   "source": [
    "# Planejamento\n",
    "\n",
    "1. Semana 1:\n",
    "    * Classes e objetos\n",
    "    * Módulos e pacotes\n",
    "\n",
    "2. Semana 2:\n",
    "    * Atributos privados\n",
    "    * Métodos mágicos\n",
    "\n",
    "3. Semana 3:\n",
    "    * Herança\n",
    "    * Polimorfismo\n",
    "    * Projeto (?)  - CRUD - Create, read, update, delete"
   ]
  },
  {
   "cell_type": "code",
   "execution_count": null,
   "metadata": {},
   "outputs": [],
   "source": []
  }
 ],
 "metadata": {
  "kernelspec": {
   "display_name": "Python 3",
   "language": "python",
   "name": "python3"
  },
  "language_info": {
   "codemirror_mode": {
    "name": "ipython",
    "version": 3
   },
   "file_extension": ".py",
   "mimetype": "text/x-python",
   "name": "python",
   "nbconvert_exporter": "python",
   "pygments_lexer": "ipython3",
   "version": "3.12.4"
  }
 },
 "nbformat": 4,
 "nbformat_minor": 2
}
