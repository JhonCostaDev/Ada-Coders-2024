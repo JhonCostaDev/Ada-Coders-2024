{
 "cells": [
  {
   "cell_type": "code",
   "execution_count": 7,
   "metadata": {},
   "outputs": [
    {
     "data": {
      "text/plain": [
       "3"
      ]
     },
     "execution_count": 7,
     "metadata": {},
     "output_type": "execute_result"
    }
   ],
   "source": [
    "participantes = \"'Nicolas-Parisotto 19:19 Santa-Cruz-do-Sul-RS Raul Felipe1 9:19 maringá - PR Igor Jasmim 19:19 RJ Gabriella Vargas 19:19 minas Matheus Cordaro 19:19 são paulo Danilo Rodrigues da Silva 19:19 Guarulhos - SP Mariana Rocha 19:19 Fortaleza CE Marcelo Henriques 19:19 Floripa Amanda Almeid 19:19 Curitiba José Pedro Morgado 19:19 Brasília / DF Alex Mendonca 19:19 São Paulo Angelica Salvino 19:19 Sou de Santos, mas moro em BH Teophilo Silva Aluno Ada Tech 19:19 Fortaleza-CE Letícia Bertoldi 19:19 ai - RJ Você 19:19 Fortaleza-Ce Fernando Soutto 19:19 Belo Horizonte- MG Letícia Bertoldi 19:19 itaguai = RJ Hallynny Henrique 19:19 Natal-RN Breno Lima 19:19 Juazeiro do Norte - CE Cleiton Moreira 19:19 Belo horizonte MG Raul Felipe 19:19 tem mais um de curitiba Fabio Cury Pagliuca 19:19 Limeira Raul Felipe 19:19 o Daniel'\"\n",
    "\n",
    "len(participantes.split())\n",
    "lista = participantes.split()\n",
    "count = 0\n",
    "for i in lista:\n",
    "    if i.lower() == 'fortaleza-ce'.lower() or i.lower() == 'fortaleza'.lower():\n",
    "       count += 1\n",
    "count\n"
   ]
  },
  {
   "cell_type": "markdown",
   "metadata": {},
   "source": [
    "# Planejamento\n",
    "\n",
    "1. Semana 1:\n",
    "    * Classes e objetos\n",
    "    * Módulos e pacotes\n",
    "\n",
    "2. Semana 2:\n",
    "    * Atributos privados\n",
    "    * Métodos mágicos\n",
    "\n",
    "3. Semana 3:\n",
    "    * Herança\n",
    "    * Polimorfismo\n",
    "    * Projeto (?)  - CRUD - Create, read, update, delete"
   ]
  },
  {
   "cell_type": "markdown",
   "metadata": {},
   "source": [
    "Aula 1 - Conteúdos\n"
   ]
  },
  {
   "cell_type": "code",
   "execution_count": 1,
   "metadata": {},
   "outputs": [
    {
     "data": {
      "text/plain": [
       "'00621325476'"
      ]
     },
     "execution_count": 1,
     "metadata": {},
     "output_type": "execute_result"
    }
   ],
   "source": [
    "\"621325476\".zfill(11) # zfill, preenche com zeros"
   ]
  },
  {
   "cell_type": "code",
   "execution_count": 5,
   "metadata": {},
   "outputs": [
    {
     "data": {
      "text/plain": [
       "'00312312323'"
      ]
     },
     "execution_count": 5,
     "metadata": {},
     "output_type": "execute_result"
    }
   ],
   "source": [
    "cpf = '003.123.123-23'\n",
    "cpf_limpo = ''\n",
    "for digito in cpf:\n",
    "    if digito != '.' and digito != '-':\n",
    "        cpf_limpo += digito\n",
    "cpf_limpo"
   ]
  },
  {
   "cell_type": "code",
   "execution_count": 8,
   "metadata": {},
   "outputs": [
    {
     "data": {
      "text/plain": [
       "'00312312323'"
      ]
     },
     "execution_count": 8,
     "metadata": {},
     "output_type": "execute_result"
    }
   ],
   "source": [
    "cpf = '003.123.123-23'.replace('.', '').replace('-', '')\n",
    "cpf"
   ]
  },
  {
   "cell_type": "code",
   "execution_count": 9,
   "metadata": {},
   "outputs": [
    {
     "data": {
      "text/plain": [
       "str"
      ]
     },
     "execution_count": 9,
     "metadata": {},
     "output_type": "execute_result"
    }
   ],
   "source": [
    "var_1 = '42'\n",
    "type(var_1)"
   ]
  },
  {
   "cell_type": "code",
   "execution_count": 10,
   "metadata": {},
   "outputs": [
    {
     "data": {
      "text/plain": [
       "int"
      ]
     },
     "execution_count": 10,
     "metadata": {},
     "output_type": "execute_result"
    }
   ],
   "source": [
    "var_1 = 42\n",
    "type(var_1)"
   ]
  },
  {
   "cell_type": "code",
   "execution_count": 13,
   "metadata": {},
   "outputs": [
    {
     "data": {
      "text/plain": [
       "int"
      ]
     },
     "execution_count": 13,
     "metadata": {},
     "output_type": "execute_result"
    }
   ],
   "source": [
    "var_2: int\n",
    "var_2 = 2\n",
    "type(var_2)"
   ]
  },
  {
   "cell_type": "code",
   "execution_count": null,
   "metadata": {},
   "outputs": [],
   "source": [
    "var_2"
   ]
  },
  {
   "cell_type": "markdown",
   "metadata": {},
   "source": [
    "![](~/img/classe_funcio.png)"
   ]
  },
  {
   "cell_type": "markdown",
   "metadata": {},
   "source": [
    "Programação imperativa\n",
    "\n",
    "![](/img/ada1.png)"
   ]
  },
  {
   "cell_type": "markdown",
   "metadata": {},
   "source": [
    "![](/img/classe_funcio.png)"
   ]
  },
  {
   "cell_type": "markdown",
   "metadata": {},
   "source": []
  },
  {
   "cell_type": "code",
   "execution_count": 29,
   "metadata": {},
   "outputs": [],
   "source": [
    "class Portao:\n",
    "    def __init__(self, estado: str = \"fechado\"):\n",
    "        self.estado = 'Fechado'\n",
    "    \n",
    "    def abrir_portao(self):\n",
    "        if self.estado == 'aberto':\n",
    "            print('O portão já está aberto')\n",
    "        else:\n",
    "            self.estado = 'aberto'\n",
    "         \n",
    "     \n",
    "    def fechar_portao(self):\n",
    "        if self.estado == 'fechado':\n",
    "            print('O portão já está aberto')\n",
    "        else:\n",
    "            self.estado = 'fechado'"
   ]
  },
  {
   "cell_type": "code",
   "execution_count": 31,
   "metadata": {},
   "outputs": [
    {
     "data": {
      "text/plain": [
       "'Fechado'"
      ]
     },
     "execution_count": 31,
     "metadata": {},
     "output_type": "execute_result"
    }
   ],
   "source": [
    "p1 = Portao()\n",
    "p1.estado"
   ]
  },
  {
   "cell_type": "code",
   "execution_count": 32,
   "metadata": {},
   "outputs": [
    {
     "data": {
      "text/plain": [
       "'aberto'"
      ]
     },
     "execution_count": 32,
     "metadata": {},
     "output_type": "execute_result"
    }
   ],
   "source": [
    "p1.abrir_portao()\n",
    "p1.estado"
   ]
  },
  {
   "cell_type": "code",
   "execution_count": 33,
   "metadata": {},
   "outputs": [],
   "source": [
    "p1.abrir_portao()"
   ]
  },
  {
   "cell_type": "markdown",
   "metadata": {},
   "source": [
    "\n",
    "### Exercício 2\n",
    "Pensando nos conceitos de estado e função mencionados acima, descrever uma lâmpada:\n"
   ]
  },
  {
   "cell_type": "code",
   "execution_count": 38,
   "metadata": {},
   "outputs": [],
   "source": [
    "class Lampada:\n",
    "    def __init__(self, estado: str = 'desligada'):\n",
    "        self.estado = 'desligada'\n",
    "        \n",
    "    def ligar(self):\n",
    "        if self.estado == 'ligada':\n",
    "            print('O lampada já está ligada')\n",
    "        else:\n",
    "             self.estado = 'ligada'\n",
    "    def desligar(self):\n",
    "        if self.estado == 'desligada':\n",
    "            print('A lampada já está desligada')\n",
    "        else:\n",
    "            self.estado = 'desligadar'"
   ]
  },
  {
   "cell_type": "code",
   "execution_count": 39,
   "metadata": {},
   "outputs": [
    {
     "data": {
      "text/plain": [
       "'desligada'"
      ]
     },
     "execution_count": 39,
     "metadata": {},
     "output_type": "execute_result"
    }
   ],
   "source": [
    "sala = Lampada()\n",
    "sala.estado"
   ]
  },
  {
   "cell_type": "code",
   "execution_count": 40,
   "metadata": {},
   "outputs": [
    {
     "data": {
      "text/plain": [
       "'ligada'"
      ]
     },
     "execution_count": 40,
     "metadata": {},
     "output_type": "execute_result"
    }
   ],
   "source": [
    "sala.ligar()\n",
    "sala.estado"
   ]
  },
  {
   "cell_type": "code",
   "execution_count": 43,
   "metadata": {},
   "outputs": [
    {
     "data": {
      "text/plain": [
       "'desligadar'"
      ]
     },
     "execution_count": 43,
     "metadata": {},
     "output_type": "execute_result"
    }
   ],
   "source": [
    "sala.ligar()\n",
    "sala.desligar()\n",
    "sala.estado"
   ]
  },
  {
   "cell_type": "markdown",
   "metadata": {},
   "source": [
    "\n",
    "\n",
    "### Exercício 4\n",
    "Pensando nos conceitos de estado e função mencionados acima, descrever uma carro:\n"
   ]
  },
  {
   "cell_type": "code",
   "execution_count": null,
   "metadata": {},
   "outputs": [],
   "source": [
    "class Carro:\n",
    "    def __init__(self) -> None:\n",
    "        pass"
   ]
  },
  {
   "cell_type": "code",
   "execution_count": 11,
   "metadata": {},
   "outputs": [
    {
     "data": {
      "text/plain": [
       "<__main__.Carro at 0x208c6337530>"
      ]
     },
     "execution_count": 11,
     "metadata": {},
     "output_type": "execute_result"
    }
   ],
   "source": [
    "class Carro:\n",
    "    def __init__(self, marca, modelo, cor, placa, estado='Desligado' ):\n",
    "        self.marca = marca\n",
    "        self.modelo = modelo\n",
    "        self.cor = cor\n",
    "        self.placa = placa\n",
    "        self.estado = estado\n",
    "        \n",
    "    def ligar():\n",
    "        print('Carro ligado')\n",
    "    \n",
    "    def buzinar():\n",
    "        print('Bibi...')\n",
    "        \n",
    "    def desligar():\n",
    "        print('Carro desligado')\n",
    "        \n",
    "\n",
    "volks = Carro('Volksvagen', 'Gol', 'Preto', 'XYW-4592')\n",
    "\n",
    "\n",
    "\n",
    "\n",
    "        "
   ]
  },
  {
   "cell_type": "code",
   "execution_count": null,
   "metadata": {},
   "outputs": [],
   "source": [
    "# Professor\n",
    "\n"
   ]
  }
 ],
 "metadata": {
  "kernelspec": {
   "display_name": "Python 3",
   "language": "python",
   "name": "python3"
  },
  "language_info": {
   "codemirror_mode": {
    "name": "ipython",
    "version": 3
   },
   "file_extension": ".py",
   "mimetype": "text/x-python",
   "name": "python",
   "nbconvert_exporter": "python",
   "pygments_lexer": "ipython3",
   "version": "3.12.4"
  }
 },
 "nbformat": 4,
 "nbformat_minor": 2
}
