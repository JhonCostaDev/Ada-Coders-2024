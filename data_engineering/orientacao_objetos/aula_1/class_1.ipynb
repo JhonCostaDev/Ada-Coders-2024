{
 "cells": [
  {
   "cell_type": "markdown",
   "metadata": {},
   "source": [
    "# Welcome to the jungle\n",
    "\n",
    "- Quem sou eu?\n",
    "- Quem são vocês?\n",
    "- O que vocês sabem?\n",
    "- Como serão as próximas semanas?"
   ]
  },
  {
   "cell_type": "markdown",
   "metadata": {},
   "source": [
    "# Planejamento\n",
    "\n",
    "1. Semana 1: \n",
    "    - Classes e objetos \n",
    "    - Módulos e pacotes\n",
    "\n",
    "2. Semana 2: \n",
    "    - Atributos privados \n",
    "    - Métodos mágicos \n",
    "\n",
    "3. Semana 3: \n",
    "    - Herança \n",
    "    - Polimorfismo\n",
    "    - Projeto (?)"
   ]
  },
  {
   "cell_type": "code",
   "execution_count": null,
   "metadata": {},
   "outputs": [],
   "source": []
  },
  {
   "cell_type": "markdown",
   "metadata": {},
   "source": [
    "# Aula 1\n",
    "\n",
    "## Conteúdos\n",
    "\n",
    "- Paradigmas de programação\n",
    "\n",
    "- Conceitos de Programação Orientada a Objetos\n",
    "\n",
    "- Classes e objetos em Python\n",
    "\n",
    "- Atributos e métodos em Python (e o parâmetro self)\n",
    "\n",
    "- Método construtor e inicialização de objetos (__init__)\n",
    "\n",
    "- Acesso a atributos e métodos\n"
   ]
  },
  {
   "cell_type": "markdown",
   "metadata": {},
   "source": [
    "-----------------------"
   ]
  },
  {
   "cell_type": "markdown",
   "metadata": {},
   "source": [
    "# Objetivo\n",
    "\n",
    "Construir nossas primeiras classes e objetos em Python, como o exemplo abaixo."
   ]
  },
  {
   "cell_type": "markdown",
   "metadata": {},
   "source": [
    "Primeiro vamos só rodar a classe abaixo, de um funcionário genérico.\n",
    "![](/img/)\n"
   ]
  },
  {
   "cell_type": "code",
   "execution_count": null,
   "metadata": {},
   "outputs": [],
   "source": []
  },
  {
   "cell_type": "code",
   "execution_count": null,
   "metadata": {},
   "outputs": [],
   "source": []
  },
  {
   "cell_type": "markdown",
   "metadata": {},
   "source": [
    "Esse é o resultado básico que queremos."
   ]
  },
  {
   "cell_type": "markdown",
   "metadata": {},
   "source": [
    "# Paradigmas de programação\n",
    "\n",
    "Existem várias formas de pensar e organizar o código de um programa, cada uma com seus objetivos, vantagens e desvantagens. Normalmente, o uso de uma dessas abordagens depende do suporte da linguagem de programação à ferramentas ou técnicas específicas para permitir sua aplicação. Na literatura, essas diferentes formas são comumente denominadas **paradigmas de programação**."
   ]
  },
  {
   "cell_type": "markdown",
   "metadata": {},
   "source": [
    "![imagem](imagens/image.png)"
   ]
  },
  {
   "cell_type": "code",
   "execution_count": null,
   "metadata": {},
   "outputs": [],
   "source": []
  },
  {
   "cell_type": "code",
   "execution_count": null,
   "metadata": {},
   "outputs": [],
   "source": [
    "variavel_1 = '42'"
   ]
  },
  {
   "cell_type": "code",
   "execution_count": null,
   "metadata": {},
   "outputs": [],
   "source": []
  },
  {
   "cell_type": "markdown",
   "metadata": {},
   "source": [
    "\n",
    "## Programação imperativa\n",
    "O paradigma de programação mais \"natural\" para o computador é a chamada **programação imperativa**: o programa é uma série de instruções, uma embaixo da outra, sempre sendo executadas sequencialmente. O nome vem da ideia de que o programa pode ser descrito por verbos no modo imperativo.\n",
    "\n",
    "O foco da programação imperativa é em como o computador deve realizar uma tarefa."
   ]
  },
  {
   "cell_type": "code",
   "execution_count": 12,
   "metadata": {},
   "outputs": [],
   "source": [
    "# Exemplo de programação imperativa\n"
   ]
  },
  {
   "cell_type": "markdown",
   "metadata": {},
   "source": [
    "### Programação estruturada\n",
    "\n",
    "Uma primeira tentativa de melhorar a programação imperativa foi a introdução de alguns desvios controlados de fluxo, como estruturas condicionais e malhas de repetição. Chamamos essa forma de programação imperativa de **programação estruturada**, e provavelmente foi a primeira forma de programação que você estudou.\n",
    "\n",
    "O programa abaixo é um programa estruturado. Ele é constituído por um único bloco de instruções que são executadas sequencialmente. Apesar de ser possível pular uma ou outra instrução (através de `if`/`else`) ou repetir instruções dentro de um loop, a tendência geral do programa é sempre seguir sequencialmente, e uma vez encerrado um condicional ou loop, não retornamos mais para ele."
   ]
  },
  {
   "cell_type": "code",
   "execution_count": null,
   "metadata": {},
   "outputs": [],
   "source": [
    "# Exemplo de programação estruturada\n",
    "\n",
    "n1 = input('Digite o primeiro número: ')\n",
    "\n",
    "while not n1.isdigit():\n",
    "    n1 = input('Digite o primeiro número: ')\n",
    "\n",
    "n1 = float(n1)\n",
    "\n",
    "n2 = float(input('Digite o segundo número:'))\n",
    "\n",
    "soma = n1 + n2\n",
    "print(soma)\n",
    "\n",
    "n1 = float(input('Digite o primeiro número: '))\n",
    "n2 = float(input('Digite o segundo número:'))\n",
    "\n",
    "soma = n1 + n2\n",
    "print(soma)"
   ]
  },
  {
   "cell_type": "markdown",
   "metadata": {},
   "source": [
    "### Programação procedural\n",
    "\n",
    "Outra forma de programação imperativa é a **programação procedural**. Ela introduz um certo grau de modularização do programa. \n",
    "\n",
    "Em vez do programa ser um bloco único de instruções, nós podemos subdividir nossa lógica em \"subprogramas\": as funções. Uma função possui um nome, pode possuir dados de entrada (parâmetros) e de saída (retorno) e pode ser reutilizada múltiplas vezes.\n",
    "\n",
    "Isso evita a repetição desnecessária de código, facilita o reaproveitamento de código e torna o processo de atualização e correção de bugs mais simples e seguro. O programa abaixo é procedural:"
   ]
  },
  {
   "cell_type": "code",
   "execution_count": null,
   "metadata": {},
   "outputs": [],
   "source": [
    "# Exemplo de programação procedural\n",
    "\n",
    "def soma(n1, n2):\n",
    "    return n1+n2\n",
    "\n",
    "def subtracao(n1, n2):\n",
    "    return n1-n2\n",
    "\n",
    "def multiplicacao(n1, n2):\n",
    "    return n1*n2\n",
    "\n",
    "def divisao(n1, n2):\n",
    "    return n1/n2\n",
    "\n",
    "def obter_numeros():\n",
    "    n1 = int(input('Digite o primeiro número: '))\n",
    "    n2 = int(input('Digite o segundo número: '))\n",
    "    return n1, n2\n",
    "\n",
    "def menu():\n",
    "    opcao = 1\n",
    "    while opcao != 0:\n",
    "        print('1. Somar dois números')\n",
    "        print('2. Subtrair dois números')\n",
    "        print('3. Multiplicar dois números')\n",
    "        print('4. Dividir dois números')\n",
    "        print('0. Sair')\n",
    "        opcao = int(input('Digite a sua opcao: '))\n",
    "        \n",
    "        if opcao == 1:\n",
    "            num1, num2 = obter_numeros()\n",
    "            print(soma(num1, num2))\n",
    "        elif opcao == 2:\n",
    "            num1, num2 = obter_numeros()\n",
    "            print(subtracao(num1, num2))\n",
    "        elif opcao == 3:\n",
    "            num1, num2 = obter_numeros()\n",
    "            print(multiplicacao(num1, num2))\n",
    "        elif opcao == 4:\n",
    "            num1, num2 = obter_numeros()\n",
    "            print(divisao(num1, num2))\n",
    "        elif opcao != 0:\n",
    "            print('Opção inválida!')\n",
    "            \n",
    "menu()"
   ]
  },
  {
   "cell_type": "markdown",
   "metadata": {},
   "source": [
    "## Programação declarativa\n",
    "\n",
    "Existe uma forma bastante diferente de programar conhecida como programação declarativa. Os paradigmas declarativos colocam menos ênfase em como realizar uma tarefa e mais ênfase no resultado a ser obtido. Programas declarativos, como o nome sugere, são formados por declarações, não por instruções."
   ]
  },
  {
   "cell_type": "markdown",
   "metadata": {},
   "source": []
  },
  {
   "cell_type": "markdown",
   "metadata": {},
   "source": [
    "&nbsp;\n",
    "\n",
    "### Programação funcional\n",
    "Uma forma de programação declarativa é a programação funcional, que tem como objetivo reduzir os efeitos colaterais de cada trecho de código e gerar um programa mais limpo, legível e determinístico, ou seja, previsível. Assim como na programação procedural, o programa será modularizado em funções. Porém, ao invés de técnicas de programação estruturada, como malhas de repetição, definimos nossas funções em termos de operações básicas e encadeamento de chamadas a outras funções, transformando nosso programa em uma árvore de expressões retornando valores."
   ]
  },
  {
   "cell_type": "code",
   "execution_count": 2,
   "metadata": {},
   "outputs": [
    {
     "name": "stdout",
     "output_type": "stream",
     "text": [
      "[19.9, 35.2, 47.6]\n",
      "102.7\n"
     ]
    }
   ],
   "source": [
    "# Exemplo de programação funcional\n",
    "\n",
    "gastos = ['19.9', '35.2', '47.6']\n",
    "gastos_float = list(map(float, gastos)) # sem o list, o map é um gerador.\n",
    "print(gastos_float)\n",
    "soma_gastos = sum(gastos_float)\n",
    "print(soma_gastos)"
   ]
  },
  {
   "cell_type": "markdown",
   "metadata": {},
   "source": [
    "&nbsp;\n",
    "\n",
    "### Programação lógica\n",
    "Outra forma de programação declarativa é a programação lógica, onde o programador irá declarar uma série verdades lógicas, como relações entre elementos, e a partir daí o programa será capaz de inferir novas relações e verdades."
   ]
  },
  {
   "cell_type": "markdown",
   "metadata": {},
   "source": [
    "![imagem](imagens/programacao_logica.PNG)"
   ]
  },
  {
   "cell_type": "code",
   "execution_count": 1,
   "metadata": {},
   "outputs": [
    {
     "name": "stdout",
     "output_type": "stream",
     "text": [
      "[19.9, 35.2, 47.6]\n",
      "102.7\n"
     ]
    }
   ],
   "source": []
  },
  {
   "cell_type": "markdown",
   "metadata": {},
   "source": [
    "O Python é uma linguagem multiparadigma. Já vimos exemplos procedurais em Python, ele possui suporte a vários recursos importantes da programação funcional e, como estudaremos ao longo desse módulo, ele apresenta suporte à **programação orientada a objeto**.\n",
    "\n",
    "A programação orientada a objeto também é uma forma de programação imperativa: ainda teremos blocos de instruções. Porém, iremos aprofundar e melhorar a nossa modularização."
   ]
  },
  {
   "cell_type": "markdown",
   "metadata": {},
   "source": [
    "---------------------"
   ]
  },
  {
   "cell_type": "markdown",
   "metadata": {},
   "source": [
    "# Programação Orientada a Objetos\n",
    "\n",
    "\n",
    "A programação orientada em objetos foca em *modelar* o mundo real, ou seja, representar objetos do mundo real através de código de computação. Em vez de apenas darmos ordens para o computador, vamos descrever entidades, mapeando suas características, habilidades, ações e interações. O programa vai emergir das interações entre esses modelos. A programação orientada a objetos é um dos modelos mais conhecidos e utilizados atualmente no desenvolvimento de sistemas.\n",
    "\n",
    "&nbsp;\n",
    "\n",
    "## Benefícios da POO\n",
    "\n",
    "Ao realizarmos uma boa modelagem orientada a objeto, podemos não apenas resolver um problema, mas tornar a solução fácil de ser adotada para resolver outros problemas ou ser incorporada a outros projetos. \n",
    "\n",
    "Imaginem que vocês estão trabalhando no projeto A, e precisam calcular data, fuso horário, ano bissexto e outras coisas relativas a data e hora.\n",
    "\n",
    "Depois de muito trabalho, conseguem fazer tudo funcionar, e começam a trabalhar no projeto B. Por coincidência, o projeto B também precisa calcular data e hora, fuso horário, etc.\n",
    "\n",
    "Como vocês já fizeram isso no projeto A, podem reutilizar no projeto B, sem precisar reescrever ele.\n",
    "\n",
    "Essa modelagem, em particular, já está pronta no módulo ```datetime``` do Python. Vamos aprender a criar nossos próprios módulos para condensar toda a lógica envolvendo algum objeto do mundo real e facilitar a nossa própria vida ou a de outros programadores mais pra frente.\n",
    "\n",
    "Mas primeiro precisamos definir o que são objetos.\n",
    "\n",
    "&nbsp;\n",
    "\n",
    "## Objetos\n",
    "\n",
    "Em resumo, os objetos são as entidades que compõem um programa. Cada um dos objetos é responsável por executar determinadas tarefas, e o conjunto de tarefas que um objeto realiza define seu comportamento.\n",
    "\n",
    "Estes objetos normalmente são representações lógicas de objetos do mundo real. Eles possuem **características**, **estados** e **funções**, assim como as suas representações reais. Vamos ver um exemplo:\n",
    " \n",
    "Quando pensamos em descrever uma pessoa, pensamos na cor do cabelo, em traços do seu rosto, sua altura etc. Existem diversas características que podem diferenciar uma pessoa da outra. Falando de objetos, essas características são chamadas de **atributos** ou **propriedades**.\n",
    " \n",
    "Agora imagine um semáforo. Um semáforo tem características diferentes de um modelo para outro de acordo com o lugar em que estamos. Entretanto, a sua forma de funcionar é semelhante na maioria das vezes. O semáforo acende suas cores em momentos diferentes e cada uma delas transmite uma mensagem. Diferente das demais características físicas de um objeto, que são menos flexíveis, as cores do semáforo são características que chamamos de **estado**.\n",
    " \n",
    "Como dito anteriormente, os objetos também podem possuir **funções** e para conseguirmos entender melhor, vamos pensar em um controle remoto. Um controle remoto possui diversas funções, por exemplo mudar de canal, aumentar o volume, ligar e desligar o aparelho. Entretanto, o controle remoto sem um aparelho para passar esses comandos não tem muita utilidade. A partir desse modelo começamos a perceber as relações entre os objetos.\n",
    "\n",
    "&nbsp;\n",
    "\n",
    "## Objetos são reais ou abstratos?\n",
    "\n",
    "Objetos podem ser representações reais ou abstratas. Até agora usamos exemplos de objetos reais, porém, vamos pensar em algo não palpável, mas que também possui características e funções. Vamos pensar no departamento de TI.\n",
    " \n",
    "O departamento de TI possui características como número de funcionários, horário de funcionamento e localização. Também possui funções como instalar softwares, conceder acessos e consertar equipamentos. O departamento de TI não é uma entidade física, porém tem os mesmos padrões de objetos reais, ou seja, atributos, propriedades e funções."
   ]
  },
  {
   "cell_type": "markdown",
   "metadata": {},
   "source": [
    "--------------------------"
   ]
  },
  {
   "cell_type": "markdown",
   "metadata": {},
   "source": [
    "## Praticando um pouco\n",
    "\n",
    "### Exercício 1\n",
    "Pensando nos conceitos de estado e função mencionados acima, descrever um portão de garagem:\n"
   ]
  },
  {
   "cell_type": "markdown",
   "metadata": {},
   "source": []
  },
  {
   "cell_type": "markdown",
   "metadata": {},
   "source": [
    "\n",
    "### Exercício 2\n",
    "Pensando nos conceitos de estado e função mencionados acima, descrever uma lâmpada:\n"
   ]
  },
  {
   "cell_type": "markdown",
   "metadata": {},
   "source": [
    "*"
   ]
  },
  {
   "cell_type": "markdown",
   "metadata": {},
   "source": [
    "\n",
    "  \n",
    "### Exercício 3\n",
    "Pensando nos conceitos de estado e função mencionados acima, descrever uma lâmpada com dimmer:\n"
   ]
  },
  {
   "cell_type": "markdown",
   "metadata": {},
   "source": []
  },
  {
   "cell_type": "markdown",
   "metadata": {},
   "source": [
    "\n",
    "\n",
    "### Exercício 4\n",
    "Pensando nos conceitos de estado e função mencionados acima, descrever uma carro:\n"
   ]
  },
  {
   "cell_type": "markdown",
   "metadata": {},
   "source": []
  },
  {
   "cell_type": "markdown",
   "metadata": {},
   "source": []
  },
  {
   "cell_type": "markdown",
   "metadata": {},
   "source": [
    "Como vocês podem perceber, objetos iguais (lâmpadas, carros, etc) possuem comportamentos iguais.\n",
    "\n",
    "Também podemos considerar que objetos iguais possuem a mesma estrutura interna.\n",
    "\n",
    "Mesmo comportamento + mesma estrutura = mesma categoria ou **classe de objeto** \n",
    "\n",
    "> Modelamos objetos para abstrair, ou seja, focar nas características essenciais e desconsiderar o restante."
   ]
  },
  {
   "cell_type": "markdown",
   "metadata": {},
   "source": [
    "--------------------------"
   ]
  },
  {
   "cell_type": "markdown",
   "metadata": {},
   "source": [
    "## **Princípios Básicos da POO**\n",
    " \n",
    "Dentro da POO temos algumas diretrizes que são a base de qualquer linguagem que implementa a orientação a objetos. São esses os pilares:\n",
    " \n",
    "- Abstração\n",
    "- Encapsulamento\n",
    "- Herança\n",
    "- Polimorfismo"
   ]
  },
  {
   "cell_type": "markdown",
   "metadata": {},
   "source": [
    "\n",
    "### Abstração\n",
    "\n",
    "Abstração é o ato de extrair e esconder comportamentos e particularidades que são desnecessários e expor somente as informações que sejam essenciais. Não precisamos saber como funciona exatamente, sabemos apenas que funciona.\n",
    "\n",
    "Antes da aula eu fiz um café. Se a gente fosse criar um método para fazer um café, como seria?"
   ]
  },
  {
   "cell_type": "code",
   "execution_count": null,
   "metadata": {},
   "outputs": [],
   "source": [
    "# com abstração\n",
    "def fazer_cafe():\n",
    "    # retorna café pronto\n",
    "    pass\n",
    "\n",
    "# sem abstração\n",
    "def fazer_cafe():\n",
    "    # Adicionar água fria à chaleira\n",
    "    # Ferver água\n",
    "    # Pegar xícara, coador, filtro e pó de café\n",
    "    # Adicionar o filtro dentro do coador, e o pó de café dentro do filtro\n",
    "    # Colocar o coador sobre a xícara\n",
    "    # Adicionar água quente, não fervida, dentro do coador\n",
    "    # Após acabar a água do coador, remover o coador de cima da xícara\n",
    "    # Retorna café pronto\n",
    "    pass"
   ]
  },
  {
   "cell_type": "markdown",
   "metadata": {},
   "source": [
    "A primeira abordagem abstrai toda a lógica de fazer café. A segunda abordagem força o usuário a entender como fazer café.\n",
    "\n",
    "E na prática, onde podemos ver essas abstrações? Observem abaixo."
   ]
  },
  {
   "cell_type": "code",
   "execution_count": null,
   "metadata": {},
   "outputs": [],
   "source": [
    "lista = []\n",
    "\n",
    "for numero in range(1, 11):\n",
    "    lista.append(numero)\n",
    "\n",
    "print(lista)\n",
    "\n",
    "lista.pop(3)\n",
    "lista.pop(5)\n",
    "\n",
    "print(lista)\n"
   ]
  },
  {
   "cell_type": "markdown",
   "metadata": {},
   "source": [
    "Sem executar o código abaixo, conseguimos entender o que vai acontecer, certo?\n",
    "\n",
    "Sabemos o que os métodos append e pop fazem? Sim\n",
    "\n",
    "Sabemos como o método foi implementado? Não\n",
    "\n",
    "Precisamos saber como ele foi implementado? Não\n",
    "\n",
    "E isso nos leva ao próximo paradigma da Orientação a objetos, que é o Encapsulamento:"
   ]
  },
  {
   "cell_type": "markdown",
   "metadata": {},
   "source": [
    "### Encapsulamento\n",
    "\n",
    "Pensem na operação \"2 elevado a y, vezes x\"\n",
    "\n",
    "```(2^y) * x```\n",
    "\n",
    "```(2^2) * 3 = 12```\n",
    "\n",
    "\n",
    "Se escrevermos a função python, como seria?"
   ]
  },
  {
   "cell_type": "code",
   "execution_count": 2,
   "metadata": {},
   "outputs": [
    {
     "name": "stdout",
     "output_type": "stream",
     "text": [
      "12\n",
      "10240\n"
     ]
    }
   ],
   "source": [
    "def dois_elevado_a_y_vezes_x(x, y):\n",
    "    print((2**y)*x)\n",
    "\n",
    "dois_elevado_a_y_vezes_x(3, 2)\n",
    "dois_elevado_a_y_vezes_x(5, 11)"
   ]
  },
  {
   "cell_type": "markdown",
   "metadata": {},
   "source": [
    "Nós precisamos saber que isso aconteceu? Não precisamos.\n",
    "\n",
    "Basta sabermos que a operação acima vai retornar o valor correto."
   ]
  },
  {
   "cell_type": "markdown",
   "metadata": {},
   "source": [
    "Então, encapsulamento é a ação de colocar algo dentro ou como se estivesse em uma cápsula. Nós tornamos o código privado, removemos o acesso a ele, e fazemos com que o objeto controle apenas o seu próprio estado.\n",
    "\n",
    "Mas o que é estado de um objeto?\n",
    "\n",
    "Pensem no seguinte:\n",
    "\n",
    "Sabem aquele retrato de família, em que você era bebê ainda? Ele é um registro do estado \"instantâneo\" em que você estava naquele exato momento. De lá pra cá muita coisa mudou, e se hoje você tirar uma nova foto, seu estado já não é o mesmo que aquele. Aquilo que você fez durante o tempo com sua vida, transformou você. A mesma coisa ocorre com o objeto.\n",
    "\n",
    "O estado é o \"instantâneo\" atual do objeto. Todas as chaves e métodos (funções) de um objeto são suas propriedades. Se a gente redefinir ou excluir uma chave, por exemplo, estará alterando o seu estado."
   ]
  },
  {
   "cell_type": "code",
   "execution_count": null,
   "metadata": {},
   "outputs": [],
   "source": [
    "# Classe com atributos expostos\n",
    "\n",
    "class Funcionario:\n",
    "    def __init__(self, nome: str, cargo: str, valor_hora_trabalhada: int):\n",
    "        self.nome = nome\n",
    "        self.cargo = cargo\n",
    "        self.valor_hora_trabalhada = valor_hora_trabalhada\n",
    "        self.horas_trabalhadas = 0\n",
    "        self.salario = 0\n",
    "\n",
    "    def registra_hora_trabalhada(self):\n",
    "        self.horas_trabalhadas += 1\n",
    "\n",
    "    def calcula_salario(self):\n",
    "        self.salario = self.horas_trabalhadas * self.valor_hora_trabalhada"
   ]
  },
  {
   "cell_type": "markdown",
   "metadata": {},
   "source": [
    "Na classe funcionário que vimos agora, o salário está exposto aos clientes que utilizem a classe. Isso pode ser desejável ou não, e pior, nada impede que alguém altere o salário diretamente sem usar a função ```calcula_salario```."
   ]
  },
  {
   "cell_type": "code",
   "execution_count": 3,
   "metadata": {},
   "outputs": [],
   "source": [
    "# Exemplo de uso correto da classe\n",
    "\n"
   ]
  },
  {
   "cell_type": "markdown",
   "metadata": {},
   "source": [
    "Mas poderiam usar da seguinte forma:"
   ]
  },
  {
   "cell_type": "code",
   "execution_count": 5,
   "metadata": {},
   "outputs": [],
   "source": [
    "# Exemplo de uso indevido da classe\n",
    "\n"
   ]
  },
  {
   "cell_type": "markdown",
   "metadata": {},
   "source": [
    "Uma forma de \"remover\" o acesso ao salário e as horas trabalhadas seria usar dois underscores ```__``` (semelhante ao ```private``` de Java e C#) no nome da propriedade.\n",
    "\n",
    "Essa convenção de nome indica que a propriedade pode ser acessada fora da classe.\n",
    "\n",
    "E por fim, adicionamos o \"decorator\" ```property``` com o nome salário, para expor o salário ```sem``` permitir a edição dele diretamente.\n",
    "\n",
    "Obs: Ainda não podemos ver as horas trabalhadas, pois não temos uma propriedade que exponha esse valor."
   ]
  },
  {
   "cell_type": "code",
   "execution_count": null,
   "metadata": {},
   "outputs": [],
   "source": [
    "# Classe com atributos não expostos\n",
    "\n",
    "class Funcionario:\n",
    "    def __init__(self, nome: str, cargo: str, valor_hora_trabalhada: int):\n",
    "        self.nome = nome\n",
    "        self.cargo = cargo\n",
    "        self.valor_hora_trabalhada = valor_hora_trabalhada\n",
    "        self.__horas_trabalhadas = 0 \n",
    "        self.__salario = 0 \n",
    "\n",
    "    def registra_hora_trabalhada(self):\n",
    "        self.__horas_trabalhadas += 1\n",
    "\n",
    "    def calcula_salario(self):\n",
    "        self.__salario = self.__horas_trabalhadas * self.valor_hora_trabalhada\n",
    "\n",
    "    @property\n",
    "    def salario(self):\n",
    "        return self.__salario"
   ]
  },
  {
   "cell_type": "code",
   "execution_count": null,
   "metadata": {},
   "outputs": [],
   "source": [
    "# Exemplo de uso classe\n",
    "\n",
    "f = Funcionario('Bruno', 'Professor', 30)\n",
    "print(f.valor_hora_trabalhada)\n",
    "f.registra_hora_trabalhada()\n",
    "f.registra_hora_trabalhada()\n",
    "f.registra_hora_trabalhada()\n",
    "f.calcula_salario()\n",
    "print(f.salario)\n",
    "\n",
    "# Se tentarmos o código abaixo, da erro.\n",
    "# f.salario = 1000000\n"
   ]
  },
  {
   "cell_type": "markdown",
   "metadata": {},
   "source": [
    "### Herança\n",
    "\n",
    "A herança permite que um objeto adquira as propriedades e métodos de outros objetos.\n",
    "\n",
    "A reutilização é o principal benefício aqui. Sabemos que às vezes a mesma coisa precisa ser feita em vários lugares e sempre de forma igual, exceto em alguma pequena parte. Esse é um problema que a herança pode resolver. Mas vamos entrar em detalhes nas próximas aulas.\n"
   ]
  },
  {
   "cell_type": "code",
   "execution_count": null,
   "metadata": {},
   "outputs": [],
   "source": []
  },
  {
   "cell_type": "markdown",
   "metadata": {},
   "source": [
    "Todos os animais vertebrados pertencem ao reino animal\n",
    "Os animais vertebrados possuem esqueleto\n",
    "Répteis e anfíbios possuem pele seca\n",
    "\n",
    "De acordo com o conceito de herança, podemos ter uma classe chamada ```Repteis``` e uma classe chamada ```Anfíbios```, ambas herdando de uma classe ```AnimaisComPeleSeca```:\n",
    "- Ambos possuem pele seca, são vertebrados e pertencem ao reino animal\n",
    "- A pele é diferente: répteis possuem pele seca e escamosa, enquanto anfíbios possuem pele úmida e sem pelos/escamas"
   ]
  },
  {
   "cell_type": "code",
   "execution_count": null,
   "metadata": {},
   "outputs": [],
   "source": []
  },
  {
   "cell_type": "markdown",
   "metadata": {},
   "source": [
    "### Polimorfismo\n",
    "\n",
    "Por fim, se usarmos a herança corretamente, podemos garantir que tanto as classes pai quanto os filhos compartilham a maioria dos atributos e propriedades. Isso faz com que possamos usar uma ou outra, na maioria dos vezes, sem erros ou qualquer problemas, mas com comportamentos diferentes.\n",
    "\n",
    "O polimorfismo é o princípio pelo qual duas classes ou mais podem invocar os mesmos métodos, com a mesma assinatura, só que eles fazem coisas diferentes."
   ]
  },
  {
   "cell_type": "code",
   "execution_count": null,
   "metadata": {},
   "outputs": [],
   "source": []
  },
  {
   "cell_type": "markdown",
   "metadata": {},
   "source": [
    "------------------------------"
   ]
  },
  {
   "cell_type": "markdown",
   "metadata": {},
   "source": [
    "## Classes e objetos em Python\n",
    "\n",
    "Vamos ver alguns casos:\n",
    "\n",
    "O que uma lâmpada precisa armazenar?\n",
    "\n",
    "> Ela precisa ter um valor que represente seu estado, acesa ou apagada.\n",
    "\n",
    "O que um quadrado precisa armazenar?\n",
    "\n",
    "> O seu lado\n",
    "\n",
    "O que uma fração precisa armazenar:\n",
    "\n",
    "> O numerador e o denominador.\n",
    "\n",
    "&nbsp;\n",
    "\n",
    "Vamos a algumas definições:\n",
    "\n",
    "- Dizemos que uma **classe** define um conjunto de objetos com o mesmo comportamento e mesma estrutura.\n",
    "\n",
    "- Os **métodos** são ações que alteram o estado da classe.\n",
    "\n",
    "- Os objetos precisam armazenar valores, e esses valores são declarados como **atributos** na classe.\n",
    "\n",
    "- A criação de um objeto é chamado de **instanciação**, e os objetos já criados são chamados de **instâncias**.\n"
   ]
  },
  {
   "cell_type": "markdown",
   "metadata": {},
   "source": [
    "### Classe\n",
    "Então vamos começar a criar nossa classe Lampada, conforme a sintaxe:\n",
    "\n",
    "```class NomeDaClasse:```\n",
    "\n",
    "Utilizamos a palavra reservada ```Class``` seguida do nome da classe, no modelo Pascal Case (primeira letra maiúscula, e a cada mudança de palavra uma nova letra maiúscula)"
   ]
  },
  {
   "cell_type": "code",
   "execution_count": null,
   "metadata": {},
   "outputs": [],
   "source": [
    "class Lampada:\n",
    "    # código da classe\n",
    "    pass"
   ]
  },
  {
   "cell_type": "markdown",
   "metadata": {},
   "source": [
    "### Métodos \n",
    "Para alterar o comportamento dessa lámpada, vamos criar os métodos ```ligar``` e ```desligar```, e um método para descrever o tipo de lâmpada (```tipo```) conforme a sintaxe:\n",
    "\n",
    "```def nome_do_metodo(self):```\n",
    "\n",
    "Utilizamos a palavra reservada ```def``` seguida do nome do método, no modelo snake case (palavras em letras minúsculas, separadas por underscore) e o primeiro parâmetro é a palavra ```self```.\n",
    "\n",
    "&nbsp;\n",
    "\n",
    "O ```self``` é usado em classes no Python para indicar que você está referenciando alguma coisa do próprio objeto (sejam eles atributos ou métodos) - na verdade, o ```self`` é o próprio objeto em si.\n",
    "\n",
    "Nos métodos da classe sempre passamos o ```self``` (apesar de não ser obrigatório) para que os métodos e atributos que definimos sejam acessíveis dentro do método que estamos implementando.\n",
    "\n",
    "O mesmo vale para os atributos no método construtor, que vamos ver logo mais. \n",
    "\n",
    "&nbsp;\n",
    "\n",
    "Para invocar um método, utilizamos a seguinte sintaxe:\n",
    "\n",
    "```nome_do_objeto.nome_do_metodo()```\n",
    "\n",
    "Lembre-se que o primeiro parâmetro de um método é o self, e o self nunca é passado explicitamente: o Python vai ignorar ele."
   ]
  },
  {
   "cell_type": "code",
   "execution_count": 6,
   "metadata": {},
   "outputs": [],
   "source": [
    "class Lampada:\n",
    "    def ligar(self):\n",
    "        print('A lâmpada está ligada')\n",
    "\n",
    "    def desligar(self):\n",
    "        print('A lâmpada está desligada')\n",
    "\n",
    "    def tipo(self):\n",
    "        print('A lâmpada é de LED')\n",
    "    \n",
    "    def tipo_inacessivel_sem_self():\n",
    "        print('Inacessível')"
   ]
  },
  {
   "cell_type": "code",
   "execution_count": 7,
   "metadata": {},
   "outputs": [
    {
     "name": "stdout",
     "output_type": "stream",
     "text": [
      "A lâmpada está ligada\n",
      "A lâmpada está desligada\n",
      "A lâmpada é de LED\n"
     ]
    },
    {
     "data": {
      "text/plain": [
       "<bound method Lampada.tipo_inacessivel_sem_self of <__main__.Lampada object at 0x00000243310DF0A0>>"
      ]
     },
     "execution_count": 7,
     "metadata": {},
     "output_type": "execute_result"
    }
   ],
   "source": [
    "lamp = Lampada()\n",
    "lamp.ligar()\n",
    "lamp.desligar()\n",
    "lamp.tipo()\n",
    "\n",
    "# Observem que apesar de não conseguirmos invocar o método, ele ainda existe na classe.\n",
    "# lamp.tipo_inacessivel_sem_self()\n",
    "lamp.tipo_inacessivel_sem_self\n",
    "# lamp.tipo_inacessivel_sem_self.__name__"
   ]
  },
  {
   "cell_type": "markdown",
   "metadata": {},
   "source": [
    "### Métodos: parâmetros\n",
    "\n",
    "Os métodos podem também receber parâmetros, conforme a sintaxe\n",
    "\n",
    "```nome_do_objeto.nome_do_metodo(parametros)```\n",
    "\n",
    "Lembrando que o self nunca é passado explicitamente. O python vai ignorar e passar os parâmetros a partir dele."
   ]
  },
  {
   "cell_type": "code",
   "execution_count": 13,
   "metadata": {},
   "outputs": [],
   "source": [
    "class Lampada:\n",
    "\n",
    "    def ligar(self):\n",
    "        print('A lâmpada está ligada')\n",
    "    \n",
    "    def desligar(self):\n",
    "        print('A lâmpada está desligada')\n",
    "    \n",
    "    def tipo(self):\n",
    "        print('A lâmpada é de LED')\n",
    "\n",
    "    def metodo_com_parametro(self, parametro_1, parametro_2):\n",
    "        print(f'Parâmetro 1: {parametro_1}, parâmetro 2: {parametro_2}')"
   ]
  },
  {
   "cell_type": "code",
   "execution_count": 15,
   "metadata": {},
   "outputs": [
    {
     "ename": "AttributeError",
     "evalue": "'Lampada' object has no attribute 'estado'",
     "output_type": "error",
     "traceback": [
      "\u001b[1;31m---------------------------------------------------------------------------\u001b[0m",
      "\u001b[1;31mAttributeError\u001b[0m                            Traceback (most recent call last)",
      "Input \u001b[1;32mIn [15]\u001b[0m, in \u001b[0;36m<cell line: 2>\u001b[1;34m()\u001b[0m\n\u001b[0;32m      1\u001b[0m lamp \u001b[38;5;241m=\u001b[39m Lampada()\n\u001b[1;32m----> 2\u001b[0m \u001b[38;5;28mprint\u001b[39m(\u001b[43mlamp\u001b[49m\u001b[38;5;241;43m.\u001b[39;49m\u001b[43mestado\u001b[49m)\n\u001b[0;32m      3\u001b[0m lamp\u001b[38;5;241m.\u001b[39mligar()\n\u001b[0;32m      4\u001b[0m \u001b[38;5;28mprint\u001b[39m(lamp\u001b[38;5;241m.\u001b[39mestado)\n",
      "\u001b[1;31mAttributeError\u001b[0m: 'Lampada' object has no attribute 'estado'"
     ]
    }
   ],
   "source": [
    "lamp = Lampada()\n",
    "print(lamp.estado)\n",
    "lamp.ligar()\n",
    "print(lamp.estado)\n",
    "lamp.metodo_com_parametro('um', 'dois')"
   ]
  },
  {
   "cell_type": "markdown",
   "metadata": {},
   "source": [
    "### Métodos: construtor\n",
    "\n",
    "Nós podemos criar qualquer tipo de método que faça sentido em nossa modelagem. Eles podem possuir nomes diversos, receber parâmetros diversos (além do self) e retornar ou não valores.\n",
    "\n",
    "Mas existe um conjunto de métodos especiais conhecidos como métodos mágicos. Eles possuem nomes específicos e permitem adicionar funcionalidades específicas do Python aos objetos de nossa classe. Nós podemos reconhecer um método mágico graças ao padrão dunder (double underscore): o nome de todos esses métodos padrão segue a sintaxe: ```__nome__```. Abordaremos métodos mágicos diversos em outros capítulos, mas por hora estamos interessados em um método em particular: o método construtor.\n",
    "\n",
    "O construtor é um método executado de maneira automática sempre que um novo objeto de uma classe é criado. Por conta disso, ele é utilizado para realizar a inicialização do objeto, ou seja, a criação de seus atributos e atribuição de um valor inicial. Criando atributos dentro do construtor temos a garantia de que todos os objetos da classe terão os mesmos atributos. Esse método deve ser implementado com o nome ```__init__```:"
   ]
  },
  {
   "cell_type": "code",
   "execution_count": null,
   "metadata": {},
   "outputs": [],
   "source": [
    "class Lampada:\n",
    "    def __init__(self):\n",
    "        # Código do construtor\n",
    "        pass\n",
    "\n",
    "    def ligar(self):\n",
    "        print('A lâmpada está ligada')\n",
    "\n",
    "    def desligar(self):\n",
    "        print('A lâmpada está desligada')\n",
    "    \n",
    "    def tipo(self):\n",
    "        print('A lâmpada é de LED')"
   ]
  },
  {
   "cell_type": "markdown",
   "metadata": {},
   "source": [
    "### Métodos: construtor: atributos\n",
    "\n",
    "Lembram que na nossa lâmpada precisávamos armazenar o estado dela?\n",
    "\n",
    "Com o método construtor podemos declarar também os atributos da classe, para representar o estado dele.\n",
    "\n",
    "No código acima nós só imprimimos na tela o estado. Agora guardamos o estado dela, e retornamos quando necessário."
   ]
  },
  {
   "cell_type": "code",
   "execution_count": null,
   "metadata": {},
   "outputs": [],
   "source": [
    "class Lampada:\n",
    "    def __init__(self):\n",
    "        self.estado: str\n",
    "        self.material: str\n",
    "    \n",
    "    def ligar(self):\n",
    "        self.estado = 'ligada'\n",
    "        print(f'A lâmpada está {self.estado}')\n",
    "    \n",
    "    def desligar(self):\n",
    "        self.estado = 'desigada'\n",
    "        print(f'A lâmpada está {self.estado}')\n",
    "    \n",
    "    def tipo(self):\n",
    "        print('A lâmpada é de LED')"
   ]
  },
  {
   "cell_type": "code",
   "execution_count": null,
   "metadata": {},
   "outputs": [],
   "source": [
    "lamp = Lampada()\n",
    "lamp.ligar()\n",
    "lamp.desligar()"
   ]
  },
  {
   "cell_type": "markdown",
   "metadata": {},
   "source": [
    "No construtor podemos passar valores para os atributos, e eles podem ainda ter valores _default_"
   ]
  },
  {
   "cell_type": "code",
   "execution_count": null,
   "metadata": {},
   "outputs": [],
   "source": [
    "class Lampada:\n",
    "    def __init__(self, estado_inicial):\n",
    "        self.estado: str = estado_inicial\n",
    "        self.material: str = 'LED'\n",
    "    \n",
    "    def ligar(self):\n",
    "        self.estado = 'ligada'\n",
    "        print(f'A lâmpada está {self.estado}')\n",
    "    \n",
    "    def desligar(self):\n",
    "        self.estado = 'desigada'\n",
    "        print(f'A lâmpada está {self.estado}')\n",
    "    \n",
    "    def tipo(self):\n",
    "        print(f'A lâmpada é de {self.material}')"
   ]
  },
  {
   "cell_type": "code",
   "execution_count": null,
   "metadata": {},
   "outputs": [],
   "source": [
    "lamp = Lampada('desligada')\n",
    "lamp.ligar()\n",
    "lamp.desligar()\n",
    "lamp.tipo()\n",
    "\n",
    "print()\n",
    "\n",
    "lamp2 = Lampada('desligada')\n",
    "lamp2.ligar()\n",
    "lamp2.tipo()"
   ]
  },
  {
   "cell_type": "markdown",
   "metadata": {},
   "source": [
    "### Atributos\n",
    "Para acessar os atributos utilizamos a sintaxe\n",
    "\n",
    "```nome_do_objeto.nome_do_atributo```"
   ]
  },
  {
   "cell_type": "code",
   "execution_count": null,
   "metadata": {},
   "outputs": [],
   "source": [
    "lamp = Lampada('desligada')\n",
    "print(lamp.estado)\n",
    "lamp.ligar()\n",
    "print(lamp.estado)\n",
    "print(lamp.material)"
   ]
  },
  {
   "cell_type": "markdown",
   "metadata": {},
   "source": [
    "---------------------------"
   ]
  },
  {
   "cell_type": "markdown",
   "metadata": {},
   "source": [
    "## Praticando um pouco\n",
    "\n",
    "Escreva as classes, métodos (inclusive construtor) e atributos de:\n",
    "\n",
    "### Exercício 1\n",
    "Um portão de garagem"
   ]
  },
  {
   "cell_type": "code",
   "execution_count": null,
   "metadata": {},
   "outputs": [],
   "source": []
  },
  {
   "cell_type": "code",
   "execution_count": null,
   "metadata": {},
   "outputs": [],
   "source": []
  },
  {
   "cell_type": "markdown",
   "metadata": {},
   "source": [
    "### Exercício 2\n",
    "Uma lâmpada com dimmer"
   ]
  },
  {
   "cell_type": "code",
   "execution_count": null,
   "metadata": {},
   "outputs": [],
   "source": []
  },
  {
   "cell_type": "code",
   "execution_count": null,
   "metadata": {},
   "outputs": [],
   "source": []
  },
  {
   "cell_type": "markdown",
   "metadata": {},
   "source": [
    "\n",
    "### Exercício 3\n",
    "Um carro"
   ]
  },
  {
   "cell_type": "code",
   "execution_count": null,
   "metadata": {},
   "outputs": [],
   "source": []
  },
  {
   "cell_type": "code",
   "execution_count": null,
   "metadata": {},
   "outputs": [],
   "source": []
  },
  {
   "cell_type": "markdown",
   "metadata": {},
   "source": [
    "### Exercício 4\n",
    "Uma fração"
   ]
  },
  {
   "cell_type": "code",
   "execution_count": null,
   "metadata": {},
   "outputs": [],
   "source": []
  },
  {
   "cell_type": "markdown",
   "metadata": {},
   "source": [
    "\n",
    "### Exercício 5\n",
    "Um quadrado (incluir cálculo de área e perímetro)"
   ]
  },
  {
   "cell_type": "code",
   "execution_count": null,
   "metadata": {},
   "outputs": [],
   "source": []
  }
 ],
 "metadata": {
  "kernelspec": {
   "display_name": "Python 3 (ipykernel)",
   "language": "python",
   "name": "python3"
  },
  "language_info": {
   "codemirror_mode": {
    "name": "ipython",
    "version": 3
   },
   "file_extension": ".py",
   "mimetype": "text/x-python",
   "name": "python",
   "nbconvert_exporter": "python",
   "pygments_lexer": "ipython3",
   "version": "3.12.3"
  }
 },
 "nbformat": 4,
 "nbformat_minor": 4
}
