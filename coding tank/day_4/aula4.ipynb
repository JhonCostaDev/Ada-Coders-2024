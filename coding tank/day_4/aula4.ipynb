{
 "cells": [
  {
   "cell_type": "markdown",
   "metadata": {},
   "source": [
    "# AULA 4\n",
    "\n",
    "* Loop for\n",
    "* Listas\n",
    "* Índices\n",
    "* Iterações de listas\n",
    "* Métodos de listas\n",
    "\n",
    "Listas são coleções de objetos em Python e é expressada em []"
   ]
  },
  {
   "cell_type": "code",
   "execution_count": null,
   "metadata": {},
   "outputs": [],
   "source": [
    "lista_1 = [] # lista vazia\n",
    "lista_2 = [1, 2, 3, 4] # lista com itens\n",
    "lista_3 = list() # cria uma lista vazia a partir da função list().\n",
    "lista_4 = [1, 2.5, 5]\n",
    "lista_5 = [1, 2.5, \"cinco\", \"5\", True] # aceita qualquer tipo de dados\n",
    "lista_6 = [1, [2, 3]]\n",
    "lista_7 = [lista_1, lista_2, lista_3]\n",
    "\n"
   ]
  },
  {
   "cell_type": "code",
   "execution_count": 2,
   "metadata": {},
   "outputs": [
    {
     "name": "stdout",
     "output_type": "stream",
     "text": [
      "[1, 2, 3, 4, 5, 6, 7, 8, 9, 10]\n"
     ]
    }
   ],
   "source": [
    "lista = [1, 2, 3, 4, 5, 6, 7, 8, 9, 10] # lista com 10 itens\n",
    "# listas sempre tem a primeira posição iniciada em zero.\n",
    "\n",
    "print(lista)\n"
   ]
  },
  {
   "cell_type": "code",
   "execution_count": 3,
   "metadata": {},
   "outputs": [
    {
     "data": {
      "text/plain": [
       "10"
      ]
     },
     "execution_count": 3,
     "metadata": {},
     "output_type": "execute_result"
    }
   ],
   "source": [
    "# Funções em listas\n",
    "\n",
    "# len()\n",
    "len(lista)"
   ]
  },
  {
   "cell_type": "code",
   "execution_count": 4,
   "metadata": {},
   "outputs": [
    {
     "data": {
      "text/plain": [
       "3"
      ]
     },
     "execution_count": 4,
     "metadata": {},
     "output_type": "execute_result"
    }
   ],
   "source": [
    "# Acessando a partir dos índices\n",
    "lista[2]"
   ]
  },
  {
   "cell_type": "code",
   "execution_count": 6,
   "metadata": {},
   "outputs": [
    {
     "data": {
      "text/plain": [
       "10"
      ]
     },
     "execution_count": 6,
     "metadata": {},
     "output_type": "execute_result"
    }
   ],
   "source": [
    "lista[-1]"
   ]
  },
  {
   "cell_type": "code",
   "execution_count": 10,
   "metadata": {},
   "outputs": [
    {
     "data": {
      "text/plain": [
       "str"
      ]
     },
     "execution_count": 10,
     "metadata": {},
     "output_type": "execute_result"
    }
   ],
   "source": [
    "lista_5 = [1, 2.5, \"cinco\", \"5\", True]\n",
    "type(lista_5[0]) #int\n",
    "type(lista_5[1]) # float\n",
    "type(lista_5[2]) # str\n",
    "type(lista_5[3]) # str\n",
    "type(lista_5[4]) # bool"
   ]
  },
  {
   "cell_type": "code",
   "execution_count": 13,
   "metadata": {},
   "outputs": [
    {
     "name": "stdout",
     "output_type": "stream",
     "text": [
      "[1, 2, 3]\n"
     ]
    }
   ],
   "source": [
    "# slice de lista\n",
    "\n",
    "lista = [1, 2, 3, 4, 5, 6, 7, 8, 9, 10] \n",
    "print(lista[:3]) # print(lista[0:3])"
   ]
  },
  {
   "cell_type": "code",
   "execution_count": 14,
   "metadata": {},
   "outputs": [
    {
     "name": "stdout",
     "output_type": "stream",
     "text": [
      "[2, 4, 6, 8]\n"
     ]
    }
   ],
   "source": [
    "lista = [1, 2, 3, 4, 5, 6, 7, 8, 9, 10]\n",
    "print(lista[1:8:2])"
   ]
  },
  {
   "cell_type": "code",
   "execution_count": 16,
   "metadata": {},
   "outputs": [
    {
     "data": {
      "text/plain": [
       "'dois'"
      ]
     },
     "execution_count": 16,
     "metadata": {},
     "output_type": "execute_result"
    }
   ],
   "source": [
    "# Substituição de valores\n",
    "\n",
    "lista[2]\n",
    "lista[2] = 'dois'\n",
    "lista[2]"
   ]
  },
  {
   "cell_type": "code",
   "execution_count": 17,
   "metadata": {},
   "outputs": [
    {
     "data": {
      "text/plain": [
       "100"
      ]
     },
     "execution_count": 17,
     "metadata": {},
     "output_type": "execute_result"
    }
   ],
   "source": [
    "# função append\n",
    "\n",
    "lista.append(100)\n",
    "lista[-1]\n",
    "\n"
   ]
  },
  {
   "cell_type": "code",
   "execution_count": 21,
   "metadata": {},
   "outputs": [
    {
     "data": {
      "text/plain": [
       "[1, 2, 3, 4, 1, 2.5, 'cinco', '5', True]"
      ]
     },
     "execution_count": 21,
     "metadata": {},
     "output_type": "execute_result"
    }
   ],
   "source": [
    "lista_2 = [1, 2, 3, 4] # lista com itens\n",
    "lista_3 = list() # cria uma lista vazia a partir da função list().\n",
    "lista_4 = [1, 2.5, 5]\n",
    "lista_5 = [1, 2.5, \"cinco\", \"5\", True] # aceita qualquer tipo de dados\n",
    "lista_6 = [1, [2, 3]]\n",
    "lista_7 = [lista_2, lista_3]\n",
    "\n",
    "\n",
    "lista_8 = lista_2 + lista_5\n",
    "lista_8"
   ]
  },
  {
   "cell_type": "markdown",
   "metadata": {},
   "source": [
    "* append\n",
    "* insert\n",
    "* remove\n",
    "* pop\n",
    "* sort\n",
    "* sorted\n",
    "* reverse\n",
    "* index\n",
    "* max\n",
    "* min\n",
    "* len"
   ]
  },
  {
   "cell_type": "code",
   "execution_count": 22,
   "metadata": {},
   "outputs": [
    {
     "data": {
      "text/plain": [
       "[1, 2, 'dois', 3, 4]"
      ]
     },
     "execution_count": 22,
     "metadata": {},
     "output_type": "execute_result"
    }
   ],
   "source": [
    "# insert - posição, item\n",
    "lista = [1, 2, 3, 4]\n",
    "lista.insert(2, 'dois')\n",
    "lista"
   ]
  },
  {
   "cell_type": "code",
   "execution_count": 23,
   "metadata": {},
   "outputs": [
    {
     "data": {
      "text/plain": [
       "[0, 1, 3, 5, 8]"
      ]
     },
     "execution_count": 23,
     "metadata": {},
     "output_type": "execute_result"
    }
   ],
   "source": [
    "# sorted - ordena a lista\n",
    "\n",
    "lista = [5,8,3,0,1]\n",
    "sorted(lista)"
   ]
  },
  {
   "cell_type": "code",
   "execution_count": 25,
   "metadata": {},
   "outputs": [
    {
     "data": {
      "text/plain": [
       "[5, 9, 4, 2, 5, 65, 49]"
      ]
     },
     "execution_count": 25,
     "metadata": {},
     "output_type": "execute_result"
    }
   ],
   "source": [
    "# inserir elementos na lista com for \n",
    "\n",
    "lista = []\n",
    "\n",
    "numero = int(input(\"Digite um número inteiro: \"))\n",
    "\n",
    "while numero != 0:\n",
    "    lista.append(numero)\n",
    "    numero = int(input(\"Digite um número inteiro: \"))\n",
    "\n",
    "lista"
   ]
  },
  {
   "cell_type": "code",
   "execution_count": 27,
   "metadata": {},
   "outputs": [
    {
     "name": "stdout",
     "output_type": "stream",
     "text": [
      "5\n",
      "9\n",
      "4\n",
      "2\n",
      "5\n",
      "65\n",
      "49\n"
     ]
    }
   ],
   "source": [
    "# percorrer lista com while\n",
    "\n",
    "lista = [5, 9, 4, 2, 5, 65, 49]\n",
    "\n",
    "i = 0\n",
    "while i < len(lista):\n",
    "    print(lista[i])\n",
    "    i += 1"
   ]
  },
  {
   "cell_type": "code",
   "execution_count": 28,
   "metadata": {},
   "outputs": [
    {
     "name": "stdout",
     "output_type": "stream",
     "text": [
      "139\n"
     ]
    }
   ],
   "source": [
    "# somando itens lista com while\n",
    "\n",
    "lista = [5, 9, 4, 2, 5, 65, 49]\n",
    "soma = 0\n",
    "i = 0\n",
    "while i < len(lista):\n",
    "    soma += lista[i]\n",
    "    i += 1\n",
    "    \n",
    "print(soma)"
   ]
  },
  {
   "cell_type": "code",
   "execution_count": 29,
   "metadata": {},
   "outputs": [
    {
     "data": {
      "text/plain": [
       "139"
      ]
     },
     "execution_count": 29,
     "metadata": {},
     "output_type": "execute_result"
    }
   ],
   "source": [
    "# somando itens lista com sum()\n",
    "\n",
    "lista = [5, 9, 4, 2, 5, 65, 49]\n",
    "sum(lista)"
   ]
  },
  {
   "cell_type": "code",
   "execution_count": 35,
   "metadata": {},
   "outputs": [
    {
     "name": "stdout",
     "output_type": "stream",
     "text": [
      "0\n",
      "1\n",
      "2\n",
      "3\n",
      "4\n",
      "5\n",
      "6\n",
      "7\n",
      "8\n",
      "9\n",
      "10\n",
      "11\n",
      "12\n",
      "13\n",
      "14\n"
     ]
    }
   ],
   "source": [
    "# função range\n",
    "\n",
    "lista = range(15)\n",
    "for item in lista:\n",
    "    print(item)"
   ]
  },
  {
   "cell_type": "code",
   "execution_count": 41,
   "metadata": {},
   "outputs": [
    {
     "name": "stdout",
     "output_type": "stream",
     "text": [
      "5\n",
      "9\n",
      "4\n",
      "2\n",
      "5\n",
      "65\n",
      "49\n",
      "-------------------\n",
      "5 9 4 2 5 65 49 "
     ]
    }
   ],
   "source": [
    "# for\n",
    "\n",
    "lista = [5, 9, 4, 2, 5, 65, 49]\n",
    "\n",
    "for i in range(len(lista)):\n",
    "    print(lista[i])\n",
    "\n",
    "print(\"-------------------\")\n",
    "for item in lista:\n",
    "    print(item, end=\" \")"
   ]
  },
  {
   "cell_type": "code",
   "execution_count": null,
   "metadata": {},
   "outputs": [],
   "source": [
    "# Exercício\n",
    "# 1. Crie uma lista qualquer e faça um programa que imprima cada elemento da lista usando O for."
   ]
  },
  {
   "cell_type": "code",
   "execution_count": 48,
   "metadata": {},
   "outputs": [
    {
     "name": "stdout",
     "output_type": "stream",
     "text": [
      "Existem 5 itens pares na lista\n",
      "[2, 4, 6, 8, 10]\n"
     ]
    }
   ],
   "source": [
    "# 4.4. Faça um programa que olhe todos os itens de uma lista e diga quantos deles são pares. \n",
    "lista = [1, 2, 3, 4, 5, 6, 7, 8, 9, 10] \n",
    "pares = 0\n",
    "lista_pares = []\n",
    "for item in lista:\n",
    "    if item % 2 == 0:\n",
    "        lista_pares.append(item)\n",
    "        pares += 1\n",
    "print(f\"Existem {pares} itens pares na lista\")\n",
    "print(lista_pares)"
   ]
  },
  {
   "cell_type": "code",
   "execution_count": 50,
   "metadata": {},
   "outputs": [
    {
     "name": "stdout",
     "output_type": "stream",
     "text": [
      "7 9 11 13 15 "
     ]
    }
   ],
   "source": [
    "# 7. Faça um programa que, dadas duas listas de mesmo tamanho, crie uma nova lista com cada elemento igual a soma dos elementos da lista 1 com os da lista 2, na mesma posição. \n",
    "# Lista 1\n",
    "lista1 = [1, 2, 3, 4, 5]\n",
    "\n",
    "# Lista 2\n",
    "lista2 = [6, 7, 8, 9, 10]\n",
    "\n",
    "lista3 = []\n",
    "\n",
    "for i in range(len(lista1)):\n",
    "    lista3.append(lista1[i] + lista2[i])\n",
    "    \n",
    "for item in lista3:\n",
    "    print(item, end=\" \")"
   ]
  },
  {
   "cell_type": "code",
   "execution_count": 56,
   "metadata": {},
   "outputs": [
    {
     "name": "stdout",
     "output_type": "stream",
     "text": [
      "5.0\n"
     ]
    }
   ],
   "source": [
    "# 11. Faça um Programa que peça as 4 notas bimestrais e mostre a média, usando listas.\n",
    "\n",
    "notas = []\n",
    "\n",
    "for i in range(4):\n",
    "    notas.append(float(input(\"digite a nota:\")))\n",
    "# soma = 0    \n",
    "# for nota in notas:\n",
    "#     soma += nota\n",
    "    \n",
    "media = sum(notas) /len(notas)\n",
    "print(media)"
   ]
  }
 ],
 "metadata": {
  "kernelspec": {
   "display_name": ".venv",
   "language": "python",
   "name": "python3"
  },
  "language_info": {
   "codemirror_mode": {
    "name": "ipython",
    "version": 3
   },
   "file_extension": ".py",
   "mimetype": "text/x-python",
   "name": "python",
   "nbconvert_exporter": "python",
   "pygments_lexer": "ipython3",
   "version": "3.12.3"
  }
 },
 "nbformat": 4,
 "nbformat_minor": 2
}
