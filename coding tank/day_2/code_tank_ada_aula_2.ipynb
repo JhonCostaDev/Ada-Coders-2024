{
 "cells": [
  {
   "cell_type": "code",
   "execution_count": 1,
   "metadata": {},
   "outputs": [
    {
     "name": "stdout",
     "output_type": "stream",
     "text": [
      "Hello\n"
     ]
    }
   ],
   "source": [
    "print(\"Hello\")"
   ]
  },
  {
   "cell_type": "markdown",
   "metadata": {},
   "source": [
    "[Pense em Python Online](https://penseallen.github.io/PensePython2e/)"
   ]
  },
  {
   "cell_type": "code",
   "execution_count": 1,
   "metadata": {},
   "outputs": [
    {
     "name": "stdout",
     "output_type": "stream",
     "text": [
      "Bem-vindo: jhon\n"
     ]
    }
   ],
   "source": [
    "nome = input(\"Qual é o seu nome:\\n\")\n",
    "print(f\"Bem-vindo: {nome}\")"
   ]
  },
  {
   "cell_type": "markdown",
   "metadata": {},
   "source": [
    "# CODING TANK\n",
    "\n",
    "## Tópicos da aula 2 \n",
    "\n",
    "* Operador lógico\n",
    "* Estrutura Condicional e controle de fluxo\n",
    "* Comando if/else\n",
    "* Comando elif\n",
    "* Funções de string(introdutório)"
   ]
  },
  {
   "cell_type": "markdown",
   "metadata": {},
   "source": [
    "Imagine que o critério de aprovação em uma escola seja a média superior a 7.0 e presença superior a 75%. Neste caso, o aluno precisa atender a ambos os critérios para ser aprovado. Se ele tirou uma ótima nota, mas faltou demais, será reprovado. Se ele compareceu a todas as aulas, mas teve notas baixas, idem."
   ]
  },
  {
   "cell_type": "code",
   "execution_count": 2,
   "metadata": {},
   "outputs": [
    {
     "name": "stdout",
     "output_type": "stream",
     "text": [
      "Aluno aprovado: True\n"
     ]
    }
   ],
   "source": [
    "media = float(input(\"Digite a média das provas:\\n\"))\n",
    "presenca = float(input(\"Digite o percentual de presença\"))\n",
    "\n",
    "aprovado = (media > 7) and (presenca > 0.75)\n",
    "print(f\"Aluno aprovado: {aprovado}\")"
   ]
  },
  {
   "cell_type": "markdown",
   "metadata": {},
   "source": [
    "# Estrutura Condicional\n",
    "* if"
   ]
  },
  {
   "cell_type": "code",
   "execution_count": null,
   "metadata": {},
   "outputs": [],
   "source": [
    "media = float(input(\"Digite a média das provas:\\n\"))\n",
    "\n",
    "if media > 7:\n",
    "    print(\"Aprovado\")\n",
    "if media <= 7:\n",
    "    print(\"Reprovado\")"
   ]
  },
  {
   "cell_type": "markdown",
   "metadata": {},
   "source": [
    "* Else"
   ]
  },
  {
   "cell_type": "code",
   "execution_count": null,
   "metadata": {},
   "outputs": [],
   "source": [
    "media = float(input(\"Digite a média das provas:\\n\"))\n",
    "\n",
    "if media > 7:\n",
    "    print(\"Aprovado\")\n",
    "else:\n",
    "    print(\"Reprovado\")"
   ]
  },
  {
   "cell_type": "markdown",
   "metadata": {},
   "source": [
    "Acrescentando a presença para aprovação do aluno"
   ]
  },
  {
   "cell_type": "code",
   "execution_count": null,
   "metadata": {},
   "outputs": [],
   "source": [
    "media = float(input(\"Digite a média das provas:\\n\"))\n",
    "presenca = float(input(\"Digite o percentual de presença do aluno:\\n\"))\n",
    "\n",
    "if media > 7 and presenca > 0.75:\n",
    "    print(\"Aprovado\")\n",
    "else:\n",
    "    print(\"Reprovado\")"
   ]
  },
  {
   "cell_type": "markdown",
   "metadata": {},
   "source": [
    "Vamos incluir a recuperação nesse exemplo. O aluno tem direito a recuperação se a média é maior que 5.\n",
    "\n",
    "* Se media for maior ou igual a 7: aprovado\n",
    "* Se media for maior ou igual a 5 e menor que 7: recuperação\n",
    "* Se media for menor que 5: Reprovado"
   ]
  },
  {
   "cell_type": "code",
   "execution_count": null,
   "metadata": {},
   "outputs": [],
   "source": [
    "media = float(input(\"Digite a média das provas:\\n\"))\n",
    "\n",
    "\n",
    "if media > 7:\n",
    "    print(\"Aprovado\")\n",
    "if media >= 5 and media < 7:\n",
    "    print(\"Recuperação\")\n",
    "if media < 5:\n",
    "    print(\"Recuperação\")"
   ]
  },
  {
   "cell_type": "markdown",
   "metadata": {},
   "source": [
    "* elif"
   ]
  },
  {
   "cell_type": "code",
   "execution_count": null,
   "metadata": {},
   "outputs": [],
   "source": [
    "media = float(input(\"Digite a média das provas:\\n\"))\n",
    "\n",
    "if media >= 7:\n",
    "    print(\"Aprovado\")\n",
    "elif media >= 5 and media < 7:\n",
    "    print(\"Recuperação\")\n",
    "else:\n",
    "    print(\"Recuperação\")"
   ]
  },
  {
   "cell_type": "code",
   "execution_count": null,
   "metadata": {},
   "outputs": [],
   "source": [
    "media = float(input(\"Digite a média das provas:\\n\"))\n",
    "\n",
    "if media >= 7:\n",
    "    print(\"Aprovado\")\n",
    "elif media >= 5:\n",
    "    print(\"Recuperação\")\n",
    "else:\n",
    "    print(\"Recuperação\")"
   ]
  },
  {
   "cell_type": "code",
   "execution_count": null,
   "metadata": {},
   "outputs": [],
   "source": [
    "# Tratando erros de dígito de média\n",
    "media = float(input(\"Digite a média das provas:\\n\"))\n",
    "\n",
    "if media < 0 or media > 10:\n",
    "    print(\"Valor digitado não compatível\")\n",
    "elif media < 5:\n",
    "    print(\"Reprovado\")\n",
    "elif media < 7:\n",
    "    print(\"Recuperação\")\n",
    "else:\n",
    "    print(\"Aprovado\")\n"
   ]
  },
  {
   "cell_type": "code",
   "execution_count": null,
   "metadata": {},
   "outputs": [],
   "source": [
    "# Tratando erros de dígito de média\n",
    "media = float(input(\"Digite a média das provas:\\n\"))\n",
    "presenca = float(input(\"Digite o percentual de presença do aluno:\\n\"))\n",
    "if (media < 0) or( media > 10) or (presenca < 0) or (presenca > 1):\n",
    "    print(\"Valor digitado não compatível\")\n",
    "elif media >= 7 and presenca >= 0.75:\n",
    "    print(\"Aprovado\")\n",
    "elif media >= 5 and presenca >= 0.75:\n",
    "    print(\"Recuperação\")\n",
    "else:\n",
    "    print(\"Reprovado\")"
   ]
  },
  {
   "cell_type": "markdown",
   "metadata": {},
   "source": [
    "# Bora Praticar\n",
    "1. Faça um programa que peça a idade do usuário e imprima se ele é maior de 18 anos.\n",
    "\n",
    "2. Faça um programa que peça um número e mostre se ele é positivo ou negativo. alternativa: nulo\n",
    "\n",
    "3. Faça um programa que peça dois números e mostre o maior deles.\n",
    "\n",
    "4. Faça um programa que leia a validade das informações:\n",
    "\n",
    "a. Idade: entre 0 e 150;\n",
    "\n",
    "b. Salário: maior que 0;\n",
    "\n",
    "c. Sexo: M, F ou Outro;\n",
    "O programa deve imprimir uma mensagem de erro para cada informação inválida."
   ]
  },
  {
   "cell_type": "code",
   "execution_count": 3,
   "metadata": {},
   "outputs": [
    {
     "name": "stdout",
     "output_type": "stream",
     "text": [
      "Você é maior de idade.\n"
     ]
    }
   ],
   "source": [
    "#. Faça um programa que peça a idade do usuário e imprima se ele é maior de 18 anos.\n",
    "idade = int(input(\"Digite sua idade: \\n\"))\n",
    "\n",
    "if idade >= 18:\n",
    "    print(\"Você é maior de idade.\")\n",
    "else:\n",
    "    print(\"Você é menor de idade.\")"
   ]
  },
  {
   "cell_type": "code",
   "execution_count": null,
   "metadata": {},
   "outputs": [],
   "source": [
    "#Faça um programa que peça um número e mostre se ele é positivo ou negativo. alternativa: nulo\n",
    "\n",
    "numero = int(input(\"Digite um número:\\n\"))\n",
    "if numero == 0:\n",
    "    print(\"O número é nulo\")\n",
    "elif numero > 0:\n",
    "    print(\"O número é positivo\")\n",
    "elif numero < 0:\n",
    "    print(\"O número é negativo\")\n",
    "else:\n",
    "    print(\"Entrada inválida.\")"
   ]
  },
  {
   "cell_type": "code",
   "execution_count": null,
   "metadata": {},
   "outputs": [],
   "source": [
    "# Faça um programa que peça dois números e mostre o maior deles.\n",
    "\n",
    "numero_1 = int(input(\"Digite o primeiro número:\\n\"))\n",
    "numero_2 = int(input(\"Digite o segundo número:\\n\"))\n",
    "\n",
    "if numero_1 == numero_2:\n",
    "    print(\"São iguais...\")\n",
    "elif numero_1 > numero_2:\n",
    "    print(f\"O numero {numero_1} é maior que o número {numero_2}\")\n",
    "elif numero_1 < numero_2:\n",
    "    print(f\"O numero {numero_2} é maior que o número {numero_1}\")\n",
    "else:\n",
    "    print(\"Entrada inválida.\")\n"
   ]
  },
  {
   "cell_type": "code",
   "execution_count": 13,
   "metadata": {},
   "outputs": [
    {
     "name": "stdout",
     "output_type": "stream",
     "text": [
      "idade: 5\n",
      "Salário: 5.0\n",
      "sexo: M\n"
     ]
    }
   ],
   "source": [
    "#Faça um programa que leia a validade das informações:\n",
    "'''\n",
    "a. Idade: entre 0 e 150;\n",
    "\n",
    "b. Salário: maior que 0;\n",
    "\n",
    "c. Sexo: M, F ou Outro;\n",
    "\n",
    "O programa deve imprimir uma mensagem de erro para cada informação inválida.\n",
    "'''\n",
    "idade = int(input(\"Digite sua idade:\\n\"))\n",
    "salario = float(input(\"Digite o salário:\\n\"))\n",
    "sexo = input(\"Digite 'M' - Masculino e 'F' - Feminino\\n\")\n",
    "\n",
    "if idade <= 0 or idade >= 150:\n",
    "    print(\"idade inválida\")\n",
    "else:\n",
    "    print(f\"idade: {idade}\")\n",
    "\n",
    "if salario < 0:\n",
    "    print(\"salário inválido\")\n",
    "else:\n",
    "    print(f\"Salário: {salario}\")\n",
    "    \n",
    "if sexo != 'M' and sexo != 'F' and sexo != 'Outro':\n",
    "    print(\"Informação sexo Inválida\")\n",
    "else:\n",
    "    print(f\"sexo: {sexo}\")"
   ]
  },
  {
   "cell_type": "code",
   "execution_count": null,
   "metadata": {},
   "outputs": [],
   "source": [
    "#https://chat.whatsapp.com/Fe3coIqJgmG3noX1OAJEBu"
   ]
  },
  {
   "cell_type": "markdown",
   "metadata": {},
   "source": [
    "# Funções de String\n",
    "\n",
    "* upper\n",
    "* lower"
   ]
  },
  {
   "cell_type": "code",
   "execution_count": 18,
   "metadata": {},
   "outputs": [
    {
     "name": "stdout",
     "output_type": "stream",
     "text": [
      "VaMoS PrOgrAmaR\n",
      "VAMOS PROGRAMAR\n",
      "vamos programar\n",
      "Vamos Programar\n",
      "Vamos programar\n"
     ]
    }
   ],
   "source": [
    "frase = \"VaMoS PrOgrAmaR\"\n",
    "maiuscula = frase.upper()\n",
    "minuscula = frase.lower()\n",
    "titulo = frase.title()\n",
    "capitalizado = frase.capitalize()\n",
    "print(frase)\n",
    "print(maiuscula)\n",
    "print(minuscula)\n",
    "print(titulo)\n",
    "print(capitalizado)"
   ]
  },
  {
   "cell_type": "code",
   "execution_count": null,
   "metadata": {},
   "outputs": [],
   "source": [
    "usuario = input(\"Digite Sim para aceitar os termos de uso...\")\n",
    "\n",
    "if usuario.upper() == 'SIM':\n",
    "    print(\"Seja Bem-vindo\")"
   ]
  },
  {
   "cell_type": "markdown",
   "metadata": {},
   "source": [
    "# Exercício\n",
    "\n",
    "5) Escreva um programa que peça a nota de 3 provas de um aluno e verifique se ele passou ou não de ano.\n",
    "Obs.: O aluno irá passar de ano se sua média for maior que 6.\n",
    "\n",
    "6) Faça um programa que mostre uma questão de múltipla escolha com 5 opções (letras a, b, c, d, e). \n",
    "Sabendo a resposta certa, o programa deve receber a opção do usuário e informar a letra que o usuário marcou e se a resposta está certa ou errada.\n",
    "\n",
    "\n",
    "7)\n",
    "Vamos fazer um programa para verificar quem é o assassino de um crime. Para descobrir o assassino, \n",
    "a polícia faz um pequeno questionário com 5 perguntas \n",
    "onde a resposta só pode ser sim ou não:\n",
    "\n",
    "a. Mora perto da vítima?\n",
    "\n",
    "b. Já trabalhou com a vítima?\n",
    "\n",
    "c. Telefonou para a vítima?\n",
    "\n",
    "d. Esteve no local do crime?\n",
    "\n",
    "e. Devia para a vítima?\n",
    "\n",
    "Cada resposta sim dá um ponto para o suspeito. A polícia considera que os suspeitos com 5 pontos são os assassinos, com 4 a 3 pontos \n",
    "são cúmplices e 2 pontos s\n",
    "\n",
    "8) Um produto vai sofrer aumento de acordo com a Tabela 1 abaixo. Faça um programa que peça para o usuário digitar o valor do produto de acordo \n",
    "com o preço antigo e escreva uma das mensagens da Tabela 2, de acordo com o preço reajustado:\n",
    "\n",
    "Tabela 1\n",
    "\n",
    "| Preço Antigo         | % de aumento |\n",
    "|----------------------|--------------|\n",
    "| Até 50 reais         | 5%           |\n",
    "| Entre 50 e 100 reais | 10%          |\n",
    "| De 100 a 150 reais   | 13%          |\n",
    "| Acima de 150 reais   | 15%          |\n",
    "\n",
    "Tabela 2\n",
    "\n",
    "| Preço Novo            | Mensagem   |\n",
    "|-----------------------|------------|\n",
    "| Até 80 reais          | Barato     |\n",
    "| Entre 80 e 115 reais  | Razoável   |\n",
    "| Entre 115 e 150 reais | Normal     |\n",
    "| Entre 150 e 170 reais | Caro       |\n",
    "| Acima de 170 reais    | Muito Caro |\n",
    "\n",
    "9) Desafio 1 - Faça um programa que leia 3 números e informe o maior deles.\n",
    "\n"
   ]
  }
 ],
 "metadata": {
  "kernelspec": {
   "display_name": ".venv",
   "language": "python",
   "name": "python3"
  },
  "language_info": {
   "codemirror_mode": {
    "name": "ipython",
    "version": 3
   },
   "file_extension": ".py",
   "mimetype": "text/x-python",
   "name": "python",
   "nbconvert_exporter": "python",
   "pygments_lexer": "ipython3",
   "version": "3.12.3"
  }
 },
 "nbformat": 4,
 "nbformat_minor": 2
}
