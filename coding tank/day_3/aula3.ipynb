{
 "cells": [
  {
   "cell_type": "markdown",
   "metadata": {},
   "source": [
    "# aula 3 - Estruturas de repetição\n",
    "* Loop While\n",
    "\n"
   ]
  },
  {
   "cell_type": "code",
   "execution_count": 2,
   "metadata": {},
   "outputs": [
    {
     "name": "stdout",
     "output_type": "stream",
     "text": [
      "O número 89 é maior!\n"
     ]
    }
   ],
   "source": [
    "# Exemplo da última aula\n",
    "\n",
    "num1 = int(input(\"Digite o primeiro número: \\n\"))\n",
    "num2 = int(input(\"Digite o segundo número: \\n\"))\n",
    "num3 = int(input(\"Digite o terceiro número: \\n\"))\n",
    "\n",
    "if num1 == num2 and num1 == num3:\n",
    "    print(f\"Os três números são iguais e tem o valor {num1}\")\n",
    "elif num1 >= num2 and num1 >= num3:\n",
    "    print(f\"O número {num1} é maior!\")\n",
    "elif num2 >= num1 and  num2 >= num3:\n",
    "    print(f\"O número {num2} é maior!\")\n",
    "elif num3 >= num1 and  num3 >= num2:\n",
    "    print(f\"O número {num3} é maior!\")"
   ]
  },
  {
   "cell_type": "markdown",
   "metadata": {},
   "source": [
    "Um if não garante que eu consigo validar o valor de um campo pois se o usuário não acertar na segunda vez, ele seguirá inválido.\n"
   ]
  },
  {
   "cell_type": "code",
   "execution_count": null,
   "metadata": {},
   "outputs": [],
   "source": [
    "salario = float(input(\"Digite seu salário: \\n\"))\n",
    "\n",
    "if salario < 1100:\n",
    "    salario = float(input(\"Salário inválido! Digite seu salário: \\n\"))"
   ]
  },
  {
   "cell_type": "code",
   "execution_count": 3,
   "metadata": {},
   "outputs": [
    {
     "name": "stdout",
     "output_type": "stream",
     "text": [
      "1100.0\n"
     ]
    }
   ],
   "source": [
    "salario = float(input(\"Digite seu salário: \\n\"))\n",
    "\n",
    "while salario < 1100:\n",
    "     salario = float(input(\"Salário inválido! Digite seu salário: \\n\"))\n",
    "print(salario)"
   ]
  },
  {
   "cell_type": "code",
   "execution_count": 4,
   "metadata": {},
   "outputs": [
    {
     "name": "stdout",
     "output_type": "stream",
     "text": [
      "O maior número digitado foi:  103\n"
     ]
    }
   ],
   "source": [
    "numero = int(input(\"Digite um número\"))\n",
    "\n",
    "maior = numero\n",
    "\n",
    "while numero != 0:\n",
    "    numero = int(input(\"Digite um outro número, ou digite 0 para sair\"))\n",
    "    if numero > maior:\n",
    "        maior = numero\n",
    "        \n",
    "print(f\"O maior número digitado foi: \", maior)"
   ]
  },
  {
   "cell_type": "code",
   "execution_count": 5,
   "metadata": {},
   "outputs": [
    {
     "name": "stdout",
     "output_type": "stream",
     "text": [
      "A soma de todos os número é 15\n"
     ]
    }
   ],
   "source": [
    "# Some todos os números de 0 a um número digitado pelo usuário.\n",
    "# 4 + 3 + 2 + 1 + 0 = 10\n",
    "\n",
    "soma = 0\n",
    "\n",
    "numero = int(input(\"Digite um número positivo: \\n\"))\n",
    "\n",
    "while numero > 0:\n",
    "    soma += numero\n",
    "    numero -= 1\n",
    "    \n",
    "print(f\"A soma de todos os número é {soma}\")"
   ]
  },
  {
   "cell_type": "code",
   "execution_count": 7,
   "metadata": {},
   "outputs": [
    {
     "name": "stdout",
     "output_type": "stream",
     "text": [
      "A soma de todos os número é 10\n"
     ]
    }
   ],
   "source": [
    "# 0 + 1 + 2 + 3 + 4 = 10\n",
    "\n",
    "soma = 0\n",
    "contador = 0\n",
    "\n",
    "numero = int(input(\"Digite um número positivo: \\n\"))\n",
    "\n",
    "while contador <= numero:\n",
    "    soma += contador\n",
    "    contador += 1\n",
    "    \n",
    "print(f\"A soma de todos os número é {soma}\")"
   ]
  },
  {
   "cell_type": "markdown",
   "metadata": {},
   "source": [
    "## Comandos que manipulam o fluxo\n",
    "\n",
    "* **Comando break**: Utilizado para interromper a execução de um laço(for o while) antes que ele termine normalmente.\n",
    "\n",
    "* **Comando continue**: Utilizado para pular a iteração atual de um laço e continuar com a próxima iteração.\n",
    "\n",
    "* **Comando pass**: É usado como espaço reservado para código. Não faz nada e é frequentemente usado para evitar erros de sintaxe em blocos vazios."
   ]
  },
  {
   "cell_type": "code",
   "execution_count": 8,
   "metadata": {},
   "outputs": [
    {
     "name": "stdout",
     "output_type": "stream",
     "text": [
      "Tente um número maior!\n",
      "Tente um número menor!\n",
      "Tente um número menor!\n",
      "Tente um número menor!\n",
      "Parabéns, você acertou!\n"
     ]
    }
   ],
   "source": [
    "# Exercício exemplo\n",
    "'''\n",
    "1.Escreva um jogo simples em que o jogador tenta adivinhar um número secreto. O jogo continua até o jogador adivinhar corretamente ou desistir.\n",
    "'''\n",
    "\n",
    "numero_secreto = 7\n",
    "\n",
    "while True:\n",
    "    chute = int(input(\"Digite um número de 1 à 10:\\n\"))\n",
    "    \n",
    "    if chute == numero_secreto:\n",
    "        print(\"Parabéns, você acertou!\")\n",
    "        break\n",
    "    elif chute < numero_secreto:\n",
    "        print(\"Tente um número maior!\")\n",
    "    else:\n",
    "        print(\"Tente um número menor!\")"
   ]
  },
  {
   "cell_type": "markdown",
   "metadata": {},
   "source": [
    "1) Escreva um programa que solicite um número inteiro e imprima na tela todos os números de 1 até o número digitado, separado por espaços.  \n",
    "_Exemplo_  \n",
    "número digitado: 5  \n",
    "resultado esperado: 1 2 3 4 5\n",
    "\n",
    "2) Faça um programa que mostre o fatorial de um número digitado.  \n",
    "_Exemplo_  \n",
    "número digitado: 5  \n",
    "resultado esperado: 120\n",
    "\n",
    "3) Faça um programa que imprima a tabuada do 9 na tela (entre 1 e 10). Insira a conta, por exemplo, 9 * 1 = 9, sendo cada um dos valores em uma linha diferente.\n",
    "4) Faça um programa em que o usuário digite números quaisquer e encerrará no momento em que o valor 0 seja digitado. Ao final diga qual foi o maior número digitado."
   ]
  },
  {
   "cell_type": "code",
   "execution_count": 17,
   "metadata": {},
   "outputs": [
    {
     "name": "stdout",
     "output_type": "stream",
     "text": [
      "1 2 3 4 5 6 7 8 \n"
     ]
    }
   ],
   "source": [
    "'''\n",
    "1) Escreva um programa que solicite um número inteiro e imprima na tela todos os números de 1 até o número digitado, separado por espaços.  \n",
    "_Exemplo_  \n",
    "número digitado: 5  \n",
    "resultado esperado: 1 2 3 4 5\n",
    "'''\n",
    "numero = int(input(\"Digite um número inteiro maior que 0\\n\"))\n",
    "contador = 1\n",
    "resultado = ''\n",
    "while contador <= numero:\n",
    "    resultado += f'{contador} '\n",
    "    contador += 1\n",
    "\n",
    "print(resultado)"
   ]
  },
  {
   "cell_type": "code",
   "execution_count": 14,
   "metadata": {},
   "outputs": [
    {
     "name": "stdout",
     "output_type": "stream",
     "text": [
      "120\n"
     ]
    }
   ],
   "source": [
    "''' \n",
    "2) Faça um programa que mostre o fatorial de um número digitado.  \n",
    "_Exemplo_  \n",
    "número digitado: 5  \n",
    "resultado esperado: 120\n",
    "\n",
    "resultado=1\n",
    "count=1\n",
    "\n",
    "while count <= numero:\n",
    "    resultado *= count\n",
    "    count += 1\n",
    "\n",
    "print(resultado)\n",
    "'''\n",
    "numero = int(input(\"Digite um número inteiro maior que 0\\n\"))\n",
    "fatorial = 1\n",
    "contador = 1\n",
    "while contador <= numero:\n",
    "    fatorial *= contador\n",
    "    contador += 1\n",
    "    \n",
    "print(fatorial)"
   ]
  },
  {
   "cell_type": "code",
   "execution_count": 16,
   "metadata": {},
   "outputs": [
    {
     "name": "stdout",
     "output_type": "stream",
     "text": [
      "9 X 1 = 9\n",
      "9 X 2 = 18\n",
      "9 X 3 = 27\n",
      "9 X 4 = 36\n",
      "9 X 5 = 45\n",
      "9 X 6 = 54\n",
      "9 X 7 = 63\n",
      "9 X 8 = 72\n",
      "9 X 9 = 81\n",
      "9 X 10 = 90\n"
     ]
    }
   ],
   "source": [
    "''' \n",
    "3) Faça um programa que imprima a tabuada do 9 na tela (entre 1 e 10). Insira a conta, por exemplo, 9 * 1 = 9, sendo cada um dos valores em uma linha diferente.\n",
    "'''\n",
    "\n",
    "tabuada = 9\n",
    "contador = 1\n",
    "\n",
    "while contador <= tabuada + 1:\n",
    "    print(f\"{tabuada} X {contador} = {tabuada * contador}\")\n",
    "    contador += 1"
   ]
  },
  {
   "cell_type": "code",
   "execution_count": null,
   "metadata": {},
   "outputs": [],
   "source": [
    "''' \n",
    "4) Faça um programa em que o usuário digite números quaisquer e encerrará no momento em que o valor 0 seja digitado. Ao final diga qual foi o maior número digitado.\n",
    "'''\n",
    "\n",
    "numero = int(input(\"Digite um número\"))\n",
    "\n",
    "maior = numero\n",
    "\n",
    "while numero != 0:\n",
    "    numero = int(input(\"Digite um outro número, ou digite 0 para sair\"))\n",
    "    if numero > maior:\n",
    "        maior = numero\n",
    "        \n",
    "print(f\"O maior número digitado foi: \", maior)"
   ]
  },
  {
   "cell_type": "markdown",
   "metadata": {},
   "source": [
    "5) Faça um script que peça para o usuário digitar a idade, o salário e o sexo de uma pessoa até que as entradas digitadas sejam válidas.\n",
    "\n",
    "a. Idade: entre 0 e 150\n",
    "b. Salário: maior que 0\n",
    "c. Gênero: M, F ou Outro\n",
    "\n",
    "Por último imprima os dados recebidos do usuário.\n",
    "6) Faça uma calculadora. O usuário deve inserir qual a operação matemática ele deseja realizar e logo em seguida os dois números. O programa deve finalizar apenas quando o usuário digitar a opção \"sair\" no momento de escolha da operação matemática."
   ]
  },
  {
   "cell_type": "code",
   "execution_count": 1,
   "metadata": {},
   "outputs": [
    {
     "name": "stdout",
     "output_type": "stream",
     "text": [
      "SOMA: 65.0 + 12.0 = 77.0\n"
     ]
    }
   ],
   "source": [
    "# teste\n",
    "while True:\n",
    "    menu = input(f'''Escolha uma das opções entre parênteses abaixo:\n",
    "            (+) - SOMAR\n",
    "            (-) - SUBTRAIR\n",
    "            (*) - MULTIPLICARg\n",
    "            (/) - DIVIDIR\n",
    "            (sair) - SAIR\n",
    "                    ''').lower()\n",
    "\n",
    "    if menu != '+' and menu != '-' and menu != '*' and menu != '/'and menu != 'sair':\n",
    "         print(\"Opção inválida.\")\n",
    "    elif menu == 'sair':\n",
    "            break\n",
    "    else: \n",
    "        numero_1 = float(input(\"Digite o primeiro número:\\n\"))\n",
    "        numero_2 = float(input(\"Digite o segundo número:\\n\"))\n",
    "        \n",
    "        if menu == '+':\n",
    "            print(f\"SOMA: {numero_1} + {numero_2} = {numero_1 + numero_2}\")\n",
    "        elif menu == '-':\n",
    "            print(f\"SUBTRAÇÃO: {numero_1} - {numero_2} = {numero_1 - numero_2}\")\n",
    "        elif menu == '*':\n",
    "            print(f\"MULTIPLICAÇÃO: {numero_1} x {numero_2} = {numero_1 * numero_2}\")\n",
    "        elif menu == '/':\n",
    "            print(f\"DIVISÃO: {numero_1} / {numero_2} = {numero_1 / numero_2}\")"
   ]
  }
 ],
 "metadata": {
  "kernelspec": {
   "display_name": ".venv",
   "language": "python",
   "name": "python3"
  },
  "language_info": {
   "codemirror_mode": {
    "name": "ipython",
    "version": 3
   },
   "file_extension": ".py",
   "mimetype": "text/x-python",
   "name": "python",
   "nbconvert_exporter": "python",
   "pygments_lexer": "ipython3",
   "version": "3.12.3"
  }
 },
 "nbformat": 4,
 "nbformat_minor": 2
}
