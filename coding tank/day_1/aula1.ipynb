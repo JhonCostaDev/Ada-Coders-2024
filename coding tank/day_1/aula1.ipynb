{
 "cells": [
  {
   "cell_type": "markdown",
   "metadata": {},
   "source": [
    "# Variáveis\n",
    "Em nossos programas, frequentemente precisaremos armazenar dados temporariamente. Esses dados podem ser adquiridos de alguma maneira (digitados pelo teclado, lidos de um arquivo etc.) ou calculados pelo nosso programa com base em outros dados. Imagine, por exemplo, que você gostaria de calcular a média de um aluno a partir de suas notas. Precisaremos que o aluno digite suas notas, e o programa irá calcular um novo valor, a média. Armazenaremos nossos dados temporariamente em variáveis.\n",
    "\n",
    "Variáveis são \"pedacinhos de memória\" onde guardamos dados. Sempre que referenciamos o nome, o pedacinho de memória é acessado e seu dado é recuperado.\n",
    "\n",
    "Criamos variáveis dando um nome a elas e usando o operador de atribuição (o sinal de igualdade: =) para atribuir um valor inicial."
   ]
  },
  {
   "cell_type": "code",
   "execution_count": 2,
   "metadata": {},
   "outputs": [],
   "source": [
    "nome = 'Francisco'\n",
    "idade = 21\n",
    "comida_favorita = 'pizza'\n",
    "habilitado = False\n",
    "peso = 83.6\n"
   ]
  },
  {
   "cell_type": "markdown",
   "metadata": {},
   "source": [
    "Tente sempre utilizar nomes intuitivos para suas variáveis. O nome deveria ser uma boa descrição do dado que a variável guarda. Nomes como 'x', 'y', 'z', 'a', 'b', 'c', 'a1', 'a2', 'a3' etc. podem se tornar bastante confusos quando nossos códigos são muito grandes. Quanto mais descritivos os nomes forem, melhor.\n",
    "\n",
    "Os nomes de variáveis podem conter letras, números e o símbolo _, mas eles não podem começar com número.\n",
    "\n",
    "Dica: existe uma grande variedade de padrões diferentes que podemos adotar para nomear nossas variáveis. Em Python é recomendável utilizar o padrão conhecido como snake case, em que nomes de variáveis com múltiplas palavras adotam o símbolo _ para separar as palavras. Exemplos: nome_completo, nota_da_prova etc.\n",
    "\n",
    "## Tipos de variáveis\n",
    "\n",
    "Variáveis podem ter diferentes tipos. Alguns tipos são considerados tipos primitivos, ou seja, eles são tipos de dados mais básicos que podem ser utilizados para compor outros tipos mais complexos. Em Python esses tipos levam os seguintes nomes:\n",
    "\n",
    "* int: números inteiros, ou seja, números sem parte decimal: 0, 5, -1, 1000\n",
    "* float: números reais, ou seja, números com parte decimal: 1.0, -2.7, 3.14\n",
    "* str: cadeias de caracteres (strings), ou seja, dados textuais: 'Olá Mundo!', \"eu tenho 18 anos\"\n",
    "* bool: valores lógicos (booleanos), ou seja, apenas um entre dois valores possíveis: True ou False\n",
    "\n",
    "O Python é uma linguagem dinamicamente tipada. Isso significa que não precisamos especificar o tipo de uma variável: a própria linguagem tenta determinar o tipo de acordo com o dado atribuído à variável.\n",
    "\n",
    "## Comentários\n",
    "\n",
    "Quando utilizamos o símbolo #, o Python irá ignorar tudo o que vier em seguida (na mesma linha). Utilizamos comentários para explicar pedaços do nosso código para que nós mesmos ou outros colegas no futuro entendam o que fizemos e possam modificar ou corrigir o código com mais facilidade. Também podemos escrever comentários de múltiplas linhas utilizando aspas triplas - neste caso, as utilizamos para abrir e depois para fechar o bloco de comentários."
   ]
  },
  {
   "cell_type": "code",
   "execution_count": null,
   "metadata": {},
   "outputs": [],
   "source": [
    "'''\n",
    "Este é um comentário de várias linhas.\n",
    "Tudo que veio após o primeiro trio de aspas e antes do segundo\n",
    "será ignorado pelo Python.\n",
    "'''"
   ]
  },
  {
   "cell_type": "markdown",
   "metadata": {},
   "source": [
    "Na verdade, esse tipo de comentário não é exatamente um comentário, mas uma string com múltiplas linhas. O Python enxerga que apenas \"declaramos\" uma string no meio do código, sem utilizá-la ou atribuí-la para qualquer variável, e por conta disso ela é ignorada, funcionando na prática como um comentário.\n",
    "\n",
    "        Na maioria das IDEs você possui teclas de atalho para facilmente transformar um bloco inteiro de código em comentário para temporariamente desabilitá-lo. Isso pode ser útil quando estamos testando soluções alternativas para um problema ou corrigindo erros. No Visual Studio Code, por exemplo, você pode utilizar ctrl+/ para transformar uma seleção em comentário.\n",
    "\n",
    "## Saídas\n",
    "\n",
    "Chamamos de saídas do nosso programa todos os dados que são gerados pelo programa e serão fornecidos para o usuário. A função de saída em tela no Python é o print. Colocamos entre parênteses o dado que queremos que apareça.\n",
    "\n"
   ]
  },
  {
   "cell_type": "code",
   "execution_count": 3,
   "metadata": {},
   "outputs": [
    {
     "name": "stdout",
     "output_type": "stream",
     "text": [
      "Hello, world!\n"
     ]
    }
   ],
   "source": [
    "print(\"Hello, world!\") "
   ]
  },
  {
   "cell_type": "markdown",
   "metadata": {},
   "source": [
    "Podemos exibir múltiplos dados em um print. Para isso, basta separá-los por vírgula e eles irão aparecer na tela na mesma ordem que apareceram no código:"
   ]
  },
  {
   "cell_type": "code",
   "execution_count": 4,
   "metadata": {},
   "outputs": [
    {
     "name": "stdout",
     "output_type": "stream",
     "text": [
      "Brasileiro 21\n"
     ]
    }
   ],
   "source": [
    "nacionalidade = 'Brasileiro'\n",
    "idade = 21\n",
    "print(nacionalidade, idade)"
   ]
  },
  {
   "cell_type": "markdown",
   "metadata": {},
   "source": [
    "Note que quando usamos aspas, o Python trata o valor como uma string, um texto literal. Quando não usamos aspas, o Python irá considerar que aquele é o nome de uma variável e irá acessá-la para buscar seu valor.\n",
    "\n",
    "Note que os dados aparecem em tela separados por um espaço automaticamente. Dois prints sucessivos também possuem uma quebra de linha entre eles. Você pode passar as opções sep e end dentro de seu print para especificar diferentes comportamentos. Exemplo:"
   ]
  },
  {
   "cell_type": "code",
   "execution_count": 7,
   "metadata": {},
   "outputs": [
    {
     "name": "stdout",
     "output_type": "stream",
     "text": [
      "Meu nome é Mario e minha comida favorita é Cogumelo!"
     ]
    }
   ],
   "source": [
    "nome = \"Mario\"\n",
    "comida_favorita = 'Cogumelo'\n",
    "\n",
    "print(f\"Meu nome é {nome} e minha comida favorita é {comida_favorita}\", end='!')"
   ]
  },
  {
   "cell_type": "code",
   "execution_count": 8,
   "metadata": {},
   "outputs": [
    {
     "name": "stdout",
     "output_type": "stream",
     "text": [
      "Meu carro: -Fiat-uno"
     ]
    }
   ],
   "source": [
    "marca = 'Fiat'\n",
    "modelo = 'uno'\n",
    "\n",
    "print(\"Meu carro: \", marca, modelo, sep='-', end=\"\")"
   ]
  },
  {
   "cell_type": "markdown",
   "metadata": {},
   "source": [
    "Dica: caso você ache confuso separar os dados por vírgulas, você pode alternativamente utilizar uma f-string. Não entraremos em detalhes agora, mas o funcionamento básico é simples: coloque um f antes de abrir aspas, e dentro do texto você pode colocar o nome das variáveis entre chaves. o print abaixo terá o mesmo resultado que o exemplo anterior:"
   ]
  },
  {
   "cell_type": "code",
   "execution_count": 9,
   "metadata": {},
   "outputs": [
    {
     "name": "stdout",
     "output_type": "stream",
     "text": [
      "Meu carro: Fiat - uno\n"
     ]
    }
   ],
   "source": [
    "print(f\"Meu carro: {marca} - {modelo}\")"
   ]
  },
  {
   "cell_type": "markdown",
   "metadata": {},
   "source": [
    "## Entradas\n",
    "\n",
    "Assim como temos dados de saída - dados gerados pelo código e fornecidos para o usuário - também temos dados de entrada: informações que o usuário possui e deve fornecer ao código. Para receber entradas pelo teclado, utilizaremos a função input. Devemos levar uma variável a receber o valor capturado pelo input."
   ]
  },
  {
   "cell_type": "code",
   "execution_count": 12,
   "metadata": {},
   "outputs": [
    {
     "name": "stdout",
     "output_type": "stream",
     "text": [
      "Olá  fulio\n"
     ]
    }
   ],
   "source": [
    "nome = input(\"Digite seu nome: \")\n",
    "print(\"Olá \",nome)"
   ]
  },
  {
   "cell_type": "markdown",
   "metadata": {},
   "source": [
    "O programa acima captura o nome do usuário e em seguida mostra a mensagem \"olá\" seguida do nome do usuário. Note que o programa fica parado em uma tela em branco com um cursor piscando aguardando a digitação pelo usuário. Isso pode ser confuso para o usuário, que não sabe o que o programa está esperando. Por isso, dentro dos parênteses do input podemos colocar uma mensagem simples informando o que o programa gostaria que ele fizesse.\n",
    "\n",
    "## Determinando o tipo de entrada\n",
    "\n",
    "Vamos imaginar um programa que informa quantos anos falta para que uma criança atinja a maioridade. Podemos ler a idade da criança pelo teclado (entrada), subtrair a idade do número 18 (processamento) e exibir o resultado da conta na tela (saída). Considere a solução abaixo:\n",
    "\n"
   ]
  },
  {
   "cell_type": "code",
   "execution_count": 15,
   "metadata": {},
   "outputs": [
    {
     "ename": "TypeError",
     "evalue": "unsupported operand type(s) for -: 'int' and 'str'",
     "output_type": "error",
     "traceback": [
      "\u001b[0;31m---------------------------------------------------------------------------\u001b[0m",
      "\u001b[0;31mTypeError\u001b[0m                                 Traceback (most recent call last)",
      "Cell \u001b[0;32mIn[15], line 4\u001b[0m\n\u001b[1;32m      1\u001b[0m maior_idade \u001b[38;5;241m=\u001b[39m \u001b[38;5;241m18\u001b[39m\n\u001b[1;32m      2\u001b[0m idade \u001b[38;5;241m=\u001b[39m \u001b[38;5;28minput\u001b[39m(\u001b[38;5;124m\"\u001b[39m\u001b[38;5;124mDigite sua idade:\u001b[39m\u001b[38;5;124m\"\u001b[39m)\n\u001b[0;32m----> 4\u001b[0m \u001b[38;5;28mprint\u001b[39m(\u001b[38;5;124mf\u001b[39m\u001b[38;5;124m\"\u001b[39m\u001b[38;5;124mfalta \u001b[39m\u001b[38;5;132;01m{\u001b[39;00m\u001b[43mmaior_idade\u001b[49m\u001b[38;5;250;43m \u001b[39;49m\u001b[38;5;241;43m-\u001b[39;49m\u001b[38;5;250;43m \u001b[39;49m\u001b[43midade\u001b[49m\u001b[38;5;132;01m}\u001b[39;00m\u001b[38;5;124m anos para sua maior-idade!\u001b[39m\u001b[38;5;124m\"\u001b[39m)\n",
      "\u001b[0;31mTypeError\u001b[0m: unsupported operand type(s) for -: 'int' and 'str'"
     ]
    }
   ],
   "source": [
    "maior_idade = 18\n",
    "idade = input(\"Digite sua idade:\")\n",
    "\n",
    "print(f\"falta {maior_idade - idade} anos para sua maior-idade!\")"
   ]
  },
  {
   "cell_type": "markdown",
   "metadata": {},
   "source": [
    "Se você copiar e executar o programa, ele dará erro na quarta linha. Isso ocorre porque o teclado é uma \"máquina de escrever\" um pouco mais moderna. Portanto, tudo que entra pelo teclado é considerado pelo Python como texto (ou seja, str). Porém, não podemos \"fazer contas\" com textos. Fazemos contas com números. Portanto, neste caso, precisamos falar para o Python interpretar a nossa entrada como um número. Um bom tipo de dado para \"idade\" seria um número inteiro. Fazemos isso colocando o nome do tipo desejado, e entre parênteses colocamos nosso input:\n",
    "\n"
   ]
  },
  {
   "cell_type": "code",
   "execution_count": 16,
   "metadata": {},
   "outputs": [
    {
     "name": "stdout",
     "output_type": "stream",
     "text": [
      "falta 4 anos para sua maior-idade!\n"
     ]
    }
   ],
   "source": [
    "maior_idade = 18\n",
    "idade = int(input(\"Digite sua idade:\"))\n",
    "print(f\"falta {maior_idade - idade} anos para sua maior-idade!\")"
   ]
  },
  {
   "cell_type": "markdown",
   "metadata": {},
   "source": [
    "Chamamos essa operação de coerção de tipo. Em materiais em inglês você verá essa operação com o nome casting. Tome cuidado: operações de coerção podem resultar em perdas de dados. Se você converter o número float 3.9 para int, ele não arredondará para 4, e sim descartará a parte fracionária, resultando em 3.\n",
    "\n",
    "Neste início, mensagens de erro podem parecer intimidadoras. Elas aparecem em vermelho e frequentemente possuem nomes técnicos e expressões em inglês. Mas crie o hábito de tentar compreendê-las. A partir da versão 3.10 do Python elas se tornaram significativamente mais amigáveis. Elas também indicam a linha com erro. Além disso, se você pesquisar em sites de busca por uma mensagem de erro, provavelmente encontrará diversos exemplos e explicações do que pode tê-la provocado e como consertar!\n",
    "\n",
    "## Expressões aritméticas\n",
    "\n",
    "Como podemos observar no exemplo anterior, o Python faz operações aritméticas de maneira bastante intuitiva, similar ao que estamos acostumados. Os operadores aceitos são:\n",
    "|Operação| Simbolo|\n",
    "|--------|--------|\n",
    "|Soma |+|\n",
    "|Subtração |-|\n",
    "|Multiplicação |*|\n",
    "|Divisão: |/\n",
    "|Divisão inteira |//|\n",
    "|Resto da divisão |%|\n",
    "|Potência|**|\n"
   ]
  },
  {
   "cell_type": "code",
   "execution_count": 17,
   "metadata": {},
   "outputs": [
    {
     "name": "stdout",
     "output_type": "stream",
     "text": [
      "Soma:  7\n",
      "Subtração:  3\n",
      "Multiplicação:  10\n",
      "Divisão:  2.5\n",
      "Divisão Inteira:  2\n",
      "Resto:  1\n",
      "Exponênciação:  25\n"
     ]
    }
   ],
   "source": [
    "a = 5\n",
    "b = 2\n",
    "\n",
    "print(\"Soma: \", a + b)\n",
    "print(\"Subtração: \", a - b)\n",
    "print(\"Multiplicação: \", a * b)\n",
    "print(\"Divisão: \", a / b)\n",
    "print(\"Divisão Inteira: \", a // b)\n",
    "print(\"Resto: \", a % b)\n",
    "print(\"Exponênciação: \", a ** b)"
   ]
  }
 ],
 "metadata": {
  "kernelspec": {
   "display_name": ".venv",
   "language": "python",
   "name": "python3"
  },
  "language_info": {
   "codemirror_mode": {
    "name": "ipython",
    "version": 3
   },
   "file_extension": ".py",
   "mimetype": "text/x-python",
   "name": "python",
   "nbconvert_exporter": "python",
   "pygments_lexer": "ipython3",
   "version": "3.12.3"
  }
 },
 "nbformat": 4,
 "nbformat_minor": 2
}
